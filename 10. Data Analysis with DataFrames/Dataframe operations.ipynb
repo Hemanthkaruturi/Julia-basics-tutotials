{
 "cells": [
  {
   "cell_type": "code",
   "execution_count": 1,
   "id": "9ab8a61f-6db1-4bc9-8601-32405f7c3302",
   "metadata": {},
   "outputs": [],
   "source": [
    "using DataFrames"
   ]
  },
  {
   "cell_type": "code",
   "execution_count": 3,
   "id": "c78a1758-af06-4d01-8864-df1192c41057",
   "metadata": {},
   "outputs": [
    {
     "data": {
      "text/html": [
       "<div><div style = \"float: left;\"><span>5×4 DataFrame</span></div><div style = \"clear: both;\"></div></div><div class = \"data-frame\" style = \"overflow-x: scroll;\"><table class = \"data-frame\" style = \"margin-bottom: 6px;\"><thead><tr class = \"header\"><th class = \"rowNumber\" style = \"font-weight: bold; text-align: right;\">Row</th><th style = \"text-align: left;\">x1</th><th style = \"text-align: left;\">x2</th><th style = \"text-align: left;\">x3</th><th style = \"text-align: left;\">x4</th></tr><tr class = \"subheader headerLastRow\"><th class = \"rowNumber\" style = \"font-weight: bold; text-align: right;\"></th><th title = \"Float64\" style = \"text-align: left;\">Float64</th><th title = \"Float64\" style = \"text-align: left;\">Float64</th><th title = \"Float64\" style = \"text-align: left;\">Float64</th><th title = \"Float64\" style = \"text-align: left;\">Float64</th></tr></thead><tbody><tr><td class = \"rowNumber\" style = \"font-weight: bold; text-align: right;\">1</td><td style = \"text-align: right;\">0.584718</td><td style = \"text-align: right;\">0.281245</td><td style = \"text-align: right;\">0.966474</td><td style = \"text-align: right;\">0.358812</td></tr><tr><td class = \"rowNumber\" style = \"font-weight: bold; text-align: right;\">2</td><td style = \"text-align: right;\">0.481096</td><td style = \"text-align: right;\">0.703756</td><td style = \"text-align: right;\">0.210337</td><td style = \"text-align: right;\">0.87815</td></tr><tr><td class = \"rowNumber\" style = \"font-weight: bold; text-align: right;\">3</td><td style = \"text-align: right;\">0.800746</td><td style = \"text-align: right;\">0.0829404</td><td style = \"text-align: right;\">0.203084</td><td style = \"text-align: right;\">0.500216</td></tr><tr><td class = \"rowNumber\" style = \"font-weight: bold; text-align: right;\">4</td><td style = \"text-align: right;\">0.0226609</td><td style = \"text-align: right;\">0.302161</td><td style = \"text-align: right;\">0.327226</td><td style = \"text-align: right;\">0.96081</td></tr><tr><td class = \"rowNumber\" style = \"font-weight: bold; text-align: right;\">5</td><td style = \"text-align: right;\">0.551904</td><td style = \"text-align: right;\">0.923624</td><td style = \"text-align: right;\">0.807854</td><td style = \"text-align: right;\">0.832743</td></tr></tbody></table></div>"
      ],
      "text/latex": [
       "\\begin{tabular}{r|cccc}\n",
       "\t& x1 & x2 & x3 & x4\\\\\n",
       "\t\\hline\n",
       "\t& Float64 & Float64 & Float64 & Float64\\\\\n",
       "\t\\hline\n",
       "\t1 & 0.584718 & 0.281245 & 0.966474 & 0.358812 \\\\\n",
       "\t2 & 0.481096 & 0.703756 & 0.210337 & 0.87815 \\\\\n",
       "\t3 & 0.800746 & 0.0829404 & 0.203084 & 0.500216 \\\\\n",
       "\t4 & 0.0226609 & 0.302161 & 0.327226 & 0.96081 \\\\\n",
       "\t5 & 0.551904 & 0.923624 & 0.807854 & 0.832743 \\\\\n",
       "\\end{tabular}\n"
      ],
      "text/plain": [
       "\u001b[1m5×4 DataFrame\u001b[0m\n",
       "\u001b[1m Row \u001b[0m│\u001b[1m x1        \u001b[0m\u001b[1m x2        \u001b[0m\u001b[1m x3       \u001b[0m\u001b[1m x4       \u001b[0m\n",
       "     │\u001b[90m Float64   \u001b[0m\u001b[90m Float64   \u001b[0m\u001b[90m Float64  \u001b[0m\u001b[90m Float64  \u001b[0m\n",
       "─────┼──────────────────────────────────────────\n",
       "   1 │ 0.584718   0.281245   0.966474  0.358812\n",
       "   2 │ 0.481096   0.703756   0.210337  0.87815\n",
       "   3 │ 0.800746   0.0829404  0.203084  0.500216\n",
       "   4 │ 0.0226609  0.302161   0.327226  0.96081\n",
       "   5 │ 0.551904   0.923624   0.807854  0.832743"
      ]
     },
     "execution_count": 3,
     "metadata": {},
     "output_type": "execute_result"
    }
   ],
   "source": [
    "df = DataFrame(rand(5,4), :auto)"
   ]
  },
  {
   "cell_type": "code",
   "execution_count": 4,
   "id": "0b6d1f18-e015-4fed-83b3-08cd42dd3039",
   "metadata": {},
   "outputs": [
    {
     "data": {
      "text/html": [
       "<div><div style = \"float: left;\"><span>5×4 DataFrame</span></div><div style = \"clear: both;\"></div></div><div class = \"data-frame\" style = \"overflow-x: scroll;\"><table class = \"data-frame\" style = \"margin-bottom: 6px;\"><thead><tr class = \"header\"><th class = \"rowNumber\" style = \"font-weight: bold; text-align: right;\">Row</th><th style = \"text-align: left;\">c1</th><th style = \"text-align: left;\">x2</th><th style = \"text-align: left;\">x3</th><th style = \"text-align: left;\">x4</th></tr><tr class = \"subheader headerLastRow\"><th class = \"rowNumber\" style = \"font-weight: bold; text-align: right;\"></th><th title = \"Float64\" style = \"text-align: left;\">Float64</th><th title = \"Float64\" style = \"text-align: left;\">Float64</th><th title = \"Float64\" style = \"text-align: left;\">Float64</th><th title = \"Float64\" style = \"text-align: left;\">Float64</th></tr></thead><tbody><tr><td class = \"rowNumber\" style = \"font-weight: bold; text-align: right;\">1</td><td style = \"text-align: right;\">0.584718</td><td style = \"text-align: right;\">0.281245</td><td style = \"text-align: right;\">0.966474</td><td style = \"text-align: right;\">0.358812</td></tr><tr><td class = \"rowNumber\" style = \"font-weight: bold; text-align: right;\">2</td><td style = \"text-align: right;\">0.481096</td><td style = \"text-align: right;\">0.703756</td><td style = \"text-align: right;\">0.210337</td><td style = \"text-align: right;\">0.87815</td></tr><tr><td class = \"rowNumber\" style = \"font-weight: bold; text-align: right;\">3</td><td style = \"text-align: right;\">0.800746</td><td style = \"text-align: right;\">0.0829404</td><td style = \"text-align: right;\">0.203084</td><td style = \"text-align: right;\">0.500216</td></tr><tr><td class = \"rowNumber\" style = \"font-weight: bold; text-align: right;\">4</td><td style = \"text-align: right;\">0.0226609</td><td style = \"text-align: right;\">0.302161</td><td style = \"text-align: right;\">0.327226</td><td style = \"text-align: right;\">0.96081</td></tr><tr><td class = \"rowNumber\" style = \"font-weight: bold; text-align: right;\">5</td><td style = \"text-align: right;\">0.551904</td><td style = \"text-align: right;\">0.923624</td><td style = \"text-align: right;\">0.807854</td><td style = \"text-align: right;\">0.832743</td></tr></tbody></table></div>"
      ],
      "text/latex": [
       "\\begin{tabular}{r|cccc}\n",
       "\t& c1 & x2 & x3 & x4\\\\\n",
       "\t\\hline\n",
       "\t& Float64 & Float64 & Float64 & Float64\\\\\n",
       "\t\\hline\n",
       "\t1 & 0.584718 & 0.281245 & 0.966474 & 0.358812 \\\\\n",
       "\t2 & 0.481096 & 0.703756 & 0.210337 & 0.87815 \\\\\n",
       "\t3 & 0.800746 & 0.0829404 & 0.203084 & 0.500216 \\\\\n",
       "\t4 & 0.0226609 & 0.302161 & 0.327226 & 0.96081 \\\\\n",
       "\t5 & 0.551904 & 0.923624 & 0.807854 & 0.832743 \\\\\n",
       "\\end{tabular}\n"
      ],
      "text/plain": [
       "\u001b[1m5×4 DataFrame\u001b[0m\n",
       "\u001b[1m Row \u001b[0m│\u001b[1m c1        \u001b[0m\u001b[1m x2        \u001b[0m\u001b[1m x3       \u001b[0m\u001b[1m x4       \u001b[0m\n",
       "     │\u001b[90m Float64   \u001b[0m\u001b[90m Float64   \u001b[0m\u001b[90m Float64  \u001b[0m\u001b[90m Float64  \u001b[0m\n",
       "─────┼──────────────────────────────────────────\n",
       "   1 │ 0.584718   0.281245   0.966474  0.358812\n",
       "   2 │ 0.481096   0.703756   0.210337  0.87815\n",
       "   3 │ 0.800746   0.0829404  0.203084  0.500216\n",
       "   4 │ 0.0226609  0.302161   0.327226  0.96081\n",
       "   5 │ 0.551904   0.923624   0.807854  0.832743"
      ]
     },
     "execution_count": 4,
     "metadata": {},
     "output_type": "execute_result"
    }
   ],
   "source": [
    "# rename column names\n",
    "rename(df, :x1 => :c1)"
   ]
  },
  {
   "cell_type": "code",
   "execution_count": 5,
   "id": "34288794-9b87-42c6-86cf-1aef8c896691",
   "metadata": {},
   "outputs": [
    {
     "data": {
      "text/html": [
       "<div><div style = \"float: left;\"><span>5×4 DataFrame</span></div><div style = \"clear: both;\"></div></div><div class = \"data-frame\" style = \"overflow-x: scroll;\"><table class = \"data-frame\" style = \"margin-bottom: 6px;\"><thead><tr class = \"header\"><th class = \"rowNumber\" style = \"font-weight: bold; text-align: right;\">Row</th><th style = \"text-align: left;\">x1</th><th style = \"text-align: left;\">x2</th><th style = \"text-align: left;\">x3</th><th style = \"text-align: left;\">x4</th></tr><tr class = \"subheader headerLastRow\"><th class = \"rowNumber\" style = \"font-weight: bold; text-align: right;\"></th><th title = \"Float64\" style = \"text-align: left;\">Float64</th><th title = \"Float64\" style = \"text-align: left;\">Float64</th><th title = \"Float64\" style = \"text-align: left;\">Float64</th><th title = \"Float64\" style = \"text-align: left;\">Float64</th></tr></thead><tbody><tr><td class = \"rowNumber\" style = \"font-weight: bold; text-align: right;\">1</td><td style = \"text-align: right;\">0.584718</td><td style = \"text-align: right;\">0.281245</td><td style = \"text-align: right;\">0.966474</td><td style = \"text-align: right;\">0.358812</td></tr><tr><td class = \"rowNumber\" style = \"font-weight: bold; text-align: right;\">2</td><td style = \"text-align: right;\">0.481096</td><td style = \"text-align: right;\">0.703756</td><td style = \"text-align: right;\">0.210337</td><td style = \"text-align: right;\">0.87815</td></tr><tr><td class = \"rowNumber\" style = \"font-weight: bold; text-align: right;\">3</td><td style = \"text-align: right;\">0.800746</td><td style = \"text-align: right;\">0.0829404</td><td style = \"text-align: right;\">0.203084</td><td style = \"text-align: right;\">0.500216</td></tr><tr><td class = \"rowNumber\" style = \"font-weight: bold; text-align: right;\">4</td><td style = \"text-align: right;\">0.0226609</td><td style = \"text-align: right;\">0.302161</td><td style = \"text-align: right;\">0.327226</td><td style = \"text-align: right;\">0.96081</td></tr><tr><td class = \"rowNumber\" style = \"font-weight: bold; text-align: right;\">5</td><td style = \"text-align: right;\">0.551904</td><td style = \"text-align: right;\">0.923624</td><td style = \"text-align: right;\">0.807854</td><td style = \"text-align: right;\">0.832743</td></tr></tbody></table></div>"
      ],
      "text/latex": [
       "\\begin{tabular}{r|cccc}\n",
       "\t& x1 & x2 & x3 & x4\\\\\n",
       "\t\\hline\n",
       "\t& Float64 & Float64 & Float64 & Float64\\\\\n",
       "\t\\hline\n",
       "\t1 & 0.584718 & 0.281245 & 0.966474 & 0.358812 \\\\\n",
       "\t2 & 0.481096 & 0.703756 & 0.210337 & 0.87815 \\\\\n",
       "\t3 & 0.800746 & 0.0829404 & 0.203084 & 0.500216 \\\\\n",
       "\t4 & 0.0226609 & 0.302161 & 0.327226 & 0.96081 \\\\\n",
       "\t5 & 0.551904 & 0.923624 & 0.807854 & 0.832743 \\\\\n",
       "\\end{tabular}\n"
      ],
      "text/plain": [
       "\u001b[1m5×4 DataFrame\u001b[0m\n",
       "\u001b[1m Row \u001b[0m│\u001b[1m x1        \u001b[0m\u001b[1m x2        \u001b[0m\u001b[1m x3       \u001b[0m\u001b[1m x4       \u001b[0m\n",
       "     │\u001b[90m Float64   \u001b[0m\u001b[90m Float64   \u001b[0m\u001b[90m Float64  \u001b[0m\u001b[90m Float64  \u001b[0m\n",
       "─────┼──────────────────────────────────────────\n",
       "   1 │ 0.584718   0.281245   0.966474  0.358812\n",
       "   2 │ 0.481096   0.703756   0.210337  0.87815\n",
       "   3 │ 0.800746   0.0829404  0.203084  0.500216\n",
       "   4 │ 0.0226609  0.302161   0.327226  0.96081\n",
       "   5 │ 0.551904   0.923624   0.807854  0.832743"
      ]
     },
     "execution_count": 5,
     "metadata": {},
     "output_type": "execute_result"
    }
   ],
   "source": [
    "df"
   ]
  },
  {
   "cell_type": "code",
   "execution_count": 7,
   "id": "acd9ad7f-b527-46b3-8571-46f32b795122",
   "metadata": {},
   "outputs": [
    {
     "data": {
      "text/html": [
       "<div><div style = \"float: left;\"><span>5×4 DataFrame</span></div><div style = \"clear: both;\"></div></div><div class = \"data-frame\" style = \"overflow-x: scroll;\"><table class = \"data-frame\" style = \"margin-bottom: 6px;\"><thead><tr class = \"header\"><th class = \"rowNumber\" style = \"font-weight: bold; text-align: right;\">Row</th><th style = \"text-align: left;\">c1</th><th style = \"text-align: left;\">x2</th><th style = \"text-align: left;\">x3</th><th style = \"text-align: left;\">x4</th></tr><tr class = \"subheader headerLastRow\"><th class = \"rowNumber\" style = \"font-weight: bold; text-align: right;\"></th><th title = \"Float64\" style = \"text-align: left;\">Float64</th><th title = \"Float64\" style = \"text-align: left;\">Float64</th><th title = \"Float64\" style = \"text-align: left;\">Float64</th><th title = \"Float64\" style = \"text-align: left;\">Float64</th></tr></thead><tbody><tr><td class = \"rowNumber\" style = \"font-weight: bold; text-align: right;\">1</td><td style = \"text-align: right;\">0.584718</td><td style = \"text-align: right;\">0.281245</td><td style = \"text-align: right;\">0.966474</td><td style = \"text-align: right;\">0.358812</td></tr><tr><td class = \"rowNumber\" style = \"font-weight: bold; text-align: right;\">2</td><td style = \"text-align: right;\">0.481096</td><td style = \"text-align: right;\">0.703756</td><td style = \"text-align: right;\">0.210337</td><td style = \"text-align: right;\">0.87815</td></tr><tr><td class = \"rowNumber\" style = \"font-weight: bold; text-align: right;\">3</td><td style = \"text-align: right;\">0.800746</td><td style = \"text-align: right;\">0.0829404</td><td style = \"text-align: right;\">0.203084</td><td style = \"text-align: right;\">0.500216</td></tr><tr><td class = \"rowNumber\" style = \"font-weight: bold; text-align: right;\">4</td><td style = \"text-align: right;\">0.0226609</td><td style = \"text-align: right;\">0.302161</td><td style = \"text-align: right;\">0.327226</td><td style = \"text-align: right;\">0.96081</td></tr><tr><td class = \"rowNumber\" style = \"font-weight: bold; text-align: right;\">5</td><td style = \"text-align: right;\">0.551904</td><td style = \"text-align: right;\">0.923624</td><td style = \"text-align: right;\">0.807854</td><td style = \"text-align: right;\">0.832743</td></tr></tbody></table></div>"
      ],
      "text/latex": [
       "\\begin{tabular}{r|cccc}\n",
       "\t& c1 & x2 & x3 & x4\\\\\n",
       "\t\\hline\n",
       "\t& Float64 & Float64 & Float64 & Float64\\\\\n",
       "\t\\hline\n",
       "\t1 & 0.584718 & 0.281245 & 0.966474 & 0.358812 \\\\\n",
       "\t2 & 0.481096 & 0.703756 & 0.210337 & 0.87815 \\\\\n",
       "\t3 & 0.800746 & 0.0829404 & 0.203084 & 0.500216 \\\\\n",
       "\t4 & 0.0226609 & 0.302161 & 0.327226 & 0.96081 \\\\\n",
       "\t5 & 0.551904 & 0.923624 & 0.807854 & 0.832743 \\\\\n",
       "\\end{tabular}\n"
      ],
      "text/plain": [
       "\u001b[1m5×4 DataFrame\u001b[0m\n",
       "\u001b[1m Row \u001b[0m│\u001b[1m c1        \u001b[0m\u001b[1m x2        \u001b[0m\u001b[1m x3       \u001b[0m\u001b[1m x4       \u001b[0m\n",
       "     │\u001b[90m Float64   \u001b[0m\u001b[90m Float64   \u001b[0m\u001b[90m Float64  \u001b[0m\u001b[90m Float64  \u001b[0m\n",
       "─────┼──────────────────────────────────────────\n",
       "   1 │ 0.584718   0.281245   0.966474  0.358812\n",
       "   2 │ 0.481096   0.703756   0.210337  0.87815\n",
       "   3 │ 0.800746   0.0829404  0.203084  0.500216\n",
       "   4 │ 0.0226609  0.302161   0.327226  0.96081\n",
       "   5 │ 0.551904   0.923624   0.807854  0.832743"
      ]
     },
     "execution_count": 7,
     "metadata": {},
     "output_type": "execute_result"
    }
   ],
   "source": [
    "# change the actual column name in df | very similar to inplace=True in python\n",
    "rename!(df, :x1 => :c1)"
   ]
  },
  {
   "cell_type": "code",
   "execution_count": 8,
   "id": "31c657f1-493d-439c-8213-5158099bb3aa",
   "metadata": {},
   "outputs": [
    {
     "data": {
      "text/html": [
       "<div><div style = \"float: left;\"><span>5×4 DataFrame</span></div><div style = \"clear: both;\"></div></div><div class = \"data-frame\" style = \"overflow-x: scroll;\"><table class = \"data-frame\" style = \"margin-bottom: 6px;\"><thead><tr class = \"header\"><th class = \"rowNumber\" style = \"font-weight: bold; text-align: right;\">Row</th><th style = \"text-align: left;\">c1</th><th style = \"text-align: left;\">x2</th><th style = \"text-align: left;\">x3</th><th style = \"text-align: left;\">x4</th></tr><tr class = \"subheader headerLastRow\"><th class = \"rowNumber\" style = \"font-weight: bold; text-align: right;\"></th><th title = \"Float64\" style = \"text-align: left;\">Float64</th><th title = \"Float64\" style = \"text-align: left;\">Float64</th><th title = \"Float64\" style = \"text-align: left;\">Float64</th><th title = \"Float64\" style = \"text-align: left;\">Float64</th></tr></thead><tbody><tr><td class = \"rowNumber\" style = \"font-weight: bold; text-align: right;\">1</td><td style = \"text-align: right;\">0.584718</td><td style = \"text-align: right;\">0.281245</td><td style = \"text-align: right;\">0.966474</td><td style = \"text-align: right;\">0.358812</td></tr><tr><td class = \"rowNumber\" style = \"font-weight: bold; text-align: right;\">2</td><td style = \"text-align: right;\">0.481096</td><td style = \"text-align: right;\">0.703756</td><td style = \"text-align: right;\">0.210337</td><td style = \"text-align: right;\">0.87815</td></tr><tr><td class = \"rowNumber\" style = \"font-weight: bold; text-align: right;\">3</td><td style = \"text-align: right;\">0.800746</td><td style = \"text-align: right;\">0.0829404</td><td style = \"text-align: right;\">0.203084</td><td style = \"text-align: right;\">0.500216</td></tr><tr><td class = \"rowNumber\" style = \"font-weight: bold; text-align: right;\">4</td><td style = \"text-align: right;\">0.0226609</td><td style = \"text-align: right;\">0.302161</td><td style = \"text-align: right;\">0.327226</td><td style = \"text-align: right;\">0.96081</td></tr><tr><td class = \"rowNumber\" style = \"font-weight: bold; text-align: right;\">5</td><td style = \"text-align: right;\">0.551904</td><td style = \"text-align: right;\">0.923624</td><td style = \"text-align: right;\">0.807854</td><td style = \"text-align: right;\">0.832743</td></tr></tbody></table></div>"
      ],
      "text/latex": [
       "\\begin{tabular}{r|cccc}\n",
       "\t& c1 & x2 & x3 & x4\\\\\n",
       "\t\\hline\n",
       "\t& Float64 & Float64 & Float64 & Float64\\\\\n",
       "\t\\hline\n",
       "\t1 & 0.584718 & 0.281245 & 0.966474 & 0.358812 \\\\\n",
       "\t2 & 0.481096 & 0.703756 & 0.210337 & 0.87815 \\\\\n",
       "\t3 & 0.800746 & 0.0829404 & 0.203084 & 0.500216 \\\\\n",
       "\t4 & 0.0226609 & 0.302161 & 0.327226 & 0.96081 \\\\\n",
       "\t5 & 0.551904 & 0.923624 & 0.807854 & 0.832743 \\\\\n",
       "\\end{tabular}\n"
      ],
      "text/plain": [
       "\u001b[1m5×4 DataFrame\u001b[0m\n",
       "\u001b[1m Row \u001b[0m│\u001b[1m c1        \u001b[0m\u001b[1m x2        \u001b[0m\u001b[1m x3       \u001b[0m\u001b[1m x4       \u001b[0m\n",
       "     │\u001b[90m Float64   \u001b[0m\u001b[90m Float64   \u001b[0m\u001b[90m Float64  \u001b[0m\u001b[90m Float64  \u001b[0m\n",
       "─────┼──────────────────────────────────────────\n",
       "   1 │ 0.584718   0.281245   0.966474  0.358812\n",
       "   2 │ 0.481096   0.703756   0.210337  0.87815\n",
       "   3 │ 0.800746   0.0829404  0.203084  0.500216\n",
       "   4 │ 0.0226609  0.302161   0.327226  0.96081\n",
       "   5 │ 0.551904   0.923624   0.807854  0.832743"
      ]
     },
     "execution_count": 8,
     "metadata": {},
     "output_type": "execute_result"
    }
   ],
   "source": [
    "df"
   ]
  },
  {
   "cell_type": "code",
   "execution_count": 9,
   "id": "57f6aa79-5e6a-4703-b26c-e2846b4926d2",
   "metadata": {},
   "outputs": [
    {
     "data": {
      "text/html": [
       "<div><div style = \"float: left;\"><span>5×4 DataFrame</span></div><div style = \"clear: both;\"></div></div><div class = \"data-frame\" style = \"overflow-x: scroll;\"><table class = \"data-frame\" style = \"margin-bottom: 6px;\"><thead><tr class = \"header\"><th class = \"rowNumber\" style = \"font-weight: bold; text-align: right;\">Row</th><th style = \"text-align: left;\">c1</th><th style = \"text-align: left;\">c2</th><th style = \"text-align: left;\">c3</th><th style = \"text-align: left;\">c4</th></tr><tr class = \"subheader headerLastRow\"><th class = \"rowNumber\" style = \"font-weight: bold; text-align: right;\"></th><th title = \"Float64\" style = \"text-align: left;\">Float64</th><th title = \"Float64\" style = \"text-align: left;\">Float64</th><th title = \"Float64\" style = \"text-align: left;\">Float64</th><th title = \"Float64\" style = \"text-align: left;\">Float64</th></tr></thead><tbody><tr><td class = \"rowNumber\" style = \"font-weight: bold; text-align: right;\">1</td><td style = \"text-align: right;\">0.584718</td><td style = \"text-align: right;\">0.281245</td><td style = \"text-align: right;\">0.966474</td><td style = \"text-align: right;\">0.358812</td></tr><tr><td class = \"rowNumber\" style = \"font-weight: bold; text-align: right;\">2</td><td style = \"text-align: right;\">0.481096</td><td style = \"text-align: right;\">0.703756</td><td style = \"text-align: right;\">0.210337</td><td style = \"text-align: right;\">0.87815</td></tr><tr><td class = \"rowNumber\" style = \"font-weight: bold; text-align: right;\">3</td><td style = \"text-align: right;\">0.800746</td><td style = \"text-align: right;\">0.0829404</td><td style = \"text-align: right;\">0.203084</td><td style = \"text-align: right;\">0.500216</td></tr><tr><td class = \"rowNumber\" style = \"font-weight: bold; text-align: right;\">4</td><td style = \"text-align: right;\">0.0226609</td><td style = \"text-align: right;\">0.302161</td><td style = \"text-align: right;\">0.327226</td><td style = \"text-align: right;\">0.96081</td></tr><tr><td class = \"rowNumber\" style = \"font-weight: bold; text-align: right;\">5</td><td style = \"text-align: right;\">0.551904</td><td style = \"text-align: right;\">0.923624</td><td style = \"text-align: right;\">0.807854</td><td style = \"text-align: right;\">0.832743</td></tr></tbody></table></div>"
      ],
      "text/latex": [
       "\\begin{tabular}{r|cccc}\n",
       "\t& c1 & c2 & c3 & c4\\\\\n",
       "\t\\hline\n",
       "\t& Float64 & Float64 & Float64 & Float64\\\\\n",
       "\t\\hline\n",
       "\t1 & 0.584718 & 0.281245 & 0.966474 & 0.358812 \\\\\n",
       "\t2 & 0.481096 & 0.703756 & 0.210337 & 0.87815 \\\\\n",
       "\t3 & 0.800746 & 0.0829404 & 0.203084 & 0.500216 \\\\\n",
       "\t4 & 0.0226609 & 0.302161 & 0.327226 & 0.96081 \\\\\n",
       "\t5 & 0.551904 & 0.923624 & 0.807854 & 0.832743 \\\\\n",
       "\\end{tabular}\n"
      ],
      "text/plain": [
       "\u001b[1m5×4 DataFrame\u001b[0m\n",
       "\u001b[1m Row \u001b[0m│\u001b[1m c1        \u001b[0m\u001b[1m c2        \u001b[0m\u001b[1m c3       \u001b[0m\u001b[1m c4       \u001b[0m\n",
       "     │\u001b[90m Float64   \u001b[0m\u001b[90m Float64   \u001b[0m\u001b[90m Float64  \u001b[0m\u001b[90m Float64  \u001b[0m\n",
       "─────┼──────────────────────────────────────────\n",
       "   1 │ 0.584718   0.281245   0.966474  0.358812\n",
       "   2 │ 0.481096   0.703756   0.210337  0.87815\n",
       "   3 │ 0.800746   0.0829404  0.203084  0.500216\n",
       "   4 │ 0.0226609  0.302161   0.327226  0.96081\n",
       "   5 │ 0.551904   0.923624   0.807854  0.832743"
      ]
     },
     "execution_count": 9,
     "metadata": {},
     "output_type": "execute_result"
    }
   ],
   "source": [
    "# rename multiple columns\n",
    "rename(df, [:c1, :c2, :c3, :c4])"
   ]
  },
  {
   "cell_type": "code",
   "execution_count": 10,
   "id": "d189c356-d153-46a9-a348-e1ea90bbbe45",
   "metadata": {},
   "outputs": [
    {
     "data": {
      "text/html": [
       "<div><div style = \"float: left;\"><span>5×4 DataFrame</span></div><div style = \"clear: both;\"></div></div><div class = \"data-frame\" style = \"overflow-x: scroll;\"><table class = \"data-frame\" style = \"margin-bottom: 6px;\"><thead><tr class = \"header\"><th class = \"rowNumber\" style = \"font-weight: bold; text-align: right;\">Row</th><th style = \"text-align: left;\">a</th><th style = \"text-align: left;\">b</th><th style = \"text-align: left;\">c</th><th style = \"text-align: left;\">d</th></tr><tr class = \"subheader headerLastRow\"><th class = \"rowNumber\" style = \"font-weight: bold; text-align: right;\"></th><th title = \"Float64\" style = \"text-align: left;\">Float64</th><th title = \"Float64\" style = \"text-align: left;\">Float64</th><th title = \"Float64\" style = \"text-align: left;\">Float64</th><th title = \"Float64\" style = \"text-align: left;\">Float64</th></tr></thead><tbody><tr><td class = \"rowNumber\" style = \"font-weight: bold; text-align: right;\">1</td><td style = \"text-align: right;\">0.584718</td><td style = \"text-align: right;\">0.281245</td><td style = \"text-align: right;\">0.966474</td><td style = \"text-align: right;\">0.358812</td></tr><tr><td class = \"rowNumber\" style = \"font-weight: bold; text-align: right;\">2</td><td style = \"text-align: right;\">0.481096</td><td style = \"text-align: right;\">0.703756</td><td style = \"text-align: right;\">0.210337</td><td style = \"text-align: right;\">0.87815</td></tr><tr><td class = \"rowNumber\" style = \"font-weight: bold; text-align: right;\">3</td><td style = \"text-align: right;\">0.800746</td><td style = \"text-align: right;\">0.0829404</td><td style = \"text-align: right;\">0.203084</td><td style = \"text-align: right;\">0.500216</td></tr><tr><td class = \"rowNumber\" style = \"font-weight: bold; text-align: right;\">4</td><td style = \"text-align: right;\">0.0226609</td><td style = \"text-align: right;\">0.302161</td><td style = \"text-align: right;\">0.327226</td><td style = \"text-align: right;\">0.96081</td></tr><tr><td class = \"rowNumber\" style = \"font-weight: bold; text-align: right;\">5</td><td style = \"text-align: right;\">0.551904</td><td style = \"text-align: right;\">0.923624</td><td style = \"text-align: right;\">0.807854</td><td style = \"text-align: right;\">0.832743</td></tr></tbody></table></div>"
      ],
      "text/latex": [
       "\\begin{tabular}{r|cccc}\n",
       "\t& a & b & c & d\\\\\n",
       "\t\\hline\n",
       "\t& Float64 & Float64 & Float64 & Float64\\\\\n",
       "\t\\hline\n",
       "\t1 & 0.584718 & 0.281245 & 0.966474 & 0.358812 \\\\\n",
       "\t2 & 0.481096 & 0.703756 & 0.210337 & 0.87815 \\\\\n",
       "\t3 & 0.800746 & 0.0829404 & 0.203084 & 0.500216 \\\\\n",
       "\t4 & 0.0226609 & 0.302161 & 0.327226 & 0.96081 \\\\\n",
       "\t5 & 0.551904 & 0.923624 & 0.807854 & 0.832743 \\\\\n",
       "\\end{tabular}\n"
      ],
      "text/plain": [
       "\u001b[1m5×4 DataFrame\u001b[0m\n",
       "\u001b[1m Row \u001b[0m│\u001b[1m a         \u001b[0m\u001b[1m b         \u001b[0m\u001b[1m c        \u001b[0m\u001b[1m d        \u001b[0m\n",
       "     │\u001b[90m Float64   \u001b[0m\u001b[90m Float64   \u001b[0m\u001b[90m Float64  \u001b[0m\u001b[90m Float64  \u001b[0m\n",
       "─────┼──────────────────────────────────────────\n",
       "   1 │ 0.584718   0.281245   0.966474  0.358812\n",
       "   2 │ 0.481096   0.703756   0.210337  0.87815\n",
       "   3 │ 0.800746   0.0829404  0.203084  0.500216\n",
       "   4 │ 0.0226609  0.302161   0.327226  0.96081\n",
       "   5 │ 0.551904   0.923624   0.807854  0.832743"
      ]
     },
     "execution_count": 10,
     "metadata": {},
     "output_type": "execute_result"
    }
   ],
   "source": [
    "rename(df, string.('a':'d'))"
   ]
  },
  {
   "cell_type": "code",
   "execution_count": 11,
   "id": "778d69bc-6b7c-4238-a003-9f4710f10fdc",
   "metadata": {},
   "outputs": [
    {
     "data": {
      "text/html": [
       "<div><div style = \"float: left;\"><span>5×4 DataFrame</span></div><div style = \"clear: both;\"></div></div><div class = \"data-frame\" style = \"overflow-x: scroll;\"><table class = \"data-frame\" style = \"margin-bottom: 6px;\"><thead><tr class = \"header\"><th class = \"rowNumber\" style = \"font-weight: bold; text-align: right;\">Row</th><th style = \"text-align: left;\">x1</th><th style = \"text-align: left;\">x2</th><th style = \"text-align: left;\">x3</th><th style = \"text-align: left;\">x4</th></tr><tr class = \"subheader headerLastRow\"><th class = \"rowNumber\" style = \"font-weight: bold; text-align: right;\"></th><th title = \"Float64\" style = \"text-align: left;\">Float64</th><th title = \"Float64\" style = \"text-align: left;\">Float64</th><th title = \"Float64\" style = \"text-align: left;\">Float64</th><th title = \"Float64\" style = \"text-align: left;\">Float64</th></tr></thead><tbody><tr><td class = \"rowNumber\" style = \"font-weight: bold; text-align: right;\">1</td><td style = \"text-align: right;\">0.378514</td><td style = \"text-align: right;\">0.657915</td><td style = \"text-align: right;\">0.769271</td><td style = \"text-align: right;\">0.0420489</td></tr><tr><td class = \"rowNumber\" style = \"font-weight: bold; text-align: right;\">2</td><td style = \"text-align: right;\">0.346986</td><td style = \"text-align: right;\">0.993005</td><td style = \"text-align: right;\">0.78662</td><td style = \"text-align: right;\">0.90833</td></tr><tr><td class = \"rowNumber\" style = \"font-weight: bold; text-align: right;\">3</td><td style = \"text-align: right;\">0.289355</td><td style = \"text-align: right;\">0.243077</td><td style = \"text-align: right;\">0.207022</td><td style = \"text-align: right;\">0.720437</td></tr><tr><td class = \"rowNumber\" style = \"font-weight: bold; text-align: right;\">4</td><td style = \"text-align: right;\">0.464772</td><td style = \"text-align: right;\">0.0345357</td><td style = \"text-align: right;\">0.300769</td><td style = \"text-align: right;\">0.123455</td></tr><tr><td class = \"rowNumber\" style = \"font-weight: bold; text-align: right;\">5</td><td style = \"text-align: right;\">0.464133</td><td style = \"text-align: right;\">0.160378</td><td style = \"text-align: right;\">0.44396</td><td style = \"text-align: right;\">0.252177</td></tr></tbody></table></div>"
      ],
      "text/latex": [
       "\\begin{tabular}{r|cccc}\n",
       "\t& x1 & x2 & x3 & x4\\\\\n",
       "\t\\hline\n",
       "\t& Float64 & Float64 & Float64 & Float64\\\\\n",
       "\t\\hline\n",
       "\t1 & 0.378514 & 0.657915 & 0.769271 & 0.0420489 \\\\\n",
       "\t2 & 0.346986 & 0.993005 & 0.78662 & 0.90833 \\\\\n",
       "\t3 & 0.289355 & 0.243077 & 0.207022 & 0.720437 \\\\\n",
       "\t4 & 0.464772 & 0.0345357 & 0.300769 & 0.123455 \\\\\n",
       "\t5 & 0.464133 & 0.160378 & 0.44396 & 0.252177 \\\\\n",
       "\\end{tabular}\n"
      ],
      "text/plain": [
       "\u001b[1m5×4 DataFrame\u001b[0m\n",
       "\u001b[1m Row \u001b[0m│\u001b[1m x1       \u001b[0m\u001b[1m x2        \u001b[0m\u001b[1m x3       \u001b[0m\u001b[1m x4        \u001b[0m\n",
       "     │\u001b[90m Float64  \u001b[0m\u001b[90m Float64   \u001b[0m\u001b[90m Float64  \u001b[0m\u001b[90m Float64   \u001b[0m\n",
       "─────┼──────────────────────────────────────────\n",
       "   1 │ 0.378514  0.657915   0.769271  0.0420489\n",
       "   2 │ 0.346986  0.993005   0.78662   0.90833\n",
       "   3 │ 0.289355  0.243077   0.207022  0.720437\n",
       "   4 │ 0.464772  0.0345357  0.300769  0.123455\n",
       "   5 │ 0.464133  0.160378   0.44396   0.252177"
      ]
     },
     "execution_count": 11,
     "metadata": {},
     "output_type": "execute_result"
    }
   ],
   "source": [
    "df2 = DataFrame(rand(5,4), :auto)"
   ]
  },
  {
   "cell_type": "code",
   "execution_count": 13,
   "id": "22404be2-8594-4151-81da-4edce735593e",
   "metadata": {},
   "outputs": [
    {
     "data": {
      "text/html": [
       "<div><div style = \"float: left;\"><span>5×8 DataFrame</span></div><div style = \"clear: both;\"></div></div><div class = \"data-frame\" style = \"overflow-x: scroll;\"><table class = \"data-frame\" style = \"margin-bottom: 6px;\"><thead><tr class = \"header\"><th class = \"rowNumber\" style = \"font-weight: bold; text-align: right;\">Row</th><th style = \"text-align: left;\">c1</th><th style = \"text-align: left;\">x2</th><th style = \"text-align: left;\">x3</th><th style = \"text-align: left;\">x4</th><th style = \"text-align: left;\">x1</th><th style = \"text-align: left;\">x2_1</th><th style = \"text-align: left;\">x3_1</th><th style = \"text-align: left;\">x4_1</th></tr><tr class = \"subheader headerLastRow\"><th class = \"rowNumber\" style = \"font-weight: bold; text-align: right;\"></th><th title = \"Float64\" style = \"text-align: left;\">Float64</th><th title = \"Float64\" style = \"text-align: left;\">Float64</th><th title = \"Float64\" style = \"text-align: left;\">Float64</th><th title = \"Float64\" style = \"text-align: left;\">Float64</th><th title = \"Float64\" style = \"text-align: left;\">Float64</th><th title = \"Float64\" style = \"text-align: left;\">Float64</th><th title = \"Float64\" style = \"text-align: left;\">Float64</th><th title = \"Float64\" style = \"text-align: left;\">Float64</th></tr></thead><tbody><tr><td class = \"rowNumber\" style = \"font-weight: bold; text-align: right;\">1</td><td style = \"text-align: right;\">0.584718</td><td style = \"text-align: right;\">0.281245</td><td style = \"text-align: right;\">0.966474</td><td style = \"text-align: right;\">0.358812</td><td style = \"text-align: right;\">0.378514</td><td style = \"text-align: right;\">0.657915</td><td style = \"text-align: right;\">0.769271</td><td style = \"text-align: right;\">0.0420489</td></tr><tr><td class = \"rowNumber\" style = \"font-weight: bold; text-align: right;\">2</td><td style = \"text-align: right;\">0.481096</td><td style = \"text-align: right;\">0.703756</td><td style = \"text-align: right;\">0.210337</td><td style = \"text-align: right;\">0.87815</td><td style = \"text-align: right;\">0.346986</td><td style = \"text-align: right;\">0.993005</td><td style = \"text-align: right;\">0.78662</td><td style = \"text-align: right;\">0.90833</td></tr><tr><td class = \"rowNumber\" style = \"font-weight: bold; text-align: right;\">3</td><td style = \"text-align: right;\">0.800746</td><td style = \"text-align: right;\">0.0829404</td><td style = \"text-align: right;\">0.203084</td><td style = \"text-align: right;\">0.500216</td><td style = \"text-align: right;\">0.289355</td><td style = \"text-align: right;\">0.243077</td><td style = \"text-align: right;\">0.207022</td><td style = \"text-align: right;\">0.720437</td></tr><tr><td class = \"rowNumber\" style = \"font-weight: bold; text-align: right;\">4</td><td style = \"text-align: right;\">0.0226609</td><td style = \"text-align: right;\">0.302161</td><td style = \"text-align: right;\">0.327226</td><td style = \"text-align: right;\">0.96081</td><td style = \"text-align: right;\">0.464772</td><td style = \"text-align: right;\">0.0345357</td><td style = \"text-align: right;\">0.300769</td><td style = \"text-align: right;\">0.123455</td></tr><tr><td class = \"rowNumber\" style = \"font-weight: bold; text-align: right;\">5</td><td style = \"text-align: right;\">0.551904</td><td style = \"text-align: right;\">0.923624</td><td style = \"text-align: right;\">0.807854</td><td style = \"text-align: right;\">0.832743</td><td style = \"text-align: right;\">0.464133</td><td style = \"text-align: right;\">0.160378</td><td style = \"text-align: right;\">0.44396</td><td style = \"text-align: right;\">0.252177</td></tr></tbody></table></div>"
      ],
      "text/latex": [
       "\\begin{tabular}{r|cccccccc}\n",
       "\t& c1 & x2 & x3 & x4 & x1 & x2\\_1 & x3\\_1 & x4\\_1\\\\\n",
       "\t\\hline\n",
       "\t& Float64 & Float64 & Float64 & Float64 & Float64 & Float64 & Float64 & Float64\\\\\n",
       "\t\\hline\n",
       "\t1 & 0.584718 & 0.281245 & 0.966474 & 0.358812 & 0.378514 & 0.657915 & 0.769271 & 0.0420489 \\\\\n",
       "\t2 & 0.481096 & 0.703756 & 0.210337 & 0.87815 & 0.346986 & 0.993005 & 0.78662 & 0.90833 \\\\\n",
       "\t3 & 0.800746 & 0.0829404 & 0.203084 & 0.500216 & 0.289355 & 0.243077 & 0.207022 & 0.720437 \\\\\n",
       "\t4 & 0.0226609 & 0.302161 & 0.327226 & 0.96081 & 0.464772 & 0.0345357 & 0.300769 & 0.123455 \\\\\n",
       "\t5 & 0.551904 & 0.923624 & 0.807854 & 0.832743 & 0.464133 & 0.160378 & 0.44396 & 0.252177 \\\\\n",
       "\\end{tabular}\n"
      ],
      "text/plain": [
       "\u001b[1m5×8 DataFrame\u001b[0m\n",
       "\u001b[1m Row \u001b[0m│\u001b[1m c1        \u001b[0m\u001b[1m x2        \u001b[0m\u001b[1m x3       \u001b[0m\u001b[1m x4       \u001b[0m\u001b[1m x1       \u001b[0m\u001b[1m x2_1      \u001b[0m\u001b[1m x3_1    \u001b[0m ⋯\n",
       "     │\u001b[90m Float64   \u001b[0m\u001b[90m Float64   \u001b[0m\u001b[90m Float64  \u001b[0m\u001b[90m Float64  \u001b[0m\u001b[90m Float64  \u001b[0m\u001b[90m Float64   \u001b[0m\u001b[90m Float64 \u001b[0m ⋯\n",
       "─────┼──────────────────────────────────────────────────────────────────────────\n",
       "   1 │ 0.584718   0.281245   0.966474  0.358812  0.378514  0.657915   0.769271 ⋯\n",
       "   2 │ 0.481096   0.703756   0.210337  0.87815   0.346986  0.993005   0.78662\n",
       "   3 │ 0.800746   0.0829404  0.203084  0.500216  0.289355  0.243077   0.207022\n",
       "   4 │ 0.0226609  0.302161   0.327226  0.96081   0.464772  0.0345357  0.300769\n",
       "   5 │ 0.551904   0.923624   0.807854  0.832743  0.464133  0.160378   0.44396  ⋯\n",
       "\u001b[36m                                                                1 column omitted\u001b[0m"
      ]
     },
     "execution_count": 13,
     "metadata": {},
     "output_type": "execute_result"
    }
   ],
   "source": [
    "# concat\n",
    "hcat(df, df2, makeunique=true) # since column names are same we need add makeunique=true"
   ]
  },
  {
   "cell_type": "code",
   "execution_count": 14,
   "id": "18ecfd79-d5fb-48db-bb6a-59cb7f53aa34",
   "metadata": {},
   "outputs": [
    {
     "data": {
      "text/html": [
       "<div><div style = \"float: left;\"><span>5×4 DataFrame</span></div><div style = \"clear: both;\"></div></div><div class = \"data-frame\" style = \"overflow-x: scroll;\"><table class = \"data-frame\" style = \"margin-bottom: 6px;\"><thead><tr class = \"header\"><th class = \"rowNumber\" style = \"font-weight: bold; text-align: right;\">Row</th><th style = \"text-align: left;\">x1</th><th style = \"text-align: left;\">x2</th><th style = \"text-align: left;\">x3</th><th style = \"text-align: left;\">x4</th></tr><tr class = \"subheader headerLastRow\"><th class = \"rowNumber\" style = \"font-weight: bold; text-align: right;\"></th><th title = \"Float64\" style = \"text-align: left;\">Float64</th><th title = \"Float64\" style = \"text-align: left;\">Float64</th><th title = \"Float64\" style = \"text-align: left;\">Float64</th><th title = \"Float64\" style = \"text-align: left;\">Float64</th></tr></thead><tbody><tr><td class = \"rowNumber\" style = \"font-weight: bold; text-align: right;\">1</td><td style = \"text-align: right;\">0.514116</td><td style = \"text-align: right;\">0.13736</td><td style = \"text-align: right;\">0.576942</td><td style = \"text-align: right;\">0.438443</td></tr><tr><td class = \"rowNumber\" style = \"font-weight: bold; text-align: right;\">2</td><td style = \"text-align: right;\">0.678993</td><td style = \"text-align: right;\">0.459289</td><td style = \"text-align: right;\">0.131994</td><td style = \"text-align: right;\">0.0384278</td></tr><tr><td class = \"rowNumber\" style = \"font-weight: bold; text-align: right;\">3</td><td style = \"text-align: right;\">0.167469</td><td style = \"text-align: right;\">0.0629602</td><td style = \"text-align: right;\">0.941787</td><td style = \"text-align: right;\">0.842492</td></tr><tr><td class = \"rowNumber\" style = \"font-weight: bold; text-align: right;\">4</td><td style = \"text-align: right;\">0.800786</td><td style = \"text-align: right;\">0.880251</td><td style = \"text-align: right;\">0.563756</td><td style = \"text-align: right;\">0.74347</td></tr><tr><td class = \"rowNumber\" style = \"font-weight: bold; text-align: right;\">5</td><td style = \"text-align: right;\">0.323841</td><td style = \"text-align: right;\">0.395436</td><td style = \"text-align: right;\">0.893221</td><td style = \"text-align: right;\">0.504974</td></tr></tbody></table></div>"
      ],
      "text/latex": [
       "\\begin{tabular}{r|cccc}\n",
       "\t& x1 & x2 & x3 & x4\\\\\n",
       "\t\\hline\n",
       "\t& Float64 & Float64 & Float64 & Float64\\\\\n",
       "\t\\hline\n",
       "\t1 & 0.514116 & 0.13736 & 0.576942 & 0.438443 \\\\\n",
       "\t2 & 0.678993 & 0.459289 & 0.131994 & 0.0384278 \\\\\n",
       "\t3 & 0.167469 & 0.0629602 & 0.941787 & 0.842492 \\\\\n",
       "\t4 & 0.800786 & 0.880251 & 0.563756 & 0.74347 \\\\\n",
       "\t5 & 0.323841 & 0.395436 & 0.893221 & 0.504974 \\\\\n",
       "\\end{tabular}\n"
      ],
      "text/plain": [
       "\u001b[1m5×4 DataFrame\u001b[0m\n",
       "\u001b[1m Row \u001b[0m│\u001b[1m x1       \u001b[0m\u001b[1m x2        \u001b[0m\u001b[1m x3       \u001b[0m\u001b[1m x4        \u001b[0m\n",
       "     │\u001b[90m Float64  \u001b[0m\u001b[90m Float64   \u001b[0m\u001b[90m Float64  \u001b[0m\u001b[90m Float64   \u001b[0m\n",
       "─────┼──────────────────────────────────────────\n",
       "   1 │ 0.514116  0.13736    0.576942  0.438443\n",
       "   2 │ 0.678993  0.459289   0.131994  0.0384278\n",
       "   3 │ 0.167469  0.0629602  0.941787  0.842492\n",
       "   4 │ 0.800786  0.880251   0.563756  0.74347\n",
       "   5 │ 0.323841  0.395436   0.893221  0.504974"
      ]
     },
     "execution_count": 14,
     "metadata": {},
     "output_type": "execute_result"
    }
   ],
   "source": [
    "df1 = DataFrame(rand(5,4), :auto)\n",
    "df2 = DataFrame(rand(5,4), :auto)"
   ]
  },
  {
   "cell_type": "code",
   "execution_count": 16,
   "id": "2afa27c3-cc7a-4732-9c52-d377ede6d93d",
   "metadata": {},
   "outputs": [
    {
     "data": {
      "text/html": [
       "<div><div style = \"float: left;\"><span>5×8 DataFrame</span></div><div style = \"clear: both;\"></div></div><div class = \"data-frame\" style = \"overflow-x: scroll;\"><table class = \"data-frame\" style = \"margin-bottom: 6px;\"><thead><tr class = \"header\"><th class = \"rowNumber\" style = \"font-weight: bold; text-align: right;\">Row</th><th style = \"text-align: left;\">x1</th><th style = \"text-align: left;\">x2</th><th style = \"text-align: left;\">x3</th><th style = \"text-align: left;\">x4</th><th style = \"text-align: left;\">x1_1</th><th style = \"text-align: left;\">x2_1</th><th style = \"text-align: left;\">x3_1</th><th style = \"text-align: left;\">x4_1</th></tr><tr class = \"subheader headerLastRow\"><th class = \"rowNumber\" style = \"font-weight: bold; text-align: right;\"></th><th title = \"Float64\" style = \"text-align: left;\">Float64</th><th title = \"Float64\" style = \"text-align: left;\">Float64</th><th title = \"Float64\" style = \"text-align: left;\">Float64</th><th title = \"Float64\" style = \"text-align: left;\">Float64</th><th title = \"Float64\" style = \"text-align: left;\">Float64</th><th title = \"Float64\" style = \"text-align: left;\">Float64</th><th title = \"Float64\" style = \"text-align: left;\">Float64</th><th title = \"Float64\" style = \"text-align: left;\">Float64</th></tr></thead><tbody><tr><td class = \"rowNumber\" style = \"font-weight: bold; text-align: right;\">1</td><td style = \"text-align: right;\">0.554671</td><td style = \"text-align: right;\">0.0713762</td><td style = \"text-align: right;\">0.958493</td><td style = \"text-align: right;\">0.332333</td><td style = \"text-align: right;\">0.514116</td><td style = \"text-align: right;\">0.13736</td><td style = \"text-align: right;\">0.576942</td><td style = \"text-align: right;\">0.438443</td></tr><tr><td class = \"rowNumber\" style = \"font-weight: bold; text-align: right;\">2</td><td style = \"text-align: right;\">0.966095</td><td style = \"text-align: right;\">0.117833</td><td style = \"text-align: right;\">0.814359</td><td style = \"text-align: right;\">0.0909485</td><td style = \"text-align: right;\">0.678993</td><td style = \"text-align: right;\">0.459289</td><td style = \"text-align: right;\">0.131994</td><td style = \"text-align: right;\">0.0384278</td></tr><tr><td class = \"rowNumber\" style = \"font-weight: bold; text-align: right;\">3</td><td style = \"text-align: right;\">0.961292</td><td style = \"text-align: right;\">0.463992</td><td style = \"text-align: right;\">0.124803</td><td style = \"text-align: right;\">0.49366</td><td style = \"text-align: right;\">0.167469</td><td style = \"text-align: right;\">0.0629602</td><td style = \"text-align: right;\">0.941787</td><td style = \"text-align: right;\">0.842492</td></tr><tr><td class = \"rowNumber\" style = \"font-weight: bold; text-align: right;\">4</td><td style = \"text-align: right;\">0.818522</td><td style = \"text-align: right;\">0.751793</td><td style = \"text-align: right;\">0.293685</td><td style = \"text-align: right;\">0.322744</td><td style = \"text-align: right;\">0.800786</td><td style = \"text-align: right;\">0.880251</td><td style = \"text-align: right;\">0.563756</td><td style = \"text-align: right;\">0.74347</td></tr><tr><td class = \"rowNumber\" style = \"font-weight: bold; text-align: right;\">5</td><td style = \"text-align: right;\">0.331166</td><td style = \"text-align: right;\">0.219655</td><td style = \"text-align: right;\">0.424902</td><td style = \"text-align: right;\">0.535013</td><td style = \"text-align: right;\">0.323841</td><td style = \"text-align: right;\">0.395436</td><td style = \"text-align: right;\">0.893221</td><td style = \"text-align: right;\">0.504974</td></tr></tbody></table></div>"
      ],
      "text/latex": [
       "\\begin{tabular}{r|cccccccc}\n",
       "\t& x1 & x2 & x3 & x4 & x1\\_1 & x2\\_1 & x3\\_1 & x4\\_1\\\\\n",
       "\t\\hline\n",
       "\t& Float64 & Float64 & Float64 & Float64 & Float64 & Float64 & Float64 & Float64\\\\\n",
       "\t\\hline\n",
       "\t1 & 0.554671 & 0.0713762 & 0.958493 & 0.332333 & 0.514116 & 0.13736 & 0.576942 & 0.438443 \\\\\n",
       "\t2 & 0.966095 & 0.117833 & 0.814359 & 0.0909485 & 0.678993 & 0.459289 & 0.131994 & 0.0384278 \\\\\n",
       "\t3 & 0.961292 & 0.463992 & 0.124803 & 0.49366 & 0.167469 & 0.0629602 & 0.941787 & 0.842492 \\\\\n",
       "\t4 & 0.818522 & 0.751793 & 0.293685 & 0.322744 & 0.800786 & 0.880251 & 0.563756 & 0.74347 \\\\\n",
       "\t5 & 0.331166 & 0.219655 & 0.424902 & 0.535013 & 0.323841 & 0.395436 & 0.893221 & 0.504974 \\\\\n",
       "\\end{tabular}\n"
      ],
      "text/plain": [
       "\u001b[1m5×8 DataFrame\u001b[0m\n",
       "\u001b[1m Row \u001b[0m│\u001b[1m x1       \u001b[0m\u001b[1m x2        \u001b[0m\u001b[1m x3       \u001b[0m\u001b[1m x4        \u001b[0m\u001b[1m x1_1     \u001b[0m\u001b[1m x2_1      \u001b[0m\u001b[1m x3_1    \u001b[0m ⋯\n",
       "     │\u001b[90m Float64  \u001b[0m\u001b[90m Float64   \u001b[0m\u001b[90m Float64  \u001b[0m\u001b[90m Float64   \u001b[0m\u001b[90m Float64  \u001b[0m\u001b[90m Float64   \u001b[0m\u001b[90m Float64 \u001b[0m ⋯\n",
       "─────┼──────────────────────────────────────────────────────────────────────────\n",
       "   1 │ 0.554671  0.0713762  0.958493  0.332333   0.514116  0.13736    0.576942 ⋯\n",
       "   2 │ 0.966095  0.117833   0.814359  0.0909485  0.678993  0.459289   0.131994\n",
       "   3 │ 0.961292  0.463992   0.124803  0.49366    0.167469  0.0629602  0.941787\n",
       "   4 │ 0.818522  0.751793   0.293685  0.322744   0.800786  0.880251   0.563756\n",
       "   5 │ 0.331166  0.219655   0.424902  0.535013   0.323841  0.395436   0.893221 ⋯\n",
       "\u001b[36m                                                                1 column omitted\u001b[0m"
      ]
     },
     "execution_count": 16,
     "metadata": {},
     "output_type": "execute_result"
    }
   ],
   "source": [
    "# if both df have same column names then this will work perfectly\n",
    "hcat(df1, df2, makeunique=true)"
   ]
  },
  {
   "cell_type": "code",
   "execution_count": 17,
   "id": "9ca5fd73-05dc-4028-83a4-173d5606ec5a",
   "metadata": {},
   "outputs": [
    {
     "data": {
      "text/html": [
       "<div><div style = \"float: left;\"><span>10×4 DataFrame</span></div><div style = \"clear: both;\"></div></div><div class = \"data-frame\" style = \"overflow-x: scroll;\"><table class = \"data-frame\" style = \"margin-bottom: 6px;\"><thead><tr class = \"header\"><th class = \"rowNumber\" style = \"font-weight: bold; text-align: right;\">Row</th><th style = \"text-align: left;\">x1</th><th style = \"text-align: left;\">x2</th><th style = \"text-align: left;\">x3</th><th style = \"text-align: left;\">x4</th></tr><tr class = \"subheader headerLastRow\"><th class = \"rowNumber\" style = \"font-weight: bold; text-align: right;\"></th><th title = \"Float64\" style = \"text-align: left;\">Float64</th><th title = \"Float64\" style = \"text-align: left;\">Float64</th><th title = \"Float64\" style = \"text-align: left;\">Float64</th><th title = \"Float64\" style = \"text-align: left;\">Float64</th></tr></thead><tbody><tr><td class = \"rowNumber\" style = \"font-weight: bold; text-align: right;\">1</td><td style = \"text-align: right;\">0.554671</td><td style = \"text-align: right;\">0.0713762</td><td style = \"text-align: right;\">0.958493</td><td style = \"text-align: right;\">0.332333</td></tr><tr><td class = \"rowNumber\" style = \"font-weight: bold; text-align: right;\">2</td><td style = \"text-align: right;\">0.966095</td><td style = \"text-align: right;\">0.117833</td><td style = \"text-align: right;\">0.814359</td><td style = \"text-align: right;\">0.0909485</td></tr><tr><td class = \"rowNumber\" style = \"font-weight: bold; text-align: right;\">3</td><td style = \"text-align: right;\">0.961292</td><td style = \"text-align: right;\">0.463992</td><td style = \"text-align: right;\">0.124803</td><td style = \"text-align: right;\">0.49366</td></tr><tr><td class = \"rowNumber\" style = \"font-weight: bold; text-align: right;\">4</td><td style = \"text-align: right;\">0.818522</td><td style = \"text-align: right;\">0.751793</td><td style = \"text-align: right;\">0.293685</td><td style = \"text-align: right;\">0.322744</td></tr><tr><td class = \"rowNumber\" style = \"font-weight: bold; text-align: right;\">5</td><td style = \"text-align: right;\">0.331166</td><td style = \"text-align: right;\">0.219655</td><td style = \"text-align: right;\">0.424902</td><td style = \"text-align: right;\">0.535013</td></tr><tr><td class = \"rowNumber\" style = \"font-weight: bold; text-align: right;\">6</td><td style = \"text-align: right;\">0.514116</td><td style = \"text-align: right;\">0.13736</td><td style = \"text-align: right;\">0.576942</td><td style = \"text-align: right;\">0.438443</td></tr><tr><td class = \"rowNumber\" style = \"font-weight: bold; text-align: right;\">7</td><td style = \"text-align: right;\">0.678993</td><td style = \"text-align: right;\">0.459289</td><td style = \"text-align: right;\">0.131994</td><td style = \"text-align: right;\">0.0384278</td></tr><tr><td class = \"rowNumber\" style = \"font-weight: bold; text-align: right;\">8</td><td style = \"text-align: right;\">0.167469</td><td style = \"text-align: right;\">0.0629602</td><td style = \"text-align: right;\">0.941787</td><td style = \"text-align: right;\">0.842492</td></tr><tr><td class = \"rowNumber\" style = \"font-weight: bold; text-align: right;\">9</td><td style = \"text-align: right;\">0.800786</td><td style = \"text-align: right;\">0.880251</td><td style = \"text-align: right;\">0.563756</td><td style = \"text-align: right;\">0.74347</td></tr><tr><td class = \"rowNumber\" style = \"font-weight: bold; text-align: right;\">10</td><td style = \"text-align: right;\">0.323841</td><td style = \"text-align: right;\">0.395436</td><td style = \"text-align: right;\">0.893221</td><td style = \"text-align: right;\">0.504974</td></tr></tbody></table></div>"
      ],
      "text/latex": [
       "\\begin{tabular}{r|cccc}\n",
       "\t& x1 & x2 & x3 & x4\\\\\n",
       "\t\\hline\n",
       "\t& Float64 & Float64 & Float64 & Float64\\\\\n",
       "\t\\hline\n",
       "\t1 & 0.554671 & 0.0713762 & 0.958493 & 0.332333 \\\\\n",
       "\t2 & 0.966095 & 0.117833 & 0.814359 & 0.0909485 \\\\\n",
       "\t3 & 0.961292 & 0.463992 & 0.124803 & 0.49366 \\\\\n",
       "\t4 & 0.818522 & 0.751793 & 0.293685 & 0.322744 \\\\\n",
       "\t5 & 0.331166 & 0.219655 & 0.424902 & 0.535013 \\\\\n",
       "\t6 & 0.514116 & 0.13736 & 0.576942 & 0.438443 \\\\\n",
       "\t7 & 0.678993 & 0.459289 & 0.131994 & 0.0384278 \\\\\n",
       "\t8 & 0.167469 & 0.0629602 & 0.941787 & 0.842492 \\\\\n",
       "\t9 & 0.800786 & 0.880251 & 0.563756 & 0.74347 \\\\\n",
       "\t10 & 0.323841 & 0.395436 & 0.893221 & 0.504974 \\\\\n",
       "\\end{tabular}\n"
      ],
      "text/plain": [
       "\u001b[1m10×4 DataFrame\u001b[0m\n",
       "\u001b[1m Row \u001b[0m│\u001b[1m x1       \u001b[0m\u001b[1m x2        \u001b[0m\u001b[1m x3       \u001b[0m\u001b[1m x4        \u001b[0m\n",
       "     │\u001b[90m Float64  \u001b[0m\u001b[90m Float64   \u001b[0m\u001b[90m Float64  \u001b[0m\u001b[90m Float64   \u001b[0m\n",
       "─────┼──────────────────────────────────────────\n",
       "   1 │ 0.554671  0.0713762  0.958493  0.332333\n",
       "   2 │ 0.966095  0.117833   0.814359  0.0909485\n",
       "   3 │ 0.961292  0.463992   0.124803  0.49366\n",
       "   4 │ 0.818522  0.751793   0.293685  0.322744\n",
       "   5 │ 0.331166  0.219655   0.424902  0.535013\n",
       "   6 │ 0.514116  0.13736    0.576942  0.438443\n",
       "   7 │ 0.678993  0.459289   0.131994  0.0384278\n",
       "   8 │ 0.167469  0.0629602  0.941787  0.842492\n",
       "   9 │ 0.800786  0.880251   0.563756  0.74347\n",
       "  10 │ 0.323841  0.395436   0.893221  0.504974"
      ]
     },
     "execution_count": 17,
     "metadata": {},
     "output_type": "execute_result"
    }
   ],
   "source": [
    "vcat(df1, df2)"
   ]
  },
  {
   "cell_type": "code",
   "execution_count": 20,
   "id": "d5b5d574-d69c-4c4a-8a73-13f168fae39b",
   "metadata": {},
   "outputs": [
    {
     "data": {
      "text/html": [
       "<div><div style = \"float: left;\"><span>5×5 DataFrame</span></div><div style = \"clear: both;\"></div></div><div class = \"data-frame\" style = \"overflow-x: scroll;\"><table class = \"data-frame\" style = \"margin-bottom: 6px;\"><thead><tr class = \"header\"><th class = \"rowNumber\" style = \"font-weight: bold; text-align: right;\">Row</th><th style = \"text-align: left;\">x1</th><th style = \"text-align: left;\">x2</th><th style = \"text-align: left;\">x3</th><th style = \"text-align: left;\">x4</th><th style = \"text-align: left;\">A</th></tr><tr class = \"subheader headerLastRow\"><th class = \"rowNumber\" style = \"font-weight: bold; text-align: right;\"></th><th title = \"Float64\" style = \"text-align: left;\">Float64</th><th title = \"Float64\" style = \"text-align: left;\">Float64</th><th title = \"Float64\" style = \"text-align: left;\">Float64</th><th title = \"Float64\" style = \"text-align: left;\">Float64</th><th title = \"Int64\" style = \"text-align: left;\">Int64</th></tr></thead><tbody><tr><td class = \"rowNumber\" style = \"font-weight: bold; text-align: right;\">1</td><td style = \"text-align: right;\">0.554671</td><td style = \"text-align: right;\">0.0713762</td><td style = \"text-align: right;\">0.958493</td><td style = \"text-align: right;\">0.332333</td><td style = \"text-align: right;\">1</td></tr><tr><td class = \"rowNumber\" style = \"font-weight: bold; text-align: right;\">2</td><td style = \"text-align: right;\">0.966095</td><td style = \"text-align: right;\">0.117833</td><td style = \"text-align: right;\">0.814359</td><td style = \"text-align: right;\">0.0909485</td><td style = \"text-align: right;\">2</td></tr><tr><td class = \"rowNumber\" style = \"font-weight: bold; text-align: right;\">3</td><td style = \"text-align: right;\">0.961292</td><td style = \"text-align: right;\">0.463992</td><td style = \"text-align: right;\">0.124803</td><td style = \"text-align: right;\">0.49366</td><td style = \"text-align: right;\">3</td></tr><tr><td class = \"rowNumber\" style = \"font-weight: bold; text-align: right;\">4</td><td style = \"text-align: right;\">0.818522</td><td style = \"text-align: right;\">0.751793</td><td style = \"text-align: right;\">0.293685</td><td style = \"text-align: right;\">0.322744</td><td style = \"text-align: right;\">4</td></tr><tr><td class = \"rowNumber\" style = \"font-weight: bold; text-align: right;\">5</td><td style = \"text-align: right;\">0.331166</td><td style = \"text-align: right;\">0.219655</td><td style = \"text-align: right;\">0.424902</td><td style = \"text-align: right;\">0.535013</td><td style = \"text-align: right;\">5</td></tr></tbody></table></div>"
      ],
      "text/latex": [
       "\\begin{tabular}{r|ccccc}\n",
       "\t& x1 & x2 & x3 & x4 & A\\\\\n",
       "\t\\hline\n",
       "\t& Float64 & Float64 & Float64 & Float64 & Int64\\\\\n",
       "\t\\hline\n",
       "\t1 & 0.554671 & 0.0713762 & 0.958493 & 0.332333 & 1 \\\\\n",
       "\t2 & 0.966095 & 0.117833 & 0.814359 & 0.0909485 & 2 \\\\\n",
       "\t3 & 0.961292 & 0.463992 & 0.124803 & 0.49366 & 3 \\\\\n",
       "\t4 & 0.818522 & 0.751793 & 0.293685 & 0.322744 & 4 \\\\\n",
       "\t5 & 0.331166 & 0.219655 & 0.424902 & 0.535013 & 5 \\\\\n",
       "\\end{tabular}\n"
      ],
      "text/plain": [
       "\u001b[1m5×5 DataFrame\u001b[0m\n",
       "\u001b[1m Row \u001b[0m│\u001b[1m x1       \u001b[0m\u001b[1m x2        \u001b[0m\u001b[1m x3       \u001b[0m\u001b[1m x4        \u001b[0m\u001b[1m A     \u001b[0m\n",
       "     │\u001b[90m Float64  \u001b[0m\u001b[90m Float64   \u001b[0m\u001b[90m Float64  \u001b[0m\u001b[90m Float64   \u001b[0m\u001b[90m Int64 \u001b[0m\n",
       "─────┼─────────────────────────────────────────────────\n",
       "   1 │ 0.554671  0.0713762  0.958493  0.332333       1\n",
       "   2 │ 0.966095  0.117833   0.814359  0.0909485      2\n",
       "   3 │ 0.961292  0.463992   0.124803  0.49366        3\n",
       "   4 │ 0.818522  0.751793   0.293685  0.322744       4\n",
       "   5 │ 0.331166  0.219655   0.424902  0.535013       5"
      ]
     },
     "execution_count": 20,
     "metadata": {},
     "output_type": "execute_result"
    }
   ],
   "source": [
    "# add one more column\n",
    "[df1 DataFrame(A=[1,2,3, 4,5])]"
   ]
  },
  {
   "cell_type": "code",
   "execution_count": 22,
   "id": "7a8d9ad8-a0eb-4f6f-b9eb-2e94f57c85cc",
   "metadata": {},
   "outputs": [
    {
     "data": {
      "text/html": [
       "<div><div style = \"float: left;\"><span>10×4 DataFrame</span></div><div style = \"clear: both;\"></div></div><div class = \"data-frame\" style = \"overflow-x: scroll;\"><table class = \"data-frame\" style = \"margin-bottom: 6px;\"><thead><tr class = \"header\"><th class = \"rowNumber\" style = \"font-weight: bold; text-align: right;\">Row</th><th style = \"text-align: left;\">x1</th><th style = \"text-align: left;\">x2</th><th style = \"text-align: left;\">x3</th><th style = \"text-align: left;\">x4</th></tr><tr class = \"subheader headerLastRow\"><th class = \"rowNumber\" style = \"font-weight: bold; text-align: right;\"></th><th title = \"Float64\" style = \"text-align: left;\">Float64</th><th title = \"Float64\" style = \"text-align: left;\">Float64</th><th title = \"Float64\" style = \"text-align: left;\">Float64</th><th title = \"Float64\" style = \"text-align: left;\">Float64</th></tr></thead><tbody><tr><td class = \"rowNumber\" style = \"font-weight: bold; text-align: right;\">1</td><td style = \"text-align: right;\">0.554671</td><td style = \"text-align: right;\">0.0713762</td><td style = \"text-align: right;\">0.958493</td><td style = \"text-align: right;\">0.332333</td></tr><tr><td class = \"rowNumber\" style = \"font-weight: bold; text-align: right;\">2</td><td style = \"text-align: right;\">0.966095</td><td style = \"text-align: right;\">0.117833</td><td style = \"text-align: right;\">0.814359</td><td style = \"text-align: right;\">0.0909485</td></tr><tr><td class = \"rowNumber\" style = \"font-weight: bold; text-align: right;\">3</td><td style = \"text-align: right;\">0.961292</td><td style = \"text-align: right;\">0.463992</td><td style = \"text-align: right;\">0.124803</td><td style = \"text-align: right;\">0.49366</td></tr><tr><td class = \"rowNumber\" style = \"font-weight: bold; text-align: right;\">4</td><td style = \"text-align: right;\">0.818522</td><td style = \"text-align: right;\">0.751793</td><td style = \"text-align: right;\">0.293685</td><td style = \"text-align: right;\">0.322744</td></tr><tr><td class = \"rowNumber\" style = \"font-weight: bold; text-align: right;\">5</td><td style = \"text-align: right;\">0.331166</td><td style = \"text-align: right;\">0.219655</td><td style = \"text-align: right;\">0.424902</td><td style = \"text-align: right;\">0.535013</td></tr><tr><td class = \"rowNumber\" style = \"font-weight: bold; text-align: right;\">6</td><td style = \"text-align: right;\">0.514116</td><td style = \"text-align: right;\">0.13736</td><td style = \"text-align: right;\">0.576942</td><td style = \"text-align: right;\">0.438443</td></tr><tr><td class = \"rowNumber\" style = \"font-weight: bold; text-align: right;\">7</td><td style = \"text-align: right;\">0.678993</td><td style = \"text-align: right;\">0.459289</td><td style = \"text-align: right;\">0.131994</td><td style = \"text-align: right;\">0.0384278</td></tr><tr><td class = \"rowNumber\" style = \"font-weight: bold; text-align: right;\">8</td><td style = \"text-align: right;\">0.167469</td><td style = \"text-align: right;\">0.0629602</td><td style = \"text-align: right;\">0.941787</td><td style = \"text-align: right;\">0.842492</td></tr><tr><td class = \"rowNumber\" style = \"font-weight: bold; text-align: right;\">9</td><td style = \"text-align: right;\">0.800786</td><td style = \"text-align: right;\">0.880251</td><td style = \"text-align: right;\">0.563756</td><td style = \"text-align: right;\">0.74347</td></tr><tr><td class = \"rowNumber\" style = \"font-weight: bold; text-align: right;\">10</td><td style = \"text-align: right;\">0.323841</td><td style = \"text-align: right;\">0.395436</td><td style = \"text-align: right;\">0.893221</td><td style = \"text-align: right;\">0.504974</td></tr></tbody></table></div>"
      ],
      "text/latex": [
       "\\begin{tabular}{r|cccc}\n",
       "\t& x1 & x2 & x3 & x4\\\\\n",
       "\t\\hline\n",
       "\t& Float64 & Float64 & Float64 & Float64\\\\\n",
       "\t\\hline\n",
       "\t1 & 0.554671 & 0.0713762 & 0.958493 & 0.332333 \\\\\n",
       "\t2 & 0.966095 & 0.117833 & 0.814359 & 0.0909485 \\\\\n",
       "\t3 & 0.961292 & 0.463992 & 0.124803 & 0.49366 \\\\\n",
       "\t4 & 0.818522 & 0.751793 & 0.293685 & 0.322744 \\\\\n",
       "\t5 & 0.331166 & 0.219655 & 0.424902 & 0.535013 \\\\\n",
       "\t6 & 0.514116 & 0.13736 & 0.576942 & 0.438443 \\\\\n",
       "\t7 & 0.678993 & 0.459289 & 0.131994 & 0.0384278 \\\\\n",
       "\t8 & 0.167469 & 0.0629602 & 0.941787 & 0.842492 \\\\\n",
       "\t9 & 0.800786 & 0.880251 & 0.563756 & 0.74347 \\\\\n",
       "\t10 & 0.323841 & 0.395436 & 0.893221 & 0.504974 \\\\\n",
       "\\end{tabular}\n"
      ],
      "text/plain": [
       "\u001b[1m10×4 DataFrame\u001b[0m\n",
       "\u001b[1m Row \u001b[0m│\u001b[1m x1       \u001b[0m\u001b[1m x2        \u001b[0m\u001b[1m x3       \u001b[0m\u001b[1m x4        \u001b[0m\n",
       "     │\u001b[90m Float64  \u001b[0m\u001b[90m Float64   \u001b[0m\u001b[90m Float64  \u001b[0m\u001b[90m Float64   \u001b[0m\n",
       "─────┼──────────────────────────────────────────\n",
       "   1 │ 0.554671  0.0713762  0.958493  0.332333\n",
       "   2 │ 0.966095  0.117833   0.814359  0.0909485\n",
       "   3 │ 0.961292  0.463992   0.124803  0.49366\n",
       "   4 │ 0.818522  0.751793   0.293685  0.322744\n",
       "   5 │ 0.331166  0.219655   0.424902  0.535013\n",
       "   6 │ 0.514116  0.13736    0.576942  0.438443\n",
       "   7 │ 0.678993  0.459289   0.131994  0.0384278\n",
       "   8 │ 0.167469  0.0629602  0.941787  0.842492\n",
       "   9 │ 0.800786  0.880251   0.563756  0.74347\n",
       "  10 │ 0.323841  0.395436   0.893221  0.504974"
      ]
     },
     "execution_count": 22,
     "metadata": {},
     "output_type": "execute_result"
    }
   ],
   "source": [
    "# you can vcat like this\n",
    "[df1 \n",
    "df2]"
   ]
  },
  {
   "cell_type": "code",
   "execution_count": 27,
   "id": "012ed258-ec0a-467b-b3ee-2394b40fb52d",
   "metadata": {},
   "outputs": [
    {
     "data": {
      "text/html": [
       "<div><div style = \"float: left;\"><span>5×5 DataFrame</span></div><div style = \"clear: both;\"></div></div><div class = \"data-frame\" style = \"overflow-x: scroll;\"><table class = \"data-frame\" style = \"margin-bottom: 6px;\"><thead><tr class = \"header\"><th class = \"rowNumber\" style = \"font-weight: bold; text-align: right;\">Row</th><th style = \"text-align: left;\">x1</th><th style = \"text-align: left;\">x2</th><th style = \"text-align: left;\">newcol</th><th style = \"text-align: left;\">x3</th><th style = \"text-align: left;\">x4</th></tr><tr class = \"subheader headerLastRow\"><th class = \"rowNumber\" style = \"font-weight: bold; text-align: right;\"></th><th title = \"Float64\" style = \"text-align: left;\">Float64</th><th title = \"Float64\" style = \"text-align: left;\">Float64</th><th title = \"Int64\" style = \"text-align: left;\">Int64</th><th title = \"Float64\" style = \"text-align: left;\">Float64</th><th title = \"Float64\" style = \"text-align: left;\">Float64</th></tr></thead><tbody><tr><td class = \"rowNumber\" style = \"font-weight: bold; text-align: right;\">1</td><td style = \"text-align: right;\">0.554671</td><td style = \"text-align: right;\">0.0713762</td><td style = \"text-align: right;\">1</td><td style = \"text-align: right;\">0.958493</td><td style = \"text-align: right;\">0.332333</td></tr><tr><td class = \"rowNumber\" style = \"font-weight: bold; text-align: right;\">2</td><td style = \"text-align: right;\">0.966095</td><td style = \"text-align: right;\">0.117833</td><td style = \"text-align: right;\">2</td><td style = \"text-align: right;\">0.814359</td><td style = \"text-align: right;\">0.0909485</td></tr><tr><td class = \"rowNumber\" style = \"font-weight: bold; text-align: right;\">3</td><td style = \"text-align: right;\">0.961292</td><td style = \"text-align: right;\">0.463992</td><td style = \"text-align: right;\">3</td><td style = \"text-align: right;\">0.124803</td><td style = \"text-align: right;\">0.49366</td></tr><tr><td class = \"rowNumber\" style = \"font-weight: bold; text-align: right;\">4</td><td style = \"text-align: right;\">0.818522</td><td style = \"text-align: right;\">0.751793</td><td style = \"text-align: right;\">4</td><td style = \"text-align: right;\">0.293685</td><td style = \"text-align: right;\">0.322744</td></tr><tr><td class = \"rowNumber\" style = \"font-weight: bold; text-align: right;\">5</td><td style = \"text-align: right;\">0.331166</td><td style = \"text-align: right;\">0.219655</td><td style = \"text-align: right;\">5</td><td style = \"text-align: right;\">0.424902</td><td style = \"text-align: right;\">0.535013</td></tr></tbody></table></div>"
      ],
      "text/latex": [
       "\\begin{tabular}{r|ccccc}\n",
       "\t& x1 & x2 & newcol & x3 & x4\\\\\n",
       "\t\\hline\n",
       "\t& Float64 & Float64 & Int64 & Float64 & Float64\\\\\n",
       "\t\\hline\n",
       "\t1 & 0.554671 & 0.0713762 & 1 & 0.958493 & 0.332333 \\\\\n",
       "\t2 & 0.966095 & 0.117833 & 2 & 0.814359 & 0.0909485 \\\\\n",
       "\t3 & 0.961292 & 0.463992 & 3 & 0.124803 & 0.49366 \\\\\n",
       "\t4 & 0.818522 & 0.751793 & 4 & 0.293685 & 0.322744 \\\\\n",
       "\t5 & 0.331166 & 0.219655 & 5 & 0.424902 & 0.535013 \\\\\n",
       "\\end{tabular}\n"
      ],
      "text/plain": [
       "\u001b[1m5×5 DataFrame\u001b[0m\n",
       "\u001b[1m Row \u001b[0m│\u001b[1m x1       \u001b[0m\u001b[1m x2        \u001b[0m\u001b[1m newcol \u001b[0m\u001b[1m x3       \u001b[0m\u001b[1m x4        \u001b[0m\n",
       "     │\u001b[90m Float64  \u001b[0m\u001b[90m Float64   \u001b[0m\u001b[90m Int64  \u001b[0m\u001b[90m Float64  \u001b[0m\u001b[90m Float64   \u001b[0m\n",
       "─────┼──────────────────────────────────────────────────\n",
       "   1 │ 0.554671  0.0713762       1  0.958493  0.332333\n",
       "   2 │ 0.966095  0.117833        2  0.814359  0.0909485\n",
       "   3 │ 0.961292  0.463992        3  0.124803  0.49366\n",
       "   4 │ 0.818522  0.751793        4  0.293685  0.322744\n",
       "   5 │ 0.331166  0.219655        5  0.424902  0.535013"
      ]
     },
     "execution_count": 27,
     "metadata": {},
     "output_type": "execute_result"
    }
   ],
   "source": [
    "# insert columns into a dataframe\n",
    "insertcols!(df1, 3, :newcol=>1:5)"
   ]
  },
  {
   "cell_type": "code",
   "execution_count": 28,
   "id": "0ec7176e-5f81-4d46-9c0e-64a33e6dc20c",
   "metadata": {},
   "outputs": [
    {
     "data": {
      "text/html": [
       "<div><div style = \"float: left;\"><span>5×2 DataFrame</span></div><div style = \"clear: both;\"></div></div><div class = \"data-frame\" style = \"overflow-x: scroll;\"><table class = \"data-frame\" style = \"margin-bottom: 6px;\"><thead><tr class = \"header\"><th class = \"rowNumber\" style = \"font-weight: bold; text-align: right;\">Row</th><th style = \"text-align: left;\">x2</th><th style = \"text-align: left;\">x3</th></tr><tr class = \"subheader headerLastRow\"><th class = \"rowNumber\" style = \"font-weight: bold; text-align: right;\"></th><th title = \"Float64\" style = \"text-align: left;\">Float64</th><th title = \"Float64\" style = \"text-align: left;\">Float64</th></tr></thead><tbody><tr><td class = \"rowNumber\" style = \"font-weight: bold; text-align: right;\">1</td><td style = \"text-align: right;\">0.0713762</td><td style = \"text-align: right;\">0.958493</td></tr><tr><td class = \"rowNumber\" style = \"font-weight: bold; text-align: right;\">2</td><td style = \"text-align: right;\">0.117833</td><td style = \"text-align: right;\">0.814359</td></tr><tr><td class = \"rowNumber\" style = \"font-weight: bold; text-align: right;\">3</td><td style = \"text-align: right;\">0.463992</td><td style = \"text-align: right;\">0.124803</td></tr><tr><td class = \"rowNumber\" style = \"font-weight: bold; text-align: right;\">4</td><td style = \"text-align: right;\">0.751793</td><td style = \"text-align: right;\">0.293685</td></tr><tr><td class = \"rowNumber\" style = \"font-weight: bold; text-align: right;\">5</td><td style = \"text-align: right;\">0.219655</td><td style = \"text-align: right;\">0.424902</td></tr></tbody></table></div>"
      ],
      "text/latex": [
       "\\begin{tabular}{r|cc}\n",
       "\t& x2 & x3\\\\\n",
       "\t\\hline\n",
       "\t& Float64 & Float64\\\\\n",
       "\t\\hline\n",
       "\t1 & 0.0713762 & 0.958493 \\\\\n",
       "\t2 & 0.117833 & 0.814359 \\\\\n",
       "\t3 & 0.463992 & 0.124803 \\\\\n",
       "\t4 & 0.751793 & 0.293685 \\\\\n",
       "\t5 & 0.219655 & 0.424902 \\\\\n",
       "\\end{tabular}\n"
      ],
      "text/plain": [
       "\u001b[1m5×2 DataFrame\u001b[0m\n",
       "\u001b[1m Row \u001b[0m│\u001b[1m x2        \u001b[0m\u001b[1m x3       \u001b[0m\n",
       "     │\u001b[90m Float64   \u001b[0m\u001b[90m Float64  \u001b[0m\n",
       "─────┼─────────────────────\n",
       "   1 │ 0.0713762  0.958493\n",
       "   2 │ 0.117833   0.814359\n",
       "   3 │ 0.463992   0.124803\n",
       "   4 │ 0.751793   0.293685\n",
       "   5 │ 0.219655   0.424902"
      ]
     },
     "execution_count": 28,
     "metadata": {},
     "output_type": "execute_result"
    }
   ],
   "source": [
    "df1[:, [:x2, :x3]]"
   ]
  },
  {
   "cell_type": "code",
   "execution_count": 30,
   "id": "0e8a0ed3-fbcc-4e03-b187-475ff75b518f",
   "metadata": {},
   "outputs": [
    {
     "data": {
      "text/html": [
       "<div><div style = \"float: left;\"><span>5×5 DataFrame</span></div><div style = \"clear: both;\"></div></div><div class = \"data-frame\" style = \"overflow-x: scroll;\"><table class = \"data-frame\" style = \"margin-bottom: 6px;\"><thead><tr class = \"header\"><th class = \"rowNumber\" style = \"font-weight: bold; text-align: right;\">Row</th><th style = \"text-align: left;\">x1</th><th style = \"text-align: left;\">x2</th><th style = \"text-align: left;\">newcol</th><th style = \"text-align: left;\">x3</th><th style = \"text-align: left;\">x4</th></tr><tr class = \"subheader headerLastRow\"><th class = \"rowNumber\" style = \"font-weight: bold; text-align: right;\"></th><th title = \"Float64\" style = \"text-align: left;\">Float64</th><th title = \"Float64\" style = \"text-align: left;\">Float64</th><th title = \"Int64\" style = \"text-align: left;\">Int64</th><th title = \"Float64\" style = \"text-align: left;\">Float64</th><th title = \"Float64\" style = \"text-align: left;\">Float64</th></tr></thead><tbody><tr><td class = \"rowNumber\" style = \"font-weight: bold; text-align: right;\">1</td><td style = \"text-align: right;\">0.554671</td><td style = \"text-align: right;\">0.0713762</td><td style = \"text-align: right;\">1</td><td style = \"text-align: right;\">0.958493</td><td style = \"text-align: right;\">0.332333</td></tr><tr><td class = \"rowNumber\" style = \"font-weight: bold; text-align: right;\">2</td><td style = \"text-align: right;\">0.966095</td><td style = \"text-align: right;\">0.117833</td><td style = \"text-align: right;\">2</td><td style = \"text-align: right;\">0.814359</td><td style = \"text-align: right;\">0.0909485</td></tr><tr><td class = \"rowNumber\" style = \"font-weight: bold; text-align: right;\">3</td><td style = \"text-align: right;\">0.961292</td><td style = \"text-align: right;\">0.463992</td><td style = \"text-align: right;\">3</td><td style = \"text-align: right;\">0.124803</td><td style = \"text-align: right;\">0.49366</td></tr><tr><td class = \"rowNumber\" style = \"font-weight: bold; text-align: right;\">4</td><td style = \"text-align: right;\">0.818522</td><td style = \"text-align: right;\">0.751793</td><td style = \"text-align: right;\">4</td><td style = \"text-align: right;\">0.293685</td><td style = \"text-align: right;\">0.322744</td></tr><tr><td class = \"rowNumber\" style = \"font-weight: bold; text-align: right;\">5</td><td style = \"text-align: right;\">0.331166</td><td style = \"text-align: right;\">0.219655</td><td style = \"text-align: right;\">5</td><td style = \"text-align: right;\">0.424902</td><td style = \"text-align: right;\">0.535013</td></tr></tbody></table></div>"
      ],
      "text/latex": [
       "\\begin{tabular}{r|ccccc}\n",
       "\t& x1 & x2 & newcol & x3 & x4\\\\\n",
       "\t\\hline\n",
       "\t& Float64 & Float64 & Int64 & Float64 & Float64\\\\\n",
       "\t\\hline\n",
       "\t1 & 0.554671 & 0.0713762 & 1 & 0.958493 & 0.332333 \\\\\n",
       "\t2 & 0.966095 & 0.117833 & 2 & 0.814359 & 0.0909485 \\\\\n",
       "\t3 & 0.961292 & 0.463992 & 3 & 0.124803 & 0.49366 \\\\\n",
       "\t4 & 0.818522 & 0.751793 & 4 & 0.293685 & 0.322744 \\\\\n",
       "\t5 & 0.331166 & 0.219655 & 5 & 0.424902 & 0.535013 \\\\\n",
       "\\end{tabular}\n"
      ],
      "text/plain": [
       "\u001b[1m5×5 DataFrame\u001b[0m\n",
       "\u001b[1m Row \u001b[0m│\u001b[1m x1       \u001b[0m\u001b[1m x2        \u001b[0m\u001b[1m newcol \u001b[0m\u001b[1m x3       \u001b[0m\u001b[1m x4        \u001b[0m\n",
       "     │\u001b[90m Float64  \u001b[0m\u001b[90m Float64   \u001b[0m\u001b[90m Int64  \u001b[0m\u001b[90m Float64  \u001b[0m\u001b[90m Float64   \u001b[0m\n",
       "─────┼──────────────────────────────────────────────────\n",
       "   1 │ 0.554671  0.0713762       1  0.958493  0.332333\n",
       "   2 │ 0.966095  0.117833        2  0.814359  0.0909485\n",
       "   3 │ 0.961292  0.463992        3  0.124803  0.49366\n",
       "   4 │ 0.818522  0.751793        4  0.293685  0.322744\n",
       "   5 │ 0.331166  0.219655        5  0.424902  0.535013"
      ]
     },
     "execution_count": 30,
     "metadata": {},
     "output_type": "execute_result"
    }
   ],
   "source": [
    "# take a copy of the dataframe\n",
    "df1_copy = copy(df1) # df1.copy() in python"
   ]
  },
  {
   "cell_type": "code",
   "execution_count": 31,
   "id": "106d568e-1f0c-4eb7-a74b-e70426857ae5",
   "metadata": {},
   "outputs": [
    {
     "data": {
      "text/html": [
       "<div><div style = \"float: left;\"><span>5×5 DataFrame</span></div><div style = \"clear: both;\"></div></div><div class = \"data-frame\" style = \"overflow-x: scroll;\"><table class = \"data-frame\" style = \"margin-bottom: 6px;\"><thead><tr class = \"header\"><th class = \"rowNumber\" style = \"font-weight: bold; text-align: right;\">Row</th><th style = \"text-align: left;\">x1</th><th style = \"text-align: left;\">x2</th><th style = \"text-align: left;\">newcol</th><th style = \"text-align: left;\">x3</th><th style = \"text-align: left;\">x4</th></tr><tr class = \"subheader headerLastRow\"><th class = \"rowNumber\" style = \"font-weight: bold; text-align: right;\"></th><th title = \"Float64\" style = \"text-align: left;\">Float64</th><th title = \"Float64\" style = \"text-align: left;\">Float64</th><th title = \"Int64\" style = \"text-align: left;\">Int64</th><th title = \"Float64\" style = \"text-align: left;\">Float64</th><th title = \"Float64\" style = \"text-align: left;\">Float64</th></tr></thead><tbody><tr><td class = \"rowNumber\" style = \"font-weight: bold; text-align: right;\">1</td><td style = \"text-align: right;\">0.331166</td><td style = \"text-align: right;\">0.219655</td><td style = \"text-align: right;\">5</td><td style = \"text-align: right;\">0.424902</td><td style = \"text-align: right;\">0.535013</td></tr><tr><td class = \"rowNumber\" style = \"font-weight: bold; text-align: right;\">2</td><td style = \"text-align: right;\">0.554671</td><td style = \"text-align: right;\">0.0713762</td><td style = \"text-align: right;\">1</td><td style = \"text-align: right;\">0.958493</td><td style = \"text-align: right;\">0.332333</td></tr><tr><td class = \"rowNumber\" style = \"font-weight: bold; text-align: right;\">3</td><td style = \"text-align: right;\">0.818522</td><td style = \"text-align: right;\">0.751793</td><td style = \"text-align: right;\">4</td><td style = \"text-align: right;\">0.293685</td><td style = \"text-align: right;\">0.322744</td></tr><tr><td class = \"rowNumber\" style = \"font-weight: bold; text-align: right;\">4</td><td style = \"text-align: right;\">0.961292</td><td style = \"text-align: right;\">0.463992</td><td style = \"text-align: right;\">3</td><td style = \"text-align: right;\">0.124803</td><td style = \"text-align: right;\">0.49366</td></tr><tr><td class = \"rowNumber\" style = \"font-weight: bold; text-align: right;\">5</td><td style = \"text-align: right;\">0.966095</td><td style = \"text-align: right;\">0.117833</td><td style = \"text-align: right;\">2</td><td style = \"text-align: right;\">0.814359</td><td style = \"text-align: right;\">0.0909485</td></tr></tbody></table></div>"
      ],
      "text/latex": [
       "\\begin{tabular}{r|ccccc}\n",
       "\t& x1 & x2 & newcol & x3 & x4\\\\\n",
       "\t\\hline\n",
       "\t& Float64 & Float64 & Int64 & Float64 & Float64\\\\\n",
       "\t\\hline\n",
       "\t1 & 0.331166 & 0.219655 & 5 & 0.424902 & 0.535013 \\\\\n",
       "\t2 & 0.554671 & 0.0713762 & 1 & 0.958493 & 0.332333 \\\\\n",
       "\t3 & 0.818522 & 0.751793 & 4 & 0.293685 & 0.322744 \\\\\n",
       "\t4 & 0.961292 & 0.463992 & 3 & 0.124803 & 0.49366 \\\\\n",
       "\t5 & 0.966095 & 0.117833 & 2 & 0.814359 & 0.0909485 \\\\\n",
       "\\end{tabular}\n"
      ],
      "text/plain": [
       "\u001b[1m5×5 DataFrame\u001b[0m\n",
       "\u001b[1m Row \u001b[0m│\u001b[1m x1       \u001b[0m\u001b[1m x2        \u001b[0m\u001b[1m newcol \u001b[0m\u001b[1m x3       \u001b[0m\u001b[1m x4        \u001b[0m\n",
       "     │\u001b[90m Float64  \u001b[0m\u001b[90m Float64   \u001b[0m\u001b[90m Int64  \u001b[0m\u001b[90m Float64  \u001b[0m\u001b[90m Float64   \u001b[0m\n",
       "─────┼──────────────────────────────────────────────────\n",
       "   1 │ 0.331166  0.219655        5  0.424902  0.535013\n",
       "   2 │ 0.554671  0.0713762       1  0.958493  0.332333\n",
       "   3 │ 0.818522  0.751793        4  0.293685  0.322744\n",
       "   4 │ 0.961292  0.463992        3  0.124803  0.49366\n",
       "   5 │ 0.966095  0.117833        2  0.814359  0.0909485"
      ]
     },
     "execution_count": 31,
     "metadata": {},
     "output_type": "execute_result"
    }
   ],
   "source": [
    "# sort values in a dataframe\n",
    "sort(df1, :x1)"
   ]
  },
  {
   "cell_type": "code",
   "execution_count": 34,
   "id": "7c0765ba-8176-4789-a0f3-c1747f48cca8",
   "metadata": {},
   "outputs": [
    {
     "data": {
      "text/html": [
       "<div><div style = \"float: left;\"><span>4×5 DataFrame</span></div><div style = \"clear: both;\"></div></div><div class = \"data-frame\" style = \"overflow-x: scroll;\"><table class = \"data-frame\" style = \"margin-bottom: 6px;\"><thead><tr class = \"header\"><th class = \"rowNumber\" style = \"font-weight: bold; text-align: right;\">Row</th><th style = \"text-align: left;\">x1</th><th style = \"text-align: left;\">x2</th><th style = \"text-align: left;\">newcol</th><th style = \"text-align: left;\">x3</th><th style = \"text-align: left;\">x4</th></tr><tr class = \"subheader headerLastRow\"><th class = \"rowNumber\" style = \"font-weight: bold; text-align: right;\"></th><th title = \"Float64\" style = \"text-align: left;\">Float64</th><th title = \"Float64\" style = \"text-align: left;\">Float64</th><th title = \"Int64\" style = \"text-align: left;\">Int64</th><th title = \"Float64\" style = \"text-align: left;\">Float64</th><th title = \"Float64\" style = \"text-align: left;\">Float64</th></tr></thead><tbody><tr><td class = \"rowNumber\" style = \"font-weight: bold; text-align: right;\">1</td><td style = \"text-align: right;\">0.554671</td><td style = \"text-align: right;\">0.0713762</td><td style = \"text-align: right;\">1</td><td style = \"text-align: right;\">0.958493</td><td style = \"text-align: right;\">0.332333</td></tr><tr><td class = \"rowNumber\" style = \"font-weight: bold; text-align: right;\">2</td><td style = \"text-align: right;\">0.966095</td><td style = \"text-align: right;\">0.117833</td><td style = \"text-align: right;\">2</td><td style = \"text-align: right;\">0.814359</td><td style = \"text-align: right;\">0.0909485</td></tr><tr><td class = \"rowNumber\" style = \"font-weight: bold; text-align: right;\">3</td><td style = \"text-align: right;\">0.961292</td><td style = \"text-align: right;\">0.463992</td><td style = \"text-align: right;\">3</td><td style = \"text-align: right;\">0.124803</td><td style = \"text-align: right;\">0.49366</td></tr><tr><td class = \"rowNumber\" style = \"font-weight: bold; text-align: right;\">4</td><td style = \"text-align: right;\">0.331166</td><td style = \"text-align: right;\">0.219655</td><td style = \"text-align: right;\">5</td><td style = \"text-align: right;\">0.424902</td><td style = \"text-align: right;\">0.535013</td></tr></tbody></table></div>"
      ],
      "text/latex": [
       "\\begin{tabular}{r|ccccc}\n",
       "\t& x1 & x2 & newcol & x3 & x4\\\\\n",
       "\t\\hline\n",
       "\t& Float64 & Float64 & Int64 & Float64 & Float64\\\\\n",
       "\t\\hline\n",
       "\t1 & 0.554671 & 0.0713762 & 1 & 0.958493 & 0.332333 \\\\\n",
       "\t2 & 0.966095 & 0.117833 & 2 & 0.814359 & 0.0909485 \\\\\n",
       "\t3 & 0.961292 & 0.463992 & 3 & 0.124803 & 0.49366 \\\\\n",
       "\t4 & 0.331166 & 0.219655 & 5 & 0.424902 & 0.535013 \\\\\n",
       "\\end{tabular}\n"
      ],
      "text/plain": [
       "\u001b[1m4×5 DataFrame\u001b[0m\n",
       "\u001b[1m Row \u001b[0m│\u001b[1m x1       \u001b[0m\u001b[1m x2        \u001b[0m\u001b[1m newcol \u001b[0m\u001b[1m x3       \u001b[0m\u001b[1m x4        \u001b[0m\n",
       "     │\u001b[90m Float64  \u001b[0m\u001b[90m Float64   \u001b[0m\u001b[90m Int64  \u001b[0m\u001b[90m Float64  \u001b[0m\u001b[90m Float64   \u001b[0m\n",
       "─────┼──────────────────────────────────────────────────\n",
       "   1 │ 0.554671  0.0713762       1  0.958493  0.332333\n",
       "   2 │ 0.966095  0.117833        2  0.814359  0.0909485\n",
       "   3 │ 0.961292  0.463992        3  0.124803  0.49366\n",
       "   4 │ 0.331166  0.219655        5  0.424902  0.535013"
      ]
     },
     "execution_count": 34,
     "metadata": {},
     "output_type": "execute_result"
    }
   ],
   "source": [
    "# delete rows\n",
    "# deleterows(df1, 4) # this is depricated\n",
    "# delete 4th row\n",
    "deleteat!(df1, 4)"
   ]
  },
  {
   "cell_type": "code",
   "execution_count": 35,
   "id": "d0c89119-fb3d-4792-a3e0-f8bf9878b175",
   "metadata": {},
   "outputs": [
    {
     "data": {
      "text/html": [
       "<div><div style = \"float: left;\"><span>3×5 DataFrame</span></div><div style = \"clear: both;\"></div></div><div class = \"data-frame\" style = \"overflow-x: scroll;\"><table class = \"data-frame\" style = \"margin-bottom: 6px;\"><thead><tr class = \"header\"><th class = \"rowNumber\" style = \"font-weight: bold; text-align: right;\">Row</th><th style = \"text-align: left;\">x1</th><th style = \"text-align: left;\">x2</th><th style = \"text-align: left;\">newcol</th><th style = \"text-align: left;\">x3</th><th style = \"text-align: left;\">x4</th></tr><tr class = \"subheader headerLastRow\"><th class = \"rowNumber\" style = \"font-weight: bold; text-align: right;\"></th><th title = \"Float64\" style = \"text-align: left;\">Float64</th><th title = \"Float64\" style = \"text-align: left;\">Float64</th><th title = \"Int64\" style = \"text-align: left;\">Int64</th><th title = \"Float64\" style = \"text-align: left;\">Float64</th><th title = \"Float64\" style = \"text-align: left;\">Float64</th></tr></thead><tbody><tr><td class = \"rowNumber\" style = \"font-weight: bold; text-align: right;\">1</td><td style = \"text-align: right;\">0.554671</td><td style = \"text-align: right;\">0.0713762</td><td style = \"text-align: right;\">1</td><td style = \"text-align: right;\">0.958493</td><td style = \"text-align: right;\">0.332333</td></tr><tr><td class = \"rowNumber\" style = \"font-weight: bold; text-align: right;\">2</td><td style = \"text-align: right;\">0.966095</td><td style = \"text-align: right;\">0.117833</td><td style = \"text-align: right;\">2</td><td style = \"text-align: right;\">0.814359</td><td style = \"text-align: right;\">0.0909485</td></tr><tr><td class = \"rowNumber\" style = \"font-weight: bold; text-align: right;\">3</td><td style = \"text-align: right;\">0.961292</td><td style = \"text-align: right;\">0.463992</td><td style = \"text-align: right;\">3</td><td style = \"text-align: right;\">0.124803</td><td style = \"text-align: right;\">0.49366</td></tr></tbody></table></div>"
      ],
      "text/latex": [
       "\\begin{tabular}{r|ccccc}\n",
       "\t& x1 & x2 & newcol & x3 & x4\\\\\n",
       "\t\\hline\n",
       "\t& Float64 & Float64 & Int64 & Float64 & Float64\\\\\n",
       "\t\\hline\n",
       "\t1 & 0.554671 & 0.0713762 & 1 & 0.958493 & 0.332333 \\\\\n",
       "\t2 & 0.966095 & 0.117833 & 2 & 0.814359 & 0.0909485 \\\\\n",
       "\t3 & 0.961292 & 0.463992 & 3 & 0.124803 & 0.49366 \\\\\n",
       "\\end{tabular}\n"
      ],
      "text/plain": [
       "\u001b[1m3×5 DataFrame\u001b[0m\n",
       "\u001b[1m Row \u001b[0m│\u001b[1m x1       \u001b[0m\u001b[1m x2        \u001b[0m\u001b[1m newcol \u001b[0m\u001b[1m x3       \u001b[0m\u001b[1m x4        \u001b[0m\n",
       "     │\u001b[90m Float64  \u001b[0m\u001b[90m Float64   \u001b[0m\u001b[90m Int64  \u001b[0m\u001b[90m Float64  \u001b[0m\u001b[90m Float64   \u001b[0m\n",
       "─────┼──────────────────────────────────────────────────\n",
       "   1 │ 0.554671  0.0713762       1  0.958493  0.332333\n",
       "   2 │ 0.966095  0.117833        2  0.814359  0.0909485\n",
       "   3 │ 0.961292  0.463992        3  0.124803  0.49366"
      ]
     },
     "execution_count": 35,
     "metadata": {},
     "output_type": "execute_result"
    }
   ],
   "source": [
    "# filter rows\n",
    "filter(r -> r.x1 > 0.5 ,df1 ) # df1[df1[\"x1\"]>0.5] in python"
   ]
  },
  {
   "cell_type": "code",
   "execution_count": null,
   "id": "b3cb6fde-2d58-4e59-a7b4-2007eb986fc8",
   "metadata": {},
   "outputs": [],
   "source": []
  }
 ],
 "metadata": {
  "kernelspec": {
   "display_name": "Julia 1.9.1",
   "language": "julia",
   "name": "julia-1.9"
  },
  "language_info": {
   "file_extension": ".jl",
   "mimetype": "application/julia",
   "name": "julia",
   "version": "1.9.1"
  }
 },
 "nbformat": 4,
 "nbformat_minor": 5
}
