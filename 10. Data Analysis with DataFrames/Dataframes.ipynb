{
 "cells": [
  {
   "cell_type": "code",
   "execution_count": 3,
   "id": "1c5ca059-cc1b-4455-b54a-3b2ba5737edd",
   "metadata": {},
   "outputs": [],
   "source": [
    "# using Pkg;\n",
    "# Pkg.add(\"DataFrames\")"
   ]
  },
  {
   "cell_type": "code",
   "execution_count": 2,
   "id": "9456b6fe-08a9-45fb-a40d-c3102d27f7f8",
   "metadata": {},
   "outputs": [],
   "source": [
    "using DataFrames"
   ]
  },
  {
   "cell_type": "code",
   "execution_count": 4,
   "id": "92268768-424a-46c8-be4f-bf707fabd78c",
   "metadata": {},
   "outputs": [
    {
     "data": {
      "text/html": [
       "<div><div style = \"float: left;\"><span>0×0 DataFrame</span></div><div style = \"clear: both;\"></div></div><div class = \"data-frame\" style = \"overflow-x: scroll;\"><table class = \"data-frame\" style = \"margin-bottom: 6px;\"></table></div>"
      ],
      "text/latex": [
       "\\begin{tabular}{r|}\n",
       "\t& \\\\\n",
       "\t\\hline\n",
       "\t& \\\\\n",
       "\t\\hline\n",
       "\\end{tabular}\n"
      ],
      "text/plain": [
       "\u001b[1m0×0 DataFrame\u001b[0m"
      ]
     },
     "execution_count": 4,
     "metadata": {},
     "output_type": "execute_result"
    }
   ],
   "source": [
    "# create empty dataframe\n",
    "DataFrame()"
   ]
  },
  {
   "cell_type": "code",
   "execution_count": 5,
   "id": "af7d97df-a823-4ec0-bcda-f40074858f42",
   "metadata": {},
   "outputs": [
    {
     "data": {
      "text/html": [
       "<div><div style = \"float: left;\"><span>4×2 DataFrame</span></div><div style = \"clear: both;\"></div></div><div class = \"data-frame\" style = \"overflow-x: scroll;\"><table class = \"data-frame\" style = \"margin-bottom: 6px;\"><thead><tr class = \"header\"><th class = \"rowNumber\" style = \"font-weight: bold; text-align: right;\">Row</th><th style = \"text-align: left;\">A</th><th style = \"text-align: left;\">B</th></tr><tr class = \"subheader headerLastRow\"><th class = \"rowNumber\" style = \"font-weight: bold; text-align: right;\"></th><th title = \"Int64\" style = \"text-align: left;\">Int64</th><th title = \"Float64\" style = \"text-align: left;\">Float64</th></tr></thead><tbody><tr><td class = \"rowNumber\" style = \"font-weight: bold; text-align: right;\">1</td><td style = \"text-align: right;\">1</td><td style = \"text-align: right;\">0.723607</td></tr><tr><td class = \"rowNumber\" style = \"font-weight: bold; text-align: right;\">2</td><td style = \"text-align: right;\">2</td><td style = \"text-align: right;\">0.420459</td></tr><tr><td class = \"rowNumber\" style = \"font-weight: bold; text-align: right;\">3</td><td style = \"text-align: right;\">3</td><td style = \"text-align: right;\">0.336732</td></tr><tr><td class = \"rowNumber\" style = \"font-weight: bold; text-align: right;\">4</td><td style = \"text-align: right;\">4</td><td style = \"text-align: right;\">0.398723</td></tr></tbody></table></div>"
      ],
      "text/latex": [
       "\\begin{tabular}{r|cc}\n",
       "\t& A & B\\\\\n",
       "\t\\hline\n",
       "\t& Int64 & Float64\\\\\n",
       "\t\\hline\n",
       "\t1 & 1 & 0.723607 \\\\\n",
       "\t2 & 2 & 0.420459 \\\\\n",
       "\t3 & 3 & 0.336732 \\\\\n",
       "\t4 & 4 & 0.398723 \\\\\n",
       "\\end{tabular}\n"
      ],
      "text/plain": [
       "\u001b[1m4×2 DataFrame\u001b[0m\n",
       "\u001b[1m Row \u001b[0m│\u001b[1m A     \u001b[0m\u001b[1m B        \u001b[0m\n",
       "     │\u001b[90m Int64 \u001b[0m\u001b[90m Float64  \u001b[0m\n",
       "─────┼─────────────────\n",
       "   1 │     1  0.723607\n",
       "   2 │     2  0.420459\n",
       "   3 │     3  0.336732\n",
       "   4 │     4  0.398723"
      ]
     },
     "execution_count": 5,
     "metadata": {},
     "output_type": "execute_result"
    }
   ],
   "source": [
    "# create dataframe with values\n",
    "DataFrame(A = 1:4, B = rand(4))"
   ]
  },
  {
   "cell_type": "code",
   "execution_count": 8,
   "id": "b4af3b52-3a2f-4330-9ce6-9ed000b1ca77",
   "metadata": {},
   "outputs": [
    {
     "data": {
      "text/html": [
       "<div><div style = \"float: left;\"><span>10×3 DataFrame</span></div><div style = \"clear: both;\"></div></div><div class = \"data-frame\" style = \"overflow-x: scroll;\"><table class = \"data-frame\" style = \"margin-bottom: 6px;\"><thead><tr class = \"header\"><th class = \"rowNumber\" style = \"font-weight: bold; text-align: right;\">Row</th><th style = \"text-align: left;\">x1</th><th style = \"text-align: left;\">x2</th><th style = \"text-align: left;\">x3</th></tr><tr class = \"subheader headerLastRow\"><th class = \"rowNumber\" style = \"font-weight: bold; text-align: right;\"></th><th title = \"Float64\" style = \"text-align: left;\">Float64</th><th title = \"Float64\" style = \"text-align: left;\">Float64</th><th title = \"Float64\" style = \"text-align: left;\">Float64</th></tr></thead><tbody><tr><td class = \"rowNumber\" style = \"font-weight: bold; text-align: right;\">1</td><td style = \"text-align: right;\">0.510983</td><td style = \"text-align: right;\">0.0730337</td><td style = \"text-align: right;\">0.916108</td></tr><tr><td class = \"rowNumber\" style = \"font-weight: bold; text-align: right;\">2</td><td style = \"text-align: right;\">0.650019</td><td style = \"text-align: right;\">0.356323</td><td style = \"text-align: right;\">0.86858</td></tr><tr><td class = \"rowNumber\" style = \"font-weight: bold; text-align: right;\">3</td><td style = \"text-align: right;\">0.300311</td><td style = \"text-align: right;\">0.159365</td><td style = \"text-align: right;\">0.477552</td></tr><tr><td class = \"rowNumber\" style = \"font-weight: bold; text-align: right;\">4</td><td style = \"text-align: right;\">0.983101</td><td style = \"text-align: right;\">0.591755</td><td style = \"text-align: right;\">0.940501</td></tr><tr><td class = \"rowNumber\" style = \"font-weight: bold; text-align: right;\">5</td><td style = \"text-align: right;\">0.041861</td><td style = \"text-align: right;\">0.987619</td><td style = \"text-align: right;\">0.542069</td></tr><tr><td class = \"rowNumber\" style = \"font-weight: bold; text-align: right;\">6</td><td style = \"text-align: right;\">0.658837</td><td style = \"text-align: right;\">0.179761</td><td style = \"text-align: right;\">0.722912</td></tr><tr><td class = \"rowNumber\" style = \"font-weight: bold; text-align: right;\">7</td><td style = \"text-align: right;\">0.350912</td><td style = \"text-align: right;\">0.746142</td><td style = \"text-align: right;\">0.588133</td></tr><tr><td class = \"rowNumber\" style = \"font-weight: bold; text-align: right;\">8</td><td style = \"text-align: right;\">0.147208</td><td style = \"text-align: right;\">0.685132</td><td style = \"text-align: right;\">0.230634</td></tr><tr><td class = \"rowNumber\" style = \"font-weight: bold; text-align: right;\">9</td><td style = \"text-align: right;\">0.970108</td><td style = \"text-align: right;\">0.737971</td><td style = \"text-align: right;\">0.73098</td></tr><tr><td class = \"rowNumber\" style = \"font-weight: bold; text-align: right;\">10</td><td style = \"text-align: right;\">0.136605</td><td style = \"text-align: right;\">0.830242</td><td style = \"text-align: right;\">0.50866</td></tr></tbody></table></div>"
      ],
      "text/latex": [
       "\\begin{tabular}{r|ccc}\n",
       "\t& x1 & x2 & x3\\\\\n",
       "\t\\hline\n",
       "\t& Float64 & Float64 & Float64\\\\\n",
       "\t\\hline\n",
       "\t1 & 0.510983 & 0.0730337 & 0.916108 \\\\\n",
       "\t2 & 0.650019 & 0.356323 & 0.86858 \\\\\n",
       "\t3 & 0.300311 & 0.159365 & 0.477552 \\\\\n",
       "\t4 & 0.983101 & 0.591755 & 0.940501 \\\\\n",
       "\t5 & 0.041861 & 0.987619 & 0.542069 \\\\\n",
       "\t6 & 0.658837 & 0.179761 & 0.722912 \\\\\n",
       "\t7 & 0.350912 & 0.746142 & 0.588133 \\\\\n",
       "\t8 & 0.147208 & 0.685132 & 0.230634 \\\\\n",
       "\t9 & 0.970108 & 0.737971 & 0.73098 \\\\\n",
       "\t10 & 0.136605 & 0.830242 & 0.50866 \\\\\n",
       "\\end{tabular}\n"
      ],
      "text/plain": [
       "\u001b[1m10×3 DataFrame\u001b[0m\n",
       "\u001b[1m Row \u001b[0m│\u001b[1m x1       \u001b[0m\u001b[1m x2        \u001b[0m\u001b[1m x3       \u001b[0m\n",
       "     │\u001b[90m Float64  \u001b[0m\u001b[90m Float64   \u001b[0m\u001b[90m Float64  \u001b[0m\n",
       "─────┼───────────────────────────────\n",
       "   1 │ 0.510983  0.0730337  0.916108\n",
       "   2 │ 0.650019  0.356323   0.86858\n",
       "   3 │ 0.300311  0.159365   0.477552\n",
       "   4 │ 0.983101  0.591755   0.940501\n",
       "   5 │ 0.041861  0.987619   0.542069\n",
       "   6 │ 0.658837  0.179761   0.722912\n",
       "   7 │ 0.350912  0.746142   0.588133\n",
       "   8 │ 0.147208  0.685132   0.230634\n",
       "   9 │ 0.970108  0.737971   0.73098\n",
       "  10 │ 0.136605  0.830242   0.50866"
      ]
     },
     "execution_count": 8,
     "metadata": {},
     "output_type": "execute_result"
    }
   ],
   "source": [
    "# create dataframe with random values\n",
    "DataFrame(rand(10,3), :auto) # you need to add auto symbol to get column names"
   ]
  },
  {
   "cell_type": "code",
   "execution_count": 9,
   "id": "87084938-5b68-4847-aadd-3c06c65d740a",
   "metadata": {},
   "outputs": [
    {
     "data": {
      "text/html": [
       "<div><div style = \"float: left;\"><span>10×3 DataFrame</span></div><div style = \"clear: both;\"></div></div><div class = \"data-frame\" style = \"overflow-x: scroll;\"><table class = \"data-frame\" style = \"margin-bottom: 6px;\"><thead><tr class = \"header\"><th class = \"rowNumber\" style = \"font-weight: bold; text-align: right;\">Row</th><th style = \"text-align: left;\">x1</th><th style = \"text-align: left;\">x2</th><th style = \"text-align: left;\">x3</th></tr><tr class = \"subheader headerLastRow\"><th class = \"rowNumber\" style = \"font-weight: bold; text-align: right;\"></th><th title = \"Float64\" style = \"text-align: left;\">Float64</th><th title = \"Float64\" style = \"text-align: left;\">Float64</th><th title = \"Float64\" style = \"text-align: left;\">Float64</th></tr></thead><tbody><tr><td class = \"rowNumber\" style = \"font-weight: bold; text-align: right;\">1</td><td style = \"text-align: right;\">0.443979</td><td style = \"text-align: right;\">0.322834</td><td style = \"text-align: right;\">0.958047</td></tr><tr><td class = \"rowNumber\" style = \"font-weight: bold; text-align: right;\">2</td><td style = \"text-align: right;\">0.550436</td><td style = \"text-align: right;\">0.729929</td><td style = \"text-align: right;\">0.69731</td></tr><tr><td class = \"rowNumber\" style = \"font-weight: bold; text-align: right;\">3</td><td style = \"text-align: right;\">0.0319706</td><td style = \"text-align: right;\">0.875565</td><td style = \"text-align: right;\">0.64019</td></tr><tr><td class = \"rowNumber\" style = \"font-weight: bold; text-align: right;\">4</td><td style = \"text-align: right;\">0.021807</td><td style = \"text-align: right;\">0.279927</td><td style = \"text-align: right;\">0.917247</td></tr><tr><td class = \"rowNumber\" style = \"font-weight: bold; text-align: right;\">5</td><td style = \"text-align: right;\">0.455689</td><td style = \"text-align: right;\">0.706896</td><td style = \"text-align: right;\">0.499138</td></tr><tr><td class = \"rowNumber\" style = \"font-weight: bold; text-align: right;\">6</td><td style = \"text-align: right;\">0.47139</td><td style = \"text-align: right;\">0.128089</td><td style = \"text-align: right;\">0.75538</td></tr><tr><td class = \"rowNumber\" style = \"font-weight: bold; text-align: right;\">7</td><td style = \"text-align: right;\">0.590305</td><td style = \"text-align: right;\">0.933435</td><td style = \"text-align: right;\">0.779239</td></tr><tr><td class = \"rowNumber\" style = \"font-weight: bold; text-align: right;\">8</td><td style = \"text-align: right;\">0.569675</td><td style = \"text-align: right;\">0.436324</td><td style = \"text-align: right;\">0.249575</td></tr><tr><td class = \"rowNumber\" style = \"font-weight: bold; text-align: right;\">9</td><td style = \"text-align: right;\">0.583136</td><td style = \"text-align: right;\">0.978175</td><td style = \"text-align: right;\">0.488651</td></tr><tr><td class = \"rowNumber\" style = \"font-weight: bold; text-align: right;\">10</td><td style = \"text-align: right;\">0.659895</td><td style = \"text-align: right;\">0.195194</td><td style = \"text-align: right;\">0.234333</td></tr></tbody></table></div>"
      ],
      "text/latex": [
       "\\begin{tabular}{r|ccc}\n",
       "\t& x1 & x2 & x3\\\\\n",
       "\t\\hline\n",
       "\t& Float64 & Float64 & Float64\\\\\n",
       "\t\\hline\n",
       "\t1 & 0.443979 & 0.322834 & 0.958047 \\\\\n",
       "\t2 & 0.550436 & 0.729929 & 0.69731 \\\\\n",
       "\t3 & 0.0319706 & 0.875565 & 0.64019 \\\\\n",
       "\t4 & 0.021807 & 0.279927 & 0.917247 \\\\\n",
       "\t5 & 0.455689 & 0.706896 & 0.499138 \\\\\n",
       "\t6 & 0.47139 & 0.128089 & 0.75538 \\\\\n",
       "\t7 & 0.590305 & 0.933435 & 0.779239 \\\\\n",
       "\t8 & 0.569675 & 0.436324 & 0.249575 \\\\\n",
       "\t9 & 0.583136 & 0.978175 & 0.488651 \\\\\n",
       "\t10 & 0.659895 & 0.195194 & 0.234333 \\\\\n",
       "\\end{tabular}\n"
      ],
      "text/plain": [
       "\u001b[1m10×3 DataFrame\u001b[0m\n",
       "\u001b[1m Row \u001b[0m│\u001b[1m x1        \u001b[0m\u001b[1m x2       \u001b[0m\u001b[1m x3       \u001b[0m\n",
       "     │\u001b[90m Float64   \u001b[0m\u001b[90m Float64  \u001b[0m\u001b[90m Float64  \u001b[0m\n",
       "─────┼───────────────────────────────\n",
       "   1 │ 0.443979   0.322834  0.958047\n",
       "   2 │ 0.550436   0.729929  0.69731\n",
       "   3 │ 0.0319706  0.875565  0.64019\n",
       "   4 │ 0.021807   0.279927  0.917247\n",
       "   5 │ 0.455689   0.706896  0.499138\n",
       "   6 │ 0.47139    0.128089  0.75538\n",
       "   7 │ 0.590305   0.933435  0.779239\n",
       "   8 │ 0.569675   0.436324  0.249575\n",
       "   9 │ 0.583136   0.978175  0.488651\n",
       "  10 │ 0.659895   0.195194  0.234333"
      ]
     },
     "execution_count": 9,
     "metadata": {},
     "output_type": "execute_result"
    }
   ],
   "source": [
    "df = DataFrame(rand(10,3), :auto)"
   ]
  },
  {
   "cell_type": "code",
   "execution_count": 10,
   "id": "f4d873c8-2ac9-4434-abf7-cf432874165c",
   "metadata": {},
   "outputs": [
    {
     "data": {
      "text/plain": [
       "10×3 Matrix{Float64}:\n",
       " 0.443979   0.322834  0.958047\n",
       " 0.550436   0.729929  0.69731\n",
       " 0.0319706  0.875565  0.64019\n",
       " 0.021807   0.279927  0.917247\n",
       " 0.455689   0.706896  0.499138\n",
       " 0.47139    0.128089  0.75538\n",
       " 0.590305   0.933435  0.779239\n",
       " 0.569675   0.436324  0.249575\n",
       " 0.583136   0.978175  0.488651\n",
       " 0.659895   0.195194  0.234333"
      ]
     },
     "execution_count": 10,
     "metadata": {},
     "output_type": "execute_result"
    }
   ],
   "source": [
    "# get matrix from DataFrame\n",
    "Matrix(df)"
   ]
  },
  {
   "cell_type": "code",
   "execution_count": 11,
   "id": "59e865a0-f73a-42c9-af3e-d5e9e284b1a2",
   "metadata": {},
   "outputs": [],
   "source": [
    "# we can also other package calles tables for handling tabular data"
   ]
  },
  {
   "cell_type": "code",
   "execution_count": 13,
   "id": "031d8cfb-e075-49d5-9098-6990c1874e07",
   "metadata": {},
   "outputs": [],
   "source": [
    "# Pkg.add(\"Tables\")"
   ]
  },
  {
   "cell_type": "code",
   "execution_count": 14,
   "id": "5a6be775-7b28-4303-b06b-5956aa8f5276",
   "metadata": {},
   "outputs": [],
   "source": [
    "using Tables"
   ]
  },
  {
   "cell_type": "code",
   "execution_count": 16,
   "id": "e76b5fdf-eb76-460d-96ff-251d016f59bc",
   "metadata": {},
   "outputs": [
    {
     "data": {
      "text/plain": [
       "(x1 = [0.4439787956858683, 0.5504361085551274, 0.03197060244421046, 0.021806956519254794, 0.4556894248121939, 0.4713895390643338, 0.5903046430592885, 0.5696745844034141, 0.5831357851601934, 0.6598945845298188], x2 = [0.32283425640614527, 0.7299289652663414, 0.8755653562856768, 0.2799273255532284, 0.7068961594848681, 0.12808922341743223, 0.9334347806418041, 0.43632430510800213, 0.9781747488074417, 0.19519368785340585], x3 = [0.958047446476785, 0.6973101338553892, 0.6401898256521407, 0.9172465052481175, 0.4991378549536526, 0.7553795395122622, 0.7792387096214752, 0.2495747918398049, 0.48865078990218047, 0.23433334326061517])"
      ]
     },
     "execution_count": 16,
     "metadata": {},
     "output_type": "execute_result"
    }
   ],
   "source": [
    "tb = Tables.columntable(df)"
   ]
  },
  {
   "cell_type": "code",
   "execution_count": 17,
   "id": "99098fd7-78d4-4572-b46a-e1ebd30fc46f",
   "metadata": {},
   "outputs": [
    {
     "data": {
      "text/plain": [
       "NamedTuple{(:x1, :x2, :x3), Tuple{Vector{Float64}, Vector{Float64}, Vector{Float64}}}"
      ]
     },
     "execution_count": 17,
     "metadata": {},
     "output_type": "execute_result"
    }
   ],
   "source": [
    "typeof(tb)"
   ]
  },
  {
   "cell_type": "code",
   "execution_count": 18,
   "id": "d284206c-8be2-48e2-b76a-859ca9bbba0f",
   "metadata": {},
   "outputs": [
    {
     "data": {
      "text/plain": [
       "10-element Vector{Float64}:\n",
       " 0.4439787956858683\n",
       " 0.5504361085551274\n",
       " 0.03197060244421046\n",
       " 0.021806956519254794\n",
       " 0.4556894248121939\n",
       " 0.4713895390643338\n",
       " 0.5903046430592885\n",
       " 0.5696745844034141\n",
       " 0.5831357851601934\n",
       " 0.6598945845298188"
      ]
     },
     "execution_count": 18,
     "metadata": {},
     "output_type": "execute_result"
    }
   ],
   "source": [
    "tb.x1 # get x1 column"
   ]
  },
  {
   "cell_type": "code",
   "execution_count": 19,
   "id": "6f28f250-c3fc-4e4a-9eed-dcfc589238fb",
   "metadata": {},
   "outputs": [
    {
     "data": {
      "text/plain": [
       "10-element Vector{Float64}:\n",
       " 0.32283425640614527\n",
       " 0.7299289652663414\n",
       " 0.8755653562856768\n",
       " 0.2799273255532284\n",
       " 0.7068961594848681\n",
       " 0.12808922341743223\n",
       " 0.9334347806418041\n",
       " 0.43632430510800213\n",
       " 0.9781747488074417\n",
       " 0.19519368785340585"
      ]
     },
     "execution_count": 19,
     "metadata": {},
     "output_type": "execute_result"
    }
   ],
   "source": [
    "tb.x2 # get x2 column"
   ]
  },
  {
   "cell_type": "code",
   "execution_count": 20,
   "id": "f4242013-5d0e-4960-aeed-c9e08b5d610a",
   "metadata": {},
   "outputs": [],
   "source": [
    "# we will use dataframes for our tasks"
   ]
  },
  {
   "cell_type": "code",
   "execution_count": 21,
   "id": "c0e2722d-c5f1-4b8b-8399-a07fb3ca5acf",
   "metadata": {},
   "outputs": [
    {
     "data": {
      "text/plain": [
       "3-element Vector{String}:\n",
       " \"x1\"\n",
       " \"x2\"\n",
       " \"x3\""
      ]
     },
     "execution_count": 21,
     "metadata": {},
     "output_type": "execute_result"
    }
   ],
   "source": [
    "names(df) # get column names"
   ]
  },
  {
   "cell_type": "code",
   "execution_count": 22,
   "id": "6c572dc0-7499-4065-bd48-78b6704d73a1",
   "metadata": {},
   "outputs": [
    {
     "data": {
      "text/plain": [
       "(10, 3)"
      ]
     },
     "execution_count": 22,
     "metadata": {},
     "output_type": "execute_result"
    }
   ],
   "source": [
    "size(df) # get dimensions of the dataframe"
   ]
  },
  {
   "cell_type": "code",
   "execution_count": 23,
   "id": "50fcac5b-9cf1-4837-8e2a-4bdcf60b9598",
   "metadata": {},
   "outputs": [
    {
     "data": {
      "text/plain": [
       "10"
      ]
     },
     "execution_count": 23,
     "metadata": {},
     "output_type": "execute_result"
    }
   ],
   "source": [
    "size(df)[1] # get number of rows"
   ]
  },
  {
   "cell_type": "code",
   "execution_count": 24,
   "id": "1ceba1b9-ae50-4120-8b09-03d78ea9b7ef",
   "metadata": {},
   "outputs": [
    {
     "data": {
      "text/plain": [
       "3"
      ]
     },
     "execution_count": 24,
     "metadata": {},
     "output_type": "execute_result"
    }
   ],
   "source": [
    "size(df)[2] # get number of columns"
   ]
  },
  {
   "cell_type": "code",
   "execution_count": 25,
   "id": "58c12519-4bf2-4944-89f2-8703db77490f",
   "metadata": {},
   "outputs": [
    {
     "data": {
      "text/plain": [
       "10"
      ]
     },
     "execution_count": 25,
     "metadata": {},
     "output_type": "execute_result"
    }
   ],
   "source": [
    "nrow(df) # will give number of rows"
   ]
  },
  {
   "cell_type": "code",
   "execution_count": 26,
   "id": "ebececef-fdc4-4dcb-8d3b-2e0aaf7aec28",
   "metadata": {},
   "outputs": [
    {
     "data": {
      "text/plain": [
       "3"
      ]
     },
     "execution_count": 26,
     "metadata": {},
     "output_type": "execute_result"
    }
   ],
   "source": [
    "ncol(df) # will give number of columnns"
   ]
  },
  {
   "cell_type": "code",
   "execution_count": 28,
   "id": "bebe650a-be57-4e40-ae46-be89f26d5c7e",
   "metadata": {},
   "outputs": [
    {
     "data": {
      "text/html": [
       "<div><div style = \"float: left;\"><span>3×7 DataFrame</span></div><div style = \"clear: both;\"></div></div><div class = \"data-frame\" style = \"overflow-x: scroll;\"><table class = \"data-frame\" style = \"margin-bottom: 6px;\"><thead><tr class = \"header\"><th class = \"rowNumber\" style = \"font-weight: bold; text-align: right;\">Row</th><th style = \"text-align: left;\">variable</th><th style = \"text-align: left;\">mean</th><th style = \"text-align: left;\">min</th><th style = \"text-align: left;\">median</th><th style = \"text-align: left;\">max</th><th style = \"text-align: left;\">nmissing</th><th style = \"text-align: left;\">eltype</th></tr><tr class = \"subheader headerLastRow\"><th class = \"rowNumber\" style = \"font-weight: bold; text-align: right;\"></th><th title = \"Symbol\" style = \"text-align: left;\">Symbol</th><th title = \"Float64\" style = \"text-align: left;\">Float64</th><th title = \"Float64\" style = \"text-align: left;\">Float64</th><th title = \"Float64\" style = \"text-align: left;\">Float64</th><th title = \"Float64\" style = \"text-align: left;\">Float64</th><th title = \"Int64\" style = \"text-align: left;\">Int64</th><th title = \"DataType\" style = \"text-align: left;\">DataType</th></tr></thead><tbody><tr><td class = \"rowNumber\" style = \"font-weight: bold; text-align: right;\">1</td><td style = \"text-align: left;\">x1</td><td style = \"text-align: right;\">0.437828</td><td style = \"text-align: right;\">0.021807</td><td style = \"text-align: right;\">0.510913</td><td style = \"text-align: right;\">0.659895</td><td style = \"text-align: right;\">0</td><td style = \"text-align: left;\">Float64</td></tr><tr><td class = \"rowNumber\" style = \"font-weight: bold; text-align: right;\">2</td><td style = \"text-align: left;\">x2</td><td style = \"text-align: right;\">0.558637</td><td style = \"text-align: right;\">0.128089</td><td style = \"text-align: right;\">0.57161</td><td style = \"text-align: right;\">0.978175</td><td style = \"text-align: right;\">0</td><td style = \"text-align: left;\">Float64</td></tr><tr><td class = \"rowNumber\" style = \"font-weight: bold; text-align: right;\">3</td><td style = \"text-align: left;\">x3</td><td style = \"text-align: right;\">0.621911</td><td style = \"text-align: right;\">0.234333</td><td style = \"text-align: right;\">0.66875</td><td style = \"text-align: right;\">0.958047</td><td style = \"text-align: right;\">0</td><td style = \"text-align: left;\">Float64</td></tr></tbody></table></div>"
      ],
      "text/latex": [
       "\\begin{tabular}{r|ccccccc}\n",
       "\t& variable & mean & min & median & max & nmissing & eltype\\\\\n",
       "\t\\hline\n",
       "\t& Symbol & Float64 & Float64 & Float64 & Float64 & Int64 & DataType\\\\\n",
       "\t\\hline\n",
       "\t1 & x1 & 0.437828 & 0.021807 & 0.510913 & 0.659895 & 0 & Float64 \\\\\n",
       "\t2 & x2 & 0.558637 & 0.128089 & 0.57161 & 0.978175 & 0 & Float64 \\\\\n",
       "\t3 & x3 & 0.621911 & 0.234333 & 0.66875 & 0.958047 & 0 & Float64 \\\\\n",
       "\\end{tabular}\n"
      ],
      "text/plain": [
       "\u001b[1m3×7 DataFrame\u001b[0m\n",
       "\u001b[1m Row \u001b[0m│\u001b[1m variable \u001b[0m\u001b[1m mean     \u001b[0m\u001b[1m min      \u001b[0m\u001b[1m median   \u001b[0m\u001b[1m max      \u001b[0m\u001b[1m nmissing \u001b[0m\u001b[1m eltype   \u001b[0m\n",
       "     │\u001b[90m Symbol   \u001b[0m\u001b[90m Float64  \u001b[0m\u001b[90m Float64  \u001b[0m\u001b[90m Float64  \u001b[0m\u001b[90m Float64  \u001b[0m\u001b[90m Int64    \u001b[0m\u001b[90m DataType \u001b[0m\n",
       "─────┼──────────────────────────────────────────────────────────────────────\n",
       "   1 │ x1        0.437828  0.021807  0.510913  0.659895         0  Float64\n",
       "   2 │ x2        0.558637  0.128089  0.57161   0.978175         0  Float64\n",
       "   3 │ x3        0.621911  0.234333  0.66875   0.958047         0  Float64"
      ]
     },
     "execution_count": 28,
     "metadata": {},
     "output_type": "execute_result"
    }
   ],
   "source": [
    "describe(df) # similar to describe in python"
   ]
  },
  {
   "cell_type": "code",
   "execution_count": 29,
   "id": "8f954f45-1375-4a57-940e-ab1434251056",
   "metadata": {},
   "outputs": [
    {
     "data": {
      "text/html": [
       "<div><div style = \"float: left;\"><span>2×7 DataFrame</span></div><div style = \"clear: both;\"></div></div><div class = \"data-frame\" style = \"overflow-x: scroll;\"><table class = \"data-frame\" style = \"margin-bottom: 6px;\"><thead><tr class = \"header\"><th class = \"rowNumber\" style = \"font-weight: bold; text-align: right;\">Row</th><th style = \"text-align: left;\">variable</th><th style = \"text-align: left;\">mean</th><th style = \"text-align: left;\">min</th><th style = \"text-align: left;\">median</th><th style = \"text-align: left;\">max</th><th style = \"text-align: left;\">nmissing</th><th style = \"text-align: left;\">eltype</th></tr><tr class = \"subheader headerLastRow\"><th class = \"rowNumber\" style = \"font-weight: bold; text-align: right;\"></th><th title = \"Symbol\" style = \"text-align: left;\">Symbol</th><th title = \"Float64\" style = \"text-align: left;\">Float64</th><th title = \"Float64\" style = \"text-align: left;\">Float64</th><th title = \"Float64\" style = \"text-align: left;\">Float64</th><th title = \"Float64\" style = \"text-align: left;\">Float64</th><th title = \"Int64\" style = \"text-align: left;\">Int64</th><th title = \"DataType\" style = \"text-align: left;\">DataType</th></tr></thead><tbody><tr><td class = \"rowNumber\" style = \"font-weight: bold; text-align: right;\">1</td><td style = \"text-align: left;\">x1</td><td style = \"text-align: right;\">0.437828</td><td style = \"text-align: right;\">0.021807</td><td style = \"text-align: right;\">0.510913</td><td style = \"text-align: right;\">0.659895</td><td style = \"text-align: right;\">0</td><td style = \"text-align: left;\">Float64</td></tr><tr><td class = \"rowNumber\" style = \"font-weight: bold; text-align: right;\">2</td><td style = \"text-align: left;\">x2</td><td style = \"text-align: right;\">0.558637</td><td style = \"text-align: right;\">0.128089</td><td style = \"text-align: right;\">0.57161</td><td style = \"text-align: right;\">0.978175</td><td style = \"text-align: right;\">0</td><td style = \"text-align: left;\">Float64</td></tr></tbody></table></div>"
      ],
      "text/latex": [
       "\\begin{tabular}{r|ccccccc}\n",
       "\t& variable & mean & min & median & max & nmissing & eltype\\\\\n",
       "\t\\hline\n",
       "\t& Symbol & Float64 & Float64 & Float64 & Float64 & Int64 & DataType\\\\\n",
       "\t\\hline\n",
       "\t1 & x1 & 0.437828 & 0.021807 & 0.510913 & 0.659895 & 0 & Float64 \\\\\n",
       "\t2 & x2 & 0.558637 & 0.128089 & 0.57161 & 0.978175 & 0 & Float64 \\\\\n",
       "\\end{tabular}\n"
      ],
      "text/plain": [
       "\u001b[1m2×7 DataFrame\u001b[0m\n",
       "\u001b[1m Row \u001b[0m│\u001b[1m variable \u001b[0m\u001b[1m mean     \u001b[0m\u001b[1m min      \u001b[0m\u001b[1m median   \u001b[0m\u001b[1m max      \u001b[0m\u001b[1m nmissing \u001b[0m\u001b[1m eltype   \u001b[0m\n",
       "     │\u001b[90m Symbol   \u001b[0m\u001b[90m Float64  \u001b[0m\u001b[90m Float64  \u001b[0m\u001b[90m Float64  \u001b[0m\u001b[90m Float64  \u001b[0m\u001b[90m Int64    \u001b[0m\u001b[90m DataType \u001b[0m\n",
       "─────┼──────────────────────────────────────────────────────────────────────\n",
       "   1 │ x1        0.437828  0.021807  0.510913  0.659895         0  Float64\n",
       "   2 │ x2        0.558637  0.128089  0.57161   0.978175         0  Float64"
      ]
     },
     "execution_count": 29,
     "metadata": {},
     "output_type": "execute_result"
    }
   ],
   "source": [
    "describe(df, cols=1:2) # calculate only for few columns"
   ]
  },
  {
   "cell_type": "code",
   "execution_count": 30,
   "id": "77abc6a7-d29e-4ff3-83a5-942a601b8c85",
   "metadata": {},
   "outputs": [
    {
     "data": {
      "text/plain": [
       "3-element Vector{DataType}:\n",
       " Float64\n",
       " Float64\n",
       " Float64"
      ]
     },
     "execution_count": 30,
     "metadata": {},
     "output_type": "execute_result"
    }
   ],
   "source": [
    "eltype.(eachcol(df)) # get datatype of each column similar to dtypes in python"
   ]
  },
  {
   "cell_type": "code",
   "execution_count": 32,
   "id": "a696a55e-a1eb-416a-b835-271ea656041b",
   "metadata": {},
   "outputs": [
    {
     "data": {
      "text/html": [
       "<div><div style = \"float: left;\"><span>5×3 DataFrame</span></div><div style = \"clear: both;\"></div></div><div class = \"data-frame\" style = \"overflow-x: scroll;\"><table class = \"data-frame\" style = \"margin-bottom: 6px;\"><thead><tr class = \"header\"><th class = \"rowNumber\" style = \"font-weight: bold; text-align: right;\">Row</th><th style = \"text-align: left;\">x1</th><th style = \"text-align: left;\">x2</th><th style = \"text-align: left;\">x3</th></tr><tr class = \"subheader headerLastRow\"><th class = \"rowNumber\" style = \"font-weight: bold; text-align: right;\"></th><th title = \"Float64\" style = \"text-align: left;\">Float64</th><th title = \"Float64\" style = \"text-align: left;\">Float64</th><th title = \"Float64\" style = \"text-align: left;\">Float64</th></tr></thead><tbody><tr><td class = \"rowNumber\" style = \"font-weight: bold; text-align: right;\">1</td><td style = \"text-align: right;\">0.443979</td><td style = \"text-align: right;\">0.322834</td><td style = \"text-align: right;\">0.958047</td></tr><tr><td class = \"rowNumber\" style = \"font-weight: bold; text-align: right;\">2</td><td style = \"text-align: right;\">0.550436</td><td style = \"text-align: right;\">0.729929</td><td style = \"text-align: right;\">0.69731</td></tr><tr><td class = \"rowNumber\" style = \"font-weight: bold; text-align: right;\">3</td><td style = \"text-align: right;\">0.0319706</td><td style = \"text-align: right;\">0.875565</td><td style = \"text-align: right;\">0.64019</td></tr><tr><td class = \"rowNumber\" style = \"font-weight: bold; text-align: right;\">4</td><td style = \"text-align: right;\">0.021807</td><td style = \"text-align: right;\">0.279927</td><td style = \"text-align: right;\">0.917247</td></tr><tr><td class = \"rowNumber\" style = \"font-weight: bold; text-align: right;\">5</td><td style = \"text-align: right;\">0.455689</td><td style = \"text-align: right;\">0.706896</td><td style = \"text-align: right;\">0.499138</td></tr></tbody></table></div>"
      ],
      "text/latex": [
       "\\begin{tabular}{r|ccc}\n",
       "\t& x1 & x2 & x3\\\\\n",
       "\t\\hline\n",
       "\t& Float64 & Float64 & Float64\\\\\n",
       "\t\\hline\n",
       "\t1 & 0.443979 & 0.322834 & 0.958047 \\\\\n",
       "\t2 & 0.550436 & 0.729929 & 0.69731 \\\\\n",
       "\t3 & 0.0319706 & 0.875565 & 0.64019 \\\\\n",
       "\t4 & 0.021807 & 0.279927 & 0.917247 \\\\\n",
       "\t5 & 0.455689 & 0.706896 & 0.499138 \\\\\n",
       "\\end{tabular}\n"
      ],
      "text/plain": [
       "\u001b[1m5×3 DataFrame\u001b[0m\n",
       "\u001b[1m Row \u001b[0m│\u001b[1m x1        \u001b[0m\u001b[1m x2       \u001b[0m\u001b[1m x3       \u001b[0m\n",
       "     │\u001b[90m Float64   \u001b[0m\u001b[90m Float64  \u001b[0m\u001b[90m Float64  \u001b[0m\n",
       "─────┼───────────────────────────────\n",
       "   1 │ 0.443979   0.322834  0.958047\n",
       "   2 │ 0.550436   0.729929  0.69731\n",
       "   3 │ 0.0319706  0.875565  0.64019\n",
       "   4 │ 0.021807   0.279927  0.917247\n",
       "   5 │ 0.455689   0.706896  0.499138"
      ]
     },
     "execution_count": 32,
     "metadata": {},
     "output_type": "execute_result"
    }
   ],
   "source": [
    "first(df, 5) # head(df) in python"
   ]
  },
  {
   "cell_type": "code",
   "execution_count": 33,
   "id": "8ae0278d-bac6-4cb7-b7a5-6db8a33683ca",
   "metadata": {},
   "outputs": [
    {
     "data": {
      "text/html": [
       "<div><div style = \"float: left;\"><span>5×3 DataFrame</span></div><div style = \"clear: both;\"></div></div><div class = \"data-frame\" style = \"overflow-x: scroll;\"><table class = \"data-frame\" style = \"margin-bottom: 6px;\"><thead><tr class = \"header\"><th class = \"rowNumber\" style = \"font-weight: bold; text-align: right;\">Row</th><th style = \"text-align: left;\">x1</th><th style = \"text-align: left;\">x2</th><th style = \"text-align: left;\">x3</th></tr><tr class = \"subheader headerLastRow\"><th class = \"rowNumber\" style = \"font-weight: bold; text-align: right;\"></th><th title = \"Float64\" style = \"text-align: left;\">Float64</th><th title = \"Float64\" style = \"text-align: left;\">Float64</th><th title = \"Float64\" style = \"text-align: left;\">Float64</th></tr></thead><tbody><tr><td class = \"rowNumber\" style = \"font-weight: bold; text-align: right;\">1</td><td style = \"text-align: right;\">0.47139</td><td style = \"text-align: right;\">0.128089</td><td style = \"text-align: right;\">0.75538</td></tr><tr><td class = \"rowNumber\" style = \"font-weight: bold; text-align: right;\">2</td><td style = \"text-align: right;\">0.590305</td><td style = \"text-align: right;\">0.933435</td><td style = \"text-align: right;\">0.779239</td></tr><tr><td class = \"rowNumber\" style = \"font-weight: bold; text-align: right;\">3</td><td style = \"text-align: right;\">0.569675</td><td style = \"text-align: right;\">0.436324</td><td style = \"text-align: right;\">0.249575</td></tr><tr><td class = \"rowNumber\" style = \"font-weight: bold; text-align: right;\">4</td><td style = \"text-align: right;\">0.583136</td><td style = \"text-align: right;\">0.978175</td><td style = \"text-align: right;\">0.488651</td></tr><tr><td class = \"rowNumber\" style = \"font-weight: bold; text-align: right;\">5</td><td style = \"text-align: right;\">0.659895</td><td style = \"text-align: right;\">0.195194</td><td style = \"text-align: right;\">0.234333</td></tr></tbody></table></div>"
      ],
      "text/latex": [
       "\\begin{tabular}{r|ccc}\n",
       "\t& x1 & x2 & x3\\\\\n",
       "\t\\hline\n",
       "\t& Float64 & Float64 & Float64\\\\\n",
       "\t\\hline\n",
       "\t1 & 0.47139 & 0.128089 & 0.75538 \\\\\n",
       "\t2 & 0.590305 & 0.933435 & 0.779239 \\\\\n",
       "\t3 & 0.569675 & 0.436324 & 0.249575 \\\\\n",
       "\t4 & 0.583136 & 0.978175 & 0.488651 \\\\\n",
       "\t5 & 0.659895 & 0.195194 & 0.234333 \\\\\n",
       "\\end{tabular}\n"
      ],
      "text/plain": [
       "\u001b[1m5×3 DataFrame\u001b[0m\n",
       "\u001b[1m Row \u001b[0m│\u001b[1m x1       \u001b[0m\u001b[1m x2       \u001b[0m\u001b[1m x3       \u001b[0m\n",
       "     │\u001b[90m Float64  \u001b[0m\u001b[90m Float64  \u001b[0m\u001b[90m Float64  \u001b[0m\n",
       "─────┼──────────────────────────────\n",
       "   1 │ 0.47139   0.128089  0.75538\n",
       "   2 │ 0.590305  0.933435  0.779239\n",
       "   3 │ 0.569675  0.436324  0.249575\n",
       "   4 │ 0.583136  0.978175  0.488651\n",
       "   5 │ 0.659895  0.195194  0.234333"
      ]
     },
     "execution_count": 33,
     "metadata": {},
     "output_type": "execute_result"
    }
   ],
   "source": [
    "last(df, 5) # tail(df) in python"
   ]
  },
  {
   "cell_type": "code",
   "execution_count": 34,
   "id": "17ed7fcf-1212-4f4c-b103-cb097d5ff635",
   "metadata": {},
   "outputs": [
    {
     "data": {
      "text/html": [
       "<div><div style = \"float: left;\"><span>7×2 DataFrame</span></div><div style = \"clear: both;\"></div></div><div class = \"data-frame\" style = \"overflow-x: scroll;\"><table class = \"data-frame\" style = \"margin-bottom: 6px;\"><thead><tr class = \"header\"><th class = \"rowNumber\" style = \"font-weight: bold; text-align: right;\">Row</th><th style = \"text-align: left;\">x1</th><th style = \"text-align: left;\">x2</th></tr><tr class = \"subheader headerLastRow\"><th class = \"rowNumber\" style = \"font-weight: bold; text-align: right;\"></th><th title = \"Float64\" style = \"text-align: left;\">Float64</th><th title = \"Float64\" style = \"text-align: left;\">Float64</th></tr></thead><tbody><tr><td class = \"rowNumber\" style = \"font-weight: bold; text-align: right;\">1</td><td style = \"text-align: right;\">0.443979</td><td style = \"text-align: right;\">0.322834</td></tr><tr><td class = \"rowNumber\" style = \"font-weight: bold; text-align: right;\">2</td><td style = \"text-align: right;\">0.550436</td><td style = \"text-align: right;\">0.729929</td></tr><tr><td class = \"rowNumber\" style = \"font-weight: bold; text-align: right;\">3</td><td style = \"text-align: right;\">0.0319706</td><td style = \"text-align: right;\">0.875565</td></tr><tr><td class = \"rowNumber\" style = \"font-weight: bold; text-align: right;\">4</td><td style = \"text-align: right;\">0.021807</td><td style = \"text-align: right;\">0.279927</td></tr><tr><td class = \"rowNumber\" style = \"font-weight: bold; text-align: right;\">5</td><td style = \"text-align: right;\">0.455689</td><td style = \"text-align: right;\">0.706896</td></tr><tr><td class = \"rowNumber\" style = \"font-weight: bold; text-align: right;\">6</td><td style = \"text-align: right;\">0.47139</td><td style = \"text-align: right;\">0.128089</td></tr><tr><td class = \"rowNumber\" style = \"font-weight: bold; text-align: right;\">7</td><td style = \"text-align: right;\">0.590305</td><td style = \"text-align: right;\">0.933435</td></tr></tbody></table></div>"
      ],
      "text/latex": [
       "\\begin{tabular}{r|cc}\n",
       "\t& x1 & x2\\\\\n",
       "\t\\hline\n",
       "\t& Float64 & Float64\\\\\n",
       "\t\\hline\n",
       "\t1 & 0.443979 & 0.322834 \\\\\n",
       "\t2 & 0.550436 & 0.729929 \\\\\n",
       "\t3 & 0.0319706 & 0.875565 \\\\\n",
       "\t4 & 0.021807 & 0.279927 \\\\\n",
       "\t5 & 0.455689 & 0.706896 \\\\\n",
       "\t6 & 0.47139 & 0.128089 \\\\\n",
       "\t7 & 0.590305 & 0.933435 \\\\\n",
       "\\end{tabular}\n"
      ],
      "text/plain": [
       "\u001b[1m7×2 DataFrame\u001b[0m\n",
       "\u001b[1m Row \u001b[0m│\u001b[1m x1        \u001b[0m\u001b[1m x2       \u001b[0m\n",
       "     │\u001b[90m Float64   \u001b[0m\u001b[90m Float64  \u001b[0m\n",
       "─────┼─────────────────────\n",
       "   1 │ 0.443979   0.322834\n",
       "   2 │ 0.550436   0.729929\n",
       "   3 │ 0.0319706  0.875565\n",
       "   4 │ 0.021807   0.279927\n",
       "   5 │ 0.455689   0.706896\n",
       "   6 │ 0.47139    0.128089\n",
       "   7 │ 0.590305   0.933435"
      ]
     },
     "execution_count": 34,
     "metadata": {},
     "output_type": "execute_result"
    }
   ],
   "source": [
    "# select some data\n",
    "df[1:7,[\"x1\",\"x2\"]] # this is very similar to python"
   ]
  },
  {
   "cell_type": "code",
   "execution_count": 44,
   "id": "871a1ef4-405a-4deb-99be-08a90ba40b60",
   "metadata": {},
   "outputs": [
    {
     "data": {
      "text/html": [
       "<div><div style = \"float: left;\"><span>7×2 DataFrame</span></div><div style = \"clear: both;\"></div></div><div class = \"data-frame\" style = \"overflow-x: scroll;\"><table class = \"data-frame\" style = \"margin-bottom: 6px;\"><thead><tr class = \"header\"><th class = \"rowNumber\" style = \"font-weight: bold; text-align: right;\">Row</th><th style = \"text-align: left;\">x1</th><th style = \"text-align: left;\">x2</th></tr><tr class = \"subheader headerLastRow\"><th class = \"rowNumber\" style = \"font-weight: bold; text-align: right;\"></th><th title = \"Float64\" style = \"text-align: left;\">Float64</th><th title = \"Float64\" style = \"text-align: left;\">Float64</th></tr></thead><tbody><tr><td class = \"rowNumber\" style = \"font-weight: bold; text-align: right;\">1</td><td style = \"text-align: right;\">0.443979</td><td style = \"text-align: right;\">0.322834</td></tr><tr><td class = \"rowNumber\" style = \"font-weight: bold; text-align: right;\">2</td><td style = \"text-align: right;\">0.550436</td><td style = \"text-align: right;\">0.729929</td></tr><tr><td class = \"rowNumber\" style = \"font-weight: bold; text-align: right;\">3</td><td style = \"text-align: right;\">0.0319706</td><td style = \"text-align: right;\">0.875565</td></tr><tr><td class = \"rowNumber\" style = \"font-weight: bold; text-align: right;\">4</td><td style = \"text-align: right;\">0.021807</td><td style = \"text-align: right;\">0.279927</td></tr><tr><td class = \"rowNumber\" style = \"font-weight: bold; text-align: right;\">5</td><td style = \"text-align: right;\">0.455689</td><td style = \"text-align: right;\">0.706896</td></tr><tr><td class = \"rowNumber\" style = \"font-weight: bold; text-align: right;\">6</td><td style = \"text-align: right;\">0.47139</td><td style = \"text-align: right;\">0.128089</td></tr><tr><td class = \"rowNumber\" style = \"font-weight: bold; text-align: right;\">7</td><td style = \"text-align: right;\">0.590305</td><td style = \"text-align: right;\">0.933435</td></tr></tbody></table></div>"
      ],
      "text/latex": [
       "\\begin{tabular}{r|cc}\n",
       "\t& x1 & x2\\\\\n",
       "\t\\hline\n",
       "\t& Float64 & Float64\\\\\n",
       "\t\\hline\n",
       "\t1 & 0.443979 & 0.322834 \\\\\n",
       "\t2 & 0.550436 & 0.729929 \\\\\n",
       "\t3 & 0.0319706 & 0.875565 \\\\\n",
       "\t4 & 0.021807 & 0.279927 \\\\\n",
       "\t5 & 0.455689 & 0.706896 \\\\\n",
       "\t6 & 0.47139 & 0.128089 \\\\\n",
       "\t7 & 0.590305 & 0.933435 \\\\\n",
       "\\end{tabular}\n"
      ],
      "text/plain": [
       "\u001b[1m7×2 DataFrame\u001b[0m\n",
       "\u001b[1m Row \u001b[0m│\u001b[1m x1        \u001b[0m\u001b[1m x2       \u001b[0m\n",
       "     │\u001b[90m Float64   \u001b[0m\u001b[90m Float64  \u001b[0m\n",
       "─────┼─────────────────────\n",
       "   1 │ 0.443979   0.322834\n",
       "   2 │ 0.550436   0.729929\n",
       "   3 │ 0.0319706  0.875565\n",
       "   4 │ 0.021807   0.279927\n",
       "   5 │ 0.455689   0.706896\n",
       "   6 │ 0.47139    0.128089\n",
       "   7 │ 0.590305   0.933435"
      ]
     },
     "execution_count": 44,
     "metadata": {},
     "output_type": "execute_result"
    }
   ],
   "source": [
    "# or you can do the same as below\n",
    "df[1:7, 1:2]"
   ]
  },
  {
   "cell_type": "code",
   "execution_count": 48,
   "id": "25785e1f-7074-4b27-a4bd-0a91f666787b",
   "metadata": {},
   "outputs": [
    {
     "data": {
      "text/html": [
       "<div><div style = \"float: left;\"><span>10×2 DataFrame</span></div><div style = \"clear: both;\"></div></div><div class = \"data-frame\" style = \"overflow-x: scroll;\"><table class = \"data-frame\" style = \"margin-bottom: 6px;\"><thead><tr class = \"header\"><th class = \"rowNumber\" style = \"font-weight: bold; text-align: right;\">Row</th><th style = \"text-align: left;\">x1</th><th style = \"text-align: left;\">x2</th></tr><tr class = \"subheader headerLastRow\"><th class = \"rowNumber\" style = \"font-weight: bold; text-align: right;\"></th><th title = \"Float64\" style = \"text-align: left;\">Float64</th><th title = \"Float64\" style = \"text-align: left;\">Float64</th></tr></thead><tbody><tr><td class = \"rowNumber\" style = \"font-weight: bold; text-align: right;\">1</td><td style = \"text-align: right;\">0.443979</td><td style = \"text-align: right;\">0.322834</td></tr><tr><td class = \"rowNumber\" style = \"font-weight: bold; text-align: right;\">2</td><td style = \"text-align: right;\">0.550436</td><td style = \"text-align: right;\">0.729929</td></tr><tr><td class = \"rowNumber\" style = \"font-weight: bold; text-align: right;\">3</td><td style = \"text-align: right;\">0.0319706</td><td style = \"text-align: right;\">0.875565</td></tr><tr><td class = \"rowNumber\" style = \"font-weight: bold; text-align: right;\">4</td><td style = \"text-align: right;\">0.021807</td><td style = \"text-align: right;\">0.279927</td></tr><tr><td class = \"rowNumber\" style = \"font-weight: bold; text-align: right;\">5</td><td style = \"text-align: right;\">0.455689</td><td style = \"text-align: right;\">0.706896</td></tr><tr><td class = \"rowNumber\" style = \"font-weight: bold; text-align: right;\">6</td><td style = \"text-align: right;\">0.47139</td><td style = \"text-align: right;\">0.128089</td></tr><tr><td class = \"rowNumber\" style = \"font-weight: bold; text-align: right;\">7</td><td style = \"text-align: right;\">0.590305</td><td style = \"text-align: right;\">0.933435</td></tr><tr><td class = \"rowNumber\" style = \"font-weight: bold; text-align: right;\">8</td><td style = \"text-align: right;\">0.569675</td><td style = \"text-align: right;\">0.436324</td></tr><tr><td class = \"rowNumber\" style = \"font-weight: bold; text-align: right;\">9</td><td style = \"text-align: right;\">0.583136</td><td style = \"text-align: right;\">0.978175</td></tr><tr><td class = \"rowNumber\" style = \"font-weight: bold; text-align: right;\">10</td><td style = \"text-align: right;\">0.659895</td><td style = \"text-align: right;\">0.195194</td></tr></tbody></table></div>"
      ],
      "text/latex": [
       "\\begin{tabular}{r|cc}\n",
       "\t& x1 & x2\\\\\n",
       "\t\\hline\n",
       "\t& Float64 & Float64\\\\\n",
       "\t\\hline\n",
       "\t1 & 0.443979 & 0.322834 \\\\\n",
       "\t2 & 0.550436 & 0.729929 \\\\\n",
       "\t3 & 0.0319706 & 0.875565 \\\\\n",
       "\t4 & 0.021807 & 0.279927 \\\\\n",
       "\t5 & 0.455689 & 0.706896 \\\\\n",
       "\t6 & 0.47139 & 0.128089 \\\\\n",
       "\t7 & 0.590305 & 0.933435 \\\\\n",
       "\t8 & 0.569675 & 0.436324 \\\\\n",
       "\t9 & 0.583136 & 0.978175 \\\\\n",
       "\t10 & 0.659895 & 0.195194 \\\\\n",
       "\\end{tabular}\n"
      ],
      "text/plain": [
       "\u001b[1m10×2 DataFrame\u001b[0m\n",
       "\u001b[1m Row \u001b[0m│\u001b[1m x1        \u001b[0m\u001b[1m x2       \u001b[0m\n",
       "     │\u001b[90m Float64   \u001b[0m\u001b[90m Float64  \u001b[0m\n",
       "─────┼─────────────────────\n",
       "   1 │ 0.443979   0.322834\n",
       "   2 │ 0.550436   0.729929\n",
       "   3 │ 0.0319706  0.875565\n",
       "   4 │ 0.021807   0.279927\n",
       "   5 │ 0.455689   0.706896\n",
       "   6 │ 0.47139    0.128089\n",
       "   7 │ 0.590305   0.933435\n",
       "   8 │ 0.569675   0.436324\n",
       "   9 │ 0.583136   0.978175\n",
       "  10 │ 0.659895   0.195194"
      ]
     },
     "execution_count": 48,
     "metadata": {},
     "output_type": "execute_result"
    }
   ],
   "source": [
    "# select few columns\n",
    "df[:, Between(:x1, :x2)]"
   ]
  },
  {
   "cell_type": "code",
   "execution_count": 46,
   "id": "f9dcddb5-8954-46c7-a397-94eb3df8e037",
   "metadata": {},
   "outputs": [
    {
     "data": {
      "text/html": [
       "<div><div style = \"float: left;\"><span>7×3 DataFrame</span></div><div style = \"clear: both;\"></div></div><div class = \"data-frame\" style = \"overflow-x: scroll;\"><table class = \"data-frame\" style = \"margin-bottom: 6px;\"><thead><tr class = \"header\"><th class = \"rowNumber\" style = \"font-weight: bold; text-align: right;\">Row</th><th style = \"text-align: left;\">x1</th><th style = \"text-align: left;\">x2</th><th style = \"text-align: left;\">x3</th></tr><tr class = \"subheader headerLastRow\"><th class = \"rowNumber\" style = \"font-weight: bold; text-align: right;\"></th><th title = \"Float64\" style = \"text-align: left;\">Float64</th><th title = \"Float64\" style = \"text-align: left;\">Float64</th><th title = \"Float64\" style = \"text-align: left;\">Float64</th></tr></thead><tbody><tr><td class = \"rowNumber\" style = \"font-weight: bold; text-align: right;\">1</td><td style = \"text-align: right;\">0.443979</td><td style = \"text-align: right;\">0.322834</td><td style = \"text-align: right;\">0.958047</td></tr><tr><td class = \"rowNumber\" style = \"font-weight: bold; text-align: right;\">2</td><td style = \"text-align: right;\">0.550436</td><td style = \"text-align: right;\">0.729929</td><td style = \"text-align: right;\">0.69731</td></tr><tr><td class = \"rowNumber\" style = \"font-weight: bold; text-align: right;\">3</td><td style = \"text-align: right;\">0.0319706</td><td style = \"text-align: right;\">0.875565</td><td style = \"text-align: right;\">0.64019</td></tr><tr><td class = \"rowNumber\" style = \"font-weight: bold; text-align: right;\">4</td><td style = \"text-align: right;\">0.021807</td><td style = \"text-align: right;\">0.279927</td><td style = \"text-align: right;\">0.917247</td></tr><tr><td class = \"rowNumber\" style = \"font-weight: bold; text-align: right;\">5</td><td style = \"text-align: right;\">0.455689</td><td style = \"text-align: right;\">0.706896</td><td style = \"text-align: right;\">0.499138</td></tr><tr><td class = \"rowNumber\" style = \"font-weight: bold; text-align: right;\">6</td><td style = \"text-align: right;\">0.47139</td><td style = \"text-align: right;\">0.128089</td><td style = \"text-align: right;\">0.75538</td></tr><tr><td class = \"rowNumber\" style = \"font-weight: bold; text-align: right;\">7</td><td style = \"text-align: right;\">0.590305</td><td style = \"text-align: right;\">0.933435</td><td style = \"text-align: right;\">0.779239</td></tr></tbody></table></div>"
      ],
      "text/latex": [
       "\\begin{tabular}{r|ccc}\n",
       "\t& x1 & x2 & x3\\\\\n",
       "\t\\hline\n",
       "\t& Float64 & Float64 & Float64\\\\\n",
       "\t\\hline\n",
       "\t1 & 0.443979 & 0.322834 & 0.958047 \\\\\n",
       "\t2 & 0.550436 & 0.729929 & 0.69731 \\\\\n",
       "\t3 & 0.0319706 & 0.875565 & 0.64019 \\\\\n",
       "\t4 & 0.021807 & 0.279927 & 0.917247 \\\\\n",
       "\t5 & 0.455689 & 0.706896 & 0.499138 \\\\\n",
       "\t6 & 0.47139 & 0.128089 & 0.75538 \\\\\n",
       "\t7 & 0.590305 & 0.933435 & 0.779239 \\\\\n",
       "\\end{tabular}\n"
      ],
      "text/plain": [
       "\u001b[1m7×3 DataFrame\u001b[0m\n",
       "\u001b[1m Row \u001b[0m│\u001b[1m x1        \u001b[0m\u001b[1m x2       \u001b[0m\u001b[1m x3       \u001b[0m\n",
       "     │\u001b[90m Float64   \u001b[0m\u001b[90m Float64  \u001b[0m\u001b[90m Float64  \u001b[0m\n",
       "─────┼───────────────────────────────\n",
       "   1 │ 0.443979   0.322834  0.958047\n",
       "   2 │ 0.550436   0.729929  0.69731\n",
       "   3 │ 0.0319706  0.875565  0.64019\n",
       "   4 │ 0.021807   0.279927  0.917247\n",
       "   5 │ 0.455689   0.706896  0.499138\n",
       "   6 │ 0.47139    0.128089  0.75538\n",
       "   7 │ 0.590305   0.933435  0.779239"
      ]
     },
     "execution_count": 46,
     "metadata": {},
     "output_type": "execute_result"
    }
   ],
   "source": [
    "# get all the columns\n",
    "df[1:7, :]"
   ]
  },
  {
   "cell_type": "code",
   "execution_count": 47,
   "id": "3856b7ba-26e8-40dc-a531-f5e230d59614",
   "metadata": {},
   "outputs": [
    {
     "data": {
      "text/html": [
       "<div><div style = \"float: left;\"><span>10×2 DataFrame</span></div><div style = \"clear: both;\"></div></div><div class = \"data-frame\" style = \"overflow-x: scroll;\"><table class = \"data-frame\" style = \"margin-bottom: 6px;\"><thead><tr class = \"header\"><th class = \"rowNumber\" style = \"font-weight: bold; text-align: right;\">Row</th><th style = \"text-align: left;\">x1</th><th style = \"text-align: left;\">x2</th></tr><tr class = \"subheader headerLastRow\"><th class = \"rowNumber\" style = \"font-weight: bold; text-align: right;\"></th><th title = \"Float64\" style = \"text-align: left;\">Float64</th><th title = \"Float64\" style = \"text-align: left;\">Float64</th></tr></thead><tbody><tr><td class = \"rowNumber\" style = \"font-weight: bold; text-align: right;\">1</td><td style = \"text-align: right;\">0.443979</td><td style = \"text-align: right;\">0.322834</td></tr><tr><td class = \"rowNumber\" style = \"font-weight: bold; text-align: right;\">2</td><td style = \"text-align: right;\">0.550436</td><td style = \"text-align: right;\">0.729929</td></tr><tr><td class = \"rowNumber\" style = \"font-weight: bold; text-align: right;\">3</td><td style = \"text-align: right;\">0.0319706</td><td style = \"text-align: right;\">0.875565</td></tr><tr><td class = \"rowNumber\" style = \"font-weight: bold; text-align: right;\">4</td><td style = \"text-align: right;\">0.021807</td><td style = \"text-align: right;\">0.279927</td></tr><tr><td class = \"rowNumber\" style = \"font-weight: bold; text-align: right;\">5</td><td style = \"text-align: right;\">0.455689</td><td style = \"text-align: right;\">0.706896</td></tr><tr><td class = \"rowNumber\" style = \"font-weight: bold; text-align: right;\">6</td><td style = \"text-align: right;\">0.47139</td><td style = \"text-align: right;\">0.128089</td></tr><tr><td class = \"rowNumber\" style = \"font-weight: bold; text-align: right;\">7</td><td style = \"text-align: right;\">0.590305</td><td style = \"text-align: right;\">0.933435</td></tr><tr><td class = \"rowNumber\" style = \"font-weight: bold; text-align: right;\">8</td><td style = \"text-align: right;\">0.569675</td><td style = \"text-align: right;\">0.436324</td></tr><tr><td class = \"rowNumber\" style = \"font-weight: bold; text-align: right;\">9</td><td style = \"text-align: right;\">0.583136</td><td style = \"text-align: right;\">0.978175</td></tr><tr><td class = \"rowNumber\" style = \"font-weight: bold; text-align: right;\">10</td><td style = \"text-align: right;\">0.659895</td><td style = \"text-align: right;\">0.195194</td></tr></tbody></table></div>"
      ],
      "text/latex": [
       "\\begin{tabular}{r|cc}\n",
       "\t& x1 & x2\\\\\n",
       "\t\\hline\n",
       "\t& Float64 & Float64\\\\\n",
       "\t\\hline\n",
       "\t1 & 0.443979 & 0.322834 \\\\\n",
       "\t2 & 0.550436 & 0.729929 \\\\\n",
       "\t3 & 0.0319706 & 0.875565 \\\\\n",
       "\t4 & 0.021807 & 0.279927 \\\\\n",
       "\t5 & 0.455689 & 0.706896 \\\\\n",
       "\t6 & 0.47139 & 0.128089 \\\\\n",
       "\t7 & 0.590305 & 0.933435 \\\\\n",
       "\t8 & 0.569675 & 0.436324 \\\\\n",
       "\t9 & 0.583136 & 0.978175 \\\\\n",
       "\t10 & 0.659895 & 0.195194 \\\\\n",
       "\\end{tabular}\n"
      ],
      "text/plain": [
       "\u001b[1m10×2 DataFrame\u001b[0m\n",
       "\u001b[1m Row \u001b[0m│\u001b[1m x1        \u001b[0m\u001b[1m x2       \u001b[0m\n",
       "     │\u001b[90m Float64   \u001b[0m\u001b[90m Float64  \u001b[0m\n",
       "─────┼─────────────────────\n",
       "   1 │ 0.443979   0.322834\n",
       "   2 │ 0.550436   0.729929\n",
       "   3 │ 0.0319706  0.875565\n",
       "   4 │ 0.021807   0.279927\n",
       "   5 │ 0.455689   0.706896\n",
       "   6 │ 0.47139    0.128089\n",
       "   7 │ 0.590305   0.933435\n",
       "   8 │ 0.569675   0.436324\n",
       "   9 │ 0.583136   0.978175\n",
       "  10 │ 0.659895   0.195194"
      ]
     },
     "execution_count": 47,
     "metadata": {},
     "output_type": "execute_result"
    }
   ],
   "source": [
    "# get all rows\n",
    "df[:, 1:2]"
   ]
  },
  {
   "cell_type": "code",
   "execution_count": 49,
   "id": "6fa47fa9-e694-4437-9547-e9f82ecb7052",
   "metadata": {},
   "outputs": [
    {
     "data": {
      "text/plain": [
       "10-element Vector{Float64}:\n",
       " 0.08880038513614985\n",
       " 0.3628806286067817\n",
       " 0.9043367080978398\n",
       " 0.8869152625118696\n",
       " 0.5029910073812068\n",
       " 0.05345172821692601\n",
       " 0.08947844999139498\n",
       " 0.8128514239798724\n",
       " 0.041042043306474096\n",
       " 0.701960703017927"
      ]
     },
     "execution_count": 49,
     "metadata": {},
     "output_type": "execute_result"
    }
   ],
   "source": [
    "# add one more column\n",
    "df.x4 = rand(10)"
   ]
  },
  {
   "cell_type": "code",
   "execution_count": 50,
   "id": "0dd6c1bf-a52f-45d9-a8d2-06e20045a84e",
   "metadata": {},
   "outputs": [
    {
     "data": {
      "text/html": [
       "<div><div style = \"float: left;\"><span>10×4 DataFrame</span></div><div style = \"clear: both;\"></div></div><div class = \"data-frame\" style = \"overflow-x: scroll;\"><table class = \"data-frame\" style = \"margin-bottom: 6px;\"><thead><tr class = \"header\"><th class = \"rowNumber\" style = \"font-weight: bold; text-align: right;\">Row</th><th style = \"text-align: left;\">x1</th><th style = \"text-align: left;\">x2</th><th style = \"text-align: left;\">x3</th><th style = \"text-align: left;\">x4</th></tr><tr class = \"subheader headerLastRow\"><th class = \"rowNumber\" style = \"font-weight: bold; text-align: right;\"></th><th title = \"Float64\" style = \"text-align: left;\">Float64</th><th title = \"Float64\" style = \"text-align: left;\">Float64</th><th title = \"Float64\" style = \"text-align: left;\">Float64</th><th title = \"Float64\" style = \"text-align: left;\">Float64</th></tr></thead><tbody><tr><td class = \"rowNumber\" style = \"font-weight: bold; text-align: right;\">1</td><td style = \"text-align: right;\">0.443979</td><td style = \"text-align: right;\">0.322834</td><td style = \"text-align: right;\">0.958047</td><td style = \"text-align: right;\">0.0888004</td></tr><tr><td class = \"rowNumber\" style = \"font-weight: bold; text-align: right;\">2</td><td style = \"text-align: right;\">0.550436</td><td style = \"text-align: right;\">0.729929</td><td style = \"text-align: right;\">0.69731</td><td style = \"text-align: right;\">0.362881</td></tr><tr><td class = \"rowNumber\" style = \"font-weight: bold; text-align: right;\">3</td><td style = \"text-align: right;\">0.0319706</td><td style = \"text-align: right;\">0.875565</td><td style = \"text-align: right;\">0.64019</td><td style = \"text-align: right;\">0.904337</td></tr><tr><td class = \"rowNumber\" style = \"font-weight: bold; text-align: right;\">4</td><td style = \"text-align: right;\">0.021807</td><td style = \"text-align: right;\">0.279927</td><td style = \"text-align: right;\">0.917247</td><td style = \"text-align: right;\">0.886915</td></tr><tr><td class = \"rowNumber\" style = \"font-weight: bold; text-align: right;\">5</td><td style = \"text-align: right;\">0.455689</td><td style = \"text-align: right;\">0.706896</td><td style = \"text-align: right;\">0.499138</td><td style = \"text-align: right;\">0.502991</td></tr><tr><td class = \"rowNumber\" style = \"font-weight: bold; text-align: right;\">6</td><td style = \"text-align: right;\">0.47139</td><td style = \"text-align: right;\">0.128089</td><td style = \"text-align: right;\">0.75538</td><td style = \"text-align: right;\">0.0534517</td></tr><tr><td class = \"rowNumber\" style = \"font-weight: bold; text-align: right;\">7</td><td style = \"text-align: right;\">0.590305</td><td style = \"text-align: right;\">0.933435</td><td style = \"text-align: right;\">0.779239</td><td style = \"text-align: right;\">0.0894784</td></tr><tr><td class = \"rowNumber\" style = \"font-weight: bold; text-align: right;\">8</td><td style = \"text-align: right;\">0.569675</td><td style = \"text-align: right;\">0.436324</td><td style = \"text-align: right;\">0.249575</td><td style = \"text-align: right;\">0.812851</td></tr><tr><td class = \"rowNumber\" style = \"font-weight: bold; text-align: right;\">9</td><td style = \"text-align: right;\">0.583136</td><td style = \"text-align: right;\">0.978175</td><td style = \"text-align: right;\">0.488651</td><td style = \"text-align: right;\">0.041042</td></tr><tr><td class = \"rowNumber\" style = \"font-weight: bold; text-align: right;\">10</td><td style = \"text-align: right;\">0.659895</td><td style = \"text-align: right;\">0.195194</td><td style = \"text-align: right;\">0.234333</td><td style = \"text-align: right;\">0.701961</td></tr></tbody></table></div>"
      ],
      "text/latex": [
       "\\begin{tabular}{r|cccc}\n",
       "\t& x1 & x2 & x3 & x4\\\\\n",
       "\t\\hline\n",
       "\t& Float64 & Float64 & Float64 & Float64\\\\\n",
       "\t\\hline\n",
       "\t1 & 0.443979 & 0.322834 & 0.958047 & 0.0888004 \\\\\n",
       "\t2 & 0.550436 & 0.729929 & 0.69731 & 0.362881 \\\\\n",
       "\t3 & 0.0319706 & 0.875565 & 0.64019 & 0.904337 \\\\\n",
       "\t4 & 0.021807 & 0.279927 & 0.917247 & 0.886915 \\\\\n",
       "\t5 & 0.455689 & 0.706896 & 0.499138 & 0.502991 \\\\\n",
       "\t6 & 0.47139 & 0.128089 & 0.75538 & 0.0534517 \\\\\n",
       "\t7 & 0.590305 & 0.933435 & 0.779239 & 0.0894784 \\\\\n",
       "\t8 & 0.569675 & 0.436324 & 0.249575 & 0.812851 \\\\\n",
       "\t9 & 0.583136 & 0.978175 & 0.488651 & 0.041042 \\\\\n",
       "\t10 & 0.659895 & 0.195194 & 0.234333 & 0.701961 \\\\\n",
       "\\end{tabular}\n"
      ],
      "text/plain": [
       "\u001b[1m10×4 DataFrame\u001b[0m\n",
       "\u001b[1m Row \u001b[0m│\u001b[1m x1        \u001b[0m\u001b[1m x2       \u001b[0m\u001b[1m x3       \u001b[0m\u001b[1m x4        \u001b[0m\n",
       "     │\u001b[90m Float64   \u001b[0m\u001b[90m Float64  \u001b[0m\u001b[90m Float64  \u001b[0m\u001b[90m Float64   \u001b[0m\n",
       "─────┼──────────────────────────────────────────\n",
       "   1 │ 0.443979   0.322834  0.958047  0.0888004\n",
       "   2 │ 0.550436   0.729929  0.69731   0.362881\n",
       "   3 │ 0.0319706  0.875565  0.64019   0.904337\n",
       "   4 │ 0.021807   0.279927  0.917247  0.886915\n",
       "   5 │ 0.455689   0.706896  0.499138  0.502991\n",
       "   6 │ 0.47139    0.128089  0.75538   0.0534517\n",
       "   7 │ 0.590305   0.933435  0.779239  0.0894784\n",
       "   8 │ 0.569675   0.436324  0.249575  0.812851\n",
       "   9 │ 0.583136   0.978175  0.488651  0.041042\n",
       "  10 │ 0.659895   0.195194  0.234333  0.701961"
      ]
     },
     "execution_count": 50,
     "metadata": {},
     "output_type": "execute_result"
    }
   ],
   "source": [
    "df"
   ]
  },
  {
   "cell_type": "code",
   "execution_count": null,
   "id": "771a12ff-717a-40a3-a80f-bcf9a1b65882",
   "metadata": {},
   "outputs": [],
   "source": []
  }
 ],
 "metadata": {
  "kernelspec": {
   "display_name": "Julia 1.9.1",
   "language": "julia",
   "name": "julia-1.9"
  },
  "language_info": {
   "file_extension": ".jl",
   "mimetype": "application/julia",
   "name": "julia",
   "version": "1.9.1"
  }
 },
 "nbformat": 4,
 "nbformat_minor": 5
}
