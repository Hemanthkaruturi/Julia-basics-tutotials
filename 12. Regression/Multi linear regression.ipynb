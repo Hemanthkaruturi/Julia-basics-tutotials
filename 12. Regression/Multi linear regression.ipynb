{
 "cells": [
  {
   "cell_type": "code",
   "execution_count": 1,
   "id": "7275e7c1-022a-4328-8c09-66a9de7f1673",
   "metadata": {},
   "outputs": [],
   "source": [
    "# using Pkg\n",
    "# Pkg.add(\"GLM\")"
   ]
  },
  {
   "cell_type": "code",
   "execution_count": 2,
   "id": "2d68be1a-cf29-494d-a893-63e088cf4484",
   "metadata": {},
   "outputs": [],
   "source": [
    "using DataFrames # to maintain tabular data\n",
    "using CSV # to read/write csv data\n",
    "using Plots # for plotting\n",
    "using GLM  # for linear regression"
   ]
  },
  {
   "cell_type": "code",
   "execution_count": 4,
   "id": "8b09cd5c-e84d-4ffb-a1ce-c87ef24559b5",
   "metadata": {},
   "outputs": [
    {
     "data": {
      "text/html": [
       "<div><div style = \"float: left;\"><span>46×7 DataFrame</span></div><div style = \"float: right;\"><span style = \"font-style: italic;\">21 rows omitted</span></div><div style = \"clear: both;\"></div></div><div class = \"data-frame\" style = \"overflow-x: scroll;\"><table class = \"data-frame\" style = \"margin-bottom: 6px;\"><thead><tr class = \"header\"><th class = \"rowNumber\" style = \"font-weight: bold; text-align: right;\">Row</th><th style = \"text-align: left;\">Salary</th><th style = \"text-align: left;\">Years_Previous_Experience</th><th style = \"text-align: left;\">Years_Employed</th><th style = \"text-align: left;\">Years_Education</th><th style = \"text-align: left;\">Gender</th><th style = \"text-align: left;\">Department</th><th style = \"text-align: left;\">Number_Supervised</th></tr><tr class = \"subheader headerLastRow\"><th class = \"rowNumber\" style = \"font-weight: bold; text-align: right;\"></th><th title = \"Int64\" style = \"text-align: left;\">Int64</th><th title = \"Int64\" style = \"text-align: left;\">Int64</th><th title = \"Int64\" style = \"text-align: left;\">Int64</th><th title = \"Int64\" style = \"text-align: left;\">Int64</th><th title = \"String7\" style = \"text-align: left;\">String7</th><th title = \"String1\" style = \"text-align: left;\">String1</th><th title = \"Int64\" style = \"text-align: left;\">Int64</th></tr></thead><tbody><tr><td class = \"rowNumber\" style = \"font-weight: bold; text-align: right;\">1</td><td style = \"text-align: right;\">32782</td><td style = \"text-align: right;\">1</td><td style = \"text-align: right;\">0</td><td style = \"text-align: right;\">7</td><td style = \"text-align: left;\">Male</td><td style = \"text-align: left;\">A</td><td style = \"text-align: right;\">0</td></tr><tr><td class = \"rowNumber\" style = \"font-weight: bold; text-align: right;\">2</td><td style = \"text-align: right;\">32920</td><td style = \"text-align: right;\">3</td><td style = \"text-align: right;\">15</td><td style = \"text-align: right;\">9</td><td style = \"text-align: left;\">Female</td><td style = \"text-align: left;\">A</td><td style = \"text-align: right;\">4</td></tr><tr><td class = \"rowNumber\" style = \"font-weight: bold; text-align: right;\">3</td><td style = \"text-align: right;\">29548</td><td style = \"text-align: right;\">6</td><td style = \"text-align: right;\">5</td><td style = \"text-align: right;\">1</td><td style = \"text-align: left;\">Male</td><td style = \"text-align: left;\">A</td><td style = \"text-align: right;\">0</td></tr><tr><td class = \"rowNumber\" style = \"font-weight: bold; text-align: right;\">4</td><td style = \"text-align: right;\">39828</td><td style = \"text-align: right;\">6</td><td style = \"text-align: right;\">18</td><td style = \"text-align: right;\">5</td><td style = \"text-align: left;\">Female</td><td style = \"text-align: left;\">A</td><td style = \"text-align: right;\">5</td></tr><tr><td class = \"rowNumber\" style = \"font-weight: bold; text-align: right;\">5</td><td style = \"text-align: right;\">31528</td><td style = \"text-align: right;\">11</td><td style = \"text-align: right;\">3</td><td style = \"text-align: right;\">3</td><td style = \"text-align: left;\">Male</td><td style = \"text-align: left;\">A</td><td style = \"text-align: right;\">6</td></tr><tr><td class = \"rowNumber\" style = \"font-weight: bold; text-align: right;\">6</td><td style = \"text-align: right;\">38985</td><td style = \"text-align: right;\">7</td><td style = \"text-align: right;\">18</td><td style = \"text-align: right;\">9</td><td style = \"text-align: left;\">Male</td><td style = \"text-align: left;\">A</td><td style = \"text-align: right;\">5</td></tr><tr><td class = \"rowNumber\" style = \"font-weight: bold; text-align: right;\">7</td><td style = \"text-align: right;\">41889</td><td style = \"text-align: right;\">16</td><td style = \"text-align: right;\">22</td><td style = \"text-align: right;\">7</td><td style = \"text-align: left;\">Male</td><td style = \"text-align: left;\">A</td><td style = \"text-align: right;\">7</td></tr><tr><td class = \"rowNumber\" style = \"font-weight: bold; text-align: right;\">8</td><td style = \"text-align: right;\">38791</td><td style = \"text-align: right;\">4</td><td style = \"text-align: right;\">21</td><td style = \"text-align: right;\">5</td><td style = \"text-align: left;\">Male</td><td style = \"text-align: left;\">A</td><td style = \"text-align: right;\">9</td></tr><tr><td class = \"rowNumber\" style = \"font-weight: bold; text-align: right;\">9</td><td style = \"text-align: right;\">28985</td><td style = \"text-align: right;\">1</td><td style = \"text-align: right;\">0</td><td style = \"text-align: right;\">4</td><td style = \"text-align: left;\">Female</td><td style = \"text-align: left;\">A</td><td style = \"text-align: right;\">4</td></tr><tr><td class = \"rowNumber\" style = \"font-weight: bold; text-align: right;\">10</td><td style = \"text-align: right;\">24749</td><td style = \"text-align: right;\">2</td><td style = \"text-align: right;\">6</td><td style = \"text-align: right;\">0</td><td style = \"text-align: left;\">Female</td><td style = \"text-align: left;\">A</td><td style = \"text-align: right;\">1</td></tr><tr><td class = \"rowNumber\" style = \"font-weight: bold; text-align: right;\">11</td><td style = \"text-align: right;\">35467</td><td style = \"text-align: right;\">6</td><td style = \"text-align: right;\">3</td><td style = \"text-align: right;\">6</td><td style = \"text-align: left;\">Female</td><td style = \"text-align: left;\">B</td><td style = \"text-align: right;\">3</td></tr><tr><td class = \"rowNumber\" style = \"font-weight: bold; text-align: right;\">12</td><td style = \"text-align: right;\">35468</td><td style = \"text-align: right;\">5</td><td style = \"text-align: right;\">9</td><td style = \"text-align: right;\">4</td><td style = \"text-align: left;\">Female</td><td style = \"text-align: left;\">B</td><td style = \"text-align: right;\">5</td></tr><tr><td class = \"rowNumber\" style = \"font-weight: bold; text-align: right;\">13</td><td style = \"text-align: right;\">29876</td><td style = \"text-align: right;\">0</td><td style = \"text-align: right;\">2</td><td style = \"text-align: right;\">3</td><td style = \"text-align: left;\">Female</td><td style = \"text-align: left;\">B</td><td style = \"text-align: right;\">5</td></tr><tr><td style = \"text-align: right;\">&vellip;</td><td style = \"text-align: right;\">&vellip;</td><td style = \"text-align: right;\">&vellip;</td><td style = \"text-align: right;\">&vellip;</td><td style = \"text-align: right;\">&vellip;</td><td style = \"text-align: right;\">&vellip;</td><td style = \"text-align: right;\">&vellip;</td><td style = \"text-align: right;\">&vellip;</td></tr><tr><td class = \"rowNumber\" style = \"font-weight: bold; text-align: right;\">35</td><td style = \"text-align: right;\">68425</td><td style = \"text-align: right;\">2</td><td style = \"text-align: right;\">25</td><td style = \"text-align: right;\">12</td><td style = \"text-align: left;\">Male</td><td style = \"text-align: left;\">D</td><td style = \"text-align: right;\">1</td></tr><tr><td class = \"rowNumber\" style = \"font-weight: bold; text-align: right;\">36</td><td style = \"text-align: right;\">36487</td><td style = \"text-align: right;\">5</td><td style = \"text-align: right;\">6</td><td style = \"text-align: right;\">2</td><td style = \"text-align: left;\">Male</td><td style = \"text-align: left;\">D</td><td style = \"text-align: right;\">3</td></tr><tr><td class = \"rowNumber\" style = \"font-weight: bold; text-align: right;\">37</td><td style = \"text-align: right;\">34632</td><td style = \"text-align: right;\">4</td><td style = \"text-align: right;\">5</td><td style = \"text-align: right;\">4</td><td style = \"text-align: left;\">Male</td><td style = \"text-align: left;\">D</td><td style = \"text-align: right;\">0</td></tr><tr><td class = \"rowNumber\" style = \"font-weight: bold; text-align: right;\">38</td><td style = \"text-align: right;\">46211</td><td style = \"text-align: right;\">5</td><td style = \"text-align: right;\">14</td><td style = \"text-align: right;\">6</td><td style = \"text-align: left;\">Female</td><td style = \"text-align: left;\">D</td><td style = \"text-align: right;\">5</td></tr><tr><td class = \"rowNumber\" style = \"font-weight: bold; text-align: right;\">39</td><td style = \"text-align: right;\">51698</td><td style = \"text-align: right;\">6</td><td style = \"text-align: right;\">18</td><td style = \"text-align: right;\">6</td><td style = \"text-align: left;\">Male</td><td style = \"text-align: left;\">D</td><td style = \"text-align: right;\">1</td></tr><tr><td class = \"rowNumber\" style = \"font-weight: bold; text-align: right;\">40</td><td style = \"text-align: right;\">69246</td><td style = \"text-align: right;\">3</td><td style = \"text-align: right;\">22</td><td style = \"text-align: right;\">10</td><td style = \"text-align: left;\">Male</td><td style = \"text-align: left;\">D</td><td style = \"text-align: right;\">45</td></tr><tr><td class = \"rowNumber\" style = \"font-weight: bold; text-align: right;\">41</td><td style = \"text-align: right;\">48695</td><td style = \"text-align: right;\">19</td><td style = \"text-align: right;\">6</td><td style = \"text-align: right;\">8</td><td style = \"text-align: left;\">Male</td><td style = \"text-align: left;\">D</td><td style = \"text-align: right;\">40</td></tr><tr><td class = \"rowNumber\" style = \"font-weight: bold; text-align: right;\">42</td><td style = \"text-align: right;\">34987</td><td style = \"text-align: right;\">6</td><td style = \"text-align: right;\">9</td><td style = \"text-align: right;\">2</td><td style = \"text-align: left;\">Female</td><td style = \"text-align: left;\">D</td><td style = \"text-align: right;\">3</td></tr><tr><td class = \"rowNumber\" style = \"font-weight: bold; text-align: right;\">43</td><td style = \"text-align: right;\">35631</td><td style = \"text-align: right;\">4</td><td style = \"text-align: right;\">6</td><td style = \"text-align: right;\">4</td><td style = \"text-align: left;\">Male</td><td style = \"text-align: left;\">D</td><td style = \"text-align: right;\">2</td></tr><tr><td class = \"rowNumber\" style = \"font-weight: bold; text-align: right;\">44</td><td style = \"text-align: right;\">39743</td><td style = \"text-align: right;\">6</td><td style = \"text-align: right;\">9</td><td style = \"text-align: right;\">5</td><td style = \"text-align: left;\">Female</td><td style = \"text-align: left;\">D</td><td style = \"text-align: right;\">1</td></tr><tr><td class = \"rowNumber\" style = \"font-weight: bold; text-align: right;\">45</td><td style = \"text-align: right;\">41255</td><td style = \"text-align: right;\">4</td><td style = \"text-align: right;\">9</td><td style = \"text-align: right;\">6</td><td style = \"text-align: left;\">Male</td><td style = \"text-align: left;\">D</td><td style = \"text-align: right;\">4</td></tr><tr><td class = \"rowNumber\" style = \"font-weight: bold; text-align: right;\">46</td><td style = \"text-align: right;\">26452</td><td style = \"text-align: right;\">3</td><td style = \"text-align: right;\">1</td><td style = \"text-align: right;\">2</td><td style = \"text-align: left;\">Female</td><td style = \"text-align: left;\">D</td><td style = \"text-align: right;\">0</td></tr></tbody></table></div>"
      ],
      "text/latex": [
       "\\begin{tabular}{r|ccccccc}\n",
       "\t& Salary & Years\\_Previous\\_Experience & Years\\_Employed & Years\\_Education & Gender & Department & \\\\\n",
       "\t\\hline\n",
       "\t& Int64 & Int64 & Int64 & Int64 & String7 & String1 & \\\\\n",
       "\t\\hline\n",
       "\t1 & 32782 & 1 & 0 & 7 & Male & A & $\\dots$ \\\\\n",
       "\t2 & 32920 & 3 & 15 & 9 & Female & A & $\\dots$ \\\\\n",
       "\t3 & 29548 & 6 & 5 & 1 & Male & A & $\\dots$ \\\\\n",
       "\t4 & 39828 & 6 & 18 & 5 & Female & A & $\\dots$ \\\\\n",
       "\t5 & 31528 & 11 & 3 & 3 & Male & A & $\\dots$ \\\\\n",
       "\t6 & 38985 & 7 & 18 & 9 & Male & A & $\\dots$ \\\\\n",
       "\t7 & 41889 & 16 & 22 & 7 & Male & A & $\\dots$ \\\\\n",
       "\t8 & 38791 & 4 & 21 & 5 & Male & A & $\\dots$ \\\\\n",
       "\t9 & 28985 & 1 & 0 & 4 & Female & A & $\\dots$ \\\\\n",
       "\t10 & 24749 & 2 & 6 & 0 & Female & A & $\\dots$ \\\\\n",
       "\t11 & 35467 & 6 & 3 & 6 & Female & B & $\\dots$ \\\\\n",
       "\t12 & 35468 & 5 & 9 & 4 & Female & B & $\\dots$ \\\\\n",
       "\t13 & 29876 & 0 & 2 & 3 & Female & B & $\\dots$ \\\\\n",
       "\t14 & 43674 & 9 & 6 & 4 & Male & B & $\\dots$ \\\\\n",
       "\t15 & 36431 & 4 & 9 & 4 & Female & B & $\\dots$ \\\\\n",
       "\t16 & 26578 & 6 & 0 & 2 & Female & B & $\\dots$ \\\\\n",
       "\t17 & 36571 & 1 & 6 & 4 & Male & B & $\\dots$ \\\\\n",
       "\t18 & 56326 & 3 & 12 & 8 & Male & B & $\\dots$ \\\\\n",
       "\t19 & 23654 & 0 & 0 & 0 & Female & C & $\\dots$ \\\\\n",
       "\t20 & 36578 & 4 & 4 & 8 & Male & C & $\\dots$ \\\\\n",
       "\t21 & 37548 & 9 & 19 & 4 & Male & C & $\\dots$ \\\\\n",
       "\t22 & 53234 & 0 & 25 & 6 & Male & C & $\\dots$ \\\\\n",
       "\t23 & 54679 & 3 & 20 & 6 & Female & C & $\\dots$ \\\\\n",
       "\t24 & 47536 & 5 & 15 & 6 & Male & C & $\\dots$ \\\\\n",
       "\t25 & 31425 & 6 & 7 & 5 & Female & C & $\\dots$ \\\\\n",
       "\t26 & 65487 & 0 & 27 & 12 & Female & D & $\\dots$ \\\\\n",
       "\t27 & 46184 & 3 & 20 & 4 & Male & D & $\\dots$ \\\\\n",
       "\t28 & 54899 & 5 & 12 & 8 & Female & D & $\\dots$ \\\\\n",
       "\t29 & 34869 & 5 & 7 & 4 & Female & D & $\\dots$ \\\\\n",
       "\t30 & 35487 & 2 & 8 & 2 & Female & D & $\\dots$ \\\\\n",
       "\t$\\dots$ & $\\dots$ & $\\dots$ & $\\dots$ & $\\dots$ & $\\dots$ & $\\dots$ &  \\\\\n",
       "\\end{tabular}\n"
      ],
      "text/plain": [
       "\u001b[1m46×7 DataFrame\u001b[0m\n",
       "\u001b[1m Row \u001b[0m│\u001b[1m Salary \u001b[0m\u001b[1m Years_Previous_Experience \u001b[0m\u001b[1m Years_Employed \u001b[0m\u001b[1m Years_Education \u001b[0m\u001b[1m Gen\u001b[0m ⋯\n",
       "     │\u001b[90m Int64  \u001b[0m\u001b[90m Int64                     \u001b[0m\u001b[90m Int64          \u001b[0m\u001b[90m Int64           \u001b[0m\u001b[90m Str\u001b[0m ⋯\n",
       "─────┼──────────────────────────────────────────────────────────────────────────\n",
       "   1 │  32782                          1               0                7  Mal ⋯\n",
       "   2 │  32920                          3              15                9  Fem\n",
       "   3 │  29548                          6               5                1  Mal\n",
       "   4 │  39828                          6              18                5  Fem\n",
       "   5 │  31528                         11               3                3  Mal ⋯\n",
       "   6 │  38985                          7              18                9  Mal\n",
       "   7 │  41889                         16              22                7  Mal\n",
       "   8 │  38791                          4              21                5  Mal\n",
       "   9 │  28985                          1               0                4  Fem ⋯\n",
       "  10 │  24749                          2               6                0  Fem\n",
       "  11 │  35467                          6               3                6  Fem\n",
       "  ⋮  │   ⋮                 ⋮                    ⋮                ⋮             ⋱\n",
       "  37 │  34632                          4               5                4  Mal\n",
       "  38 │  46211                          5              14                6  Fem ⋯\n",
       "  39 │  51698                          6              18                6  Mal\n",
       "  40 │  69246                          3              22               10  Mal\n",
       "  41 │  48695                         19               6                8  Mal\n",
       "  42 │  34987                          6               9                2  Fem ⋯\n",
       "  43 │  35631                          4               6                4  Mal\n",
       "  44 │  39743                          6               9                5  Fem\n",
       "  45 │  41255                          4               9                6  Mal\n",
       "  46 │  26452                          3               1                2  Fem ⋯\n",
       "\u001b[36m                                                   3 columns and 25 rows omitted\u001b[0m"
      ]
     },
     "execution_count": 4,
     "metadata": {},
     "output_type": "execute_result"
    }
   ],
   "source": [
    "salary = CSV.read(\"Data/salary.csv\", DataFrame)"
   ]
  },
  {
   "cell_type": "code",
   "execution_count": 5,
   "id": "3b7509c8-f246-4c56-835e-a5ffd94e5868",
   "metadata": {},
   "outputs": [
    {
     "data": {
      "text/plain": [
       "7-element Vector{String}:\n",
       " \"Salary\"\n",
       " \"Years_Previous_Experience\"\n",
       " \"Years_Employed\"\n",
       " \"Years_Education\"\n",
       " \"Gender\"\n",
       " \"Department\"\n",
       " \"Number_Supervised\""
      ]
     },
     "execution_count": 5,
     "metadata": {},
     "output_type": "execute_result"
    }
   ],
   "source": [
    "names(salary)"
   ]
  },
  {
   "cell_type": "code",
   "execution_count": 6,
   "id": "236a3a9b-299f-44ab-b563-572703c8bc0c",
   "metadata": {},
   "outputs": [
    {
     "data": {
      "text/plain": [
       "StatsModels.TableRegressionModel{LinearModel{GLM.LmResp{Vector{Float64}}, GLM.DensePredChol{Float64, LinearAlgebra.CholeskyPivoted{Float64, Matrix{Float64}, Vector{Int64}}}}, Matrix{Float64}}\n",
       "\n",
       "Salary ~ 1 + Years_Previous_Experience + Years_Employed + Years_Education + Gender + Department + Number_Supervised\n",
       "\n",
       "Coefficients:\n",
       "─────────────────────────────────────────────────────────────────────────────────────────\n",
       "                                Coef.  Std. Error      t  Pr(>|t|)   Lower 95%  Upper 95%\n",
       "─────────────────────────────────────────────────────────────────────────────────────────\n",
       "(Intercept)                17272.9      2304.27     7.50    <1e-08  12604.1     21941.8\n",
       "Years_Previous_Experience    -72.8033    198.395   -0.37    0.7157   -474.789     329.183\n",
       "Years_Employed               709.455     120.959    5.87    <1e-06    464.369     954.54\n",
       "Years_Education             1544.52      338.221    4.57    <1e-04    859.217    2229.82\n",
       "Gender: Male                2040.25     1448.97     1.41    0.1675   -895.648    4976.16\n",
       "Department: B               8455.63     2288.73     3.69    0.0007   3818.22    13093.0\n",
       "Department: C               5049.08     2333.0      2.16    0.0370    321.971    9776.18\n",
       "Department: D               8096.05     1830.64     4.42    <1e-04   4386.81    11805.3\n",
       "Number_Supervised            130.167      81.6784   1.59    0.1195    -35.3292    295.663\n",
       "─────────────────────────────────────────────────────────────────────────────────────────"
      ]
     },
     "execution_count": 6,
     "metadata": {},
     "output_type": "execute_result"
    }
   ],
   "source": [
    "# lm is so powerful, it will take care of strings and categorical variables\n",
    "ols = lm(@formula(Salary ~ Years_Previous_Experience + Years_Employed + Years_Education + Gender + Department + Number_Supervised), salary)"
   ]
  },
  {
   "cell_type": "code",
   "execution_count": 8,
   "id": "d169e34c-e0b0-4c26-acfe-f5562188019f",
   "metadata": {},
   "outputs": [
    {
     "data": {
      "text/plain": [
       "46-element Vector{Union{Missing, Float64}}:\n",
       " 30052.021111225487\n",
       " 42117.68385498137\n",
       " 23968.16510066336\n",
       " 37979.72961769922\n",
       " 26055.278202928122\n",
       " 46125.25528994341\n",
       " 45479.14024311426\n",
       " 42814.62133938166\n",
       " 23898.878338491297\n",
       " 21514.226901571797\n",
       " 37077.72250093465\n",
       " 38578.54940899076\n",
       " 32431.865164305236\n",
       "     ⋮\n",
       " 63664.38807974765\n",
       " 34781.487960788276\n",
       " 36843.373562418856\n",
       " 44855.279085186245\n",
       " 49139.8806191977\n",
       " 64101.5255909342\n",
       " 47845.52830253827\n",
       " 34796.79433848755\n",
       " 37813.161848266674\n",
       " 39170.01681361795\n",
       " 43290.89672290613\n",
       " 28949.067112338606"
      ]
     },
     "execution_count": 8,
     "metadata": {},
     "output_type": "execute_result"
    }
   ],
   "source": [
    "# prediction\n",
    "predict(ols, salary)"
   ]
  },
  {
   "cell_type": "code",
   "execution_count": 11,
   "id": "c7252d5a-453d-466b-b8a5-87ac7442852a",
   "metadata": {},
   "outputs": [
    {
     "data": {
      "text/plain": [
       "46-element Vector{Union{Missing, Float64}}:\n",
       " 30052.021111225487\n",
       " 42117.68385498137\n",
       " 23968.16510066336\n",
       " 37979.72961769922\n",
       " 26055.278202928122\n",
       " 46125.25528994341\n",
       " 45479.14024311426\n",
       " 42814.62133938166\n",
       " 23898.878338491297\n",
       " 21514.226901571797\n",
       " 37077.72250093465\n",
       " 38578.54940899076\n",
       " 32431.865164305236\n",
       "     ⋮\n",
       " 63664.38807974765\n",
       " 34781.487960788276\n",
       " 36843.373562418856\n",
       " 44855.279085186245\n",
       " 49139.8806191977\n",
       " 64101.5255909342\n",
       " 47845.52830253827\n",
       " 34796.79433848755\n",
       " 37813.161848266674\n",
       " 39170.01681361795\n",
       " 43290.89672290613\n",
       " 28949.067112338606"
      ]
     },
     "execution_count": 11,
     "metadata": {},
     "output_type": "execute_result"
    }
   ],
   "source": [
    "# prediction\n",
    "predict(ols, salary[:,2:ncol(salary)])"
   ]
  },
  {
   "cell_type": "code",
   "execution_count": null,
   "id": "88f293ba-491f-4aa3-b1d6-eff56c31e943",
   "metadata": {},
   "outputs": [],
   "source": []
  }
 ],
 "metadata": {
  "kernelspec": {
   "display_name": "Julia 1.9.1",
   "language": "julia",
   "name": "julia-1.9"
  },
  "language_info": {
   "file_extension": ".jl",
   "mimetype": "application/julia",
   "name": "julia",
   "version": "1.9.1"
  }
 },
 "nbformat": 4,
 "nbformat_minor": 5
}
