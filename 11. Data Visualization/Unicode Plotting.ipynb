{
 "cells": [
  {
   "cell_type": "code",
   "execution_count": 2,
   "id": "ed22ab51-de91-4403-afed-8a72f4f27045",
   "metadata": {},
   "outputs": [],
   "source": [
    "# using Pkg;\n",
    "# Pkg.add(\"Plots\")\n",
    "# Pkg.add(\"PyPlot\")\n",
    "# Pkg.add(\"GR\")\n",
    "# Pkg.add(\"UnicodePlots\")"
   ]
  },
  {
   "cell_type": "code",
   "execution_count": 1,
   "id": "2b437ac2-be27-42d7-8a5e-77654eb8fd39",
   "metadata": {},
   "outputs": [],
   "source": [
    "using DataFrames\n",
    "using Plots"
   ]
  },
  {
   "cell_type": "code",
   "execution_count": 2,
   "id": "8f0c3e47-64a0-408e-b00e-1864ddb2f474",
   "metadata": {},
   "outputs": [
    {
     "data": {
      "text/plain": [
       "Plots.UnicodePlotsBackend()"
      ]
     },
     "execution_count": 2,
     "metadata": {},
     "output_type": "execute_result"
    }
   ],
   "source": [
    "# using GR as backend for plotting\n",
    "# gr()\n",
    "unicodeplots()"
   ]
  },
  {
   "cell_type": "code",
   "execution_count": 3,
   "id": "3baf56da-8c81-4fde-b80a-f06c99902a48",
   "metadata": {},
   "outputs": [
    {
     "data": {
      "text/plain": [
       "10-element Vector{Int64}:\n",
       " 2000\n",
       " 2001\n",
       " 2002\n",
       " 2003\n",
       " 2004\n",
       " 2005\n",
       " 2006\n",
       " 2007\n",
       " 2008\n",
       " 2009"
      ]
     },
     "execution_count": 3,
     "metadata": {},
     "output_type": "execute_result"
    }
   ],
   "source": [
    "year = [x for x in range(2000,length=10)]"
   ]
  },
  {
   "cell_type": "code",
   "execution_count": 4,
   "id": "9cedd709-a1d7-47cf-8cc1-e8b48d1031b7",
   "metadata": {},
   "outputs": [
    {
     "data": {
      "text/plain": [
       "10-element Vector{Float64}:\n",
       " 82.47764034219132\n",
       " 13.482408337545039\n",
       "  4.135674282454637\n",
       " 85.31114243718463\n",
       " 54.16543789079261\n",
       " 23.337683065820237\n",
       "  5.384980194821132\n",
       " 21.05888915827977\n",
       " 43.0390379872151\n",
       " 37.00933167132073"
      ]
     },
     "execution_count": 4,
     "metadata": {},
     "output_type": "execute_result"
    }
   ],
   "source": [
    "sale = 100*rand(10)"
   ]
  },
  {
   "cell_type": "code",
   "execution_count": 5,
   "id": "01a2d922-136f-437e-ad5d-a95d8e90db97",
   "metadata": {},
   "outputs": [
    {
     "data": {
      "text/html": [
       "<div><div style = \"float: left;\"><span>10×2 DataFrame</span></div><div style = \"clear: both;\"></div></div><div class = \"data-frame\" style = \"overflow-x: scroll;\"><table class = \"data-frame\" style = \"margin-bottom: 6px;\"><thead><tr class = \"header\"><th class = \"rowNumber\" style = \"font-weight: bold; text-align: right;\">Row</th><th style = \"text-align: left;\">year</th><th style = \"text-align: left;\">sale</th></tr><tr class = \"subheader headerLastRow\"><th class = \"rowNumber\" style = \"font-weight: bold; text-align: right;\"></th><th title = \"Int64\" style = \"text-align: left;\">Int64</th><th title = \"Float64\" style = \"text-align: left;\">Float64</th></tr></thead><tbody><tr><td class = \"rowNumber\" style = \"font-weight: bold; text-align: right;\">1</td><td style = \"text-align: right;\">2000</td><td style = \"text-align: right;\">82.4776</td></tr><tr><td class = \"rowNumber\" style = \"font-weight: bold; text-align: right;\">2</td><td style = \"text-align: right;\">2001</td><td style = \"text-align: right;\">13.4824</td></tr><tr><td class = \"rowNumber\" style = \"font-weight: bold; text-align: right;\">3</td><td style = \"text-align: right;\">2002</td><td style = \"text-align: right;\">4.13567</td></tr><tr><td class = \"rowNumber\" style = \"font-weight: bold; text-align: right;\">4</td><td style = \"text-align: right;\">2003</td><td style = \"text-align: right;\">85.3111</td></tr><tr><td class = \"rowNumber\" style = \"font-weight: bold; text-align: right;\">5</td><td style = \"text-align: right;\">2004</td><td style = \"text-align: right;\">54.1654</td></tr><tr><td class = \"rowNumber\" style = \"font-weight: bold; text-align: right;\">6</td><td style = \"text-align: right;\">2005</td><td style = \"text-align: right;\">23.3377</td></tr><tr><td class = \"rowNumber\" style = \"font-weight: bold; text-align: right;\">7</td><td style = \"text-align: right;\">2006</td><td style = \"text-align: right;\">5.38498</td></tr><tr><td class = \"rowNumber\" style = \"font-weight: bold; text-align: right;\">8</td><td style = \"text-align: right;\">2007</td><td style = \"text-align: right;\">21.0589</td></tr><tr><td class = \"rowNumber\" style = \"font-weight: bold; text-align: right;\">9</td><td style = \"text-align: right;\">2008</td><td style = \"text-align: right;\">43.039</td></tr><tr><td class = \"rowNumber\" style = \"font-weight: bold; text-align: right;\">10</td><td style = \"text-align: right;\">2009</td><td style = \"text-align: right;\">37.0093</td></tr></tbody></table></div>"
      ],
      "text/latex": [
       "\\begin{tabular}{r|cc}\n",
       "\t& year & sale\\\\\n",
       "\t\\hline\n",
       "\t& Int64 & Float64\\\\\n",
       "\t\\hline\n",
       "\t1 & 2000 & 82.4776 \\\\\n",
       "\t2 & 2001 & 13.4824 \\\\\n",
       "\t3 & 2002 & 4.13567 \\\\\n",
       "\t4 & 2003 & 85.3111 \\\\\n",
       "\t5 & 2004 & 54.1654 \\\\\n",
       "\t6 & 2005 & 23.3377 \\\\\n",
       "\t7 & 2006 & 5.38498 \\\\\n",
       "\t8 & 2007 & 21.0589 \\\\\n",
       "\t9 & 2008 & 43.039 \\\\\n",
       "\t10 & 2009 & 37.0093 \\\\\n",
       "\\end{tabular}\n"
      ],
      "text/plain": [
       "\u001b[1m10×2 DataFrame\u001b[0m\n",
       "\u001b[1m Row \u001b[0m│\u001b[1m year  \u001b[0m\u001b[1m sale     \u001b[0m\n",
       "     │\u001b[90m Int64 \u001b[0m\u001b[90m Float64  \u001b[0m\n",
       "─────┼─────────────────\n",
       "   1 │  2000  82.4776\n",
       "   2 │  2001  13.4824\n",
       "   3 │  2002   4.13567\n",
       "   4 │  2003  85.3111\n",
       "   5 │  2004  54.1654\n",
       "   6 │  2005  23.3377\n",
       "   7 │  2006   5.38498\n",
       "   8 │  2007  21.0589\n",
       "   9 │  2008  43.039\n",
       "  10 │  2009  37.0093"
      ]
     },
     "execution_count": 5,
     "metadata": {},
     "output_type": "execute_result"
    }
   ],
   "source": [
    "# create it as dataframe\n",
    "df = DataFrame(year = year, sale = sale)"
   ]
  },
  {
   "cell_type": "code",
   "execution_count": 6,
   "id": "39a6952b-f6c8-4f70-9b9c-7c3afb38ac5d",
   "metadata": {},
   "outputs": [
    {
     "data": {
      "text/plain": [
       "           \u001b[38;5;8m+----------------------------------------+\u001b[0m          \n",
       "   \u001b[38;5;8m87.7464\u001b[0m \u001b[38;5;8m|\u001b[0m \u001b[38;5;33m.\u001b[0m           \u001b[38;5;33m,\u001b[0m                          \u001b[38;5;8m|\u001b[0m \u001b[38;5;33mLine plot\u001b[0m\n",
       "          \u001b[38;5;8m\u001b[0m \u001b[38;5;8m|\u001b[0m \u001b[38;5;33m\\\u001b[0m           \u001b[38;5;33m.\u001b[0m\u001b[38;5;33m\\\u001b[0m                         \u001b[38;5;8m|\u001b[0m \u001b[38;5;8m\u001b[0m         \n",
       "          \u001b[38;5;8m\u001b[0m \u001b[38;5;8m|\u001b[0m \u001b[38;5;33m,\u001b[0m          \u001b[38;5;33m.\u001b[0m\u001b[38;5;33m`\u001b[0m\u001b[38;5;33m\"\u001b[0m\u001b[38;5;33m.\u001b[0m                        \u001b[38;5;8m|\u001b[0m \u001b[38;5;8m\u001b[0m         \n",
       "          \u001b[38;5;8m\u001b[0m \u001b[38;5;8m|\u001b[0m \u001b[38;5;33m\"\u001b[0m\u001b[38;5;33m,\u001b[0m         \u001b[38;5;33m|\u001b[0m  \u001b[38;5;33m\"\u001b[0m\u001b[38;5;33m,\u001b[0m                       \u001b[38;5;8m|\u001b[0m \u001b[38;5;8m\u001b[0m         \n",
       "          \u001b[38;5;8m\u001b[0m \u001b[38;5;8m|\u001b[0m  \u001b[38;5;33m\\\u001b[0m         \u001b[38;5;33m|\u001b[0m   \u001b[38;5;33m\\\u001b[0m\u001b[38;5;33m.\u001b[0m                      \u001b[38;5;8m|\u001b[0m \u001b[38;5;8m\u001b[0m         \n",
       "          \u001b[38;5;8m\u001b[0m \u001b[38;5;8m|\u001b[0m  \u001b[38;5;33m,\u001b[0m         \u001b[38;5;33m|\u001b[0m    \u001b[38;5;33m\\\u001b[0m                      \u001b[38;5;8m|\u001b[0m \u001b[38;5;8m\u001b[0m         \n",
       "          \u001b[38;5;8m\u001b[0m \u001b[38;5;8m|\u001b[0m  \u001b[38;5;33m\"\u001b[0m\u001b[38;5;33m,\u001b[0m       \u001b[38;5;33m|\u001b[0m      \u001b[38;5;33m\\\u001b[0m                     \u001b[38;5;8m|\u001b[0m \u001b[38;5;8m\u001b[0m         \n",
       "          \u001b[38;5;8m\u001b[0m \u001b[38;5;8m|\u001b[0m   \u001b[38;5;33m|\u001b[0m       \u001b[38;5;33m/\u001b[0m      \u001b[38;5;33m\"\u001b[0m\u001b[38;5;33m.\u001b[0m              \u001b[38;5;33m.\u001b[0m\u001b[38;5;33m.\u001b[0m    \u001b[38;5;8m|\u001b[0m \u001b[38;5;8m\u001b[0m         \n",
       "          \u001b[38;5;8m\u001b[0m \u001b[38;5;8m|\u001b[0m   \u001b[38;5;33m|\u001b[0m       \u001b[38;5;33m,\u001b[0m       \u001b[38;5;33m|\u001b[0m\u001b[38;5;33m.\u001b[0m            \u001b[38;5;33m.\u001b[0m\u001b[38;5;33m`\u001b[0m\u001b[38;5;33m\"\u001b[0m\u001b[38;5;33m\"\u001b[0m\u001b[38;5;33m-\u001b[0m\u001b[38;5;33m.\u001b[0m \u001b[38;5;8m|\u001b[0m \u001b[38;5;8m\u001b[0m         \n",
       "          \u001b[38;5;8m\u001b[0m \u001b[38;5;8m|\u001b[0m    \u001b[38;5;33m|\u001b[0m     \u001b[38;5;33m,\u001b[0m\u001b[38;5;33m`\u001b[0m        \u001b[38;5;33m\\\u001b[0m\u001b[38;5;33m.\u001b[0m          \u001b[38;5;33m.\u001b[0m\u001b[38;5;33m`\u001b[0m      \u001b[38;5;8m|\u001b[0m \u001b[38;5;8m\u001b[0m         \n",
       "          \u001b[38;5;8m\u001b[0m \u001b[38;5;8m|\u001b[0m    \u001b[38;5;33m|\u001b[0m     \u001b[38;5;33m.\u001b[0m          \u001b[38;5;33m\\\u001b[0m         \u001b[38;5;33m.\u001b[0m\u001b[38;5;33m`\u001b[0m       \u001b[38;5;8m|\u001b[0m \u001b[38;5;8m\u001b[0m         \n",
       "          \u001b[38;5;8m\u001b[0m \u001b[38;5;8m|\u001b[0m    \u001b[38;5;33m|\u001b[0m     \u001b[38;5;33m.\u001b[0m           \u001b[38;5;33m\\\u001b[0m\u001b[38;5;33m.\u001b[0m     \u001b[38;5;33m.\u001b[0m\u001b[38;5;33m/\u001b[0m\u001b[38;5;33m`\u001b[0m        \u001b[38;5;8m|\u001b[0m \u001b[38;5;8m\u001b[0m         \n",
       "          \u001b[38;5;8m\u001b[0m \u001b[38;5;8m|\u001b[0m     \u001b[38;5;33m|\u001b[0m    \u001b[38;5;33m|\u001b[0m            \u001b[38;5;33m\\\u001b[0m\u001b[38;5;33m.\u001b[0m   \u001b[38;5;33m.\u001b[0m\u001b[38;5;33m/\u001b[0m          \u001b[38;5;8m|\u001b[0m \u001b[38;5;8m\u001b[0m         \n",
       "          \u001b[38;5;8m\u001b[0m \u001b[38;5;8m|\u001b[0m     \u001b[38;5;33m'\u001b[0m\u001b[38;5;33m-\u001b[0m\u001b[38;5;33m_\u001b[0m \u001b[38;5;33m|\u001b[0m              \u001b[38;5;33m\"\u001b[0m\u001b[38;5;33m.\u001b[0m\u001b[38;5;33m.\u001b[0m\u001b[38;5;33m/\u001b[0m\u001b[38;5;33m`\u001b[0m           \u001b[38;5;8m|\u001b[0m \u001b[38;5;8m\u001b[0m         \n",
       "   \u001b[38;5;8m1.70041\u001b[0m \u001b[38;5;8m|\u001b[0m        \u001b[38;5;33m\\\u001b[0m\u001b[38;5;33m/\u001b[0m                \u001b[38;5;33m/\u001b[0m             \u001b[38;5;8m|\u001b[0m \u001b[38;5;8m\u001b[0m         \n",
       "           \u001b[38;5;8m+----------------------------------------+\u001b[0m          \n",
       "            \u001b[38;5;8m1999.73\u001b[0m            \u001b[38;5;8m\u001b[0m              \u001b[38;5;8m2009.27\u001b[0m           "
      ]
     },
     "execution_count": 6,
     "metadata": {},
     "output_type": "execute_result"
    }
   ],
   "source": [
    "plot(df.year, df.sale, labels=\"Line plot\")"
   ]
  },
  {
   "cell_type": "code",
   "execution_count": 7,
   "id": "d01cbd24-cb14-431f-84bc-ad6ee1d59b8a",
   "metadata": {},
   "outputs": [
    {
     "data": {
      "text/plain": [
       "           \u001b[38;5;8m+----------------------------------------+\u001b[0m             \n",
       "   \u001b[38;5;8m87.7464\u001b[0m \u001b[38;5;8m|\u001b[0m \u001b[38;5;33m⚬\u001b[0m           \u001b[38;5;33m⚬\u001b[0m                          \u001b[38;5;8m|\u001b[0m \u001b[38;5;33mScatter plot\u001b[0m\n",
       "          \u001b[38;5;8m\u001b[0m \u001b[38;5;8m|\u001b[0m                                        \u001b[38;5;8m|\u001b[0m \u001b[38;5;8m\u001b[0m            \n",
       "          \u001b[38;5;8m\u001b[0m \u001b[38;5;8m|\u001b[0m                                        \u001b[38;5;8m|\u001b[0m \u001b[38;5;8m\u001b[0m            \n",
       "          \u001b[38;5;8m\u001b[0m \u001b[38;5;8m|\u001b[0m                                        \u001b[38;5;8m|\u001b[0m \u001b[38;5;8m\u001b[0m            \n",
       "          \u001b[38;5;8m\u001b[0m \u001b[38;5;8m|\u001b[0m                                        \u001b[38;5;8m|\u001b[0m \u001b[38;5;8m\u001b[0m            \n",
       "          \u001b[38;5;8m\u001b[0m \u001b[38;5;8m|\u001b[0m                 \u001b[38;5;33m⚬\u001b[0m                      \u001b[38;5;8m|\u001b[0m \u001b[38;5;8m\u001b[0m            \n",
       "          \u001b[38;5;8m\u001b[0m \u001b[38;5;8m|\u001b[0m                                        \u001b[38;5;8m|\u001b[0m \u001b[38;5;8m\u001b[0m            \n",
       "          \u001b[38;5;8m\u001b[0m \u001b[38;5;8m|\u001b[0m                                  \u001b[38;5;33m⚬\u001b[0m     \u001b[38;5;8m|\u001b[0m \u001b[38;5;8m\u001b[0m            \n",
       "          \u001b[38;5;8m\u001b[0m \u001b[38;5;8m|\u001b[0m                                      \u001b[38;5;33m⚬\u001b[0m \u001b[38;5;8m|\u001b[0m \u001b[38;5;8m\u001b[0m            \n",
       "          \u001b[38;5;8m\u001b[0m \u001b[38;5;8m|\u001b[0m                                        \u001b[38;5;8m|\u001b[0m \u001b[38;5;8m\u001b[0m            \n",
       "          \u001b[38;5;8m\u001b[0m \u001b[38;5;8m|\u001b[0m                                        \u001b[38;5;8m|\u001b[0m \u001b[38;5;8m\u001b[0m            \n",
       "          \u001b[38;5;8m\u001b[0m \u001b[38;5;8m|\u001b[0m                      \u001b[38;5;33m⚬\u001b[0m       \u001b[38;5;33m⚬\u001b[0m         \u001b[38;5;8m|\u001b[0m \u001b[38;5;8m\u001b[0m            \n",
       "          \u001b[38;5;8m\u001b[0m \u001b[38;5;8m|\u001b[0m     \u001b[38;5;33m⚬\u001b[0m                                  \u001b[38;5;8m|\u001b[0m \u001b[38;5;8m\u001b[0m            \n",
       "          \u001b[38;5;8m\u001b[0m \u001b[38;5;8m|\u001b[0m                                        \u001b[38;5;8m|\u001b[0m \u001b[38;5;8m\u001b[0m            \n",
       "   \u001b[38;5;8m1.70041\u001b[0m \u001b[38;5;8m|\u001b[0m         \u001b[38;5;33m⚬\u001b[0m                \u001b[38;5;33m⚬\u001b[0m             \u001b[38;5;8m|\u001b[0m \u001b[38;5;8m\u001b[0m            \n",
       "           \u001b[38;5;8m+----------------------------------------+\u001b[0m             \n",
       "            \u001b[38;5;8m1999.73\u001b[0m            \u001b[38;5;8m\u001b[0m              \u001b[38;5;8m2009.27\u001b[0m              "
      ]
     },
     "execution_count": 7,
     "metadata": {},
     "output_type": "execute_result"
    }
   ],
   "source": [
    "scatter(df.year, df.sale, labels=\"Scatter plot\")"
   ]
  },
  {
   "cell_type": "code",
   "execution_count": 8,
   "id": "52848ef1-e461-4d32-87e0-7271b3966b2b",
   "metadata": {},
   "outputs": [
    {
     "data": {
      "text/plain": [
       "           \u001b[38;5;8m+----------------------------------------+\u001b[0m             \n",
       "   \u001b[38;5;8m87.7464\u001b[0m \u001b[38;5;8m|\u001b[0m \u001b[38;5;167m⚬\u001b[0m           \u001b[38;5;167m⚬\u001b[0m                          \u001b[38;5;8m|\u001b[0m \u001b[38;5;33mLine plot\u001b[0m   \n",
       "          \u001b[38;5;8m\u001b[0m \u001b[38;5;8m|\u001b[0m \u001b[38;5;33m\\\u001b[0m           \u001b[38;5;33m.\u001b[0m\u001b[38;5;33m\\\u001b[0m                         \u001b[38;5;8m|\u001b[0m \u001b[38;5;167mScatter plot\u001b[0m\n",
       "          \u001b[38;5;8m\u001b[0m \u001b[38;5;8m|\u001b[0m \u001b[38;5;33m,\u001b[0m          \u001b[38;5;33m.\u001b[0m\u001b[38;5;33m`\u001b[0m\u001b[38;5;33m\"\u001b[0m\u001b[38;5;33m.\u001b[0m                        \u001b[38;5;8m|\u001b[0m \u001b[38;5;8m\u001b[0m            \n",
       "          \u001b[38;5;8m\u001b[0m \u001b[38;5;8m|\u001b[0m \u001b[38;5;33m\"\u001b[0m\u001b[38;5;33m,\u001b[0m         \u001b[38;5;33m|\u001b[0m  \u001b[38;5;33m\"\u001b[0m\u001b[38;5;33m,\u001b[0m                       \u001b[38;5;8m|\u001b[0m \u001b[38;5;8m\u001b[0m            \n",
       "          \u001b[38;5;8m\u001b[0m \u001b[38;5;8m|\u001b[0m  \u001b[38;5;33m\\\u001b[0m         \u001b[38;5;33m|\u001b[0m   \u001b[38;5;33m\\\u001b[0m\u001b[38;5;33m.\u001b[0m                      \u001b[38;5;8m|\u001b[0m \u001b[38;5;8m\u001b[0m            \n",
       "          \u001b[38;5;8m\u001b[0m \u001b[38;5;8m|\u001b[0m  \u001b[38;5;33m,\u001b[0m         \u001b[38;5;33m|\u001b[0m    \u001b[38;5;167m⚬\u001b[0m                      \u001b[38;5;8m|\u001b[0m \u001b[38;5;8m\u001b[0m            \n",
       "          \u001b[38;5;8m\u001b[0m \u001b[38;5;8m|\u001b[0m  \u001b[38;5;33m\"\u001b[0m\u001b[38;5;33m,\u001b[0m       \u001b[38;5;33m|\u001b[0m      \u001b[38;5;33m\\\u001b[0m                     \u001b[38;5;8m|\u001b[0m \u001b[38;5;8m\u001b[0m            \n",
       "          \u001b[38;5;8m\u001b[0m \u001b[38;5;8m|\u001b[0m   \u001b[38;5;33m|\u001b[0m       \u001b[38;5;33m/\u001b[0m      \u001b[38;5;33m\"\u001b[0m\u001b[38;5;33m.\u001b[0m              \u001b[38;5;167m⚬\u001b[0m\u001b[38;5;33m.\u001b[0m    \u001b[38;5;8m|\u001b[0m \u001b[38;5;8m\u001b[0m            \n",
       "          \u001b[38;5;8m\u001b[0m \u001b[38;5;8m|\u001b[0m   \u001b[38;5;33m|\u001b[0m       \u001b[38;5;33m,\u001b[0m       \u001b[38;5;33m|\u001b[0m\u001b[38;5;33m.\u001b[0m            \u001b[38;5;33m.\u001b[0m\u001b[38;5;33m`\u001b[0m\u001b[38;5;33m\"\u001b[0m\u001b[38;5;33m\"\u001b[0m\u001b[38;5;33m-\u001b[0m\u001b[38;5;167m⚬\u001b[0m \u001b[38;5;8m|\u001b[0m \u001b[38;5;8m\u001b[0m            \n",
       "          \u001b[38;5;8m\u001b[0m \u001b[38;5;8m|\u001b[0m    \u001b[38;5;33m|\u001b[0m     \u001b[38;5;33m,\u001b[0m\u001b[38;5;33m`\u001b[0m        \u001b[38;5;33m\\\u001b[0m\u001b[38;5;33m.\u001b[0m          \u001b[38;5;33m.\u001b[0m\u001b[38;5;33m`\u001b[0m      \u001b[38;5;8m|\u001b[0m \u001b[38;5;8m\u001b[0m            \n",
       "          \u001b[38;5;8m\u001b[0m \u001b[38;5;8m|\u001b[0m    \u001b[38;5;33m|\u001b[0m     \u001b[38;5;33m.\u001b[0m          \u001b[38;5;33m\\\u001b[0m         \u001b[38;5;33m.\u001b[0m\u001b[38;5;33m`\u001b[0m       \u001b[38;5;8m|\u001b[0m \u001b[38;5;8m\u001b[0m            \n",
       "          \u001b[38;5;8m\u001b[0m \u001b[38;5;8m|\u001b[0m    \u001b[38;5;33m|\u001b[0m     \u001b[38;5;33m.\u001b[0m           \u001b[38;5;167m⚬\u001b[0m\u001b[38;5;33m.\u001b[0m     \u001b[38;5;33m.\u001b[0m\u001b[38;5;167m⚬\u001b[0m\u001b[38;5;33m`\u001b[0m        \u001b[38;5;8m|\u001b[0m \u001b[38;5;8m\u001b[0m            \n",
       "          \u001b[38;5;8m\u001b[0m \u001b[38;5;8m|\u001b[0m     \u001b[38;5;167m⚬\u001b[0m    \u001b[38;5;33m|\u001b[0m            \u001b[38;5;33m\\\u001b[0m\u001b[38;5;33m.\u001b[0m   \u001b[38;5;33m.\u001b[0m\u001b[38;5;33m/\u001b[0m          \u001b[38;5;8m|\u001b[0m \u001b[38;5;8m\u001b[0m            \n",
       "          \u001b[38;5;8m\u001b[0m \u001b[38;5;8m|\u001b[0m     \u001b[38;5;33m'\u001b[0m\u001b[38;5;33m-\u001b[0m\u001b[38;5;33m_\u001b[0m \u001b[38;5;33m|\u001b[0m              \u001b[38;5;33m\"\u001b[0m\u001b[38;5;33m.\u001b[0m\u001b[38;5;33m.\u001b[0m\u001b[38;5;33m/\u001b[0m\u001b[38;5;33m`\u001b[0m           \u001b[38;5;8m|\u001b[0m \u001b[38;5;8m\u001b[0m            \n",
       "   \u001b[38;5;8m1.70041\u001b[0m \u001b[38;5;8m|\u001b[0m        \u001b[38;5;33m\\\u001b[0m\u001b[38;5;167m⚬\u001b[0m                \u001b[38;5;167m⚬\u001b[0m             \u001b[38;5;8m|\u001b[0m \u001b[38;5;8m\u001b[0m            \n",
       "           \u001b[38;5;8m+----------------------------------------+\u001b[0m             \n",
       "            \u001b[38;5;8m1999.73\u001b[0m            \u001b[38;5;8m\u001b[0m              \u001b[38;5;8m2009.27\u001b[0m              "
      ]
     },
     "execution_count": 8,
     "metadata": {},
     "output_type": "execute_result"
    }
   ],
   "source": [
    "# if both plots should come\n",
    "plot(df.year, df.sale, labels=\"Line plot\")\n",
    "scatter!(df.year, df.sale, labels=\"Scatter plot\")"
   ]
  },
  {
   "cell_type": "code",
   "execution_count": 9,
   "id": "6c274cf3-f650-42cf-98ec-b1719c6e73e1",
   "metadata": {},
   "outputs": [
    {
     "data": {
      "text/plain": [
       "                    \u001b[97;1mSale between 200 and 2009\u001b[0m                     \n",
       "           \u001b[38;5;8m+----------------------------------------+\u001b[0m             \n",
       "   \u001b[38;5;8m87.7464\u001b[0m \u001b[38;5;8m|\u001b[0m \u001b[38;5;167m⚬\u001b[0m           \u001b[38;5;167m⚬\u001b[0m                          \u001b[38;5;8m|\u001b[0m \u001b[38;5;33mLine plot\u001b[0m   \n",
       "          \u001b[38;5;8m\u001b[0m \u001b[38;5;8m|\u001b[0m \u001b[38;5;33m\\\u001b[0m           \u001b[38;5;33m.\u001b[0m\u001b[38;5;33m\\\u001b[0m                         \u001b[38;5;8m|\u001b[0m \u001b[38;5;167mScatter plot\u001b[0m\n",
       "          \u001b[38;5;8m\u001b[0m \u001b[38;5;8m|\u001b[0m \u001b[38;5;33m,\u001b[0m          \u001b[38;5;33m.\u001b[0m\u001b[38;5;33m`\u001b[0m\u001b[38;5;33m\"\u001b[0m\u001b[38;5;33m.\u001b[0m                        \u001b[38;5;8m|\u001b[0m \u001b[38;5;8m\u001b[0m            \n",
       "          \u001b[38;5;8m\u001b[0m \u001b[38;5;8m|\u001b[0m \u001b[38;5;33m\"\u001b[0m\u001b[38;5;33m,\u001b[0m         \u001b[38;5;33m|\u001b[0m  \u001b[38;5;33m\"\u001b[0m\u001b[38;5;33m,\u001b[0m                       \u001b[38;5;8m|\u001b[0m \u001b[38;5;8m\u001b[0m            \n",
       "          \u001b[38;5;8m\u001b[0m \u001b[38;5;8m|\u001b[0m  \u001b[38;5;33m\\\u001b[0m         \u001b[38;5;33m|\u001b[0m   \u001b[38;5;33m\\\u001b[0m\u001b[38;5;33m.\u001b[0m                      \u001b[38;5;8m|\u001b[0m \u001b[38;5;8m\u001b[0m            \n",
       "          \u001b[38;5;8m\u001b[0m \u001b[38;5;8m|\u001b[0m  \u001b[38;5;33m,\u001b[0m         \u001b[38;5;33m|\u001b[0m    \u001b[38;5;167m⚬\u001b[0m                      \u001b[38;5;8m|\u001b[0m \u001b[38;5;8m\u001b[0m            \n",
       "          \u001b[38;5;8m\u001b[0m \u001b[38;5;8m|\u001b[0m  \u001b[38;5;33m\"\u001b[0m\u001b[38;5;33m,\u001b[0m       \u001b[38;5;33m|\u001b[0m      \u001b[38;5;33m\\\u001b[0m                     \u001b[38;5;8m|\u001b[0m \u001b[38;5;8m\u001b[0m            \n",
       "      Sale \u001b[38;5;8m|\u001b[0m   \u001b[38;5;33m|\u001b[0m       \u001b[38;5;33m/\u001b[0m      \u001b[38;5;33m\"\u001b[0m\u001b[38;5;33m.\u001b[0m              \u001b[38;5;167m⚬\u001b[0m\u001b[38;5;33m.\u001b[0m    \u001b[38;5;8m|\u001b[0m \u001b[38;5;8m\u001b[0m            \n",
       "          \u001b[38;5;8m\u001b[0m \u001b[38;5;8m|\u001b[0m   \u001b[38;5;33m|\u001b[0m       \u001b[38;5;33m,\u001b[0m       \u001b[38;5;33m|\u001b[0m\u001b[38;5;33m.\u001b[0m            \u001b[38;5;33m.\u001b[0m\u001b[38;5;33m`\u001b[0m\u001b[38;5;33m\"\u001b[0m\u001b[38;5;33m\"\u001b[0m\u001b[38;5;33m-\u001b[0m\u001b[38;5;167m⚬\u001b[0m \u001b[38;5;8m|\u001b[0m \u001b[38;5;8m\u001b[0m            \n",
       "          \u001b[38;5;8m\u001b[0m \u001b[38;5;8m|\u001b[0m    \u001b[38;5;33m|\u001b[0m     \u001b[38;5;33m,\u001b[0m\u001b[38;5;33m`\u001b[0m        \u001b[38;5;33m\\\u001b[0m\u001b[38;5;33m.\u001b[0m          \u001b[38;5;33m.\u001b[0m\u001b[38;5;33m`\u001b[0m      \u001b[38;5;8m|\u001b[0m \u001b[38;5;8m\u001b[0m            \n",
       "          \u001b[38;5;8m\u001b[0m \u001b[38;5;8m|\u001b[0m    \u001b[38;5;33m|\u001b[0m     \u001b[38;5;33m.\u001b[0m          \u001b[38;5;33m\\\u001b[0m         \u001b[38;5;33m.\u001b[0m\u001b[38;5;33m`\u001b[0m       \u001b[38;5;8m|\u001b[0m \u001b[38;5;8m\u001b[0m            \n",
       "          \u001b[38;5;8m\u001b[0m \u001b[38;5;8m|\u001b[0m    \u001b[38;5;33m|\u001b[0m     \u001b[38;5;33m.\u001b[0m           \u001b[38;5;167m⚬\u001b[0m\u001b[38;5;33m.\u001b[0m     \u001b[38;5;33m.\u001b[0m\u001b[38;5;167m⚬\u001b[0m\u001b[38;5;33m`\u001b[0m        \u001b[38;5;8m|\u001b[0m \u001b[38;5;8m\u001b[0m            \n",
       "          \u001b[38;5;8m\u001b[0m \u001b[38;5;8m|\u001b[0m     \u001b[38;5;167m⚬\u001b[0m    \u001b[38;5;33m|\u001b[0m            \u001b[38;5;33m\\\u001b[0m\u001b[38;5;33m.\u001b[0m   \u001b[38;5;33m.\u001b[0m\u001b[38;5;33m/\u001b[0m          \u001b[38;5;8m|\u001b[0m \u001b[38;5;8m\u001b[0m            \n",
       "          \u001b[38;5;8m\u001b[0m \u001b[38;5;8m|\u001b[0m     \u001b[38;5;33m'\u001b[0m\u001b[38;5;33m-\u001b[0m\u001b[38;5;33m_\u001b[0m \u001b[38;5;33m|\u001b[0m              \u001b[38;5;33m\"\u001b[0m\u001b[38;5;33m.\u001b[0m\u001b[38;5;33m.\u001b[0m\u001b[38;5;33m/\u001b[0m\u001b[38;5;33m`\u001b[0m           \u001b[38;5;8m|\u001b[0m \u001b[38;5;8m\u001b[0m            \n",
       "   \u001b[38;5;8m1.70041\u001b[0m \u001b[38;5;8m|\u001b[0m        \u001b[38;5;33m\\\u001b[0m\u001b[38;5;167m⚬\u001b[0m                \u001b[38;5;167m⚬\u001b[0m             \u001b[38;5;8m|\u001b[0m \u001b[38;5;8m\u001b[0m            \n",
       "           \u001b[38;5;8m+----------------------------------------+\u001b[0m             \n",
       "            \u001b[38;5;8m1999.73\u001b[0m          Year            \u001b[38;5;8m2009.27\u001b[0m              "
      ]
     },
     "execution_count": 9,
     "metadata": {},
     "output_type": "execute_result"
    }
   ],
   "source": [
    "# add labels\n",
    "plot(df.year, df.sale, labels=\"Line plot\")\n",
    "scatter!(df.year, df.sale, labels=\"Scatter plot\")\n",
    "xlabel!(\"Year\")\n",
    "ylabel!(\"Sale\")\n",
    "title!(\"Sale between 200 and 2009\")"
   ]
  },
  {
   "cell_type": "code",
   "execution_count": 10,
   "id": "705fae34-26b7-4eb4-b225-b2f0b17ceb34",
   "metadata": {},
   "outputs": [
    {
     "data": {
      "text/plain": [
       "         \u001b[38;5;8m+----------------------------------------+\u001b[0m   \n",
       "   \u001b[38;5;8m25.75\u001b[0m \u001b[38;5;8m|\u001b[0m \u001b[38;5;33m.\u001b[0m                  |                 \u001b[38;5;33m.\u001b[0m \u001b[38;5;8m|\u001b[0m \u001b[38;5;33my1\u001b[0m\n",
       "        \u001b[38;5;8m\u001b[0m \u001b[38;5;8m|\u001b[0m \u001b[38;5;33m\\\u001b[0m\u001b[38;5;33m.\u001b[0m                 |                \u001b[38;5;33m.\u001b[0m\u001b[38;5;33m/\u001b[0m \u001b[38;5;8m|\u001b[0m \u001b[38;5;8m\u001b[0m  \n",
       "        \u001b[38;5;8m\u001b[0m \u001b[38;5;8m|\u001b[0m  \u001b[38;5;33m.\u001b[0m                 |                \u001b[38;5;33m.\u001b[0m  \u001b[38;5;8m|\u001b[0m \u001b[38;5;8m\u001b[0m  \n",
       "        \u001b[38;5;8m\u001b[0m \u001b[38;5;8m|\u001b[0m   \u001b[38;5;33m\\\u001b[0m                |               \u001b[38;5;33m/\u001b[0m   \u001b[38;5;8m|\u001b[0m \u001b[38;5;8m\u001b[0m  \n",
       "        \u001b[38;5;8m\u001b[0m \u001b[38;5;8m|\u001b[0m   \u001b[38;5;33m\"\u001b[0m\u001b[38;5;33m.\u001b[0m               |              \u001b[38;5;33m.\u001b[0m\u001b[38;5;33m`\u001b[0m   \u001b[38;5;8m|\u001b[0m \u001b[38;5;8m\u001b[0m  \n",
       "        \u001b[38;5;8m\u001b[0m \u001b[38;5;8m|\u001b[0m    \u001b[38;5;33m|\u001b[0m\u001b[38;5;33m.\u001b[0m              |             \u001b[38;5;33m.\u001b[0m\u001b[38;5;33m/\u001b[0m    \u001b[38;5;8m|\u001b[0m \u001b[38;5;8m\u001b[0m  \n",
       "        \u001b[38;5;8m\u001b[0m \u001b[38;5;8m|\u001b[0m     \u001b[38;5;33m.\u001b[0m              |            \u001b[38;5;33m.\u001b[0m\u001b[38;5;33m/\u001b[0m     \u001b[38;5;8m|\u001b[0m \u001b[38;5;8m\u001b[0m  \n",
       "        \u001b[38;5;8m\u001b[0m \u001b[38;5;8m|\u001b[0m      \u001b[38;5;33m\\\u001b[0m\u001b[38;5;33m.\u001b[0m            |            \u001b[38;5;33m.\u001b[0m      \u001b[38;5;8m|\u001b[0m \u001b[38;5;8m\u001b[0m  \n",
       "        \u001b[38;5;8m\u001b[0m \u001b[38;5;8m|\u001b[0m       \u001b[38;5;33m\\\u001b[0m            |          \u001b[38;5;33m.\u001b[0m\u001b[38;5;33m/\u001b[0m       \u001b[38;5;8m|\u001b[0m \u001b[38;5;8m\u001b[0m  \n",
       "        \u001b[38;5;8m\u001b[0m \u001b[38;5;8m|\u001b[0m        \u001b[38;5;33m*\u001b[0m\u001b[38;5;33m.\u001b[0m          |         \u001b[38;5;33m.\u001b[0m\u001b[38;5;33m/\u001b[0m        \u001b[38;5;8m|\u001b[0m \u001b[38;5;8m\u001b[0m  \n",
       "        \u001b[38;5;8m\u001b[0m \u001b[38;5;8m|\u001b[0m         \u001b[38;5;33m\\\u001b[0m\u001b[38;5;33m.\u001b[0m         |        \u001b[38;5;33m.\u001b[0m\u001b[38;5;33m/\u001b[0m         \u001b[38;5;8m|\u001b[0m \u001b[38;5;8m\u001b[0m  \n",
       "        \u001b[38;5;8m\u001b[0m \u001b[38;5;8m|\u001b[0m          \u001b[38;5;33m\"\u001b[0m\u001b[38;5;33m.\u001b[0m        |       \u001b[38;5;33mr\u001b[0m\u001b[38;5;33m'\u001b[0m          \u001b[38;5;8m|\u001b[0m \u001b[38;5;8m\u001b[0m  \n",
       "        \u001b[38;5;8m\u001b[0m \u001b[38;5;8m|\u001b[0m            \u001b[38;5;33m\\\u001b[0m\u001b[38;5;33m.\u001b[0m      |     \u001b[38;5;33m.\u001b[0m\u001b[38;5;33m/\u001b[0m            \u001b[38;5;8m|\u001b[0m \u001b[38;5;8m\u001b[0m  \n",
       "        \u001b[38;5;8m\u001b[0m \u001b[38;5;8m|\u001b[0m             \u001b[38;5;33m\"\u001b[0m\u001b[38;5;33m*\u001b[0m\u001b[38;5;33m.\u001b[0m\u001b[38;5;33m.\u001b[0m   |   \u001b[38;5;33m.\u001b[0m\u001b[38;5;33m/\u001b[0m\u001b[38;5;33m`\u001b[0m             \u001b[38;5;8m|\u001b[0m \u001b[38;5;8m\u001b[0m  \n",
       "   \u001b[38;5;8m-0.75\u001b[0m \u001b[38;5;8m|\u001b[0m----------------\u001b[38;5;33m-\u001b[0m\u001b[38;5;33m-\u001b[0m\u001b[38;5;33m-\u001b[0m\u001b[38;5;33m-\u001b[0m\u001b[38;5;33mr\u001b[0m\u001b[38;5;33m-\u001b[0m\u001b[38;5;33m-\u001b[0m\u001b[38;5;33m-\u001b[0m----------------\u001b[38;5;8m|\u001b[0m \u001b[38;5;8m\u001b[0m  \n",
       "         \u001b[38;5;8m+----------------------------------------+\u001b[0m   \n",
       "          \u001b[38;5;8m-5.3\u001b[0m               \u001b[38;5;8m\u001b[0m                  \u001b[38;5;8m5.3\u001b[0m    "
      ]
     },
     "execution_count": 10,
     "metadata": {},
     "output_type": "execute_result"
    }
   ],
   "source": [
    "# plot mathematical functions\n",
    "x = -5.0:0.2:5\n",
    "y = x.^2\n",
    "plot(x,y)"
   ]
  },
  {
   "cell_type": "code",
   "execution_count": 11,
   "id": "13b0582f-d8fc-4be2-9188-6a9ebfc5379a",
   "metadata": {},
   "outputs": [
    {
     "data": {
      "text/plain": [
       "\u0000        \u001b[38;5;8m+----------------------------------------+\u001b[0m                \u001b[38;5;8m+----------------------------------------+\u001b[0m       \n",
       "\u0000    \u001b[38;5;8m5.3\u001b[0m \u001b[38;5;8m|\u001b[0m                    |                \u001b[38;5;33m.\u001b[0m\u001b[38;5;33mr\u001b[0m \u001b[38;5;8m|\u001b[0m \u001b[38;5;33my1\u001b[0m         \u001b[38;5;8m5.3\u001b[0m \u001b[38;5;8m|\u001b[0m |                               \u001b[38;5;33m_\u001b[0m\u001b[38;5;33m_\u001b[0m\u001b[38;5;33m_\u001b[0m\u001b[38;5;33mr\u001b[0m\u001b[38;5;33m-\u001b[0m\u001b[38;5;33m*\u001b[0m \u001b[38;5;8m|\u001b[0m \u001b[38;5;33my1\u001b[0m    \n",
       "\u0000       \u001b[38;5;8m\u001b[0m \u001b[38;5;8m|\u001b[0m                    |             \u001b[38;5;33m.\u001b[0m\u001b[38;5;33m.\u001b[0m\u001b[38;5;33m/\u001b[0m\u001b[38;5;33m`\u001b[0m  \u001b[38;5;8m|\u001b[0m \u001b[38;5;8m\u001b[0m              \u001b[38;5;8m\u001b[0m \u001b[38;5;8m|\u001b[0m |                      \u001b[38;5;33m_\u001b[0m\u001b[38;5;33m_\u001b[0m\u001b[38;5;33m.\u001b[0m\u001b[38;5;33m-\u001b[0m\u001b[38;5;33m-\u001b[0m\u001b[38;5;33m-\u001b[0m\u001b[38;5;33m\"\u001b[0m\u001b[38;5;33m\"\u001b[0m\u001b[38;5;33m\"\u001b[0m       \u001b[38;5;8m|\u001b[0m \u001b[38;5;8m\u001b[0m      \n",
       "\u0000       \u001b[38;5;8m\u001b[0m \u001b[38;5;8m|\u001b[0m                    |           \u001b[38;5;33m_\u001b[0m\u001b[38;5;33m*\u001b[0m\u001b[38;5;33m'\u001b[0m     \u001b[38;5;8m|\u001b[0m \u001b[38;5;8m\u001b[0m              \u001b[38;5;8m\u001b[0m \u001b[38;5;8m|\u001b[0m |              \u001b[38;5;33m.\u001b[0m\u001b[38;5;33m_\u001b[0m\u001b[38;5;33m.\u001b[0m\u001b[38;5;33m-\u001b[0m\u001b[38;5;33m-\u001b[0m\u001b[38;5;33m/\u001b[0m\u001b[38;5;33m\"\u001b[0m\u001b[38;5;33m\"\u001b[0m                \u001b[38;5;8m|\u001b[0m \u001b[38;5;8m\u001b[0m      \n",
       "\u0000       \u001b[38;5;8m\u001b[0m \u001b[38;5;8m|\u001b[0m                    |        \u001b[38;5;33m.\u001b[0m\u001b[38;5;33mr\u001b[0m\u001b[38;5;33m\"\u001b[0m        \u001b[38;5;8m|\u001b[0m \u001b[38;5;8m\u001b[0m              \u001b[38;5;8m\u001b[0m \u001b[38;5;8m|\u001b[0m |        \u001b[38;5;33m.\u001b[0m\u001b[38;5;33m_\u001b[0m\u001b[38;5;33mr\u001b[0m\u001b[38;5;33m-\u001b[0m\u001b[38;5;33m\"\u001b[0m\u001b[38;5;33m\"\u001b[0m\u001b[38;5;33m'\u001b[0m                       \u001b[38;5;8m|\u001b[0m \u001b[38;5;8m\u001b[0m      \n",
       "\u0000       \u001b[38;5;8m\u001b[0m \u001b[38;5;8m|\u001b[0m                    |     \u001b[38;5;33m.\u001b[0m\u001b[38;5;33m.\u001b[0m\u001b[38;5;33m/\u001b[0m\u001b[38;5;33m`\u001b[0m          \u001b[38;5;8m|\u001b[0m \u001b[38;5;8m\u001b[0m              \u001b[38;5;8m\u001b[0m \u001b[38;5;8m|\u001b[0m |   \u001b[38;5;33m.\u001b[0m\u001b[38;5;33m_\u001b[0m\u001b[38;5;33mr\u001b[0m\u001b[38;5;33m*\u001b[0m\u001b[38;5;33m\"\u001b[0m\u001b[38;5;33m`\u001b[0m                             \u001b[38;5;8m|\u001b[0m \u001b[38;5;8m\u001b[0m      \n",
       "\u0000       \u001b[38;5;8m\u001b[0m \u001b[38;5;8m|\u001b[0m                    |   \u001b[38;5;33m_\u001b[0m\u001b[38;5;33m*\u001b[0m\u001b[38;5;33m'\u001b[0m             \u001b[38;5;8m|\u001b[0m \u001b[38;5;8m\u001b[0m              \u001b[38;5;8m\u001b[0m \u001b[38;5;8m|\u001b[0m |\u001b[38;5;33m.\u001b[0m\u001b[38;5;33m.\u001b[0m\u001b[38;5;33m*\u001b[0m\u001b[38;5;33m'\u001b[0m                                  \u001b[38;5;8m|\u001b[0m \u001b[38;5;8m\u001b[0m      \n",
       "\u0000       \u001b[38;5;8m\u001b[0m \u001b[38;5;8m|\u001b[0m                    |\u001b[38;5;33m.\u001b[0m\u001b[38;5;33mr\u001b[0m\u001b[38;5;33m/\u001b[0m                \u001b[38;5;8m|\u001b[0m \u001b[38;5;8m\u001b[0m              \u001b[38;5;8m\u001b[0m \u001b[38;5;8m|\u001b[0m \u001b[38;5;33mv\u001b[0m\u001b[38;5;33m/\u001b[0m                                     \u001b[38;5;8m|\u001b[0m \u001b[38;5;8m\u001b[0m      \n",
       "\u0000       \u001b[38;5;8m\u001b[0m \u001b[38;5;8m|\u001b[0m------------------\u001b[38;5;33m-\u001b[0m\u001b[38;5;33mr\u001b[0m\u001b[38;5;33mr\u001b[0m\u001b[38;5;33m-\u001b[0m------------------\u001b[38;5;8m|\u001b[0m \u001b[38;5;8m\u001b[0m              \u001b[38;5;8m\u001b[0m \u001b[38;5;8m|\u001b[0m-\u001b[38;5;33mr\u001b[0m--------------------------------------\u001b[38;5;8m|\u001b[0m \u001b[38;5;8m\u001b[0m      \n",
       "\u0000       \u001b[38;5;8m\u001b[0m \u001b[38;5;8m|\u001b[0m                \u001b[38;5;33m.\u001b[0m\u001b[38;5;33m-\u001b[0m\u001b[38;5;33m'\u001b[0m |                   \u001b[38;5;8m|\u001b[0m \u001b[38;5;8m\u001b[0m              \u001b[38;5;8m\u001b[0m \u001b[38;5;8m|\u001b[0m \u001b[38;5;33m^\u001b[0m\u001b[38;5;33m,\u001b[0m                                     \u001b[38;5;8m|\u001b[0m \u001b[38;5;8m\u001b[0m      \n",
       "\u0000       \u001b[38;5;8m\u001b[0m \u001b[38;5;8m|\u001b[0m             \u001b[38;5;33m.\u001b[0m\u001b[38;5;33m-\u001b[0m\u001b[38;5;33m/\u001b[0m    |                   \u001b[38;5;8m|\u001b[0m \u001b[38;5;8m\u001b[0m              \u001b[38;5;8m\u001b[0m \u001b[38;5;8m|\u001b[0m |\u001b[38;5;33m\"\u001b[0m\u001b[38;5;33m\\\u001b[0m\u001b[38;5;33m.\u001b[0m\u001b[38;5;33m_\u001b[0m                                  \u001b[38;5;8m|\u001b[0m \u001b[38;5;8m\u001b[0m      \n",
       "\u0000       \u001b[38;5;8m\u001b[0m \u001b[38;5;8m|\u001b[0m          \u001b[38;5;33m.\u001b[0m\u001b[38;5;33mr\u001b[0m\u001b[38;5;33m/\u001b[0m\u001b[38;5;33m`\u001b[0m      |                   \u001b[38;5;8m|\u001b[0m \u001b[38;5;8m\u001b[0m              \u001b[38;5;8m\u001b[0m \u001b[38;5;8m|\u001b[0m |    \u001b[38;5;33m\"\u001b[0m\u001b[38;5;33m*\u001b[0m\u001b[38;5;33m.\u001b[0m\u001b[38;5;33m_\u001b[0m\u001b[38;5;33m.\u001b[0m                             \u001b[38;5;8m|\u001b[0m \u001b[38;5;8m\u001b[0m      \n",
       "\u0000       \u001b[38;5;8m\u001b[0m \u001b[38;5;8m|\u001b[0m        \u001b[38;5;33m_\u001b[0m\u001b[38;5;33m-\u001b[0m\u001b[38;5;33m'\u001b[0m         |                   \u001b[38;5;8m|\u001b[0m \u001b[38;5;8m\u001b[0m              \u001b[38;5;8m\u001b[0m \u001b[38;5;8m|\u001b[0m |        \u001b[38;5;33m\"\u001b[0m\u001b[38;5;33m\"\u001b[0m\u001b[38;5;33m-\u001b[0m\u001b[38;5;33m-\u001b[0m\u001b[38;5;33m.\u001b[0m\u001b[38;5;33m_\u001b[0m\u001b[38;5;33m.\u001b[0m                       \u001b[38;5;8m|\u001b[0m \u001b[38;5;8m\u001b[0m      \n",
       "\u0000       \u001b[38;5;8m\u001b[0m \u001b[38;5;8m|\u001b[0m     \u001b[38;5;33m.\u001b[0m\u001b[38;5;33m-\u001b[0m\u001b[38;5;33m/\u001b[0m            |                   \u001b[38;5;8m|\u001b[0m \u001b[38;5;8m\u001b[0m              \u001b[38;5;8m\u001b[0m \u001b[38;5;8m|\u001b[0m |              \u001b[38;5;33m'\u001b[0m\u001b[38;5;33m\"\u001b[0m\u001b[38;5;33m\"\u001b[0m\u001b[38;5;33m-\u001b[0m\u001b[38;5;33m-\u001b[0m\u001b[38;5;33m.\u001b[0m\u001b[38;5;33m_\u001b[0m\u001b[38;5;33m.\u001b[0m                \u001b[38;5;8m|\u001b[0m \u001b[38;5;8m\u001b[0m      \n",
       "\u0000       \u001b[38;5;8m\u001b[0m \u001b[38;5;8m|\u001b[0m  \u001b[38;5;33m.\u001b[0m\u001b[38;5;33m.\u001b[0m\u001b[38;5;33m/\u001b[0m\u001b[38;5;33m`\u001b[0m              |                   \u001b[38;5;8m|\u001b[0m \u001b[38;5;8m\u001b[0m              \u001b[38;5;8m\u001b[0m \u001b[38;5;8m|\u001b[0m |                     \u001b[38;5;33m\"\u001b[0m\u001b[38;5;33m\"\u001b[0m\u001b[38;5;33m\"\u001b[0m\u001b[38;5;33m\"\u001b[0m\u001b[38;5;33m-\u001b[0m\u001b[38;5;33m-\u001b[0m\u001b[38;5;33m-\u001b[0m\u001b[38;5;33m_\u001b[0m\u001b[38;5;33m_\u001b[0m\u001b[38;5;33m_\u001b[0m       \u001b[38;5;8m|\u001b[0m \u001b[38;5;8m\u001b[0m      \n",
       "\u0000   \u001b[38;5;8m-5.3\u001b[0m \u001b[38;5;8m|\u001b[0m \u001b[38;5;33m*\u001b[0m\u001b[38;5;33m'\u001b[0m                 |                   \u001b[38;5;8m|\u001b[0m \u001b[38;5;8m\u001b[0m          \u001b[38;5;8m-5.3\u001b[0m \u001b[38;5;8m|\u001b[0m |                               \u001b[38;5;33m\"\u001b[0m\u001b[38;5;33m\"\u001b[0m\u001b[38;5;33m\"\u001b[0m\u001b[38;5;33m*\u001b[0m\u001b[38;5;33m-\u001b[0m\u001b[38;5;33m-\u001b[0m \u001b[38;5;8m|\u001b[0m \u001b[38;5;8m\u001b[0m      \n",
       "\u0000        \u001b[38;5;8m+----------------------------------------+\u001b[0m                \u001b[38;5;8m+----------------------------------------+\u001b[0m       \n",
       "\u0000         \u001b[38;5;8m-5.3\u001b[0m               \u001b[38;5;8m\u001b[0m                  \u001b[38;5;8m5.3\u001b[0m                  \u001b[38;5;8m-0.75\u001b[0m              \u001b[38;5;8m\u001b[0m                \u001b[38;5;8m25.75\u001b[0m        \n",
       "\u0000            \u001b[38;5;8m+----------------------------------------+\u001b[0m                \u001b[38;5;8m+----------------------------------------+\u001b[0m   \n",
       "\u0000    \u001b[38;5;8m1.05955\u001b[0m \u001b[38;5;8m|\u001b[0m \u001b[38;5;33mr\u001b[0m\u001b[38;5;33m-\u001b[0m\u001b[38;5;33m.\u001b[0m                |   \u001b[38;5;33m.\u001b[0m\u001b[38;5;33m-\u001b[0m\u001b[38;5;33m-\u001b[0m\u001b[38;5;33m.\u001b[0m            \u001b[38;5;8m|\u001b[0m \u001b[38;5;33my1\u001b[0m     \u001b[38;5;8m1.05995\u001b[0m \u001b[38;5;8m|\u001b[0m                  \u001b[38;5;33m.\u001b[0m\u001b[38;5;33m-\u001b[0m\u001b[38;5;33mr\u001b[0m\u001b[38;5;33m.\u001b[0m                  \u001b[38;5;8m|\u001b[0m \u001b[38;5;33my1\u001b[0m\n",
       "\u0000           \u001b[38;5;8m\u001b[0m \u001b[38;5;8m|\u001b[0m   \u001b[38;5;33m\"\u001b[0m\u001b[38;5;33m\\\u001b[0m               |  \u001b[38;5;33m.\u001b[0m\u001b[38;5;33m`\u001b[0m  \u001b[38;5;33m\\\u001b[0m\u001b[38;5;33m.\u001b[0m           \u001b[38;5;8m|\u001b[0m \u001b[38;5;8m\u001b[0m              \u001b[38;5;8m\u001b[0m \u001b[38;5;8m|\u001b[0m                 \u001b[38;5;33m.\u001b[0m\u001b[38;5;33m/\u001b[0m |\u001b[38;5;33m\"\u001b[0m\u001b[38;5;33m.\u001b[0m                 \u001b[38;5;8m|\u001b[0m \u001b[38;5;8m\u001b[0m  \n",
       "\u0000           \u001b[38;5;8m\u001b[0m \u001b[38;5;8m|\u001b[0m    \u001b[38;5;33m\"\u001b[0m\u001b[38;5;33m.\u001b[0m              | \u001b[38;5;33m,\u001b[0m\u001b[38;5;33m`\u001b[0m    \u001b[38;5;33m\\\u001b[0m\u001b[38;5;33m.\u001b[0m          \u001b[38;5;8m|\u001b[0m \u001b[38;5;8m\u001b[0m              \u001b[38;5;8m\u001b[0m \u001b[38;5;8m|\u001b[0m                \u001b[38;5;33m,\u001b[0m\u001b[38;5;33m`\u001b[0m  | \u001b[38;5;33m\"\u001b[0m\u001b[38;5;33m,\u001b[0m                \u001b[38;5;8m|\u001b[0m \u001b[38;5;8m\u001b[0m  \n",
       "\u0000           \u001b[38;5;8m\u001b[0m \u001b[38;5;8m|\u001b[0m     \u001b[38;5;33m\\\u001b[0m\u001b[38;5;33m.\u001b[0m             | \u001b[38;5;33m,\u001b[0m      \u001b[38;5;33m\\\u001b[0m          \u001b[38;5;8m|\u001b[0m \u001b[38;5;8m\u001b[0m              \u001b[38;5;8m\u001b[0m \u001b[38;5;8m|\u001b[0m                \u001b[38;5;33m/\u001b[0m   |  \u001b[38;5;33m,\u001b[0m                \u001b[38;5;8m|\u001b[0m \u001b[38;5;8m\u001b[0m  \n",
       "\u0000           \u001b[38;5;8m\u001b[0m \u001b[38;5;8m|\u001b[0m      \u001b[38;5;33m\\\u001b[0m             |\u001b[38;5;33m.\u001b[0m        \u001b[38;5;33m.\u001b[0m         \u001b[38;5;8m|\u001b[0m \u001b[38;5;8m\u001b[0m              \u001b[38;5;8m\u001b[0m \u001b[38;5;8m|\u001b[0m               \u001b[38;5;33m.\u001b[0m    |  \u001b[38;5;33m\"\u001b[0m\u001b[38;5;33m.\u001b[0m               \u001b[38;5;8m|\u001b[0m \u001b[38;5;8m\u001b[0m  \n",
       "\u0000           \u001b[38;5;8m\u001b[0m \u001b[38;5;8m|\u001b[0m      \u001b[38;5;33m|\u001b[0m\u001b[38;5;33m.\u001b[0m            \u001b[38;5;33m|\u001b[0m\u001b[38;5;33m`\u001b[0m        \u001b[38;5;33m,\u001b[0m         \u001b[38;5;8m|\u001b[0m \u001b[38;5;8m\u001b[0m              \u001b[38;5;8m\u001b[0m \u001b[38;5;8m|\u001b[0m \u001b[38;5;33m,\u001b[0m            \u001b[38;5;33m.\u001b[0m\u001b[38;5;33m`\u001b[0m    |   \u001b[38;5;33m|\u001b[0m\u001b[38;5;33m.\u001b[0m            \u001b[38;5;33m.\u001b[0m \u001b[38;5;8m|\u001b[0m \u001b[38;5;8m\u001b[0m  \n",
       "\u0000           \u001b[38;5;8m\u001b[0m \u001b[38;5;8m|\u001b[0m       \u001b[38;5;33m.\u001b[0m            \u001b[38;5;33m/\u001b[0m          \u001b[38;5;33m.\u001b[0m        \u001b[38;5;8m|\u001b[0m \u001b[38;5;8m\u001b[0m              \u001b[38;5;8m\u001b[0m \u001b[38;5;8m|\u001b[0m \u001b[38;5;33m,\u001b[0m            \u001b[38;5;33m.\u001b[0m     |    \u001b[38;5;33m\\\u001b[0m            \u001b[38;5;33m,\u001b[0m \u001b[38;5;8m|\u001b[0m \u001b[38;5;8m\u001b[0m  \n",
       "\u0000           \u001b[38;5;8m\u001b[0m \u001b[38;5;8m|\u001b[0m-------\u001b[38;5;33m-\u001b[0m\u001b[38;5;33mr\u001b[0m----------\u001b[38;5;33m-\u001b[0m\u001b[38;5;33mr\u001b[0m----------\u001b[38;5;33m-\u001b[0m\u001b[38;5;33mr\u001b[0m-------\u001b[38;5;8m|\u001b[0m \u001b[38;5;8m\u001b[0m              \u001b[38;5;8m\u001b[0m \u001b[38;5;8m|\u001b[0m--\u001b[38;5;33mv\u001b[0m----------\u001b[38;5;33m-\u001b[0m\u001b[38;5;33m-\u001b[0m-----r----\u001b[38;5;33m-\u001b[0m\u001b[38;5;33mr\u001b[0m----------\u001b[38;5;33mv\u001b[0m--\u001b[38;5;8m|\u001b[0m \u001b[38;5;8m\u001b[0m  \n",
       "\u0000           \u001b[38;5;8m\u001b[0m \u001b[38;5;8m|\u001b[0m        \u001b[38;5;33m,\u001b[0m          \u001b[38;5;33m.\u001b[0m|           \u001b[38;5;33m\\\u001b[0m       \u001b[38;5;8m|\u001b[0m \u001b[38;5;8m\u001b[0m              \u001b[38;5;8m\u001b[0m \u001b[38;5;8m|\u001b[0m  \u001b[38;5;33m\\\u001b[0m\u001b[38;5;33m.\u001b[0m         \u001b[38;5;33m/\u001b[0m      |     \u001b[38;5;33m\\\u001b[0m          \u001b[38;5;33m,\u001b[0m  \u001b[38;5;8m|\u001b[0m \u001b[38;5;8m\u001b[0m  \n",
       "\u0000           \u001b[38;5;8m\u001b[0m \u001b[38;5;8m|\u001b[0m         \u001b[38;5;33m.\u001b[0m        \u001b[38;5;33m,\u001b[0m\u001b[38;5;33m`\u001b[0m|           \u001b[38;5;33m\"\u001b[0m\u001b[38;5;33m,\u001b[0m      \u001b[38;5;8m|\u001b[0m \u001b[38;5;8m\u001b[0m              \u001b[38;5;8m\u001b[0m \u001b[38;5;8m|\u001b[0m   \u001b[38;5;33m\\\u001b[0m        \u001b[38;5;33m.\u001b[0m\u001b[38;5;33m`\u001b[0m      |     \u001b[38;5;33m|\u001b[0m\u001b[38;5;33m.\u001b[0m        \u001b[38;5;33m.\u001b[0m   \u001b[38;5;8m|\u001b[0m \u001b[38;5;8m\u001b[0m  \n",
       "\u0000           \u001b[38;5;8m\u001b[0m \u001b[38;5;8m|\u001b[0m         \u001b[38;5;33m\\\u001b[0m\u001b[38;5;33m.\u001b[0m       \u001b[38;5;33m.\u001b[0m |            \u001b[38;5;33m.\u001b[0m      \u001b[38;5;8m|\u001b[0m \u001b[38;5;8m\u001b[0m              \u001b[38;5;8m\u001b[0m \u001b[38;5;8m|\u001b[0m   \u001b[38;5;33m,\u001b[0m\u001b[38;5;33m.\u001b[0m       \u001b[38;5;33m.\u001b[0m       |      \u001b[38;5;33m.\u001b[0m       \u001b[38;5;33m.\u001b[0m\u001b[38;5;33m`\u001b[0m   \u001b[38;5;8m|\u001b[0m \u001b[38;5;8m\u001b[0m  \n",
       "\u0000           \u001b[38;5;8m\u001b[0m \u001b[38;5;8m|\u001b[0m          \u001b[38;5;33m\\\u001b[0m      \u001b[38;5;33m.\u001b[0m  |             \u001b[38;5;33m.\u001b[0m     \u001b[38;5;8m|\u001b[0m \u001b[38;5;8m\u001b[0m              \u001b[38;5;8m\u001b[0m \u001b[38;5;8m|\u001b[0m    \u001b[38;5;33m.\u001b[0m      \u001b[38;5;33m,\u001b[0m\u001b[38;5;33m`\u001b[0m       |      \u001b[38;5;33m\"\u001b[0m\u001b[38;5;33m,\u001b[0m      \u001b[38;5;33m/\u001b[0m    \u001b[38;5;8m|\u001b[0m \u001b[38;5;8m\u001b[0m  \n",
       "\u0000           \u001b[38;5;8m\u001b[0m \u001b[38;5;8m|\u001b[0m          \u001b[38;5;33m\"\u001b[0m\u001b[38;5;33m.\u001b[0m    \u001b[38;5;33m,\u001b[0m\u001b[38;5;33m`\u001b[0m  |             \u001b[38;5;33m\\\u001b[0m\u001b[38;5;33m.\u001b[0m    \u001b[38;5;8m|\u001b[0m \u001b[38;5;8m\u001b[0m              \u001b[38;5;8m\u001b[0m \u001b[38;5;8m|\u001b[0m    \u001b[38;5;33m\"\u001b[0m\u001b[38;5;33m.\u001b[0m    \u001b[38;5;33m.\u001b[0m\u001b[38;5;33m/\u001b[0m        |       \u001b[38;5;33m\\\u001b[0m\u001b[38;5;33m.\u001b[0m    \u001b[38;5;33m.\u001b[0m\u001b[38;5;33m`\u001b[0m    \u001b[38;5;8m|\u001b[0m \u001b[38;5;8m\u001b[0m  \n",
       "\u0000           \u001b[38;5;8m\u001b[0m \u001b[38;5;8m|\u001b[0m           \u001b[38;5;33m\"\u001b[0m\u001b[38;5;33m.\u001b[0m  \u001b[38;5;33m.\u001b[0m\u001b[38;5;33m/\u001b[0m   |              \u001b[38;5;33m,\u001b[0m\u001b[38;5;33m.\u001b[0m   \u001b[38;5;8m|\u001b[0m \u001b[38;5;8m\u001b[0m              \u001b[38;5;8m\u001b[0m \u001b[38;5;8m|\u001b[0m     \u001b[38;5;33m\\\u001b[0m\u001b[38;5;33m.\u001b[0m  \u001b[38;5;33m.\u001b[0m\u001b[38;5;33m/\u001b[0m         |        \u001b[38;5;33m\\\u001b[0m\u001b[38;5;33m.\u001b[0m  \u001b[38;5;33m.\u001b[0m\u001b[38;5;33m'\u001b[0m     \u001b[38;5;8m|\u001b[0m \u001b[38;5;8m\u001b[0m  \n",
       "\u0000   \u001b[38;5;8m-1.05955\u001b[0m \u001b[38;5;8m|\u001b[0m            \u001b[38;5;33m\"\u001b[0m\u001b[38;5;33m-\u001b[0m\u001b[38;5;33m-\u001b[0m\u001b[38;5;33m'\u001b[0m    |               \u001b[38;5;33m\\\u001b[0m\u001b[38;5;33m-\u001b[0m\u001b[38;5;33m*\u001b[0m \u001b[38;5;8m|\u001b[0m \u001b[38;5;8m\u001b[0m      \u001b[38;5;8m-1.05824\u001b[0m \u001b[38;5;8m|\u001b[0m      \u001b[38;5;33m\"\u001b[0m\u001b[38;5;33m-\u001b[0m\u001b[38;5;33m-\u001b[0m\u001b[38;5;33m/\u001b[0m          |         \u001b[38;5;33m'\u001b[0m\u001b[38;5;33m-\u001b[0m\u001b[38;5;33m-\u001b[0m\u001b[38;5;33m`\u001b[0m      \u001b[38;5;8m|\u001b[0m \u001b[38;5;8m\u001b[0m  \n",
       "\u0000            \u001b[38;5;8m+----------------------------------------+\u001b[0m                \u001b[38;5;8m+----------------------------------------+\u001b[0m   \n",
       "\u0000             \u001b[38;5;8m-5.3\u001b[0m               \u001b[38;5;8m\u001b[0m                  \u001b[38;5;8m5.3\u001b[0m                  \u001b[38;5;8m-5.3\u001b[0m               \u001b[38;5;8m\u001b[0m                  \u001b[38;5;8m5.3\u001b[0m    "
      ]
     },
     "execution_count": 11,
     "metadata": {},
     "output_type": "execute_result"
    }
   ],
   "source": [
    "# plot multiple graphs\n",
    "p1 = plot(x, x)\n",
    "p2 = plot(y, x)\n",
    "p3 = plot(sin, x)\n",
    "p4 = plot(cos, x)\n",
    "plot(p1, p2, p3, p4)"
   ]
  },
  {
   "cell_type": "code",
   "execution_count": 12,
   "id": "e987d028-c4e7-48b6-9c84-cf81aa390616",
   "metadata": {},
   "outputs": [
    {
     "data": {
      "text/plain": [
       "\u0000        \u001b[38;5;8m+----------------------------------------+\u001b[0m       \n",
       "\u0000    \u001b[38;5;8m5.3\u001b[0m \u001b[38;5;8m|\u001b[0m                    |                \u001b[38;5;33m.\u001b[0m\u001b[38;5;33mr\u001b[0m \u001b[38;5;8m|\u001b[0m \u001b[38;5;33my1\u001b[0m    \n",
       "\u0000       \u001b[38;5;8m\u001b[0m \u001b[38;5;8m|\u001b[0m                    |             \u001b[38;5;33m.\u001b[0m\u001b[38;5;33m.\u001b[0m\u001b[38;5;33m/\u001b[0m\u001b[38;5;33m`\u001b[0m  \u001b[38;5;8m|\u001b[0m \u001b[38;5;8m\u001b[0m      \n",
       "\u0000       \u001b[38;5;8m\u001b[0m \u001b[38;5;8m|\u001b[0m                    |           \u001b[38;5;33m_\u001b[0m\u001b[38;5;33m*\u001b[0m\u001b[38;5;33m'\u001b[0m     \u001b[38;5;8m|\u001b[0m \u001b[38;5;8m\u001b[0m      \n",
       "\u0000       \u001b[38;5;8m\u001b[0m \u001b[38;5;8m|\u001b[0m                    |        \u001b[38;5;33m.\u001b[0m\u001b[38;5;33mr\u001b[0m\u001b[38;5;33m\"\u001b[0m        \u001b[38;5;8m|\u001b[0m \u001b[38;5;8m\u001b[0m      \n",
       "\u0000       \u001b[38;5;8m\u001b[0m \u001b[38;5;8m|\u001b[0m                    |     \u001b[38;5;33m.\u001b[0m\u001b[38;5;33m.\u001b[0m\u001b[38;5;33m/\u001b[0m\u001b[38;5;33m`\u001b[0m          \u001b[38;5;8m|\u001b[0m \u001b[38;5;8m\u001b[0m      \n",
       "\u0000       \u001b[38;5;8m\u001b[0m \u001b[38;5;8m|\u001b[0m                    |   \u001b[38;5;33m_\u001b[0m\u001b[38;5;33m*\u001b[0m\u001b[38;5;33m'\u001b[0m             \u001b[38;5;8m|\u001b[0m \u001b[38;5;8m\u001b[0m      \n",
       "\u0000       \u001b[38;5;8m\u001b[0m \u001b[38;5;8m|\u001b[0m                    |\u001b[38;5;33m.\u001b[0m\u001b[38;5;33mr\u001b[0m\u001b[38;5;33m/\u001b[0m                \u001b[38;5;8m|\u001b[0m \u001b[38;5;8m\u001b[0m      \n",
       "\u0000       \u001b[38;5;8m\u001b[0m \u001b[38;5;8m|\u001b[0m------------------\u001b[38;5;33m-\u001b[0m\u001b[38;5;33mr\u001b[0m\u001b[38;5;33mr\u001b[0m\u001b[38;5;33m-\u001b[0m------------------\u001b[38;5;8m|\u001b[0m \u001b[38;5;8m\u001b[0m      \n",
       "\u0000       \u001b[38;5;8m\u001b[0m \u001b[38;5;8m|\u001b[0m                \u001b[38;5;33m.\u001b[0m\u001b[38;5;33m-\u001b[0m\u001b[38;5;33m'\u001b[0m |                   \u001b[38;5;8m|\u001b[0m \u001b[38;5;8m\u001b[0m      \n",
       "\u0000       \u001b[38;5;8m\u001b[0m \u001b[38;5;8m|\u001b[0m             \u001b[38;5;33m.\u001b[0m\u001b[38;5;33m-\u001b[0m\u001b[38;5;33m/\u001b[0m    |                   \u001b[38;5;8m|\u001b[0m \u001b[38;5;8m\u001b[0m      \n",
       "\u0000       \u001b[38;5;8m\u001b[0m \u001b[38;5;8m|\u001b[0m          \u001b[38;5;33m.\u001b[0m\u001b[38;5;33mr\u001b[0m\u001b[38;5;33m/\u001b[0m\u001b[38;5;33m`\u001b[0m      |                   \u001b[38;5;8m|\u001b[0m \u001b[38;5;8m\u001b[0m      \n",
       "\u0000       \u001b[38;5;8m\u001b[0m \u001b[38;5;8m|\u001b[0m        \u001b[38;5;33m_\u001b[0m\u001b[38;5;33m-\u001b[0m\u001b[38;5;33m'\u001b[0m         |                   \u001b[38;5;8m|\u001b[0m \u001b[38;5;8m\u001b[0m      \n",
       "\u0000       \u001b[38;5;8m\u001b[0m \u001b[38;5;8m|\u001b[0m     \u001b[38;5;33m.\u001b[0m\u001b[38;5;33m-\u001b[0m\u001b[38;5;33m/\u001b[0m            |                   \u001b[38;5;8m|\u001b[0m \u001b[38;5;8m\u001b[0m      \n",
       "\u0000       \u001b[38;5;8m\u001b[0m \u001b[38;5;8m|\u001b[0m  \u001b[38;5;33m.\u001b[0m\u001b[38;5;33m.\u001b[0m\u001b[38;5;33m/\u001b[0m\u001b[38;5;33m`\u001b[0m              |                   \u001b[38;5;8m|\u001b[0m \u001b[38;5;8m\u001b[0m      \n",
       "\u0000   \u001b[38;5;8m-5.3\u001b[0m \u001b[38;5;8m|\u001b[0m \u001b[38;5;33m*\u001b[0m\u001b[38;5;33m'\u001b[0m                 |                   \u001b[38;5;8m|\u001b[0m \u001b[38;5;8m\u001b[0m      \n",
       "\u0000        \u001b[38;5;8m+----------------------------------------+\u001b[0m       \n",
       "\u0000         \u001b[38;5;8m-5.3\u001b[0m               \u001b[38;5;8m\u001b[0m                  \u001b[38;5;8m5.3\u001b[0m        \n",
       "\u0000        \u001b[38;5;8m+----------------------------------------+\u001b[0m       \n",
       "\u0000    \u001b[38;5;8m5.3\u001b[0m \u001b[38;5;8m|\u001b[0m |                               \u001b[38;5;33m_\u001b[0m\u001b[38;5;33m_\u001b[0m\u001b[38;5;33m_\u001b[0m\u001b[38;5;33mr\u001b[0m\u001b[38;5;33m-\u001b[0m\u001b[38;5;33m*\u001b[0m \u001b[38;5;8m|\u001b[0m \u001b[38;5;33my1\u001b[0m    \n",
       "\u0000       \u001b[38;5;8m\u001b[0m \u001b[38;5;8m|\u001b[0m |                      \u001b[38;5;33m_\u001b[0m\u001b[38;5;33m_\u001b[0m\u001b[38;5;33m.\u001b[0m\u001b[38;5;33m-\u001b[0m\u001b[38;5;33m-\u001b[0m\u001b[38;5;33m-\u001b[0m\u001b[38;5;33m\"\u001b[0m\u001b[38;5;33m\"\u001b[0m\u001b[38;5;33m\"\u001b[0m       \u001b[38;5;8m|\u001b[0m \u001b[38;5;8m\u001b[0m      \n",
       "\u0000       \u001b[38;5;8m\u001b[0m \u001b[38;5;8m|\u001b[0m |              \u001b[38;5;33m.\u001b[0m\u001b[38;5;33m_\u001b[0m\u001b[38;5;33m.\u001b[0m\u001b[38;5;33m-\u001b[0m\u001b[38;5;33m-\u001b[0m\u001b[38;5;33m/\u001b[0m\u001b[38;5;33m\"\u001b[0m\u001b[38;5;33m\"\u001b[0m                \u001b[38;5;8m|\u001b[0m \u001b[38;5;8m\u001b[0m      \n",
       "\u0000       \u001b[38;5;8m\u001b[0m \u001b[38;5;8m|\u001b[0m |        \u001b[38;5;33m.\u001b[0m\u001b[38;5;33m_\u001b[0m\u001b[38;5;33mr\u001b[0m\u001b[38;5;33m-\u001b[0m\u001b[38;5;33m\"\u001b[0m\u001b[38;5;33m\"\u001b[0m\u001b[38;5;33m'\u001b[0m                       \u001b[38;5;8m|\u001b[0m \u001b[38;5;8m\u001b[0m      \n",
       "\u0000       \u001b[38;5;8m\u001b[0m \u001b[38;5;8m|\u001b[0m |   \u001b[38;5;33m.\u001b[0m\u001b[38;5;33m_\u001b[0m\u001b[38;5;33mr\u001b[0m\u001b[38;5;33m*\u001b[0m\u001b[38;5;33m\"\u001b[0m\u001b[38;5;33m`\u001b[0m                             \u001b[38;5;8m|\u001b[0m \u001b[38;5;8m\u001b[0m      \n",
       "\u0000       \u001b[38;5;8m\u001b[0m \u001b[38;5;8m|\u001b[0m |\u001b[38;5;33m.\u001b[0m\u001b[38;5;33m.\u001b[0m\u001b[38;5;33m*\u001b[0m\u001b[38;5;33m'\u001b[0m                                  \u001b[38;5;8m|\u001b[0m \u001b[38;5;8m\u001b[0m      \n",
       "\u0000       \u001b[38;5;8m\u001b[0m \u001b[38;5;8m|\u001b[0m \u001b[38;5;33mv\u001b[0m\u001b[38;5;33m/\u001b[0m                                     \u001b[38;5;8m|\u001b[0m \u001b[38;5;8m\u001b[0m      \n",
       "\u0000       \u001b[38;5;8m\u001b[0m \u001b[38;5;8m|\u001b[0m-\u001b[38;5;33mr\u001b[0m--------------------------------------\u001b[38;5;8m|\u001b[0m \u001b[38;5;8m\u001b[0m      \n",
       "\u0000       \u001b[38;5;8m\u001b[0m \u001b[38;5;8m|\u001b[0m \u001b[38;5;33m^\u001b[0m\u001b[38;5;33m,\u001b[0m                                     \u001b[38;5;8m|\u001b[0m \u001b[38;5;8m\u001b[0m      \n",
       "\u0000       \u001b[38;5;8m\u001b[0m \u001b[38;5;8m|\u001b[0m |\u001b[38;5;33m\"\u001b[0m\u001b[38;5;33m\\\u001b[0m\u001b[38;5;33m.\u001b[0m\u001b[38;5;33m_\u001b[0m                                  \u001b[38;5;8m|\u001b[0m \u001b[38;5;8m\u001b[0m      \n",
       "\u0000       \u001b[38;5;8m\u001b[0m \u001b[38;5;8m|\u001b[0m |    \u001b[38;5;33m\"\u001b[0m\u001b[38;5;33m*\u001b[0m\u001b[38;5;33m.\u001b[0m\u001b[38;5;33m_\u001b[0m\u001b[38;5;33m.\u001b[0m                             \u001b[38;5;8m|\u001b[0m \u001b[38;5;8m\u001b[0m      \n",
       "\u0000       \u001b[38;5;8m\u001b[0m \u001b[38;5;8m|\u001b[0m |        \u001b[38;5;33m\"\u001b[0m\u001b[38;5;33m\"\u001b[0m\u001b[38;5;33m-\u001b[0m\u001b[38;5;33m-\u001b[0m\u001b[38;5;33m.\u001b[0m\u001b[38;5;33m_\u001b[0m\u001b[38;5;33m.\u001b[0m                       \u001b[38;5;8m|\u001b[0m \u001b[38;5;8m\u001b[0m      \n",
       "\u0000       \u001b[38;5;8m\u001b[0m \u001b[38;5;8m|\u001b[0m |              \u001b[38;5;33m'\u001b[0m\u001b[38;5;33m\"\u001b[0m\u001b[38;5;33m\"\u001b[0m\u001b[38;5;33m-\u001b[0m\u001b[38;5;33m-\u001b[0m\u001b[38;5;33m.\u001b[0m\u001b[38;5;33m_\u001b[0m\u001b[38;5;33m.\u001b[0m                \u001b[38;5;8m|\u001b[0m \u001b[38;5;8m\u001b[0m      \n",
       "\u0000       \u001b[38;5;8m\u001b[0m \u001b[38;5;8m|\u001b[0m |                     \u001b[38;5;33m\"\u001b[0m\u001b[38;5;33m\"\u001b[0m\u001b[38;5;33m\"\u001b[0m\u001b[38;5;33m\"\u001b[0m\u001b[38;5;33m-\u001b[0m\u001b[38;5;33m-\u001b[0m\u001b[38;5;33m-\u001b[0m\u001b[38;5;33m_\u001b[0m\u001b[38;5;33m_\u001b[0m\u001b[38;5;33m_\u001b[0m       \u001b[38;5;8m|\u001b[0m \u001b[38;5;8m\u001b[0m      \n",
       "\u0000   \u001b[38;5;8m-5.3\u001b[0m \u001b[38;5;8m|\u001b[0m |                               \u001b[38;5;33m\"\u001b[0m\u001b[38;5;33m\"\u001b[0m\u001b[38;5;33m\"\u001b[0m\u001b[38;5;33m*\u001b[0m\u001b[38;5;33m-\u001b[0m\u001b[38;5;33m-\u001b[0m \u001b[38;5;8m|\u001b[0m \u001b[38;5;8m\u001b[0m      \n",
       "\u0000        \u001b[38;5;8m+----------------------------------------+\u001b[0m       \n",
       "\u0000         \u001b[38;5;8m-0.75\u001b[0m              \u001b[38;5;8m\u001b[0m                \u001b[38;5;8m25.75\u001b[0m        \n",
       "\u0000            \u001b[38;5;8m+----------------------------------------+\u001b[0m   \n",
       "\u0000    \u001b[38;5;8m1.05955\u001b[0m \u001b[38;5;8m|\u001b[0m \u001b[38;5;33mr\u001b[0m\u001b[38;5;33m-\u001b[0m\u001b[38;5;33m.\u001b[0m                |   \u001b[38;5;33m.\u001b[0m\u001b[38;5;33m-\u001b[0m\u001b[38;5;33m-\u001b[0m\u001b[38;5;33m.\u001b[0m            \u001b[38;5;8m|\u001b[0m \u001b[38;5;33my1\u001b[0m\n",
       "\u0000           \u001b[38;5;8m\u001b[0m \u001b[38;5;8m|\u001b[0m   \u001b[38;5;33m\"\u001b[0m\u001b[38;5;33m\\\u001b[0m               |  \u001b[38;5;33m.\u001b[0m\u001b[38;5;33m`\u001b[0m  \u001b[38;5;33m\\\u001b[0m\u001b[38;5;33m.\u001b[0m           \u001b[38;5;8m|\u001b[0m \u001b[38;5;8m\u001b[0m  \n",
       "\u0000           \u001b[38;5;8m\u001b[0m \u001b[38;5;8m|\u001b[0m    \u001b[38;5;33m\"\u001b[0m\u001b[38;5;33m.\u001b[0m              | \u001b[38;5;33m,\u001b[0m\u001b[38;5;33m`\u001b[0m    \u001b[38;5;33m\\\u001b[0m\u001b[38;5;33m.\u001b[0m          \u001b[38;5;8m|\u001b[0m \u001b[38;5;8m\u001b[0m  \n",
       "\u0000           \u001b[38;5;8m\u001b[0m \u001b[38;5;8m|\u001b[0m     \u001b[38;5;33m\\\u001b[0m\u001b[38;5;33m.\u001b[0m             | \u001b[38;5;33m,\u001b[0m      \u001b[38;5;33m\\\u001b[0m          \u001b[38;5;8m|\u001b[0m \u001b[38;5;8m\u001b[0m  \n",
       "\u0000           \u001b[38;5;8m\u001b[0m \u001b[38;5;8m|\u001b[0m      \u001b[38;5;33m\\\u001b[0m             |\u001b[38;5;33m.\u001b[0m        \u001b[38;5;33m.\u001b[0m         \u001b[38;5;8m|\u001b[0m \u001b[38;5;8m\u001b[0m  \n",
       "\u0000           \u001b[38;5;8m\u001b[0m \u001b[38;5;8m|\u001b[0m      \u001b[38;5;33m|\u001b[0m\u001b[38;5;33m.\u001b[0m            \u001b[38;5;33m|\u001b[0m\u001b[38;5;33m`\u001b[0m        \u001b[38;5;33m,\u001b[0m         \u001b[38;5;8m|\u001b[0m \u001b[38;5;8m\u001b[0m  \n",
       "\u0000           \u001b[38;5;8m\u001b[0m \u001b[38;5;8m|\u001b[0m       \u001b[38;5;33m.\u001b[0m            \u001b[38;5;33m/\u001b[0m          \u001b[38;5;33m.\u001b[0m        \u001b[38;5;8m|\u001b[0m \u001b[38;5;8m\u001b[0m  \n",
       "\u0000           \u001b[38;5;8m\u001b[0m \u001b[38;5;8m|\u001b[0m-------\u001b[38;5;33m-\u001b[0m\u001b[38;5;33mr\u001b[0m----------\u001b[38;5;33m-\u001b[0m\u001b[38;5;33mr\u001b[0m----------\u001b[38;5;33m-\u001b[0m\u001b[38;5;33mr\u001b[0m-------\u001b[38;5;8m|\u001b[0m \u001b[38;5;8m\u001b[0m  \n",
       "\u0000           \u001b[38;5;8m\u001b[0m \u001b[38;5;8m|\u001b[0m        \u001b[38;5;33m,\u001b[0m          \u001b[38;5;33m.\u001b[0m|           \u001b[38;5;33m\\\u001b[0m       \u001b[38;5;8m|\u001b[0m \u001b[38;5;8m\u001b[0m  \n",
       "\u0000           \u001b[38;5;8m\u001b[0m \u001b[38;5;8m|\u001b[0m         \u001b[38;5;33m.\u001b[0m        \u001b[38;5;33m,\u001b[0m\u001b[38;5;33m`\u001b[0m|           \u001b[38;5;33m\"\u001b[0m\u001b[38;5;33m,\u001b[0m      \u001b[38;5;8m|\u001b[0m \u001b[38;5;8m\u001b[0m  \n",
       "\u0000           \u001b[38;5;8m\u001b[0m \u001b[38;5;8m|\u001b[0m         \u001b[38;5;33m\\\u001b[0m\u001b[38;5;33m.\u001b[0m       \u001b[38;5;33m.\u001b[0m |            \u001b[38;5;33m.\u001b[0m      \u001b[38;5;8m|\u001b[0m \u001b[38;5;8m\u001b[0m  \n",
       "\u0000           \u001b[38;5;8m\u001b[0m \u001b[38;5;8m|\u001b[0m          \u001b[38;5;33m\\\u001b[0m      \u001b[38;5;33m.\u001b[0m  |             \u001b[38;5;33m.\u001b[0m     \u001b[38;5;8m|\u001b[0m \u001b[38;5;8m\u001b[0m  \n",
       "\u0000           \u001b[38;5;8m\u001b[0m \u001b[38;5;8m|\u001b[0m          \u001b[38;5;33m\"\u001b[0m\u001b[38;5;33m.\u001b[0m    \u001b[38;5;33m,\u001b[0m\u001b[38;5;33m`\u001b[0m  |             \u001b[38;5;33m\\\u001b[0m\u001b[38;5;33m.\u001b[0m    \u001b[38;5;8m|\u001b[0m \u001b[38;5;8m\u001b[0m  \n",
       "\u0000           \u001b[38;5;8m\u001b[0m \u001b[38;5;8m|\u001b[0m           \u001b[38;5;33m\"\u001b[0m\u001b[38;5;33m.\u001b[0m  \u001b[38;5;33m.\u001b[0m\u001b[38;5;33m/\u001b[0m   |              \u001b[38;5;33m,\u001b[0m\u001b[38;5;33m.\u001b[0m   \u001b[38;5;8m|\u001b[0m \u001b[38;5;8m\u001b[0m  \n",
       "\u0000   \u001b[38;5;8m-1.05955\u001b[0m \u001b[38;5;8m|\u001b[0m            \u001b[38;5;33m\"\u001b[0m\u001b[38;5;33m-\u001b[0m\u001b[38;5;33m-\u001b[0m\u001b[38;5;33m'\u001b[0m    |               \u001b[38;5;33m\\\u001b[0m\u001b[38;5;33m-\u001b[0m\u001b[38;5;33m*\u001b[0m \u001b[38;5;8m|\u001b[0m \u001b[38;5;8m\u001b[0m  \n",
       "\u0000            \u001b[38;5;8m+----------------------------------------+\u001b[0m   \n",
       "\u0000             \u001b[38;5;8m-5.3\u001b[0m               \u001b[38;5;8m\u001b[0m                  \u001b[38;5;8m5.3\u001b[0m    \n",
       "\u0000            \u001b[38;5;8m+----------------------------------------+\u001b[0m   \n",
       "\u0000    \u001b[38;5;8m1.05995\u001b[0m \u001b[38;5;8m|\u001b[0m                  \u001b[38;5;33m.\u001b[0m\u001b[38;5;33m-\u001b[0m\u001b[38;5;33mr\u001b[0m\u001b[38;5;33m.\u001b[0m                  \u001b[38;5;8m|\u001b[0m \u001b[38;5;33my1\u001b[0m\n",
       "\u0000           \u001b[38;5;8m\u001b[0m \u001b[38;5;8m|\u001b[0m                 \u001b[38;5;33m.\u001b[0m\u001b[38;5;33m/\u001b[0m |\u001b[38;5;33m\"\u001b[0m\u001b[38;5;33m.\u001b[0m                 \u001b[38;5;8m|\u001b[0m \u001b[38;5;8m\u001b[0m  \n",
       "\u0000           \u001b[38;5;8m\u001b[0m \u001b[38;5;8m|\u001b[0m                \u001b[38;5;33m,\u001b[0m\u001b[38;5;33m`\u001b[0m  | \u001b[38;5;33m\"\u001b[0m\u001b[38;5;33m,\u001b[0m                \u001b[38;5;8m|\u001b[0m \u001b[38;5;8m\u001b[0m  \n",
       "\u0000           \u001b[38;5;8m\u001b[0m \u001b[38;5;8m|\u001b[0m                \u001b[38;5;33m/\u001b[0m   |  \u001b[38;5;33m,\u001b[0m                \u001b[38;5;8m|\u001b[0m \u001b[38;5;8m\u001b[0m  \n",
       "\u0000           \u001b[38;5;8m\u001b[0m \u001b[38;5;8m|\u001b[0m               \u001b[38;5;33m.\u001b[0m    |  \u001b[38;5;33m\"\u001b[0m\u001b[38;5;33m.\u001b[0m               \u001b[38;5;8m|\u001b[0m \u001b[38;5;8m\u001b[0m  \n",
       "\u0000           \u001b[38;5;8m\u001b[0m \u001b[38;5;8m|\u001b[0m \u001b[38;5;33m,\u001b[0m            \u001b[38;5;33m.\u001b[0m\u001b[38;5;33m`\u001b[0m    |   \u001b[38;5;33m|\u001b[0m\u001b[38;5;33m.\u001b[0m            \u001b[38;5;33m.\u001b[0m \u001b[38;5;8m|\u001b[0m \u001b[38;5;8m\u001b[0m  \n",
       "\u0000           \u001b[38;5;8m\u001b[0m \u001b[38;5;8m|\u001b[0m \u001b[38;5;33m,\u001b[0m            \u001b[38;5;33m.\u001b[0m     |    \u001b[38;5;33m\\\u001b[0m            \u001b[38;5;33m,\u001b[0m \u001b[38;5;8m|\u001b[0m \u001b[38;5;8m\u001b[0m  \n",
       "\u0000           \u001b[38;5;8m\u001b[0m \u001b[38;5;8m|\u001b[0m--\u001b[38;5;33mv\u001b[0m----------\u001b[38;5;33m-\u001b[0m\u001b[38;5;33m-\u001b[0m-----r----\u001b[38;5;33m-\u001b[0m\u001b[38;5;33mr\u001b[0m----------\u001b[38;5;33mv\u001b[0m--\u001b[38;5;8m|\u001b[0m \u001b[38;5;8m\u001b[0m  \n",
       "\u0000           \u001b[38;5;8m\u001b[0m \u001b[38;5;8m|\u001b[0m  \u001b[38;5;33m\\\u001b[0m\u001b[38;5;33m.\u001b[0m         \u001b[38;5;33m/\u001b[0m      |     \u001b[38;5;33m\\\u001b[0m          \u001b[38;5;33m,\u001b[0m  \u001b[38;5;8m|\u001b[0m \u001b[38;5;8m\u001b[0m  \n",
       "\u0000           \u001b[38;5;8m\u001b[0m \u001b[38;5;8m|\u001b[0m   \u001b[38;5;33m\\\u001b[0m        \u001b[38;5;33m.\u001b[0m\u001b[38;5;33m`\u001b[0m      |     \u001b[38;5;33m|\u001b[0m\u001b[38;5;33m.\u001b[0m        \u001b[38;5;33m.\u001b[0m   \u001b[38;5;8m|\u001b[0m \u001b[38;5;8m\u001b[0m  \n",
       "\u0000           \u001b[38;5;8m\u001b[0m \u001b[38;5;8m|\u001b[0m   \u001b[38;5;33m,\u001b[0m\u001b[38;5;33m.\u001b[0m       \u001b[38;5;33m.\u001b[0m       |      \u001b[38;5;33m.\u001b[0m       \u001b[38;5;33m.\u001b[0m\u001b[38;5;33m`\u001b[0m   \u001b[38;5;8m|\u001b[0m \u001b[38;5;8m\u001b[0m  \n",
       "\u0000           \u001b[38;5;8m\u001b[0m \u001b[38;5;8m|\u001b[0m    \u001b[38;5;33m.\u001b[0m      \u001b[38;5;33m,\u001b[0m\u001b[38;5;33m`\u001b[0m       |      \u001b[38;5;33m\"\u001b[0m\u001b[38;5;33m,\u001b[0m      \u001b[38;5;33m/\u001b[0m    \u001b[38;5;8m|\u001b[0m \u001b[38;5;8m\u001b[0m  \n",
       "\u0000           \u001b[38;5;8m\u001b[0m \u001b[38;5;8m|\u001b[0m    \u001b[38;5;33m\"\u001b[0m\u001b[38;5;33m.\u001b[0m    \u001b[38;5;33m.\u001b[0m\u001b[38;5;33m/\u001b[0m        |       \u001b[38;5;33m\\\u001b[0m\u001b[38;5;33m.\u001b[0m    \u001b[38;5;33m.\u001b[0m\u001b[38;5;33m`\u001b[0m    \u001b[38;5;8m|\u001b[0m \u001b[38;5;8m\u001b[0m  \n",
       "\u0000           \u001b[38;5;8m\u001b[0m \u001b[38;5;8m|\u001b[0m     \u001b[38;5;33m\\\u001b[0m\u001b[38;5;33m.\u001b[0m  \u001b[38;5;33m.\u001b[0m\u001b[38;5;33m/\u001b[0m         |        \u001b[38;5;33m\\\u001b[0m\u001b[38;5;33m.\u001b[0m  \u001b[38;5;33m.\u001b[0m\u001b[38;5;33m'\u001b[0m     \u001b[38;5;8m|\u001b[0m \u001b[38;5;8m\u001b[0m  \n",
       "\u0000   \u001b[38;5;8m-1.05824\u001b[0m \u001b[38;5;8m|\u001b[0m      \u001b[38;5;33m\"\u001b[0m\u001b[38;5;33m-\u001b[0m\u001b[38;5;33m-\u001b[0m\u001b[38;5;33m/\u001b[0m          |         \u001b[38;5;33m'\u001b[0m\u001b[38;5;33m-\u001b[0m\u001b[38;5;33m-\u001b[0m\u001b[38;5;33m`\u001b[0m      \u001b[38;5;8m|\u001b[0m \u001b[38;5;8m\u001b[0m  \n",
       "\u0000            \u001b[38;5;8m+----------------------------------------+\u001b[0m   \n",
       "\u0000             \u001b[38;5;8m-5.3\u001b[0m               \u001b[38;5;8m\u001b[0m                  \u001b[38;5;8m5.3\u001b[0m    "
      ]
     },
     "execution_count": 12,
     "metadata": {},
     "output_type": "execute_result"
    }
   ],
   "source": [
    "# adjust layout\n",
    "p1 = plot(x, x)\n",
    "p2 = plot(y, x)\n",
    "p3 = plot(sin, x)\n",
    "p4 = plot(cos, x)\n",
    "plot(p1, p2, p3, p4, layout=(4,1))"
   ]
  },
  {
   "cell_type": "code",
   "execution_count": 13,
   "id": "d80e93a0-df72-4ed3-aff1-efb5270f939c",
   "metadata": {},
   "outputs": [
    {
     "data": {
      "text/plain": [
       "            \u001b[38;5;8m+----------------------------------------+\u001b[0m   \n",
       "    \u001b[38;5;8m1.05999\u001b[0m \u001b[38;5;8m|\u001b[0m \u001b[38;5;33mr\u001b[0m\u001b[38;5;33m-\u001b[0m\u001b[38;5;33m.\u001b[0m              \u001b[38;5;167m.\u001b[0m\u001b[38;5;167m-\u001b[0m\u001b[38;5;167mr\u001b[0m\u001b[38;5;167m.\u001b[0m  \u001b[38;5;33m.\u001b[0m\u001b[38;5;33m-\u001b[0m\u001b[38;5;33m-\u001b[0m\u001b[38;5;33m.\u001b[0m            \u001b[38;5;8m|\u001b[0m \u001b[38;5;33my1\u001b[0m\n",
       "           \u001b[38;5;8m\u001b[0m \u001b[38;5;8m|\u001b[0m   \u001b[38;5;33m\"\u001b[0m\u001b[38;5;33m.\u001b[0m            \u001b[38;5;167m.\u001b[0m\u001b[38;5;167m/\u001b[0m |\u001b[38;5;167m\"\u001b[0m\u001b[38;5;167m.\u001b[0m\u001b[38;5;33m.\u001b[0m\u001b[38;5;33m`\u001b[0m  \u001b[38;5;33m\\\u001b[0m\u001b[38;5;33m.\u001b[0m           \u001b[38;5;8m|\u001b[0m \u001b[38;5;167my2\u001b[0m\n",
       "           \u001b[38;5;8m\u001b[0m \u001b[38;5;8m|\u001b[0m    \u001b[38;5;33m\"\u001b[0m\u001b[38;5;33m.\u001b[0m          \u001b[38;5;167m,\u001b[0m\u001b[38;5;167m`\u001b[0m  | \u001b[38;5;167m|\u001b[0m\u001b[38;5;167m|\u001b[0m    \u001b[38;5;33m\\\u001b[0m\u001b[38;5;33m.\u001b[0m          \u001b[38;5;8m|\u001b[0m \u001b[38;5;8m\u001b[0m  \n",
       "           \u001b[38;5;8m\u001b[0m \u001b[38;5;8m|\u001b[0m     \u001b[38;5;33m\\\u001b[0m\u001b[38;5;33m.\u001b[0m         \u001b[38;5;167m/\u001b[0m   | \u001b[38;5;33m,\u001b[0m\u001b[38;5;167m,\u001b[0m     \u001b[38;5;33m\\\u001b[0m          \u001b[38;5;8m|\u001b[0m \u001b[38;5;8m\u001b[0m  \n",
       "           \u001b[38;5;8m\u001b[0m \u001b[38;5;8m|\u001b[0m      \u001b[38;5;33m\\\u001b[0m        \u001b[38;5;167m.\u001b[0m    |\u001b[38;5;33m.\u001b[0m \u001b[38;5;167m\"\u001b[0m\u001b[38;5;167m.\u001b[0m     \u001b[38;5;33m.\u001b[0m         \u001b[38;5;8m|\u001b[0m \u001b[38;5;8m\u001b[0m  \n",
       "           \u001b[38;5;8m\u001b[0m \u001b[38;5;8m|\u001b[0m \u001b[38;5;167m,\u001b[0m    \u001b[38;5;33m|\u001b[0m\u001b[38;5;33m.\u001b[0m      \u001b[38;5;167m.\u001b[0m\u001b[38;5;167m`\u001b[0m    \u001b[38;5;33m|\u001b[0m\u001b[38;5;33m`\u001b[0m  \u001b[38;5;167m|\u001b[0m\u001b[38;5;167m.\u001b[0m    \u001b[38;5;33m,\u001b[0m       \u001b[38;5;167m.\u001b[0m \u001b[38;5;8m|\u001b[0m \u001b[38;5;8m\u001b[0m  \n",
       "           \u001b[38;5;8m\u001b[0m \u001b[38;5;8m|\u001b[0m \u001b[38;5;167m,\u001b[0m     \u001b[38;5;33m.\u001b[0m      \u001b[38;5;167m.\u001b[0m     \u001b[38;5;33m/\u001b[0m    \u001b[38;5;167m\\\u001b[0m     \u001b[38;5;33m.\u001b[0m      \u001b[38;5;167m,\u001b[0m \u001b[38;5;8m|\u001b[0m \u001b[38;5;8m\u001b[0m  \n",
       "           \u001b[38;5;8m\u001b[0m \u001b[38;5;8m|\u001b[0m--\u001b[38;5;167mv\u001b[0m----\u001b[38;5;33m-\u001b[0m\u001b[38;5;33mr\u001b[0m----\u001b[38;5;167m-\u001b[0m\u001b[38;5;167m-\u001b[0m----\u001b[38;5;33m-\u001b[0m\u001b[38;5;33mr\u001b[0m----\u001b[38;5;167m-\u001b[0m\u001b[38;5;167mr\u001b[0m----\u001b[38;5;33m-\u001b[0m\u001b[38;5;33mr\u001b[0m----\u001b[38;5;167mv\u001b[0m--\u001b[38;5;8m|\u001b[0m \u001b[38;5;8m\u001b[0m  \n",
       "           \u001b[38;5;8m\u001b[0m \u001b[38;5;8m|\u001b[0m  \u001b[38;5;167m\\\u001b[0m\u001b[38;5;167m.\u001b[0m    \u001b[38;5;33m,\u001b[0m    \u001b[38;5;167m/\u001b[0m     \u001b[38;5;33m.\u001b[0m|     \u001b[38;5;167m\\\u001b[0m     \u001b[38;5;33m\\\u001b[0m    \u001b[38;5;167m,\u001b[0m  \u001b[38;5;8m|\u001b[0m \u001b[38;5;8m\u001b[0m  \n",
       "           \u001b[38;5;8m\u001b[0m \u001b[38;5;8m|\u001b[0m   \u001b[38;5;167m\\\u001b[0m     \u001b[38;5;33m.\u001b[0m  \u001b[38;5;167m.\u001b[0m\u001b[38;5;167m`\u001b[0m    \u001b[38;5;33m,\u001b[0m\u001b[38;5;33m`\u001b[0m|     \u001b[38;5;167m|\u001b[0m\u001b[38;5;167m.\u001b[0m    \u001b[38;5;33m\"\u001b[0m\u001b[38;5;33m,\u001b[0m  \u001b[38;5;167m.\u001b[0m   \u001b[38;5;8m|\u001b[0m \u001b[38;5;8m\u001b[0m  \n",
       "           \u001b[38;5;8m\u001b[0m \u001b[38;5;8m|\u001b[0m   \u001b[38;5;167m,\u001b[0m\u001b[38;5;167m.\u001b[0m    \u001b[38;5;33m\\\u001b[0m\u001b[38;5;33m.\u001b[0m \u001b[38;5;167m,\u001b[0m     \u001b[38;5;33m.\u001b[0m |      \u001b[38;5;167m.\u001b[0m     \u001b[38;5;33m.\u001b[0m \u001b[38;5;167m.\u001b[0m\u001b[38;5;167m`\u001b[0m   \u001b[38;5;8m|\u001b[0m \u001b[38;5;8m\u001b[0m  \n",
       "           \u001b[38;5;8m\u001b[0m \u001b[38;5;8m|\u001b[0m    \u001b[38;5;167m.\u001b[0m     \u001b[38;5;33m\\\u001b[0m\u001b[38;5;167m.\u001b[0m     \u001b[38;5;33m.\u001b[0m  |      \u001b[38;5;167m\"\u001b[0m\u001b[38;5;167m.\u001b[0m     \u001b[38;5;33m.\u001b[0m\u001b[38;5;167m/\u001b[0m    \u001b[38;5;8m|\u001b[0m \u001b[38;5;8m\u001b[0m  \n",
       "           \u001b[38;5;8m\u001b[0m \u001b[38;5;8m|\u001b[0m    \u001b[38;5;167m\"\u001b[0m\u001b[38;5;167m.\u001b[0m    \u001b[38;5;167m.\u001b[0m\u001b[38;5;167m(\u001b[0m    \u001b[38;5;33m,\u001b[0m\u001b[38;5;33m`\u001b[0m  |       \u001b[38;5;167m\"\u001b[0m\u001b[38;5;167m,\u001b[0m    \u001b[38;5;167m)\u001b[0m\u001b[38;5;167m.\u001b[0m    \u001b[38;5;8m|\u001b[0m \u001b[38;5;8m\u001b[0m  \n",
       "           \u001b[38;5;8m\u001b[0m \u001b[38;5;8m|\u001b[0m     \u001b[38;5;167m\\\u001b[0m\u001b[38;5;167m.\u001b[0m  \u001b[38;5;167m.\u001b[0m\u001b[38;5;167m/\u001b[0m\u001b[38;5;33m\"\u001b[0m\u001b[38;5;33m.\u001b[0m  \u001b[38;5;33m.\u001b[0m\u001b[38;5;33m/\u001b[0m   |        \u001b[38;5;167m\\\u001b[0m\u001b[38;5;167m.\u001b[0m  \u001b[38;5;167m.\u001b[0m\u001b[38;5;167m'\u001b[0m\u001b[38;5;33m,\u001b[0m\u001b[38;5;33m.\u001b[0m   \u001b[38;5;8m|\u001b[0m \u001b[38;5;8m\u001b[0m  \n",
       "   \u001b[38;5;8m-1.05956\u001b[0m \u001b[38;5;8m|\u001b[0m      \u001b[38;5;167m\"\u001b[0m\u001b[38;5;167m-\u001b[0m\u001b[38;5;167m-\u001b[0m\u001b[38;5;167m/\u001b[0m  \u001b[38;5;33m\"\u001b[0m\u001b[38;5;33m-\u001b[0m\u001b[38;5;33m-\u001b[0m\u001b[38;5;33m'\u001b[0m    |         \u001b[38;5;167m'\u001b[0m\u001b[38;5;167m-\u001b[0m\u001b[38;5;167m-\u001b[0m\u001b[38;5;167m`\u001b[0m  \u001b[38;5;33m\\\u001b[0m\u001b[38;5;33m-\u001b[0m\u001b[38;5;33m*\u001b[0m \u001b[38;5;8m|\u001b[0m \u001b[38;5;8m\u001b[0m  \n",
       "            \u001b[38;5;8m+----------------------------------------+\u001b[0m   \n",
       "             \u001b[38;5;8m-5.3\u001b[0m               \u001b[38;5;8m\u001b[0m                  \u001b[38;5;8m5.3\u001b[0m    "
      ]
     },
     "execution_count": 13,
     "metadata": {},
     "output_type": "execute_result"
    }
   ],
   "source": [
    "# plot 2 lines on same graph\n",
    "plot(sin, x)\n",
    "plot!(cos, x) # make sure you should put ! mark"
   ]
  },
  {
   "cell_type": "code",
   "execution_count": 14,
   "id": "3a802b66-ff08-4ccc-afc9-98717d374e32",
   "metadata": {},
   "outputs": [
    {
     "data": {
      "text/plain": [
       "      \u001b[38;5;8m+----------------------------------------+\u001b[0m   \n",
       "   \u001b[38;5;8m53\u001b[0m \u001b[38;5;8m|\u001b[0m  \u001b[38;5;0m|\u001b[0m\u001b[38;5;0m\"\u001b[0m\u001b[38;5;0m\"\u001b[0m\u001b[38;5;0m\"\u001b[0m\u001b[38;5;0m\"\u001b[0m\u001b[38;5;0m\"\u001b[0m\u001b[38;5;0m\"\u001b[0m\u001b[38;5;0m\"\u001b[0m\u001b[38;5;0m\"\u001b[0m\u001b[38;5;33m⚬\u001b[0m\u001b[38;5;0m\"\u001b[0m\u001b[38;5;0m\"\u001b[0m\u001b[38;5;0m\"\u001b[0m\u001b[38;5;0m\"\u001b[0m\u001b[38;5;0m\"\u001b[0m\u001b[38;5;0m\"\u001b[0m\u001b[38;5;0m\"\u001b[0m\u001b[38;5;0m\"\u001b[0m\u001b[38;5;0m|\u001b[0m                   \u001b[38;5;8m|\u001b[0m \u001b[38;5;0my1\u001b[0m\n",
       "     \u001b[38;5;8m\u001b[0m \u001b[38;5;8m|\u001b[0m  \u001b[38;5;0m|\u001b[0m                 \u001b[38;5;0mL\u001b[0m\u001b[38;5;0m_\u001b[0m\u001b[38;5;0m_\u001b[0m\u001b[38;5;0m_\u001b[0m\u001b[38;5;0m_\u001b[0m\u001b[38;5;0m_\u001b[0m\u001b[38;5;0m_\u001b[0m\u001b[38;5;0m_\u001b[0m\u001b[38;5;33m⚬\u001b[0m\u001b[38;5;0m_\u001b[0m\u001b[38;5;0m_\u001b[0m\u001b[38;5;0m_\u001b[0m\u001b[38;5;0m_\u001b[0m\u001b[38;5;0m_\u001b[0m\u001b[38;5;0m_\u001b[0m\u001b[38;5;0m_\u001b[0m\u001b[38;5;0m_\u001b[0m\u001b[38;5;0m_\u001b[0m  \u001b[38;5;8m|\u001b[0m \u001b[38;5;33my1\u001b[0m\n",
       "     \u001b[38;5;8m\u001b[0m \u001b[38;5;8m|\u001b[0m  \u001b[38;5;0m|\u001b[0m                 \u001b[38;5;0m|\u001b[0m                \u001b[38;5;0m|\u001b[0m  \u001b[38;5;8m|\u001b[0m \u001b[38;5;8m\u001b[0m  \n",
       "     \u001b[38;5;8m\u001b[0m \u001b[38;5;8m|\u001b[0m  \u001b[38;5;0m|\u001b[0m                 \u001b[38;5;0m|\u001b[0m                \u001b[38;5;0m|\u001b[0m  \u001b[38;5;8m|\u001b[0m \u001b[38;5;8m\u001b[0m  \n",
       "     \u001b[38;5;8m\u001b[0m \u001b[38;5;8m|\u001b[0m  \u001b[38;5;0m|\u001b[0m                 \u001b[38;5;0m|\u001b[0m                \u001b[38;5;0m|\u001b[0m  \u001b[38;5;8m|\u001b[0m \u001b[38;5;8m\u001b[0m  \n",
       "     \u001b[38;5;8m\u001b[0m \u001b[38;5;8m|\u001b[0m  \u001b[38;5;0m|\u001b[0m                 \u001b[38;5;0m|\u001b[0m                \u001b[38;5;0m|\u001b[0m  \u001b[38;5;8m|\u001b[0m \u001b[38;5;8m\u001b[0m  \n",
       "     \u001b[38;5;8m\u001b[0m \u001b[38;5;8m|\u001b[0m  \u001b[38;5;0m|\u001b[0m                 \u001b[38;5;0m|\u001b[0m                \u001b[38;5;0m|\u001b[0m  \u001b[38;5;8m|\u001b[0m \u001b[38;5;8m\u001b[0m  \n",
       "     \u001b[38;5;8m\u001b[0m \u001b[38;5;8m|\u001b[0m  \u001b[38;5;0m|\u001b[0m                 \u001b[38;5;0m|\u001b[0m                \u001b[38;5;0m|\u001b[0m  \u001b[38;5;8m|\u001b[0m \u001b[38;5;8m\u001b[0m  \n",
       "     \u001b[38;5;8m\u001b[0m \u001b[38;5;8m|\u001b[0m  \u001b[38;5;0m|\u001b[0m                 \u001b[38;5;0m|\u001b[0m                \u001b[38;5;0m|\u001b[0m  \u001b[38;5;8m|\u001b[0m \u001b[38;5;8m\u001b[0m  \n",
       "     \u001b[38;5;8m\u001b[0m \u001b[38;5;8m|\u001b[0m  \u001b[38;5;0m|\u001b[0m                 \u001b[38;5;0m|\u001b[0m                \u001b[38;5;0m|\u001b[0m  \u001b[38;5;8m|\u001b[0m \u001b[38;5;8m\u001b[0m  \n",
       "     \u001b[38;5;8m\u001b[0m \u001b[38;5;8m|\u001b[0m  \u001b[38;5;0m|\u001b[0m                 \u001b[38;5;0m|\u001b[0m                \u001b[38;5;0m|\u001b[0m  \u001b[38;5;8m|\u001b[0m \u001b[38;5;8m\u001b[0m  \n",
       "     \u001b[38;5;8m\u001b[0m \u001b[38;5;8m|\u001b[0m  \u001b[38;5;0m|\u001b[0m                 \u001b[38;5;0m|\u001b[0m                \u001b[38;5;0m|\u001b[0m  \u001b[38;5;8m|\u001b[0m \u001b[38;5;8m\u001b[0m  \n",
       "     \u001b[38;5;8m\u001b[0m \u001b[38;5;8m|\u001b[0m  \u001b[38;5;0m|\u001b[0m                 \u001b[38;5;0m|\u001b[0m                \u001b[38;5;0m|\u001b[0m  \u001b[38;5;8m|\u001b[0m \u001b[38;5;8m\u001b[0m  \n",
       "     \u001b[38;5;8m\u001b[0m \u001b[38;5;8m|\u001b[0m  \u001b[38;5;0m|\u001b[0m                 \u001b[38;5;0m|\u001b[0m                \u001b[38;5;0m|\u001b[0m  \u001b[38;5;8m|\u001b[0m \u001b[38;5;8m\u001b[0m  \n",
       "    \u001b[38;5;8m0\u001b[0m \u001b[38;5;8m|\u001b[0m  \u001b[38;5;0mL\u001b[0m\u001b[38;5;0m_\u001b[0m\u001b[38;5;0m_\u001b[0m\u001b[38;5;0m_\u001b[0m\u001b[38;5;0m_\u001b[0m\u001b[38;5;0m_\u001b[0m\u001b[38;5;0m_\u001b[0m\u001b[38;5;0m_\u001b[0m\u001b[38;5;0m_\u001b[0m\u001b[38;5;0m_\u001b[0m\u001b[38;5;0m_\u001b[0m\u001b[38;5;0m_\u001b[0m\u001b[38;5;0m_\u001b[0m\u001b[38;5;0m_\u001b[0m\u001b[38;5;0m_\u001b[0m\u001b[38;5;0m_\u001b[0m\u001b[38;5;0m_\u001b[0m\u001b[38;5;0m_\u001b[0m\u001b[38;5;0mL\u001b[0m\u001b[38;5;0m_\u001b[0m\u001b[38;5;0m_\u001b[0m\u001b[38;5;0m_\u001b[0m\u001b[38;5;0m_\u001b[0m\u001b[38;5;0m_\u001b[0m\u001b[38;5;0m_\u001b[0m\u001b[38;5;0m_\u001b[0m\u001b[38;5;0m_\u001b[0m\u001b[38;5;0m_\u001b[0m\u001b[38;5;0m_\u001b[0m\u001b[38;5;0m_\u001b[0m\u001b[38;5;0m_\u001b[0m\u001b[38;5;0m_\u001b[0m\u001b[38;5;0m_\u001b[0m\u001b[38;5;0m_\u001b[0m\u001b[38;5;0m_\u001b[0m\u001b[38;5;0m_\u001b[0m  \u001b[38;5;8m|\u001b[0m \u001b[38;5;8m\u001b[0m  \n",
       "      \u001b[38;5;8m+----------------------------------------+\u001b[0m   \n",
       "       \u001b[38;5;8m-0.0618\u001b[0m            \u001b[38;5;8m\u001b[0m               \u001b[38;5;8m1.0618\u001b[0m    "
      ]
     },
     "execution_count": 14,
     "metadata": {},
     "output_type": "execute_result"
    }
   ],
   "source": [
    "histogram(rand(100))"
   ]
  },
  {
   "cell_type": "code",
   "execution_count": 15,
   "id": "c6b40d6e-1e4d-4934-bb63-04f8a167868e",
   "metadata": {},
   "outputs": [
    {
     "data": {
      "text/plain": [
       "       \u001b[38;5;8m+----------------------------------------+\u001b[0m   \n",
       "   \u001b[38;5;8m197\u001b[0m \u001b[38;5;8m|\u001b[0m                       \u001b[38;5;0m/\u001b[0m\u001b[38;5;33m⚬\u001b[0m\u001b[38;5;0m|\u001b[0m              \u001b[38;5;8m|\u001b[0m \u001b[38;5;0my1\u001b[0m\n",
       "      \u001b[38;5;8m\u001b[0m \u001b[38;5;8m|\u001b[0m                     \u001b[38;5;0m_\u001b[0m\u001b[38;5;33m⚬\u001b[0m\u001b[38;5;0m|\u001b[0m \u001b[38;5;0m|\u001b[0m              \u001b[38;5;8m|\u001b[0m \u001b[38;5;33my1\u001b[0m\n",
       "      \u001b[38;5;8m\u001b[0m \u001b[38;5;8m|\u001b[0m                     \u001b[38;5;0m|\u001b[0m \u001b[38;5;0m|\u001b[0m \u001b[38;5;0m|\u001b[0m\u001b[38;5;0m\"\u001b[0m\u001b[38;5;33m⚬\u001b[0m\u001b[38;5;0m|\u001b[0m           \u001b[38;5;8m|\u001b[0m \u001b[38;5;8m\u001b[0m  \n",
       "      \u001b[38;5;8m\u001b[0m \u001b[38;5;8m|\u001b[0m                     \u001b[38;5;0m|\u001b[0m \u001b[38;5;0m|\u001b[0m \u001b[38;5;0m|\u001b[0m  \u001b[38;5;0m|\u001b[0m           \u001b[38;5;8m|\u001b[0m \u001b[38;5;8m\u001b[0m  \n",
       "      \u001b[38;5;8m\u001b[0m \u001b[38;5;8m|\u001b[0m                  \u001b[38;5;0m,\u001b[0m\u001b[38;5;0m-\u001b[0m\u001b[38;5;33m⚬\u001b[0m\u001b[38;5;0m|\u001b[0m \u001b[38;5;0m|\u001b[0m \u001b[38;5;0m|\u001b[0m  \u001b[38;5;0m|\u001b[0m           \u001b[38;5;8m|\u001b[0m \u001b[38;5;8m\u001b[0m  \n",
       "      \u001b[38;5;8m\u001b[0m \u001b[38;5;8m|\u001b[0m                  \u001b[38;5;0m|\u001b[0m  \u001b[38;5;0m|\u001b[0m \u001b[38;5;0m|\u001b[0m \u001b[38;5;0m|\u001b[0m  \u001b[38;5;0m|\u001b[0m           \u001b[38;5;8m|\u001b[0m \u001b[38;5;8m\u001b[0m  \n",
       "      \u001b[38;5;8m\u001b[0m \u001b[38;5;8m|\u001b[0m                  \u001b[38;5;0m|\u001b[0m  \u001b[38;5;0m|\u001b[0m \u001b[38;5;0m|\u001b[0m \u001b[38;5;0m|\u001b[0m  \u001b[38;5;0mL\u001b[0m\u001b[38;5;33m⚬\u001b[0m\u001b[38;5;0m_\u001b[0m         \u001b[38;5;8m|\u001b[0m \u001b[38;5;8m\u001b[0m  \n",
       "      \u001b[38;5;8m\u001b[0m \u001b[38;5;8m|\u001b[0m                  \u001b[38;5;0m|\u001b[0m  \u001b[38;5;0m|\u001b[0m \u001b[38;5;0m|\u001b[0m \u001b[38;5;0m|\u001b[0m  \u001b[38;5;0m|\u001b[0m \u001b[38;5;0m|\u001b[0m         \u001b[38;5;8m|\u001b[0m \u001b[38;5;8m\u001b[0m  \n",
       "      \u001b[38;5;8m\u001b[0m \u001b[38;5;8m|\u001b[0m                \u001b[38;5;0m.\u001b[0m\u001b[38;5;33m⚬\u001b[0m\u001b[38;5;0m_\u001b[0m  \u001b[38;5;0m|\u001b[0m \u001b[38;5;0m|\u001b[0m \u001b[38;5;0m|\u001b[0m  \u001b[38;5;0m|\u001b[0m \u001b[38;5;0m|\u001b[0m         \u001b[38;5;8m|\u001b[0m \u001b[38;5;8m\u001b[0m  \n",
       "      \u001b[38;5;8m\u001b[0m \u001b[38;5;8m|\u001b[0m                \u001b[38;5;0m|\u001b[0m \u001b[38;5;0m|\u001b[0m  \u001b[38;5;0m|\u001b[0m \u001b[38;5;0m|\u001b[0m \u001b[38;5;0m|\u001b[0m  \u001b[38;5;0m|\u001b[0m \u001b[38;5;0m|\u001b[0m         \u001b[38;5;8m|\u001b[0m \u001b[38;5;8m\u001b[0m  \n",
       "      \u001b[38;5;8m\u001b[0m \u001b[38;5;8m|\u001b[0m                \u001b[38;5;0m|\u001b[0m \u001b[38;5;0m|\u001b[0m  \u001b[38;5;0m|\u001b[0m \u001b[38;5;0m|\u001b[0m \u001b[38;5;0m|\u001b[0m  \u001b[38;5;0m|\u001b[0m \u001b[38;5;0m|\u001b[0m         \u001b[38;5;8m|\u001b[0m \u001b[38;5;8m\u001b[0m  \n",
       "      \u001b[38;5;8m\u001b[0m \u001b[38;5;8m|\u001b[0m                \u001b[38;5;0m|\u001b[0m \u001b[38;5;0m|\u001b[0m  \u001b[38;5;0m|\u001b[0m \u001b[38;5;0m|\u001b[0m \u001b[38;5;0m|\u001b[0m  \u001b[38;5;0m|\u001b[0m \u001b[38;5;0m|\u001b[0m\u001b[38;5;33m⚬\u001b[0m\u001b[38;5;0m-\u001b[0m\u001b[38;5;0m,\u001b[0m      \u001b[38;5;8m|\u001b[0m \u001b[38;5;8m\u001b[0m  \n",
       "      \u001b[38;5;8m\u001b[0m \u001b[38;5;8m|\u001b[0m              \u001b[38;5;0m|\u001b[0m\u001b[38;5;33m⚬\u001b[0m\u001b[38;5;0m\\\u001b[0m \u001b[38;5;0m|\u001b[0m  \u001b[38;5;0m|\u001b[0m \u001b[38;5;0m|\u001b[0m \u001b[38;5;0m|\u001b[0m  \u001b[38;5;0m|\u001b[0m \u001b[38;5;0m|\u001b[0m  \u001b[38;5;0m|\u001b[0m      \u001b[38;5;8m|\u001b[0m \u001b[38;5;8m\u001b[0m  \n",
       "      \u001b[38;5;8m\u001b[0m \u001b[38;5;8m|\u001b[0m           \u001b[38;5;0m.\u001b[0m\u001b[38;5;33m⚬\u001b[0m\u001b[38;5;0m_\u001b[0m\u001b[38;5;0m|\u001b[0m \u001b[38;5;0m|\u001b[0m \u001b[38;5;0m|\u001b[0m  \u001b[38;5;0m|\u001b[0m \u001b[38;5;0m|\u001b[0m \u001b[38;5;0m|\u001b[0m  \u001b[38;5;0m|\u001b[0m \u001b[38;5;0m|\u001b[0m  \u001b[38;5;0mr\u001b[0m\u001b[38;5;33m⚬\u001b[0m\u001b[38;5;0m,\u001b[0m    \u001b[38;5;8m|\u001b[0m \u001b[38;5;8m\u001b[0m  \n",
       "     \u001b[38;5;8m0\u001b[0m \u001b[38;5;8m|\u001b[0m  \u001b[38;5;0m_\u001b[0m\u001b[38;5;33m⚬\u001b[0m\u001b[38;5;0m_\u001b[0m\u001b[38;5;33m⚬\u001b[0m\u001b[38;5;0m_\u001b[0m\u001b[38;5;0m_\u001b[0m\u001b[38;5;33m⚬\u001b[0m\u001b[38;5;0mr\u001b[0m\u001b[38;5;33m⚬\u001b[0m\u001b[38;5;0m@\u001b[0m\u001b[38;5;0m_\u001b[0m\u001b[38;5;0m_\u001b[0m\u001b[38;5;0mL\u001b[0m\u001b[38;5;0m_\u001b[0m\u001b[38;5;0m1\u001b[0m\u001b[38;5;0m_\u001b[0m\u001b[38;5;0m_\u001b[0m\u001b[38;5;0m_\u001b[0m\u001b[38;5;0m_\u001b[0m\u001b[38;5;0mL\u001b[0m\u001b[38;5;0m_\u001b[0m\u001b[38;5;0m1\u001b[0m\u001b[38;5;0m_\u001b[0m\u001b[38;5;0m_\u001b[0m\u001b[38;5;0m_\u001b[0m\u001b[38;5;0m_\u001b[0m\u001b[38;5;0mL\u001b[0m\u001b[38;5;0m_\u001b[0m\u001b[38;5;0m_\u001b[0m\u001b[38;5;0m_\u001b[0m\u001b[38;5;0m_\u001b[0m\u001b[38;5;0mL\u001b[0m\u001b[38;5;0m_\u001b[0m\u001b[38;5;0mI\u001b[0m\u001b[38;5;33m⚬\u001b[0m\u001b[38;5;0m=\u001b[0m  \u001b[38;5;8m|\u001b[0m \u001b[38;5;8m\u001b[0m  \n",
       "       \u001b[38;5;8m+----------------------------------------+\u001b[0m   \n",
       "        \u001b[38;5;8m-4.9635\u001b[0m            \u001b[38;5;8m\u001b[0m               \u001b[38;5;8m3.4635\u001b[0m    "
      ]
     },
     "execution_count": 15,
     "metadata": {},
     "output_type": "execute_result"
    }
   ],
   "source": [
    "# visualize normally distributed data\n",
    "histogram(randn(1000))"
   ]
  },
  {
   "cell_type": "code",
   "execution_count": 16,
   "id": "fe103fc1-640c-4b66-b974-a839c1edeeef",
   "metadata": {},
   "outputs": [
    {
     "data": {
      "text/plain": [
       "     \u001b[38;5;8m+----------------------------------------+\u001b[0m \n",
       "   \u001b[38;5;8m1\u001b[0m \u001b[38;5;8m|\u001b[0m\u001b[38;5;2m▓\u001b[0m\u001b[38;5;2m▓\u001b[0m\u001b[38;5;2m▓\u001b[0m\u001b[38;5;2m▓\u001b[0m\u001b[38;5;2m▓\u001b[0m\u001b[38;5;2m▓\u001b[0m\u001b[38;5;2m▓\u001b[0m\u001b[38;5;2m▓\u001b[0m\u001b[38;5;2m█\u001b[0m\u001b[38;5;2m▓\u001b[0m\u001b[38;5;2m▓\u001b[0m\u001b[38;5;2m▓\u001b[0m\u001b[38;5;2m▓\u001b[0m\u001b[38;5;2m▓\u001b[0m\u001b[38;5;2m▓\u001b[0m\u001b[38;5;2m▓\u001b[0m\u001b[38;5;2m▓\u001b[0m\u001b[38;5;2m▓\u001b[0m\u001b[38;5;2m▓\u001b[0m\u001b[38;5;2m▓\u001b[0m\u001b[38;5;2m▓\u001b[0m\u001b[38;5;2m▓\u001b[0m\u001b[38;5;2m▓\u001b[0m\u001b[38;5;2m▓\u001b[0m\u001b[38;5;2m▓\u001b[0m\u001b[38;5;2m▓\u001b[0m\u001b[38;5;2m▓\u001b[0m\u001b[38;5;2m▓\u001b[0m\u001b[38;5;2m▓\u001b[0m\u001b[38;5;2m▓\u001b[0m\u001b[38;5;2m▓\u001b[0m\u001b[38;5;2m▓\u001b[0m\u001b[38;5;2m▓\u001b[0m\u001b[38;5;2m▓\u001b[0m\u001b[38;5;2m▓\u001b[0m\u001b[38;5;2m▓\u001b[0m\u001b[38;5;2m▓\u001b[0m\u001b[38;5;2m▓\u001b[0m\u001b[38;5;2m▓\u001b[0m\u001b[38;5;2m▓\u001b[0m\u001b[38;5;8m|\u001b[0m \u001b[38;5;8m\u001b[0m\n",
       "    \u001b[38;5;8m\u001b[0m \u001b[38;5;8m|\u001b[0m\u001b[38;5;2m▓\u001b[0m\u001b[38;5;2m▓\u001b[0m\u001b[38;5;2m▓\u001b[0m\u001b[38;5;2m▓\u001b[0m\u001b[38;5;2m▓\u001b[0m\u001b[38;5;2m▓\u001b[0m\u001b[38;5;2m▓\u001b[0m\u001b[38;5;2m▓\u001b[0m\u001b[38;5;2m▓\u001b[0m\u001b[38;5;2m▓\u001b[0m\u001b[38;5;2m▓\u001b[0m\u001b[38;5;2m▓\u001b[0m\u001b[38;5;2m▓\u001b[0m\u001b[38;5;2m▓\u001b[0m\u001b[38;5;2m▓\u001b[0m\u001b[38;5;2m▓\u001b[0m\u001b[38;5;2m▓\u001b[0m\u001b[38;5;2m▓\u001b[0m\u001b[38;5;2m▓\u001b[0m\u001b[38;5;2m▓\u001b[0m\u001b[38;5;2m█\u001b[0m\u001b[38;5;2m▓\u001b[0m\u001b[38;5;2m▓\u001b[0m\u001b[38;5;2m▓\u001b[0m\u001b[38;5;2m▓\u001b[0m\u001b[38;5;2m▓\u001b[0m\u001b[38;5;2m▓\u001b[0m\u001b[38;5;2m▓\u001b[0m\u001b[38;5;2m█\u001b[0m\u001b[38;5;2m▓\u001b[0m\u001b[38;5;2m█\u001b[0m\u001b[38;5;2m▓\u001b[0m\u001b[38;5;2m▓\u001b[0m\u001b[38;5;2m▓\u001b[0m\u001b[38;5;2m▓\u001b[0m\u001b[38;5;2m▓\u001b[0m\u001b[38;5;2m▓\u001b[0m\u001b[38;5;2m▓\u001b[0m\u001b[38;5;2m▓\u001b[0m\u001b[38;5;2m▓\u001b[0m\u001b[38;5;8m|\u001b[0m \u001b[38;5;8m\u001b[0m\n",
       "    \u001b[38;5;8m\u001b[0m \u001b[38;5;8m|\u001b[0m\u001b[38;5;2m▓\u001b[0m\u001b[38;5;2m▓\u001b[0m\u001b[38;5;2m▓\u001b[0m\u001b[38;5;2m▓\u001b[0m\u001b[38;5;2m▓\u001b[0m\u001b[38;5;2m▓\u001b[0m\u001b[38;5;2m▓\u001b[0m\u001b[38;5;2m▓\u001b[0m\u001b[38;5;2m▓\u001b[0m\u001b[38;5;2m▓\u001b[0m\u001b[38;5;2m▓\u001b[0m\u001b[38;5;2m█\u001b[0m\u001b[38;5;2m▓\u001b[0m\u001b[38;5;2m▓\u001b[0m\u001b[38;5;2m▓\u001b[0m\u001b[38;5;2m▓\u001b[0m\u001b[38;5;2m▓\u001b[0m\u001b[38;5;2m▓\u001b[0m\u001b[38;5;2m▓\u001b[0m\u001b[38;5;2m▓\u001b[0m\u001b[38;5;2m▓\u001b[0m\u001b[38;5;2m▓\u001b[0m\u001b[38;5;2m▓\u001b[0m\u001b[38;5;2m▓\u001b[0m\u001b[38;5;2m█\u001b[0m\u001b[38;5;2m▓\u001b[0m\u001b[38;5;2m▓\u001b[0m\u001b[38;5;2m▓\u001b[0m\u001b[38;5;2m▓\u001b[0m\u001b[38;5;2m█\u001b[0m\u001b[38;5;2m▓\u001b[0m\u001b[38;5;2m▓\u001b[0m\u001b[38;5;2m▓\u001b[0m\u001b[38;5;2m▓\u001b[0m\u001b[38;5;2m▓\u001b[0m\u001b[38;5;2m▓\u001b[0m\u001b[38;5;2m▓\u001b[0m\u001b[38;5;2m▓\u001b[0m\u001b[38;5;2m▓\u001b[0m\u001b[38;5;2m▓\u001b[0m\u001b[38;5;8m|\u001b[0m \u001b[38;5;8m\u001b[0m\n",
       "    \u001b[38;5;8m\u001b[0m \u001b[38;5;8m|\u001b[0m\u001b[38;5;2m▓\u001b[0m\u001b[38;5;2m▓\u001b[0m\u001b[38;5;2m▓\u001b[0m\u001b[38;5;2m▓\u001b[0m\u001b[38;5;2m▓\u001b[0m\u001b[38;5;2m▓\u001b[0m\u001b[38;5;2m▓\u001b[0m\u001b[38;5;2m▓\u001b[0m\u001b[38;5;2m▓\u001b[0m\u001b[38;5;2m▓\u001b[0m\u001b[38;5;2m▓\u001b[0m\u001b[38;5;2m▓\u001b[0m\u001b[38;5;2m▓\u001b[0m\u001b[38;5;2m▓\u001b[0m\u001b[38;5;2m▓\u001b[0m\u001b[38;5;2m▓\u001b[0m\u001b[38;5;2m▓\u001b[0m\u001b[38;5;2m▓\u001b[0m\u001b[38;5;2m▓\u001b[0m\u001b[38;5;2m▓\u001b[0m\u001b[38;5;2m▓\u001b[0m\u001b[38;5;2m▓\u001b[0m\u001b[38;5;2m▓\u001b[0m\u001b[38;5;2m▓\u001b[0m\u001b[38;5;2m▓\u001b[0m\u001b[38;5;2m▓\u001b[0m\u001b[38;5;2m▓\u001b[0m\u001b[38;5;2m▓\u001b[0m\u001b[38;5;2m▓\u001b[0m\u001b[38;5;2m▓\u001b[0m\u001b[38;5;2m▓\u001b[0m\u001b[38;5;2m▓\u001b[0m\u001b[38;5;2m▓\u001b[0m\u001b[38;5;2m▓\u001b[0m\u001b[38;5;2m█\u001b[0m\u001b[38;5;2m▓\u001b[0m\u001b[38;5;2m█\u001b[0m\u001b[38;5;2m█\u001b[0m\u001b[38;5;2m▓\u001b[0m\u001b[38;5;2m▓\u001b[0m\u001b[38;5;8m|\u001b[0m \u001b[38;5;8m\u001b[0m\n",
       "    \u001b[38;5;8m\u001b[0m \u001b[38;5;8m|\u001b[0m\u001b[38;5;2m█\u001b[0m\u001b[38;5;2m▓\u001b[0m\u001b[38;5;2m▓\u001b[0m\u001b[38;5;2m▓\u001b[0m\u001b[38;5;2m▓\u001b[0m\u001b[38;5;2m▓\u001b[0m\u001b[38;5;2m▓\u001b[0m\u001b[38;5;2m▓\u001b[0m\u001b[38;5;2m▓\u001b[0m\u001b[38;5;2m▓\u001b[0m\u001b[38;5;2m▓\u001b[0m\u001b[38;5;2m▓\u001b[0m\u001b[38;5;2m▓\u001b[0m\u001b[38;5;2m▓\u001b[0m\u001b[38;5;2m▓\u001b[0m\u001b[38;5;2m▓\u001b[0m\u001b[38;5;2m▓\u001b[0m\u001b[38;5;2m▓\u001b[0m\u001b[38;5;2m▓\u001b[0m\u001b[38;5;2m▓\u001b[0m\u001b[38;5;2m▓\u001b[0m\u001b[38;5;2m▓\u001b[0m\u001b[38;5;2m█\u001b[0m\u001b[38;5;2m▓\u001b[0m\u001b[38;5;2m▓\u001b[0m\u001b[38;5;2m▓\u001b[0m\u001b[38;5;2m▓\u001b[0m\u001b[38;5;2m▓\u001b[0m\u001b[38;5;2m▓\u001b[0m\u001b[38;5;2m▓\u001b[0m\u001b[38;5;2m▓\u001b[0m\u001b[38;5;2m▓\u001b[0m\u001b[38;5;2m▓\u001b[0m\u001b[38;5;2m▓\u001b[0m\u001b[38;5;2m▓\u001b[0m\u001b[38;5;2m▓\u001b[0m\u001b[38;5;2m▓\u001b[0m\u001b[38;5;2m▓\u001b[0m\u001b[38;5;2m▓\u001b[0m\u001b[38;5;2m▓\u001b[0m\u001b[38;5;8m|\u001b[0m \u001b[38;5;8m\u001b[0m\n",
       "    \u001b[38;5;8m\u001b[0m \u001b[38;5;8m|\u001b[0m\u001b[38;5;2m▓\u001b[0m\u001b[38;5;2m▓\u001b[0m\u001b[38;5;2m▓\u001b[0m\u001b[38;5;2m▓\u001b[0m\u001b[38;5;2m▓\u001b[0m\u001b[38;5;2m▓\u001b[0m\u001b[38;5;2m▓\u001b[0m\u001b[38;5;2m▓\u001b[0m\u001b[38;5;2m▓\u001b[0m\u001b[38;5;2m▓\u001b[0m\u001b[38;5;2m▓\u001b[0m\u001b[38;5;2m▓\u001b[0m\u001b[38;5;2m▓\u001b[0m\u001b[38;5;2m▓\u001b[0m\u001b[38;5;2m▓\u001b[0m\u001b[38;5;2m▓\u001b[0m\u001b[38;5;2m▓\u001b[0m\u001b[38;5;2m▓\u001b[0m\u001b[38;5;2m▓\u001b[0m\u001b[38;5;2m▓\u001b[0m\u001b[38;5;2m▓\u001b[0m\u001b[38;5;2m▓\u001b[0m\u001b[38;5;2m▓\u001b[0m\u001b[38;5;2m▓\u001b[0m\u001b[38;5;2m▓\u001b[0m\u001b[38;5;2m▓\u001b[0m\u001b[38;5;2m█\u001b[0m\u001b[38;5;2m▓\u001b[0m\u001b[38;5;2m▓\u001b[0m\u001b[38;5;2m▓\u001b[0m\u001b[38;5;2m▓\u001b[0m\u001b[38;5;2m▓\u001b[0m\u001b[38;5;2m▓\u001b[0m\u001b[38;5;2m▓\u001b[0m\u001b[38;5;2m▓\u001b[0m\u001b[38;5;2m▓\u001b[0m\u001b[38;5;2m▓\u001b[0m\u001b[38;5;2m▓\u001b[0m\u001b[38;5;2m▓\u001b[0m\u001b[38;5;2m▓\u001b[0m\u001b[38;5;8m|\u001b[0m \u001b[38;5;8m\u001b[0m\n",
       "    \u001b[38;5;8m\u001b[0m \u001b[38;5;8m|\u001b[0m\u001b[38;5;2m▓\u001b[0m\u001b[38;5;2m▓\u001b[0m\u001b[38;5;2m█\u001b[0m\u001b[38;5;2m▓\u001b[0m\u001b[38;5;2m▓\u001b[0m\u001b[38;5;2m▓\u001b[0m\u001b[38;5;2m▓\u001b[0m\u001b[38;5;2m▓\u001b[0m\u001b[38;5;2m▓\u001b[0m\u001b[38;5;2m▓\u001b[0m\u001b[38;5;2m▓\u001b[0m\u001b[38;5;2m▓\u001b[0m\u001b[38;5;2m▓\u001b[0m\u001b[38;5;2m▓\u001b[0m\u001b[38;5;2m▓\u001b[0m\u001b[38;5;2m▓\u001b[0m\u001b[38;5;2m▓\u001b[0m\u001b[38;5;2m▓\u001b[0m\u001b[38;5;2m█\u001b[0m\u001b[38;5;2m▓\u001b[0m\u001b[38;5;2m▓\u001b[0m\u001b[38;5;2m▓\u001b[0m\u001b[38;5;2m▓\u001b[0m\u001b[38;5;2m▓\u001b[0m\u001b[38;5;2m▓\u001b[0m\u001b[38;5;2m▓\u001b[0m\u001b[38;5;2m▓\u001b[0m\u001b[38;5;2m▓\u001b[0m\u001b[38;5;2m▓\u001b[0m\u001b[38;5;2m▓\u001b[0m\u001b[38;5;2m▓\u001b[0m\u001b[38;5;2m▓\u001b[0m\u001b[38;5;2m▓\u001b[0m\u001b[38;5;2m▓\u001b[0m\u001b[38;5;2m▓\u001b[0m\u001b[38;5;2m▓\u001b[0m\u001b[38;5;2m▓\u001b[0m\u001b[38;5;2m▓\u001b[0m\u001b[38;5;2m▓\u001b[0m\u001b[38;5;2m▓\u001b[0m\u001b[38;5;8m|\u001b[0m \u001b[38;5;8m\u001b[0m\n",
       "    \u001b[38;5;8m\u001b[0m \u001b[38;5;8m|\u001b[0m\u001b[38;5;2m▓\u001b[0m\u001b[38;5;2m▓\u001b[0m\u001b[38;5;2m▓\u001b[0m\u001b[38;5;2m▓\u001b[0m\u001b[38;5;2m▓\u001b[0m\u001b[38;5;2m▓\u001b[0m\u001b[38;5;2m▓\u001b[0m\u001b[38;5;2m▓\u001b[0m\u001b[38;5;2m▓\u001b[0m\u001b[38;5;2m▓\u001b[0m\u001b[38;5;2m▓\u001b[0m\u001b[38;5;2m▓\u001b[0m\u001b[38;5;2m▓\u001b[0m\u001b[38;5;2m▓\u001b[0m\u001b[38;5;2m▓\u001b[0m\u001b[38;5;2m▓\u001b[0m\u001b[38;5;2m▓\u001b[0m\u001b[38;5;2m▓\u001b[0m\u001b[38;5;2m▓\u001b[0m\u001b[38;5;2m▓\u001b[0m\u001b[38;5;2m▓\u001b[0m\u001b[38;5;2m▓\u001b[0m\u001b[38;5;2m▓\u001b[0m\u001b[38;5;2m▓\u001b[0m\u001b[38;5;2m█\u001b[0m\u001b[38;5;2m█\u001b[0m\u001b[38;5;2m█\u001b[0m\u001b[38;5;2m▓\u001b[0m\u001b[38;5;2m▓\u001b[0m\u001b[38;5;2m▓\u001b[0m\u001b[38;5;2m▓\u001b[0m\u001b[38;5;2m▓\u001b[0m\u001b[38;5;2m▓\u001b[0m\u001b[38;5;2m▓\u001b[0m\u001b[38;5;2m▓\u001b[0m\u001b[38;5;2m▓\u001b[0m\u001b[38;5;2m▓\u001b[0m\u001b[38;5;2m▓\u001b[0m\u001b[38;5;2m▓\u001b[0m\u001b[38;5;2m▓\u001b[0m\u001b[38;5;8m|\u001b[0m \u001b[38;5;8m\u001b[0m\n",
       "    \u001b[38;5;8m\u001b[0m \u001b[38;5;8m|\u001b[0m\u001b[38;5;2m▓\u001b[0m\u001b[38;5;2m█\u001b[0m\u001b[38;5;2m▓\u001b[0m\u001b[38;5;2m▓\u001b[0m\u001b[38;5;2m▓\u001b[0m\u001b[38;5;2m▓\u001b[0m\u001b[38;5;2m▓\u001b[0m\u001b[38;5;2m▓\u001b[0m\u001b[38;5;2m▓\u001b[0m\u001b[38;5;2m▓\u001b[0m\u001b[38;5;2m▓\u001b[0m\u001b[38;5;2m▓\u001b[0m\u001b[38;5;2m▓\u001b[0m\u001b[38;5;2m█\u001b[0m\u001b[38;5;2m▓\u001b[0m\u001b[38;5;2m▓\u001b[0m\u001b[38;5;2m▓\u001b[0m\u001b[38;5;2m▓\u001b[0m\u001b[38;5;2m▓\u001b[0m\u001b[38;5;2m▓\u001b[0m\u001b[38;5;2m█\u001b[0m\u001b[38;5;2m▓\u001b[0m\u001b[38;5;2m▓\u001b[0m\u001b[38;5;2m▓\u001b[0m\u001b[38;5;2m▓\u001b[0m\u001b[38;5;2m▒\u001b[0m\u001b[38;5;2m▓\u001b[0m\u001b[38;5;2m▓\u001b[0m\u001b[38;5;2m▓\u001b[0m\u001b[38;5;2m▓\u001b[0m\u001b[38;5;2m▓\u001b[0m\u001b[38;5;2m▓\u001b[0m\u001b[38;5;2m▓\u001b[0m\u001b[38;5;2m▓\u001b[0m\u001b[38;5;2m▓\u001b[0m\u001b[38;5;2m▓\u001b[0m\u001b[38;5;2m▓\u001b[0m\u001b[38;5;2m▓\u001b[0m\u001b[38;5;2m▓\u001b[0m\u001b[38;5;2m▓\u001b[0m\u001b[38;5;8m|\u001b[0m \u001b[38;5;8m\u001b[0m\n",
       "    \u001b[38;5;8m\u001b[0m \u001b[38;5;8m|\u001b[0m\u001b[38;5;2m▓\u001b[0m\u001b[38;5;2m▓\u001b[0m\u001b[38;5;2m▓\u001b[0m\u001b[38;5;2m▓\u001b[0m\u001b[38;5;2m▓\u001b[0m\u001b[38;5;2m▓\u001b[0m\u001b[38;5;2m▓\u001b[0m\u001b[38;5;2m▓\u001b[0m\u001b[38;5;2m▓\u001b[0m\u001b[38;5;2m▓\u001b[0m\u001b[38;5;2m▓\u001b[0m\u001b[38;5;2m▓\u001b[0m\u001b[38;5;2m▓\u001b[0m\u001b[38;5;2m▓\u001b[0m\u001b[38;5;2m▓\u001b[0m\u001b[38;5;2m▓\u001b[0m\u001b[38;5;2m▓\u001b[0m\u001b[38;5;2m▓\u001b[0m\u001b[38;5;2m▓\u001b[0m\u001b[38;5;2m▓\u001b[0m\u001b[38;5;2m█\u001b[0m\u001b[38;5;2m▓\u001b[0m\u001b[38;5;2m▓\u001b[0m\u001b[38;5;2m▓\u001b[0m\u001b[38;5;2m▓\u001b[0m\u001b[38;5;2m▓\u001b[0m\u001b[38;5;2m▓\u001b[0m\u001b[38;5;2m▓\u001b[0m\u001b[38;5;2m▓\u001b[0m\u001b[38;5;2m▓\u001b[0m\u001b[38;5;2m█\u001b[0m\u001b[38;5;2m▓\u001b[0m\u001b[38;5;2m▓\u001b[0m\u001b[38;5;2m▓\u001b[0m\u001b[38;5;2m▓\u001b[0m\u001b[38;5;2m▓\u001b[0m\u001b[38;5;2m▓\u001b[0m\u001b[38;5;2m▓\u001b[0m\u001b[38;5;2m▓\u001b[0m\u001b[38;5;2m█\u001b[0m\u001b[38;5;8m|\u001b[0m \u001b[38;5;8m\u001b[0m\n",
       "    \u001b[38;5;8m\u001b[0m \u001b[38;5;8m|\u001b[0m\u001b[38;5;2m▓\u001b[0m\u001b[38;5;2m▓\u001b[0m\u001b[38;5;2m█\u001b[0m\u001b[38;5;2m▓\u001b[0m\u001b[38;5;2m▓\u001b[0m\u001b[38;5;2m▓\u001b[0m\u001b[38;5;2m▓\u001b[0m\u001b[38;5;2m▓\u001b[0m\u001b[38;5;2m▓\u001b[0m\u001b[38;5;2m▓\u001b[0m\u001b[38;5;2m▓\u001b[0m\u001b[38;5;2m▓\u001b[0m\u001b[38;5;2m▓\u001b[0m\u001b[38;5;2m▓\u001b[0m\u001b[38;5;2m▓\u001b[0m\u001b[38;5;2m▓\u001b[0m\u001b[38;5;2m▓\u001b[0m\u001b[38;5;2m▓\u001b[0m\u001b[38;5;2m▓\u001b[0m\u001b[38;5;2m▓\u001b[0m\u001b[38;5;2m█\u001b[0m\u001b[38;5;2m▓\u001b[0m\u001b[38;5;2m▓\u001b[0m\u001b[38;5;2m▓\u001b[0m\u001b[38;5;2m█\u001b[0m\u001b[38;5;2m▓\u001b[0m\u001b[38;5;2m▓\u001b[0m\u001b[38;5;2m▓\u001b[0m\u001b[38;5;2m▓\u001b[0m\u001b[38;5;2m▓\u001b[0m\u001b[38;5;2m▓\u001b[0m\u001b[38;5;2m▓\u001b[0m\u001b[38;5;2m▓\u001b[0m\u001b[38;5;2m▓\u001b[0m\u001b[38;5;2m▓\u001b[0m\u001b[38;5;2m▓\u001b[0m\u001b[38;5;2m▓\u001b[0m\u001b[38;5;2m▓\u001b[0m\u001b[38;5;2m▓\u001b[0m\u001b[38;5;2m▓\u001b[0m\u001b[38;5;8m|\u001b[0m \u001b[38;5;8m\u001b[0m\n",
       "    \u001b[38;5;8m\u001b[0m \u001b[38;5;8m|\u001b[0m\u001b[38;5;2m▓\u001b[0m\u001b[38;5;2m█\u001b[0m\u001b[38;5;2m█\u001b[0m\u001b[38;5;2m▓\u001b[0m\u001b[38;5;2m▓\u001b[0m\u001b[38;5;2m▓\u001b[0m\u001b[38;5;2m▓\u001b[0m\u001b[38;5;2m▓\u001b[0m\u001b[38;5;2m▓\u001b[0m\u001b[38;5;2m▓\u001b[0m\u001b[38;5;2m▓\u001b[0m\u001b[38;5;2m▓\u001b[0m\u001b[38;5;2m▓\u001b[0m\u001b[38;5;2m▓\u001b[0m\u001b[38;5;2m▓\u001b[0m\u001b[38;5;2m▓\u001b[0m\u001b[38;5;2m▓\u001b[0m\u001b[38;5;2m▓\u001b[0m\u001b[38;5;2m▓\u001b[0m\u001b[38;5;2m▓\u001b[0m\u001b[38;5;2m▓\u001b[0m\u001b[38;5;2m▓\u001b[0m\u001b[38;5;2m▓\u001b[0m\u001b[38;5;2m▓\u001b[0m\u001b[38;5;2m▓\u001b[0m\u001b[38;5;2m▓\u001b[0m\u001b[38;5;2m▓\u001b[0m\u001b[38;5;2m▓\u001b[0m\u001b[38;5;2m▓\u001b[0m\u001b[38;5;2m▓\u001b[0m\u001b[38;5;2m▓\u001b[0m\u001b[38;5;2m▓\u001b[0m\u001b[38;5;2m▓\u001b[0m\u001b[38;5;2m▓\u001b[0m\u001b[38;5;2m▓\u001b[0m\u001b[38;5;2m▓\u001b[0m\u001b[38;5;2m█\u001b[0m\u001b[38;5;2m▓\u001b[0m\u001b[38;5;2m▓\u001b[0m\u001b[38;5;2m▓\u001b[0m\u001b[38;5;8m|\u001b[0m \u001b[38;5;8m\u001b[0m\n",
       "    \u001b[38;5;8m\u001b[0m \u001b[38;5;8m|\u001b[0m\u001b[38;5;2m▓\u001b[0m\u001b[38;5;2m▓\u001b[0m\u001b[38;5;2m▓\u001b[0m\u001b[38;5;2m▓\u001b[0m\u001b[38;5;2m▓\u001b[0m\u001b[38;5;2m▓\u001b[0m\u001b[38;5;2m▓\u001b[0m\u001b[38;5;2m▓\u001b[0m\u001b[38;5;2m▓\u001b[0m\u001b[38;5;2m▓\u001b[0m\u001b[38;5;2m▓\u001b[0m\u001b[38;5;2m▓\u001b[0m\u001b[38;5;2m█\u001b[0m\u001b[38;5;2m▓\u001b[0m\u001b[38;5;2m▓\u001b[0m\u001b[38;5;2m▓\u001b[0m\u001b[38;5;2m▓\u001b[0m\u001b[38;5;2m▓\u001b[0m\u001b[38;5;2m▓\u001b[0m\u001b[38;5;2m▓\u001b[0m\u001b[38;5;2m█\u001b[0m\u001b[38;5;2m▓\u001b[0m\u001b[38;5;2m▓\u001b[0m\u001b[38;5;2m▓\u001b[0m\u001b[38;5;2m▓\u001b[0m\u001b[38;5;2m▓\u001b[0m\u001b[38;5;2m▓\u001b[0m\u001b[38;5;2m▓\u001b[0m\u001b[38;5;2m▓\u001b[0m\u001b[38;5;2m▓\u001b[0m\u001b[38;5;2m▓\u001b[0m\u001b[38;5;2m▓\u001b[0m\u001b[38;5;2m▓\u001b[0m\u001b[38;5;2m█\u001b[0m\u001b[38;5;2m▓\u001b[0m\u001b[38;5;2m▓\u001b[0m\u001b[38;5;2m▓\u001b[0m\u001b[38;5;2m█\u001b[0m\u001b[38;5;2m▓\u001b[0m\u001b[38;5;2m▓\u001b[0m\u001b[38;5;8m|\u001b[0m \u001b[38;5;8m\u001b[0m\n",
       "    \u001b[38;5;8m\u001b[0m \u001b[38;5;8m|\u001b[0m\u001b[38;5;2m▓\u001b[0m\u001b[38;5;2m▓\u001b[0m\u001b[38;5;2m▓\u001b[0m\u001b[38;5;2m▓\u001b[0m\u001b[38;5;2m▓\u001b[0m\u001b[38;5;2m▓\u001b[0m\u001b[38;5;2m▓\u001b[0m\u001b[38;5;2m▓\u001b[0m\u001b[38;5;2m▓\u001b[0m\u001b[38;5;2m▓\u001b[0m\u001b[38;5;2m▓\u001b[0m\u001b[38;5;2m▓\u001b[0m\u001b[38;5;2m▓\u001b[0m\u001b[38;5;2m▓\u001b[0m\u001b[38;5;2m▓\u001b[0m\u001b[38;5;2m▓\u001b[0m\u001b[38;5;2m▓\u001b[0m\u001b[38;5;2m▓\u001b[0m\u001b[38;5;2m▓\u001b[0m\u001b[38;5;2m▓\u001b[0m\u001b[38;5;2m▓\u001b[0m\u001b[38;5;2m▓\u001b[0m\u001b[38;5;2m▓\u001b[0m\u001b[38;5;2m▓\u001b[0m\u001b[38;5;2m▓\u001b[0m\u001b[38;5;2m▓\u001b[0m\u001b[38;5;2m▓\u001b[0m\u001b[38;5;2m▓\u001b[0m\u001b[38;5;2m▓\u001b[0m\u001b[38;5;2m▓\u001b[0m\u001b[38;5;2m▓\u001b[0m\u001b[38;5;2m▓\u001b[0m\u001b[38;5;2m▓\u001b[0m\u001b[38;5;2m▓\u001b[0m\u001b[38;5;2m▓\u001b[0m\u001b[38;5;2m▓\u001b[0m\u001b[38;5;2m▓\u001b[0m\u001b[38;5;2m▓\u001b[0m\u001b[38;5;2m▓\u001b[0m\u001b[38;5;2m▓\u001b[0m\u001b[38;5;8m|\u001b[0m \u001b[38;5;8m\u001b[0m\n",
       "   \u001b[38;5;8m0\u001b[0m \u001b[38;5;8m|\u001b[0m\u001b[38;5;2m▓\u001b[0m\u001b[38;5;2m▓\u001b[0m\u001b[38;5;2m▓\u001b[0m\u001b[38;5;2m█\u001b[0m\u001b[38;5;2m▓\u001b[0m\u001b[38;5;2m▓\u001b[0m\u001b[38;5;2m▓\u001b[0m\u001b[38;5;2m▓\u001b[0m\u001b[38;5;2m▓\u001b[0m\u001b[38;5;2m▓\u001b[0m\u001b[38;5;2m▓\u001b[0m\u001b[38;5;2m▓\u001b[0m\u001b[38;5;2m▓\u001b[0m\u001b[38;5;2m▓\u001b[0m\u001b[38;5;2m▓\u001b[0m\u001b[38;5;2m▓\u001b[0m\u001b[38;5;2m▓\u001b[0m\u001b[38;5;2m▓\u001b[0m\u001b[38;5;2m▓\u001b[0m\u001b[38;5;2m▓\u001b[0m\u001b[38;5;2m▓\u001b[0m\u001b[38;5;2m▓\u001b[0m\u001b[38;5;2m▓\u001b[0m\u001b[38;5;2m▓\u001b[0m\u001b[38;5;2m▓\u001b[0m\u001b[38;5;2m█\u001b[0m\u001b[38;5;2m▓\u001b[0m\u001b[38;5;2m▓\u001b[0m\u001b[38;5;2m▓\u001b[0m\u001b[38;5;2m▓\u001b[0m\u001b[38;5;2m▓\u001b[0m\u001b[38;5;2m▓\u001b[0m\u001b[38;5;2m▓\u001b[0m\u001b[38;5;2m▓\u001b[0m\u001b[38;5;2m▓\u001b[0m\u001b[38;5;2m▓\u001b[0m\u001b[38;5;2m▓\u001b[0m\u001b[38;5;2m▓\u001b[0m\u001b[38;5;2m▓\u001b[0m\u001b[38;5;2m▓\u001b[0m\u001b[38;5;8m|\u001b[0m \u001b[38;5;8m\u001b[0m\n",
       "     \u001b[38;5;8m+----------------------------------------+\u001b[0m \n",
       "      \u001b[38;5;8m0\u001b[0m                  \u001b[38;5;8m\u001b[0m                    \u001b[38;5;8m1\u001b[0m  "
      ]
     },
     "execution_count": 16,
     "metadata": {},
     "output_type": "execute_result"
    }
   ],
   "source": [
    "# 2 dimension histogram\n",
    "histogram2d(rand(100000), rand(100000))"
   ]
  },
  {
   "cell_type": "code",
   "execution_count": 17,
   "id": "e2729f50-c6a8-4f32-a847-a163df6f4afe",
   "metadata": {},
   "outputs": [
    {
     "data": {
      "text/plain": [
       "      \u001b[38;5;8m+----------------------------------------+\u001b[0m \n",
       "    \u001b[38;5;8m5\u001b[0m \u001b[38;5;8m|\u001b[0m                   \u001b[38;5;2m \u001b[0m                    \u001b[38;5;8m|\u001b[0m \u001b[38;5;8m\u001b[0m\n",
       "     \u001b[38;5;8m\u001b[0m \u001b[38;5;8m|\u001b[0m            \u001b[38;5;2m \u001b[0m \u001b[38;5;2m \u001b[0m \u001b[38;5;2m \u001b[0m    \u001b[38;5;2m \u001b[0m   \u001b[38;5;2m \u001b[0m\u001b[38;5;2m \u001b[0m\u001b[38;5;2m \u001b[0m            \u001b[38;5;8m|\u001b[0m \u001b[38;5;8m\u001b[0m\n",
       "     \u001b[38;5;8m\u001b[0m \u001b[38;5;8m|\u001b[0m      \u001b[38;5;2m \u001b[0m \u001b[38;5;2m \u001b[0m\u001b[38;5;2m \u001b[0m\u001b[38;5;2m \u001b[0m\u001b[38;5;2m \u001b[0m\u001b[38;5;2m \u001b[0m\u001b[38;5;2m \u001b[0m\u001b[38;5;2m \u001b[0m\u001b[38;5;2m \u001b[0m\u001b[38;5;2m \u001b[0m\u001b[38;5;2m \u001b[0m\u001b[38;5;2m \u001b[0m\u001b[38;5;2m \u001b[0m\u001b[38;5;2m \u001b[0m\u001b[38;5;2m \u001b[0m\u001b[38;5;2m \u001b[0m\u001b[38;5;2m \u001b[0m\u001b[38;5;2m \u001b[0m\u001b[38;5;2m \u001b[0m   \u001b[38;5;2m \u001b[0m\u001b[38;5;2m \u001b[0m  \u001b[38;5;2m \u001b[0m      \u001b[38;5;8m|\u001b[0m \u001b[38;5;8m\u001b[0m\n",
       "     \u001b[38;5;8m\u001b[0m \u001b[38;5;8m|\u001b[0m     \u001b[38;5;2m \u001b[0m\u001b[38;5;2m \u001b[0m\u001b[38;5;2m \u001b[0m\u001b[38;5;2m \u001b[0m\u001b[38;5;2m \u001b[0m\u001b[38;5;2m \u001b[0m\u001b[38;5;2m \u001b[0m\u001b[38;5;2m \u001b[0m\u001b[38;5;2m \u001b[0m\u001b[38;5;2m \u001b[0m\u001b[38;5;2m \u001b[0m\u001b[38;5;2m \u001b[0m\u001b[38;5;2m \u001b[0m\u001b[38;5;2m \u001b[0m\u001b[38;5;2m \u001b[0m\u001b[38;5;2m \u001b[0m\u001b[38;5;2m \u001b[0m\u001b[38;5;2m \u001b[0m\u001b[38;5;2m \u001b[0m\u001b[38;5;2m \u001b[0m\u001b[38;5;2m \u001b[0m\u001b[38;5;2m \u001b[0m\u001b[38;5;2m \u001b[0m\u001b[38;5;2m \u001b[0m\u001b[38;5;2m \u001b[0m\u001b[38;5;2m \u001b[0m\u001b[38;5;2m \u001b[0m\u001b[38;5;2m \u001b[0m       \u001b[38;5;8m|\u001b[0m \u001b[38;5;8m\u001b[0m\n",
       "     \u001b[38;5;8m\u001b[0m \u001b[38;5;8m|\u001b[0m \u001b[38;5;2m \u001b[0m \u001b[38;5;2m \u001b[0m\u001b[38;5;2m \u001b[0m\u001b[38;5;2m \u001b[0m\u001b[38;5;2m \u001b[0m\u001b[38;5;2m \u001b[0m\u001b[38;5;2m \u001b[0m\u001b[38;5;2m \u001b[0m\u001b[38;5;2m \u001b[0m\u001b[38;5;2m \u001b[0m\u001b[38;5;2m \u001b[0m\u001b[38;5;2m \u001b[0m\u001b[38;5;2m \u001b[0m\u001b[38;5;2m \u001b[0m\u001b[38;5;2m░\u001b[0m\u001b[38;5;2m░\u001b[0m\u001b[38;5;2m░\u001b[0m\u001b[38;5;2m░\u001b[0m\u001b[38;5;2m░\u001b[0m\u001b[38;5;2m \u001b[0m\u001b[38;5;2m \u001b[0m\u001b[38;5;2m \u001b[0m\u001b[38;5;2m \u001b[0m\u001b[38;5;2m \u001b[0m\u001b[38;5;2m \u001b[0m\u001b[38;5;2m \u001b[0m\u001b[38;5;2m \u001b[0m\u001b[38;5;2m \u001b[0m\u001b[38;5;2m \u001b[0m\u001b[38;5;2m \u001b[0m        \u001b[38;5;8m|\u001b[0m \u001b[38;5;8m\u001b[0m\n",
       "     \u001b[38;5;8m\u001b[0m \u001b[38;5;8m|\u001b[0m  \u001b[38;5;2m \u001b[0m\u001b[38;5;2m \u001b[0m\u001b[38;5;2m \u001b[0m\u001b[38;5;2m \u001b[0m\u001b[38;5;2m \u001b[0m\u001b[38;5;2m \u001b[0m\u001b[38;5;2m \u001b[0m\u001b[38;5;2m \u001b[0m\u001b[38;5;2m \u001b[0m\u001b[38;5;2m░\u001b[0m\u001b[38;5;2m░\u001b[0m\u001b[38;5;2m░\u001b[0m\u001b[38;5;2m░\u001b[0m\u001b[38;5;2m░\u001b[0m\u001b[38;5;2m▒\u001b[0m\u001b[38;5;2m▒\u001b[0m\u001b[38;5;2m▒\u001b[0m\u001b[38;5;2m▒\u001b[0m\u001b[38;5;2m░\u001b[0m\u001b[38;5;2m░\u001b[0m\u001b[38;5;2m░\u001b[0m\u001b[38;5;2m░\u001b[0m\u001b[38;5;2m░\u001b[0m\u001b[38;5;2m \u001b[0m\u001b[38;5;2m \u001b[0m\u001b[38;5;2m \u001b[0m\u001b[38;5;2m \u001b[0m\u001b[38;5;2m \u001b[0m\u001b[38;5;2m \u001b[0m\u001b[38;5;2m \u001b[0m\u001b[38;5;2m \u001b[0m\u001b[38;5;2m \u001b[0m\u001b[38;5;2m \u001b[0m     \u001b[38;5;8m|\u001b[0m \u001b[38;5;8m\u001b[0m\n",
       "     \u001b[38;5;8m\u001b[0m \u001b[38;5;8m|\u001b[0m \u001b[38;5;2m \u001b[0m\u001b[38;5;2m \u001b[0m\u001b[38;5;2m \u001b[0m\u001b[38;5;2m \u001b[0m\u001b[38;5;2m \u001b[0m\u001b[38;5;2m \u001b[0m\u001b[38;5;2m \u001b[0m\u001b[38;5;2m \u001b[0m\u001b[38;5;2m░\u001b[0m\u001b[38;5;2m░\u001b[0m\u001b[38;5;2m░\u001b[0m\u001b[38;5;2m▒\u001b[0m\u001b[38;5;2m▒\u001b[0m\u001b[38;5;2m▒\u001b[0m\u001b[38;5;2m▓\u001b[0m\u001b[38;5;2m▓\u001b[0m\u001b[38;5;2m▓\u001b[0m\u001b[38;5;2m▓\u001b[0m\u001b[38;5;2m▓\u001b[0m\u001b[38;5;2m▓\u001b[0m\u001b[38;5;2m▒\u001b[0m\u001b[38;5;2m▒\u001b[0m\u001b[38;5;2m░\u001b[0m\u001b[38;5;2m░\u001b[0m\u001b[38;5;2m░\u001b[0m\u001b[38;5;2m \u001b[0m\u001b[38;5;2m \u001b[0m\u001b[38;5;2m \u001b[0m\u001b[38;5;2m \u001b[0m\u001b[38;5;2m \u001b[0m\u001b[38;5;2m \u001b[0m\u001b[38;5;2m \u001b[0m\u001b[38;5;2m \u001b[0m\u001b[38;5;2m \u001b[0m \u001b[38;5;2m \u001b[0m   \u001b[38;5;8m|\u001b[0m \u001b[38;5;8m\u001b[0m\n",
       "     \u001b[38;5;8m\u001b[0m \u001b[38;5;8m|\u001b[0m \u001b[38;5;2m \u001b[0m\u001b[38;5;2m \u001b[0m\u001b[38;5;2m \u001b[0m\u001b[38;5;2m \u001b[0m\u001b[38;5;2m \u001b[0m\u001b[38;5;2m \u001b[0m\u001b[38;5;2m \u001b[0m\u001b[38;5;2m \u001b[0m\u001b[38;5;2m░\u001b[0m\u001b[38;5;2m░\u001b[0m\u001b[38;5;2m▒\u001b[0m\u001b[38;5;2m▒\u001b[0m\u001b[38;5;2m▒\u001b[0m\u001b[38;5;2m▓\u001b[0m\u001b[38;5;2m█\u001b[0m\u001b[38;5;2m█\u001b[0m\u001b[38;5;2m█\u001b[0m\u001b[38;5;2m█\u001b[0m\u001b[38;5;2m▓\u001b[0m\u001b[38;5;2m▓\u001b[0m\u001b[38;5;2m▓\u001b[0m\u001b[38;5;2m▒\u001b[0m\u001b[38;5;2m▒\u001b[0m\u001b[38;5;2m░\u001b[0m\u001b[38;5;2m░\u001b[0m\u001b[38;5;2m░\u001b[0m\u001b[38;5;2m \u001b[0m\u001b[38;5;2m \u001b[0m\u001b[38;5;2m \u001b[0m\u001b[38;5;2m \u001b[0m\u001b[38;5;2m \u001b[0m\u001b[38;5;2m \u001b[0m\u001b[38;5;2m \u001b[0m\u001b[38;5;2m \u001b[0m\u001b[38;5;2m \u001b[0m    \u001b[38;5;8m|\u001b[0m \u001b[38;5;8m\u001b[0m\n",
       "     \u001b[38;5;8m\u001b[0m \u001b[38;5;8m|\u001b[0m\u001b[38;5;2m \u001b[0m\u001b[38;5;2m \u001b[0m\u001b[38;5;2m \u001b[0m\u001b[38;5;2m \u001b[0m\u001b[38;5;2m \u001b[0m\u001b[38;5;2m \u001b[0m\u001b[38;5;2m \u001b[0m\u001b[38;5;2m \u001b[0m\u001b[38;5;2m \u001b[0m\u001b[38;5;2m░\u001b[0m\u001b[38;5;2m░\u001b[0m\u001b[38;5;2m░\u001b[0m\u001b[38;5;2m▒\u001b[0m\u001b[38;5;2m▒\u001b[0m\u001b[38;5;2m▒\u001b[0m\u001b[38;5;2m▓\u001b[0m\u001b[38;5;2m▓\u001b[0m\u001b[38;5;2m▓\u001b[0m\u001b[38;5;2m▓\u001b[0m\u001b[38;5;2m▓\u001b[0m\u001b[38;5;2m▓\u001b[0m\u001b[38;5;2m▒\u001b[0m\u001b[38;5;2m▒\u001b[0m\u001b[38;5;2m░\u001b[0m\u001b[38;5;2m░\u001b[0m\u001b[38;5;2m░\u001b[0m\u001b[38;5;2m░\u001b[0m\u001b[38;5;2m \u001b[0m\u001b[38;5;2m \u001b[0m\u001b[38;5;2m \u001b[0m\u001b[38;5;2m \u001b[0m\u001b[38;5;2m \u001b[0m\u001b[38;5;2m \u001b[0m\u001b[38;5;2m \u001b[0m\u001b[38;5;2m \u001b[0m\u001b[38;5;2m \u001b[0m\u001b[38;5;2m \u001b[0m   \u001b[38;5;8m|\u001b[0m \u001b[38;5;8m\u001b[0m\n",
       "     \u001b[38;5;8m\u001b[0m \u001b[38;5;8m|\u001b[0m \u001b[38;5;2m \u001b[0m\u001b[38;5;2m \u001b[0m\u001b[38;5;2m \u001b[0m\u001b[38;5;2m \u001b[0m\u001b[38;5;2m \u001b[0m\u001b[38;5;2m \u001b[0m\u001b[38;5;2m \u001b[0m\u001b[38;5;2m \u001b[0m\u001b[38;5;2m \u001b[0m\u001b[38;5;2m \u001b[0m\u001b[38;5;2m░\u001b[0m\u001b[38;5;2m░\u001b[0m\u001b[38;5;2m░\u001b[0m\u001b[38;5;2m░\u001b[0m\u001b[38;5;2m░\u001b[0m\u001b[38;5;2m▒\u001b[0m\u001b[38;5;2m▒\u001b[0m\u001b[38;5;2m▒\u001b[0m\u001b[38;5;2m▒\u001b[0m\u001b[38;5;2m░\u001b[0m\u001b[38;5;2m░\u001b[0m\u001b[38;5;2m░\u001b[0m\u001b[38;5;2m░\u001b[0m\u001b[38;5;2m░\u001b[0m\u001b[38;5;2m \u001b[0m\u001b[38;5;2m \u001b[0m\u001b[38;5;2m \u001b[0m\u001b[38;5;2m \u001b[0m\u001b[38;5;2m \u001b[0m\u001b[38;5;2m \u001b[0m\u001b[38;5;2m \u001b[0m\u001b[38;5;2m \u001b[0m\u001b[38;5;2m \u001b[0m  \u001b[38;5;2m \u001b[0m   \u001b[38;5;8m|\u001b[0m \u001b[38;5;8m\u001b[0m\n",
       "     \u001b[38;5;8m\u001b[0m \u001b[38;5;8m|\u001b[0m  \u001b[38;5;2m \u001b[0m\u001b[38;5;2m \u001b[0m\u001b[38;5;2m \u001b[0m\u001b[38;5;2m \u001b[0m\u001b[38;5;2m \u001b[0m\u001b[38;5;2m \u001b[0m\u001b[38;5;2m \u001b[0m\u001b[38;5;2m \u001b[0m\u001b[38;5;2m \u001b[0m\u001b[38;5;2m \u001b[0m\u001b[38;5;2m \u001b[0m\u001b[38;5;2m \u001b[0m\u001b[38;5;2m \u001b[0m\u001b[38;5;2m░\u001b[0m\u001b[38;5;2m░\u001b[0m\u001b[38;5;2m░\u001b[0m\u001b[38;5;2m░\u001b[0m\u001b[38;5;2m░\u001b[0m\u001b[38;5;2m \u001b[0m\u001b[38;5;2m \u001b[0m\u001b[38;5;2m \u001b[0m\u001b[38;5;2m \u001b[0m\u001b[38;5;2m \u001b[0m\u001b[38;5;2m \u001b[0m\u001b[38;5;2m \u001b[0m\u001b[38;5;2m \u001b[0m\u001b[38;5;2m \u001b[0m\u001b[38;5;2m \u001b[0m\u001b[38;5;2m \u001b[0m\u001b[38;5;2m \u001b[0m\u001b[38;5;2m \u001b[0m \u001b[38;5;2m \u001b[0m     \u001b[38;5;8m|\u001b[0m \u001b[38;5;8m\u001b[0m\n",
       "     \u001b[38;5;8m\u001b[0m \u001b[38;5;8m|\u001b[0m     \u001b[38;5;2m \u001b[0m\u001b[38;5;2m \u001b[0m\u001b[38;5;2m \u001b[0m\u001b[38;5;2m \u001b[0m\u001b[38;5;2m \u001b[0m\u001b[38;5;2m \u001b[0m\u001b[38;5;2m \u001b[0m\u001b[38;5;2m \u001b[0m\u001b[38;5;2m \u001b[0m\u001b[38;5;2m \u001b[0m\u001b[38;5;2m \u001b[0m\u001b[38;5;2m \u001b[0m\u001b[38;5;2m \u001b[0m\u001b[38;5;2m \u001b[0m\u001b[38;5;2m \u001b[0m\u001b[38;5;2m \u001b[0m\u001b[38;5;2m \u001b[0m\u001b[38;5;2m \u001b[0m\u001b[38;5;2m \u001b[0m\u001b[38;5;2m \u001b[0m\u001b[38;5;2m \u001b[0m\u001b[38;5;2m \u001b[0m\u001b[38;5;2m \u001b[0m\u001b[38;5;2m \u001b[0m\u001b[38;5;2m \u001b[0m          \u001b[38;5;8m|\u001b[0m \u001b[38;5;8m\u001b[0m\n",
       "     \u001b[38;5;8m\u001b[0m \u001b[38;5;8m|\u001b[0m        \u001b[38;5;2m \u001b[0m \u001b[38;5;2m \u001b[0m \u001b[38;5;2m \u001b[0m\u001b[38;5;2m \u001b[0m\u001b[38;5;2m \u001b[0m\u001b[38;5;2m \u001b[0m\u001b[38;5;2m \u001b[0m\u001b[38;5;2m \u001b[0m\u001b[38;5;2m \u001b[0m\u001b[38;5;2m \u001b[0m\u001b[38;5;2m \u001b[0m\u001b[38;5;2m \u001b[0m\u001b[38;5;2m \u001b[0m\u001b[38;5;2m \u001b[0m\u001b[38;5;2m \u001b[0m\u001b[38;5;2m \u001b[0m\u001b[38;5;2m \u001b[0m             \u001b[38;5;8m|\u001b[0m \u001b[38;5;8m\u001b[0m\n",
       "     \u001b[38;5;8m\u001b[0m \u001b[38;5;8m|\u001b[0m        \u001b[38;5;2m \u001b[0m    \u001b[38;5;2m \u001b[0m \u001b[38;5;2m \u001b[0m \u001b[38;5;2m \u001b[0m\u001b[38;5;2m \u001b[0m \u001b[38;5;2m \u001b[0m\u001b[38;5;2m \u001b[0m\u001b[38;5;2m \u001b[0m\u001b[38;5;2m \u001b[0m \u001b[38;5;2m \u001b[0m\u001b[38;5;2m \u001b[0m             \u001b[38;5;8m|\u001b[0m \u001b[38;5;8m\u001b[0m\n",
       "   \u001b[38;5;8m-5\u001b[0m \u001b[38;5;8m|\u001b[0m                                        \u001b[38;5;8m|\u001b[0m \u001b[38;5;8m\u001b[0m\n",
       "      \u001b[38;5;8m+----------------------------------------+\u001b[0m \n",
       "       \u001b[38;5;8m-4\u001b[0m                 \u001b[38;5;8m\u001b[0m                    \u001b[38;5;8m5\u001b[0m  "
      ]
     },
     "execution_count": 17,
     "metadata": {},
     "output_type": "execute_result"
    }
   ],
   "source": [
    "# 2 dimension histogram\n",
    "histogram2d(randn(100000), randn(100000))"
   ]
  },
  {
   "cell_type": "code",
   "execution_count": 18,
   "id": "85396ee3-707c-487b-8d23-0b8af36008b0",
   "metadata": {},
   "outputs": [
    {
     "data": {
      "text/plain": [
       "     \u001b[38;5;8m+----------------------------------------+\u001b[0m   \n",
       "   \u001b[38;5;8m3\u001b[0m \u001b[38;5;8m|\u001b[0m                           \u001b[38;5;0m/\u001b[0m\u001b[38;5;0m\"\u001b[0m\u001b[38;5;0m\"\u001b[0m\u001b[38;5;0m\"\u001b[0m\u001b[38;5;0m\"\u001b[0m\u001b[38;5;33m⚬\u001b[0m\u001b[38;5;0m\"\u001b[0m\u001b[38;5;0m\"\u001b[0m\u001b[38;5;0m\"\u001b[0m\u001b[38;5;0m\"\u001b[0m\u001b[38;5;0m|\u001b[0m  \u001b[38;5;8m|\u001b[0m \u001b[38;5;0my1\u001b[0m\n",
       "    \u001b[38;5;8m\u001b[0m \u001b[38;5;8m|\u001b[0m                           \u001b[38;5;0m|\u001b[0m         \u001b[38;5;0m|\u001b[0m  \u001b[38;5;8m|\u001b[0m \u001b[38;5;33my1\u001b[0m\n",
       "    \u001b[38;5;8m\u001b[0m \u001b[38;5;8m|\u001b[0m                           \u001b[38;5;0m|\u001b[0m         \u001b[38;5;0m|\u001b[0m  \u001b[38;5;8m|\u001b[0m \u001b[38;5;8m\u001b[0m  \n",
       "    \u001b[38;5;8m\u001b[0m \u001b[38;5;8m|\u001b[0m                           \u001b[38;5;0m|\u001b[0m         \u001b[38;5;0m|\u001b[0m  \u001b[38;5;8m|\u001b[0m \u001b[38;5;8m\u001b[0m  \n",
       "    \u001b[38;5;8m\u001b[0m \u001b[38;5;8m|\u001b[0m                           \u001b[38;5;0m|\u001b[0m         \u001b[38;5;0m|\u001b[0m  \u001b[38;5;8m|\u001b[0m \u001b[38;5;8m\u001b[0m  \n",
       "    \u001b[38;5;8m\u001b[0m \u001b[38;5;8m|\u001b[0m              \u001b[38;5;0m|\u001b[0m\u001b[38;5;0m\"\u001b[0m\u001b[38;5;0m\"\u001b[0m\u001b[38;5;0m\"\u001b[0m\u001b[38;5;0m\"\u001b[0m\u001b[38;5;0m\"\u001b[0m\u001b[38;5;33m⚬\u001b[0m\u001b[38;5;0m\"\u001b[0m\u001b[38;5;0m\"\u001b[0m\u001b[38;5;0m\"\u001b[0m\u001b[38;5;0m\"\u001b[0m\u001b[38;5;0m|\u001b[0m \u001b[38;5;0m|\u001b[0m         \u001b[38;5;0m|\u001b[0m  \u001b[38;5;8m|\u001b[0m \u001b[38;5;8m\u001b[0m  \n",
       "    \u001b[38;5;8m\u001b[0m \u001b[38;5;8m|\u001b[0m              \u001b[38;5;0m|\u001b[0m          \u001b[38;5;0m|\u001b[0m \u001b[38;5;0m|\u001b[0m         \u001b[38;5;0m|\u001b[0m  \u001b[38;5;8m|\u001b[0m \u001b[38;5;8m\u001b[0m  \n",
       "    \u001b[38;5;8m\u001b[0m \u001b[38;5;8m|\u001b[0m              \u001b[38;5;0m|\u001b[0m          \u001b[38;5;0m|\u001b[0m \u001b[38;5;0m|\u001b[0m         \u001b[38;5;0m|\u001b[0m  \u001b[38;5;8m|\u001b[0m \u001b[38;5;8m\u001b[0m  \n",
       "    \u001b[38;5;8m\u001b[0m \u001b[38;5;8m|\u001b[0m              \u001b[38;5;0m|\u001b[0m          \u001b[38;5;0m|\u001b[0m \u001b[38;5;0m|\u001b[0m         \u001b[38;5;0m|\u001b[0m  \u001b[38;5;8m|\u001b[0m \u001b[38;5;8m\u001b[0m  \n",
       "    \u001b[38;5;8m\u001b[0m \u001b[38;5;8m|\u001b[0m              \u001b[38;5;0m|\u001b[0m          \u001b[38;5;0m|\u001b[0m \u001b[38;5;0m|\u001b[0m         \u001b[38;5;0m|\u001b[0m  \u001b[38;5;8m|\u001b[0m \u001b[38;5;8m\u001b[0m  \n",
       "    \u001b[38;5;8m\u001b[0m \u001b[38;5;8m|\u001b[0m  \u001b[38;5;0m|\u001b[0m\u001b[38;5;0m\"\u001b[0m\u001b[38;5;0m\"\u001b[0m\u001b[38;5;0m\"\u001b[0m\u001b[38;5;0m\"\u001b[0m\u001b[38;5;33m⚬\u001b[0m\u001b[38;5;0m\"\u001b[0m\u001b[38;5;0m\"\u001b[0m\u001b[38;5;0m\"\u001b[0m\u001b[38;5;0m\"\u001b[0m\u001b[38;5;0m\\\u001b[0m \u001b[38;5;0m|\u001b[0m          \u001b[38;5;0m|\u001b[0m \u001b[38;5;0m|\u001b[0m         \u001b[38;5;0m|\u001b[0m  \u001b[38;5;8m|\u001b[0m \u001b[38;5;8m\u001b[0m  \n",
       "    \u001b[38;5;8m\u001b[0m \u001b[38;5;8m|\u001b[0m  \u001b[38;5;0m|\u001b[0m         \u001b[38;5;0m|\u001b[0m \u001b[38;5;0m|\u001b[0m          \u001b[38;5;0m|\u001b[0m \u001b[38;5;0m|\u001b[0m         \u001b[38;5;0m|\u001b[0m  \u001b[38;5;8m|\u001b[0m \u001b[38;5;8m\u001b[0m  \n",
       "    \u001b[38;5;8m\u001b[0m \u001b[38;5;8m|\u001b[0m  \u001b[38;5;0m|\u001b[0m         \u001b[38;5;0m|\u001b[0m \u001b[38;5;0m|\u001b[0m          \u001b[38;5;0m|\u001b[0m \u001b[38;5;0m|\u001b[0m         \u001b[38;5;0m|\u001b[0m  \u001b[38;5;8m|\u001b[0m \u001b[38;5;8m\u001b[0m  \n",
       "    \u001b[38;5;8m\u001b[0m \u001b[38;5;8m|\u001b[0m  \u001b[38;5;0m|\u001b[0m         \u001b[38;5;0m|\u001b[0m \u001b[38;5;0m|\u001b[0m          \u001b[38;5;0m|\u001b[0m \u001b[38;5;0m|\u001b[0m         \u001b[38;5;0m|\u001b[0m  \u001b[38;5;8m|\u001b[0m \u001b[38;5;8m\u001b[0m  \n",
       "   \u001b[38;5;8m0\u001b[0m \u001b[38;5;8m|\u001b[0m  \u001b[38;5;0mL\u001b[0m\u001b[38;5;0m_\u001b[0m\u001b[38;5;0m_\u001b[0m\u001b[38;5;0m_\u001b[0m\u001b[38;5;0m_\u001b[0m\u001b[38;5;0m_\u001b[0m\u001b[38;5;0m_\u001b[0m\u001b[38;5;0m_\u001b[0m\u001b[38;5;0m_\u001b[0m\u001b[38;5;0m_\u001b[0m\u001b[38;5;0m|\u001b[0m \u001b[38;5;0m|\u001b[0m\u001b[38;5;0m_\u001b[0m\u001b[38;5;0m_\u001b[0m\u001b[38;5;0m_\u001b[0m\u001b[38;5;0m_\u001b[0m\u001b[38;5;0m_\u001b[0m\u001b[38;5;0m_\u001b[0m\u001b[38;5;0m_\u001b[0m\u001b[38;5;0m_\u001b[0m\u001b[38;5;0m_\u001b[0m\u001b[38;5;0m_\u001b[0m\u001b[38;5;0m|\u001b[0m \u001b[38;5;0m|\u001b[0m\u001b[38;5;0m_\u001b[0m\u001b[38;5;0m_\u001b[0m\u001b[38;5;0m_\u001b[0m\u001b[38;5;0m_\u001b[0m\u001b[38;5;0m_\u001b[0m\u001b[38;5;0m_\u001b[0m\u001b[38;5;0m_\u001b[0m\u001b[38;5;0m_\u001b[0m\u001b[38;5;0m_\u001b[0m\u001b[38;5;0m_\u001b[0m  \u001b[38;5;8m|\u001b[0m \u001b[38;5;8m\u001b[0m  \n",
       "     \u001b[38;5;8m+----------------------------------------+\u001b[0m   \n",
       "      \u001b[38;5;8m0.42696\u001b[0m            \u001b[38;5;8m\u001b[0m              \u001b[38;5;8m3.57304\u001b[0m    "
      ]
     },
     "execution_count": 18,
     "metadata": {},
     "output_type": "execute_result"
    }
   ],
   "source": [
    "# create bar graph\n",
    "bar([1,2,3])"
   ]
  },
  {
   "cell_type": "code",
   "execution_count": 19,
   "id": "86b15bc4-3806-4daf-bae8-1e82b7ad3283",
   "metadata": {},
   "outputs": [
    {
     "data": {
      "text/plain": [
       "            \u001b[38;5;8m+----------------------------------------+\u001b[0m   \n",
       "   \u001b[38;5;8m0.893353\u001b[0m \u001b[38;5;8m|\u001b[0m|        \u001b[38;5;0m/\u001b[0m\u001b[38;5;33m⚬\u001b[0m\u001b[38;5;0m\"\u001b[0m\u001b[38;5;0m\\\u001b[0m                           \u001b[38;5;8m|\u001b[0m \u001b[38;5;0my1\u001b[0m\n",
       "           \u001b[38;5;8m\u001b[0m \u001b[38;5;8m|\u001b[0m|    \u001b[38;5;0m,\u001b[0m\u001b[38;5;0m-\u001b[0m\u001b[38;5;33m⚬\u001b[0m\u001b[38;5;0m-\u001b[0m\u001b[38;5;0m|\u001b[0m  \u001b[38;5;0m|\u001b[0m                           \u001b[38;5;8m|\u001b[0m \u001b[38;5;33my1\u001b[0m\n",
       "           \u001b[38;5;8m\u001b[0m \u001b[38;5;8m|\u001b[0m|    \u001b[38;5;0m|\u001b[0m  \u001b[38;5;0m|\u001b[0m\u001b[38;5;0m|\u001b[0m  \u001b[38;5;0m|\u001b[0m          \u001b[38;5;0m.\u001b[0m\u001b[38;5;0m_\u001b[0m\u001b[38;5;33m⚬\u001b[0m\u001b[38;5;0m_\u001b[0m             \u001b[38;5;8m|\u001b[0m \u001b[38;5;8m\u001b[0m  \n",
       "           \u001b[38;5;8m\u001b[0m \u001b[38;5;8m|\u001b[0m|    \u001b[38;5;0m|\u001b[0m  \u001b[38;5;0m|\u001b[0m\u001b[38;5;0m|\u001b[0m  \u001b[38;5;0m|\u001b[0m          \u001b[38;5;0m|\u001b[0m  \u001b[38;5;0m|\u001b[0m             \u001b[38;5;8m|\u001b[0m \u001b[38;5;8m\u001b[0m  \n",
       "           \u001b[38;5;8m\u001b[0m \u001b[38;5;8m|\u001b[0m|    \u001b[38;5;0m|\u001b[0m  \u001b[38;5;0m|\u001b[0m\u001b[38;5;0m|\u001b[0m  \u001b[38;5;0m|\u001b[0m          \u001b[38;5;0m|\u001b[0m  \u001b[38;5;0m|\u001b[0m             \u001b[38;5;8m|\u001b[0m \u001b[38;5;8m\u001b[0m  \n",
       "           \u001b[38;5;8m\u001b[0m \u001b[38;5;8m|\u001b[0m|    \u001b[38;5;0m|\u001b[0m  \u001b[38;5;0m|\u001b[0m\u001b[38;5;0m|\u001b[0m  \u001b[38;5;0m|\u001b[0m   \u001b[38;5;0m,\u001b[0m\u001b[38;5;0m-\u001b[0m\u001b[38;5;33m⚬\u001b[0m\u001b[38;5;0m,\u001b[0m   \u001b[38;5;0m|\u001b[0m  \u001b[38;5;0m|\u001b[0m             \u001b[38;5;8m|\u001b[0m \u001b[38;5;8m\u001b[0m  \n",
       "           \u001b[38;5;8m\u001b[0m \u001b[38;5;8m|\u001b[0m| \u001b[38;5;0m|\u001b[0m\u001b[38;5;33m⚬\u001b[0m\u001b[38;5;0m\"\u001b[0m\u001b[38;5;0m|\u001b[0m  \u001b[38;5;0m|\u001b[0m\u001b[38;5;0m|\u001b[0m  \u001b[38;5;0m|\u001b[0m   \u001b[38;5;0m|\u001b[0m  \u001b[38;5;0m|\u001b[0m   \u001b[38;5;0m|\u001b[0m  \u001b[38;5;0m|\u001b[0m             \u001b[38;5;8m|\u001b[0m \u001b[38;5;8m\u001b[0m  \n",
       "           \u001b[38;5;8m\u001b[0m \u001b[38;5;8m|\u001b[0m| \u001b[38;5;0m|\u001b[0m  \u001b[38;5;0m|\u001b[0m  \u001b[38;5;0m|\u001b[0m\u001b[38;5;0m|\u001b[0m  \u001b[38;5;0m|\u001b[0m   \u001b[38;5;0m|\u001b[0m  \u001b[38;5;0m|\u001b[0m   \u001b[38;5;0m|\u001b[0m  \u001b[38;5;0m|\u001b[0m             \u001b[38;5;8m|\u001b[0m \u001b[38;5;8m\u001b[0m  \n",
       "           \u001b[38;5;8m\u001b[0m \u001b[38;5;8m|\u001b[0m| \u001b[38;5;0m|\u001b[0m  \u001b[38;5;0m|\u001b[0m  \u001b[38;5;0m|\u001b[0m\u001b[38;5;0m|\u001b[0m  \u001b[38;5;0m|\u001b[0m\u001b[38;5;0m_\u001b[0m\u001b[38;5;33m⚬\u001b[0m\u001b[38;5;0m_\u001b[0m\u001b[38;5;0m|\u001b[0m  \u001b[38;5;0m|\u001b[0m\u001b[38;5;0m/\u001b[0m\u001b[38;5;33m⚬\u001b[0m\u001b[38;5;0m\"\u001b[0m\u001b[38;5;0m|\u001b[0m  \u001b[38;5;0m|\u001b[0m             \u001b[38;5;8m|\u001b[0m \u001b[38;5;8m\u001b[0m  \n",
       "           \u001b[38;5;8m\u001b[0m \u001b[38;5;8m|\u001b[0m| \u001b[38;5;0m|\u001b[0m  \u001b[38;5;0m|\u001b[0m  \u001b[38;5;0m|\u001b[0m\u001b[38;5;0m|\u001b[0m  \u001b[38;5;0m|\u001b[0m\u001b[38;5;0m|\u001b[0m  \u001b[38;5;0m|\u001b[0m  \u001b[38;5;0m|\u001b[0m\u001b[38;5;0m|\u001b[0m  \u001b[38;5;0m|\u001b[0m  \u001b[38;5;0m|\u001b[0m\u001b[38;5;0m.\u001b[0m\u001b[38;5;0m_\u001b[0m\u001b[38;5;33m⚬\u001b[0m\u001b[38;5;0m.\u001b[0m   \u001b[38;5;0m,\u001b[0m\u001b[38;5;0m-\u001b[0m\u001b[38;5;33m⚬\u001b[0m\u001b[38;5;0m-\u001b[0m  \u001b[38;5;8m|\u001b[0m \u001b[38;5;8m\u001b[0m  \n",
       "           \u001b[38;5;8m\u001b[0m \u001b[38;5;8m|\u001b[0m| \u001b[38;5;0m|\u001b[0m  \u001b[38;5;0m|\u001b[0m  \u001b[38;5;0m|\u001b[0m\u001b[38;5;0m|\u001b[0m  \u001b[38;5;0m|\u001b[0m\u001b[38;5;0m|\u001b[0m  \u001b[38;5;0m|\u001b[0m  \u001b[38;5;0m|\u001b[0m\u001b[38;5;0m|\u001b[0m  \u001b[38;5;0m|\u001b[0m  \u001b[38;5;0m|\u001b[0m\u001b[38;5;0m|\u001b[0m  \u001b[38;5;0m|\u001b[0m   \u001b[38;5;0m|\u001b[0m  \u001b[38;5;0m|\u001b[0m  \u001b[38;5;8m|\u001b[0m \u001b[38;5;8m\u001b[0m  \n",
       "           \u001b[38;5;8m\u001b[0m \u001b[38;5;8m|\u001b[0m| \u001b[38;5;0m|\u001b[0m  \u001b[38;5;0m|\u001b[0m  \u001b[38;5;0m|\u001b[0m\u001b[38;5;0m|\u001b[0m  \u001b[38;5;0m|\u001b[0m\u001b[38;5;0m|\u001b[0m  \u001b[38;5;0m|\u001b[0m  \u001b[38;5;0m|\u001b[0m\u001b[38;5;0m|\u001b[0m  \u001b[38;5;0m|\u001b[0m  \u001b[38;5;0m|\u001b[0m\u001b[38;5;0m|\u001b[0m  \u001b[38;5;0m|\u001b[0m   \u001b[38;5;0m|\u001b[0m  \u001b[38;5;0m|\u001b[0m  \u001b[38;5;8m|\u001b[0m \u001b[38;5;8m\u001b[0m  \n",
       "           \u001b[38;5;8m\u001b[0m \u001b[38;5;8m|\u001b[0m| \u001b[38;5;0m|\u001b[0m  \u001b[38;5;0m|\u001b[0m  \u001b[38;5;0m|\u001b[0m\u001b[38;5;0m|\u001b[0m  \u001b[38;5;0m|\u001b[0m\u001b[38;5;0m|\u001b[0m  \u001b[38;5;0m|\u001b[0m  \u001b[38;5;0m|\u001b[0m\u001b[38;5;0m|\u001b[0m  \u001b[38;5;0m|\u001b[0m  \u001b[38;5;0m|\u001b[0m\u001b[38;5;0m|\u001b[0m  \u001b[38;5;0m|\u001b[0m   \u001b[38;5;0m|\u001b[0m  \u001b[38;5;0m|\u001b[0m  \u001b[38;5;8m|\u001b[0m \u001b[38;5;8m\u001b[0m  \n",
       "           \u001b[38;5;8m\u001b[0m \u001b[38;5;8m|\u001b[0m| \u001b[38;5;0m|\u001b[0m  \u001b[38;5;0m|\u001b[0m  \u001b[38;5;0m|\u001b[0m\u001b[38;5;0m|\u001b[0m  \u001b[38;5;0m|\u001b[0m\u001b[38;5;0m|\u001b[0m  \u001b[38;5;0m|\u001b[0m  \u001b[38;5;0m|\u001b[0m\u001b[38;5;0m|\u001b[0m  \u001b[38;5;0m|\u001b[0m  \u001b[38;5;0m|\u001b[0m\u001b[38;5;0m|\u001b[0m  \u001b[38;5;0m|\u001b[0m   \u001b[38;5;0m|\u001b[0m  \u001b[38;5;0m|\u001b[0m  \u001b[38;5;8m|\u001b[0m \u001b[38;5;8m\u001b[0m  \n",
       "          \u001b[38;5;8m0\u001b[0m \u001b[38;5;8m|\u001b[0m| \u001b[38;5;0mL\u001b[0m\u001b[38;5;0m_\u001b[0m\u001b[38;5;0m_\u001b[0m\u001b[38;5;0m|\u001b[0m\u001b[38;5;0m_\u001b[0m\u001b[38;5;0m_\u001b[0m\u001b[38;5;0m_\u001b[0m\u001b[38;5;0m|\u001b[0m\u001b[38;5;0m_\u001b[0m\u001b[38;5;0m_\u001b[0m\u001b[38;5;0m|\u001b[0m\u001b[38;5;0mL\u001b[0m\u001b[38;5;0m_\u001b[0m\u001b[38;5;0m_\u001b[0m\u001b[38;5;0m|\u001b[0m\u001b[38;5;0m_\u001b[0m\u001b[38;5;0m_\u001b[0m\u001b[38;5;0m|\u001b[0m\u001b[38;5;0m|\u001b[0m\u001b[38;5;0m_\u001b[0m\u001b[38;5;0m_\u001b[0m\u001b[38;5;0m|\u001b[0m\u001b[38;5;0m_\u001b[0m\u001b[38;5;0m_\u001b[0m\u001b[38;5;0m_\u001b[0m\u001b[38;5;0m|\u001b[0m\u001b[38;5;0m_\u001b[0m\u001b[38;5;0m_\u001b[0m\u001b[38;5;0m|\u001b[0m\u001b[38;5;0mr\u001b[0m\u001b[38;5;33m⚬\u001b[0m\u001b[38;5;0mr\u001b[0m\u001b[38;5;0m|\u001b[0m\u001b[38;5;0m_\u001b[0m\u001b[38;5;0m_\u001b[0m\u001b[38;5;0m_\u001b[0m  \u001b[38;5;8m|\u001b[0m \u001b[38;5;8m\u001b[0m  \n",
       "            \u001b[38;5;8m+----------------------------------------+\u001b[0m   \n",
       "             \u001b[38;5;8m-0.00564\u001b[0m           \u001b[38;5;8m\u001b[0m              \u001b[38;5;8m11.0056\u001b[0m    "
      ]
     },
     "execution_count": 19,
     "metadata": {},
     "output_type": "execute_result"
    }
   ],
   "source": [
    "bar(rand(10))"
   ]
  },
  {
   "cell_type": "code",
   "execution_count": 20,
   "id": "0199404f-7388-4bed-aeb6-7bbf09d39699",
   "metadata": {},
   "outputs": [
    {
     "data": {
      "text/plain": [
       "         \u001b[38;5;8m+----------------------------------------+\u001b[0m  \n",
       "    \u001b[38;5;8m1.06\u001b[0m \u001b[38;5;8m|\u001b[0m            \u001b[38;5;0m.\u001b[0m\u001b[38;5;0m_\u001b[0m\u001b[38;5;0m_\u001b[0m\u001b[38;5;0m-\u001b[0m\u001b[38;5;0m-\u001b[0m\u001b[38;5;0m-\u001b[0m\u001b[38;5;0m-\u001b[0m\u001b[38;5;0m-\u001b[0m\u001b[38;5;0m-\u001b[0m\u001b[38;5;0m-\u001b[0m\u001b[38;5;0m-\u001b[0m\u001b[38;5;0m-\u001b[0m\u001b[38;5;0m-\u001b[0m\u001b[38;5;0m_\u001b[0m\u001b[38;5;0m_\u001b[0m\u001b[38;5;0m.\u001b[0m            \u001b[38;5;8m|\u001b[0m \u001b[38;5;0m1\u001b[0m\n",
       "        \u001b[38;5;8m\u001b[0m \u001b[38;5;8m|\u001b[0m        \u001b[38;5;0m.\u001b[0m\u001b[38;5;0mr\u001b[0m\u001b[38;5;0m*\u001b[0m\u001b[38;5;0m\"\u001b[0m\u001b[38;5;0m'\u001b[0m      |    \u001b[38;5;0m,\u001b[0m\u001b[38;5;0m`\u001b[0m \u001b[38;5;0m'\u001b[0m\u001b[38;5;0m\"\u001b[0m\u001b[38;5;0m-\u001b[0m\u001b[38;5;0m.\u001b[0m\u001b[38;5;0m_\u001b[0m        \u001b[38;5;8m|\u001b[0m \u001b[38;5;0m2\u001b[0m\n",
       "        \u001b[38;5;8m\u001b[0m \u001b[38;5;8m|\u001b[0m     \u001b[38;5;0m.\u001b[0m\u001b[38;5;0mr\u001b[0m\u001b[38;5;0m\"\u001b[0m\u001b[38;5;0m`\u001b[0m          |   \u001b[38;5;0m.\u001b[0m\u001b[38;5;0m/\u001b[0m       \u001b[38;5;0m\"\u001b[0m\u001b[38;5;0m.\u001b[0m\u001b[38;5;0m.\u001b[0m     \u001b[38;5;8m|\u001b[0m \u001b[38;5;0m3\u001b[0m\n",
       "        \u001b[38;5;8m\u001b[0m \u001b[38;5;8m|\u001b[0m   \u001b[38;5;0m.\u001b[0m\u001b[38;5;0m*\u001b[0m\u001b[38;5;0m`\u001b[0m             |   \u001b[38;5;0m,\u001b[0m          \u001b[38;5;0m\"\u001b[0m\u001b[38;5;0m\\\u001b[0m\u001b[38;5;0m.\u001b[0m   \u001b[38;5;8m|\u001b[0m \u001b[38;5;0m4\u001b[0m\n",
       "        \u001b[38;5;8m\u001b[0m \u001b[38;5;8m|\u001b[0m  \u001b[38;5;0m,\u001b[0m\u001b[38;5;0m_\u001b[0m               |  \u001b[38;5;0m/\u001b[0m             \u001b[38;5;0m'\u001b[0m\u001b[38;5;0m.\u001b[0m  \u001b[38;5;8m|\u001b[0m \u001b[38;5;0m5\u001b[0m\n",
       "        \u001b[38;5;8m\u001b[0m \u001b[38;5;8m|\u001b[0m \u001b[38;5;0m,\u001b[0m\u001b[38;5;0m`\u001b[0m \u001b[38;5;0m\"\u001b[0m\u001b[38;5;0m\"\u001b[0m\u001b[38;5;0m*\u001b[0m\u001b[38;5;0m-\u001b[0m\u001b[38;5;0m.\u001b[0m\u001b[38;5;0m_\u001b[0m\u001b[38;5;0m.\u001b[0m        | \u001b[38;5;0m/\u001b[0m               \u001b[38;5;0m|\u001b[0m\u001b[38;5;0m,\u001b[0m \u001b[38;5;8m|\u001b[0m \u001b[38;5;8m\u001b[0m \n",
       "        \u001b[38;5;8m\u001b[0m \u001b[38;5;8m|\u001b[0m \u001b[38;5;0m,\u001b[0m        \u001b[38;5;0m'\u001b[0m\u001b[38;5;0m\"\u001b[0m\u001b[38;5;0m*\u001b[0m\u001b[38;5;0m-\u001b[0m\u001b[38;5;0m.\u001b[0m\u001b[38;5;0m_\u001b[0m\u001b[38;5;0m.\u001b[0m  |\u001b[38;5;0m.\u001b[0m\u001b[38;5;0m`\u001b[0m                \u001b[38;5;0m,\u001b[0m \u001b[38;5;8m|\u001b[0m \u001b[38;5;8m\u001b[0m \n",
       "        \u001b[38;5;8m\u001b[0m \u001b[38;5;8m|\u001b[0m-\u001b[38;5;0mr\u001b[0m--------------\u001b[38;5;0m-\u001b[0m\u001b[38;5;0m-\u001b[0m\u001b[38;5;0m-\u001b[0m\u001b[38;5;0mr\u001b[0m\u001b[38;5;0m\\\u001b[0m\u001b[38;5;0mr\u001b[0m\u001b[38;5;0m-\u001b[0m\u001b[38;5;0m-\u001b[0m\u001b[38;5;0m-\u001b[0m\u001b[38;5;0m-\u001b[0m\u001b[38;5;0m-\u001b[0m\u001b[38;5;0m-\u001b[0m\u001b[38;5;0m-\u001b[0m\u001b[38;5;0m-\u001b[0m\u001b[38;5;0m-\u001b[0m\u001b[38;5;0m-\u001b[0m\u001b[38;5;0m-\u001b[0m\u001b[38;5;0m-\u001b[0m\u001b[38;5;0m-\u001b[0m\u001b[38;5;0m-\u001b[0m\u001b[38;5;0m-\u001b[0m\u001b[38;5;0m-\u001b[0m\u001b[38;5;0m-\u001b[0m-\u001b[38;5;8m|\u001b[0m \u001b[38;5;8m\u001b[0m \n",
       "        \u001b[38;5;8m\u001b[0m \u001b[38;5;8m|\u001b[0m \u001b[38;5;0m.\u001b[0m              \u001b[38;5;0m_\u001b[0m\u001b[38;5;0m*\u001b[0m\u001b[38;5;0m'\u001b[0m| \u001b[38;5;0m\"\u001b[0m\u001b[38;5;0m\"\u001b[0m\u001b[38;5;0m-\u001b[0m\u001b[38;5;0m_\u001b[0m\u001b[38;5;0m.\u001b[0m            \u001b[38;5;0m/\u001b[0m \u001b[38;5;8m|\u001b[0m \u001b[38;5;8m\u001b[0m \n",
       "        \u001b[38;5;8m\u001b[0m \u001b[38;5;8m|\u001b[0m \u001b[38;5;0m\\\u001b[0m\u001b[38;5;0m.\u001b[0m          \u001b[38;5;0m.\u001b[0m\u001b[38;5;0mr\u001b[0m\u001b[38;5;0m\"\u001b[0m   |     \u001b[38;5;0m'\u001b[0m\u001b[38;5;0m\\\u001b[0m\u001b[38;5;0m.\u001b[0m\u001b[38;5;0m_\u001b[0m        \u001b[38;5;0m,\u001b[0m\u001b[38;5;0m/\u001b[0m \u001b[38;5;8m|\u001b[0m \u001b[38;5;8m\u001b[0m \n",
       "        \u001b[38;5;8m\u001b[0m \u001b[38;5;8m|\u001b[0m  \u001b[38;5;0m\\\u001b[0m\u001b[38;5;0m,\u001b[0m       \u001b[38;5;0m.\u001b[0m\u001b[38;5;0m*\u001b[0m\u001b[38;5;0m`\u001b[0m     |         \u001b[38;5;0m\"\u001b[0m\u001b[38;5;0m*\u001b[0m\u001b[38;5;0m.\u001b[0m\u001b[38;5;0m.\u001b[0m   \u001b[38;5;0m,\u001b[0m\u001b[38;5;0m/\u001b[0m  \u001b[38;5;8m|\u001b[0m \u001b[38;5;8m\u001b[0m \n",
       "        \u001b[38;5;8m\u001b[0m \u001b[38;5;8m|\u001b[0m   \u001b[38;5;0m\"\u001b[0m\u001b[38;5;0m\\\u001b[0m\u001b[38;5;0m.\u001b[0m  \u001b[38;5;0m.\u001b[0m\u001b[38;5;0mr\u001b[0m\u001b[38;5;0m\"\u001b[0m        |            \u001b[38;5;0m\"\u001b[0m\u001b[38;5;0m\\\u001b[0m\u001b[38;5;0m-\u001b[0m\u001b[38;5;0m/\u001b[0m\u001b[38;5;0m`\u001b[0m   \u001b[38;5;8m|\u001b[0m \u001b[38;5;8m\u001b[0m \n",
       "        \u001b[38;5;8m\u001b[0m \u001b[38;5;8m|\u001b[0m     \u001b[38;5;0m\"\u001b[0m\u001b[38;5;0m-\u001b[0m\u001b[38;5;0m/\u001b[0m\u001b[38;5;0m`\u001b[0m          |           \u001b[38;5;0m.\u001b[0m\u001b[38;5;0m.\u001b[0m\u001b[38;5;0m*\u001b[0m\u001b[38;5;0m'\u001b[0m     \u001b[38;5;8m|\u001b[0m \u001b[38;5;8m\u001b[0m \n",
       "        \u001b[38;5;8m\u001b[0m \u001b[38;5;8m|\u001b[0m        \u001b[38;5;0m\"\u001b[0m\u001b[38;5;0m*\u001b[0m\u001b[38;5;0m.\u001b[0m\u001b[38;5;0m_\u001b[0m\u001b[38;5;0m.\u001b[0m      |       \u001b[38;5;0m.\u001b[0m\u001b[38;5;0m_\u001b[0m\u001b[38;5;0mr\u001b[0m\u001b[38;5;0m*\u001b[0m\u001b[38;5;0m'\u001b[0m        \u001b[38;5;8m|\u001b[0m \u001b[38;5;8m\u001b[0m \n",
       "   \u001b[38;5;8m-1.06\u001b[0m \u001b[38;5;8m|\u001b[0m            \u001b[38;5;0m\"\u001b[0m\u001b[38;5;0m\"\u001b[0m\u001b[38;5;0m\"\u001b[0m\u001b[38;5;0m-\u001b[0m\u001b[38;5;0m-\u001b[0m\u001b[38;5;0m-\u001b[0m\u001b[38;5;0m-\u001b[0m\u001b[38;5;0m-\u001b[0m\u001b[38;5;0m-\u001b[0m\u001b[38;5;0m-\u001b[0m\u001b[38;5;0m-\u001b[0m\u001b[38;5;0m-\u001b[0m\u001b[38;5;0m*\u001b[0m\u001b[38;5;0m\"\u001b[0m\u001b[38;5;0m\"\u001b[0m\u001b[38;5;0m'\u001b[0m            \u001b[38;5;8m|\u001b[0m \u001b[38;5;8m\u001b[0m \n",
       "         \u001b[38;5;8m+----------------------------------------+\u001b[0m  \n",
       "          \u001b[38;5;8m-1.05998\u001b[0m           \u001b[38;5;8m\u001b[0m                 \u001b[38;5;8m1.06\u001b[0m   "
      ]
     },
     "execution_count": 20,
     "metadata": {},
     "output_type": "execute_result"
    }
   ],
   "source": [
    "# pie chart\n",
    "pie(rand(5))"
   ]
  },
  {
   "cell_type": "code",
   "execution_count": null,
   "id": "f8ee9fb4-4571-43d1-a0e5-3a0739f46d8b",
   "metadata": {},
   "outputs": [],
   "source": [
    "# change the format to unicodeplot format"
   ]
  }
 ],
 "metadata": {
  "kernelspec": {
   "display_name": "Julia 1.9.1",
   "language": "julia",
   "name": "julia-1.9"
  },
  "language_info": {
   "file_extension": ".jl",
   "mimetype": "application/julia",
   "name": "julia",
   "version": "1.9.1"
  }
 },
 "nbformat": 4,
 "nbformat_minor": 5
}
