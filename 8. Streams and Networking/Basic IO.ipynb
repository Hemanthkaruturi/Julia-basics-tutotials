{
 "cells": [
  {
   "cell_type": "code",
   "execution_count": 1,
   "id": "97ae1dea-f4f1-4412-8257-cbeefa47966a",
   "metadata": {},
   "outputs": [
    {
     "ename": "LoadError",
     "evalue": "EOFError: read end of file",
     "output_type": "error",
     "traceback": [
      "EOFError: read end of file",
      "",
      "Stacktrace:",
      " [1] read(this::Base.PipeEndpoint, #unused#::Type{UInt8})",
      "   @ Base .\\stream.jl:980",
      " [2] read",
      "   @ .\\io.jl:440 [inlined]",
      " [3] read(io::IJulia.IJuliaStdio{Base.PipeEndpoint}, #unused#::Type{Char})",
      "   @ Base .\\io.jl:789",
      " [4] top-level scope",
      "   @ In[1]:1"
     ]
    }
   ],
   "source": [
    "read(stdin, Char) # This only works in terminal"
   ]
  },
  {
   "cell_type": "code",
   "execution_count": 2,
   "id": "9eab9aa9-5041-4915-a1fc-964c8e4dd45e",
   "metadata": {},
   "outputs": [
    {
     "data": {
      "text/plain": [
       "\"\""
      ]
     },
     "execution_count": 2,
     "metadata": {},
     "output_type": "execute_result"
    }
   ],
   "source": [
    "read(stdin, String)"
   ]
  },
  {
   "cell_type": "code",
   "execution_count": 3,
   "id": "51244230-e7e4-4be5-a82b-b887b8240ef9",
   "metadata": {},
   "outputs": [
    {
     "name": "stdout",
     "output_type": "stream",
     "text": [
      "Julia is cool"
     ]
    },
    {
     "data": {
      "text/plain": [
       "13"
      ]
     },
     "execution_count": 3,
     "metadata": {},
     "output_type": "execute_result"
    }
   ],
   "source": [
    "write(stdout, \"Julia is cool\")"
   ]
  },
  {
   "cell_type": "code",
   "execution_count": 4,
   "id": "a7b13de1-9349-44f4-85cf-98f69b09059a",
   "metadata": {},
   "outputs": [
    {
     "name": "stdout",
     "output_type": "stream",
     "text": [
      "Julia is cool"
     ]
    }
   ],
   "source": [
    "write(stdout, \"Julia is cool\");"
   ]
  },
  {
   "cell_type": "code",
   "execution_count": 5,
   "id": "66b60139-2247-4c5d-ae47-36303e290303",
   "metadata": {},
   "outputs": [
    {
     "name": "stdin",
     "output_type": "stream",
     "text": [
      "stdin>  This works in Jupyter\n"
     ]
    },
    {
     "data": {
      "text/plain": [
       "\"This works in Jupyter\""
      ]
     },
     "execution_count": 5,
     "metadata": {},
     "output_type": "execute_result"
    }
   ],
   "source": [
    "readline(stdin)"
   ]
  },
  {
   "cell_type": "code",
   "execution_count": 6,
   "id": "77d874eb-17bc-43be-a62d-6fdb13863699",
   "metadata": {},
   "outputs": [],
   "source": [
    "# this is working in command line\n",
    "# read multiple lines\n",
    "for line in eachline(stdin)\n",
    "    if line == \"exit\" break end\n",
    "    println(\"You types >>> $line\")\n",
    "end"
   ]
  },
  {
   "cell_type": "code",
   "execution_count": 7,
   "id": "a71423bd-20bf-4c14-840d-5aff3405ad05",
   "metadata": {},
   "outputs": [],
   "source": [
    "# this is working in command line\n",
    "while !eof(stdin)\n",
    "    c = read(stdin, Char)\n",
    "    if c ∈ ['q','Q'] break end\n",
    "    println(\"Types >>> $c\")\n",
    "end"
   ]
  },
  {
   "cell_type": "code",
   "execution_count": null,
   "id": "255396c3-d557-4483-9536-7d4d299e9e08",
   "metadata": {},
   "outputs": [],
   "source": []
  }
 ],
 "metadata": {
  "kernelspec": {
   "display_name": "Julia 1.9.1",
   "language": "julia",
   "name": "julia-1.9"
  },
  "language_info": {
   "file_extension": ".jl",
   "mimetype": "application/julia",
   "name": "julia",
   "version": "1.9.1"
  }
 },
 "nbformat": 4,
 "nbformat_minor": 5
}
