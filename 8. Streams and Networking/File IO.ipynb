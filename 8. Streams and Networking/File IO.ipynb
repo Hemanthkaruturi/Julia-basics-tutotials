{
 "cells": [
  {
   "cell_type": "code",
   "execution_count": 2,
   "id": "bf2744b4-bdeb-4cec-978b-234d92499c04",
   "metadata": {},
   "outputs": [
    {
     "data": {
      "text/plain": [
       "\"sample_file.txt\""
      ]
     },
     "execution_count": 2,
     "metadata": {},
     "output_type": "execute_result"
    }
   ],
   "source": [
    "# create a sample file\n",
    "touch(\"sample_file.txt\")"
   ]
  },
  {
   "cell_type": "code",
   "execution_count": 3,
   "id": "30b4fe26-0152-47bc-98f6-89beec2c5a49",
   "metadata": {},
   "outputs": [
    {
     "data": {
      "text/plain": [
       "IOStream(<file sample_file.txt>)"
      ]
     },
     "execution_count": 3,
     "metadata": {},
     "output_type": "execute_result"
    }
   ],
   "source": [
    "f = open(\"sample_file.txt\")"
   ]
  },
  {
   "cell_type": "code",
   "execution_count": 5,
   "id": "1afcce16-4d99-4cb8-8f15-6e1e03961c4c",
   "metadata": {},
   "outputs": [
    {
     "data": {
      "text/plain": [
       "3-element Vector{String}:\n",
       " \"Hello user\"\n",
       " \"This is a txt \"\n",
       " \"Which is created for Julia IO.\""
      ]
     },
     "execution_count": 5,
     "metadata": {},
     "output_type": "execute_result"
    }
   ],
   "source": [
    "readlines(f)"
   ]
  },
  {
   "cell_type": "code",
   "execution_count": 6,
   "id": "61988210-8b47-47d5-8bfb-82b10aaa4886",
   "metadata": {},
   "outputs": [],
   "source": [
    "# close the file\n",
    "close(f)"
   ]
  },
  {
   "cell_type": "code",
   "execution_count": 8,
   "id": "25441dbb-8b45-448a-8fa7-3ef01d5c1d5c",
   "metadata": {},
   "outputs": [
    {
     "data": {
      "text/plain": [
       "\"sample_file.txt\""
      ]
     },
     "execution_count": 8,
     "metadata": {},
     "output_type": "execute_result"
    }
   ],
   "source": [
    "fname = \"sample_file.txt\""
   ]
  },
  {
   "cell_type": "code",
   "execution_count": 9,
   "id": "a34e4755-567b-4889-b5c4-2cc853cd691b",
   "metadata": {},
   "outputs": [
    {
     "data": {
      "text/plain": [
       "3-element Vector{String}:\n",
       " \"Hello user\"\n",
       " \"This is a txt \"\n",
       " \"Which is created for Julia IO.\""
      ]
     },
     "execution_count": 9,
     "metadata": {},
     "output_type": "execute_result"
    }
   ],
   "source": [
    "open(fname) do file\n",
    "    readlines(file)\n",
    "end"
   ]
  },
  {
   "cell_type": "code",
   "execution_count": 10,
   "id": "7df933f3-1db7-4fc9-bf79-cc37762a6699",
   "metadata": {},
   "outputs": [
    {
     "name": "stdout",
     "output_type": "stream",
     "text": [
      "Hello user\n",
      "This is a txt \n",
      "Which is created for Julia IO.\n"
     ]
    }
   ],
   "source": [
    "open(fname) do file\n",
    "    for line in eachline(file)\n",
    "        println(line)\n",
    "    end\n",
    "end"
   ]
  },
  {
   "cell_type": "code",
   "execution_count": 11,
   "id": "2be62ee1-9918-4ccf-a3a0-d45784e68b9b",
   "metadata": {},
   "outputs": [
    {
     "data": {
      "text/plain": [
       "1:10"
      ]
     },
     "execution_count": 11,
     "metadata": {},
     "output_type": "execute_result"
    }
   ],
   "source": [
    "vector = 1:10"
   ]
  },
  {
   "cell_type": "code",
   "execution_count": 12,
   "id": "f69a541b-faec-4748-9534-dfe10ecdfbcf",
   "metadata": {},
   "outputs": [
    {
     "data": {
      "text/plain": [
       "10-element Vector{Int64}:\n",
       "    1\n",
       "    8\n",
       "   27\n",
       "   64\n",
       "  125\n",
       "  216\n",
       "  343\n",
       "  512\n",
       "  729\n",
       " 1000"
      ]
     },
     "execution_count": 12,
     "metadata": {},
     "output_type": "execute_result"
    }
   ],
   "source": [
    "map(x -> x^3, vector)"
   ]
  },
  {
   "cell_type": "code",
   "execution_count": 14,
   "id": "68c1e424-8873-40c2-9222-e54ba392c528",
   "metadata": {},
   "outputs": [
    {
     "data": {
      "text/plain": [
       "10-element Vector{Int64}:\n",
       "    1\n",
       "    8\n",
       "   27\n",
       "   64\n",
       "  125\n",
       "  216\n",
       "  343\n",
       "  512\n",
       "  729\n",
       " 1000"
      ]
     },
     "execution_count": 14,
     "metadata": {},
     "output_type": "execute_result"
    }
   ],
   "source": [
    "map(vector) do x\n",
    "    x^3\n",
    "end"
   ]
  },
  {
   "cell_type": "code",
   "execution_count": 15,
   "id": "cb04262c-07dc-4be7-8013-447f462f1693",
   "metadata": {},
   "outputs": [
    {
     "data": {
      "text/plain": [
       "\"sample_file.txt\""
      ]
     },
     "execution_count": 15,
     "metadata": {},
     "output_type": "execute_result"
    }
   ],
   "source": [
    "fname = \"sample_file.txt\""
   ]
  },
  {
   "cell_type": "code",
   "execution_count": 16,
   "id": "46938c1b-9a43-460e-86c4-6e1244ed1457",
   "metadata": {},
   "outputs": [
    {
     "data": {
      "text/plain": [
       "IOStream(<file sample_file.txt>)"
      ]
     },
     "execution_count": 16,
     "metadata": {},
     "output_type": "execute_result"
    }
   ],
   "source": [
    "f2 = open(fname, \"w\")"
   ]
  },
  {
   "cell_type": "code",
   "execution_count": 17,
   "id": "1bcc331b-b23f-4e0d-ba83-6889a755a646",
   "metadata": {},
   "outputs": [
    {
     "data": {
      "text/plain": [
       "22"
      ]
     },
     "execution_count": 17,
     "metadata": {},
     "output_type": "execute_result"
    }
   ],
   "source": [
    "write(f2, \"This is a new line...\\n\")"
   ]
  },
  {
   "cell_type": "code",
   "execution_count": 18,
   "id": "fba3080b-fc3a-4b2c-bef7-507e0bed8ef0",
   "metadata": {},
   "outputs": [
    {
     "data": {
      "text/plain": [
       "25"
      ]
     },
     "execution_count": 18,
     "metadata": {},
     "output_type": "execute_result"
    }
   ],
   "source": [
    "write(f2, \"This is a second line...\\n\")"
   ]
  },
  {
   "cell_type": "code",
   "execution_count": 19,
   "id": "8cd03049-75b0-450a-af75-c16dffdfc04b",
   "metadata": {},
   "outputs": [],
   "source": [
    "close(f2)"
   ]
  },
  {
   "cell_type": "code",
   "execution_count": 20,
   "id": "106a645e-76de-43ee-a820-6d6b8994346b",
   "metadata": {},
   "outputs": [
    {
     "data": {
      "text/plain": [
       "21"
      ]
     },
     "execution_count": 20,
     "metadata": {},
     "output_type": "execute_result"
    }
   ],
   "source": [
    "# open file in append mode\n",
    "open(fname,\"a\") do file\n",
    "    write(file, \"Adding third line...\\n\")\n",
    "end"
   ]
  },
  {
   "cell_type": "code",
   "execution_count": 21,
   "id": "1a1d7314-aed0-452a-8135-6f04bfc3c487",
   "metadata": {},
   "outputs": [
    {
     "data": {
      "text/plain": [
       "4-element Vector{String}:\n",
       " \".ipynb_checkpoints\"\n",
       " \"Basic IO.ipynb\"\n",
       " \"File IO.ipynb\"\n",
       " \"sample_file.txt\""
      ]
     },
     "execution_count": 21,
     "metadata": {},
     "output_type": "execute_result"
    }
   ],
   "source": [
    "# read files in the current directory\n",
    "readdir()"
   ]
  },
  {
   "cell_type": "code",
   "execution_count": 22,
   "id": "8cc08c07-ce1c-4b97-8496-558e36537c08",
   "metadata": {},
   "outputs": [
    {
     "data": {
      "text/plain": [
       "\"New Folder\""
      ]
     },
     "execution_count": 22,
     "metadata": {},
     "output_type": "execute_result"
    }
   ],
   "source": [
    "# create new folder\n",
    "mkdir(\"New Folder\")"
   ]
  },
  {
   "cell_type": "code",
   "execution_count": 23,
   "id": "f187e317-8bc2-4539-a50c-0c1b2376aef6",
   "metadata": {},
   "outputs": [],
   "source": [
    "# add new files to the directory\n",
    "for file in [\"Sales\",\"Employees\",\"Products\"]\n",
    "    touch(\"New Folder\\\\$file.txt\")\n",
    "end"
   ]
  },
  {
   "cell_type": "code",
   "execution_count": 24,
   "id": "30b571c0-b55e-492b-b191-45bcb74b8cbe",
   "metadata": {},
   "outputs": [
    {
     "data": {
      "text/plain": [
       "3-element Vector{String}:\n",
       " \"Employees.txt\"\n",
       " \"Products.txt\"\n",
       " \"Sales.txt\""
      ]
     },
     "execution_count": 24,
     "metadata": {},
     "output_type": "execute_result"
    }
   ],
   "source": [
    "# write some lines into the files\n",
    "dir = \"New Folder\"\n",
    "files = readdir(dir)"
   ]
  },
  {
   "cell_type": "code",
   "execution_count": 25,
   "id": "cf521f7b-2965-4806-b5fe-4d635a9d60af",
   "metadata": {},
   "outputs": [],
   "source": [
    "for fname in files\n",
    "    file = dir*\"\\\\\"*fname\n",
    "    open(file, \"a\") do f\n",
    "        write(f, \"This is first line\")\n",
    "    end\n",
    "end"
   ]
  },
  {
   "cell_type": "code",
   "execution_count": null,
   "id": "bdae2836-6ec1-46f0-9ab2-cfade6fe57ad",
   "metadata": {},
   "outputs": [],
   "source": []
  }
 ],
 "metadata": {
  "kernelspec": {
   "display_name": "Julia 1.9.1",
   "language": "julia",
   "name": "julia-1.9"
  },
  "language_info": {
   "file_extension": ".jl",
   "mimetype": "application/julia",
   "name": "julia",
   "version": "1.9.1"
  }
 },
 "nbformat": 4,
 "nbformat_minor": 5
}
