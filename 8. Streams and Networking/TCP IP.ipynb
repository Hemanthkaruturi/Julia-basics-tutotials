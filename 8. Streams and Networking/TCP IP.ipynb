{
 "cells": [
  {
   "cell_type": "code",
   "execution_count": 1,
   "id": "71e741fb-3971-4869-b2e2-ed14bba1eb0f",
   "metadata": {},
   "outputs": [],
   "source": [
    "# inbuilt package in Julia\n",
    "using Sockets"
   ]
  },
  {
   "cell_type": "code",
   "execution_count": 2,
   "id": "23862b47-3e32-4399-bcfe-b7728458d0a4",
   "metadata": {},
   "outputs": [
    {
     "data": {
      "text/plain": [
       "Sockets.TCPServer(Base.Libc.WindowsRawSocket(0x00000000000000cc) active)"
      ]
     },
     "execution_count": 2,
     "metadata": {},
     "output_type": "execute_result"
    }
   ],
   "source": [
    "server = listen(8000)"
   ]
  },
  {
   "cell_type": "code",
   "execution_count": 3,
   "id": "4703ffa3-6ab9-47ba-8076-6ed1923dab7d",
   "metadata": {},
   "outputs": [
    {
     "ename": "LoadError",
     "evalue": "InterruptException:",
     "output_type": "error",
     "traceback": [
      "InterruptException:",
      "",
      "Stacktrace:",
      " [1] try_yieldto(undo::typeof(Base.ensure_rescheduled))",
      "   @ Base .\\task.jl:920",
      " [2] wait()",
      "   @ Base .\\task.jl:984",
      " [3] wait(c::Base.GenericCondition{Base.Threads.SpinLock}; first::Bool)",
      "   @ Base .\\condition.jl:130",
      " [4] wait",
      "   @ .\\condition.jl:125 [inlined]",
      " [5] accept(server::Sockets.TCPServer, client::TCPSocket)",
      "   @ Sockets C:\\Users\\karut\\AppData\\Local\\Programs\\Julia-1.9.1\\share\\julia\\stdlib\\v1.9\\Sockets\\src\\Sockets.jl:696",
      " [6] accept(server::Sockets.TCPServer)",
      "   @ Sockets C:\\Users\\karut\\AppData\\Local\\Programs\\Julia-1.9.1\\share\\julia\\stdlib\\v1.9\\Sockets\\src\\Sockets.jl:149",
      " [7] top-level scope",
      "   @ In[3]:1"
     ]
    }
   ],
   "source": [
    "conn = accept(server)"
   ]
  },
  {
   "cell_type": "code",
   "execution_count": null,
   "id": "ae5602f8-53d7-4be7-b400-701ef9afe844",
   "metadata": {},
   "outputs": [],
   "source": []
  }
 ],
 "metadata": {
  "kernelspec": {
   "display_name": "Julia 1.9.1",
   "language": "julia",
   "name": "julia-1.9"
  },
  "language_info": {
   "file_extension": ".jl",
   "mimetype": "application/julia",
   "name": "julia",
   "version": "1.9.1"
  }
 },
 "nbformat": 4,
 "nbformat_minor": 5
}
