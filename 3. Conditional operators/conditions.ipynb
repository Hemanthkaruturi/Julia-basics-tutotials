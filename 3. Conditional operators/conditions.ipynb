{
 "cells": [
  {
   "cell_type": "markdown",
   "id": "7ab72150-5f64-4ba5-ae95-5fd616e101bd",
   "metadata": {},
   "source": [
    "# compound expressions"
   ]
  },
  {
   "cell_type": "code",
   "execution_count": 8,
   "id": "5af466e9-a605-421d-b6c6-e6d5f142c9a3",
   "metadata": {},
   "outputs": [
    {
     "data": {
      "text/plain": [
       "108"
      ]
     },
     "execution_count": 8,
     "metadata": {},
     "output_type": "execute_result"
    }
   ],
   "source": [
    "# last expression will returned to the variable\n",
    "volume = begin\n",
    "    a = 12\n",
    "    b = 9\n",
    "    a*b\n",
    "end"
   ]
  },
  {
   "cell_type": "code",
   "execution_count": 10,
   "id": "45bee407-e586-4556-ab6f-79264c304881",
   "metadata": {},
   "outputs": [
    {
     "data": {
      "text/plain": [
       "108"
      ]
     },
     "execution_count": 10,
     "metadata": {},
     "output_type": "execute_result"
    }
   ],
   "source": [
    "volume"
   ]
  },
  {
   "cell_type": "code",
   "execution_count": 11,
   "id": "f1626ac2-1277-49f7-ae70-d376817ec2c2",
   "metadata": {},
   "outputs": [
    {
     "data": {
      "text/plain": [
       "426"
      ]
     },
     "execution_count": 11,
     "metadata": {},
     "output_type": "execute_result"
    }
   ],
   "source": [
    "area = begin\n",
    "    a = 12\n",
    "    b = 9\n",
    "    c = 5\n",
    "    2 * (a*b + a*c + b*c)\n",
    "end"
   ]
  },
  {
   "cell_type": "code",
   "execution_count": 12,
   "id": "f8864969-d710-4e54-8bbe-367952b59eb4",
   "metadata": {},
   "outputs": [
    {
     "data": {
      "text/plain": [
       "426"
      ]
     },
     "execution_count": 12,
     "metadata": {},
     "output_type": "execute_result"
    }
   ],
   "source": [
    "area"
   ]
  },
  {
   "cell_type": "markdown",
   "id": "90083bf9-460d-4c00-af5e-942bc44b3a48",
   "metadata": {},
   "source": [
    "### Sub expressions"
   ]
  },
  {
   "cell_type": "code",
   "execution_count": 13,
   "id": "dffcc6ae-b670-4c0b-a975-3f82544ff00a",
   "metadata": {},
   "outputs": [
    {
     "data": {
      "text/plain": [
       "540"
      ]
     },
     "execution_count": 13,
     "metadata": {},
     "output_type": "execute_result"
    }
   ],
   "source": [
    "volume = (a=12; b=9; c=5; a*b*c)"
   ]
  },
  {
   "cell_type": "code",
   "execution_count": 14,
   "id": "d5937679-6178-408e-add0-ec7d4efaef17",
   "metadata": {},
   "outputs": [
    {
     "data": {
      "text/plain": [
       "540"
      ]
     },
     "execution_count": 14,
     "metadata": {},
     "output_type": "execute_result"
    }
   ],
   "source": [
    "volume"
   ]
  },
  {
   "cell_type": "code",
   "execution_count": 15,
   "id": "fc5c0220-ca41-42bd-839e-a2f8f62c9e6c",
   "metadata": {},
   "outputs": [
    {
     "data": {
      "text/plain": [
       "12"
      ]
     },
     "execution_count": 15,
     "metadata": {},
     "output_type": "execute_result"
    }
   ],
   "source": [
    "a # we can use variables outside"
   ]
  },
  {
   "cell_type": "code",
   "execution_count": 16,
   "id": "7d21bed6-2c66-4261-9edc-ec1b04b213a6",
   "metadata": {},
   "outputs": [
    {
     "data": {
      "text/plain": [
       "9"
      ]
     },
     "execution_count": 16,
     "metadata": {},
     "output_type": "execute_result"
    }
   ],
   "source": [
    "b"
   ]
  },
  {
   "cell_type": "markdown",
   "id": "ceff0faa-5251-473b-80b5-68980da36828",
   "metadata": {},
   "source": [
    "# If condition"
   ]
  },
  {
   "cell_type": "code",
   "execution_count": 2,
   "id": "81953141-edd0-499b-988a-a52af259aef2",
   "metadata": {},
   "outputs": [
    {
     "name": "stdout",
     "output_type": "stream",
     "text": [
      "26 > 24\n"
     ]
    }
   ],
   "source": [
    "x = 26\n",
    "\n",
    "if x>24\n",
    "    println(\"$x > 24\")\n",
    "end"
   ]
  },
  {
   "cell_type": "code",
   "execution_count": 5,
   "id": "b1140cde-5f0c-4161-b2e5-a36fa46872d0",
   "metadata": {},
   "outputs": [
    {
     "name": "stdout",
     "output_type": "stream",
     "text": [
      "26 > 24\n"
     ]
    }
   ],
   "source": [
    "x = 26\n",
    "\n",
    "if x>=24\n",
    "    println(\"$x > 24\")\n",
    "elseif x < 24\n",
    "        println(\"$x < 24\")\n",
    "else\n",
    "    print(\"Oh I am in else\")\n",
    "end"
   ]
  },
  {
   "cell_type": "code",
   "execution_count": 7,
   "id": "4d99b226-5005-47f4-aaf5-0cb14cd95396",
   "metadata": {},
   "outputs": [
    {
     "name": "stdout",
     "output_type": "stream",
     "text": [
      "15 is in between 10 and 20\n"
     ]
    }
   ],
   "source": [
    "# nested if\n",
    "x = 15\n",
    "\n",
    "if x > 10\n",
    "    if x < 20\n",
    "        println(\"$x is in between 10 and 20\")\n",
    "    end\n",
    "elseif x ≤ 10\n",
    "    println(\"$x is less than 10\")\n",
    "end"
   ]
  },
  {
   "cell_type": "code",
   "execution_count": 24,
   "id": "a26559f6-6370-44f3-b640-87d5a6f975c3",
   "metadata": {},
   "outputs": [
    {
     "name": "stdout",
     "output_type": "stream",
     "text": [
      "Enter your score: \n"
     ]
    },
    {
     "name": "stdin",
     "output_type": "stream",
     "text": [
      "stdin>  55\n"
     ]
    },
    {
     "name": "stdout",
     "output_type": "stream",
     "text": [
      "You failed!\n"
     ]
    }
   ],
   "source": [
    "println(\"Enter your score: \")\n",
    "score = readline();\n",
    "score = parse(Int64, score)\n",
    "\n",
    "if 80 ≤ score ≤ 100\n",
    "    print(\"Your grade is A\")\n",
    "elseif 60 ≤ score ≤ 80\n",
    "    print(\"Your grade is B\")\n",
    "else\n",
    "    println(\"You failed!\")\n",
    "end"
   ]
  },
  {
   "cell_type": "code",
   "execution_count": 34,
   "id": "a49cfd19-98ae-4a83-94fd-a1c81a5fd447",
   "metadata": {},
   "outputs": [
    {
     "data": {
      "text/plain": [
       "\"passed\""
      ]
     },
     "execution_count": 34,
     "metadata": {},
     "output_type": "execute_result"
    }
   ],
   "source": [
    "# single line of conditions (similar to python)\n",
    "score = 70\n",
    "score > 50 ? \"passed\" : \"failed\""
   ]
  },
  {
   "cell_type": "code",
   "execution_count": 35,
   "id": "368574d6-4ba8-4d41-8800-76859b70a6cd",
   "metadata": {},
   "outputs": [
    {
     "data": {
      "text/plain": [
       "\"Grade B\""
      ]
     },
     "execution_count": 35,
     "metadata": {},
     "output_type": "execute_result"
    }
   ],
   "source": [
    "# nested if\n",
    "score > 85 ? \"Grade A\" : score > 60 ? \"Grade B\" : \"Grade C\""
   ]
  },
  {
   "cell_type": "code",
   "execution_count": 38,
   "id": "634f7c4c-59d4-4fd0-81dc-b1d84d822f37",
   "metadata": {},
   "outputs": [
    {
     "name": "stdout",
     "output_type": "stream",
     "text": [
      "Not so good"
     ]
    }
   ],
   "source": [
    "# short circuit evaluation\n",
    "# and condition\n",
    "x = 8\n",
    "y = 3\n",
    "\n",
    "if x>5 && y > 10\n",
    "    print(\"Oh good\")\n",
    "else\n",
    "    print(\"Not so good\")\n",
    "end"
   ]
  },
  {
   "cell_type": "code",
   "execution_count": 39,
   "id": "498c161a-32ea-434b-bb83-26bd100e9718",
   "metadata": {},
   "outputs": [
    {
     "name": "stdout",
     "output_type": "stream",
     "text": [
      "Oh good"
     ]
    }
   ],
   "source": [
    "# short circuit evaluation\n",
    "# or condition\n",
    "x = 8\n",
    "y = 3\n",
    "\n",
    "if x>5 || y > 10\n",
    "    print(\"Oh good\")\n",
    "else\n",
    "    print(\"Not so good\")\n",
    "end"
   ]
  },
  {
   "cell_type": "code",
   "execution_count": 3,
   "id": "8c9b29b9-5a06-4a3b-a7d5-613582e90c19",
   "metadata": {},
   "outputs": [
    {
     "name": "stdout",
     "output_type": "stream",
     "text": [
      "Enter your age: "
     ]
    },
    {
     "name": "stdin",
     "output_type": "stream",
     "text": [
      "stdin>  234\n"
     ]
    },
    {
     "name": "stdout",
     "output_type": "stream",
     "text": [
      "Please enter number between 0 and 100!\n"
     ]
    }
   ],
   "source": [
    "print(\"Enter your age: \")\n",
    "age = readline()\n",
    "# age = parse(Int64, age)\n",
    "\n",
    "# give a condition to enter only integers\n",
    "(tryparse(Int, age) === nothing) && (println(\"Please enter numeric input\"); exit())\n",
    "(tryparse(Int, age) === nothing) || (age = parse(Int64, age))\n",
    "\n",
    "(0 < age < 100) && (println(\"Your age is $age.\"))\n",
    "(0 < age < 100) || (println(\"Please enter number between 0 and 100!\"))"
   ]
  },
  {
   "cell_type": "code",
   "execution_count": null,
   "id": "4bcc988d-8918-4230-bee1-599f4815bb67",
   "metadata": {},
   "outputs": [],
   "source": []
  },
  {
   "cell_type": "markdown",
   "id": "6054345d-4da7-4dfa-ae08-99da0886fc5a",
   "metadata": {},
   "source": [
    "# looping statements"
   ]
  },
  {
   "cell_type": "code",
   "execution_count": 17,
   "id": "5f881b1d-ca0f-42a3-ae8e-9ba889f52929",
   "metadata": {},
   "outputs": [
    {
     "name": "stdout",
     "output_type": "stream",
     "text": [
      "10\n"
     ]
    }
   ],
   "source": [
    "# while loop\n",
    "\n",
    "x = 10\n",
    "while x>=10\n",
    "    println(x)\n",
    "    x -= x\n",
    "end"
   ]
  },
  {
   "cell_type": "code",
   "execution_count": 19,
   "id": "c46fb9ee-e6de-4c0b-b598-9a08d058b152",
   "metadata": {},
   "outputs": [
    {
     "name": "stdout",
     "output_type": "stream",
     "text": [
      "10\n",
      "11\n",
      "12\n",
      "13\n",
      "14\n",
      "15\n",
      "16\n",
      "17\n",
      "18\n",
      "19\n"
     ]
    }
   ],
   "source": [
    "# while loop\n",
    "\n",
    "x = 10\n",
    "while x ≥ 10\n",
    "    println(x)\n",
    "    x = x+1\n",
    "    if x ≥ 20\n",
    "        break\n",
    "    end\n",
    "end"
   ]
  },
  {
   "cell_type": "code",
   "execution_count": 21,
   "id": "2645567e-adcd-42ef-922a-e6ce71f2caf2",
   "metadata": {},
   "outputs": [
    {
     "name": "stdout",
     "output_type": "stream",
     "text": [
      "11\n",
      "12\n",
      "13\n",
      "14\n",
      "16\n",
      "17\n",
      "18\n",
      "19\n"
     ]
    }
   ],
   "source": [
    "# while loop, break and continue\n",
    "\n",
    "x = 10\n",
    "while x ≥ 10\n",
    "    x = x+1\n",
    "    \n",
    "    if x == 15\n",
    "        continue\n",
    "    end\n",
    "    \n",
    "    if x ≥ 20\n",
    "        break\n",
    "    end\n",
    "    \n",
    "    println(x)\n",
    "end"
   ]
  },
  {
   "cell_type": "markdown",
   "id": "7024c246-30cf-48df-9547-3ca2649d41f6",
   "metadata": {},
   "source": [
    "# for loop"
   ]
  },
  {
   "cell_type": "code",
   "execution_count": 27,
   "id": "a7b28a3c-38bd-4f57-8d7b-da129324e72c",
   "metadata": {},
   "outputs": [
    {
     "name": "stdout",
     "output_type": "stream",
     "text": [
      "1\n",
      "2\n",
      "3\n",
      "4\n",
      "5\n",
      "6\n",
      "7\n",
      "8\n",
      "9\n",
      "10\n"
     ]
    }
   ],
   "source": [
    "for i in 1:10\n",
    "    println(i)\n",
    "end"
   ]
  },
  {
   "cell_type": "code",
   "execution_count": 4,
   "id": "e2ea64de-be18-4a57-8792-dce868158ce3",
   "metadata": {},
   "outputs": [
    {
     "name": "stdout",
     "output_type": "stream",
     "text": [
      "1\n",
      "2\n",
      "3\n",
      "4\n",
      "5\n",
      "6\n",
      "7\n",
      "8\n",
      "9\n",
      "10\n"
     ]
    }
   ],
   "source": [
    "# instead of in operator you can also use = sign\n",
    "for i = 1:10\n",
    "    println(i)\n",
    "end"
   ]
  },
  {
   "cell_type": "code",
   "execution_count": 5,
   "id": "d1a75421-b669-4918-ac85-8e7c09dbfaa6",
   "metadata": {},
   "outputs": [
    {
     "name": "stdout",
     "output_type": "stream",
     "text": [
      "1\n",
      "2\n",
      "3\n",
      "4\n",
      "5\n",
      "6\n",
      "7\n",
      "8\n",
      "9\n",
      "10\n"
     ]
    }
   ],
   "source": [
    "# instead of in operator you can also use in sign\n",
    "for i ∈ 1:10\n",
    "    println(i)\n",
    "end"
   ]
  },
  {
   "cell_type": "code",
   "execution_count": 29,
   "id": "41f65cb0-e674-4d7d-88d7-06626a332ecc",
   "metadata": {},
   "outputs": [
    {
     "name": "stdout",
     "output_type": "stream",
     "text": [
      "1\n",
      "2\n",
      "3\n",
      "4\n"
     ]
    }
   ],
   "source": [
    "for i in [1 2 3 4]\n",
    "    println(i)\n",
    "end"
   ]
  },
  {
   "cell_type": "code",
   "execution_count": 30,
   "id": "0d68f9b3-1dbb-48c3-b773-4924d4b57239",
   "metadata": {},
   "outputs": [
    {
     "name": "stdout",
     "output_type": "stream",
     "text": [
      "1\n",
      "4\n",
      "2\n",
      "5\n",
      "3\n",
      "6\n"
     ]
    }
   ],
   "source": [
    "for i in [1 2 3; 4 5 6]\n",
    "    println(i)\n",
    "end"
   ]
  },
  {
   "cell_type": "code",
   "execution_count": 7,
   "id": "b5ae1bee-ac04-4713-8632-e8e100023a54",
   "metadata": {},
   "outputs": [
    {
     "name": "stdout",
     "output_type": "stream",
     "text": [
      "1 5\n",
      "2 6\n",
      "3 7\n",
      "4 8\n"
     ]
    }
   ],
   "source": [
    "arr1 = [1 2 3 4]\n",
    "arr2 = [5 6 7 8]\n",
    "\n",
    "for i in range(1,length(arr1))\n",
    "    println(arr1[i], \" \" ,arr2[i])\n",
    "end "
   ]
  },
  {
   "cell_type": "code",
   "execution_count": 9,
   "id": "f23e5b00-8752-4183-9318-33d4e4b786a1",
   "metadata": {},
   "outputs": [
    {
     "name": "stdout",
     "output_type": "stream",
     "text": [
      "In index 1 the value is 1\n",
      "In index 2 the value is 2\n",
      "In index 3 the value is 3\n",
      "In index 4 the value is 4\n"
     ]
    }
   ],
   "source": [
    "# you can also use enumerate like in python\n",
    "for (index, value) ∈ enumerate(arr1)\n",
    "    println(\"In index $index the value is $value\")\n",
    "end"
   ]
  },
  {
   "cell_type": "code",
   "execution_count": 10,
   "id": "3d0a432a-6d38-4400-b153-48d0247cc6dd",
   "metadata": {},
   "outputs": [
    {
     "data": {
      "text/plain": [
       "3×2 Matrix{Int64}:\n",
       " 44  35\n",
       " 34  38\n",
       " 24  44"
      ]
     },
     "execution_count": 10,
     "metadata": {},
     "output_type": "execute_result"
    }
   ],
   "source": [
    "# nested for loops\n",
    "mat = rand(15:44, (3,2))"
   ]
  },
  {
   "cell_type": "code",
   "execution_count": 21,
   "id": "c967788d-cacc-4ad3-8319-a9ca231b9ada",
   "metadata": {},
   "outputs": [
    {
     "name": "stdout",
     "output_type": "stream",
     "text": [
      "44 35  \n",
      "34 38  \n",
      "24 44  \n"
     ]
    }
   ],
   "source": [
    "for row in 1:size(mat,1)\n",
    "    for col in 1:size(mat,2)\n",
    "        print(mat[row, col])\n",
    "        print(\" \")\n",
    "    end\n",
    "    println(\" \")\n",
    "end"
   ]
  },
  {
   "cell_type": "code",
   "execution_count": 35,
   "id": "5bad43d3-0791-453a-ab71-e818080d292f",
   "metadata": {},
   "outputs": [
    {
     "name": "stdout",
     "output_type": "stream",
     "text": [
      "44 35 \n",
      "34 38 \n",
      "24 44 \n"
     ]
    }
   ],
   "source": [
    "# we can do the same in below way\n",
    "for row in 1:size(mat,1), col in 1:size(mat,2)\n",
    "    print(mat[row, col])\n",
    "    print(\" \")\n",
    "    if col == size(mat,2)\n",
    "        println()\n",
    "    end\n",
    "end"
   ]
  },
  {
   "cell_type": "code",
   "execution_count": 30,
   "id": "d8da9038-50f7-4dfc-9b4f-387f05c6e0c8",
   "metadata": {},
   "outputs": [
    {
     "name": "stdout",
     "output_type": "stream",
     "text": [
      "(1, 1)(1, 2)(1, 3)(1, 4)\n",
      "(2, 1)(2, 2)(2, 3)(2, 4)\n",
      "(3, 1)(3, 2)(3, 3)(3, 4)\n",
      "(4, 1)(4, 2)(4, 3)(4, 4)\n",
      "(5, 1)(5, 2)(5, 3)(5, 4)\n",
      "(6, 1)(6, 2)(6, 3)(6, 4)\n"
     ]
    }
   ],
   "source": [
    "for row in 1:6\n",
    "    for col in 1:4\n",
    "        print((row, col))\n",
    "    end\n",
    "    println()\n",
    "end"
   ]
  },
  {
   "cell_type": "code",
   "execution_count": 34,
   "id": "b55ec8eb-9b99-4e77-83f1-f9245a75e2dc",
   "metadata": {},
   "outputs": [
    {
     "name": "stdout",
     "output_type": "stream",
     "text": [
      "(1, 1)(1, 2)(1, 3)(1, 4)\n",
      "(2, 1)(2, 2)(2, 3)(2, 4)\n",
      "(3, 1)(3, 2)(3, 3)(3, 4)\n",
      "(4, 1)(4, 2)(4, 3)(4, 4)\n",
      "(5, 1)(5, 2)(5, 3)(5, 4)\n",
      "(6, 1)(6, 2)(6, 3)(6, 4)\n"
     ]
    }
   ],
   "source": [
    "# we can do the same \n",
    "for row in 1:6, col in 1:4\n",
    "    print((row, col))\n",
    "    if col == 4\n",
    "        println()\n",
    "    end\n",
    "end"
   ]
  },
  {
   "cell_type": "code",
   "execution_count": 39,
   "id": "d8db34c2-6d83-4b35-a479-16268fc3bc7d",
   "metadata": {},
   "outputs": [
    {
     "name": "stdout",
     "output_type": "stream",
     "text": [
      "Albert Einstien was born in 1879\n",
      "Marie Curie was born in 867\n",
      "Isaac Newton was born in 1643\n"
     ]
    }
   ],
   "source": [
    "# we can also use zip here, same as python\n",
    "names = [\"Albert\",\"Marie\",\"Isaac\"]\n",
    "surnames = [\"Einstien\", \"Curie\", \"Newton\"]\n",
    "dob = [1879, 867, 1643]\n",
    "\n",
    "for (name, surnames, dob) ∈ zip(names, surnames, dob)\n",
    "    println(\"$name $surnames was born in $dob\")\n",
    "end"
   ]
  },
  {
   "cell_type": "code",
   "execution_count": 41,
   "id": "2cfba6b4-5e99-451b-8933-a4aa7f2a3080",
   "metadata": {},
   "outputs": [
    {
     "name": "stdout",
     "output_type": "stream",
     "text": [
      "c=>13\n",
      "b=>12\n",
      "a=>10\n"
     ]
    }
   ],
   "source": [
    "# you can also iterate key values of dict\n",
    "d = Dict(\"a\"=>10, \"b\"=>12, \"c\"=>13)\n",
    "\n",
    "for (key, value) in d\n",
    "    println(key, \"=>\" ,value)\n",
    "end"
   ]
  },
  {
   "cell_type": "code",
   "execution_count": 43,
   "id": "c9c60b7d-60aa-49b3-b10c-f2b3ff7e5e8d",
   "metadata": {},
   "outputs": [
    {
     "name": "stdout",
     "output_type": "stream",
     "text": [
      "\"c\" => 13\n",
      "\"b\" => 12\n",
      "\"a\" => 10\n"
     ]
    }
   ],
   "source": [
    "# you can also iterate items\n",
    "for item in d\n",
    "    println(item)\n",
    "end"
   ]
  },
  {
   "cell_type": "code",
   "execution_count": 45,
   "id": "aa339594-6062-45f9-8c4f-c026d0ac426a",
   "metadata": {},
   "outputs": [
    {
     "name": "stdout",
     "output_type": "stream",
     "text": [
      "Key is c, Value is 13\n",
      "Key is b, Value is 12\n",
      "Key is a, Value is 10\n"
     ]
    }
   ],
   "source": [
    "for item in d\n",
    "    println(\"Key is $(item.first), Value is $(item.second)\")\n",
    "end"
   ]
  },
  {
   "cell_type": "code",
   "execution_count": 49,
   "id": "c31604f8-5c5c-4938-98d3-ca38d3d25cde",
   "metadata": {},
   "outputs": [
    {
     "name": "stdout",
     "output_type": "stream",
     "text": [
      "H|e|m|a|n|t|h|"
     ]
    }
   ],
   "source": [
    "# interate strings\n",
    "str = \"Hemanth\"\n",
    "for s in str\n",
    "    print(\"$s|\")\n",
    "end"
   ]
  },
  {
   "cell_type": "code",
   "execution_count": 50,
   "id": "4b1f69bf-3eef-4838-99ad-1cbae6665e18",
   "metadata": {},
   "outputs": [
    {
     "data": {
      "text/plain": [
       "10-element Vector{Int64}:\n",
       "  621883\n",
       "  540752\n",
       "  427493\n",
       "  124015\n",
       " -102043\n",
       " -274541\n",
       "  578373\n",
       " -143167\n",
       " -281767\n",
       " -820503"
      ]
     },
     "execution_count": 50,
     "metadata": {},
     "output_type": "execute_result"
    }
   ],
   "source": [
    "# create large array\n",
    "arr = rand(-1_000_000:1_000_000, 10)"
   ]
  },
  {
   "cell_type": "code",
   "execution_count": 51,
   "id": "f809c82d-3eea-4cc2-a8ad-bbb62a58e8d2",
   "metadata": {},
   "outputs": [
    {
     "data": {
      "text/plain": [
       "-9223372036854775808"
      ]
     },
     "execution_count": 51,
     "metadata": {},
     "output_type": "execute_result"
    }
   ],
   "source": [
    "maxnum = typemin(Int64)"
   ]
  },
  {
   "cell_type": "code",
   "execution_count": 52,
   "id": "e73f6444-7537-48d5-9fb4-216cfcefffc6",
   "metadata": {},
   "outputs": [
    {
     "name": "stdout",
     "output_type": "stream",
     "text": [
      "621883\n"
     ]
    }
   ],
   "source": [
    "for num ∈ arr\n",
    "    if num > maxnum\n",
    "        maxnum = num\n",
    "    end\n",
    "end\n",
    "println(maxnum)"
   ]
  },
  {
   "cell_type": "markdown",
   "id": "aa2f1b58-d805-4f95-a044-2d7f9319c0b2",
   "metadata": {},
   "source": [
    "# comprehensions"
   ]
  },
  {
   "cell_type": "code",
   "execution_count": null,
   "id": "b7f3c1e9-2d8f-4fbe-b152-ff57d295b44d",
   "metadata": {},
   "outputs": [],
   "source": [
    "# same as in python"
   ]
  },
  {
   "cell_type": "code",
   "execution_count": 53,
   "id": "7d42b4a4-9e0e-4d51-a2ac-9fddf57ed73c",
   "metadata": {},
   "outputs": [
    {
     "data": {
      "text/plain": [
       "6-element Vector{Int64}:\n",
       "   25\n",
       "   64\n",
       "  144\n",
       "  289\n",
       "  576\n",
       " 1764"
      ]
     },
     "execution_count": 53,
     "metadata": {},
     "output_type": "execute_result"
    }
   ],
   "source": [
    "arr = [5, 8, 12, 17,24,42]\n",
    "arr2 = [i^2 for i ∈ arr]"
   ]
  },
  {
   "cell_type": "code",
   "execution_count": 57,
   "id": "abe2e31f-11d1-4086-8de1-edc75121691f",
   "metadata": {},
   "outputs": [
    {
     "data": {
      "text/plain": [
       "4×3 Matrix{Tuple{Int64, Int64}}:\n",
       " (1, 1)   (1, 4)   (1, 9)\n",
       " (4, 1)   (4, 4)   (4, 9)\n",
       " (9, 1)   (9, 4)   (9, 9)\n",
       " (16, 1)  (16, 4)  (16, 9)"
      ]
     },
     "execution_count": 57,
     "metadata": {},
     "output_type": "execute_result"
    }
   ],
   "source": [
    "[(x^2, y^2) for x ∈ 1:4, y ∈ 1:3]"
   ]
  },
  {
   "cell_type": "code",
   "execution_count": 58,
   "id": "314b8df1-61da-4274-a3d8-9809a54afea7",
   "metadata": {},
   "outputs": [
    {
     "data": {
      "text/plain": [
       "4-element Vector{Int64}:\n",
       "   64\n",
       "  144\n",
       "  576\n",
       " 1764"
      ]
     },
     "execution_count": 58,
     "metadata": {},
     "output_type": "execute_result"
    }
   ],
   "source": [
    "[x^2 for x ∈ arr if iseven(x)]"
   ]
  },
  {
   "cell_type": "code",
   "execution_count": 59,
   "id": "f127f26b-ccba-4a50-8799-6e2dc35f13f6",
   "metadata": {},
   "outputs": [
    {
     "data": {
      "text/plain": [
       "338350"
      ]
     },
     "execution_count": 59,
     "metadata": {},
     "output_type": "execute_result"
    }
   ],
   "source": [
    "sum(x^2 for x∈ 1:100)"
   ]
  },
  {
   "cell_type": "code",
   "execution_count": 61,
   "id": "fc5b8caf-cdc9-43a2-9bdd-02e002731cdb",
   "metadata": {},
   "outputs": [
    {
     "name": "stdout",
     "output_type": "stream",
     "text": [
      "125.186775 seconds (2.00 G allocations: 29.802 GiB, 5.74% gc time)\n"
     ]
    }
   ],
   "source": [
    "# calculate time taken for loop\n",
    "s = 0\n",
    "@time for i = 1:1_000_000_000 s+= i^2 end"
   ]
  },
  {
   "cell_type": "code",
   "execution_count": 62,
   "id": "e6c3d467-d38f-4407-9134-f9ea1fef0549",
   "metadata": {},
   "outputs": [
    {
     "name": "stdout",
     "output_type": "stream",
     "text": [
      "  6.224164 seconds (31.61 k allocations: 7.453 GiB, 0.13% gc time, 1.69% compilation time)\n"
     ]
    },
    {
     "data": {
      "text/plain": [
       "4338615082255021824"
      ]
     },
     "execution_count": 62,
     "metadata": {},
     "output_type": "execute_result"
    }
   ],
   "source": [
    "@time sum([i^2 for i = 1:1_000_000_000])"
   ]
  },
  {
   "cell_type": "code",
   "execution_count": 63,
   "id": "79eef9b2-293d-47e7-94b9-d3c70fcffba6",
   "metadata": {},
   "outputs": [
    {
     "name": "stdout",
     "output_type": "stream",
     "text": [
      "  0.072626 seconds (54.05 k allocations: 3.621 MiB, 99.53% compilation time)\n"
     ]
    },
    {
     "data": {
      "text/plain": [
       "4338615082255021824"
      ]
     },
     "execution_count": 63,
     "metadata": {},
     "output_type": "execute_result"
    }
   ],
   "source": [
    "@time sum(i^2 for i = 1:1_000_000_000)"
   ]
  },
  {
   "cell_type": "code",
   "execution_count": 71,
   "id": "b79a0eac-63f7-42aa-a671-0fb51e6ea512",
   "metadata": {},
   "outputs": [
    {
     "data": {
      "text/plain": [
       "6-element Vector{Int64}:\n",
       "  125\n",
       "   64\n",
       "  144\n",
       " 4913\n",
       "  576\n",
       " 1764"
      ]
     },
     "execution_count": 71,
     "metadata": {},
     "output_type": "execute_result"
    }
   ],
   "source": [
    "# get square of a number if it is even else get cube of the number\n",
    "arr = [5, 8, 12, 17, 24, 42]\n",
    "\n",
    "[iseven(i) ? i^2 : i^3 for i in arr ]"
   ]
  },
  {
   "cell_type": "code",
   "execution_count": null,
   "id": "dd2404b7-76a4-416a-bddd-e76da5cda9e7",
   "metadata": {},
   "outputs": [],
   "source": []
  }
 ],
 "metadata": {
  "kernelspec": {
   "display_name": "Julia 1.9.1",
   "language": "julia",
   "name": "julia-1.9"
  },
  "language_info": {
   "file_extension": ".jl",
   "mimetype": "application/julia",
   "name": "julia",
   "version": "1.9.1"
  }
 },
 "nbformat": 4,
 "nbformat_minor": 5
}
