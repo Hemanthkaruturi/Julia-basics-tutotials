{
 "cells": [
  {
   "cell_type": "markdown",
   "id": "0e903094-c18e-4bf0-afc6-e71387e6df62",
   "metadata": {},
   "source": [
    "# Multiple dispatch"
   ]
  },
  {
   "cell_type": "code",
   "execution_count": 1,
   "id": "09436583-94da-4af3-a435-839d5edb0f6c",
   "metadata": {},
   "outputs": [
    {
     "data": {
      "text/plain": [
       "* (generic function with 309 methods)"
      ]
     },
     "execution_count": 1,
     "metadata": {},
     "output_type": "execute_result"
    }
   ],
   "source": [
    "*"
   ]
  },
  {
   "cell_type": "code",
   "execution_count": 3,
   "id": "5d89de70-c037-4b39-8ec2-e10670d02e29",
   "metadata": {},
   "outputs": [],
   "source": [
    "# methods(*)"
   ]
  },
  {
   "cell_type": "code",
   "execution_count": 4,
   "id": "20d536af-3d14-45ac-85de-95205159e300",
   "metadata": {},
   "outputs": [
    {
     "data": {
      "text/plain": [
       "3×4 Matrix{Int64}:\n",
       " 1  4  7  10\n",
       " 2  5  8  11\n",
       " 3  6  9  12"
      ]
     },
     "execution_count": 4,
     "metadata": {},
     "output_type": "execute_result"
    }
   ],
   "source": [
    "mat1 = reshape(Vector(1:12),(3,4))"
   ]
  },
  {
   "cell_type": "code",
   "execution_count": 6,
   "id": "d0a4b2aa-dc3d-469a-942c-a25c12e2f291",
   "metadata": {},
   "outputs": [
    {
     "data": {
      "text/plain": [
       "4×3 Matrix{Int64}:\n",
       " 11  15  19\n",
       " 12  16  20\n",
       " 13  17  21\n",
       " 14  18  22"
      ]
     },
     "execution_count": 6,
     "metadata": {},
     "output_type": "execute_result"
    }
   ],
   "source": [
    "mat2 = reshape(Vector(11:22),(4,3))"
   ]
  },
  {
   "cell_type": "code",
   "execution_count": 7,
   "id": "edb9b937-51e4-40e9-a0eb-f22fccd27f8a",
   "metadata": {},
   "outputs": [
    {
     "data": {
      "text/plain": [
       "3×3 Matrix{Int64}:\n",
       " 290  378  466\n",
       " 340  444  548\n",
       " 390  510  630"
      ]
     },
     "execution_count": 7,
     "metadata": {},
     "output_type": "execute_result"
    }
   ],
   "source": [
    "*(mat1, mat2)"
   ]
  },
  {
   "cell_type": "code",
   "execution_count": 9,
   "id": "9bd878e1-76ba-4c11-83a9-a77c73e4dbb3",
   "metadata": {},
   "outputs": [
    {
     "data": {
      "text/plain": [
       "\"JuliaPython\""
      ]
     },
     "execution_count": 9,
     "metadata": {},
     "output_type": "execute_result"
    }
   ],
   "source": [
    "*(\"Julia\", \"Python\")"
   ]
  },
  {
   "cell_type": "code",
   "execution_count": 10,
   "id": "fb0aba35-5715-481a-9681-be64d006951b",
   "metadata": {},
   "outputs": [
    {
     "data": {
      "text/plain": [
       "f (generic function with 1 method)"
      ]
     },
     "execution_count": 10,
     "metadata": {},
     "output_type": "execute_result"
    }
   ],
   "source": [
    "f(x::Float64, y::Float64) = x^2 + y^2"
   ]
  },
  {
   "cell_type": "code",
   "execution_count": 11,
   "id": "37410124-e414-4a5d-83b5-61f39c95b33d",
   "metadata": {},
   "outputs": [
    {
     "data": {
      "text/plain": [
       "45.0"
      ]
     },
     "execution_count": 11,
     "metadata": {},
     "output_type": "execute_result"
    }
   ],
   "source": [
    "f(3.0, 6.0)"
   ]
  },
  {
   "cell_type": "code",
   "execution_count": 12,
   "id": "7aa9efa7-8971-4d27-b099-b0edfb7d3bfb",
   "metadata": {},
   "outputs": [
    {
     "ename": "LoadError",
     "evalue": "MethodError: no method matching f(::Int64, ::Int64)",
     "output_type": "error",
     "traceback": [
      "MethodError: no method matching f(::Int64, ::Int64)",
      "",
      "Stacktrace:",
      " [1] top-level scope",
      "   @ In[12]:1"
     ]
    }
   ],
   "source": [
    "f(3,6)"
   ]
  },
  {
   "cell_type": "code",
   "execution_count": 13,
   "id": "75bd8687-0c46-43cb-8406-b24739f89b8d",
   "metadata": {},
   "outputs": [
    {
     "data": {
      "text/plain": [
       "f (generic function with 2 methods)"
      ]
     },
     "execution_count": 13,
     "metadata": {},
     "output_type": "execute_result"
    }
   ],
   "source": [
    "f(x::Int64, y::Int64) = x^2 + y^2"
   ]
  },
  {
   "cell_type": "code",
   "execution_count": 14,
   "id": "3e20792f-6859-478d-981d-2378f84b4681",
   "metadata": {},
   "outputs": [
    {
     "data": {
      "text/plain": [
       "45"
      ]
     },
     "execution_count": 14,
     "metadata": {},
     "output_type": "execute_result"
    }
   ],
   "source": [
    "f(3,6)"
   ]
  },
  {
   "cell_type": "code",
   "execution_count": 15,
   "id": "629aace9-e959-46d3-b886-1b1979a441cc",
   "metadata": {},
   "outputs": [
    {
     "data": {
      "text/plain": [
       "45.0"
      ]
     },
     "execution_count": 15,
     "metadata": {},
     "output_type": "execute_result"
    }
   ],
   "source": [
    "f(3.0,6.0)"
   ]
  },
  {
   "cell_type": "code",
   "execution_count": 16,
   "id": "8a3b3eac-fbe0-46dc-b185-a0ca2a1952b7",
   "metadata": {},
   "outputs": [
    {
     "data": {
      "text/plain": [
       "f (generic function with 3 methods)"
      ]
     },
     "execution_count": 16,
     "metadata": {},
     "output_type": "execute_result"
    }
   ],
   "source": [
    "f(x::Number, y::Number) = x^2 - y^2"
   ]
  },
  {
   "cell_type": "code",
   "execution_count": 17,
   "id": "9cdb2291-3e3a-422a-99ac-7f724f96653c",
   "metadata": {},
   "outputs": [
    {
     "data": {
      "text/plain": [
       "-7.0"
      ]
     },
     "execution_count": 17,
     "metadata": {},
     "output_type": "execute_result"
    }
   ],
   "source": [
    "f(3.0,4)"
   ]
  },
  {
   "cell_type": "code",
   "execution_count": 18,
   "id": "d857128d-8598-4bdf-8def-e3ca77abdf2d",
   "metadata": {},
   "outputs": [
    {
     "data": {
      "text/html": [
       "# 3 methods for generic function <b>f</b> from \u001b[33mMain\u001b[39m:<ul><li> f(x::<b>Float64</b>, y::<b>Float64</b>) in Main at In[10]:1</li> <li> f(x::<b>Int64</b>, y::<b>Int64</b>) in Main at In[13]:1</li> <li> f(x::<b>Number</b>, y::<b>Number</b>) in Main at In[16]:1</li> </ul>"
      ],
      "text/plain": [
       "# 3 methods for generic function \"f\" from \u001b[33mMain\u001b[39m:\n",
       " [1] f(\u001b[90mx\u001b[39m::\u001b[1mFloat64\u001b[22m, \u001b[90my\u001b[39m::\u001b[1mFloat64\u001b[22m)\n",
       "\u001b[90m     @\u001b[39m \u001b[90m\u001b[4mIn[10]:1\u001b[24m\u001b[39m\n",
       " [2] f(\u001b[90mx\u001b[39m::\u001b[1mInt64\u001b[22m, \u001b[90my\u001b[39m::\u001b[1mInt64\u001b[22m)\n",
       "\u001b[90m     @\u001b[39m \u001b[90m\u001b[4mIn[13]:1\u001b[24m\u001b[39m\n",
       " [3] f(\u001b[90mx\u001b[39m::\u001b[1mNumber\u001b[22m, \u001b[90my\u001b[39m::\u001b[1mNumber\u001b[22m)\n",
       "\u001b[90m     @\u001b[39m \u001b[90m\u001b[4mIn[16]:1\u001b[24m\u001b[39m"
      ]
     },
     "execution_count": 18,
     "metadata": {},
     "output_type": "execute_result"
    }
   ],
   "source": [
    "methods(f)"
   ]
  },
  {
   "cell_type": "code",
   "execution_count": 21,
   "id": "05f4fc7d-a61a-417b-93cb-5580930342bc",
   "metadata": {},
   "outputs": [
    {
     "data": {
      "text/plain": [
       "f (generic function with 4 methods)"
      ]
     },
     "execution_count": 21,
     "metadata": {},
     "output_type": "execute_result"
    }
   ],
   "source": [
    "f(x::Any, y::Any) = \"This is not correct\""
   ]
  },
  {
   "cell_type": "code",
   "execution_count": 22,
   "id": "1797b30e-4c33-447e-ba95-b4b82d3f3257",
   "metadata": {},
   "outputs": [
    {
     "data": {
      "text/plain": [
       "\"This is not correct\""
      ]
     },
     "execution_count": 22,
     "metadata": {},
     "output_type": "execute_result"
    }
   ],
   "source": [
    "f(\"Hemanth\",5)"
   ]
  },
  {
   "cell_type": "code",
   "execution_count": 23,
   "id": "77495a7f-0a92-4dc0-9420-985117321ac5",
   "metadata": {},
   "outputs": [
    {
     "data": {
      "text/html": [
       "# 4 methods for generic function <b>f</b> from \u001b[33mMain\u001b[39m:<ul><li> f(x::<b>Float64</b>, y::<b>Float64</b>) in Main at In[10]:1</li> <li> f(x::<b>Int64</b>, y::<b>Int64</b>) in Main at In[13]:1</li> <li> f(x::<b>Number</b>, y::<b>Number</b>) in Main at In[16]:1</li> <li> f(x, y) in Main at In[21]:1</li> </ul>"
      ],
      "text/plain": [
       "# 4 methods for generic function \"f\" from \u001b[33mMain\u001b[39m:\n",
       " [1] f(\u001b[90mx\u001b[39m::\u001b[1mFloat64\u001b[22m, \u001b[90my\u001b[39m::\u001b[1mFloat64\u001b[22m)\n",
       "\u001b[90m     @\u001b[39m \u001b[90m\u001b[4mIn[10]:1\u001b[24m\u001b[39m\n",
       " [2] f(\u001b[90mx\u001b[39m::\u001b[1mInt64\u001b[22m, \u001b[90my\u001b[39m::\u001b[1mInt64\u001b[22m)\n",
       "\u001b[90m     @\u001b[39m \u001b[90m\u001b[4mIn[13]:1\u001b[24m\u001b[39m\n",
       " [3] f(\u001b[90mx\u001b[39m::\u001b[1mNumber\u001b[22m, \u001b[90my\u001b[39m::\u001b[1mNumber\u001b[22m)\n",
       "\u001b[90m     @\u001b[39m \u001b[90m\u001b[4mIn[16]:1\u001b[24m\u001b[39m\n",
       " [4] f(\u001b[90mx\u001b[39m, \u001b[90my\u001b[39m)\n",
       "\u001b[90m     @\u001b[39m \u001b[90m\u001b[4mIn[21]:1\u001b[24m\u001b[39m"
      ]
     },
     "execution_count": 23,
     "metadata": {},
     "output_type": "execute_result"
    }
   ],
   "source": [
    "methods(f)"
   ]
  },
  {
   "cell_type": "code",
   "execution_count": 24,
   "id": "cf728df1-016e-451b-b9e6-71d518a2b681",
   "metadata": {},
   "outputs": [
    {
     "data": {
      "text/plain": [
       "g (generic function with 2 methods)"
      ]
     },
     "execution_count": 24,
     "metadata": {},
     "output_type": "execute_result"
    }
   ],
   "source": [
    "g(x::Int64, y) = x*y\n",
    "g(x, y::Int64) = x/y"
   ]
  },
  {
   "cell_type": "code",
   "execution_count": 26,
   "id": "94cfc5b9-d5fc-443d-83f7-9c8b9450b3a5",
   "metadata": {},
   "outputs": [
    {
     "data": {
      "text/plain": [
       "6.0"
      ]
     },
     "execution_count": 26,
     "metadata": {},
     "output_type": "execute_result"
    }
   ],
   "source": [
    "g(2,3.0)"
   ]
  },
  {
   "cell_type": "code",
   "execution_count": 27,
   "id": "bad401e3-36be-4d24-80a2-cee635ca3d05",
   "metadata": {},
   "outputs": [
    {
     "data": {
      "text/plain": [
       "0.6666666666666666"
      ]
     },
     "execution_count": 27,
     "metadata": {},
     "output_type": "execute_result"
    }
   ],
   "source": [
    "g(2.0,3)"
   ]
  },
  {
   "cell_type": "code",
   "execution_count": 28,
   "id": "4409c76d-2fb5-4ee5-82f9-807bc2896e5f",
   "metadata": {},
   "outputs": [
    {
     "ename": "LoadError",
     "evalue": "MethodError: g(::Int64, ::Int64) is ambiguous.\n\nCandidates:\n  g(\u001b[90mx\u001b[39m::\u001b[1mInt64\u001b[22m, \u001b[90my\u001b[39m)\n\u001b[90m    @\u001b[39m \u001b[90mMain\u001b[39m \u001b[90m\u001b[4mIn[24]:1\u001b[24m\u001b[39m\n  g(\u001b[90mx\u001b[39m, \u001b[90my\u001b[39m::\u001b[1mInt64\u001b[22m)\n\u001b[90m    @\u001b[39m \u001b[90mMain\u001b[39m \u001b[90m\u001b[4mIn[24]:2\u001b[24m\u001b[39m\n\nPossible fix, define\n  g(::Int64, ::Int64)\n",
     "output_type": "error",
     "traceback": [
      "MethodError: g(::Int64, ::Int64) is ambiguous.\n\nCandidates:\n  g(\u001b[90mx\u001b[39m::\u001b[1mInt64\u001b[22m, \u001b[90my\u001b[39m)\n\u001b[90m    @\u001b[39m \u001b[90mMain\u001b[39m \u001b[90m\u001b[4mIn[24]:1\u001b[24m\u001b[39m\n  g(\u001b[90mx\u001b[39m, \u001b[90my\u001b[39m::\u001b[1mInt64\u001b[22m)\n\u001b[90m    @\u001b[39m \u001b[90mMain\u001b[39m \u001b[90m\u001b[4mIn[24]:2\u001b[24m\u001b[39m\n\nPossible fix, define\n  g(::Int64, ::Int64)\n",
      "",
      "Stacktrace:",
      " [1] top-level scope",
      "   @ In[28]:1"
     ]
    }
   ],
   "source": [
    "g(2,3) # Method can't decide which function to call"
   ]
  },
  {
   "cell_type": "code",
   "execution_count": 29,
   "id": "524833f1-22a1-4c01-964b-26984eb73d91",
   "metadata": {},
   "outputs": [
    {
     "data": {
      "text/plain": [
       "h (generic function with 3 methods)"
      ]
     },
     "execution_count": 29,
     "metadata": {},
     "output_type": "execute_result"
    }
   ],
   "source": [
    "# case 3\n",
    "h(x=3, y=4) = x+y"
   ]
  },
  {
   "cell_type": "code",
   "execution_count": 30,
   "id": "1d96e43c-f98e-42c7-b1ea-997c62f191bc",
   "metadata": {},
   "outputs": [
    {
     "data": {
      "text/plain": [
       "h (generic function with 4 methods)"
      ]
     },
     "execution_count": 30,
     "metadata": {},
     "output_type": "execute_result"
    }
   ],
   "source": [
    "h(x::Int64, y::Int64) = x-y"
   ]
  },
  {
   "cell_type": "code",
   "execution_count": 31,
   "id": "23636257-19c4-463b-aa18-0bf5488ca958",
   "metadata": {},
   "outputs": [
    {
     "data": {
      "text/plain": [
       "-1"
      ]
     },
     "execution_count": 31,
     "metadata": {},
     "output_type": "execute_result"
    }
   ],
   "source": [
    "h() # optional arguments are tied to the function"
   ]
  },
  {
   "cell_type": "code",
   "execution_count": 32,
   "id": "acf4649f-c399-4377-b062-9f33f54115e0",
   "metadata": {},
   "outputs": [
    {
     "data": {
      "text/html": [
       "# 4 methods for generic function <b>h</b> from \u001b[33mMain\u001b[39m:<ul><li> h() in Main at In[29]:2</li> <li> h(x::<b>Int64</b>, y::<b>Int64</b>) in Main at In[30]:1</li> <li> h(x) in Main at In[29]:2</li> <li> h(x, y) in Main at In[29]:2</li> </ul>"
      ],
      "text/plain": [
       "# 4 methods for generic function \"h\" from \u001b[33mMain\u001b[39m:\n",
       " [1] h()\n",
       "\u001b[90m     @\u001b[39m \u001b[90m\u001b[4mIn[29]:2\u001b[24m\u001b[39m\n",
       " [2] h(\u001b[90mx\u001b[39m::\u001b[1mInt64\u001b[22m, \u001b[90my\u001b[39m::\u001b[1mInt64\u001b[22m)\n",
       "\u001b[90m     @\u001b[39m \u001b[90m\u001b[4mIn[30]:1\u001b[24m\u001b[39m\n",
       " [3] h(\u001b[90mx\u001b[39m)\n",
       "\u001b[90m     @\u001b[39m \u001b[90m\u001b[4mIn[29]:2\u001b[24m\u001b[39m\n",
       " [4] h(\u001b[90mx\u001b[39m, \u001b[90my\u001b[39m)\n",
       "\u001b[90m     @\u001b[39m \u001b[90m\u001b[4mIn[29]:2\u001b[24m\u001b[39m"
      ]
     },
     "execution_count": 32,
     "metadata": {},
     "output_type": "execute_result"
    }
   ],
   "source": [
    "methods(h)"
   ]
  },
  {
   "cell_type": "markdown",
   "id": "66950aa9-1b09-480e-87f5-89ae30885eb0",
   "metadata": {},
   "source": [
    "# Parametric methods"
   ]
  },
  {
   "cell_type": "code",
   "execution_count": 1,
   "id": "2a87c112-1591-4b85-9660-ae51381c5744",
   "metadata": {},
   "outputs": [
    {
     "data": {
      "text/plain": [
       "test_types (generic function with 1 method)"
      ]
     },
     "execution_count": 1,
     "metadata": {},
     "output_type": "execute_result"
    }
   ],
   "source": [
    "test_types(x::T, y::T) where {T} = \"Arguments have the same type\""
   ]
  },
  {
   "cell_type": "code",
   "execution_count": 2,
   "id": "c7f1d5b9-2ccc-4cec-b071-bb12529fbfdf",
   "metadata": {},
   "outputs": [
    {
     "data": {
      "text/plain": [
       "\"Arguments have the same type\""
      ]
     },
     "execution_count": 2,
     "metadata": {},
     "output_type": "execute_result"
    }
   ],
   "source": [
    "test_types(4,5)"
   ]
  },
  {
   "cell_type": "code",
   "execution_count": 3,
   "id": "1940784b-0568-4d37-b44d-f6cfacc4fe68",
   "metadata": {},
   "outputs": [
    {
     "data": {
      "text/plain": [
       "\"Arguments have the same type\""
      ]
     },
     "execution_count": 3,
     "metadata": {},
     "output_type": "execute_result"
    }
   ],
   "source": [
    "test_types(5.6,4.3)"
   ]
  },
  {
   "cell_type": "code",
   "execution_count": 4,
   "id": "b89e515c-66f4-49db-8965-e898a52bb0f2",
   "metadata": {},
   "outputs": [
    {
     "data": {
      "text/plain": [
       "\"Arguments have the same type\""
      ]
     },
     "execution_count": 4,
     "metadata": {},
     "output_type": "execute_result"
    }
   ],
   "source": [
    "test_types(\"abc\",\"bcd\")"
   ]
  },
  {
   "cell_type": "code",
   "execution_count": 5,
   "id": "43355ee2-6646-44c3-b0b9-d9c8a1ba61cf",
   "metadata": {},
   "outputs": [
    {
     "ename": "LoadError",
     "evalue": "MethodError: no method matching test_types(::Int64, ::Float64)\n\n\u001b[0mClosest candidates are:\n\u001b[0m  test_types(::T, \u001b[91m::T\u001b[39m) where T\n\u001b[0m\u001b[90m   @\u001b[39m \u001b[35mMain\u001b[39m \u001b[90m\u001b[4mIn[1]:1\u001b[24m\u001b[39m\n",
     "output_type": "error",
     "traceback": [
      "MethodError: no method matching test_types(::Int64, ::Float64)\n\n\u001b[0mClosest candidates are:\n\u001b[0m  test_types(::T, \u001b[91m::T\u001b[39m) where T\n\u001b[0m\u001b[90m   @\u001b[39m \u001b[35mMain\u001b[39m \u001b[90m\u001b[4mIn[1]:1\u001b[24m\u001b[39m\n",
      "",
      "Stacktrace:",
      " [1] top-level scope",
      "   @ In[5]:1"
     ]
    }
   ],
   "source": [
    "test_types(5,3.2) # we will get error"
   ]
  },
  {
   "cell_type": "code",
   "execution_count": 6,
   "id": "6d0d0afe-8785-470b-97ac-48e6e74984a6",
   "metadata": {},
   "outputs": [
    {
     "data": {
      "text/plain": [
       "test_types (generic function with 2 methods)"
      ]
     },
     "execution_count": 6,
     "metadata": {},
     "output_type": "execute_result"
    }
   ],
   "source": [
    "test_types(x,y) = \"Argument types are different\""
   ]
  },
  {
   "cell_type": "code",
   "execution_count": 7,
   "id": "dae6881a-82f7-4ca7-aaa4-e3329f3d67fb",
   "metadata": {},
   "outputs": [
    {
     "data": {
      "text/plain": [
       "\"Argument types are different\""
      ]
     },
     "execution_count": 7,
     "metadata": {},
     "output_type": "execute_result"
    }
   ],
   "source": [
    "test_types(5,3.2)"
   ]
  },
  {
   "cell_type": "code",
   "execution_count": 8,
   "id": "2b86ff5c-f67e-406c-809a-4022d20a3d90",
   "metadata": {},
   "outputs": [
    {
     "data": {
      "text/plain": [
       "find_type (generic function with 1 method)"
      ]
     },
     "execution_count": 8,
     "metadata": {},
     "output_type": "execute_result"
    }
   ],
   "source": [
    "find_type(x::T) where {T} = T"
   ]
  },
  {
   "cell_type": "code",
   "execution_count": 9,
   "id": "1b8a93f4-cef8-423d-a221-ee818294c7d1",
   "metadata": {},
   "outputs": [
    {
     "data": {
      "text/plain": [
       "Int64"
      ]
     },
     "execution_count": 9,
     "metadata": {},
     "output_type": "execute_result"
    }
   ],
   "source": [
    "find_type(3)"
   ]
  },
  {
   "cell_type": "code",
   "execution_count": 10,
   "id": "8d210b0d-ec2c-4dd9-836b-4a8d95088d0c",
   "metadata": {},
   "outputs": [
    {
     "data": {
      "text/plain": [
       "Float64"
      ]
     },
     "execution_count": 10,
     "metadata": {},
     "output_type": "execute_result"
    }
   ],
   "source": [
    "find_type(5.6)"
   ]
  },
  {
   "cell_type": "code",
   "execution_count": 11,
   "id": "8d1bc98b-5530-4ef7-9db7-9d986449d63b",
   "metadata": {},
   "outputs": [
    {
     "data": {
      "text/plain": [
       "Symbol"
      ]
     },
     "execution_count": 11,
     "metadata": {},
     "output_type": "execute_result"
    }
   ],
   "source": [
    "find_type(:Hello)"
   ]
  },
  {
   "cell_type": "code",
   "execution_count": 12,
   "id": "619fb171-398e-4982-9624-c772997feb4c",
   "metadata": {},
   "outputs": [
    {
     "data": {
      "text/plain": [
       "test_types_number (generic function with 1 method)"
      ]
     },
     "execution_count": 12,
     "metadata": {},
     "output_type": "execute_result"
    }
   ],
   "source": [
    "test_types_number(x::T, y::T) where {T <: Number} = \"Same type numbers!\""
   ]
  },
  {
   "cell_type": "code",
   "execution_count": 14,
   "id": "15d2a1d7-1d7a-40b4-a812-3cd4cdccb93d",
   "metadata": {},
   "outputs": [
    {
     "data": {
      "text/plain": [
       "\"Same type numbers!\""
      ]
     },
     "execution_count": 14,
     "metadata": {},
     "output_type": "execute_result"
    }
   ],
   "source": [
    "test_types_number(3,5)"
   ]
  },
  {
   "cell_type": "code",
   "execution_count": 15,
   "id": "513e8851-3f13-4449-b051-edefa68bb33c",
   "metadata": {},
   "outputs": [
    {
     "data": {
      "text/plain": [
       "\"Same type numbers!\""
      ]
     },
     "execution_count": 15,
     "metadata": {},
     "output_type": "execute_result"
    }
   ],
   "source": [
    "test_types_number(3.4,5.2)"
   ]
  },
  {
   "cell_type": "code",
   "execution_count": 16,
   "id": "131eaca8-5948-4d4a-899e-fd4c1927b268",
   "metadata": {},
   "outputs": [
    {
     "ename": "LoadError",
     "evalue": "MethodError: no method matching test_types_number(::Int64, ::Float64)\n\n\u001b[0mClosest candidates are:\n\u001b[0m  test_types_number(::T, \u001b[91m::T\u001b[39m) where T<:Number\n\u001b[0m\u001b[90m   @\u001b[39m \u001b[35mMain\u001b[39m \u001b[90m\u001b[4mIn[12]:1\u001b[24m\u001b[39m\n",
     "output_type": "error",
     "traceback": [
      "MethodError: no method matching test_types_number(::Int64, ::Float64)\n\n\u001b[0mClosest candidates are:\n\u001b[0m  test_types_number(::T, \u001b[91m::T\u001b[39m) where T<:Number\n\u001b[0m\u001b[90m   @\u001b[39m \u001b[35mMain\u001b[39m \u001b[90m\u001b[4mIn[12]:1\u001b[24m\u001b[39m\n",
      "",
      "Stacktrace:",
      " [1] top-level scope",
      "   @ In[16]:1"
     ]
    }
   ],
   "source": [
    "test_types_number(3, 7.7) # numbers are different types"
   ]
  },
  {
   "cell_type": "code",
   "execution_count": 17,
   "id": "62b12c0c-7158-4935-a9c6-2e512dd75c9a",
   "metadata": {},
   "outputs": [
    {
     "data": {
      "text/plain": [
       "test_types_number (generic function with 2 methods)"
      ]
     },
     "execution_count": 17,
     "metadata": {},
     "output_type": "execute_result"
    }
   ],
   "source": [
    "test_types_number(x::Number, y::Number) = \"Both numbers but different types\""
   ]
  },
  {
   "cell_type": "code",
   "execution_count": 18,
   "id": "96add1c6-c89f-4d19-abed-20ddca200064",
   "metadata": {},
   "outputs": [
    {
     "data": {
      "text/plain": [
       "\"Both numbers but different types\""
      ]
     },
     "execution_count": 18,
     "metadata": {},
     "output_type": "execute_result"
    }
   ],
   "source": [
    "test_types_number(4,5.5)"
   ]
  },
  {
   "cell_type": "code",
   "execution_count": 19,
   "id": "8dcd8879-4489-436b-a09b-43552082928f",
   "metadata": {},
   "outputs": [
    {
     "ename": "LoadError",
     "evalue": "MethodError: no method matching test_types_number(::Int64, ::String)\n\n\u001b[0mClosest candidates are:\n\u001b[0m  test_types_number(::T, \u001b[91m::T\u001b[39m) where T<:Number\n\u001b[0m\u001b[90m   @\u001b[39m \u001b[35mMain\u001b[39m \u001b[90m\u001b[4mIn[12]:1\u001b[24m\u001b[39m\n\u001b[0m  test_types_number(::Number, \u001b[91m::Number\u001b[39m)\n\u001b[0m\u001b[90m   @\u001b[39m \u001b[35mMain\u001b[39m \u001b[90m\u001b[4mIn[17]:1\u001b[24m\u001b[39m\n",
     "output_type": "error",
     "traceback": [
      "MethodError: no method matching test_types_number(::Int64, ::String)\n\n\u001b[0mClosest candidates are:\n\u001b[0m  test_types_number(::T, \u001b[91m::T\u001b[39m) where T<:Number\n\u001b[0m\u001b[90m   @\u001b[39m \u001b[35mMain\u001b[39m \u001b[90m\u001b[4mIn[12]:1\u001b[24m\u001b[39m\n\u001b[0m  test_types_number(::Number, \u001b[91m::Number\u001b[39m)\n\u001b[0m\u001b[90m   @\u001b[39m \u001b[35mMain\u001b[39m \u001b[90m\u001b[4mIn[17]:1\u001b[24m\u001b[39m\n",
      "",
      "Stacktrace:",
      " [1] top-level scope",
      "   @ In[19]:1"
     ]
    }
   ],
   "source": [
    "test_types_number(4,\"abc\") # won't work"
   ]
  },
  {
   "cell_type": "code",
   "execution_count": 20,
   "id": "5b279482-2745-4116-9252-732ee46be6a7",
   "metadata": {},
   "outputs": [
    {
     "data": {
      "text/plain": [
       "test_type_number (generic function with 1 method)"
      ]
     },
     "execution_count": 20,
     "metadata": {},
     "output_type": "execute_result"
    }
   ],
   "source": [
    "test_type_number(x,y) = \"At least one argument is not number\""
   ]
  },
  {
   "cell_type": "code",
   "execution_count": 21,
   "id": "3d58e6ef-c412-40fb-bfeb-cf162d9b6c56",
   "metadata": {},
   "outputs": [
    {
     "data": {
      "text/plain": [
       "\"At least one argument is not number\""
      ]
     },
     "execution_count": 21,
     "metadata": {},
     "output_type": "execute_result"
    }
   ],
   "source": [
    "test_type_number(\"abc\",5)"
   ]
  },
  {
   "cell_type": "code",
   "execution_count": 22,
   "id": "a6c3bad4-c076-4f5b-a426-c51e7e2c9cf5",
   "metadata": {},
   "outputs": [
    {
     "data": {
      "text/plain": [
       "\"At least one argument is not number\""
      ]
     },
     "execution_count": 22,
     "metadata": {},
     "output_type": "execute_result"
    }
   ],
   "source": [
    "test_type_number(\"abc\",\"Hello\")"
   ]
  },
  {
   "cell_type": "code",
   "execution_count": 23,
   "id": "c4b6243b-3bb7-496f-ae99-066fad904e8b",
   "metadata": {},
   "outputs": [
    {
     "data": {
      "text/plain": [
       "\"At least one argument is not number\""
      ]
     },
     "execution_count": 23,
     "metadata": {},
     "output_type": "execute_result"
    }
   ],
   "source": [
    "test_type_number(4,5)"
   ]
  },
  {
   "cell_type": "code",
   "execution_count": 24,
   "id": "1dd2279e-a129-4bc7-942f-da2591a4417b",
   "metadata": {},
   "outputs": [
    {
     "data": {
      "text/plain": [
       "find_type (generic function with 2 methods)"
      ]
     },
     "execution_count": 24,
     "metadata": {},
     "output_type": "execute_result"
    }
   ],
   "source": [
    "find_type(x::T, y::P) where {T <: String, P <: Number} = \"$x is String and $y is Number\""
   ]
  },
  {
   "cell_type": "code",
   "execution_count": 25,
   "id": "69568b6d-7d0f-47f9-9b23-f84819196708",
   "metadata": {},
   "outputs": [
    {
     "data": {
      "text/plain": [
       "\"Hemanth is String and 5 is Number\""
      ]
     },
     "execution_count": 25,
     "metadata": {},
     "output_type": "execute_result"
    }
   ],
   "source": [
    "find_type(\"Hemanth\", 5)"
   ]
  },
  {
   "cell_type": "code",
   "execution_count": 26,
   "id": "cf014665-2038-4287-ac5b-196625b2e78f",
   "metadata": {},
   "outputs": [
    {
     "ename": "LoadError",
     "evalue": "MethodError: no method matching find_type(::Int64, ::String)\n\n\u001b[0mClosest candidates are:\n\u001b[0m  find_type(::T) where T\n\u001b[0m\u001b[90m   @\u001b[39m \u001b[35mMain\u001b[39m \u001b[90m\u001b[4mIn[8]:1\u001b[24m\u001b[39m\n",
     "output_type": "error",
     "traceback": [
      "MethodError: no method matching find_type(::Int64, ::String)\n\n\u001b[0mClosest candidates are:\n\u001b[0m  find_type(::T) where T\n\u001b[0m\u001b[90m   @\u001b[39m \u001b[35mMain\u001b[39m \u001b[90m\u001b[4mIn[8]:1\u001b[24m\u001b[39m\n",
      "",
      "Stacktrace:",
      " [1] top-level scope",
      "   @ In[26]:1"
     ]
    }
   ],
   "source": [
    "find_type(5, \"Hemanth\") # error"
   ]
  },
  {
   "cell_type": "code",
   "execution_count": 27,
   "id": "02ad5904-5928-4985-b53b-62dd4fb00ed7",
   "metadata": {},
   "outputs": [
    {
     "data": {
      "text/plain": [
       "check_types (generic function with 1 method)"
      ]
     },
     "execution_count": 27,
     "metadata": {},
     "output_type": "execute_result"
    }
   ],
   "source": [
    "check_types(a::Array{T}, x::T) where {T} = \"$x has the same type with the array.\""
   ]
  },
  {
   "cell_type": "code",
   "execution_count": 28,
   "id": "5571ff66-76ea-4165-9f8b-75ef62fb1a5f",
   "metadata": {},
   "outputs": [
    {
     "data": {
      "text/plain": [
       "\"20 has the same type with the array.\""
      ]
     },
     "execution_count": 28,
     "metadata": {},
     "output_type": "execute_result"
    }
   ],
   "source": [
    "check_types(Vector(1:15), 20)"
   ]
  },
  {
   "cell_type": "code",
   "execution_count": 29,
   "id": "bfe39e6e-74c5-4522-825b-b43b21e807d9",
   "metadata": {},
   "outputs": [],
   "source": [
    "# custom parametric methods"
   ]
  },
  {
   "cell_type": "code",
   "execution_count": 30,
   "id": "d4a16d22-9363-4318-9d32-9ba73c1865db",
   "metadata": {},
   "outputs": [],
   "source": [
    "abstract type Shape end"
   ]
  },
  {
   "cell_type": "code",
   "execution_count": 34,
   "id": "782891ed-e570-42b9-8037-a1d3e911359e",
   "metadata": {},
   "outputs": [],
   "source": [
    "struct Circle <: Shape\n",
    "    radius::Float64\n",
    "end"
   ]
  },
  {
   "cell_type": "code",
   "execution_count": 35,
   "id": "a0590246-24d9-4964-b432-1e224333d45d",
   "metadata": {},
   "outputs": [],
   "source": [
    "struct Rectangle <: Shape\n",
    "    width::Float64\n",
    "    height::Float64\n",
    "end"
   ]
  },
  {
   "cell_type": "code",
   "execution_count": 37,
   "id": "a815276e-3c98-4336-8864-523bc5ff44cb",
   "metadata": {},
   "outputs": [
    {
     "data": {
      "text/plain": [
       "area (generic function with 2 methods)"
      ]
     },
     "execution_count": 37,
     "metadata": {},
     "output_type": "execute_result"
    }
   ],
   "source": [
    "area(s::Circle) = π * s.radius^2\n",
    "area(s::Rectangle) = s.width * s.height"
   ]
  },
  {
   "cell_type": "code",
   "execution_count": 38,
   "id": "a990183d-f732-4bd3-ad27-bab04680f9aa",
   "metadata": {},
   "outputs": [
    {
     "data": {
      "text/plain": [
       "Rectangle(3.5, 9.6)"
      ]
     },
     "execution_count": 38,
     "metadata": {},
     "output_type": "execute_result"
    }
   ],
   "source": [
    "rectangle = Rectangle(3.5, 9.6)"
   ]
  },
  {
   "cell_type": "code",
   "execution_count": 39,
   "id": "c60781ee-f11b-4d5d-94d4-215c6c8ea438",
   "metadata": {},
   "outputs": [
    {
     "data": {
      "text/plain": [
       "Circle(6.4)"
      ]
     },
     "execution_count": 39,
     "metadata": {},
     "output_type": "execute_result"
    }
   ],
   "source": [
    "circ = Circle(6.4)"
   ]
  },
  {
   "cell_type": "code",
   "execution_count": 40,
   "id": "d9e5c7d9-9fe1-4da0-b344-1698b0aaa572",
   "metadata": {},
   "outputs": [
    {
     "data": {
      "text/plain": [
       "33.6"
      ]
     },
     "execution_count": 40,
     "metadata": {},
     "output_type": "execute_result"
    }
   ],
   "source": [
    "area(rectangle)"
   ]
  },
  {
   "cell_type": "code",
   "execution_count": 41,
   "id": "a504e9fa-c307-4c07-9211-ed1e4ef68e47",
   "metadata": {},
   "outputs": [
    {
     "data": {
      "text/plain": [
       "128.67963509103794"
      ]
     },
     "execution_count": 41,
     "metadata": {},
     "output_type": "execute_result"
    }
   ],
   "source": [
    "area(circ)"
   ]
  },
  {
   "cell_type": "code",
   "execution_count": 42,
   "id": "bb613a58-f16b-4e10-8ebc-fa06e8c5ae3c",
   "metadata": {},
   "outputs": [],
   "source": [
    "Base.show(io::IO, s::Shape) = println(io, \"Shape: \",typeof(s), \", Area: \",area(s))"
   ]
  },
  {
   "cell_type": "code",
   "execution_count": 44,
   "id": "3170e40f-27de-43fa-9819-80e1508244b6",
   "metadata": {},
   "outputs": [
    {
     "data": {
      "text/plain": [
       "Shape: Rectangle, Area: 33.6\n"
      ]
     },
     "execution_count": 44,
     "metadata": {},
     "output_type": "execute_result"
    }
   ],
   "source": [
    "rectangle"
   ]
  },
  {
   "cell_type": "code",
   "execution_count": 45,
   "id": "e09c0d8d-027c-4bbf-b951-04fb581cf1dc",
   "metadata": {},
   "outputs": [
    {
     "data": {
      "text/plain": [
       "Shape: Circle, Area: 128.67963509103794\n"
      ]
     },
     "execution_count": 45,
     "metadata": {},
     "output_type": "execute_result"
    }
   ],
   "source": [
    "circ"
   ]
  },
  {
   "cell_type": "code",
   "execution_count": 46,
   "id": "e016ca2a-bbcd-4205-97c2-62371b6408f1",
   "metadata": {},
   "outputs": [],
   "source": [
    "# restrict number of arguments"
   ]
  },
  {
   "cell_type": "code",
   "execution_count": 47,
   "id": "c258db46-b0d4-4926-bec7-68dcfcf9bf64",
   "metadata": {},
   "outputs": [
    {
     "data": {
      "text/plain": [
       "two_args (generic function with 1 method)"
      ]
     },
     "execution_count": 47,
     "metadata": {},
     "output_type": "execute_result"
    }
   ],
   "source": [
    "two_args(x::Vararg{Number, 2}) = maximum(x)"
   ]
  },
  {
   "cell_type": "code",
   "execution_count": 48,
   "id": "d35118e3-69c6-4552-a5bc-9183c27e5231",
   "metadata": {},
   "outputs": [
    {
     "data": {
      "text/plain": [
       "2"
      ]
     },
     "execution_count": 48,
     "metadata": {},
     "output_type": "execute_result"
    }
   ],
   "source": [
    "two_args(1,2)"
   ]
  },
  {
   "cell_type": "code",
   "execution_count": 49,
   "id": "0b21211f-e17a-4311-9326-4a4eea15ee6f",
   "metadata": {},
   "outputs": [
    {
     "ename": "LoadError",
     "evalue": "MethodError: no method matching two_args(::Int64)\n\n\u001b[0mClosest candidates are:\n\u001b[0m  two_args(::Number, \u001b[91m::Number\u001b[39m)\n\u001b[0m\u001b[90m   @\u001b[39m \u001b[35mMain\u001b[39m \u001b[90m\u001b[4mIn[47]:1\u001b[24m\u001b[39m\n",
     "output_type": "error",
     "traceback": [
      "MethodError: no method matching two_args(::Int64)\n\n\u001b[0mClosest candidates are:\n\u001b[0m  two_args(::Number, \u001b[91m::Number\u001b[39m)\n\u001b[0m\u001b[90m   @\u001b[39m \u001b[35mMain\u001b[39m \u001b[90m\u001b[4mIn[47]:1\u001b[24m\u001b[39m\n",
      "",
      "Stacktrace:",
      " [1] top-level scope",
      "   @ In[49]:1"
     ]
    }
   ],
   "source": [
    "two_args(1) # passing only 1 arg"
   ]
  },
  {
   "cell_type": "code",
   "execution_count": 50,
   "id": "83ae8afe-9763-49b6-b72a-9489ec08b75c",
   "metadata": {},
   "outputs": [
    {
     "ename": "LoadError",
     "evalue": "MethodError: no method matching two_args(::Int64, ::Int64, ::Int64)\n\n\u001b[0mClosest candidates are:\n\u001b[0m  two_args(::Number, ::Number)\n\u001b[0m\u001b[90m   @\u001b[39m \u001b[35mMain\u001b[39m \u001b[90m\u001b[4mIn[47]:1\u001b[24m\u001b[39m\n",
     "output_type": "error",
     "traceback": [
      "MethodError: no method matching two_args(::Int64, ::Int64, ::Int64)\n\n\u001b[0mClosest candidates are:\n\u001b[0m  two_args(::Number, ::Number)\n\u001b[0m\u001b[90m   @\u001b[39m \u001b[35mMain\u001b[39m \u001b[90m\u001b[4mIn[47]:1\u001b[24m\u001b[39m\n",
      "",
      "Stacktrace:",
      " [1] top-level scope",
      "   @ In[50]:1"
     ]
    }
   ],
   "source": [
    "two_args(1,2,3) # passing more than 2 args"
   ]
  },
  {
   "cell_type": "markdown",
   "id": "058c2572-0a69-486e-b9c7-5f26d13f268c",
   "metadata": {},
   "source": [
    "# Function like Objects"
   ]
  },
  {
   "cell_type": "code",
   "execution_count": 51,
   "id": "7d50656f-f8f2-4e25-a72e-e28670839a90",
   "metadata": {},
   "outputs": [],
   "source": [
    "mutable struct model{R}\n",
    "    coefficients::Vector{R}\n",
    "end"
   ]
  },
  {
   "cell_type": "code",
   "execution_count": 56,
   "id": "f1df95c4-f640-4896-ab21-2c67bba217f9",
   "metadata": {},
   "outputs": [],
   "source": [
    "function (m::model)(x)\n",
    "    coeffis = m.coefficients\n",
    "    s = 0\n",
    "    for i in 1:length(x)\n",
    "        s+=x[i]*coeffis[i]\n",
    "    end\n",
    "    return s\n",
    "end"
   ]
  },
  {
   "cell_type": "code",
   "execution_count": 57,
   "id": "b29e2766-7c85-4a8c-a1ba-abe89a74d6e1",
   "metadata": {},
   "outputs": [
    {
     "data": {
      "text/plain": [
       "model{Int64}([1, 3, 5])"
      ]
     },
     "execution_count": 57,
     "metadata": {},
     "output_type": "execute_result"
    }
   ],
   "source": [
    "lm = model([1, 3, 5]) # do not give matrix"
   ]
  },
  {
   "cell_type": "code",
   "execution_count": 58,
   "id": "475a08a7-3174-4a98-a968-b8e42fa92688",
   "metadata": {},
   "outputs": [
    {
     "data": {
      "text/plain": [
       "44"
      ]
     },
     "execution_count": 58,
     "metadata": {},
     "output_type": "execute_result"
    }
   ],
   "source": [
    "lm([2, 4, 6])"
   ]
  },
  {
   "cell_type": "markdown",
   "id": "740d03bf-f054-4b5f-baa7-4e4b4389a01a",
   "metadata": {},
   "source": [
    "# constructors"
   ]
  },
  {
   "cell_type": "code",
   "execution_count": 60,
   "id": "078bae46-66e4-4eb6-b8f4-d5bb6700aaf5",
   "metadata": {},
   "outputs": [],
   "source": [
    "mutable struct ModelVars\n",
    "    x₁::Float64 # \\_1 TAB\n",
    "    x₂::Float64\n",
    "    x₃::Float64\n",
    "end"
   ]
  },
  {
   "cell_type": "code",
   "execution_count": 61,
   "id": "328d9ee7-3407-4dae-8a7c-0a9fdb3acebb",
   "metadata": {},
   "outputs": [
    {
     "data": {
      "text/plain": [
       "(:x₁, :x₂, :x₃)"
      ]
     },
     "execution_count": 61,
     "metadata": {},
     "output_type": "execute_result"
    }
   ],
   "source": [
    "fieldnames(ModelVars)"
   ]
  },
  {
   "cell_type": "code",
   "execution_count": 62,
   "id": "6d7c2247-b3d9-4861-b197-ce77438fcb0a",
   "metadata": {},
   "outputs": [
    {
     "data": {
      "text/plain": [
       "ModelVars(2.5, 5.6, 7.8)"
      ]
     },
     "execution_count": 62,
     "metadata": {},
     "output_type": "execute_result"
    }
   ],
   "source": [
    "m1 = ModelVars(2.5,5.6,7.8)"
   ]
  },
  {
   "cell_type": "code",
   "execution_count": 63,
   "id": "345ff046-ed08-4cd4-830a-2759a3579bf5",
   "metadata": {},
   "outputs": [
    {
     "data": {
      "text/plain": [
       "2.5"
      ]
     },
     "execution_count": 63,
     "metadata": {},
     "output_type": "execute_result"
    }
   ],
   "source": [
    "m1.x₁"
   ]
  },
  {
   "cell_type": "code",
   "execution_count": 64,
   "id": "a683c7dd-c2ab-4720-99f3-1677c39e9b52",
   "metadata": {},
   "outputs": [
    {
     "data": {
      "text/html": [
       "# 2 methods for type constructor:<ul><li> ModelVars(x₁::<b>Float64</b>, x₂::<b>Float64</b>, x₃::<b>Float64</b>) in Main at In[60]:2</li> <li> ModelVars(x₁, x₂, x₃) in Main at In[60]:2</li> </ul>"
      ],
      "text/plain": [
       "# 2 methods for type constructor:\n",
       " [1] ModelVars(\u001b[90mx₁\u001b[39m::\u001b[1mFloat64\u001b[22m, \u001b[90mx₂\u001b[39m::\u001b[1mFloat64\u001b[22m, \u001b[90mx₃\u001b[39m::\u001b[1mFloat64\u001b[22m)\n",
       "\u001b[90m     @\u001b[39m \u001b[90m\u001b[4mIn[60]:2\u001b[24m\u001b[39m\n",
       " [2] ModelVars(\u001b[90mx₁\u001b[39m, \u001b[90mx₂\u001b[39m, \u001b[90mx₃\u001b[39m)\n",
       "\u001b[90m     @\u001b[39m \u001b[90m\u001b[4mIn[60]:2\u001b[24m\u001b[39m"
      ]
     },
     "execution_count": 64,
     "metadata": {},
     "output_type": "execute_result"
    }
   ],
   "source": [
    "methods(ModelVars)"
   ]
  },
  {
   "cell_type": "code",
   "execution_count": 66,
   "id": "977d4803-7fec-453f-862d-82aadb81fcab",
   "metadata": {},
   "outputs": [
    {
     "data": {
      "text/plain": [
       "ModelVars(3.0, 5.0, 7.0)"
      ]
     },
     "execution_count": 66,
     "metadata": {},
     "output_type": "execute_result"
    }
   ],
   "source": [
    "ModelVars(3,5,7)"
   ]
  },
  {
   "cell_type": "code",
   "execution_count": 68,
   "id": "0134393b-804a-4d4e-932c-51b4ec8e34b6",
   "metadata": {},
   "outputs": [
    {
     "data": {
      "text/plain": [
       "3.5"
      ]
     },
     "execution_count": 68,
     "metadata": {},
     "output_type": "execute_result"
    }
   ],
   "source": [
    "m1.x₁ = 3.5 # since the struct is mutable"
   ]
  },
  {
   "cell_type": "code",
   "execution_count": 69,
   "id": "0ccc28bc-fbd0-40ef-bf55-2769bbd6b96d",
   "metadata": {},
   "outputs": [
    {
     "data": {
      "text/plain": [
       "3.5"
      ]
     },
     "execution_count": 69,
     "metadata": {},
     "output_type": "execute_result"
    }
   ],
   "source": [
    "m1.x₁"
   ]
  },
  {
   "cell_type": "code",
   "execution_count": 70,
   "id": "64f9f501-cf1e-4c02-941c-3d5f3f4e212b",
   "metadata": {},
   "outputs": [],
   "source": [
    "abstract type Student end"
   ]
  },
  {
   "cell_type": "code",
   "execution_count": 71,
   "id": "f2edf41e-b055-4544-81ba-21b618ec5d92",
   "metadata": {},
   "outputs": [
    {
     "ename": "LoadError",
     "evalue": "MethodError: no constructors have been defined for Student",
     "output_type": "error",
     "traceback": [
      "MethodError: no constructors have been defined for Student",
      "",
      "Stacktrace:",
      " [1] top-level scope",
      "   @ In[71]:1"
     ]
    }
   ],
   "source": [
    "Student()"
   ]
  },
  {
   "cell_type": "code",
   "execution_count": 73,
   "id": "d10d8b10-96a5-469b-ae04-1bd34a66eb5b",
   "metadata": {},
   "outputs": [],
   "source": [
    "mutable struct CSSStudent <: Student\n",
    "    name::String\n",
    "    student_id::Int64\n",
    "    gpa::Float64\n",
    "    specialization::String\n",
    "    programming_language::String\n",
    "end"
   ]
  },
  {
   "cell_type": "code",
   "execution_count": 74,
   "id": "b85df494-183a-420c-b0a4-351923e10b92",
   "metadata": {},
   "outputs": [
    {
     "data": {
      "text/plain": [
       "CSSStudent(\"George\", 12344, 3.75, \"Data Science\", \"Julia\")"
      ]
     },
     "execution_count": 74,
     "metadata": {},
     "output_type": "execute_result"
    }
   ],
   "source": [
    "cs1 = CSSStudent(\"George\",12344,3.75,\"Data Science\",\"Julia\")"
   ]
  },
  {
   "cell_type": "code",
   "execution_count": 75,
   "id": "b1b065ea-b8af-46d5-8eb1-df2ed226e230",
   "metadata": {},
   "outputs": [
    {
     "data": {
      "text/plain": [
       "CSSStudent"
      ]
     },
     "execution_count": 75,
     "metadata": {},
     "output_type": "execute_result"
    }
   ],
   "source": [
    "CSSStudent(name, id, gpa) = CSSStudent(name, id, gpa, \"Data Science\",\"Julia\")"
   ]
  },
  {
   "cell_type": "code",
   "execution_count": 76,
   "id": "fa235988-4a8c-41c0-afde-8df87dbd8da6",
   "metadata": {},
   "outputs": [
    {
     "data": {
      "text/html": [
       "# 3 methods for type constructor:<ul><li> CSSStudent(name::<b>String</b>, student_id::<b>Int64</b>, gpa::<b>Float64</b>, specialization::<b>String</b>, programming_language::<b>String</b>) in Main at In[73]:2</li> <li> CSSStudent(name, id, gpa) in Main at In[75]:1</li> <li> CSSStudent(name, student_id, gpa, specialization, programming_language) in Main at In[73]:2</li> </ul>"
      ],
      "text/plain": [
       "# 3 methods for type constructor:\n",
       " [1] CSSStudent(\u001b[90mname\u001b[39m::\u001b[1mString\u001b[22m, \u001b[90mstudent_id\u001b[39m::\u001b[1mInt64\u001b[22m, \u001b[90mgpa\u001b[39m::\u001b[1mFloat64\u001b[22m, \u001b[90mspecialization\u001b[39m::\u001b[1mString\u001b[22m, \u001b[90mprogramming_language\u001b[39m::\u001b[1mString\u001b[22m)\n",
       "\u001b[90m     @\u001b[39m \u001b[90m\u001b[4mIn[73]:2\u001b[24m\u001b[39m\n",
       " [2] CSSStudent(\u001b[90mname\u001b[39m, \u001b[90mid\u001b[39m, \u001b[90mgpa\u001b[39m)\n",
       "\u001b[90m     @\u001b[39m \u001b[90m\u001b[4mIn[75]:1\u001b[24m\u001b[39m\n",
       " [3] CSSStudent(\u001b[90mname\u001b[39m, \u001b[90mstudent_id\u001b[39m, \u001b[90mgpa\u001b[39m, \u001b[90mspecialization\u001b[39m, \u001b[90mprogramming_language\u001b[39m)\n",
       "\u001b[90m     @\u001b[39m \u001b[90m\u001b[4mIn[73]:2\u001b[24m\u001b[39m"
      ]
     },
     "execution_count": 76,
     "metadata": {},
     "output_type": "execute_result"
    }
   ],
   "source": [
    "methods(CSSStudent)"
   ]
  },
  {
   "cell_type": "code",
   "execution_count": 77,
   "id": "f06fe668-be96-4e1b-95e6-0bde632058e2",
   "metadata": {},
   "outputs": [
    {
     "data": {
      "text/plain": [
       "CSSStudent(\"Mary\", 112233, 3.95, \"Data Science\", \"Julia\")"
      ]
     },
     "execution_count": 77,
     "metadata": {},
     "output_type": "execute_result"
    }
   ],
   "source": [
    "CSSStudent(\"Mary\",112233,3.95)"
   ]
  },
  {
   "cell_type": "code",
   "execution_count": 78,
   "id": "64599b63-0a6e-48b8-bf84-27a84d778b8e",
   "metadata": {},
   "outputs": [
    {
     "data": {
      "text/plain": [
       "CSSStudent(\"Ali\", 12345, 3.11, \"Development\", \"Java\")"
      ]
     },
     "execution_count": 78,
     "metadata": {},
     "output_type": "execute_result"
    }
   ],
   "source": [
    "CSSStudent(\"Ali\",12345,3.11,\"Development\",\"Java\")"
   ]
  },
  {
   "cell_type": "code",
   "execution_count": 79,
   "id": "75568925-4204-45fd-8f4e-99ff98656a33",
   "metadata": {},
   "outputs": [
    {
     "ename": "LoadError",
     "evalue": "invalid subtyping in definition of DataScienceStudent: can only subtype abstract types.",
     "output_type": "error",
     "traceback": [
      "invalid subtyping in definition of DataScienceStudent: can only subtype abstract types.",
      "",
      "Stacktrace:",
      " [1] top-level scope",
      "   @ In[79]:1"
     ]
    }
   ],
   "source": [
    "mutable struct DataScienceStudent <: CSSStudent end # can't do this"
   ]
  },
  {
   "cell_type": "code",
   "execution_count": 83,
   "id": "1a798158-2e21-469a-a305-7c80e34dfb6a",
   "metadata": {},
   "outputs": [
    {
     "data": {
      "text/plain": [
       "CSSStudent"
      ]
     },
     "execution_count": 83,
     "metadata": {},
     "output_type": "execute_result"
    }
   ],
   "source": [
    "function CSSStudent(; name, student_id, gpa=NaN, specialization=\"Data Science\", programming_language=\"Julia\")\n",
    "    return CSSStudent(name, student_id, gpa, specialization, programming_language)\n",
    "end\n",
    "\n",
    "\n"
   ]
  },
  {
   "cell_type": "code",
   "execution_count": 85,
   "id": "9534bd26-f2c4-4818-9f53-ba2f9ef66646",
   "metadata": {},
   "outputs": [
    {
     "data": {
      "text/html": [
       "# 4 methods for type constructor:<ul><li> CSSStudent(; <i>name, student_id, gpa, specialization, programming_language</i>) in Main at In[83]:1</li> <li> CSSStudent(name::<b>String</b>, student_id::<b>Int64</b>, gpa::<b>Float64</b>, specialization::<b>String</b>, programming_language::<b>String</b>) in Main at In[73]:2</li> <li> CSSStudent(name, id, gpa) in Main at In[75]:1</li> <li> CSSStudent(name, student_id, gpa, specialization, programming_language) in Main at In[73]:2</li> </ul>"
      ],
      "text/plain": [
       "# 4 methods for type constructor:\n",
       " [1] CSSStudent(; name, student_id, gpa, specialization, programming_language)\n",
       "\u001b[90m     @\u001b[39m \u001b[90m\u001b[4mIn[83]:1\u001b[24m\u001b[39m\n",
       " [2] CSSStudent(\u001b[90mname\u001b[39m::\u001b[1mString\u001b[22m, \u001b[90mstudent_id\u001b[39m::\u001b[1mInt64\u001b[22m, \u001b[90mgpa\u001b[39m::\u001b[1mFloat64\u001b[22m, \u001b[90mspecialization\u001b[39m::\u001b[1mString\u001b[22m, \u001b[90mprogramming_language\u001b[39m::\u001b[1mString\u001b[22m)\n",
       "\u001b[90m     @\u001b[39m \u001b[90m\u001b[4mIn[73]:2\u001b[24m\u001b[39m\n",
       " [3] CSSStudent(\u001b[90mname\u001b[39m, \u001b[90mid\u001b[39m, \u001b[90mgpa\u001b[39m)\n",
       "\u001b[90m     @\u001b[39m \u001b[90m\u001b[4mIn[75]:1\u001b[24m\u001b[39m\n",
       " [4] CSSStudent(\u001b[90mname\u001b[39m, \u001b[90mstudent_id\u001b[39m, \u001b[90mgpa\u001b[39m, \u001b[90mspecialization\u001b[39m, \u001b[90mprogramming_language\u001b[39m)\n",
       "\u001b[90m     @\u001b[39m \u001b[90m\u001b[4mIn[73]:2\u001b[24m\u001b[39m"
      ]
     },
     "execution_count": 85,
     "metadata": {},
     "output_type": "execute_result"
    }
   ],
   "source": [
    "methods(CSSStudent)"
   ]
  },
  {
   "cell_type": "code",
   "execution_count": 84,
   "id": "9f7a3321-e15a-4702-9d24-ab99ce780767",
   "metadata": {},
   "outputs": [
    {
     "ename": "LoadError",
     "evalue": "MethodError: no method matching CSSStudent(; name::String, student_id::Int64, specilization::String, programming_language::String)\n\n\u001b[0mClosest candidates are:\n\u001b[0m  CSSStudent(; name, student_id, gpa, specialization, programming_language)\u001b[91m got unsupported keyword argument \"specilization\"\u001b[39m\n\u001b[0m\u001b[90m   @\u001b[39m \u001b[35mMain\u001b[39m \u001b[90m\u001b[4mIn[83]:1\u001b[24m\u001b[39m\n\u001b[0m  CSSStudent(\u001b[91m::String\u001b[39m, \u001b[91m::Int64\u001b[39m, \u001b[91m::Float64\u001b[39m, \u001b[91m::String\u001b[39m, \u001b[91m::String\u001b[39m)\u001b[91m got unsupported keyword arguments \"name\", \"student_id\", \"specilization\", \"programming_language\"\u001b[39m\n\u001b[0m\u001b[90m   @\u001b[39m \u001b[35mMain\u001b[39m \u001b[90m\u001b[4mIn[73]:2\u001b[24m\u001b[39m\n\u001b[0m  CSSStudent(\u001b[91m::Any\u001b[39m, \u001b[91m::Any\u001b[39m, \u001b[91m::Any\u001b[39m)\u001b[91m got unsupported keyword arguments \"name\", \"student_id\", \"specilization\", \"programming_language\"\u001b[39m\n\u001b[0m\u001b[90m   @\u001b[39m \u001b[35mMain\u001b[39m \u001b[90m\u001b[4mIn[75]:1\u001b[24m\u001b[39m\n\u001b[0m  ...\n",
     "output_type": "error",
     "traceback": [
      "MethodError: no method matching CSSStudent(; name::String, student_id::Int64, specilization::String, programming_language::String)\n\n\u001b[0mClosest candidates are:\n\u001b[0m  CSSStudent(; name, student_id, gpa, specialization, programming_language)\u001b[91m got unsupported keyword argument \"specilization\"\u001b[39m\n\u001b[0m\u001b[90m   @\u001b[39m \u001b[35mMain\u001b[39m \u001b[90m\u001b[4mIn[83]:1\u001b[24m\u001b[39m\n\u001b[0m  CSSStudent(\u001b[91m::String\u001b[39m, \u001b[91m::Int64\u001b[39m, \u001b[91m::Float64\u001b[39m, \u001b[91m::String\u001b[39m, \u001b[91m::String\u001b[39m)\u001b[91m got unsupported keyword arguments \"name\", \"student_id\", \"specilization\", \"programming_language\"\u001b[39m\n\u001b[0m\u001b[90m   @\u001b[39m \u001b[35mMain\u001b[39m \u001b[90m\u001b[4mIn[73]:2\u001b[24m\u001b[39m\n\u001b[0m  CSSStudent(\u001b[91m::Any\u001b[39m, \u001b[91m::Any\u001b[39m, \u001b[91m::Any\u001b[39m)\u001b[91m got unsupported keyword arguments \"name\", \"student_id\", \"specilization\", \"programming_language\"\u001b[39m\n\u001b[0m\u001b[90m   @\u001b[39m \u001b[35mMain\u001b[39m \u001b[90m\u001b[4mIn[75]:1\u001b[24m\u001b[39m\n\u001b[0m  ...\n",
      "",
      "Stacktrace:",
      " [1] kwerr(kw::NamedTuple{(:name, :student_id, :specilization, :programming_language), Tuple{String, Int64, String, String}}, args::Type)",
      "   @ Base .\\error.jl:165",
      " [2] top-level scope",
      "   @ In[84]:1"
     ]
    }
   ],
   "source": [
    "CSSStudent(name=\"Mario\", student_id=234533, specilization=\"Mobile Development\", programming_language=\"Kotlin\") # somehow this is not working"
   ]
  },
  {
   "cell_type": "code",
   "execution_count": 86,
   "id": "b186aba1-6d4d-4158-9271-39ed4d480435",
   "metadata": {},
   "outputs": [
    {
     "data": {
      "text/plain": [
       "CSSStudent[]"
      ]
     },
     "execution_count": 86,
     "metadata": {},
     "output_type": "execute_result"
    }
   ],
   "source": [
    "students = CSSStudent[]"
   ]
  },
  {
   "cell_type": "code",
   "execution_count": 87,
   "id": "47a2c822-4415-42bc-9936-cbe640a4b106",
   "metadata": {},
   "outputs": [
    {
     "data": {
      "text/plain": [
       "1-element Vector{CSSStudent}:\n",
       " CSSStudent(\"George\", 12344, 3.75, \"Data Science\", \"Julia\")"
      ]
     },
     "execution_count": 87,
     "metadata": {},
     "output_type": "execute_result"
    }
   ],
   "source": [
    "push!(students, cs1)"
   ]
  },
  {
   "cell_type": "code",
   "execution_count": 88,
   "id": "1b072282-a99a-453d-b3b1-662bf3a311f0",
   "metadata": {},
   "outputs": [
    {
     "data": {
      "text/plain": [
       "1-element Vector{CSSStudent}:\n",
       " CSSStudent(\"George\", 12344, 3.75, \"Data Science\", \"Julia\")"
      ]
     },
     "execution_count": 88,
     "metadata": {},
     "output_type": "execute_result"
    }
   ],
   "source": [
    "students"
   ]
  },
  {
   "cell_type": "code",
   "execution_count": 90,
   "id": "16c42fd2-bc05-4bdc-8947-82cfac330555",
   "metadata": {},
   "outputs": [],
   "source": [
    "mutable struct MathStudent\n",
    "    name::String\n",
    "    student_id::Int64\n",
    "    gpa::Float64\n",
    "    MathStudent(name, student_id, gpa) = gpa < 0 ? throw(\"gpa cannot be negative\") : new(name, student_id, gpa)\n",
    "end"
   ]
  },
  {
   "cell_type": "code",
   "execution_count": 91,
   "id": "5fa7c270-edc0-49b7-897e-32dc1f77fea2",
   "metadata": {},
   "outputs": [
    {
     "data": {
      "text/plain": [
       "MathStudent(\"karl\", 111222, 3.4)"
      ]
     },
     "execution_count": 91,
     "metadata": {},
     "output_type": "execute_result"
    }
   ],
   "source": [
    "m1 = MathStudent(\"karl\", 111222, 3.4)"
   ]
  },
  {
   "cell_type": "code",
   "execution_count": 92,
   "id": "acc8c5c6-111a-454f-b007-2ea92c992369",
   "metadata": {},
   "outputs": [
    {
     "ename": "LoadError",
     "evalue": "\"gpa cannot be negative\"",
     "output_type": "error",
     "traceback": [
      "\"gpa cannot be negative\"",
      "",
      "Stacktrace:",
      " [1] MathStudent(name::String, student_id::Int64, gpa::Float64)",
      "   @ Main .\\In[90]:5",
      " [2] top-level scope",
      "   @ In[92]:1"
     ]
    }
   ],
   "source": [
    "m2 = MathStudent(\"Hemanth\",232435, -3.2) # it shoud throw our custom error"
   ]
  },
  {
   "cell_type": "code",
   "execution_count": 93,
   "id": "0b743eb0-f205-40be-8a37-acb63d424972",
   "metadata": {},
   "outputs": [],
   "source": [
    "# user should always enter correct values else get error"
   ]
  },
  {
   "cell_type": "code",
   "execution_count": 95,
   "id": "34536955-a1b0-4f3e-bb56-d82081b93253",
   "metadata": {},
   "outputs": [],
   "source": [
    "mutable struct EconStudent\n",
    "    name::String\n",
    "    student_id::Int64\n",
    "    gpa::Float64\n",
    "    \n",
    "    function EconStudent(name, student_id, gpa)\n",
    "        if name == \"\"\n",
    "            throw(\"Student name cannot be empty\")\n",
    "        elseif student_id == NaN || student_id == 0\n",
    "            throw(\"Student ID cannot be empty\")\n",
    "        elseif gpa<0 || gpa >4.0\n",
    "            throw(\"Enter valid gpa\")\n",
    "        else\n",
    "            new(name, student_id, gpa)\n",
    "        end\n",
    "    end\n",
    "end"
   ]
  },
  {
   "cell_type": "code",
   "execution_count": 96,
   "id": "e07d48fc-6b33-4ac2-a2ed-f86ae9d024f6",
   "metadata": {},
   "outputs": [
    {
     "ename": "LoadError",
     "evalue": "\"Student name cannot be empty\"",
     "output_type": "error",
     "traceback": [
      "\"Student name cannot be empty\"",
      "",
      "Stacktrace:",
      " [1] EconStudent(name::String, student_id::Int64, gpa::Float64)",
      "   @ Main .\\In[95]:8",
      " [2] top-level scope",
      "   @ In[96]:1"
     ]
    }
   ],
   "source": [
    "esq = EconStudent(\"\",1234,3.2)"
   ]
  },
  {
   "cell_type": "code",
   "execution_count": 97,
   "id": "2927f180-1c95-48ed-8ae7-e24cc49e0761",
   "metadata": {},
   "outputs": [
    {
     "ename": "LoadError",
     "evalue": "\"Student ID cannot be empty\"",
     "output_type": "error",
     "traceback": [
      "\"Student ID cannot be empty\"",
      "",
      "Stacktrace:",
      " [1] EconStudent(name::String, student_id::Int64, gpa::Float64)",
      "   @ Main .\\In[95]:10",
      " [2] top-level scope",
      "   @ In[97]:1"
     ]
    }
   ],
   "source": [
    "es2 = EconStudent(\"Hemanth\",0,3.2)"
   ]
  },
  {
   "cell_type": "code",
   "execution_count": 98,
   "id": "72be72f6-29e9-4510-902f-39a7e8711700",
   "metadata": {},
   "outputs": [
    {
     "ename": "LoadError",
     "evalue": "\"Enter valid gpa\"",
     "output_type": "error",
     "traceback": [
      "\"Enter valid gpa\"",
      "",
      "Stacktrace:",
      " [1] EconStudent(name::String, student_id::Int64, gpa::Int64)",
      "   @ Main .\\In[95]:12",
      " [2] top-level scope",
      "   @ In[98]:1"
     ]
    }
   ],
   "source": [
    "es3 = EconStudent(\"Hemanth\",234454, 5)"
   ]
  },
  {
   "cell_type": "code",
   "execution_count": 99,
   "id": "2dfff690-5d10-4fb9-9ca4-ff6436afabac",
   "metadata": {},
   "outputs": [
    {
     "data": {
      "text/plain": [
       "EconStudent(\"Hemanth\", 23544, 3.2)"
      ]
     },
     "execution_count": 99,
     "metadata": {},
     "output_type": "execute_result"
    }
   ],
   "source": [
    "es4 = EconStudent(\"Hemanth\",23544,3.2)"
   ]
  },
  {
   "cell_type": "code",
   "execution_count": 100,
   "id": "616ac13e-0204-4a0e-a406-e6924ccf1e0c",
   "metadata": {},
   "outputs": [],
   "source": [
    "mutable struct PhysStudent <: Student\n",
    "    name::String\n",
    "    student_id::Int64\n",
    "    gpa::Float64\n",
    "    \n",
    "    PhysStudent() = new()\n",
    "end"
   ]
  },
  {
   "cell_type": "code",
   "execution_count": 101,
   "id": "0239fb3d-0d96-4736-a5a6-64029fa18f2e",
   "metadata": {},
   "outputs": [
    {
     "data": {
      "text/plain": [
       "PhysStudent(#undef, 1472292817360, 0.0)"
      ]
     },
     "execution_count": 101,
     "metadata": {},
     "output_type": "execute_result"
    }
   ],
   "source": [
    "ps1 = PhysStudent()"
   ]
  },
  {
   "cell_type": "code",
   "execution_count": 103,
   "id": "d02c9584-5818-4a2d-9fe9-440fec6196ef",
   "metadata": {},
   "outputs": [
    {
     "data": {
      "text/html": [
       "# 1 method for type constructor:<ul><li> PhysStudent() in Main at In[100]:6</li> </ul>"
      ],
      "text/plain": [
       "# 1 method for type constructor:\n",
       " [1] PhysStudent()\n",
       "\u001b[90m     @\u001b[39m \u001b[90m\u001b[4mIn[100]:6\u001b[24m\u001b[39m"
      ]
     },
     "execution_count": 103,
     "metadata": {},
     "output_type": "execute_result"
    }
   ],
   "source": [
    "methods(PhysStudent)"
   ]
  },
  {
   "cell_type": "code",
   "execution_count": 107,
   "id": "2b53aed5-b2d4-4a6a-b8ca-fbe321b20b20",
   "metadata": {},
   "outputs": [],
   "source": [
    "mutable struct Course\n",
    "    name::String\n",
    "    student::Array{Union{CSSStudent, MathStudent, EconStudent}, 1}\n",
    "    opened::Bool\n",
    "    \n",
    "    Course(name::String) = new(name::String, String[], false)\n",
    "    Course(name::String, members) = new(name, members, length(members)>=5)\n",
    "end"
   ]
  },
  {
   "cell_type": "code",
   "execution_count": 108,
   "id": "2f7f67a9-895e-487b-8072-3eba823b1b60",
   "metadata": {},
   "outputs": [
    {
     "data": {
      "text/html": [
       "# 2 methods for type constructor:<ul><li> Course(name::<b>String</b>) in Main at In[107]:6</li> <li> Course(name::<b>String</b>, members) in Main at In[107]:7</li> </ul>"
      ],
      "text/plain": [
       "# 2 methods for type constructor:\n",
       " [1] Course(\u001b[90mname\u001b[39m::\u001b[1mString\u001b[22m)\n",
       "\u001b[90m     @\u001b[39m \u001b[90m\u001b[4mIn[107]:6\u001b[24m\u001b[39m\n",
       " [2] Course(\u001b[90mname\u001b[39m::\u001b[1mString\u001b[22m, \u001b[90mmembers\u001b[39m)\n",
       "\u001b[90m     @\u001b[39m \u001b[90m\u001b[4mIn[107]:7\u001b[24m\u001b[39m"
      ]
     },
     "execution_count": 108,
     "metadata": {},
     "output_type": "execute_result"
    }
   ],
   "source": [
    "methods(Course)"
   ]
  },
  {
   "cell_type": "code",
   "execution_count": 109,
   "id": "917f312f-d22f-48c0-9ed6-273fca999e17",
   "metadata": {},
   "outputs": [
    {
     "data": {
      "text/plain": [
       "Course(\"Programming with Julia\", Union{CSSStudent, EconStudent, MathStudent}[CSSStudent(\"George\", 12344, 3.75, \"Data Science\", \"Julia\")], false)"
      ]
     },
     "execution_count": 109,
     "metadata": {},
     "output_type": "execute_result"
    }
   ],
   "source": [
    "Julia101 = Course(\"Programming with Julia\", [cs1])"
   ]
  },
  {
   "cell_type": "code",
   "execution_count": null,
   "id": "2764a59a-60a0-47fd-9dd5-947d4d0c4c9a",
   "metadata": {},
   "outputs": [],
   "source": []
  }
 ],
 "metadata": {
  "kernelspec": {
   "display_name": "Julia 1.9.1",
   "language": "julia",
   "name": "julia-1.9"
  },
  "language_info": {
   "file_extension": ".jl",
   "mimetype": "application/julia",
   "name": "julia",
   "version": "1.9.1"
  }
 },
 "nbformat": 4,
 "nbformat_minor": 5
}
