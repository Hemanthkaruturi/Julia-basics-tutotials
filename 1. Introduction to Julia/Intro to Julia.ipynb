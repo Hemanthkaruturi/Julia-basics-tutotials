{
 "cells": [
  {
   "cell_type": "code",
   "execution_count": 1,
   "id": "18721120-23d8-48f2-9497-5780fa4e6749",
   "metadata": {},
   "outputs": [
    {
     "name": "stdout",
     "output_type": "stream",
     "text": [
      "Hello Julia!\n"
     ]
    }
   ],
   "source": [
    "println(\"Hello Julia!\")"
   ]
  },
  {
   "cell_type": "code",
   "execution_count": 2,
   "id": "2d081daf-9491-4c18-8cff-74d367ec9ae8",
   "metadata": {},
   "outputs": [
    {
     "data": {
      "text/plain": [
       "5"
      ]
     },
     "execution_count": 2,
     "metadata": {},
     "output_type": "execute_result"
    }
   ],
   "source": [
    "2+3"
   ]
  },
  {
   "cell_type": "code",
   "execution_count": 3,
   "id": "c253e0c4-b5b7-4ec8-8cf1-35d24f36ac34",
   "metadata": {},
   "outputs": [
    {
     "data": {
      "text/plain": [
       "2"
      ]
     },
     "execution_count": 3,
     "metadata": {},
     "output_type": "execute_result"
    }
   ],
   "source": [
    "x = 2"
   ]
  },
  {
   "cell_type": "code",
   "execution_count": 4,
   "id": "6ca2e5c3-ee79-48db-85e5-aeb8c3fe8260",
   "metadata": {},
   "outputs": [
    {
     "data": {
      "text/plain": [
       "Int64"
      ]
     },
     "execution_count": 4,
     "metadata": {},
     "output_type": "execute_result"
    }
   ],
   "source": [
    "typeof(x)"
   ]
  },
  {
   "cell_type": "code",
   "execution_count": 5,
   "id": "fdf0eae1-1b10-408f-a029-5dec76012155",
   "metadata": {},
   "outputs": [
    {
     "data": {
      "text/plain": [
       "13"
      ]
     },
     "execution_count": 5,
     "metadata": {},
     "output_type": "execute_result"
    }
   ],
   "source": [
    "x = 12; y = 13"
   ]
  },
  {
   "cell_type": "code",
   "execution_count": 7,
   "id": "cd5f9f5b-d234-4444-bd9c-c42d159151d8",
   "metadata": {},
   "outputs": [
    {
     "data": {
      "text/plain": [
       "144"
      ]
     },
     "execution_count": 7,
     "metadata": {},
     "output_type": "execute_result"
    }
   ],
   "source": [
    "y = x^2"
   ]
  },
  {
   "cell_type": "code",
   "execution_count": 8,
   "id": "10e06cbc-117e-44c7-89b7-826790a651bb",
   "metadata": {},
   "outputs": [
    {
     "data": {
      "text/plain": [
       "\"This is a string\""
      ]
     },
     "execution_count": 8,
     "metadata": {},
     "output_type": "execute_result"
    }
   ],
   "source": [
    "x = \"This is a string\""
   ]
  },
  {
   "cell_type": "code",
   "execution_count": 9,
   "id": "8fc56659-3b5b-41e6-8b8d-35db4813f950",
   "metadata": {},
   "outputs": [
    {
     "data": {
      "text/plain": [
       "3.14"
      ]
     },
     "execution_count": 9,
     "metadata": {},
     "output_type": "execute_result"
    }
   ],
   "source": [
    "z = 3.14"
   ]
  },
  {
   "cell_type": "code",
   "execution_count": 10,
   "id": "d401b714-68f8-4032-9527-3e7712e5c4bd",
   "metadata": {},
   "outputs": [
    {
     "data": {
      "text/plain": [
       "Float64"
      ]
     },
     "execution_count": 10,
     "metadata": {},
     "output_type": "execute_result"
    }
   ],
   "source": [
    "typeof(z)"
   ]
  },
  {
   "cell_type": "code",
   "execution_count": 21,
   "id": "792d0863-e966-4030-b2ec-f6b935ad3f62",
   "metadata": {},
   "outputs": [],
   "source": [
    "# this is a single line comment"
   ]
  },
  {
   "cell_type": "code",
   "execution_count": 22,
   "id": "896dafc6-bb7a-46ee-beb6-606a86a2d973",
   "metadata": {},
   "outputs": [],
   "source": [
    "#= This is multi line\n",
    "comment\n",
    "=#\n"
   ]
  },
  {
   "cell_type": "code",
   "execution_count": 14,
   "id": "e7e227c1-02b2-4e2f-b13f-7cfb459843cd",
   "metadata": {},
   "outputs": [
    {
     "data": {
      "text/plain": [
       "13"
      ]
     },
     "execution_count": 14,
     "metadata": {},
     "output_type": "execute_result"
    }
   ],
   "source": [
    "# we can also write special characters in Julia\n",
    "# just write \\alpha TAB\n",
    "α=13"
   ]
  },
  {
   "cell_type": "code",
   "execution_count": 15,
   "id": "2e5b26f2-5ece-4f8b-82f0-84777bfd410a",
   "metadata": {},
   "outputs": [
    {
     "data": {
      "text/plain": [
       "13"
      ]
     },
     "execution_count": 15,
     "metadata": {},
     "output_type": "execute_result"
    }
   ],
   "source": [
    "α "
   ]
  },
  {
   "cell_type": "code",
   "execution_count": 16,
   "id": "dafd6a2e-6515-4c5b-a24c-4139800f1adf",
   "metadata": {},
   "outputs": [
    {
     "data": {
      "text/plain": [
       "3"
      ]
     },
     "execution_count": 16,
     "metadata": {},
     "output_type": "execute_result"
    }
   ],
   "source": [
    "# to create below use \\beta TAB \\_0 TAB\n",
    "β₀= 3"
   ]
  },
  {
   "cell_type": "code",
   "execution_count": 17,
   "id": "4447a0bc-29d7-4144-99ae-21e204e88a9f",
   "metadata": {},
   "outputs": [
    {
     "data": {
      "text/plain": [
       "3"
      ]
     },
     "execution_count": 17,
     "metadata": {},
     "output_type": "execute_result"
    }
   ],
   "source": [
    "# to create below use \\beta TAB \\_0 TAB\n",
    "β₁ = 3"
   ]
  },
  {
   "cell_type": "code",
   "execution_count": 18,
   "id": "38fa597e-782c-4bf5-bfa9-02028d2a0bf5",
   "metadata": {},
   "outputs": [
    {
     "data": {
      "text/plain": [
       "23"
      ]
     },
     "execution_count": 18,
     "metadata": {},
     "output_type": "execute_result"
    }
   ],
   "source": [
    "# to create below use \\alpha TAB \\^2 TAB\n",
    "α² = 23"
   ]
  },
  {
   "cell_type": "code",
   "execution_count": 19,
   "id": "221694a9-49c0-4e1f-a35d-d469322a8267",
   "metadata": {},
   "outputs": [
    {
     "ename": "LoadError",
     "evalue": "cannot assign a value to imported variable MathConstants.π from module Main",
     "output_type": "error",
     "traceback": [
      "cannot assign a value to imported variable MathConstants.π from module Main",
      "",
      "Stacktrace:",
      " [1] top-level scope",
      "   @ In[19]:2"
     ]
    }
   ],
   "source": [
    "# \\pi TAB\n",
    "π = 45"
   ]
  },
  {
   "cell_type": "code",
   "execution_count": 20,
   "id": "04cdfc76-3e34-44a1-a352-9369071033c8",
   "metadata": {},
   "outputs": [
    {
     "data": {
      "text/plain": [
       "π = 3.1415926535897..."
      ]
     },
     "execution_count": 20,
     "metadata": {},
     "output_type": "execute_result"
    }
   ],
   "source": [
    "π"
   ]
  },
  {
   "cell_type": "code",
   "execution_count": 23,
   "id": "56aa0d99-9c75-45e7-8d79-016c9f900870",
   "metadata": {},
   "outputs": [
    {
     "data": {
      "text/plain": [
       "(7, 8, 9)"
      ]
     },
     "execution_count": 23,
     "metadata": {},
     "output_type": "execute_result"
    }
   ],
   "source": [
    "# assign values to multiple variables\n",
    "a, b, c = 7,8,9"
   ]
  },
  {
   "cell_type": "code",
   "execution_count": 24,
   "id": "ae7c61c0-cf9a-4126-893e-1fea3f7b4869",
   "metadata": {},
   "outputs": [
    {
     "data": {
      "text/plain": [
       "(8, 9)"
      ]
     },
     "execution_count": 24,
     "metadata": {},
     "output_type": "execute_result"
    }
   ],
   "source": [
    "a, b = b, c"
   ]
  },
  {
   "cell_type": "code",
   "execution_count": 25,
   "id": "daf18148-ab20-432d-96ab-980af2ff1e97",
   "metadata": {},
   "outputs": [],
   "source": [
    "# we can also declare the type of the data in Julia"
   ]
  },
  {
   "cell_type": "code",
   "execution_count": 30,
   "id": "dd1686a6-1eb5-49b8-8e6a-314bcc9d8dca",
   "metadata": {},
   "outputs": [
    {
     "data": {
      "text/plain": [
       "8"
      ]
     },
     "execution_count": 30,
     "metadata": {},
     "output_type": "execute_result"
    }
   ],
   "source": [
    "# declare a variable\n",
    "a::Int"
   ]
  },
  {
   "cell_type": "code",
   "execution_count": 32,
   "id": "b50a1df6-c298-4d7f-bf62-5ef5708668ad",
   "metadata": {},
   "outputs": [
    {
     "data": {
      "text/plain": [
       "4"
      ]
     },
     "execution_count": 32,
     "metadata": {},
     "output_type": "execute_result"
    }
   ],
   "source": [
    "a = 4"
   ]
  },
  {
   "cell_type": "code",
   "execution_count": 39,
   "id": "a0c33fa5-0453-4b9d-8d0e-5404666674ff",
   "metadata": {},
   "outputs": [],
   "source": [
    "# we can declare constants"
   ]
  },
  {
   "cell_type": "code",
   "execution_count": 40,
   "id": "d82acdb9-1d02-49e7-a6b9-eb9427f5d230",
   "metadata": {},
   "outputs": [
    {
     "data": {
      "text/plain": [
       "42"
      ]
     },
     "execution_count": 40,
     "metadata": {},
     "output_type": "execute_result"
    }
   ],
   "source": [
    "const MYCONST = 42"
   ]
  },
  {
   "cell_type": "code",
   "execution_count": null,
   "id": "90ff8218-08d3-4746-b342-d2e227c9a06b",
   "metadata": {},
   "outputs": [],
   "source": []
  },
  {
   "cell_type": "code",
   "execution_count": null,
   "id": "43d3a5ee-ad95-4b97-b8f2-9228245f2146",
   "metadata": {},
   "outputs": [],
   "source": []
  }
 ],
 "metadata": {
  "kernelspec": {
   "display_name": "Julia 1.9.1",
   "language": "julia",
   "name": "julia-1.9"
  },
  "language_info": {
   "file_extension": ".jl",
   "mimetype": "application/julia",
   "name": "julia",
   "version": "1.9.1"
  }
 },
 "nbformat": 4,
 "nbformat_minor": 5
}
