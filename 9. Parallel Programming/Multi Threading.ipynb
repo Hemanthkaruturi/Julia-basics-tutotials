{
 "cells": [
  {
   "cell_type": "code",
   "execution_count": 1,
   "id": "be4cf6e5-3805-4ebc-96b0-35e2324ed885",
   "metadata": {},
   "outputs": [
    {
     "data": {
      "text/plain": [
       "1"
      ]
     },
     "execution_count": 1,
     "metadata": {},
     "output_type": "execute_result"
    }
   ],
   "source": [
    "Threads.nthreads()"
   ]
  },
  {
   "cell_type": "code",
   "execution_count": 2,
   "id": "8c7739dd-d76c-4134-8d07-9788ec74fd7b",
   "metadata": {},
   "outputs": [],
   "source": [
    "# You need to change the number of threads for Julia from command line\n",
    "# set JULIA_NUM_THREADS=4\n",
    "# $env:JULIA_NUM_THREADS=4 ## In Power Shell\n",
    "# julia --threads 6\n",
    "# and then restart the kernel"
   ]
  },
  {
   "cell_type": "code",
   "execution_count": 1,
   "id": "88762c7c-e045-4884-9e5a-d6a8ef5dca86",
   "metadata": {},
   "outputs": [
    {
     "data": {
      "text/plain": [
       "1"
      ]
     },
     "execution_count": 1,
     "metadata": {},
     "output_type": "execute_result"
    }
   ],
   "source": [
    "# This is only working in cmd or power shell\n",
    "Threads.nthreads()"
   ]
  },
  {
   "cell_type": "code",
   "execution_count": 2,
   "id": "a4284142-0b7a-41fd-856f-5ae76cb43a0d",
   "metadata": {},
   "outputs": [
    {
     "data": {
      "text/plain": [
       "1"
      ]
     },
     "execution_count": 2,
     "metadata": {},
     "output_type": "execute_result"
    }
   ],
   "source": [
    "Threads.threadid() # see the thread"
   ]
  },
  {
   "cell_type": "code",
   "execution_count": 3,
   "id": "036a6e01-f404-4f86-83aa-dc8356041b1e",
   "metadata": {},
   "outputs": [],
   "source": [
    "# Better do this in Visual studio code"
   ]
  },
  {
   "cell_type": "code",
   "execution_count": 4,
   "id": "035e73fb-e3be-4c41-b75c-27c03d66b59b",
   "metadata": {},
   "outputs": [
    {
     "data": {
      "text/plain": [
       "Base.RefValue{Int64}(0)"
      ]
     },
     "execution_count": 4,
     "metadata": {},
     "output_type": "execute_result"
    }
   ],
   "source": [
    "# Example from Julia documentation\n",
    "mysum = Ref(0)"
   ]
  },
  {
   "cell_type": "code",
   "execution_count": 7,
   "id": "a46b7777-0926-4526-bd32-a3fc3ee4a95e",
   "metadata": {},
   "outputs": [],
   "source": [
    "Threads.@threads for i in 1:1000\n",
    "    mysum[] += 1\n",
    "end"
   ]
  },
  {
   "cell_type": "code",
   "execution_count": 8,
   "id": "fff5081d-45f7-42ae-ad43-c93b886d493e",
   "metadata": {},
   "outputs": [
    {
     "data": {
      "text/plain": [
       "1000"
      ]
     },
     "execution_count": 8,
     "metadata": {},
     "output_type": "execute_result"
    }
   ],
   "source": [
    "mysum[]"
   ]
  },
  {
   "cell_type": "code",
   "execution_count": null,
   "id": "f6e9cb69-3e15-490c-95eb-a3ced0193da3",
   "metadata": {},
   "outputs": [],
   "source": []
  }
 ],
 "metadata": {
  "kernelspec": {
   "display_name": "Julia 1.9.1",
   "language": "julia",
   "name": "julia-1.9"
  },
  "language_info": {
   "file_extension": ".jl",
   "mimetype": "application/julia",
   "name": "julia",
   "version": "1.9.1"
  }
 },
 "nbformat": 4,
 "nbformat_minor": 5
}
