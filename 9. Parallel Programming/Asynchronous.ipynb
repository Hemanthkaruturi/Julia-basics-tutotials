{
 "cells": [
  {
   "cell_type": "code",
   "execution_count": 1,
   "id": "3718a1ea-7493-4d42-ab10-7c952681e069",
   "metadata": {},
   "outputs": [],
   "source": [
    "# This will run 2 functions at the same time"
   ]
  },
  {
   "cell_type": "code",
   "execution_count": 3,
   "id": "7bd5085e-75d0-4919-94b0-3dffe041bfeb",
   "metadata": {},
   "outputs": [
    {
     "name": "stdout",
     "output_type": "stream",
     "text": [
      "  3.041887 seconds (100 allocations: 2.734 KiB)\n"
     ]
    }
   ],
   "source": [
    "@time for i ∈ 1:3\n",
    "    sleep(1)\n",
    "end"
   ]
  },
  {
   "cell_type": "code",
   "execution_count": 4,
   "id": "433c2583-9332-4386-aa0a-659fc0a32f3f",
   "metadata": {},
   "outputs": [
    {
     "name": "stdout",
     "output_type": "stream",
     "text": [
      "  0.023467 seconds (10.35 k allocations: 656.940 KiB, 40.57% compilation time)\n"
     ]
    }
   ],
   "source": [
    "@time for i ∈ 1:3\n",
    "    @async sleep(1)\n",
    "end"
   ]
  },
  {
   "cell_type": "markdown",
   "id": "ea064329-7429-428e-a0dc-741f42fee741",
   "metadata": {},
   "source": [
    "# Task"
   ]
  },
  {
   "cell_type": "markdown",
   "id": "f4d4b564-67d0-488e-aa05-9a93decf26f8",
   "metadata": {},
   "source": [
    "### Create task"
   ]
  },
  {
   "cell_type": "code",
   "execution_count": 5,
   "id": "35327506-b95e-4ad4-a954-246ffafa77e2",
   "metadata": {},
   "outputs": [
    {
     "data": {
      "text/plain": [
       "Task (runnable) @0x000001b2834162f0"
      ]
     },
     "execution_count": 5,
     "metadata": {},
     "output_type": "execute_result"
    }
   ],
   "source": [
    "t1 = @task begin\n",
    "    println(\"Begin task t1\")\n",
    "    sleep(3)\n",
    "    println(\"finished task t1\")\n",
    "end"
   ]
  },
  {
   "cell_type": "code",
   "execution_count": 6,
   "id": "44bedd3d-529f-4864-9fab-2c11704310f1",
   "metadata": {},
   "outputs": [
    {
     "data": {
      "text/plain": [
       "Task (runnable) @0x000001b2814c6100"
      ]
     },
     "execution_count": 6,
     "metadata": {},
     "output_type": "execute_result"
    }
   ],
   "source": [
    "t2 = Task(\n",
    "    () -> begin\n",
    "        println(\"Beginning task t2\")\n",
    "        sleep(3)\n",
    "        println(\"FInished task t2\")\n",
    "    end\n",
    ")"
   ]
  },
  {
   "cell_type": "code",
   "execution_count": 7,
   "id": "fc275bcc-4f74-488d-86e0-910bd302d77e",
   "metadata": {},
   "outputs": [
    {
     "data": {
      "text/plain": [
       "false"
      ]
     },
     "execution_count": 7,
     "metadata": {},
     "output_type": "execute_result"
    }
   ],
   "source": [
    "istaskstarted(t1)"
   ]
  },
  {
   "cell_type": "code",
   "execution_count": 8,
   "id": "b72a30ba-1813-45e8-abfb-44ad0d864468",
   "metadata": {},
   "outputs": [
    {
     "data": {
      "text/plain": [
       "false"
      ]
     },
     "execution_count": 8,
     "metadata": {},
     "output_type": "execute_result"
    }
   ],
   "source": [
    "istaskdone(t1)"
   ]
  },
  {
   "cell_type": "code",
   "execution_count": 9,
   "id": "9e2418eb-16e2-43d2-a9c9-b226f0968407",
   "metadata": {},
   "outputs": [
    {
     "data": {
      "text/plain": [
       "Task (runnable) @0x000001b2834162f0"
      ]
     },
     "execution_count": 9,
     "metadata": {},
     "output_type": "execute_result"
    },
    {
     "name": "stdout",
     "output_type": "stream",
     "text": [
      "Begin task t1\n",
      "finished task t1\n"
     ]
    }
   ],
   "source": [
    "# to start the task\n",
    "schedule(t1)"
   ]
  },
  {
   "cell_type": "code",
   "execution_count": 10,
   "id": "085fc5bc-63c0-4863-8de2-bae31c295f4b",
   "metadata": {},
   "outputs": [
    {
     "data": {
      "text/plain": [
       "true"
      ]
     },
     "execution_count": 10,
     "metadata": {},
     "output_type": "execute_result"
    }
   ],
   "source": [
    "istaskdone(t1)"
   ]
  },
  {
   "cell_type": "code",
   "execution_count": 11,
   "id": "e64dbb3f-efef-48a9-9b46-b6774e201b7f",
   "metadata": {},
   "outputs": [
    {
     "name": "stdout",
     "output_type": "stream",
     "text": [
      "Beginning task t2\n",
      "FInished task t2\n"
     ]
    }
   ],
   "source": [
    "schedule(t2); wait(t2)"
   ]
  },
  {
   "cell_type": "code",
   "execution_count": 13,
   "id": "6b80c6ac-8c89-44a0-954a-1daaf617fcdc",
   "metadata": {},
   "outputs": [
    {
     "data": {
      "text/plain": [
       "true"
      ]
     },
     "execution_count": 13,
     "metadata": {},
     "output_type": "execute_result"
    }
   ],
   "source": [
    "istaskstarted(t2)"
   ]
  },
  {
   "cell_type": "code",
   "execution_count": 12,
   "id": "542f943e-5769-4152-b4a1-d7b05c52150a",
   "metadata": {},
   "outputs": [
    {
     "data": {
      "text/plain": [
       "true"
      ]
     },
     "execution_count": 12,
     "metadata": {},
     "output_type": "execute_result"
    }
   ],
   "source": [
    "istaskdone(t2)"
   ]
  },
  {
   "cell_type": "code",
   "execution_count": 14,
   "id": "74f14896-de9e-4ca7-9a55-a57e3be3dce7",
   "metadata": {},
   "outputs": [],
   "source": [
    "# channel"
   ]
  },
  {
   "cell_type": "code",
   "execution_count": 15,
   "id": "c89a8bf1-c325-4649-9eb6-80527c06b395",
   "metadata": {},
   "outputs": [
    {
     "data": {
      "text/plain": [
       "6-element Vector{String}:\n",
       " \"https://www.google.com\"\n",
       " \"https://www.yahoo.com\"\n",
       " \"https://www.facebook.com\"\n",
       " \"https://docs.julialang.org\"\n",
       " \"https://www.udemy.com\"\n",
       " \"https://www.coursera.org\""
      ]
     },
     "execution_count": 15,
     "metadata": {},
     "output_type": "execute_result"
    }
   ],
   "source": [
    "urllist = [\"https://www.google.com\", \"https://www.yahoo.com\", \"https://www.facebook.com\", \"https://docs.julialang.org\", \"https://www.udemy.com\", \"https://www.coursera.org\"]"
   ]
  },
  {
   "cell_type": "code",
   "execution_count": 16,
   "id": "3c530060-9106-497e-976a-770627d38bea",
   "metadata": {},
   "outputs": [
    {
     "name": "stdout",
     "output_type": "stream",
     "text": [
      "  6.877589 seconds (277.62 k allocations: 21.995 MiB, 3.80% compilation time: 7% of which was recompilation)\n"
     ]
    }
   ],
   "source": [
    "@time for url in urllist\n",
    "    download(url)\n",
    "end"
   ]
  },
  {
   "cell_type": "code",
   "execution_count": 17,
   "id": "b2b06bf6-eb11-4af7-9010-da31eea912a2",
   "metadata": {},
   "outputs": [
    {
     "name": "stdout",
     "output_type": "stream",
     "text": [
      "  0.000159 seconds (73 allocations: 5.943 KiB)\n"
     ]
    }
   ],
   "source": [
    "@time for url in urllist\n",
    "    @async download(url)\n",
    "end"
   ]
  },
  {
   "cell_type": "code",
   "execution_count": 18,
   "id": "7dd82c7c-9486-4452-9a52-0973ff0750b1",
   "metadata": {},
   "outputs": [
    {
     "name": "stdout",
     "output_type": "stream",
     "text": [
      "  3.312041 seconds (15.91 k allocations: 3.433 MiB, 0.77% compilation time)\n"
     ]
    }
   ],
   "source": [
    "@time @sync for url in urllist\n",
    "    @async download(url)\n",
    "end"
   ]
  },
  {
   "cell_type": "code",
   "execution_count": 19,
   "id": "f1a3072a-6a74-4200-bf3d-e0fa0c55a752",
   "metadata": {},
   "outputs": [
    {
     "data": {
      "text/plain": [
       "inputTask (generic function with 1 method)"
      ]
     },
     "execution_count": 19,
     "metadata": {},
     "output_type": "execute_result"
    }
   ],
   "source": [
    "function inputTask(ch::Channel)\n",
    "    for i ∈ 1:5\n",
    "        put!(ch, i^2)\n",
    "    end\n",
    "end"
   ]
  },
  {
   "cell_type": "code",
   "execution_count": 21,
   "id": "5bcdd6b7-dd71-4126-96f6-c7cbf760db1e",
   "metadata": {},
   "outputs": [
    {
     "data": {
      "text/plain": [
       "Channel{Any}(0) (1 item available)"
      ]
     },
     "execution_count": 21,
     "metadata": {},
     "output_type": "execute_result"
    }
   ],
   "source": [
    "chnl = Channel(inputTask)"
   ]
  },
  {
   "cell_type": "code",
   "execution_count": 22,
   "id": "9f956d31-3e7f-4688-8479-fa955f183b71",
   "metadata": {},
   "outputs": [
    {
     "data": {
      "text/plain": [
       "1"
      ]
     },
     "execution_count": 22,
     "metadata": {},
     "output_type": "execute_result"
    }
   ],
   "source": [
    "take!(chnl)"
   ]
  },
  {
   "cell_type": "code",
   "execution_count": 23,
   "id": "d6e6d096-0bc2-445c-94c5-ece2593ad67a",
   "metadata": {},
   "outputs": [
    {
     "data": {
      "text/plain": [
       "4"
      ]
     },
     "execution_count": 23,
     "metadata": {},
     "output_type": "execute_result"
    }
   ],
   "source": [
    "take!(chnl)"
   ]
  },
  {
   "cell_type": "code",
   "execution_count": 24,
   "id": "22df7063-ea7d-44ea-956b-b8d315769f83",
   "metadata": {},
   "outputs": [
    {
     "data": {
      "text/plain": [
       "9"
      ]
     },
     "execution_count": 24,
     "metadata": {},
     "output_type": "execute_result"
    }
   ],
   "source": [
    "take!(chnl)"
   ]
  },
  {
   "cell_type": "code",
   "execution_count": 25,
   "id": "5e2aa097-c89e-40dd-81b2-02ae0b021bf5",
   "metadata": {},
   "outputs": [
    {
     "data": {
      "text/plain": [
       "16"
      ]
     },
     "execution_count": 25,
     "metadata": {},
     "output_type": "execute_result"
    }
   ],
   "source": [
    "take!(chnl)"
   ]
  },
  {
   "cell_type": "code",
   "execution_count": 26,
   "id": "ee70c4de-a8da-4844-8c4e-1dc4fcabb342",
   "metadata": {},
   "outputs": [
    {
     "data": {
      "text/plain": [
       "25"
      ]
     },
     "execution_count": 26,
     "metadata": {},
     "output_type": "execute_result"
    }
   ],
   "source": [
    "take!(chnl)"
   ]
  },
  {
   "cell_type": "code",
   "execution_count": 27,
   "id": "b85eb3fe-d3ac-4c8f-97c8-0c94cd07627e",
   "metadata": {},
   "outputs": [
    {
     "ename": "LoadError",
     "evalue": "InvalidStateException: Channel is closed.",
     "output_type": "error",
     "traceback": [
      "InvalidStateException: Channel is closed.",
      "",
      "Stacktrace:",
      " [1] check_channel_state",
      "   @ .\\channels.jl:174 [inlined]",
      " [2] take_unbuffered(c::Channel{Any})",
      "   @ Base .\\channels.jl:472",
      " [3] take!(c::Channel{Any})",
      "   @ Base .\\channels.jl:451",
      " [4] top-level scope",
      "   @ In[27]:1"
     ]
    }
   ],
   "source": [
    "take!(chnl) # we took all the values from the channel"
   ]
  },
  {
   "cell_type": "code",
   "execution_count": 28,
   "id": "00329306-3e7b-4fd0-8a1c-f3045009bc7b",
   "metadata": {},
   "outputs": [
    {
     "name": "stdout",
     "output_type": "stream",
     "text": [
      "i = 1\n",
      "i = 4\n",
      "i = 9\n",
      "i = 16\n",
      "i = 25\n"
     ]
    }
   ],
   "source": [
    "for i in Channel(inputTask)\n",
    "    @show i\n",
    "end"
   ]
  },
  {
   "cell_type": "code",
   "execution_count": null,
   "id": "858cdfdf-4e69-4671-b75f-a3421bc6298b",
   "metadata": {},
   "outputs": [],
   "source": []
  }
 ],
 "metadata": {
  "kernelspec": {
   "display_name": "Julia 1.9.1",
   "language": "julia",
   "name": "julia-1.9"
  },
  "language_info": {
   "file_extension": ".jl",
   "mimetype": "application/julia",
   "name": "julia",
   "version": "1.9.1"
  }
 },
 "nbformat": 4,
 "nbformat_minor": 5
}
