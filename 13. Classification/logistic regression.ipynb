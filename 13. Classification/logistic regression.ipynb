{
 "cells": [
  {
   "cell_type": "code",
   "execution_count": null,
   "id": "593760de-5970-46c9-91fe-9f174affeee4",
   "metadata": {},
   "outputs": [],
   "source": []
  },
  {
   "cell_type": "code",
   "execution_count": 1,
   "id": "2abdfd95-7d6d-4f9f-8c48-53b575e3c43b",
   "metadata": {},
   "outputs": [],
   "source": [
    "using DataFrames # to maintain tabular data\n",
    "using CSV # to read/write csv data\n",
    "using Plots # for plotting\n",
    "using GLM  # for linear regression"
   ]
  },
  {
   "cell_type": "code",
   "execution_count": 3,
   "id": "e28aa5ca-599b-47e4-a407-38c720b4f131",
   "metadata": {},
   "outputs": [
    {
     "data": {
      "text/html": [
       "<div><div style = \"float: left;\"><span>18×2 DataFrame</span></div><div style = \"clear: both;\"></div></div><div class = \"data-frame\" style = \"overflow-x: scroll;\"><table class = \"data-frame\" style = \"margin-bottom: 6px;\"><thead><tr class = \"header\"><th class = \"rowNumber\" style = \"font-weight: bold; text-align: right;\">Row</th><th style = \"text-align: left;\">price</th><th style = \"text-align: left;\">camera_mp</th></tr><tr class = \"subheader headerLastRow\"><th class = \"rowNumber\" style = \"font-weight: bold; text-align: right;\"></th><th title = \"Int64\" style = \"text-align: left;\">Int64</th><th title = \"Int64\" style = \"text-align: left;\">Int64</th></tr></thead><tbody><tr><td class = \"rowNumber\" style = \"font-weight: bold; text-align: right;\">1</td><td style = \"text-align: right;\">890</td><td style = \"text-align: right;\">1</td></tr><tr><td class = \"rowNumber\" style = \"font-weight: bold; text-align: right;\">2</td><td style = \"text-align: right;\">620</td><td style = \"text-align: right;\">1</td></tr><tr><td class = \"rowNumber\" style = \"font-weight: bold; text-align: right;\">3</td><td style = \"text-align: right;\">730</td><td style = \"text-align: right;\">1</td></tr><tr><td class = \"rowNumber\" style = \"font-weight: bold; text-align: right;\">4</td><td style = \"text-align: right;\">480</td><td style = \"text-align: right;\">1</td></tr><tr><td class = \"rowNumber\" style = \"font-weight: bold; text-align: right;\">5</td><td style = \"text-align: right;\">1060</td><td style = \"text-align: right;\">1</td></tr><tr><td class = \"rowNumber\" style = \"font-weight: bold; text-align: right;\">6</td><td style = \"text-align: right;\">450</td><td style = \"text-align: right;\">1</td></tr><tr><td class = \"rowNumber\" style = \"font-weight: bold; text-align: right;\">7</td><td style = \"text-align: right;\">540</td><td style = \"text-align: right;\">1</td></tr><tr><td class = \"rowNumber\" style = \"font-weight: bold; text-align: right;\">8</td><td style = \"text-align: right;\">500</td><td style = \"text-align: right;\">1</td></tr><tr><td class = \"rowNumber\" style = \"font-weight: bold; text-align: right;\">9</td><td style = \"text-align: right;\">890</td><td style = \"text-align: right;\">1</td></tr><tr><td class = \"rowNumber\" style = \"font-weight: bold; text-align: right;\">10</td><td style = \"text-align: right;\">440</td><td style = \"text-align: right;\">1</td></tr><tr><td class = \"rowNumber\" style = \"font-weight: bold; text-align: right;\">11</td><td style = \"text-align: right;\">280</td><td style = \"text-align: right;\">0</td></tr><tr><td class = \"rowNumber\" style = \"font-weight: bold; text-align: right;\">12</td><td style = \"text-align: right;\">290</td><td style = \"text-align: right;\">0</td></tr><tr><td class = \"rowNumber\" style = \"font-weight: bold; text-align: right;\">13</td><td style = \"text-align: right;\">370</td><td style = \"text-align: right;\">0</td></tr><tr><td class = \"rowNumber\" style = \"font-weight: bold; text-align: right;\">14</td><td style = \"text-align: right;\">400</td><td style = \"text-align: right;\">0</td></tr><tr><td class = \"rowNumber\" style = \"font-weight: bold; text-align: right;\">15</td><td style = \"text-align: right;\">310</td><td style = \"text-align: right;\">0</td></tr><tr><td class = \"rowNumber\" style = \"font-weight: bold; text-align: right;\">16</td><td style = \"text-align: right;\">340</td><td style = \"text-align: right;\">0</td></tr><tr><td class = \"rowNumber\" style = \"font-weight: bold; text-align: right;\">17</td><td style = \"text-align: right;\">270</td><td style = \"text-align: right;\">0</td></tr><tr><td class = \"rowNumber\" style = \"font-weight: bold; text-align: right;\">18</td><td style = \"text-align: right;\">380</td><td style = \"text-align: right;\">0</td></tr></tbody></table></div>"
      ],
      "text/latex": [
       "\\begin{tabular}{r|cc}\n",
       "\t& price & camera\\_mp\\\\\n",
       "\t\\hline\n",
       "\t& Int64 & Int64\\\\\n",
       "\t\\hline\n",
       "\t1 & 890 & 1 \\\\\n",
       "\t2 & 620 & 1 \\\\\n",
       "\t3 & 730 & 1 \\\\\n",
       "\t4 & 480 & 1 \\\\\n",
       "\t5 & 1060 & 1 \\\\\n",
       "\t6 & 450 & 1 \\\\\n",
       "\t7 & 540 & 1 \\\\\n",
       "\t8 & 500 & 1 \\\\\n",
       "\t9 & 890 & 1 \\\\\n",
       "\t10 & 440 & 1 \\\\\n",
       "\t11 & 280 & 0 \\\\\n",
       "\t12 & 290 & 0 \\\\\n",
       "\t13 & 370 & 0 \\\\\n",
       "\t14 & 400 & 0 \\\\\n",
       "\t15 & 310 & 0 \\\\\n",
       "\t16 & 340 & 0 \\\\\n",
       "\t17 & 270 & 0 \\\\\n",
       "\t18 & 380 & 0 \\\\\n",
       "\\end{tabular}\n"
      ],
      "text/plain": [
       "\u001b[1m18×2 DataFrame\u001b[0m\n",
       "\u001b[1m Row \u001b[0m│\u001b[1m price \u001b[0m\u001b[1m camera_mp \u001b[0m\n",
       "     │\u001b[90m Int64 \u001b[0m\u001b[90m Int64     \u001b[0m\n",
       "─────┼──────────────────\n",
       "   1 │   890          1\n",
       "   2 │   620          1\n",
       "   3 │   730          1\n",
       "   4 │   480          1\n",
       "   5 │  1060          1\n",
       "   6 │   450          1\n",
       "   7 │   540          1\n",
       "   8 │   500          1\n",
       "   9 │   890          1\n",
       "  10 │   440          1\n",
       "  11 │   280          0\n",
       "  12 │   290          0\n",
       "  13 │   370          0\n",
       "  14 │   400          0\n",
       "  15 │   310          0\n",
       "  16 │   340          0\n",
       "  17 │   270          0\n",
       "  18 │   380          0"
      ]
     },
     "execution_count": 3,
     "metadata": {},
     "output_type": "execute_result"
    }
   ],
   "source": [
    "camera = CSV.read(\"Data/camera.csv\", DataFrame)"
   ]
  },
  {
   "cell_type": "code",
   "execution_count": 4,
   "id": "e8d67ed7-d0fc-48fd-a054-3ea39992662a",
   "metadata": {},
   "outputs": [
    {
     "data": {
      "text/plain": [
       "2-element Vector{String}:\n",
       " \"price\"\n",
       " \"camera_mp\""
      ]
     },
     "execution_count": 4,
     "metadata": {},
     "output_type": "execute_result"
    }
   ],
   "source": [
    "names(camera)"
   ]
  },
  {
   "cell_type": "code",
   "execution_count": 5,
   "id": "abe24ecd-f2c2-4f68-8158-bfd1e1f31077",
   "metadata": {},
   "outputs": [
    {
     "data": {
      "text/plain": [
       "StatsModels.TableRegressionModel{GeneralizedLinearModel{GLM.GlmResp{Vector{Float64}, Binomial{Float64}, LogitLink}, GLM.DensePredChol{Float64, LinearAlgebra.CholeskyPivoted{Float64, Matrix{Float64}, Vector{Int64}}}}, Matrix{Float64}}\n",
       "\n",
       "camera_mp ~ 1 + price\n",
       "\n",
       "Coefficients:\n",
       "────────────────────────────────────────────────────────────────────────────\n",
       "                   Coef.  Std. Error      z  Pr(>|z|)   Lower 95%  Upper 95%\n",
       "────────────────────────────────────────────────────────────────────────────\n",
       "(Intercept)  -349.418     36976.7     -0.01    0.9925  -72822.5    72123.7\n",
       "price           0.831995     88.0227   0.01    0.9925    -171.689    173.353\n",
       "────────────────────────────────────────────────────────────────────────────"
      ]
     },
     "execution_count": 5,
     "metadata": {},
     "output_type": "execute_result"
    }
   ],
   "source": [
    "# model\n",
    "model = glm(@formula(camera_mp ~ price), camera, Binomial(), LogitLink())"
   ]
  },
  {
   "cell_type": "code",
   "execution_count": 6,
   "id": "3835354b-a4f1-440f-9948-0d91089762c1",
   "metadata": {},
   "outputs": [
    {
     "data": {
      "text/plain": [
       "18-element Vector{Union{Missing, Float64}}:\n",
       " 1.0\n",
       " 1.0\n",
       " 1.0\n",
       " 1.0\n",
       " 1.0\n",
       " 0.9999999999858286\n",
       " 1.0\n",
       " 1.0\n",
       " 1.0\n",
       " 0.9999999418266791\n",
       " 2.6443541047612022e-51\n",
       " 1.0854989122953411e-47\n",
       " 8.75200678716391e-19\n",
       " 6.053923997771826e-8\n",
       " 1.8291484606770547e-40\n",
       " 1.265255695208486e-29\n",
       " 6.441838450653998e-55\n",
       " 3.592670826786274e-15"
      ]
     },
     "execution_count": 6,
     "metadata": {},
     "output_type": "execute_result"
    }
   ],
   "source": [
    "predict(model, camera)"
   ]
  },
  {
   "cell_type": "code",
   "execution_count": 17,
   "id": "e4ac92e0-6ae6-4da5-b716-2fca88893a5f",
   "metadata": {},
   "outputs": [
    {
     "data": {
      "text/plain": [
       "1-element Vector{Union{Missing, Float64}}:\n",
       " 1.4747798971524078e-11"
      ]
     },
     "execution_count": 17,
     "metadata": {},
     "output_type": "execute_result"
    }
   ],
   "source": [
    "predict(model, DataFrame(price=[390]))"
   ]
  },
  {
   "cell_type": "code",
   "execution_count": 18,
   "id": "4981a506-9b5c-4231-9f35-52846052301b",
   "metadata": {},
   "outputs": [
    {
     "data": {
      "text/plain": [
       "4-element Vector{Union{Missing, Float64}}:\n",
       " 1.4747798971524236e-11\n",
       " 6.053923997771826e-8\n",
       " 0.000248449918452024\n",
       " 0.5049829480810587"
      ]
     },
     "execution_count": 18,
     "metadata": {},
     "output_type": "execute_result"
    }
   ],
   "source": [
    "predict(model, DataFrame(price=[390, 400, 410, 420]))"
   ]
  },
  {
   "cell_type": "code",
   "execution_count": 19,
   "id": "22fe9a30-141a-4643-af6a-b1bd17287130",
   "metadata": {},
   "outputs": [
    {
     "data": {
      "text/plain": [
       "18-element Vector{Union{Missing, Float64}}:\n",
       " 1.0\n",
       " 1.0\n",
       " 1.0\n",
       " 1.0\n",
       " 1.0\n",
       " 0.9999999999858286\n",
       " 1.0\n",
       " 1.0\n",
       " 1.0\n",
       " 0.9999999418266791\n",
       " 2.6443541047612022e-51\n",
       " 1.0854989122953411e-47\n",
       " 8.75200678716391e-19\n",
       " 6.053923997771826e-8\n",
       " 1.8291484606770547e-40\n",
       " 1.265255695208486e-29\n",
       " 6.441838450653998e-55\n",
       " 3.592670826786274e-15"
      ]
     },
     "execution_count": 19,
     "metadata": {},
     "output_type": "execute_result"
    }
   ],
   "source": [
    "predict(model, DataFrame(price=camera.price))"
   ]
  },
  {
   "cell_type": "code",
   "execution_count": 21,
   "id": "29bc93b9-ee98-4368-98d1-08992848f9c2",
   "metadata": {},
   "outputs": [],
   "source": [
    "predictions = predict(model, DataFrame(price=camera.price));"
   ]
  },
  {
   "cell_type": "code",
   "execution_count": 24,
   "id": "3622013b-2a10-40f3-9efe-136b9a521f16",
   "metadata": {},
   "outputs": [
    {
     "data": {
      "text/plain": [
       "convert_0_1 (generic function with 1 method)"
      ]
     },
     "execution_count": 24,
     "metadata": {},
     "output_type": "execute_result"
    }
   ],
   "source": [
    "function convert_0_1(data)\n",
    "    if data > 0.5\n",
    "        return 1\n",
    "    else\n",
    "        return 0\n",
    "    end\n",
    "end"
   ]
  },
  {
   "cell_type": "code",
   "execution_count": 25,
   "id": "1fdf5fa2-61d9-4025-92a6-e5b4122152a7",
   "metadata": {},
   "outputs": [
    {
     "data": {
      "text/plain": [
       "18-element Vector{Int64}:\n",
       " 1\n",
       " 1\n",
       " 1\n",
       " 1\n",
       " 1\n",
       " 1\n",
       " 1\n",
       " 1\n",
       " 1\n",
       " 1\n",
       " 0\n",
       " 0\n",
       " 0\n",
       " 0\n",
       " 0\n",
       " 0\n",
       " 0\n",
       " 0"
      ]
     },
     "execution_count": 25,
     "metadata": {},
     "output_type": "execute_result"
    }
   ],
   "source": [
    "map(convert_0_1, predictions)"
   ]
  },
  {
   "cell_type": "code",
   "execution_count": null,
   "id": "94a573eb-fd33-4e08-911a-9dd3c54ab395",
   "metadata": {},
   "outputs": [],
   "source": []
  }
 ],
 "metadata": {
  "kernelspec": {
   "display_name": "Julia 1.9.1",
   "language": "julia",
   "name": "julia-1.9"
  },
  "language_info": {
   "file_extension": ".jl",
   "mimetype": "application/julia",
   "name": "julia",
   "version": "1.9.1"
  }
 },
 "nbformat": 4,
 "nbformat_minor": 5
}
