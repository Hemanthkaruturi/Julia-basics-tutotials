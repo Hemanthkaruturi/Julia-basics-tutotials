{
 "cells": [
  {
   "cell_type": "code",
   "execution_count": 6,
   "id": "bd2365ac-1853-414d-beef-657060293b2e",
   "metadata": {},
   "outputs": [],
   "source": [
    "struct rect_prism\n",
    "    width::Real\n",
    "    length::Real\n",
    "    height::Real\n",
    "end"
   ]
  },
  {
   "cell_type": "code",
   "execution_count": 7,
   "id": "32984a2b-ee35-4fe3-800d-1781e9294122",
   "metadata": {},
   "outputs": [
    {
     "data": {
      "text/plain": [
       "rect_prism(34, 45, 2.3)"
      ]
     },
     "execution_count": 7,
     "metadata": {},
     "output_type": "execute_result"
    }
   ],
   "source": [
    "pr = rect_prism(34,45,2.3)"
   ]
  },
  {
   "cell_type": "code",
   "execution_count": 8,
   "id": "b4f0ec3a-9862-4dc4-8cac-ec549602432d",
   "metadata": {},
   "outputs": [
    {
     "data": {
      "text/plain": [
       "3518.9999999999995"
      ]
     },
     "execution_count": 8,
     "metadata": {},
     "output_type": "execute_result"
    }
   ],
   "source": [
    "volume = pr.length * pr.width * pr. height"
   ]
  },
  {
   "cell_type": "code",
   "execution_count": 9,
   "id": "5ab20715-5e44-4d88-ab20-c03438cbedf1",
   "metadata": {},
   "outputs": [],
   "source": [
    "# exercise 2"
   ]
  },
  {
   "cell_type": "code",
   "execution_count": 10,
   "id": "5709f3f1-1153-408c-b7a4-a3f64fefbf6e",
   "metadata": {},
   "outputs": [
    {
     "data": {
      "text/plain": [
       "42"
      ]
     },
     "execution_count": 10,
     "metadata": {},
     "output_type": "execute_result"
    }
   ],
   "source": [
    "myint = 42"
   ]
  },
  {
   "cell_type": "code",
   "execution_count": 12,
   "id": "b9444236-40a7-4b6e-8d2b-352a9715d01c",
   "metadata": {},
   "outputs": [
    {
     "data": {
      "text/plain": [
       "42.0"
      ]
     },
     "execution_count": 12,
     "metadata": {},
     "output_type": "execute_result"
    }
   ],
   "source": [
    "myfloat = float(myint)"
   ]
  },
  {
   "cell_type": "code",
   "execution_count": 13,
   "id": "8c0ca3d8-f458-4f2e-b797-ab318967c24a",
   "metadata": {},
   "outputs": [],
   "source": [
    "# exercise 3"
   ]
  },
  {
   "cell_type": "code",
   "execution_count": 14,
   "id": "fa0746de-0837-47d7-b81b-6abd4bc36d78",
   "metadata": {},
   "outputs": [
    {
     "data": {
      "text/plain": [
       "1.8"
      ]
     },
     "execution_count": 14,
     "metadata": {},
     "output_type": "execute_result"
    }
   ],
   "source": [
    "name = \"Aurther\"; weight = 75; height = 1.80"
   ]
  },
  {
   "cell_type": "code",
   "execution_count": 17,
   "id": "8490835b-a1cc-4531-bb61-b18a7f088a8a",
   "metadata": {},
   "outputs": [
    {
     "data": {
      "text/plain": [
       "23.15"
      ]
     },
     "execution_count": 17,
     "metadata": {},
     "output_type": "execute_result"
    }
   ],
   "source": [
    "bmi = round(weight/height^2,digits=2)"
   ]
  },
  {
   "cell_type": "code",
   "execution_count": 22,
   "id": "2fb1b780-d418-4a32-8ddd-4609bade8a59",
   "metadata": {},
   "outputs": [
    {
     "name": "stdout",
     "output_type": "stream",
     "text": [
      "Hello Aurther. You are 75 kg and 1.8 m. Your BMI is 23.15.\n"
     ]
    }
   ],
   "source": [
    "println(\"Hello $name. You are $weight kg and $height m. Your BMI is $bmi.\")"
   ]
  },
  {
   "cell_type": "code",
   "execution_count": 1,
   "id": "32e93069-4d90-44d8-8bda-d08186f32713",
   "metadata": {},
   "outputs": [],
   "source": [
    "# exercise 4"
   ]
  },
  {
   "cell_type": "code",
   "execution_count": 2,
   "id": "6faf155b-4555-4e44-a50a-3b7a1f1de79c",
   "metadata": {},
   "outputs": [
    {
     "data": {
      "text/plain": [
       "100×3 Matrix{Float64}:\n",
       " 0.189325     0.497068   0.523771\n",
       " 0.256138     0.646683   0.779584\n",
       " 0.488227     0.0905899  0.52417\n",
       " 0.72855      0.415729   0.118452\n",
       " 0.643521     0.470989   0.924573\n",
       " 0.638423     0.878913   0.231745\n",
       " 0.857224     0.220467   0.278382\n",
       " 0.234823     0.790308   0.407226\n",
       " 0.75134      0.32033    0.256519\n",
       " 0.952257     0.720575   0.979473\n",
       " 0.104464     0.686078   0.115914\n",
       " 0.581251     0.552982   0.358933\n",
       " 0.267491     0.932311   0.561386\n",
       " ⋮                       \n",
       " 0.625408     0.661052   0.920278\n",
       " 0.896567     0.766772   0.110198\n",
       " 0.000606568  0.864629   0.280648\n",
       " 0.249079     0.36497    0.72974\n",
       " 0.624099     0.722645   0.949654\n",
       " 0.555428     0.556609   0.366189\n",
       " 0.419716     0.10091    0.648129\n",
       " 0.353068     0.432833   0.0916853\n",
       " 0.493852     0.102624   0.0699993\n",
       " 0.612623     0.177158   0.375382\n",
       " 0.850411     0.523747   0.412288\n",
       " 0.557136     0.618535   0.420551"
      ]
     },
     "execution_count": 2,
     "metadata": {},
     "output_type": "execute_result"
    }
   ],
   "source": [
    "X = rand(Float64, 100, 3)"
   ]
  },
  {
   "cell_type": "code",
   "execution_count": 3,
   "id": "dc4ee0e9-b4f8-4034-90a2-d259a4c50fb2",
   "metadata": {},
   "outputs": [
    {
     "data": {
      "text/plain": [
       "100-element Vector{Float64}:\n",
       " 0.13245054676063883\n",
       " 0.3511233507421535\n",
       " 0.43467759088188906\n",
       " 0.2616202160588499\n",
       " 0.9529141487395775\n",
       " 0.7085737548198857\n",
       " 0.22573464164789747\n",
       " 0.8656415553155428\n",
       " 0.19689306191486988\n",
       " 0.7969163870847084\n",
       " 0.5854864476369597\n",
       " 0.6475441047099669\n",
       " 0.011343762133077195\n",
       " ⋮\n",
       " 0.13454468112037998\n",
       " 0.1557390291006916\n",
       " 0.27115958045841815\n",
       " 0.21997574750892612\n",
       " 0.3830530186649894\n",
       " 0.4070839161054124\n",
       " 0.26583405445889063\n",
       " 0.09430578062192829\n",
       " 0.05791873185465213\n",
       " 0.1795280029535593\n",
       " 0.942790026110564\n",
       " 0.27200138570828003"
      ]
     },
     "execution_count": 3,
     "metadata": {},
     "output_type": "execute_result"
    }
   ],
   "source": [
    "y = rand(100)"
   ]
  },
  {
   "cell_type": "code",
   "execution_count": 11,
   "id": "0e3dc6bd-0650-4e58-ab13-e6c9415fa0d3",
   "metadata": {},
   "outputs": [
    {
     "data": {
      "text/plain": [
       "100×4 Matrix{Float64}:\n",
       " 1.0  0.189325     0.497068   0.523771\n",
       " 1.0  0.256138     0.646683   0.779584\n",
       " 1.0  0.488227     0.0905899  0.52417\n",
       " 1.0  0.72855      0.415729   0.118452\n",
       " 1.0  0.643521     0.470989   0.924573\n",
       " 1.0  0.638423     0.878913   0.231745\n",
       " 1.0  0.857224     0.220467   0.278382\n",
       " 1.0  0.234823     0.790308   0.407226\n",
       " 1.0  0.75134      0.32033    0.256519\n",
       " 1.0  0.952257     0.720575   0.979473\n",
       " 1.0  0.104464     0.686078   0.115914\n",
       " 1.0  0.581251     0.552982   0.358933\n",
       " 1.0  0.267491     0.932311   0.561386\n",
       " ⋮                            \n",
       " 1.0  0.625408     0.661052   0.920278\n",
       " 1.0  0.896567     0.766772   0.110198\n",
       " 1.0  0.000606568  0.864629   0.280648\n",
       " 1.0  0.249079     0.36497    0.72974\n",
       " 1.0  0.624099     0.722645   0.949654\n",
       " 1.0  0.555428     0.556609   0.366189\n",
       " 1.0  0.419716     0.10091    0.648129\n",
       " 1.0  0.353068     0.432833   0.0916853\n",
       " 1.0  0.493852     0.102624   0.0699993\n",
       " 1.0  0.612623     0.177158   0.375382\n",
       " 1.0  0.850411     0.523747   0.412288\n",
       " 1.0  0.557136     0.618535   0.420551"
      ]
     },
     "execution_count": 11,
     "metadata": {},
     "output_type": "execute_result"
    }
   ],
   "source": [
    "# Add constant\n",
    "X = [ones(100) X]"
   ]
  },
  {
   "cell_type": "code",
   "execution_count": 12,
   "id": "0d46a316-5130-4920-90e5-231027456787",
   "metadata": {},
   "outputs": [
    {
     "data": {
      "text/plain": [
       "4-element Vector{Float64}:\n",
       " 1.7658920451216096\n",
       " 3.586056238434308\n",
       " 2.9918445028393745\n",
       " 3.3013546751088243"
      ]
     },
     "execution_count": 12,
     "metadata": {},
     "output_type": "execute_result"
    }
   ],
   "source": [
    "β = ((X' * X) .^ -1) * X' * y # This is not correct"
   ]
  },
  {
   "cell_type": "code",
   "execution_count": 13,
   "id": "1698b090-c861-4456-a936-b78555e24326",
   "metadata": {},
   "outputs": [
    {
     "data": {
      "text/plain": [
       "4-element Vector{Float64}:\n",
       "  0.4260438937130006\n",
       "  0.06659777030616376\n",
       " -0.0166665333682205\n",
       " -0.014674973834428106"
      ]
     },
     "execution_count": 13,
     "metadata": {},
     "output_type": "execute_result"
    }
   ],
   "source": [
    "β = inv(X'X)X'y"
   ]
  },
  {
   "cell_type": "code",
   "execution_count": null,
   "id": "aa778739-251e-4c87-b852-af0e968d79ba",
   "metadata": {},
   "outputs": [],
   "source": []
  }
 ],
 "metadata": {
  "kernelspec": {
   "display_name": "Julia 1.9.1",
   "language": "julia",
   "name": "julia-1.9"
  },
  "language_info": {
   "file_extension": ".jl",
   "mimetype": "application/julia",
   "name": "julia",
   "version": "1.9.1"
  }
 },
 "nbformat": 4,
 "nbformat_minor": 5
}
