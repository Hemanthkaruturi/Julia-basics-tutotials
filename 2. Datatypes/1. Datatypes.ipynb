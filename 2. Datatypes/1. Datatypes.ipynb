{
 "cells": [
  {
   "cell_type": "markdown",
   "id": "9bf93099-9b91-40cb-92b4-e8dc98ec7bc1",
   "metadata": {},
   "source": [
    "# Integer and float"
   ]
  },
  {
   "cell_type": "code",
   "execution_count": 1,
   "id": "703a2be5-92e7-4e07-a720-4c86a07ab7a6",
   "metadata": {},
   "outputs": [
    {
     "data": {
      "text/plain": [
       "127"
      ]
     },
     "execution_count": 1,
     "metadata": {},
     "output_type": "execute_result"
    }
   ],
   "source": [
    "typemax(Int8)"
   ]
  },
  {
   "cell_type": "code",
   "execution_count": 2,
   "id": "2c41ff6d-add9-4d34-827e-c40057b1234c",
   "metadata": {},
   "outputs": [
    {
     "data": {
      "text/plain": [
       "9223372036854775807"
      ]
     },
     "execution_count": 2,
     "metadata": {},
     "output_type": "execute_result"
    }
   ],
   "source": [
    "typemax(Int64)"
   ]
  },
  {
   "cell_type": "code",
   "execution_count": 3,
   "id": "90c2b53a-7ac3-469d-81fb-a2c2298ade99",
   "metadata": {},
   "outputs": [
    {
     "data": {
      "text/plain": [
       "9223372036854775807"
      ]
     },
     "execution_count": 3,
     "metadata": {},
     "output_type": "execute_result"
    }
   ],
   "source": [
    "typemax(Int)"
   ]
  },
  {
   "cell_type": "code",
   "execution_count": 4,
   "id": "9477a769-97cc-4fe8-86b8-8d0d283b598e",
   "metadata": {},
   "outputs": [
    {
     "data": {
      "text/plain": [
       "-9223372036854775808"
      ]
     },
     "execution_count": 4,
     "metadata": {},
     "output_type": "execute_result"
    }
   ],
   "source": [
    "typemin(Int)"
   ]
  },
  {
   "cell_type": "code",
   "execution_count": 5,
   "id": "9ca3079d-c78e-44f4-b7cd-f9a9b9ce642a",
   "metadata": {},
   "outputs": [
    {
     "data": {
      "text/plain": [
       "64"
      ]
     },
     "execution_count": 5,
     "metadata": {},
     "output_type": "execute_result"
    }
   ],
   "source": [
    "Sys.WORD_SIZE"
   ]
  },
  {
   "cell_type": "code",
   "execution_count": 6,
   "id": "321e54cd-3827-494a-a42e-ef12c774f1eb",
   "metadata": {},
   "outputs": [
    {
     "data": {
      "text/plain": [
       "170141183460469231731687303715884105727"
      ]
     },
     "execution_count": 6,
     "metadata": {},
     "output_type": "execute_result"
    }
   ],
   "source": [
    "typemax(Int128)"
   ]
  },
  {
   "cell_type": "code",
   "execution_count": 7,
   "id": "a1476330-bbaf-4e60-8547-997b72ab5918",
   "metadata": {},
   "outputs": [
    {
     "data": {
      "text/plain": [
       "314.0"
      ]
     },
     "execution_count": 7,
     "metadata": {},
     "output_type": "execute_result"
    }
   ],
   "source": [
    "# scientific numbers\n",
    "3.14e2"
   ]
  },
  {
   "cell_type": "code",
   "execution_count": 8,
   "id": "a0af534d-d041-41aa-9dba-c4c4a413fd58",
   "metadata": {},
   "outputs": [
    {
     "data": {
      "text/plain": [
       "Float64"
      ]
     },
     "execution_count": 8,
     "metadata": {},
     "output_type": "execute_result"
    }
   ],
   "source": [
    "typeof(3.14e3)"
   ]
  },
  {
   "cell_type": "code",
   "execution_count": 9,
   "id": "28055b21-4dad-4ff7-9f7d-b4ad843ea5e4",
   "metadata": {},
   "outputs": [
    {
     "data": {
      "text/plain": [
       "8"
      ]
     },
     "execution_count": 9,
     "metadata": {},
     "output_type": "execute_result"
    }
   ],
   "source": [
    "sizeof(253.4)"
   ]
  },
  {
   "cell_type": "code",
   "execution_count": 11,
   "id": "dc1a7781-a3cb-4dc3-a700-bacda5c5fe8c",
   "metadata": {},
   "outputs": [
    {
     "data": {
      "text/plain": [
       "2340"
      ]
     },
     "execution_count": 11,
     "metadata": {},
     "output_type": "execute_result"
    }
   ],
   "source": [
    "# we can use underscore in numbers\n",
    "x = 2_340"
   ]
  },
  {
   "cell_type": "code",
   "execution_count": 12,
   "id": "93e8c9d0-11cc-4b89-babb-5c3e86501549",
   "metadata": {},
   "outputs": [
    {
     "data": {
      "text/plain": [
       "Inf"
      ]
     },
     "execution_count": 12,
     "metadata": {},
     "output_type": "execute_result"
    }
   ],
   "source": [
    "# Inf is a keyword\n",
    "Inf"
   ]
  },
  {
   "cell_type": "code",
   "execution_count": 13,
   "id": "eef04c14-4b64-4a15-8d38-dc14f2f4ff0b",
   "metadata": {},
   "outputs": [],
   "source": [
    "# nothing is similar to None in Python\n",
    "nothing"
   ]
  },
  {
   "cell_type": "code",
   "execution_count": 14,
   "id": "05301405-286a-445c-b732-19417a6adc78",
   "metadata": {},
   "outputs": [
    {
     "data": {
      "text/plain": [
       "Inf"
      ]
     },
     "execution_count": 14,
     "metadata": {},
     "output_type": "execute_result"
    }
   ],
   "source": [
    "# 1/0 is error in Python but not in Julia\n",
    "1/0"
   ]
  },
  {
   "cell_type": "code",
   "execution_count": 16,
   "id": "67d5ab3e-cf66-4e16-8057-0c8df73a5c1c",
   "metadata": {},
   "outputs": [
    {
     "ename": "LoadError",
     "evalue": "MethodError: no method matching +(::Int64, ::Nothing)\n\n\u001b[0mClosest candidates are:\n\u001b[0m  +(::Any, ::Any, \u001b[91m::Any\u001b[39m, \u001b[91m::Any...\u001b[39m)\n\u001b[0m\u001b[90m   @\u001b[39m \u001b[90mBase\u001b[39m \u001b[90m\u001b[4moperators.jl:578\u001b[24m\u001b[39m\n\u001b[0m  +(::T, \u001b[91m::T\u001b[39m) where T<:Union{Int128, Int16, Int32, Int64, Int8, UInt128, UInt16, UInt32, UInt64, UInt8}\n\u001b[0m\u001b[90m   @\u001b[39m \u001b[90mBase\u001b[39m \u001b[90m\u001b[4mint.jl:87\u001b[24m\u001b[39m\n\u001b[0m  +(::Integer, \u001b[91m::Ptr\u001b[39m)\n\u001b[0m\u001b[90m   @\u001b[39m \u001b[90mBase\u001b[39m \u001b[90m\u001b[4mpointer.jl:169\u001b[24m\u001b[39m\n\u001b[0m  ...\n",
     "output_type": "error",
     "traceback": [
      "MethodError: no method matching +(::Int64, ::Nothing)\n\n\u001b[0mClosest candidates are:\n\u001b[0m  +(::Any, ::Any, \u001b[91m::Any\u001b[39m, \u001b[91m::Any...\u001b[39m)\n\u001b[0m\u001b[90m   @\u001b[39m \u001b[90mBase\u001b[39m \u001b[90m\u001b[4moperators.jl:578\u001b[24m\u001b[39m\n\u001b[0m  +(::T, \u001b[91m::T\u001b[39m) where T<:Union{Int128, Int16, Int32, Int64, Int8, UInt128, UInt16, UInt32, UInt64, UInt8}\n\u001b[0m\u001b[90m   @\u001b[39m \u001b[90mBase\u001b[39m \u001b[90m\u001b[4mint.jl:87\u001b[24m\u001b[39m\n\u001b[0m  +(::Integer, \u001b[91m::Ptr\u001b[39m)\n\u001b[0m\u001b[90m   @\u001b[39m \u001b[90mBase\u001b[39m \u001b[90m\u001b[4mpointer.jl:169\u001b[24m\u001b[39m\n\u001b[0m  ...\n",
      "",
      "Stacktrace:",
      " [1] top-level scope",
      "   @ In[16]:2"
     ]
    }
   ],
   "source": [
    "# but you can't divide with nothing\n",
    "1/nothing"
   ]
  },
  {
   "cell_type": "code",
   "execution_count": 17,
   "id": "ef28b51c-a70e-471d-9718-500ee7f76d88",
   "metadata": {},
   "outputs": [
    {
     "data": {
      "text/plain": [
       "true"
      ]
     },
     "execution_count": 17,
     "metadata": {},
     "output_type": "execute_result"
    }
   ],
   "source": [
    "isinf(1/0)"
   ]
  },
  {
   "cell_type": "code",
   "execution_count": 19,
   "id": "f8423e5d-164b-418a-b7c2-11e56ec2ff7b",
   "metadata": {},
   "outputs": [
    {
     "data": {
      "text/plain": [
       "4.440892098500626e-16"
      ]
     },
     "execution_count": 19,
     "metadata": {},
     "output_type": "execute_result"
    }
   ],
   "source": [
    "# you can get epsilon value\n",
    "eps(2.3)"
   ]
  },
  {
   "cell_type": "code",
   "execution_count": 20,
   "id": "134b3b0c-0ebd-4edc-afed-a4635110990b",
   "metadata": {},
   "outputs": [
    {
     "data": {
      "text/plain": [
       "Bool"
      ]
     },
     "execution_count": 20,
     "metadata": {},
     "output_type": "execute_result"
    }
   ],
   "source": [
    "# Bool\n",
    "typeof(true)"
   ]
  },
  {
   "cell_type": "code",
   "execution_count": 21,
   "id": "5677807c-db71-4fa7-95d3-e7f270426ab1",
   "metadata": {},
   "outputs": [
    {
     "data": {
      "text/plain": [
       "Bool"
      ]
     },
     "execution_count": 21,
     "metadata": {},
     "output_type": "execute_result"
    }
   ],
   "source": [
    "typeof(false)"
   ]
  },
  {
   "cell_type": "markdown",
   "id": "969912d4-c61a-4f29-b266-b29d273f3b80",
   "metadata": {},
   "source": [
    "# complex and Rational numbers"
   ]
  },
  {
   "cell_type": "code",
   "execution_count": 22,
   "id": "59edaedf-bc60-4c9c-b8cb-aead65896ca3",
   "metadata": {},
   "outputs": [
    {
     "data": {
      "text/plain": [
       "3 + 4im"
      ]
     },
     "execution_count": 22,
     "metadata": {},
     "output_type": "execute_result"
    }
   ],
   "source": [
    "# create complex number\n",
    "# im indicates imaginary number\n",
    "3 + 4im"
   ]
  },
  {
   "cell_type": "code",
   "execution_count": 23,
   "id": "6484d82a-c49b-41b9-a00d-f12e06fdd160",
   "metadata": {},
   "outputs": [
    {
     "data": {
      "text/plain": [
       "2 + 3im"
      ]
     },
     "execution_count": 23,
     "metadata": {},
     "output_type": "execute_result"
    }
   ],
   "source": [
    "y = 2+3im"
   ]
  },
  {
   "cell_type": "code",
   "execution_count": 24,
   "id": "e807cff2-3c72-47ed-9b2b-d1ccbe2ad929",
   "metadata": {},
   "outputs": [
    {
     "data": {
      "text/plain": [
       "Complex{Int64}"
      ]
     },
     "execution_count": 24,
     "metadata": {},
     "output_type": "execute_result"
    }
   ],
   "source": [
    "typeof(y)"
   ]
  },
  {
   "cell_type": "code",
   "execution_count": 25,
   "id": "b8e4a68b-8d23-4eec-a450-c4eeea93230d",
   "metadata": {},
   "outputs": [
    {
     "data": {
      "text/plain": [
       "2.0"
      ]
     },
     "execution_count": 25,
     "metadata": {},
     "output_type": "execute_result"
    }
   ],
   "source": [
    "# you can create square root by \\sqrt TAB\n",
    "√4"
   ]
  },
  {
   "cell_type": "code",
   "execution_count": 26,
   "id": "8a8e5fb6-5efd-49cc-bd1b-3028b18ce8b4",
   "metadata": {},
   "outputs": [
    {
     "data": {
      "text/plain": [
       "2.0"
      ]
     },
     "execution_count": 26,
     "metadata": {},
     "output_type": "execute_result"
    }
   ],
   "source": [
    "# or simply you can do below\n",
    "sqrt(4)"
   ]
  },
  {
   "cell_type": "code",
   "execution_count": 27,
   "id": "05b73185-a509-4505-940e-ef08298836fb",
   "metadata": {},
   "outputs": [
    {
     "data": {
      "text/plain": [
       "2"
      ]
     },
     "execution_count": 27,
     "metadata": {},
     "output_type": "execute_result"
    }
   ],
   "source": [
    "real(y)"
   ]
  },
  {
   "cell_type": "code",
   "execution_count": 28,
   "id": "49079908-39f5-41ea-8c1b-e53650acf3c1",
   "metadata": {},
   "outputs": [
    {
     "data": {
      "text/plain": [
       "3"
      ]
     },
     "execution_count": 28,
     "metadata": {},
     "output_type": "execute_result"
    }
   ],
   "source": [
    "imag(y)"
   ]
  },
  {
   "cell_type": "code",
   "execution_count": 29,
   "id": "f98a1901-1cd1-49d8-b9cb-270d734dea9f",
   "metadata": {},
   "outputs": [],
   "source": [
    "# Rational numbers"
   ]
  },
  {
   "cell_type": "code",
   "execution_count": 30,
   "id": "5143b77a-3c1c-41a0-b150-42cef08d6e3b",
   "metadata": {},
   "outputs": [
    {
     "data": {
      "text/plain": [
       "5//7"
      ]
     },
     "execution_count": 30,
     "metadata": {},
     "output_type": "execute_result"
    }
   ],
   "source": [
    "x = 5//7"
   ]
  },
  {
   "cell_type": "code",
   "execution_count": 31,
   "id": "43218a2b-e060-474a-a348-db2bdf0d9884",
   "metadata": {},
   "outputs": [
    {
     "data": {
      "text/plain": [
       "Rational{Int64}"
      ]
     },
     "execution_count": 31,
     "metadata": {},
     "output_type": "execute_result"
    }
   ],
   "source": [
    "typeof(x)"
   ]
  },
  {
   "cell_type": "code",
   "execution_count": 32,
   "id": "d5ed0fbe-6000-44b3-8025-4b35e5f338ad",
   "metadata": {},
   "outputs": [
    {
     "data": {
      "text/plain": [
       "5//7"
      ]
     },
     "execution_count": 32,
     "metadata": {},
     "output_type": "execute_result"
    }
   ],
   "source": [
    "y = 15//21"
   ]
  },
  {
   "cell_type": "code",
   "execution_count": 33,
   "id": "acbd9b56-62da-4553-911c-7e2ac3657db2",
   "metadata": {},
   "outputs": [
    {
     "data": {
      "text/plain": [
       "25//49"
      ]
     },
     "execution_count": 33,
     "metadata": {},
     "output_type": "execute_result"
    }
   ],
   "source": [
    "x*y"
   ]
  },
  {
   "cell_type": "code",
   "execution_count": 35,
   "id": "b66f028e-f1b4-408d-b48a-027b39494c60",
   "metadata": {},
   "outputs": [
    {
     "data": {
      "text/plain": [
       "true"
      ]
     },
     "execution_count": 35,
     "metadata": {},
     "output_type": "execute_result"
    }
   ],
   "source": [
    "isa(x, Rational)"
   ]
  },
  {
   "cell_type": "markdown",
   "id": "1efb3cb1-51b8-4518-8390-a4fad152a1e6",
   "metadata": {},
   "source": [
    "# characted and String types"
   ]
  },
  {
   "cell_type": "code",
   "execution_count": 37,
   "id": "f02a9e01-720b-4bbb-b987-1834efcc87a2",
   "metadata": {},
   "outputs": [
    {
     "data": {
      "text/plain": [
       "'a': ASCII/Unicode U+0061 (category Ll: Letter, lowercase)"
      ]
     },
     "execution_count": 37,
     "metadata": {},
     "output_type": "execute_result"
    }
   ],
   "source": [
    "# In Julia charcters will be declared in single quotes and Strings will be in double quotes\n",
    "c = 'a'"
   ]
  },
  {
   "cell_type": "code",
   "execution_count": 38,
   "id": "7463ea23-3f9a-40c3-9c5f-be251beaffb5",
   "metadata": {},
   "outputs": [
    {
     "data": {
      "text/plain": [
       "Char"
      ]
     },
     "execution_count": 38,
     "metadata": {},
     "output_type": "execute_result"
    }
   ],
   "source": [
    "typeof(c)"
   ]
  },
  {
   "cell_type": "code",
   "execution_count": 39,
   "id": "693f0296-5ea3-43e7-8329-ae4b130ba48c",
   "metadata": {},
   "outputs": [
    {
     "data": {
      "text/plain": [
       "\"Hemanth\""
      ]
     },
     "execution_count": 39,
     "metadata": {},
     "output_type": "execute_result"
    }
   ],
   "source": [
    "s = \"Hemanth\""
   ]
  },
  {
   "cell_type": "code",
   "execution_count": 40,
   "id": "93d639e6-3c3c-41b2-a0b0-bbaaef4d6a26",
   "metadata": {},
   "outputs": [
    {
     "data": {
      "text/plain": [
       "String"
      ]
     },
     "execution_count": 40,
     "metadata": {},
     "output_type": "execute_result"
    }
   ],
   "source": [
    "typeof(s)"
   ]
  },
  {
   "cell_type": "code",
   "execution_count": 42,
   "id": "13633c63-1bc7-424a-bb68-2a6de9422a7f",
   "metadata": {},
   "outputs": [
    {
     "ename": "LoadError",
     "evalue": "syntax: character literal contains multiple characters",
     "output_type": "error",
     "traceback": [
      "syntax: character literal contains multiple characters",
      "",
      "Stacktrace:",
      " [1] top-level scope",
      "   @ In[42]:2"
     ]
    }
   ],
   "source": [
    "# charatced should contain only 1 character\n",
    "c = 'Hemanth'"
   ]
  },
  {
   "cell_type": "code",
   "execution_count": 43,
   "id": "cab7e30e-cd47-47f7-a544-1bc527335c0a",
   "metadata": {},
   "outputs": [
    {
     "data": {
      "text/plain": [
       "'σ': Unicode U+03C3 (category Ll: Letter, lowercase)"
      ]
     },
     "execution_count": 43,
     "metadata": {},
     "output_type": "execute_result"
    }
   ],
   "source": [
    "# you can also create uni characters \\sigma TAB\n",
    "unichar = 'σ'"
   ]
  },
  {
   "cell_type": "code",
   "execution_count": 44,
   "id": "3075f7b5-e757-411d-b7bd-64216e1ef8b4",
   "metadata": {},
   "outputs": [
    {
     "data": {
      "text/plain": [
       "Char"
      ]
     },
     "execution_count": 44,
     "metadata": {},
     "output_type": "execute_result"
    }
   ],
   "source": [
    "typeof(unichar)"
   ]
  },
  {
   "cell_type": "code",
   "execution_count": 45,
   "id": "e93beb2b-4e09-4194-8368-a73074814e62",
   "metadata": {},
   "outputs": [
    {
     "data": {
      "text/plain": [
       "\" This is a long string \""
      ]
     },
     "execution_count": 45,
     "metadata": {},
     "output_type": "execute_result"
    }
   ],
   "source": [
    "# we can also declare long strings\n",
    "longstring = \"\"\" This is a long string \"\"\""
   ]
  },
  {
   "cell_type": "code",
   "execution_count": 46,
   "id": "4c6f4a22-72e2-4000-bcbc-bf2bf5be249f",
   "metadata": {},
   "outputs": [
    {
     "data": {
      "text/plain": [
       "\"Hemanth\""
      ]
     },
     "execution_count": 46,
     "metadata": {},
     "output_type": "execute_result"
    }
   ],
   "source": [
    "# strings store same way as in python\n",
    "s = \"Hemanth\""
   ]
  },
  {
   "cell_type": "code",
   "execution_count": 47,
   "id": "f049e1db-d73c-4d21-90db-c3a184e85f48",
   "metadata": {},
   "outputs": [
    {
     "data": {
      "text/plain": [
       "'H': ASCII/Unicode U+0048 (category Lu: Letter, uppercase)"
      ]
     },
     "execution_count": 47,
     "metadata": {},
     "output_type": "execute_result"
    }
   ],
   "source": [
    "# The index of string start with 1 unlike 0 in python\n",
    "s[1]"
   ]
  },
  {
   "cell_type": "code",
   "execution_count": 48,
   "id": "f37c466e-2281-423e-909f-f5feded27cfa",
   "metadata": {},
   "outputs": [
    {
     "data": {
      "text/plain": [
       "'H': ASCII/Unicode U+0048 (category Lu: Letter, uppercase)"
      ]
     },
     "execution_count": 48,
     "metadata": {},
     "output_type": "execute_result"
    }
   ],
   "source": [
    "# we can also use begin keyword to get the start of the string\n",
    "s[begin]"
   ]
  },
  {
   "cell_type": "code",
   "execution_count": 49,
   "id": "29ae160a-11d0-4c12-a674-bc86ce3bef32",
   "metadata": {},
   "outputs": [
    {
     "data": {
      "text/plain": [
       "'h': ASCII/Unicode U+0068 (category Ll: Letter, lowercase)"
      ]
     },
     "execution_count": 49,
     "metadata": {},
     "output_type": "execute_result"
    }
   ],
   "source": [
    "# we can also use end keyword to get the end of the string\n",
    "s[end]"
   ]
  },
  {
   "cell_type": "code",
   "execution_count": 50,
   "id": "61c360a6-20e2-4aaa-bb55-a030da8f3da1",
   "metadata": {},
   "outputs": [
    {
     "data": {
      "text/plain": [
       "\"Hem\""
      ]
     },
     "execution_count": 50,
     "metadata": {},
     "output_type": "execute_result"
    }
   ],
   "source": [
    "# you can also slice strings very similar to python\n",
    "s[1:3]"
   ]
  },
  {
   "cell_type": "code",
   "execution_count": 51,
   "id": "15e24c12-cddd-4fc6-934f-6fefd3129da3",
   "metadata": {},
   "outputs": [
    {
     "data": {
      "text/plain": [
       "1"
      ]
     },
     "execution_count": 51,
     "metadata": {},
     "output_type": "execute_result"
    }
   ],
   "source": [
    "# you can first index\n",
    "firstindex(s)"
   ]
  },
  {
   "cell_type": "code",
   "execution_count": 53,
   "id": "5ec679ec-9d5a-4441-8075-0583072c3740",
   "metadata": {},
   "outputs": [
    {
     "data": {
      "text/plain": [
       "7"
      ]
     },
     "execution_count": 53,
     "metadata": {},
     "output_type": "execute_result"
    }
   ],
   "source": [
    "# you can get last undex\n",
    "lastindex(s)"
   ]
  },
  {
   "cell_type": "code",
   "execution_count": 55,
   "id": "6e1102da-0b9c-4b07-9d33-b2690c8e17c8",
   "metadata": {},
   "outputs": [
    {
     "data": {
      "text/plain": [
       "\"αβγ\""
      ]
     },
     "execution_count": 55,
     "metadata": {},
     "output_type": "execute_result"
    }
   ],
   "source": [
    "# But unicode charatcers will be stored in a different way\n",
    "newstr = \"αβγ\"\n"
   ]
  },
  {
   "cell_type": "code",
   "execution_count": 56,
   "id": "472c3e92-bea3-42bd-b014-20f8d68e9849",
   "metadata": {},
   "outputs": [
    {
     "data": {
      "text/plain": [
       "'α': Unicode U+03B1 (category Ll: Letter, lowercase)"
      ]
     },
     "execution_count": 56,
     "metadata": {},
     "output_type": "execute_result"
    }
   ],
   "source": [
    "newstr[1]"
   ]
  },
  {
   "cell_type": "code",
   "execution_count": 57,
   "id": "80f71257-caaa-4019-9924-79f5006b323f",
   "metadata": {},
   "outputs": [
    {
     "ename": "LoadError",
     "evalue": "StringIndexError: invalid index [2], valid nearby indices [1]=>'α', [3]=>'β'",
     "output_type": "error",
     "traceback": [
      "StringIndexError: invalid index [2], valid nearby indices [1]=>'α', [3]=>'β'",
      "",
      "Stacktrace:",
      " [1] string_index_err(s::String, i::Int64)",
      "   @ Base .\\strings\\string.jl:12",
      " [2] getindex_continued(s::String, i::Int64, u::UInt32)",
      "   @ Base .\\strings\\string.jl:248",
      " [3] getindex(s::String, i::Int64)",
      "   @ Base .\\strings\\string.jl:241",
      " [4] top-level scope",
      "   @ In[57]:1"
     ]
    }
   ],
   "source": [
    "newstr[2]"
   ]
  },
  {
   "cell_type": "code",
   "execution_count": 58,
   "id": "b79b08d8-24c1-4fb3-b6d7-608ecff74c00",
   "metadata": {},
   "outputs": [
    {
     "data": {
      "text/plain": [
       "'β': Unicode U+03B2 (category Ll: Letter, lowercase)"
      ]
     },
     "execution_count": 58,
     "metadata": {},
     "output_type": "execute_result"
    }
   ],
   "source": [
    "newstr[3]"
   ]
  },
  {
   "cell_type": "code",
   "execution_count": 60,
   "id": "cb556598-198a-41ab-b578-d26224e22b31",
   "metadata": {},
   "outputs": [
    {
     "data": {
      "text/plain": [
       "7"
      ]
     },
     "execution_count": 60,
     "metadata": {},
     "output_type": "execute_result"
    }
   ],
   "source": [
    "length(s)"
   ]
  },
  {
   "cell_type": "code",
   "execution_count": 61,
   "id": "cb31ca86-6816-4d71-921c-86f12117a458",
   "metadata": {},
   "outputs": [
    {
     "data": {
      "text/plain": [
       "3"
      ]
     },
     "execution_count": 61,
     "metadata": {},
     "output_type": "execute_result"
    }
   ],
   "source": [
    "length(newstr)"
   ]
  },
  {
   "cell_type": "code",
   "execution_count": 63,
   "id": "190dd199-ac92-4a14-86dd-5f6a3f047fba",
   "metadata": {},
   "outputs": [
    {
     "data": {
      "text/plain": [
       "\"Hi Hemanth\""
      ]
     },
     "execution_count": 63,
     "metadata": {},
     "output_type": "execute_result"
    }
   ],
   "source": [
    "# you can join strings\n",
    "string(\"Hi\",\" \",\"Hemanth\")"
   ]
  },
  {
   "cell_type": "code",
   "execution_count": 64,
   "id": "5102be71-e410-4fa4-8842-9b6a66e1ae65",
   "metadata": {},
   "outputs": [
    {
     "data": {
      "text/plain": [
       "\"Hemanth\""
      ]
     },
     "execution_count": 64,
     "metadata": {},
     "output_type": "execute_result"
    }
   ],
   "source": [
    "greet = \"Hi\"\n",
    "name = \"Hemanth\""
   ]
  },
  {
   "cell_type": "code",
   "execution_count": 65,
   "id": "3d5390e5-5755-45ce-a1d4-afb195a45454",
   "metadata": {},
   "outputs": [
    {
     "data": {
      "text/plain": [
       "\"Hi Hemanth\""
      ]
     },
     "execution_count": 65,
     "metadata": {},
     "output_type": "execute_result"
    }
   ],
   "source": [
    "string(greet,\" \", name)"
   ]
  },
  {
   "cell_type": "code",
   "execution_count": 66,
   "id": "8e89c77b-60d6-475b-b906-095ad7bdf951",
   "metadata": {},
   "outputs": [
    {
     "ename": "LoadError",
     "evalue": "MethodError: no method matching +(::String, ::String)\nString concatenation is performed with \u001b[36m*\u001b[39m (See also: https://docs.julialang.org/en/v1/manual/strings/#man-concatenation).\n\n\u001b[0mClosest candidates are:\n\u001b[0m  +(::Any, ::Any, \u001b[91m::Any\u001b[39m, \u001b[91m::Any...\u001b[39m)\n\u001b[0m\u001b[90m   @\u001b[39m \u001b[90mBase\u001b[39m \u001b[90m\u001b[4moperators.jl:578\u001b[24m\u001b[39m\n",
     "output_type": "error",
     "traceback": [
      "MethodError: no method matching +(::String, ::String)\nString concatenation is performed with \u001b[36m*\u001b[39m (See also: https://docs.julialang.org/en/v1/manual/strings/#man-concatenation).\n\n\u001b[0mClosest candidates are:\n\u001b[0m  +(::Any, ::Any, \u001b[91m::Any\u001b[39m, \u001b[91m::Any...\u001b[39m)\n\u001b[0m\u001b[90m   @\u001b[39m \u001b[90mBase\u001b[39m \u001b[90m\u001b[4moperators.jl:578\u001b[24m\u001b[39m\n",
      "",
      "Stacktrace:",
      " [1] top-level scope",
      "   @ In[66]:2"
     ]
    }
   ],
   "source": [
    "# adding strings is not possible\n",
    "greet + name"
   ]
  },
  {
   "cell_type": "code",
   "execution_count": 67,
   "id": "6e8e6bb6-5ea1-47a4-89e1-dbdcd4accc32",
   "metadata": {},
   "outputs": [
    {
     "data": {
      "text/plain": [
       "\"HiHemanth\""
      ]
     },
     "execution_count": 67,
     "metadata": {},
     "output_type": "execute_result"
    }
   ],
   "source": [
    "# but addition with * is possible\n",
    "greet * name"
   ]
  },
  {
   "cell_type": "code",
   "execution_count": 68,
   "id": "881e938a-787d-47bb-99d6-48931e30a398",
   "metadata": {},
   "outputs": [
    {
     "data": {
      "text/plain": [
       "\"HemanthHemanthHemanthHemanth\""
      ]
     },
     "execution_count": 68,
     "metadata": {},
     "output_type": "execute_result"
    }
   ],
   "source": [
    "# mulitply strings\n",
    "name^4"
   ]
  },
  {
   "cell_type": "code",
   "execution_count": 69,
   "id": "e3a0f870-5213-458a-a59d-3c0dccb712bf",
   "metadata": {},
   "outputs": [
    {
     "data": {
      "text/plain": [
       "\"Hi Hemanth\""
      ]
     },
     "execution_count": 69,
     "metadata": {},
     "output_type": "execute_result"
    }
   ],
   "source": [
    "# you use $ for variables similar to format in python\n",
    "\"$greet $name\""
   ]
  },
  {
   "cell_type": "markdown",
   "id": "7a0d8b2b-9188-477b-90c9-e5cc6b0121d4",
   "metadata": {},
   "source": [
    "# Primitive types"
   ]
  },
  {
   "cell_type": "markdown",
   "id": "a40d2dcf-978d-4660-8262-0a6fecf4f695",
   "metadata": {},
   "source": [
    "## creating struct in Julia"
   ]
  },
  {
   "cell_type": "code",
   "execution_count": 71,
   "id": "df6d9211-2957-4653-971b-ded039e395d8",
   "metadata": {},
   "outputs": [],
   "source": [
    "struct Rectangle\n",
    "    width::Float64\n",
    "    length::Float64\n",
    "end"
   ]
  },
  {
   "cell_type": "code",
   "execution_count": 72,
   "id": "58f33b9f-4766-44d8-9a5f-3e1c65684f7c",
   "metadata": {},
   "outputs": [
    {
     "data": {
      "text/plain": [
       "(:width, :length)"
      ]
     },
     "execution_count": 72,
     "metadata": {},
     "output_type": "execute_result"
    }
   ],
   "source": [
    "fieldnames(Rectangle)"
   ]
  },
  {
   "cell_type": "code",
   "execution_count": 73,
   "id": "cc638f81-7ef3-4fe2-9c89-cd92f6054c31",
   "metadata": {},
   "outputs": [
    {
     "data": {
      "text/plain": [
       "Rectangle(4.0, 7.0)"
      ]
     },
     "execution_count": 73,
     "metadata": {},
     "output_type": "execute_result"
    }
   ],
   "source": [
    "rectangle1 = Rectangle(4,7)"
   ]
  },
  {
   "cell_type": "code",
   "execution_count": 75,
   "id": "0d78fd8e-f0ba-4b71-8e52-8fa295b1e363",
   "metadata": {},
   "outputs": [
    {
     "data": {
      "text/plain": [
       "7.0"
      ]
     },
     "execution_count": 75,
     "metadata": {},
     "output_type": "execute_result"
    }
   ],
   "source": [
    "rectangle1.length"
   ]
  },
  {
   "cell_type": "code",
   "execution_count": 76,
   "id": "a2f486e5-2014-4959-8bf1-e5fd39b2b54d",
   "metadata": {},
   "outputs": [
    {
     "data": {
      "text/plain": [
       "4.0"
      ]
     },
     "execution_count": 76,
     "metadata": {},
     "output_type": "execute_result"
    }
   ],
   "source": [
    "rectangle1.width"
   ]
  },
  {
   "cell_type": "code",
   "execution_count": 77,
   "id": "0962a087-36cf-4bc3-b727-7c3ae3104f01",
   "metadata": {},
   "outputs": [
    {
     "ename": "LoadError",
     "evalue": "MethodError: no method matching Rectangle(::Int64)\n\n\u001b[0mClosest candidates are:\n\u001b[0m  Rectangle(::Any, \u001b[91m::Any\u001b[39m)\n\u001b[0m\u001b[90m   @\u001b[39m \u001b[36mMain\u001b[39m \u001b[90m\u001b[4mIn[71]:2\u001b[24m\u001b[39m\n\u001b[0m  Rectangle(\u001b[91m::Float64\u001b[39m, \u001b[91m::Float64\u001b[39m)\n\u001b[0m\u001b[90m   @\u001b[39m \u001b[36mMain\u001b[39m \u001b[90m\u001b[4mIn[71]:2\u001b[24m\u001b[39m\n",
     "output_type": "error",
     "traceback": [
      "MethodError: no method matching Rectangle(::Int64)\n\n\u001b[0mClosest candidates are:\n\u001b[0m  Rectangle(::Any, \u001b[91m::Any\u001b[39m)\n\u001b[0m\u001b[90m   @\u001b[39m \u001b[36mMain\u001b[39m \u001b[90m\u001b[4mIn[71]:2\u001b[24m\u001b[39m\n\u001b[0m  Rectangle(\u001b[91m::Float64\u001b[39m, \u001b[91m::Float64\u001b[39m)\n\u001b[0m\u001b[90m   @\u001b[39m \u001b[36mMain\u001b[39m \u001b[90m\u001b[4mIn[71]:2\u001b[24m\u001b[39m\n",
      "",
      "Stacktrace:",
      " [1] top-level scope",
      "   @ In[77]:1"
     ]
    }
   ],
   "source": [
    "# sing we need to pass 2 values it qon't work\n",
    "rectangle1 = Rectangle(4)"
   ]
  },
  {
   "cell_type": "code",
   "execution_count": 78,
   "id": "c2d5566a-7503-4c09-abbb-3ae59721e5f0",
   "metadata": {},
   "outputs": [],
   "source": [
    "# we can creaate mutable struct\n",
    "mutable struct NewRectangle\n",
    "    width::Float64\n",
    "    length::Float64\n",
    "end"
   ]
  },
  {
   "cell_type": "code",
   "execution_count": 79,
   "id": "8d2dda4b-cf50-4c16-bdf3-24c4c59967db",
   "metadata": {},
   "outputs": [
    {
     "data": {
      "text/plain": [
       "NewRectangle(4.2, 4.5)"
      ]
     },
     "execution_count": 79,
     "metadata": {},
     "output_type": "execute_result"
    }
   ],
   "source": [
    "rectangle2 = NewRectangle(4.2,4.5)"
   ]
  },
  {
   "cell_type": "code",
   "execution_count": 80,
   "id": "5bf8b2ef-7a8a-4ce9-a738-b54bcd82d2ea",
   "metadata": {},
   "outputs": [
    {
     "data": {
      "text/plain": [
       "4.2"
      ]
     },
     "execution_count": 80,
     "metadata": {},
     "output_type": "execute_result"
    }
   ],
   "source": [
    "rectangle2.width"
   ]
  },
  {
   "cell_type": "code",
   "execution_count": 82,
   "id": "b202be1d-8ac7-4864-84c4-b53fa7a8ec49",
   "metadata": {},
   "outputs": [
    {
     "data": {
      "text/plain": [
       "Any"
      ]
     },
     "execution_count": 82,
     "metadata": {},
     "output_type": "execute_result"
    }
   ],
   "source": [
    "supertype(Rectangle)"
   ]
  },
  {
   "cell_type": "code",
   "execution_count": 83,
   "id": "ab344577-5c71-4fe6-bea1-326b7f3bbee0",
   "metadata": {},
   "outputs": [],
   "source": [
    "# we can create Abstract\n",
    "abstract type Shape end"
   ]
  },
  {
   "cell_type": "code",
   "execution_count": 84,
   "id": "92673ec7-9b60-49f5-ab28-46fefaef3ef5",
   "metadata": {},
   "outputs": [],
   "source": [
    "mutable struct RectangleShape <: Shape\n",
    "    width::Float64\n",
    "    length::Float64\n",
    "end"
   ]
  },
  {
   "cell_type": "code",
   "execution_count": 85,
   "id": "eb61fa6b-ec5d-437f-b973-7cf6c1db4098",
   "metadata": {},
   "outputs": [],
   "source": [
    "mutable struct Square <: Shape\n",
    "    length::Float64\n",
    "end"
   ]
  },
  {
   "cell_type": "code",
   "execution_count": 93,
   "id": "5864bd6f-0fb5-4359-91bb-11980f4e436a",
   "metadata": {},
   "outputs": [],
   "source": [
    "mutable struct Circle <: Shape\n",
    "    radius::Float64\n",
    "end"
   ]
  },
  {
   "cell_type": "markdown",
   "id": "bf2b354c-364c-44b2-8297-30da7e9731d3",
   "metadata": {},
   "source": [
    "# Create custome datatypes"
   ]
  },
  {
   "cell_type": "code",
   "execution_count": 87,
   "id": "af4f6f91-5337-47fa-9ee1-cc215f61de8d",
   "metadata": {},
   "outputs": [
    {
     "data": {
      "text/plain": [
       "Union{AbstractString, Integer}"
      ]
     },
     "execution_count": 87,
     "metadata": {},
     "output_type": "execute_result"
    }
   ],
   "source": [
    "intstr = Union{Integer, AbstractString}"
   ]
  },
  {
   "cell_type": "code",
   "execution_count": 88,
   "id": "14febcb5-1597-4d5e-acb4-1d68ed45877b",
   "metadata": {},
   "outputs": [
    {
     "data": {
      "text/plain": [
       "123.0"
      ]
     },
     "execution_count": 88,
     "metadata": {},
     "output_type": "execute_result"
    }
   ],
   "source": [
    "x = 123; y = \"123\"; z = 123.0"
   ]
  },
  {
   "cell_type": "code",
   "execution_count": 90,
   "id": "3a9c8bde-dc46-41f4-9c9d-36df61a73176",
   "metadata": {},
   "outputs": [
    {
     "data": {
      "text/plain": [
       "123"
      ]
     },
     "execution_count": 90,
     "metadata": {},
     "output_type": "execute_result"
    }
   ],
   "source": [
    "x::intstr"
   ]
  },
  {
   "cell_type": "code",
   "execution_count": 91,
   "id": "4a0f471a-1d02-430d-9e31-a512b40b0240",
   "metadata": {},
   "outputs": [
    {
     "data": {
      "text/plain": [
       "\"123\""
      ]
     },
     "execution_count": 91,
     "metadata": {},
     "output_type": "execute_result"
    }
   ],
   "source": [
    "y::intstr"
   ]
  },
  {
   "cell_type": "code",
   "execution_count": 92,
   "id": "b54c31a4-bfdb-4039-a0ca-5b7ee5235f6b",
   "metadata": {},
   "outputs": [
    {
     "ename": "LoadError",
     "evalue": "TypeError: in typeassert, expected Union{AbstractString, Integer}, got a value of type Float64",
     "output_type": "error",
     "traceback": [
      "TypeError: in typeassert, expected Union{AbstractString, Integer}, got a value of type Float64",
      "",
      "Stacktrace:",
      " [1] top-level scope",
      "   @ In[92]:1"
     ]
    }
   ],
   "source": [
    "# this will not work because intstr only accept integer and string\n",
    "z::intstr"
   ]
  },
  {
   "cell_type": "markdown",
   "id": "f07e78d3-b6e9-4f5b-b561-14dc6b4db2af",
   "metadata": {},
   "source": [
    "# Parametric Types"
   ]
  },
  {
   "cell_type": "code",
   "execution_count": 95,
   "id": "913c6dae-18df-4b83-8e60-348137e5201e",
   "metadata": {},
   "outputs": [],
   "source": [
    "struct Rectangle\n",
    "    width::Float64\n",
    "    length::Float64\n",
    "end"
   ]
  },
  {
   "cell_type": "code",
   "execution_count": 96,
   "id": "78b57d8f-200f-4008-a215-7bb829beac2c",
   "metadata": {},
   "outputs": [],
   "source": [
    "struct ParRectangle{T}\n",
    "    width::T\n",
    "    length::T\n",
    "end"
   ]
  },
  {
   "cell_type": "code",
   "execution_count": 97,
   "id": "c016c202-00ba-4ced-a4f8-00d64850441d",
   "metadata": {},
   "outputs": [
    {
     "data": {
      "text/plain": [
       "ParRectangle{Int64}(3, 8)"
      ]
     },
     "execution_count": 97,
     "metadata": {},
     "output_type": "execute_result"
    }
   ],
   "source": [
    "r1 = ParRectangle(3,8)"
   ]
  },
  {
   "cell_type": "code",
   "execution_count": 98,
   "id": "a36468d8-10e7-4b0c-aa15-7362f2c6b256",
   "metadata": {},
   "outputs": [
    {
     "data": {
      "text/plain": [
       "ParRectangle{Float64}(3.2, 8.1)"
      ]
     },
     "execution_count": 98,
     "metadata": {},
     "output_type": "execute_result"
    }
   ],
   "source": [
    "r2 = ParRectangle(3.2,8.1)"
   ]
  },
  {
   "cell_type": "code",
   "execution_count": 100,
   "id": "17e85a79-5fcb-4c61-a4dd-50100bc3de86",
   "metadata": {},
   "outputs": [
    {
     "data": {
      "text/plain": [
       "ParRectangle{Char}('3', '8')"
      ]
     },
     "execution_count": 100,
     "metadata": {},
     "output_type": "execute_result"
    }
   ],
   "source": [
    "r3 = ParRectangle('3','8')"
   ]
  },
  {
   "cell_type": "code",
   "execution_count": 104,
   "id": "2f11a48d-2321-4f43-86b2-b98da310582e",
   "metadata": {},
   "outputs": [
    {
     "ename": "LoadError",
     "evalue": "MethodError: no method matching ParRectangle(::Char, ::Int64)\n\n\u001b[0mClosest candidates are:\n\u001b[0m  ParRectangle(::T, \u001b[91m::T\u001b[39m) where T\n\u001b[0m\u001b[90m   @\u001b[39m \u001b[36mMain\u001b[39m \u001b[90m\u001b[4mIn[96]:2\u001b[24m\u001b[39m\n",
     "output_type": "error",
     "traceback": [
      "MethodError: no method matching ParRectangle(::Char, ::Int64)\n\n\u001b[0mClosest candidates are:\n\u001b[0m  ParRectangle(::T, \u001b[91m::T\u001b[39m) where T\n\u001b[0m\u001b[90m   @\u001b[39m \u001b[36mMain\u001b[39m \u001b[90m\u001b[4mIn[96]:2\u001b[24m\u001b[39m\n",
      "",
      "Stacktrace:",
      " [1] top-level scope",
      "   @ In[104]:2"
     ]
    }
   ],
   "source": [
    "# You cannot have 2 different types in single struct\n",
    "r3 = ParRectangle('3',8)"
   ]
  },
  {
   "cell_type": "code",
   "execution_count": 101,
   "id": "6fee03d3-5b5a-4fd7-9f4b-f74636231f86",
   "metadata": {},
   "outputs": [
    {
     "data": {
      "text/plain": [
       "ParRectangle{Int64}"
      ]
     },
     "execution_count": 101,
     "metadata": {},
     "output_type": "execute_result"
    }
   ],
   "source": [
    "typeof(r1)"
   ]
  },
  {
   "cell_type": "code",
   "execution_count": 102,
   "id": "9ec727a2-b3c0-47d6-9ffa-e5a3120fa96b",
   "metadata": {},
   "outputs": [
    {
     "data": {
      "text/plain": [
       "ParRectangle{Float64}"
      ]
     },
     "execution_count": 102,
     "metadata": {},
     "output_type": "execute_result"
    }
   ],
   "source": [
    "typeof(r2)"
   ]
  },
  {
   "cell_type": "code",
   "execution_count": 103,
   "id": "b3667438-07a3-4a30-8a51-77c24ba075aa",
   "metadata": {},
   "outputs": [
    {
     "data": {
      "text/plain": [
       "ParRectangle{Char}"
      ]
     },
     "execution_count": 103,
     "metadata": {},
     "output_type": "execute_result"
    }
   ],
   "source": [
    "typeof(r3)"
   ]
  },
  {
   "cell_type": "code",
   "execution_count": 105,
   "id": "230c2597-25ac-41fc-a15c-ad2b68997a5a",
   "metadata": {},
   "outputs": [],
   "source": [
    "# Below will only accept real numbers\n",
    "struct NumRectangle{T <: Real}\n",
    "    width::T\n",
    "    length::T\n",
    "end"
   ]
  },
  {
   "cell_type": "code",
   "execution_count": 106,
   "id": "b419b84d-598e-4a6d-9dd2-c68df071318f",
   "metadata": {},
   "outputs": [
    {
     "data": {
      "text/plain": [
       "NumRectangle{Int64}(2, 3)"
      ]
     },
     "execution_count": 106,
     "metadata": {},
     "output_type": "execute_result"
    }
   ],
   "source": [
    "r1 = NumRectangle(2,3)"
   ]
  },
  {
   "cell_type": "code",
   "execution_count": 107,
   "id": "1276723e-71fa-4bdb-b75f-fec31a3a1f4d",
   "metadata": {},
   "outputs": [
    {
     "ename": "LoadError",
     "evalue": "MethodError: no method matching NumRectangle(::Char, ::Char)",
     "output_type": "error",
     "traceback": [
      "MethodError: no method matching NumRectangle(::Char, ::Char)",
      "",
      "Stacktrace:",
      " [1] top-level scope",
      "   @ In[107]:1"
     ]
    }
   ],
   "source": [
    "# below won't work becuase character is not real number\n",
    "r1 = NumRectangle('2','3')"
   ]
  },
  {
   "cell_type": "code",
   "execution_count": 108,
   "id": "0afd4f60-f643-44b0-aa96-f7958b324db1",
   "metadata": {},
   "outputs": [],
   "source": [
    "abstract type NewColor{T<:Real} end"
   ]
  },
  {
   "cell_type": "code",
   "execution_count": 111,
   "id": "ba4bda05-cf88-4223-ac47-e76559dd27a4",
   "metadata": {},
   "outputs": [],
   "source": [
    "struct NewShape{T<:Number, S<:AbstractString}\n",
    "    number::T\n",
    "    name::S\n",
    "end"
   ]
  },
  {
   "cell_type": "code",
   "execution_count": 112,
   "id": "ca49838c-65eb-4d78-b20f-59854cb2a444",
   "metadata": {},
   "outputs": [
    {
     "data": {
      "text/plain": [
       "NewShape{Int64, String}(2, \"Hemanth\")"
      ]
     },
     "execution_count": 112,
     "metadata": {},
     "output_type": "execute_result"
    }
   ],
   "source": [
    "ns = NewShape(2,\"Hemanth\")"
   ]
  },
  {
   "cell_type": "code",
   "execution_count": 113,
   "id": "fa240fbf-3aec-4754-b3b1-e627b0af682c",
   "metadata": {},
   "outputs": [
    {
     "ename": "LoadError",
     "evalue": "MethodError: no method matching NewShape(::Int64, ::Int64)\n\n\u001b[0mClosest candidates are:\n\u001b[0m  NewShape(::T, \u001b[91m::S\u001b[39m) where {T<:Number, S<:AbstractString}\n\u001b[0m\u001b[90m   @\u001b[39m \u001b[36mMain\u001b[39m \u001b[90m\u001b[4mIn[111]:2\u001b[24m\u001b[39m\n",
     "output_type": "error",
     "traceback": [
      "MethodError: no method matching NewShape(::Int64, ::Int64)\n\n\u001b[0mClosest candidates are:\n\u001b[0m  NewShape(::T, \u001b[91m::S\u001b[39m) where {T<:Number, S<:AbstractString}\n\u001b[0m\u001b[90m   @\u001b[39m \u001b[36mMain\u001b[39m \u001b[90m\u001b[4mIn[111]:2\u001b[24m\u001b[39m\n",
      "",
      "Stacktrace:",
      " [1] top-level scope",
      "   @ In[113]:1"
     ]
    }
   ],
   "source": [
    "# This won;t work becuase first should be integer and other string\n",
    "ns = NewShape(3,4)"
   ]
  },
  {
   "cell_type": "markdown",
   "id": "9ca708bf-7a14-4dc8-8459-d136077c94d5",
   "metadata": {},
   "source": [
    "# Basic operations"
   ]
  },
  {
   "cell_type": "code",
   "execution_count": 1,
   "id": "53d8d4d5-1478-4e47-8997-aa59230e6ac4",
   "metadata": {},
   "outputs": [
    {
     "data": {
      "text/plain": [
       "12"
      ]
     },
     "execution_count": 1,
     "metadata": {},
     "output_type": "execute_result"
    }
   ],
   "source": [
    "5+7"
   ]
  },
  {
   "cell_type": "code",
   "execution_count": 2,
   "id": "ae824485-2a19-4569-9dc4-744c61330e24",
   "metadata": {},
   "outputs": [
    {
     "data": {
      "text/plain": [
       "8"
      ]
     },
     "execution_count": 2,
     "metadata": {},
     "output_type": "execute_result"
    }
   ],
   "source": [
    "14-6"
   ]
  },
  {
   "cell_type": "code",
   "execution_count": 3,
   "id": "6b0736c2-ede6-4f4e-9f05-6794dc57c1e1",
   "metadata": {},
   "outputs": [
    {
     "data": {
      "text/plain": [
       "8.7292"
      ]
     },
     "execution_count": 3,
     "metadata": {},
     "output_type": "execute_result"
    }
   ],
   "source": [
    "3.14 * 2.78"
   ]
  },
  {
   "cell_type": "code",
   "execution_count": 4,
   "id": "335d5083-691f-48c6-bdb2-e1048b19dd5a",
   "metadata": {},
   "outputs": [
    {
     "data": {
      "text/plain": [
       "5.153846153846154"
      ]
     },
     "execution_count": 4,
     "metadata": {},
     "output_type": "execute_result"
    }
   ],
   "source": [
    "67/13"
   ]
  },
  {
   "cell_type": "code",
   "execution_count": 6,
   "id": "954e5efb-533b-4ad7-8a74-92618139464f",
   "metadata": {},
   "outputs": [
    {
     "data": {
      "text/plain": [
       "5.153846153846154"
      ]
     },
     "execution_count": 6,
     "metadata": {},
     "output_type": "execute_result"
    }
   ],
   "source": [
    "ans"
   ]
  },
  {
   "cell_type": "code",
   "execution_count": 7,
   "id": "d4f65584-2d57-4c89-9018-6ef5363e6774",
   "metadata": {},
   "outputs": [
    {
     "data": {
      "text/plain": [
       "26.562130177514796"
      ]
     },
     "execution_count": 7,
     "metadata": {},
     "output_type": "execute_result"
    }
   ],
   "source": [
    "ans^2"
   ]
  },
  {
   "cell_type": "code",
   "execution_count": 8,
   "id": "1541b596-7f27-4b02-83d1-f3bb2c2eb415",
   "metadata": {},
   "outputs": [],
   "source": [
    "x = 12; y = 23; "
   ]
  },
  {
   "cell_type": "markdown",
   "id": "1bee90d9-0521-4e48-9089-7a07671776c3",
   "metadata": {},
   "source": [
    "#### We no need to use * symbol in Julia"
   ]
  },
  {
   "cell_type": "code",
   "execution_count": 9,
   "id": "be0e1ee5-0554-4158-b728-18b0e71928f6",
   "metadata": {},
   "outputs": [
    {
     "data": {
      "text/plain": [
       "151"
      ]
     },
     "execution_count": 9,
     "metadata": {},
     "output_type": "execute_result"
    }
   ],
   "source": [
    "3x + 5y"
   ]
  },
  {
   "cell_type": "code",
   "execution_count": 10,
   "id": "b5d5e36d-a0bb-431c-9d8f-a6350448bbeb",
   "metadata": {},
   "outputs": [
    {
     "data": {
      "text/plain": [
       "48"
      ]
     },
     "execution_count": 10,
     "metadata": {},
     "output_type": "execute_result"
    }
   ],
   "source": [
    "4(x)"
   ]
  },
  {
   "cell_type": "code",
   "execution_count": 11,
   "id": "fc547349-41b0-48f7-a643-3bb67f3d555c",
   "metadata": {},
   "outputs": [
    {
     "data": {
      "text/plain": [
       "884"
      ]
     },
     "execution_count": 11,
     "metadata": {},
     "output_type": "execute_result"
    }
   ],
   "source": [
    "4(5x+7y)"
   ]
  },
  {
   "cell_type": "code",
   "execution_count": 12,
   "id": "d342b74b-6482-4437-92cb-91831636c2da",
   "metadata": {},
   "outputs": [
    {
     "data": {
      "text/plain": [
       "-12"
      ]
     },
     "execution_count": 12,
     "metadata": {},
     "output_type": "execute_result"
    }
   ],
   "source": [
    "-x"
   ]
  },
  {
   "cell_type": "code",
   "execution_count": 13,
   "id": "116f8d6b-605f-43af-ba1a-499d5f5b2a7a",
   "metadata": {},
   "outputs": [
    {
     "data": {
      "text/plain": [
       "-3.5"
      ]
     },
     "execution_count": 13,
     "metadata": {},
     "output_type": "execute_result"
    }
   ],
   "source": [
    "-3.5"
   ]
  },
  {
   "cell_type": "markdown",
   "id": "ae571ef2-b360-4a84-b90c-7a70a43ecdec",
   "metadata": {},
   "source": [
    "##### Unlike in python numbers can start with zero"
   ]
  },
  {
   "cell_type": "code",
   "execution_count": 14,
   "id": "bfde3d9a-b3bf-4644-849c-fea64af1ff01",
   "metadata": {},
   "outputs": [
    {
     "data": {
      "text/plain": [
       "2"
      ]
     },
     "execution_count": 14,
     "metadata": {},
     "output_type": "execute_result"
    }
   ],
   "source": [
    "02"
   ]
  },
  {
   "cell_type": "code",
   "execution_count": 17,
   "id": "c267ff72-45fc-4010-9316-cbdb26fad843",
   "metadata": {},
   "outputs": [
    {
     "data": {
      "text/plain": [
       "2"
      ]
     },
     "execution_count": 17,
     "metadata": {},
     "output_type": "execute_result"
    }
   ],
   "source": [
    "15 ÷ 6 # \\div TAB which is equal to 15//6 in python"
   ]
  },
  {
   "cell_type": "code",
   "execution_count": 20,
   "id": "01a1750d-59e1-4dcd-bed6-eff5123b5fc9",
   "metadata": {},
   "outputs": [
    {
     "data": {
      "text/plain": [
       "2"
      ]
     },
     "execution_count": 20,
     "metadata": {},
     "output_type": "execute_result"
    }
   ],
   "source": [
    "div(15,6) # same as above"
   ]
  },
  {
   "cell_type": "code",
   "execution_count": 18,
   "id": "6cdf51e2-6ca8-4205-af64-784e6f666bd2",
   "metadata": {},
   "outputs": [
    {
     "data": {
      "text/plain": [
       "2.5"
      ]
     },
     "execution_count": 18,
     "metadata": {},
     "output_type": "execute_result"
    }
   ],
   "source": [
    "# divison\n",
    "15/6"
   ]
  },
  {
   "cell_type": "code",
   "execution_count": null,
   "id": "ae3e862a-ea21-46cc-b48d-4a403c733c76",
   "metadata": {},
   "outputs": [],
   "source": [
    "# inverse divison\n",
    "15 \\ 5"
   ]
  },
  {
   "cell_type": "code",
   "execution_count": 21,
   "id": "eed98a7f-1ad0-4674-92e0-437045a6f35f",
   "metadata": {},
   "outputs": [
    {
     "data": {
      "text/plain": [
       "64"
      ]
     },
     "execution_count": 21,
     "metadata": {},
     "output_type": "execute_result"
    }
   ],
   "source": [
    "4^3 # same as ** in python"
   ]
  },
  {
   "cell_type": "code",
   "execution_count": 22,
   "id": "2b59de06-189b-455c-947a-1fc1d38d9a38",
   "metadata": {},
   "outputs": [],
   "source": [
    "# operation are actually functions in Julia"
   ]
  },
  {
   "cell_type": "code",
   "execution_count": 23,
   "id": "26e1cbe5-b909-4ca3-bee7-79f3632c34bd",
   "metadata": {},
   "outputs": [
    {
     "data": {
      "text/plain": [
       "9"
      ]
     },
     "execution_count": 23,
     "metadata": {},
     "output_type": "execute_result"
    }
   ],
   "source": [
    "+(4,5)"
   ]
  },
  {
   "cell_type": "code",
   "execution_count": 24,
   "id": "0cfe1e81-cc6d-437a-b534-7a7482f1bd7d",
   "metadata": {},
   "outputs": [
    {
     "data": {
      "text/plain": [
       "64"
      ]
     },
     "execution_count": 24,
     "metadata": {},
     "output_type": "execute_result"
    }
   ],
   "source": [
    "^(4,3)"
   ]
  },
  {
   "cell_type": "code",
   "execution_count": 26,
   "id": "82c26143-bea8-4642-8664-a5015914d5c7",
   "metadata": {},
   "outputs": [
    {
     "data": {
      "text/plain": [
       "2.0"
      ]
     },
     "execution_count": 26,
     "metadata": {},
     "output_type": "execute_result"
    }
   ],
   "source": [
    "sqrt(4) # same as python"
   ]
  },
  {
   "cell_type": "code",
   "execution_count": 27,
   "id": "d41ad860-3db6-4001-83a8-1e74a66057fb",
   "metadata": {},
   "outputs": [
    {
     "data": {
      "text/plain": [
       "2.0"
      ]
     },
     "execution_count": 27,
     "metadata": {},
     "output_type": "execute_result"
    }
   ],
   "source": [
    "√4 # \\sqrt TAB "
   ]
  },
  {
   "cell_type": "code",
   "execution_count": 28,
   "id": "534186f9-11ca-4cf3-92d5-e203364b6707",
   "metadata": {},
   "outputs": [
    {
     "data": {
      "text/plain": [
       "4.0"
      ]
     },
     "execution_count": 28,
     "metadata": {},
     "output_type": "execute_result"
    }
   ],
   "source": [
    "cbrt(64) # cube root"
   ]
  },
  {
   "cell_type": "code",
   "execution_count": 30,
   "id": "cbf99884-1b7a-497b-975c-f1eedebfd0de",
   "metadata": {},
   "outputs": [
    {
     "data": {
      "text/plain": [
       "4.0"
      ]
     },
     "execution_count": 30,
     "metadata": {},
     "output_type": "execute_result"
    }
   ],
   "source": [
    "∛64 # \\cbrt TAB"
   ]
  },
  {
   "cell_type": "code",
   "execution_count": 31,
   "id": "b3149d51-249a-4150-891b-7e7380b89627",
   "metadata": {},
   "outputs": [
    {
     "data": {
      "text/plain": [
       "3"
      ]
     },
     "execution_count": 31,
     "metadata": {},
     "output_type": "execute_result"
    }
   ],
   "source": [
    "rem(28,5) # remainder"
   ]
  },
  {
   "cell_type": "markdown",
   "id": "b35b3d83-45c4-426e-99c0-1ba3e9b3a60f",
   "metadata": {},
   "source": [
    "### comparisons"
   ]
  },
  {
   "cell_type": "code",
   "execution_count": 32,
   "id": "2917de43-5656-407f-b2f5-ef9deee20868",
   "metadata": {},
   "outputs": [
    {
     "data": {
      "text/plain": [
       "3.6"
      ]
     },
     "execution_count": 32,
     "metadata": {},
     "output_type": "execute_result"
    }
   ],
   "source": [
    "a = 7.8; b = 3.6"
   ]
  },
  {
   "cell_type": "code",
   "execution_count": 33,
   "id": "add212d8-9360-487f-8a7a-e3596ae421d7",
   "metadata": {},
   "outputs": [
    {
     "data": {
      "text/plain": [
       "false"
      ]
     },
     "execution_count": 33,
     "metadata": {},
     "output_type": "execute_result"
    }
   ],
   "source": [
    "a == b"
   ]
  },
  {
   "cell_type": "code",
   "execution_count": 34,
   "id": "514e6d29-271c-4cda-ac3d-6a8c9abe5046",
   "metadata": {},
   "outputs": [
    {
     "data": {
      "text/plain": [
       "true"
      ]
     },
     "execution_count": 34,
     "metadata": {},
     "output_type": "execute_result"
    }
   ],
   "source": [
    "a != b"
   ]
  },
  {
   "cell_type": "code",
   "execution_count": 35,
   "id": "2a2b04ad-39a0-44c9-84c5-716f8cb14bf2",
   "metadata": {},
   "outputs": [
    {
     "data": {
      "text/plain": [
       "true"
      ]
     },
     "execution_count": 35,
     "metadata": {},
     "output_type": "execute_result"
    }
   ],
   "source": [
    "a ≠ b # \\ne TAB"
   ]
  },
  {
   "cell_type": "code",
   "execution_count": 36,
   "id": "26887d4d-2d2e-4ef2-a0d5-13f9a73ad65c",
   "metadata": {},
   "outputs": [
    {
     "data": {
      "text/plain": [
       "3-element Vector{Int64}:\n",
       " 1\n",
       " 2\n",
       " 3"
      ]
     },
     "execution_count": 36,
     "metadata": {},
     "output_type": "execute_result"
    }
   ],
   "source": [
    "c = [1,2,3]"
   ]
  },
  {
   "cell_type": "code",
   "execution_count": 37,
   "id": "8a5b7f77-8ac5-45fc-9804-3b771eaa1d7c",
   "metadata": {},
   "outputs": [
    {
     "data": {
      "text/plain": [
       "3-element Vector{Int64}:\n",
       " 1\n",
       " 2\n",
       " 3"
      ]
     },
     "execution_count": 37,
     "metadata": {},
     "output_type": "execute_result"
    }
   ],
   "source": [
    "d = c"
   ]
  },
  {
   "cell_type": "code",
   "execution_count": 38,
   "id": "52d95e60-fad5-4a46-ac35-6fa7dd452fe4",
   "metadata": {},
   "outputs": [
    {
     "data": {
      "text/plain": [
       "true"
      ]
     },
     "execution_count": 38,
     "metadata": {},
     "output_type": "execute_result"
    }
   ],
   "source": [
    "c === d # pointing to same address, same as python"
   ]
  },
  {
   "cell_type": "code",
   "execution_count": 39,
   "id": "9f844e9a-38e1-4d60-81b1-d75f1e254aa5",
   "metadata": {},
   "outputs": [
    {
     "data": {
      "text/plain": [
       "3-element Vector{Int64}:\n",
       " 1\n",
       " 2\n",
       " 3"
      ]
     },
     "execution_count": 39,
     "metadata": {},
     "output_type": "execute_result"
    }
   ],
   "source": [
    "e = deepcopy(c) # equal to c.copy() in python"
   ]
  },
  {
   "cell_type": "code",
   "execution_count": 40,
   "id": "ed0ed8dc-6f33-4cfc-b48a-abe9e398eae8",
   "metadata": {},
   "outputs": [
    {
     "data": {
      "text/plain": [
       "false"
      ]
     },
     "execution_count": 40,
     "metadata": {},
     "output_type": "execute_result"
    }
   ],
   "source": [
    "c === e"
   ]
  },
  {
   "cell_type": "code",
   "execution_count": 42,
   "id": "fb1b3ad9-3144-4a52-853a-f641d1627ddc",
   "metadata": {},
   "outputs": [
    {
     "data": {
      "text/plain": [
       "false"
      ]
     },
     "execution_count": 42,
     "metadata": {},
     "output_type": "execute_result"
    }
   ],
   "source": [
    "c ≡ e # \\equiv TAB same as above"
   ]
  },
  {
   "cell_type": "code",
   "execution_count": 41,
   "id": "0b6c5fc7-017e-4100-8561-01953c0bd1ab",
   "metadata": {},
   "outputs": [
    {
     "data": {
      "text/plain": [
       "true"
      ]
     },
     "execution_count": 41,
     "metadata": {},
     "output_type": "execute_result"
    }
   ],
   "source": [
    "c == e # in Julia you can compare list/collections"
   ]
  },
  {
   "cell_type": "code",
   "execution_count": 43,
   "id": "c244c42b-ff7d-4a31-bb58-04f90088fe3e",
   "metadata": {},
   "outputs": [
    {
     "data": {
      "text/plain": [
       "false"
      ]
     },
     "execution_count": 43,
     "metadata": {},
     "output_type": "execute_result"
    }
   ],
   "source": [
    "a <= b"
   ]
  },
  {
   "cell_type": "code",
   "execution_count": 44,
   "id": "022bd532-c42f-4471-8480-f55bb2b68104",
   "metadata": {},
   "outputs": [
    {
     "data": {
      "text/plain": [
       "false"
      ]
     },
     "execution_count": 44,
     "metadata": {},
     "output_type": "execute_result"
    }
   ],
   "source": [
    "a ≤ b # \\leq TAB"
   ]
  },
  {
   "cell_type": "code",
   "execution_count": 45,
   "id": "02973580-bee0-497c-84bf-7955fe124520",
   "metadata": {},
   "outputs": [
    {
     "data": {
      "text/plain": [
       "true"
      ]
     },
     "execution_count": 45,
     "metadata": {},
     "output_type": "execute_result"
    }
   ],
   "source": [
    "a ≥ b # \\geq TAB"
   ]
  },
  {
   "cell_type": "code",
   "execution_count": 47,
   "id": "d14f7fd0-4857-4836-b35c-44820e0ae19b",
   "metadata": {},
   "outputs": [
    {
     "data": {
      "text/plain": [
       "false"
      ]
     },
     "execution_count": 47,
     "metadata": {},
     "output_type": "execute_result"
    }
   ],
   "source": [
    "# multiple comparisons\n",
    "a = 1.2; b=2.3; c=4.5\n",
    "a ≥ b ≥ c"
   ]
  },
  {
   "cell_type": "code",
   "execution_count": 48,
   "id": "e54c0a92-0f3e-4e47-8127-fef2665b1071",
   "metadata": {},
   "outputs": [
    {
     "data": {
      "text/plain": [
       "false"
      ]
     },
     "execution_count": 48,
     "metadata": {},
     "output_type": "execute_result"
    }
   ],
   "source": [
    "(a >= b) && (b >= c) # same as above"
   ]
  },
  {
   "cell_type": "code",
   "execution_count": 49,
   "id": "6f932b48-20b7-4aff-b153-784b6098bed1",
   "metadata": {},
   "outputs": [
    {
     "data": {
      "text/plain": [
       "false"
      ]
     },
     "execution_count": 49,
     "metadata": {},
     "output_type": "execute_result"
    }
   ],
   "source": [
    "x ≤ 3 ≤ 9 ≠ 17 ≥ 14"
   ]
  },
  {
   "cell_type": "code",
   "execution_count": 50,
   "id": "795d36dd-6e2c-4036-928f-21f98b56d067",
   "metadata": {},
   "outputs": [
    {
     "data": {
      "text/plain": [
       "0.6000000000000001"
      ]
     },
     "execution_count": 50,
     "metadata": {},
     "output_type": "execute_result"
    }
   ],
   "source": [
    "0.4 + 0.2"
   ]
  },
  {
   "cell_type": "code",
   "execution_count": 51,
   "id": "202efeeb-ae53-4e2b-bf70-9e08a3b08236",
   "metadata": {},
   "outputs": [
    {
     "data": {
      "text/plain": [
       "false"
      ]
     },
     "execution_count": 51,
     "metadata": {},
     "output_type": "execute_result"
    }
   ],
   "source": [
    "0.6 == 0.4+0.2 # this is wierd"
   ]
  },
  {
   "cell_type": "code",
   "execution_count": 53,
   "id": "bc12e110-dba7-48eb-8ca3-dff88cda8243",
   "metadata": {},
   "outputs": [
    {
     "data": {
      "text/plain": [
       "false"
      ]
     },
     "execution_count": 53,
     "metadata": {},
     "output_type": "execute_result"
    }
   ],
   "source": [
    "0.6 == (0.4+0.2)"
   ]
  },
  {
   "cell_type": "code",
   "execution_count": 52,
   "id": "dbe44031-8883-4f1e-b617-072a9e6463c9",
   "metadata": {},
   "outputs": [
    {
     "data": {
      "text/plain": [
       "false"
      ]
     },
     "execution_count": 52,
     "metadata": {},
     "output_type": "execute_result"
    }
   ],
   "source": [
    "isequal(0.6, 0.4+0.2) # same as above"
   ]
  },
  {
   "cell_type": "code",
   "execution_count": 54,
   "id": "8b21ff5c-740e-4777-84fe-cee075027d25",
   "metadata": {},
   "outputs": [
    {
     "data": {
      "text/plain": [
       "true"
      ]
     },
     "execution_count": 54,
     "metadata": {},
     "output_type": "execute_result"
    }
   ],
   "source": [
    "isapprox(0.6, 0.4+0.2) # we need to use approx"
   ]
  },
  {
   "cell_type": "code",
   "execution_count": 56,
   "id": "46ee1630-1a96-4a53-b7a4-02ab24489185",
   "metadata": {},
   "outputs": [
    {
     "data": {
      "text/plain": [
       "true"
      ]
     },
     "execution_count": 56,
     "metadata": {},
     "output_type": "execute_result"
    }
   ],
   "source": [
    "0.6 ≈ 0.4+0.2 # \\approx TAB"
   ]
  },
  {
   "cell_type": "code",
   "execution_count": 57,
   "id": "29549f64-5cbf-4398-a580-9a68d3f7bb94",
   "metadata": {},
   "outputs": [],
   "source": [
    "# Boolean operations"
   ]
  },
  {
   "cell_type": "code",
   "execution_count": 58,
   "id": "db9c35fb-727e-459d-b598-d8ad69de827b",
   "metadata": {},
   "outputs": [
    {
     "data": {
      "text/plain": [
       "true"
      ]
     },
     "execution_count": 58,
     "metadata": {},
     "output_type": "execute_result"
    }
   ],
   "source": [
    "a = true"
   ]
  },
  {
   "cell_type": "code",
   "execution_count": 59,
   "id": "3b1323ed-2c3d-4afc-b805-dabd8daa7189",
   "metadata": {},
   "outputs": [
    {
     "data": {
      "text/plain": [
       "false"
      ]
     },
     "execution_count": 59,
     "metadata": {},
     "output_type": "execute_result"
    }
   ],
   "source": [
    "b = false"
   ]
  },
  {
   "cell_type": "code",
   "execution_count": 60,
   "id": "27ce4244-bd66-49f3-a2d6-24b8a9a4af1f",
   "metadata": {},
   "outputs": [
    {
     "data": {
      "text/plain": [
       "false"
      ]
     },
     "execution_count": 60,
     "metadata": {},
     "output_type": "execute_result"
    }
   ],
   "source": [
    "!a # negation operator"
   ]
  },
  {
   "cell_type": "code",
   "execution_count": 61,
   "id": "736f051f-fc0e-49ac-9920-d9b6c94dd35d",
   "metadata": {},
   "outputs": [
    {
     "data": {
      "text/plain": [
       "true"
      ]
     },
     "execution_count": 61,
     "metadata": {},
     "output_type": "execute_result"
    }
   ],
   "source": [
    "!b"
   ]
  },
  {
   "cell_type": "code",
   "execution_count": 62,
   "id": "94045993-a240-48c3-9263-88e83fc5d053",
   "metadata": {},
   "outputs": [
    {
     "data": {
      "text/plain": [
       "false"
      ]
     },
     "execution_count": 62,
     "metadata": {},
     "output_type": "execute_result"
    }
   ],
   "source": [
    "a&&b # and"
   ]
  },
  {
   "cell_type": "code",
   "execution_count": 63,
   "id": "344f3e08-5b8e-4b3f-b2b4-53ca4312d5e1",
   "metadata": {},
   "outputs": [
    {
     "data": {
      "text/plain": [
       "true"
      ]
     },
     "execution_count": 63,
     "metadata": {},
     "output_type": "execute_result"
    }
   ],
   "source": [
    "a||b # or"
   ]
  },
  {
   "cell_type": "markdown",
   "id": "9ceb0c9f-7d9a-4a42-af5a-cbaeebe49ef0",
   "metadata": {},
   "source": [
    "# Bitwise operators"
   ]
  },
  {
   "cell_type": "code",
   "execution_count": 65,
   "id": "988e124c-8e2c-4bdf-90dd-9c8e806bda17",
   "metadata": {},
   "outputs": [],
   "source": [
    "# these operators are same as in python"
   ]
  },
  {
   "cell_type": "code",
   "execution_count": 66,
   "id": "3cd7b9b4-c0c5-46fb-b82a-aedbd9e92561",
   "metadata": {},
   "outputs": [
    {
     "data": {
      "text/plain": [
       "109"
      ]
     },
     "execution_count": 66,
     "metadata": {},
     "output_type": "execute_result"
    }
   ],
   "source": [
    "x = 109"
   ]
  },
  {
   "cell_type": "code",
   "execution_count": 67,
   "id": "9a8685e8-ea1c-4cc6-8665-bb982c05617c",
   "metadata": {},
   "outputs": [
    {
     "data": {
      "text/plain": [
       "56"
      ]
     },
     "execution_count": 67,
     "metadata": {},
     "output_type": "execute_result"
    }
   ],
   "source": [
    "y = 56"
   ]
  },
  {
   "cell_type": "code",
   "execution_count": 68,
   "id": "0cba9d27-86c0-4f54-bf13-399db93dc296",
   "metadata": {},
   "outputs": [
    {
     "data": {
      "text/plain": [
       "40"
      ]
     },
     "execution_count": 68,
     "metadata": {},
     "output_type": "execute_result"
    }
   ],
   "source": [
    "x & y"
   ]
  },
  {
   "cell_type": "code",
   "execution_count": 69,
   "id": "d0064bce-f2b2-4a8b-89ee-369b3f0640aa",
   "metadata": {},
   "outputs": [
    {
     "data": {
      "text/plain": [
       "125"
      ]
     },
     "execution_count": 69,
     "metadata": {},
     "output_type": "execute_result"
    }
   ],
   "source": [
    "x | y"
   ]
  },
  {
   "cell_type": "code",
   "execution_count": 70,
   "id": "db27a9b1-9731-40e0-8ebe-b9106316dee4",
   "metadata": {},
   "outputs": [
    {
     "data": {
      "text/plain": [
       "85"
      ]
     },
     "execution_count": 70,
     "metadata": {},
     "output_type": "execute_result"
    }
   ],
   "source": [
    "x ⊻ y # \\xor TAB"
   ]
  },
  {
   "cell_type": "code",
   "execution_count": 71,
   "id": "f311fb52-7e7d-4f28-a16b-cd7f6f46e655",
   "metadata": {},
   "outputs": [
    {
     "data": {
      "text/plain": [
       "85"
      ]
     },
     "execution_count": 71,
     "metadata": {},
     "output_type": "execute_result"
    }
   ],
   "source": [
    "xor(x,y) # same as above"
   ]
  },
  {
   "cell_type": "code",
   "execution_count": 72,
   "id": "62e6fd95-b1d2-4a88-abf5-96183735bcb1",
   "metadata": {},
   "outputs": [],
   "source": [
    "# bitwise not"
   ]
  },
  {
   "cell_type": "code",
   "execution_count": 73,
   "id": "08f8a656-0d41-4b17-a84e-d944abb521f8",
   "metadata": {},
   "outputs": [
    {
     "data": {
      "text/plain": [
       "-110"
      ]
     },
     "execution_count": 73,
     "metadata": {},
     "output_type": "execute_result"
    }
   ],
   "source": [
    "~x"
   ]
  },
  {
   "cell_type": "code",
   "execution_count": 74,
   "id": "302bcd6c-7034-4617-b14f-f67a1b9c9fbd",
   "metadata": {},
   "outputs": [],
   "source": [
    "# other operations"
   ]
  },
  {
   "cell_type": "code",
   "execution_count": 75,
   "id": "147b8958-5c9b-4337-93d4-a07509290252",
   "metadata": {},
   "outputs": [
    {
     "data": {
      "text/plain": [
       "7"
      ]
     },
     "execution_count": 75,
     "metadata": {},
     "output_type": "execute_result"
    }
   ],
   "source": [
    "x = 7"
   ]
  },
  {
   "cell_type": "code",
   "execution_count": 76,
   "id": "28ebe473-5c85-4e04-88e7-67ef792295f1",
   "metadata": {},
   "outputs": [
    {
     "data": {
      "text/plain": [
       "12"
      ]
     },
     "execution_count": 76,
     "metadata": {},
     "output_type": "execute_result"
    }
   ],
   "source": [
    "x = x+5"
   ]
  },
  {
   "cell_type": "code",
   "execution_count": 77,
   "id": "e57bf06f-7884-49d6-ba97-dff950681308",
   "metadata": {},
   "outputs": [
    {
     "data": {
      "text/plain": [
       "17"
      ]
     },
     "execution_count": 77,
     "metadata": {},
     "output_type": "execute_result"
    }
   ],
   "source": [
    "x += 5 # same as above (same in python)"
   ]
  },
  {
   "cell_type": "code",
   "execution_count": 78,
   "id": "267c31c7-57ae-4fd8-88e1-b5927e2f4864",
   "metadata": {},
   "outputs": [
    {
     "data": {
      "text/plain": [
       "68"
      ]
     },
     "execution_count": 78,
     "metadata": {},
     "output_type": "execute_result"
    }
   ],
   "source": [
    "x *= 4 # same as x = x*4"
   ]
  },
  {
   "cell_type": "code",
   "execution_count": 79,
   "id": "11cdf1a1-2b98-4d53-b1a3-d2bf559af4f0",
   "metadata": {},
   "outputs": [
    {
     "data": {
      "text/plain": [
       "0.25"
      ]
     },
     "execution_count": 79,
     "metadata": {},
     "output_type": "execute_result"
    }
   ],
   "source": [
    "x \\= 17 # same as x = x\\17"
   ]
  },
  {
   "cell_type": "code",
   "execution_count": 80,
   "id": "6beb0308-32eb-44f8-a89e-efc9441e7dec",
   "metadata": {},
   "outputs": [
    {
     "data": {
      "text/plain": [
       "0.015625"
      ]
     },
     "execution_count": 80,
     "metadata": {},
     "output_type": "execute_result"
    }
   ],
   "source": [
    "x ^= 3 # same as x = x^3"
   ]
  },
  {
   "cell_type": "code",
   "execution_count": 81,
   "id": "68d80654-3adf-493f-b158-2ab5415e8654",
   "metadata": {},
   "outputs": [],
   "source": [
    "# common built in math functions"
   ]
  },
  {
   "cell_type": "code",
   "execution_count": 82,
   "id": "74b2b97f-d0f4-4070-96f8-7124d52546e3",
   "metadata": {},
   "outputs": [
    {
     "data": {
      "text/plain": [
       "3.1354942159291497"
      ]
     },
     "execution_count": 82,
     "metadata": {},
     "output_type": "execute_result"
    }
   ],
   "source": [
    "log(23) # natural log"
   ]
  },
  {
   "cell_type": "code",
   "execution_count": 84,
   "id": "d2ac9cb1-80ee-4121-baa8-1ad98d8507ef",
   "metadata": {},
   "outputs": [
    {
     "data": {
      "text/plain": [
       "1"
      ]
     },
     "execution_count": 84,
     "metadata": {},
     "output_type": "execute_result"
    }
   ],
   "source": [
    "log(ℯ) # \\euler TAB"
   ]
  },
  {
   "cell_type": "code",
   "execution_count": 85,
   "id": "6a39a6d7-92a3-4ae4-9d93-551a7ef0e05e",
   "metadata": {},
   "outputs": [
    {
     "data": {
      "text/plain": [
       "3.3008127941181167"
      ]
     },
     "execution_count": 85,
     "metadata": {},
     "output_type": "execute_result"
    }
   ],
   "source": [
    "log(10, 1999) # If we use 2 arguments first one is base"
   ]
  },
  {
   "cell_type": "code",
   "execution_count": 86,
   "id": "be45745b-f6f4-4217-b811-21aed1913569",
   "metadata": {},
   "outputs": [
    {
     "data": {
      "text/plain": [
       "7.38905609893065"
      ]
     },
     "execution_count": 86,
     "metadata": {},
     "output_type": "execute_result"
    }
   ],
   "source": [
    "exp(2) # exponential"
   ]
  },
  {
   "cell_type": "code",
   "execution_count": 87,
   "id": "10301753-1aa2-4ee2-8eef-02471a4bc433",
   "metadata": {},
   "outputs": [
    {
     "data": {
      "text/plain": [
       "7.38905609893065"
      ]
     },
     "execution_count": 87,
     "metadata": {},
     "output_type": "execute_result"
    }
   ],
   "source": [
    "ℯ^2 # same as above \\euler TAB"
   ]
  },
  {
   "cell_type": "code",
   "execution_count": 98,
   "id": "e01f8b93-e01c-4bf6-a275-2d0475a3df9d",
   "metadata": {},
   "outputs": [],
   "source": [
    "# all are same in python"
   ]
  },
  {
   "cell_type": "code",
   "execution_count": 88,
   "id": "c8eb9c6c-d804-4af1-b44c-b622b0cfa234",
   "metadata": {},
   "outputs": [
    {
     "data": {
      "text/plain": [
       "4.0"
      ]
     },
     "execution_count": 88,
     "metadata": {},
     "output_type": "execute_result"
    }
   ],
   "source": [
    "round(3.78) # same as python"
   ]
  },
  {
   "cell_type": "code",
   "execution_count": 89,
   "id": "100c5354-6233-49f4-a8c5-5cf3d5b16fcb",
   "metadata": {},
   "outputs": [
    {
     "data": {
      "text/plain": [
       "4.0"
      ]
     },
     "execution_count": 89,
     "metadata": {},
     "output_type": "execute_result"
    }
   ],
   "source": [
    "ceil(3.78) # same as python"
   ]
  },
  {
   "cell_type": "code",
   "execution_count": 90,
   "id": "6e9e9d8a-a356-4651-a99b-b88473010458",
   "metadata": {},
   "outputs": [
    {
     "data": {
      "text/plain": [
       "3.0"
      ]
     },
     "execution_count": 90,
     "metadata": {},
     "output_type": "execute_result"
    }
   ],
   "source": [
    "floor(3.78) # same as python"
   ]
  },
  {
   "cell_type": "code",
   "execution_count": 91,
   "id": "d755b6e7-f0ce-445a-8327-771f4809d408",
   "metadata": {},
   "outputs": [
    {
     "data": {
      "text/plain": [
       "3"
      ]
     },
     "execution_count": 91,
     "metadata": {},
     "output_type": "execute_result"
    }
   ],
   "source": [
    "abs(-3)"
   ]
  },
  {
   "cell_type": "code",
   "execution_count": 92,
   "id": "64b616b2-c72e-4c34-9406-e4c719569184",
   "metadata": {},
   "outputs": [
    {
     "data": {
      "text/plain": [
       "-1"
      ]
     },
     "execution_count": 92,
     "metadata": {},
     "output_type": "execute_result"
    }
   ],
   "source": [
    "sign(-4)"
   ]
  },
  {
   "cell_type": "code",
   "execution_count": 93,
   "id": "64bad32b-9f84-4d02-8936-3adad23a80e6",
   "metadata": {},
   "outputs": [
    {
     "data": {
      "text/plain": [
       "1"
      ]
     },
     "execution_count": 93,
     "metadata": {},
     "output_type": "execute_result"
    }
   ],
   "source": [
    "sign(4)"
   ]
  },
  {
   "cell_type": "code",
   "execution_count": 94,
   "id": "14ca4faf-2bd7-40ec-9897-4fceb9d57efd",
   "metadata": {},
   "outputs": [
    {
     "data": {
      "text/plain": [
       "0.49999999999999994"
      ]
     },
     "execution_count": 94,
     "metadata": {},
     "output_type": "execute_result"
    }
   ],
   "source": [
    "sin(π/6)"
   ]
  },
  {
   "cell_type": "code",
   "execution_count": 96,
   "id": "855dbd6e-323f-4976-aaa1-5721458b8e13",
   "metadata": {},
   "outputs": [
    {
     "data": {
      "text/plain": [
       "0.29318523170827376"
      ]
     },
     "execution_count": 96,
     "metadata": {},
     "output_type": "execute_result"
    }
   ],
   "source": [
    "cos(π\\4)"
   ]
  },
  {
   "cell_type": "code",
   "execution_count": 97,
   "id": "761f512e-3940-4b36-9f65-bf90597abaae",
   "metadata": {},
   "outputs": [
    {
     "data": {
      "text/plain": [
       "0.9999999999999999"
      ]
     },
     "execution_count": 97,
     "metadata": {},
     "output_type": "execute_result"
    }
   ],
   "source": [
    "tan(π/4)"
   ]
  },
  {
   "cell_type": "code",
   "execution_count": 99,
   "id": "f7b8dd60-e185-4176-9071-58f8789915f6",
   "metadata": {},
   "outputs": [
    {
     "data": {
      "text/plain": [
       "0.5"
      ]
     },
     "execution_count": 99,
     "metadata": {},
     "output_type": "execute_result"
    }
   ],
   "source": [
    "sind(30) # sin of 30 degrees"
   ]
  },
  {
   "cell_type": "code",
   "execution_count": 100,
   "id": "b60cf775-cf0d-4152-8cb8-1d2e6d94fc7e",
   "metadata": {},
   "outputs": [
    {
     "data": {
      "text/plain": [
       "0.7071067811865476"
      ]
     },
     "execution_count": 100,
     "metadata": {},
     "output_type": "execute_result"
    }
   ],
   "source": [
    "cosd(45)"
   ]
  },
  {
   "cell_type": "code",
   "execution_count": 101,
   "id": "498bb232-a445-477c-84ec-6e97a83baab3",
   "metadata": {},
   "outputs": [
    {
     "data": {
      "text/plain": [
       "1.0"
      ]
     },
     "execution_count": 101,
     "metadata": {},
     "output_type": "execute_result"
    }
   ],
   "source": [
    "tand(45)"
   ]
  },
  {
   "cell_type": "code",
   "execution_count": 103,
   "id": "5ceb9c37-981d-4243-bda8-c33d6376c92e",
   "metadata": {},
   "outputs": [
    {
     "data": {
      "text/plain": [
       "4-element Vector{Float64}:\n",
       " 0.7779658350204228\n",
       " 0.0721928323041573\n",
       " 0.8555538073795519\n",
       " 0.6065521520618187"
      ]
     },
     "execution_count": 103,
     "metadata": {},
     "output_type": "execute_result"
    }
   ],
   "source": [
    "rand(4) # gives 4 random numbers"
   ]
  },
  {
   "cell_type": "code",
   "execution_count": 104,
   "id": "ca55887a-0952-48b9-ada7-d518497abdd2",
   "metadata": {},
   "outputs": [
    {
     "data": {
      "text/plain": [
       "4-element Vector{Int64}:\n",
       "  1948831055568533932\n",
       "  7101850459484607770\n",
       "  3680431401593064234\n",
       " -7020530466137948599"
      ]
     },
     "execution_count": 104,
     "metadata": {},
     "output_type": "execute_result"
    }
   ],
   "source": [
    "# we can specify return type\n",
    "rand(Int, 4) # gives 4 integers"
   ]
  },
  {
   "cell_type": "code",
   "execution_count": 106,
   "id": "517711dc-a7f6-41c7-a053-45ae08ef7ba7",
   "metadata": {},
   "outputs": [
    {
     "data": {
      "text/plain": [
       "2×2 Matrix{Float64}:\n",
       " 0.960047  0.827132\n",
       " 0.195902  0.523313"
      ]
     },
     "execution_count": 106,
     "metadata": {},
     "output_type": "execute_result"
    }
   ],
   "source": [
    "rand(Float64, (2,2)) # If i require 2/2 matrics"
   ]
  },
  {
   "cell_type": "code",
   "execution_count": 107,
   "id": "34169a70-7111-4ce7-a72a-a1d028095a3d",
   "metadata": {},
   "outputs": [
    {
     "data": {
      "text/plain": [
       "2.5"
      ]
     },
     "execution_count": 107,
     "metadata": {},
     "output_type": "execute_result"
    }
   ],
   "source": [
    "x=7; y=3;z=9;t=2.5"
   ]
  },
  {
   "cell_type": "code",
   "execution_count": 108,
   "id": "55cd9b55-cfe8-4ab3-a14d-100b85e3cf65",
   "metadata": {},
   "outputs": [
    {
     "data": {
      "text/plain": [
       "1"
      ]
     },
     "execution_count": 108,
     "metadata": {},
     "output_type": "execute_result"
    }
   ],
   "source": [
    "(x+z)%y"
   ]
  },
  {
   "cell_type": "code",
   "execution_count": 109,
   "id": "b70ddb42-43e7-4acb-a2aa-5b91f294d405",
   "metadata": {},
   "outputs": [
    {
     "data": {
      "text/plain": [
       "5.5"
      ]
     },
     "execution_count": 109,
     "metadata": {},
     "output_type": "execute_result"
    }
   ],
   "source": [
    "(y+t)%x"
   ]
  },
  {
   "cell_type": "code",
   "execution_count": 110,
   "id": "06bc266d-8c37-435f-92e0-1198f84dcebc",
   "metadata": {},
   "outputs": [
    {
     "data": {
      "text/plain": [
       "1"
      ]
     },
     "execution_count": 110,
     "metadata": {},
     "output_type": "execute_result"
    }
   ],
   "source": [
    "(x%y)%z"
   ]
  },
  {
   "cell_type": "code",
   "execution_count": 111,
   "id": "846d61c1-9f6d-4d75-bb8f-25e920af1444",
   "metadata": {},
   "outputs": [
    {
     "data": {
      "text/plain": [
       "3"
      ]
     },
     "execution_count": 111,
     "metadata": {},
     "output_type": "execute_result"
    }
   ],
   "source": [
    "(y%z)%x"
   ]
  },
  {
   "cell_type": "code",
   "execution_count": 112,
   "id": "03a8a0d9-93f9-49b2-b532-443fa939a9d9",
   "metadata": {},
   "outputs": [
    {
     "data": {
      "text/plain": [
       "0"
      ]
     },
     "execution_count": 112,
     "metadata": {},
     "output_type": "execute_result"
    }
   ],
   "source": [
    "(x*z)%y"
   ]
  },
  {
   "cell_type": "code",
   "execution_count": 113,
   "id": "c716e19a-a378-4f38-823d-198865265237",
   "metadata": {},
   "outputs": [
    {
     "data": {
      "text/plain": [
       "12"
      ]
     },
     "execution_count": 113,
     "metadata": {},
     "output_type": "execute_result"
    }
   ],
   "source": [
    "x = 19; y = 12"
   ]
  },
  {
   "cell_type": "code",
   "execution_count": 114,
   "id": "40795f22-646d-494e-925d-f966ccc2f492",
   "metadata": {},
   "outputs": [
    {
     "data": {
      "text/plain": [
       "22.0"
      ]
     },
     "execution_count": 114,
     "metadata": {},
     "output_type": "execute_result"
    }
   ],
   "source": [
    "x += y /= 4"
   ]
  },
  {
   "cell_type": "code",
   "execution_count": 115,
   "id": "48cc1319-a81b-42b2-858f-a4d4c3386e30",
   "metadata": {},
   "outputs": [
    {
     "data": {
      "text/plain": [
       "5.0"
      ]
     },
     "execution_count": 115,
     "metadata": {},
     "output_type": "execute_result"
    }
   ],
   "source": [
    "y = x%4+3"
   ]
  },
  {
   "cell_type": "code",
   "execution_count": null,
   "id": "01296919-80d4-4731-9dd0-03916e9b38f8",
   "metadata": {},
   "outputs": [],
   "source": []
  }
 ],
 "metadata": {
  "kernelspec": {
   "display_name": "Julia 1.9.1",
   "language": "julia",
   "name": "julia-1.9"
  },
  "language_info": {
   "file_extension": ".jl",
   "mimetype": "application/julia",
   "name": "julia",
   "version": "1.9.1"
  }
 },
 "nbformat": 4,
 "nbformat_minor": 5
}
