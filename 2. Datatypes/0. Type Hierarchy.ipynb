{
 "cells": [
  {
   "cell_type": "code",
   "execution_count": 1,
   "id": "f3399fb1-eeeb-43f7-8500-e3cf1a1109e8",
   "metadata": {},
   "outputs": [
    {
     "data": {
      "text/plain": [
       "618-element Vector{Any}:\n",
       " AbstractArray\n",
       " AbstractChannel\n",
       " AbstractChar\n",
       " AbstractDict\n",
       " AbstractDisplay\n",
       " AbstractMatch\n",
       " AbstractPattern\n",
       " AbstractSet\n",
       " AbstractString\n",
       " Any\n",
       " Base.ANSIDelimiter\n",
       " Base.ANSIIterator\n",
       " Base.AbstractBroadcasted\n",
       " ⋮\n",
       " Timer\n",
       " Tuple\n",
       " Type\n",
       " TypeVar\n",
       " UndefInitializer\n",
       " Val\n",
       " VecElement\n",
       " VersionNumber\n",
       " WeakRef\n",
       " ZMQ.Context\n",
       " ZMQ.Socket\n",
       " ZMQ._Message"
      ]
     },
     "execution_count": 1,
     "metadata": {},
     "output_type": "execute_result"
    }
   ],
   "source": [
    "subtypes(Any)"
   ]
  },
  {
   "cell_type": "code",
   "execution_count": 2,
   "id": "48680273-eef8-406f-8ec8-af952931048b",
   "metadata": {},
   "outputs": [
    {
     "data": {
      "text/plain": [
       "Any"
      ]
     },
     "execution_count": 2,
     "metadata": {},
     "output_type": "execute_result"
    }
   ],
   "source": [
    "supertype(Number)"
   ]
  },
  {
   "cell_type": "code",
   "execution_count": 3,
   "id": "6bc7837f-8a80-48cf-aace-7792d5e899f5",
   "metadata": {},
   "outputs": [
    {
     "data": {
      "text/plain": [
       "2-element Vector{Any}:\n",
       " Complex\n",
       " Real"
      ]
     },
     "execution_count": 3,
     "metadata": {},
     "output_type": "execute_result"
    }
   ],
   "source": [
    "subtypes(Number)"
   ]
  },
  {
   "cell_type": "code",
   "execution_count": 4,
   "id": "4f1546c9-0c30-4beb-b4fa-20512b3dc891",
   "metadata": {},
   "outputs": [
    {
     "data": {
      "text/plain": [
       "4-element Vector{Any}:\n",
       " AbstractFloat\n",
       " AbstractIrrational\n",
       " Integer\n",
       " Rational"
      ]
     },
     "execution_count": 4,
     "metadata": {},
     "output_type": "execute_result"
    }
   ],
   "source": [
    "subtypes(Real)"
   ]
  },
  {
   "cell_type": "code",
   "execution_count": 3,
   "id": "b76bbf6c-9225-4177-8621-28bb51189ff3",
   "metadata": {},
   "outputs": [
    {
     "data": {
      "text/plain": [
       "618-element Vector{Any}:\n",
       " AbstractArray\n",
       " AbstractChannel\n",
       " AbstractChar\n",
       " AbstractDict\n",
       " AbstractDisplay\n",
       " AbstractMatch\n",
       " AbstractPattern\n",
       " AbstractSet\n",
       " AbstractString\n",
       " Any\n",
       " Base.ANSIDelimiter\n",
       " Base.ANSIIterator\n",
       " Base.AbstractBroadcasted\n",
       " ⋮\n",
       " Timer\n",
       " Tuple\n",
       " Type\n",
       " TypeVar\n",
       " UndefInitializer\n",
       " Val\n",
       " VecElement\n",
       " VersionNumber\n",
       " WeakRef\n",
       " ZMQ.Context\n",
       " ZMQ.Socket\n",
       " ZMQ._Message"
      ]
     },
     "execution_count": 3,
     "metadata": {},
     "output_type": "execute_result"
    }
   ],
   "source": [
    "subtypes(Any)"
   ]
  },
  {
   "cell_type": "code",
   "execution_count": 4,
   "id": "a53eed58-dd1c-4a95-9611-f4b970a59f38",
   "metadata": {},
   "outputs": [
    {
     "data": {
      "text/plain": [
       "2-element Vector{Any}:\n",
       " Complex\n",
       " Real"
      ]
     },
     "execution_count": 4,
     "metadata": {},
     "output_type": "execute_result"
    }
   ],
   "source": [
    "subtypes(Number)"
   ]
  },
  {
   "cell_type": "code",
   "execution_count": 5,
   "id": "300a248e-bd37-471d-8517-47f2e2b00999",
   "metadata": {},
   "outputs": [
    {
     "data": {
      "text/plain": [
       "4-element Vector{Any}:\n",
       " AbstractFloat\n",
       " AbstractIrrational\n",
       " Integer\n",
       " Rational"
      ]
     },
     "execution_count": 5,
     "metadata": {},
     "output_type": "execute_result"
    }
   ],
   "source": [
    "subtypes(Real)"
   ]
  },
  {
   "cell_type": "code",
   "execution_count": 6,
   "id": "78427a9e-b341-4c65-bec6-8033cc94e599",
   "metadata": {},
   "outputs": [
    {
     "data": {
      "text/plain": [
       "3-element Vector{Any}:\n",
       " Bool\n",
       " Signed\n",
       " Unsigned"
      ]
     },
     "execution_count": 6,
     "metadata": {},
     "output_type": "execute_result"
    }
   ],
   "source": [
    "subtypes(Integer)"
   ]
  },
  {
   "cell_type": "code",
   "execution_count": 7,
   "id": "762bf3b7-d0e8-432e-9717-54fc5b3be07c",
   "metadata": {},
   "outputs": [
    {
     "data": {
      "text/plain": [
       "6-element Vector{Any}:\n",
       " BigInt\n",
       " Int128\n",
       " Int16\n",
       " Int32\n",
       " Int64\n",
       " Int8"
      ]
     },
     "execution_count": 7,
     "metadata": {},
     "output_type": "execute_result"
    }
   ],
   "source": [
    "subtypes(Signed)"
   ]
  },
  {
   "cell_type": "code",
   "execution_count": null,
   "id": "b1c30d14-a267-4432-b3a3-bd4448393f4d",
   "metadata": {},
   "outputs": [],
   "source": []
  }
 ],
 "metadata": {
  "kernelspec": {
   "display_name": "Julia 1.9.1",
   "language": "julia",
   "name": "julia-1.9"
  },
  "language_info": {
   "file_extension": ".jl",
   "mimetype": "application/julia",
   "name": "julia",
   "version": "1.9.1"
  }
 },
 "nbformat": 4,
 "nbformat_minor": 5
}
