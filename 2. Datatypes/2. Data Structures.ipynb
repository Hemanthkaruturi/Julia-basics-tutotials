{
 "cells": [
  {
   "cell_type": "markdown",
   "id": "d8618122-af46-4ee4-b918-755b7a658a5f",
   "metadata": {},
   "source": [
    "# Tuples"
   ]
  },
  {
   "cell_type": "code",
   "execution_count": 1,
   "id": "415f9fe8-f060-40e2-b845-90bad7a82e34",
   "metadata": {},
   "outputs": [],
   "source": [
    "# Tuples same as in python"
   ]
  },
  {
   "cell_type": "code",
   "execution_count": 2,
   "id": "a6dd99b0-0dae-432f-b520-383f05f67a52",
   "metadata": {},
   "outputs": [
    {
     "data": {
      "text/plain": [
       "(3, \"Julia\", 2.3)"
      ]
     },
     "execution_count": 2,
     "metadata": {},
     "output_type": "execute_result"
    }
   ],
   "source": [
    "tpl = (3,\"Julia\",2.3)"
   ]
  },
  {
   "cell_type": "code",
   "execution_count": 3,
   "id": "937d933c-b672-4d40-9969-3e9dfd01fbf3",
   "metadata": {},
   "outputs": [
    {
     "data": {
      "text/plain": [
       "Tuple{Int64, String, Float64}"
      ]
     },
     "execution_count": 3,
     "metadata": {},
     "output_type": "execute_result"
    }
   ],
   "source": [
    "typeof(tpl)"
   ]
  },
  {
   "cell_type": "code",
   "execution_count": 4,
   "id": "baff8a00-b50e-4f25-91d7-b175dac1bffc",
   "metadata": {},
   "outputs": [
    {
     "data": {
      "text/plain": [
       "(2, 3, 4)"
      ]
     },
     "execution_count": 4,
     "metadata": {},
     "output_type": "execute_result"
    }
   ],
   "source": [
    "t1 = tuple(2,3,4)"
   ]
  },
  {
   "cell_type": "code",
   "execution_count": 5,
   "id": "397dd713-c001-4509-a33f-64dd9b3a2645",
   "metadata": {},
   "outputs": [
    {
     "data": {
      "text/plain": [
       "Tuple{Int64, Int64, Int64}"
      ]
     },
     "execution_count": 5,
     "metadata": {},
     "output_type": "execute_result"
    }
   ],
   "source": [
    "typeof(t1)"
   ]
  },
  {
   "cell_type": "code",
   "execution_count": 6,
   "id": "b64e1d03-5586-47b8-9903-895f5af045d9",
   "metadata": {},
   "outputs": [],
   "source": [
    "# there is difference in tuple and Tuple"
   ]
  },
  {
   "cell_type": "code",
   "execution_count": 7,
   "id": "c52ad2b6-7649-4568-92b2-52a1099e38b7",
   "metadata": {},
   "outputs": [
    {
     "data": {
      "text/plain": [
       "Any"
      ]
     },
     "execution_count": 7,
     "metadata": {},
     "output_type": "execute_result"
    }
   ],
   "source": [
    "supertype(Tuple)"
   ]
  },
  {
   "cell_type": "code",
   "execution_count": 8,
   "id": "4fd93b1f-e7c4-49fb-93f5-93d4a1ccb30e",
   "metadata": {},
   "outputs": [
    {
     "data": {
      "text/plain": [
       "(2, 3, 4)"
      ]
     },
     "execution_count": 8,
     "metadata": {},
     "output_type": "execute_result"
    }
   ],
   "source": [
    "t2 = 2,3,4"
   ]
  },
  {
   "cell_type": "code",
   "execution_count": 9,
   "id": "dd73b803-993e-462c-8047-650ff5ec73a2",
   "metadata": {},
   "outputs": [
    {
     "data": {
      "text/plain": [
       "Tuple{Int64, Int64, Int64}"
      ]
     },
     "execution_count": 9,
     "metadata": {},
     "output_type": "execute_result"
    }
   ],
   "source": [
    "typeof(t2)"
   ]
  },
  {
   "cell_type": "code",
   "execution_count": 10,
   "id": "42082bf4-dc51-43a0-a231-567455461880",
   "metadata": {},
   "outputs": [
    {
     "data": {
      "text/plain": [
       "3"
      ]
     },
     "execution_count": 10,
     "metadata": {},
     "output_type": "execute_result"
    }
   ],
   "source": [
    "t3 = (3)"
   ]
  },
  {
   "cell_type": "code",
   "execution_count": 11,
   "id": "b2606ac1-a805-4c39-a33c-03b3bafbc55d",
   "metadata": {},
   "outputs": [
    {
     "data": {
      "text/plain": [
       "Int64"
      ]
     },
     "execution_count": 11,
     "metadata": {},
     "output_type": "execute_result"
    }
   ],
   "source": [
    "typeof(t3)"
   ]
  },
  {
   "cell_type": "code",
   "execution_count": 12,
   "id": "df28e102-c546-46a4-a3dd-fb128514c93a",
   "metadata": {},
   "outputs": [
    {
     "data": {
      "text/plain": [
       "(3,)"
      ]
     },
     "execution_count": 12,
     "metadata": {},
     "output_type": "execute_result"
    }
   ],
   "source": [
    "t3 = (3,)"
   ]
  },
  {
   "cell_type": "code",
   "execution_count": 13,
   "id": "fd0d3adb-cc01-431f-9b09-e4f0c8ea21aa",
   "metadata": {},
   "outputs": [
    {
     "data": {
      "text/plain": [
       "Tuple{Int64}"
      ]
     },
     "execution_count": 13,
     "metadata": {},
     "output_type": "execute_result"
    }
   ],
   "source": [
    "typeof(t3)"
   ]
  },
  {
   "cell_type": "code",
   "execution_count": 14,
   "id": "af868b76-4db9-400c-ad8e-5cb2e8a6ad05",
   "metadata": {},
   "outputs": [],
   "source": [
    "# slicing tuples same as in python but index start with 1 unlike 0 in python"
   ]
  },
  {
   "cell_type": "code",
   "execution_count": 16,
   "id": "0301ac4a-a081-481c-876e-60cfe0327103",
   "metadata": {},
   "outputs": [
    {
     "data": {
      "text/plain": [
       "(2, 3, 4)"
      ]
     },
     "execution_count": 16,
     "metadata": {},
     "output_type": "execute_result"
    }
   ],
   "source": [
    "t1"
   ]
  },
  {
   "cell_type": "code",
   "execution_count": 17,
   "id": "60fba34a-ef6c-4ceb-b1cb-ace359413316",
   "metadata": {},
   "outputs": [
    {
     "data": {
      "text/plain": [
       "2"
      ]
     },
     "execution_count": 17,
     "metadata": {},
     "output_type": "execute_result"
    }
   ],
   "source": [
    "t1[1]"
   ]
  },
  {
   "cell_type": "code",
   "execution_count": 18,
   "id": "f5e73610-b1ff-4065-8b6e-4721dd44eb36",
   "metadata": {},
   "outputs": [
    {
     "data": {
      "text/plain": [
       "3"
      ]
     },
     "execution_count": 18,
     "metadata": {},
     "output_type": "execute_result"
    }
   ],
   "source": [
    "t1[2]"
   ]
  },
  {
   "cell_type": "code",
   "execution_count": 19,
   "id": "d9941a11-c7b3-4451-bb6e-f7f4742df1a7",
   "metadata": {},
   "outputs": [
    {
     "data": {
      "text/plain": [
       "(2, 3)"
      ]
     },
     "execution_count": 19,
     "metadata": {},
     "output_type": "execute_result"
    }
   ],
   "source": [
    "t1[1:2]"
   ]
  },
  {
   "cell_type": "code",
   "execution_count": 20,
   "id": "fcf328b5-8b72-4ad3-82a6-dad07123845f",
   "metadata": {},
   "outputs": [
    {
     "data": {
      "text/plain": [
       "(2, 3, 4)"
      ]
     },
     "execution_count": 20,
     "metadata": {},
     "output_type": "execute_result"
    }
   ],
   "source": [
    "t1[1:3]"
   ]
  },
  {
   "cell_type": "code",
   "execution_count": 22,
   "id": "ab4fe76f-523a-4a7c-a096-b328484ef84b",
   "metadata": {},
   "outputs": [
    {
     "data": {
      "text/plain": [
       "(3, 4)"
      ]
     },
     "execution_count": 22,
     "metadata": {},
     "output_type": "execute_result"
    }
   ],
   "source": [
    "t1[2:3]"
   ]
  },
  {
   "cell_type": "code",
   "execution_count": 23,
   "id": "8acb35e2-9de6-4df5-a648-e49f4f4ba85e",
   "metadata": {},
   "outputs": [],
   "source": [
    "# names tuples"
   ]
  },
  {
   "cell_type": "code",
   "execution_count": 24,
   "id": "d09db718-0548-4623-9a9c-2e125e7fae35",
   "metadata": {},
   "outputs": [
    {
     "data": {
      "text/plain": [
       "(name = \"Hemanth\", role = \"Data Scientist\")"
      ]
     },
     "execution_count": 24,
     "metadata": {},
     "output_type": "execute_result"
    }
   ],
   "source": [
    "t4 = (name=\"Hemanth\", role=\"Data Scientist\")"
   ]
  },
  {
   "cell_type": "code",
   "execution_count": 25,
   "id": "7dde79cf-12ab-47c7-8aca-96338df9e35f",
   "metadata": {},
   "outputs": [
    {
     "data": {
      "text/plain": [
       "\"Hemanth\""
      ]
     },
     "execution_count": 25,
     "metadata": {},
     "output_type": "execute_result"
    }
   ],
   "source": [
    "t4.name"
   ]
  },
  {
   "cell_type": "code",
   "execution_count": 26,
   "id": "1cf6c312-5492-45ca-87c0-6196a10249f0",
   "metadata": {},
   "outputs": [],
   "source": [
    "#  either you should name all or not"
   ]
  },
  {
   "cell_type": "code",
   "execution_count": 28,
   "id": "36a8e854-1bbe-41c4-9067-5803ae166033",
   "metadata": {},
   "outputs": [
    {
     "ename": "LoadError",
     "evalue": "UndefVarError: `name` not defined",
     "output_type": "error",
     "traceback": [
      "UndefVarError: `name` not defined",
      "",
      "Stacktrace:",
      " [1] top-level scope",
      "   @ In[28]:1"
     ]
    }
   ],
   "source": [
    "t4[name] # you can't do this"
   ]
  },
  {
   "cell_type": "code",
   "execution_count": 29,
   "id": "55608a63-38df-41e5-bda9-03e70c90e5fa",
   "metadata": {},
   "outputs": [
    {
     "data": {
      "text/plain": [
       "(1, 2, 3)"
      ]
     },
     "execution_count": 29,
     "metadata": {},
     "output_type": "execute_result"
    }
   ],
   "source": [
    "t5 = (1,2,3)"
   ]
  },
  {
   "cell_type": "code",
   "execution_count": 30,
   "id": "9356d744-662b-4a4a-866c-19d577ebf436",
   "metadata": {},
   "outputs": [
    {
     "data": {
      "text/plain": [
       "(1, 2, 3)"
      ]
     },
     "execution_count": 30,
     "metadata": {},
     "output_type": "execute_result"
    }
   ],
   "source": [
    "a,b,c = t5"
   ]
  },
  {
   "cell_type": "code",
   "execution_count": 31,
   "id": "aa6a4fe6-722b-4660-89af-8054e71747b9",
   "metadata": {},
   "outputs": [
    {
     "data": {
      "text/plain": [
       "1"
      ]
     },
     "execution_count": 31,
     "metadata": {},
     "output_type": "execute_result"
    }
   ],
   "source": [
    "a"
   ]
  },
  {
   "cell_type": "code",
   "execution_count": 32,
   "id": "8f467fd7-16af-4102-b527-087aa96506ab",
   "metadata": {},
   "outputs": [
    {
     "data": {
      "text/plain": [
       "2"
      ]
     },
     "execution_count": 32,
     "metadata": {},
     "output_type": "execute_result"
    }
   ],
   "source": [
    "b"
   ]
  },
  {
   "cell_type": "code",
   "execution_count": 33,
   "id": "2ec8c51c-b78a-474f-a588-6faabf5b3da4",
   "metadata": {},
   "outputs": [
    {
     "data": {
      "text/plain": [
       "3"
      ]
     },
     "execution_count": 33,
     "metadata": {},
     "output_type": "execute_result"
    }
   ],
   "source": [
    "c"
   ]
  },
  {
   "cell_type": "code",
   "execution_count": 34,
   "id": "9692fb35-5421-4616-91e3-95c2d6cb763c",
   "metadata": {},
   "outputs": [
    {
     "data": {
      "text/plain": [
       "Tuple{Int64, Int64, Int64}"
      ]
     },
     "execution_count": 34,
     "metadata": {},
     "output_type": "execute_result"
    }
   ],
   "source": [
    "typeof(t5)"
   ]
  },
  {
   "cell_type": "code",
   "execution_count": 35,
   "id": "d269b2b7-e7c5-43dd-b017-42f476299676",
   "metadata": {},
   "outputs": [
    {
     "data": {
      "text/plain": [
       "(3, 4, 5, 6)"
      ]
     },
     "execution_count": 35,
     "metadata": {},
     "output_type": "execute_result"
    }
   ],
   "source": [
    "nt = (3,4,5,6) # creation of n tupes (tuples with all the same types)"
   ]
  },
  {
   "cell_type": "code",
   "execution_count": 36,
   "id": "f76eede8-e21d-41b2-bbaf-1ad2ebaf8363",
   "metadata": {},
   "outputs": [
    {
     "data": {
      "text/plain": [
       "NTuple{4, Int64}"
      ]
     },
     "execution_count": 36,
     "metadata": {},
     "output_type": "execute_result"
    }
   ],
   "source": [
    "typeof(nt)"
   ]
  },
  {
   "cell_type": "code",
   "execution_count": 39,
   "id": "10414386-0928-4fa2-9e7f-8d13e51074b6",
   "metadata": {},
   "outputs": [
    {
     "data": {
      "text/plain": [
       "(1, 8, 27, 64, 125)"
      ]
     },
     "execution_count": 39,
     "metadata": {},
     "output_type": "execute_result"
    }
   ],
   "source": [
    "ntuple(x -> x^3,5)"
   ]
  },
  {
   "cell_type": "code",
   "execution_count": 40,
   "id": "9db45b29-7b27-473b-919e-e0d3a8339621",
   "metadata": {},
   "outputs": [
    {
     "data": {
      "text/plain": [
       "true"
      ]
     },
     "execution_count": 40,
     "metadata": {},
     "output_type": "execute_result"
    }
   ],
   "source": [
    "# check wether element in tuple\n",
    "in(3, nt)"
   ]
  },
  {
   "cell_type": "code",
   "execution_count": 41,
   "id": "3af74a79-a9c7-45d1-bea8-39e3771b94eb",
   "metadata": {},
   "outputs": [
    {
     "data": {
      "text/plain": [
       "true"
      ]
     },
     "execution_count": 41,
     "metadata": {},
     "output_type": "execute_result"
    }
   ],
   "source": [
    "3 ∈ nt # \\in TAB"
   ]
  },
  {
   "cell_type": "code",
   "execution_count": 42,
   "id": "1c7aa6ff-6f73-4277-8f2a-9e7a110d3b66",
   "metadata": {},
   "outputs": [
    {
     "data": {
      "text/plain": [
       "false"
      ]
     },
     "execution_count": 42,
     "metadata": {},
     "output_type": "execute_result"
    }
   ],
   "source": [
    "\"C++\" ∈ nt"
   ]
  },
  {
   "cell_type": "code",
   "execution_count": 43,
   "id": "37e9aaa1-fa60-478f-bac8-642190550bf9",
   "metadata": {},
   "outputs": [
    {
     "data": {
      "text/plain": [
       "true"
      ]
     },
     "execution_count": 43,
     "metadata": {},
     "output_type": "execute_result"
    }
   ],
   "source": [
    "# opposite of in (not in)\n",
    "\"c++\" ∉ nt # \\notin TAB"
   ]
  },
  {
   "cell_type": "markdown",
   "id": "1d466f26-9458-4d3b-9115-3fc57a684262",
   "metadata": {},
   "source": [
    "# dictionaries"
   ]
  },
  {
   "cell_type": "code",
   "execution_count": 45,
   "id": "3da3f447-1251-4928-92bd-5b987b8c6a1f",
   "metadata": {},
   "outputs": [
    {
     "data": {
      "text/plain": [
       "Dict{Any, Any}()"
      ]
     },
     "execution_count": 45,
     "metadata": {},
     "output_type": "execute_result"
    }
   ],
   "source": [
    "d1 = Dict() # exmpty dictionary"
   ]
  },
  {
   "cell_type": "code",
   "execution_count": 46,
   "id": "88139adb-a459-4f83-92a8-5de6fbb26b63",
   "metadata": {},
   "outputs": [
    {
     "data": {
      "text/plain": [
       "Dict{String, Int64} with 3 entries:\n",
       "  \"Jyostna\" => 80\n",
       "  \"Suresh\"  => 87\n",
       "  \"Hemanth\" => 98"
      ]
     },
     "execution_count": 46,
     "metadata": {},
     "output_type": "execute_result"
    }
   ],
   "source": [
    "studentgrades = Dict([(\"Hemanth\",98),(\"Suresh\",87),(\"Jyostna\", 80)])"
   ]
  },
  {
   "cell_type": "code",
   "execution_count": 49,
   "id": "d890e556-1aa6-470f-99b7-7e44f4fadfd6",
   "metadata": {},
   "outputs": [
    {
     "data": {
      "text/plain": [
       "98"
      ]
     },
     "execution_count": 49,
     "metadata": {},
     "output_type": "execute_result"
    }
   ],
   "source": [
    "studentgrades[\"Hemanth\"]"
   ]
  },
  {
   "cell_type": "code",
   "execution_count": 50,
   "id": "83051775-3455-4436-9c2b-1afde8ac7b6c",
   "metadata": {},
   "outputs": [
    {
     "data": {
      "text/plain": [
       "Dict{String, Int64} with 3 entries:\n",
       "  \"Jyostna\" => 80\n",
       "  \"Suresh\"  => 87\n",
       "  \"Hemanth\" => 98"
      ]
     },
     "execution_count": 50,
     "metadata": {},
     "output_type": "execute_result"
    }
   ],
   "source": [
    "studentgrades = Dict(\"Hemanth\" => 98, \"Suresh\" => 87, \"Jyostna\" => 80)"
   ]
  },
  {
   "cell_type": "code",
   "execution_count": 51,
   "id": "ab35b91d-8c7f-4369-94c9-c5247d92f239",
   "metadata": {},
   "outputs": [
    {
     "data": {
      "text/plain": [
       "98"
      ]
     },
     "execution_count": 51,
     "metadata": {},
     "output_type": "execute_result"
    }
   ],
   "source": [
    "studentgrades[\"Hemanth\"]"
   ]
  },
  {
   "cell_type": "code",
   "execution_count": 52,
   "id": "3c047c35-6a22-4d9d-a172-dbf94bde5bae",
   "metadata": {},
   "outputs": [],
   "source": [
    "# add new element to dictionary"
   ]
  },
  {
   "cell_type": "code",
   "execution_count": 53,
   "id": "8a79276e-c8de-4eef-b3f3-56c22e3fd292",
   "metadata": {},
   "outputs": [
    {
     "data": {
      "text/plain": [
       "85"
      ]
     },
     "execution_count": 53,
     "metadata": {},
     "output_type": "execute_result"
    }
   ],
   "source": [
    "studentgrades[\"Ravi\"] = 85"
   ]
  },
  {
   "cell_type": "code",
   "execution_count": 54,
   "id": "9c5e83b8-b871-4f77-94a7-4f300660edc3",
   "metadata": {},
   "outputs": [
    {
     "data": {
      "text/plain": [
       "Dict{String, Int64} with 4 entries:\n",
       "  \"Jyostna\" => 80\n",
       "  \"Suresh\"  => 87\n",
       "  \"Hemanth\" => 98\n",
       "  \"Ravi\"    => 85"
      ]
     },
     "execution_count": 54,
     "metadata": {},
     "output_type": "execute_result"
    }
   ],
   "source": [
    "studentgrades"
   ]
  },
  {
   "cell_type": "code",
   "execution_count": 55,
   "id": "b626c70c-9ef8-4afb-9827-d5dd8baf0de0",
   "metadata": {},
   "outputs": [
    {
     "ename": "LoadError",
     "evalue": "KeyError: key 1 not found",
     "output_type": "error",
     "traceback": [
      "KeyError: key 1 not found",
      "",
      "Stacktrace:",
      " [1] getindex(h::Dict{String, Int64}, key::Int64)",
      "   @ Base .\\dict.jl:484",
      " [2] top-level scope",
      "   @ In[55]:1"
     ]
    }
   ],
   "source": [
    "studentgrades[1] # can't do this"
   ]
  },
  {
   "cell_type": "code",
   "execution_count": 58,
   "id": "99108b17-8786-4493-b87a-ff8fc0cfe9f1",
   "metadata": {},
   "outputs": [
    {
     "data": {
      "text/plain": [
       "4"
      ]
     },
     "execution_count": 58,
     "metadata": {},
     "output_type": "execute_result"
    }
   ],
   "source": [
    "length(studentgrades)"
   ]
  },
  {
   "cell_type": "code",
   "execution_count": 56,
   "id": "1449c799-8fe6-4d9e-b15e-ca1bcc6b39bb",
   "metadata": {},
   "outputs": [
    {
     "data": {
      "text/plain": [
       "16-element Vector{String}:\n",
       " #undef\n",
       "    \"Jyostna\"\n",
       " #undef\n",
       " #undef\n",
       " #undef\n",
       "    \"Suresh\"\n",
       " #undef\n",
       "    \"Hemanth\"\n",
       "    \"Ravi\"\n",
       " #undef\n",
       " #undef\n",
       " #undef\n",
       " #undef\n",
       " #undef\n",
       " #undef\n",
       " #undef"
      ]
     },
     "execution_count": 56,
     "metadata": {},
     "output_type": "execute_result"
    }
   ],
   "source": [
    "studentgrades.keys # don't use this"
   ]
  },
  {
   "cell_type": "code",
   "execution_count": 57,
   "id": "3bed2024-698f-409b-8d91-fbd9f9b334f2",
   "metadata": {},
   "outputs": [
    {
     "data": {
      "text/plain": [
       "16-element Vector{Int64}:\n",
       "               0\n",
       "              80\n",
       "   1648874192992\n",
       "               0\n",
       " 140726959337488\n",
       "              87\n",
       "               0\n",
       "              98\n",
       "              85\n",
       "               0\n",
       " 140727037242976\n",
       " 140727037251152\n",
       "               0\n",
       " 140727037242976\n",
       " 140727037251152\n",
       "               0"
      ]
     },
     "execution_count": 57,
     "metadata": {},
     "output_type": "execute_result"
    }
   ],
   "source": [
    "studentgrades.vals # don't use this"
   ]
  },
  {
   "cell_type": "code",
   "execution_count": 59,
   "id": "ed2c0df8-0bdf-44af-a018-47eb7555e98e",
   "metadata": {},
   "outputs": [
    {
     "data": {
      "text/plain": [
       "KeySet for a Dict{String, Int64} with 4 entries. Keys:\n",
       "  \"Jyostna\"\n",
       "  \"Suresh\"\n",
       "  \"Hemanth\"\n",
       "  \"Ravi\""
      ]
     },
     "execution_count": 59,
     "metadata": {},
     "output_type": "execute_result"
    }
   ],
   "source": [
    "keys(studentgrades)"
   ]
  },
  {
   "cell_type": "code",
   "execution_count": 60,
   "id": "9d818049-0f66-4baa-9b04-e22d1aa3a322",
   "metadata": {},
   "outputs": [
    {
     "data": {
      "text/plain": [
       "ValueIterator for a Dict{String, Int64} with 4 entries. Values:\n",
       "  80\n",
       "  87\n",
       "  98\n",
       "  85"
      ]
     },
     "execution_count": 60,
     "metadata": {},
     "output_type": "execute_result"
    }
   ],
   "source": [
    "values(studentgrades)"
   ]
  },
  {
   "cell_type": "code",
   "execution_count": 62,
   "id": "3c62ab82-23e5-4dc0-9695-68258fe94afb",
   "metadata": {},
   "outputs": [
    {
     "data": {
      "text/plain": [
       "true"
      ]
     },
     "execution_count": 62,
     "metadata": {},
     "output_type": "execute_result"
    }
   ],
   "source": [
    "# check keys\n",
    "\"Hemanth\" ∈ keys(studentgrades)"
   ]
  },
  {
   "cell_type": "code",
   "execution_count": 65,
   "id": "36a894c8-371a-4868-8f1e-fb8ad971bdd2",
   "metadata": {},
   "outputs": [
    {
     "data": {
      "text/plain": [
       "true"
      ]
     },
     "execution_count": 65,
     "metadata": {},
     "output_type": "execute_result"
    }
   ],
   "source": [
    "haskey(studentgrades, \"Hemanth\") # same as above"
   ]
  },
  {
   "cell_type": "code",
   "execution_count": 63,
   "id": "82396014-95da-48ad-b33f-caf079529b8a",
   "metadata": {},
   "outputs": [
    {
     "data": {
      "text/plain": [
       "true"
      ]
     },
     "execution_count": 63,
     "metadata": {},
     "output_type": "execute_result"
    }
   ],
   "source": [
    "# check values\n",
    "87 ∈ values(studentgrades)"
   ]
  },
  {
   "cell_type": "code",
   "execution_count": 67,
   "id": "353fc6a1-82ac-4834-85fd-4d43529743e4",
   "metadata": {},
   "outputs": [],
   "source": [
    "# When I search for Key in dictionary if the key not found I want a default message"
   ]
  },
  {
   "cell_type": "code",
   "execution_count": 68,
   "id": "5d9259d5-f38a-4852-93b0-b6ba535b58a2",
   "metadata": {},
   "outputs": [
    {
     "data": {
      "text/plain": [
       "98"
      ]
     },
     "execution_count": 68,
     "metadata": {},
     "output_type": "execute_result"
    }
   ],
   "source": [
    "get(studentgrades, \"Hemanth\", \"Not found\")"
   ]
  },
  {
   "cell_type": "code",
   "execution_count": 69,
   "id": "4fc17dcc-eaa1-4420-8954-315ae2475c96",
   "metadata": {},
   "outputs": [
    {
     "data": {
      "text/plain": [
       "\"Not found\""
      ]
     },
     "execution_count": 69,
     "metadata": {},
     "output_type": "execute_result"
    }
   ],
   "source": [
    "get(studentgrades, \"Raghu\", \"Not found\")"
   ]
  },
  {
   "cell_type": "code",
   "execution_count": 70,
   "id": "8b8e645a-cae0-4361-9eea-96d6753cbeff",
   "metadata": {},
   "outputs": [],
   "source": [
    "# if the key not found then assign a value"
   ]
  },
  {
   "cell_type": "code",
   "execution_count": 72,
   "id": "42a95c00-cf89-4678-a9a9-4cdd69291b85",
   "metadata": {},
   "outputs": [
    {
     "data": {
      "text/plain": [
       "85"
      ]
     },
     "execution_count": 72,
     "metadata": {},
     "output_type": "execute_result"
    }
   ],
   "source": [
    "get!(studentgrades, \"Raghu\", 85)"
   ]
  },
  {
   "cell_type": "code",
   "execution_count": 73,
   "id": "20e9fbd3-99a0-4b5c-acb5-45777c8443c4",
   "metadata": {},
   "outputs": [
    {
     "data": {
      "text/plain": [
       "Dict{String, Int64} with 5 entries:\n",
       "  \"Jyostna\" => 80\n",
       "  \"Raghu\"   => 85\n",
       "  \"Suresh\"  => 87\n",
       "  \"Hemanth\" => 98\n",
       "  \"Ravi\"    => 85"
      ]
     },
     "execution_count": 73,
     "metadata": {},
     "output_type": "execute_result"
    }
   ],
   "source": [
    "studentgrades"
   ]
  },
  {
   "cell_type": "code",
   "execution_count": 74,
   "id": "4492ed60-7405-4af6-b5bf-a342c90b3730",
   "metadata": {},
   "outputs": [],
   "source": [
    "# only get key else give a message"
   ]
  },
  {
   "cell_type": "code",
   "execution_count": 76,
   "id": "b5e90a81-adeb-4e04-8c36-ea1ad566774c",
   "metadata": {},
   "outputs": [
    {
     "data": {
      "text/plain": [
       "\"Hemanth\""
      ]
     },
     "execution_count": 76,
     "metadata": {},
     "output_type": "execute_result"
    }
   ],
   "source": [
    "getkey(studentgrades, \"Hemanth\", \"Not found\")"
   ]
  },
  {
   "cell_type": "code",
   "execution_count": 77,
   "id": "a84172bc-c66f-418c-8841-e54e0c3140f8",
   "metadata": {},
   "outputs": [
    {
     "data": {
      "text/plain": [
       "\"Not found\""
      ]
     },
     "execution_count": 77,
     "metadata": {},
     "output_type": "execute_result"
    }
   ],
   "source": [
    "getkey(studentgrades, \"Ram\", \"Not found\")"
   ]
  },
  {
   "cell_type": "code",
   "execution_count": 78,
   "id": "6ffe42c7-a1dc-4ffe-80fb-70dcde6159b3",
   "metadata": {},
   "outputs": [],
   "source": [
    "# delete a key"
   ]
  },
  {
   "cell_type": "code",
   "execution_count": 79,
   "id": "a2e951b0-2fa5-4ce6-bf36-29c759c51eb6",
   "metadata": {},
   "outputs": [
    {
     "data": {
      "text/plain": [
       "Dict{String, Int64} with 4 entries:\n",
       "  \"Jyostna\" => 80\n",
       "  \"Suresh\"  => 87\n",
       "  \"Hemanth\" => 98\n",
       "  \"Ravi\"    => 85"
      ]
     },
     "execution_count": 79,
     "metadata": {},
     "output_type": "execute_result"
    }
   ],
   "source": [
    "delete!(studentgrades, \"Raghu\")"
   ]
  },
  {
   "cell_type": "code",
   "execution_count": 80,
   "id": "e169a476-9bd3-4204-9a6a-e8910b841537",
   "metadata": {},
   "outputs": [
    {
     "ename": "LoadError",
     "evalue": "UndefVarError: `delete` not defined",
     "output_type": "error",
     "traceback": [
      "UndefVarError: `delete` not defined",
      "",
      "Stacktrace:",
      " [1] top-level scope",
      "   @ In[80]:1"
     ]
    }
   ],
   "source": [
    "delete(studentgrades, \"Raghu\") # can't do this"
   ]
  },
  {
   "cell_type": "code",
   "execution_count": 82,
   "id": "3333829e-8d60-4345-837c-8a98e6712aa9",
   "metadata": {},
   "outputs": [
    {
     "data": {
      "text/plain": [
       "Dict{String, Int64} with 2 entries:\n",
       "  \"b\" => 6\n",
       "  \"a\" => 5"
      ]
     },
     "execution_count": 82,
     "metadata": {},
     "output_type": "execute_result"
    }
   ],
   "source": [
    "d1 = Dict(\"a\" => 5, \"b\" => 6)"
   ]
  },
  {
   "cell_type": "code",
   "execution_count": 83,
   "id": "70ac7da7-c5ae-445e-8682-d4f8c822950a",
   "metadata": {},
   "outputs": [
    {
     "data": {
      "text/plain": [
       "Dict{String, Int64} with 2 entries:\n",
       "  \"c\" => 8\n",
       "  \"d\" => 9"
      ]
     },
     "execution_count": 83,
     "metadata": {},
     "output_type": "execute_result"
    }
   ],
   "source": [
    "d2 = Dict(\"c\" => 8, \"d\" => 9)"
   ]
  },
  {
   "cell_type": "code",
   "execution_count": 84,
   "id": "11cf823e-2d0d-471b-8149-6d6e0ea5f611",
   "metadata": {},
   "outputs": [],
   "source": [
    "# merge 2 dicts"
   ]
  },
  {
   "cell_type": "code",
   "execution_count": 85,
   "id": "5338a34e-abc4-481a-a21c-4f27b460970e",
   "metadata": {},
   "outputs": [
    {
     "data": {
      "text/plain": [
       "Dict{String, Int64} with 4 entries:\n",
       "  \"c\" => 8\n",
       "  \"b\" => 6\n",
       "  \"a\" => 5\n",
       "  \"d\" => 9"
      ]
     },
     "execution_count": 85,
     "metadata": {},
     "output_type": "execute_result"
    }
   ],
   "source": [
    "merge(d1, d2)"
   ]
  },
  {
   "cell_type": "code",
   "execution_count": 86,
   "id": "f6eeeb66-ec1c-4d22-9535-3a03b52e0673",
   "metadata": {},
   "outputs": [
    {
     "data": {
      "text/plain": [
       "Dict{String, Int64} with 2 entries:\n",
       "  \"c\" => 8\n",
       "  \"d\" => 9"
      ]
     },
     "execution_count": 86,
     "metadata": {},
     "output_type": "execute_result"
    }
   ],
   "source": [
    "d1 = Dict(\"a\" => 5, \"b\" => 6, \"c\" => 8); d2 = Dict(\"c\" => 8, \"d\" => 9)"
   ]
  },
  {
   "cell_type": "code",
   "execution_count": 87,
   "id": "70d5e9fb-2354-4705-9a1e-07494d00ae03",
   "metadata": {},
   "outputs": [
    {
     "data": {
      "text/plain": [
       "Dict{String, Int64} with 4 entries:\n",
       "  \"c\" => 8\n",
       "  \"b\" => 6\n",
       "  \"a\" => 5\n",
       "  \"d\" => 9"
      ]
     },
     "execution_count": 87,
     "metadata": {},
     "output_type": "execute_result"
    }
   ],
   "source": [
    "merge(d1,d2)"
   ]
  },
  {
   "cell_type": "code",
   "execution_count": 88,
   "id": "75ed65aa-9580-4072-a613-e6ddf8b0e124",
   "metadata": {},
   "outputs": [
    {
     "data": {
      "text/plain": [
       "Dict{String, Int64} with 4 entries:\n",
       "  \"c\" => 16\n",
       "  \"b\" => 6\n",
       "  \"a\" => 5\n",
       "  \"d\" => 9"
      ]
     },
     "execution_count": 88,
     "metadata": {},
     "output_type": "execute_result"
    }
   ],
   "source": [
    "mergewith(+, d1, d2) # if there are duplicates then they will add"
   ]
  },
  {
   "cell_type": "markdown",
   "id": "9052cc70-8288-4fc2-a004-904a79961507",
   "metadata": {},
   "source": [
    "# Range"
   ]
  },
  {
   "cell_type": "code",
   "execution_count": 89,
   "id": "22475faf-b371-45fe-977c-41388315cc4b",
   "metadata": {},
   "outputs": [
    {
     "data": {
      "text/plain": [
       "1:10"
      ]
     },
     "execution_count": 89,
     "metadata": {},
     "output_type": "execute_result"
    }
   ],
   "source": [
    "1:10"
   ]
  },
  {
   "cell_type": "code",
   "execution_count": 90,
   "id": "cd5d4784-a3f5-498d-8f11-dfc0c65fc8cf",
   "metadata": {},
   "outputs": [
    {
     "data": {
      "text/plain": [
       "1:10"
      ]
     },
     "execution_count": 90,
     "metadata": {},
     "output_type": "execute_result"
    }
   ],
   "source": [
    "a = 1:10"
   ]
  },
  {
   "cell_type": "code",
   "execution_count": 91,
   "id": "41c6bf17-b6b1-4152-94a9-5f04ddac3ecf",
   "metadata": {},
   "outputs": [
    {
     "data": {
      "text/plain": [
       "1"
      ]
     },
     "execution_count": 91,
     "metadata": {},
     "output_type": "execute_result"
    }
   ],
   "source": [
    "a[1]"
   ]
  },
  {
   "cell_type": "code",
   "execution_count": 92,
   "id": "1714c52b-1900-4597-bca1-f2708154711c",
   "metadata": {},
   "outputs": [
    {
     "data": {
      "text/plain": [
       "2"
      ]
     },
     "execution_count": 92,
     "metadata": {},
     "output_type": "execute_result"
    }
   ],
   "source": [
    "a[2]"
   ]
  },
  {
   "cell_type": "code",
   "execution_count": 93,
   "id": "424c6064-3c2f-426e-89bc-7f186b1c28d4",
   "metadata": {},
   "outputs": [
    {
     "data": {
      "text/plain": [
       "UnitRange{Int64}"
      ]
     },
     "execution_count": 93,
     "metadata": {},
     "output_type": "execute_result"
    }
   ],
   "source": [
    "typeof(a)"
   ]
  },
  {
   "cell_type": "code",
   "execution_count": 94,
   "id": "ee1b5d89-02f5-4469-b3a3-1fb0cc1215d6",
   "metadata": {},
   "outputs": [
    {
     "data": {
      "text/plain": [
       "10-element Vector{Int64}:\n",
       "  1\n",
       "  2\n",
       "  3\n",
       "  4\n",
       "  5\n",
       "  6\n",
       "  7\n",
       "  8\n",
       "  9\n",
       " 10"
      ]
     },
     "execution_count": 94,
     "metadata": {},
     "output_type": "execute_result"
    }
   ],
   "source": [
    "collect(a)"
   ]
  },
  {
   "cell_type": "code",
   "execution_count": 96,
   "id": "cb6c9ad3-c283-4dd9-98b3-1b78383f5ebf",
   "metadata": {},
   "outputs": [
    {
     "data": {
      "text/plain": [
       "16"
      ]
     },
     "execution_count": 96,
     "metadata": {},
     "output_type": "execute_result"
    }
   ],
   "source": [
    "sizeof(a)"
   ]
  },
  {
   "cell_type": "code",
   "execution_count": 97,
   "id": "8e745d69-c0c7-4470-b351-a56f1689c439",
   "metadata": {},
   "outputs": [
    {
     "data": {
      "text/plain": [
       "80"
      ]
     },
     "execution_count": 97,
     "metadata": {},
     "output_type": "execute_result"
    }
   ],
   "source": [
    "sizeof(collect(a)) # collect increases the memory"
   ]
  },
  {
   "cell_type": "code",
   "execution_count": 98,
   "id": "09dba064-0f5a-4638-937f-f97f8e6b95a8",
   "metadata": {},
   "outputs": [
    {
     "data": {
      "text/plain": [
       "AbstractUnitRange{T} where T<:Real"
      ]
     },
     "execution_count": 98,
     "metadata": {},
     "output_type": "execute_result"
    }
   ],
   "source": [
    "supertype(UnitRange)"
   ]
  },
  {
   "cell_type": "code",
   "execution_count": 99,
   "id": "627e117b-00e4-45ee-8a8f-12ce4dab0cec",
   "metadata": {},
   "outputs": [
    {
     "data": {
      "text/plain": [
       "OrdinalRange{T, T} where T"
      ]
     },
     "execution_count": 99,
     "metadata": {},
     "output_type": "execute_result"
    }
   ],
   "source": [
    "supertype(AbstractUnitRange)"
   ]
  },
  {
   "cell_type": "code",
   "execution_count": 100,
   "id": "81677108-8afa-482c-b2bd-a846a45f9416",
   "metadata": {},
   "outputs": [
    {
     "data": {
      "text/plain": [
       "AbstractRange"
      ]
     },
     "execution_count": 100,
     "metadata": {},
     "output_type": "execute_result"
    }
   ],
   "source": [
    "supertype(OrdinalRange)"
   ]
  },
  {
   "cell_type": "code",
   "execution_count": 101,
   "id": "9d3d3040-dd00-414f-aea2-5ad60c330238",
   "metadata": {},
   "outputs": [
    {
     "data": {
      "text/plain": [
       "AbstractVector\u001b[90m (alias for \u001b[39m\u001b[90mAbstractArray{T, 1} where T\u001b[39m\u001b[90m)\u001b[39m"
      ]
     },
     "execution_count": 101,
     "metadata": {},
     "output_type": "execute_result"
    }
   ],
   "source": [
    "supertype(AbstractRange)"
   ]
  },
  {
   "cell_type": "code",
   "execution_count": 102,
   "id": "da3ba208-d60e-486c-866c-d213ccf02bf8",
   "metadata": {},
   "outputs": [
    {
     "data": {
      "text/plain": [
       "Any"
      ]
     },
     "execution_count": 102,
     "metadata": {},
     "output_type": "execute_result"
    }
   ],
   "source": [
    "supertype(AbstractVector)"
   ]
  },
  {
   "cell_type": "code",
   "execution_count": 103,
   "id": "2bc0d08d-e157-40af-bd45-4c0b9e51919a",
   "metadata": {},
   "outputs": [
    {
     "data": {
      "text/plain": [
       "(UnitRange, AbstractUnitRange{T} where T<:Real, OrdinalRange{T, T} where T<:Real, AbstractRange{T} where T<:Real, AbstractVector{T} where T<:Real, Any)"
      ]
     },
     "execution_count": 103,
     "metadata": {},
     "output_type": "execute_result"
    }
   ],
   "source": [
    "supertypes(UnitRange)"
   ]
  },
  {
   "cell_type": "code",
   "execution_count": 104,
   "id": "34780b65-9be9-42c0-91de-556bf0a45acd",
   "metadata": {},
   "outputs": [
    {
     "data": {
      "text/plain": [
       "1:2:19"
      ]
     },
     "execution_count": 104,
     "metadata": {},
     "output_type": "execute_result"
    }
   ],
   "source": [
    "# step size\n",
    "b = 1:2:20 # start from 1, end 20, increase by 2"
   ]
  },
  {
   "cell_type": "code",
   "execution_count": 105,
   "id": "46e32ef9-458c-4a55-b72d-fa7112005dc0",
   "metadata": {},
   "outputs": [
    {
     "data": {
      "text/plain": [
       "10-element Vector{Int64}:\n",
       "  1\n",
       "  3\n",
       "  5\n",
       "  7\n",
       "  9\n",
       " 11\n",
       " 13\n",
       " 15\n",
       " 17\n",
       " 19"
      ]
     },
     "execution_count": 105,
     "metadata": {},
     "output_type": "execute_result"
    }
   ],
   "source": [
    "collect(b)"
   ]
  },
  {
   "cell_type": "code",
   "execution_count": 106,
   "id": "95bb404b-9afc-4447-b0c5-d35d3cc637c2",
   "metadata": {},
   "outputs": [],
   "source": [
    "# decreasing range"
   ]
  },
  {
   "cell_type": "code",
   "execution_count": 107,
   "id": "81983aa0-f421-4a07-9f14-e5ed24cbb262",
   "metadata": {},
   "outputs": [
    {
     "data": {
      "text/plain": [
       "20:-2:2"
      ]
     },
     "execution_count": 107,
     "metadata": {},
     "output_type": "execute_result"
    }
   ],
   "source": [
    "c = 20:-2:1"
   ]
  },
  {
   "cell_type": "code",
   "execution_count": 109,
   "id": "291b739a-406e-4ba8-8b85-a3d087129522",
   "metadata": {},
   "outputs": [
    {
     "data": {
      "text/plain": [
       "-3.0:0.1:0.3"
      ]
     },
     "execution_count": 109,
     "metadata": {},
     "output_type": "execute_result"
    }
   ],
   "source": [
    "-3.0:0.1:0.3"
   ]
  },
  {
   "cell_type": "code",
   "execution_count": 110,
   "id": "603aeee6-9be3-4580-a2aa-6aa65ff1696e",
   "metadata": {},
   "outputs": [
    {
     "data": {
      "text/plain": [
       "1:2:19"
      ]
     },
     "execution_count": 110,
     "metadata": {},
     "output_type": "execute_result"
    }
   ],
   "source": [
    "range(start=1, step=2, stop=20)"
   ]
  },
  {
   "cell_type": "code",
   "execution_count": 111,
   "id": "ba369899-5c42-445e-9354-3e53fbaf0071",
   "metadata": {},
   "outputs": [
    {
     "data": {
      "text/plain": [
       "5:20"
      ]
     },
     "execution_count": 111,
     "metadata": {},
     "output_type": "execute_result"
    }
   ],
   "source": [
    "range(5, stop=20)"
   ]
  },
  {
   "cell_type": "code",
   "execution_count": 114,
   "id": "3ddeb00a-a283-43e7-93f7-cbc751ab5002",
   "metadata": {},
   "outputs": [
    {
     "data": {
      "text/plain": [
       "-3:2:3"
      ]
     },
     "execution_count": 114,
     "metadata": {},
     "output_type": "execute_result"
    }
   ],
   "source": [
    "range(-3,3,step=2)"
   ]
  },
  {
   "cell_type": "code",
   "execution_count": 115,
   "id": "42e1616e-3149-4edd-a44d-c5bdebb8edc7",
   "metadata": {},
   "outputs": [
    {
     "data": {
      "text/plain": [
       "100-element LinRange{Float64, Int64}:\n",
       " 10.0, 18.9899, 27.9798, 36.9697, 45.9596, …, 873.03, 882.02, 891.01, 900.0"
      ]
     },
     "execution_count": 115,
     "metadata": {},
     "output_type": "execute_result"
    }
   ],
   "source": [
    "LinRange(10,900,100)"
   ]
  },
  {
   "cell_type": "markdown",
   "id": "3d9adc82-a765-4257-8d52-fa5cb3a8eb72",
   "metadata": {},
   "source": [
    "# Arrays "
   ]
  },
  {
   "cell_type": "code",
   "execution_count": 116,
   "id": "98d9a44f-feb6-485f-a844-2fa030bcf789",
   "metadata": {},
   "outputs": [],
   "source": [
    "# Same as lists in python"
   ]
  },
  {
   "cell_type": "code",
   "execution_count": 117,
   "id": "1f6c26c2-8ed6-4af7-840c-9d0cb25add29",
   "metadata": {},
   "outputs": [
    {
     "data": {
      "text/plain": [
       "3-element Vector{Int64}:\n",
       " 1\n",
       " 2\n",
       " 3"
      ]
     },
     "execution_count": 117,
     "metadata": {},
     "output_type": "execute_result"
    }
   ],
   "source": [
    "arr = [1,2,3]"
   ]
  },
  {
   "cell_type": "code",
   "execution_count": 122,
   "id": "86e14736-a8e1-44c6-b0b9-59ae596e2d30",
   "metadata": {},
   "outputs": [
    {
     "data": {
      "text/plain": [
       "3-element Vector{Any}:\n",
       " 1\n",
       "  \"Hemanth\"\n",
       " 2.3"
      ]
     },
     "execution_count": 122,
     "metadata": {},
     "output_type": "execute_result"
    }
   ],
   "source": [
    "arr1 = [1,\"Hemanth\",2.3]"
   ]
  },
  {
   "cell_type": "code",
   "execution_count": 123,
   "id": "04896d1a-0faa-4c2f-942b-323c652e5c35",
   "metadata": {},
   "outputs": [
    {
     "data": {
      "text/plain": [
       "Vector{Any}\u001b[90m (alias for \u001b[39m\u001b[90mArray{Any, 1}\u001b[39m\u001b[90m)\u001b[39m"
      ]
     },
     "execution_count": 123,
     "metadata": {},
     "output_type": "execute_result"
    }
   ],
   "source": [
    "typeof(arr1)"
   ]
  },
  {
   "cell_type": "code",
   "execution_count": 124,
   "id": "bee17d2a-a87d-4025-b4fb-1a6b53c87434",
   "metadata": {},
   "outputs": [
    {
     "data": {
      "text/plain": [
       "1"
      ]
     },
     "execution_count": 124,
     "metadata": {},
     "output_type": "execute_result"
    }
   ],
   "source": [
    "arr1[1]"
   ]
  },
  {
   "cell_type": "code",
   "execution_count": 125,
   "id": "fe259a8a-b034-405c-9a51-18429aa0c6f7",
   "metadata": {},
   "outputs": [
    {
     "data": {
      "text/plain": [
       "3-element Vector{Any}:\n",
       " 1\n",
       "  \"Hemanth\"\n",
       " 2.3"
      ]
     },
     "execution_count": 125,
     "metadata": {},
     "output_type": "execute_result"
    }
   ],
   "source": [
    "arr1[1:3]"
   ]
  },
  {
   "cell_type": "code",
   "execution_count": 139,
   "id": "5e6af38a-4b1c-442a-a6d5-bbc208198a80",
   "metadata": {},
   "outputs": [
    {
     "data": {
      "text/plain": [
       "4-element Vector{Any}:\n",
       " 1\n",
       "  \"Hemanth\"\n",
       " 2.3\n",
       " 5"
      ]
     },
     "execution_count": 139,
     "metadata": {},
     "output_type": "execute_result"
    }
   ],
   "source": [
    "arr1[1:end]"
   ]
  },
  {
   "cell_type": "code",
   "execution_count": 140,
   "id": "44869108-e86f-42ef-87a8-b1d8e385f025",
   "metadata": {},
   "outputs": [
    {
     "data": {
      "text/plain": [
       "3-element Vector{Int64}:\n",
       " 1\n",
       " 2\n",
       " 3"
      ]
     },
     "execution_count": 140,
     "metadata": {},
     "output_type": "execute_result"
    }
   ],
   "source": [
    "arr[:]"
   ]
  },
  {
   "cell_type": "code",
   "execution_count": null,
   "id": "9f5b3a11-d0b3-4c79-af61-dd67bd21666c",
   "metadata": {},
   "outputs": [],
   "source": []
  },
  {
   "cell_type": "code",
   "execution_count": 143,
   "id": "17bb04bd-4f97-4527-8bfc-564b301567e1",
   "metadata": {},
   "outputs": [
    {
     "data": {
      "text/plain": [
       "2-element Vector{Int64}:\n",
       " 4\n",
       " 8"
      ]
     },
     "execution_count": 143,
     "metadata": {},
     "output_type": "execute_result"
    }
   ],
   "source": [
    "arr1[3:4] = [4,8]"
   ]
  },
  {
   "cell_type": "code",
   "execution_count": 144,
   "id": "b909f689-eeae-45f6-b82d-f7b7e50fcb92",
   "metadata": {},
   "outputs": [
    {
     "data": {
      "text/plain": [
       "4-element Vector{Any}:\n",
       " 1\n",
       "  \"Hemanth\"\n",
       " 4\n",
       " 8"
      ]
     },
     "execution_count": 144,
     "metadata": {},
     "output_type": "execute_result"
    }
   ],
   "source": [
    "arr1"
   ]
  },
  {
   "cell_type": "code",
   "execution_count": 128,
   "id": "68b7da41-cdaa-4440-96be-45b4d6a73782",
   "metadata": {},
   "outputs": [
    {
     "data": {
      "text/plain": [
       "4-element Vector{Any}:\n",
       " 1\n",
       "  \"Hemanth\"\n",
       " 2.3\n",
       " 5"
      ]
     },
     "execution_count": 128,
     "metadata": {},
     "output_type": "execute_result"
    }
   ],
   "source": [
    "# add elements to array\n",
    "push!(arr1, 5)"
   ]
  },
  {
   "cell_type": "code",
   "execution_count": 153,
   "id": "d5868480-20eb-4960-b4af-a4d18ae10b8d",
   "metadata": {},
   "outputs": [
    {
     "data": {
      "text/plain": [
       "6-element Vector{Any}:\n",
       "  1\n",
       "   \"Hemanth\"\n",
       "  4\n",
       "  8\n",
       "  9\n",
       " 10"
      ]
     },
     "execution_count": 153,
     "metadata": {},
     "output_type": "execute_result"
    }
   ],
   "source": [
    "# append another array\n",
    "append!(arr1, [9,10])"
   ]
  },
  {
   "cell_type": "code",
   "execution_count": 154,
   "id": "6d3a1a6d-a794-46cc-91e6-e747832dd374",
   "metadata": {},
   "outputs": [
    {
     "data": {
      "text/plain": [
       "6-element Vector{Any}:\n",
       "  1\n",
       "   \"Hemanth\"\n",
       "  4\n",
       "  8\n",
       "  9\n",
       " 10"
      ]
     },
     "execution_count": 154,
     "metadata": {},
     "output_type": "execute_result"
    }
   ],
   "source": [
    "arr1"
   ]
  },
  {
   "cell_type": "code",
   "execution_count": 157,
   "id": "4dd6dcfd-517f-4caa-b402-cbc782fc6223",
   "metadata": {},
   "outputs": [
    {
     "data": {
      "text/plain": [
       "5-element Vector{Any}:\n",
       " 1\n",
       "  \"Hemanth\"\n",
       " 4\n",
       " 8\n",
       " 9"
      ]
     },
     "execution_count": 157,
     "metadata": {},
     "output_type": "execute_result"
    }
   ],
   "source": [
    "# delete element at given index\n",
    "deleteat!(arr1, 6)"
   ]
  },
  {
   "cell_type": "code",
   "execution_count": 158,
   "id": "e59cce9b-5ff1-4bce-af3b-75389d5547bd",
   "metadata": {},
   "outputs": [
    {
     "data": {
      "text/plain": [
       "3-element Vector{Any}:\n",
       " 1\n",
       " 8\n",
       " 9"
      ]
     },
     "execution_count": 158,
     "metadata": {},
     "output_type": "execute_result"
    }
   ],
   "source": [
    "deleteat!(arr1, [2,3])"
   ]
  },
  {
   "cell_type": "code",
   "execution_count": 160,
   "id": "a5b3509d-4b7e-4cd3-9b0b-59451915840f",
   "metadata": {},
   "outputs": [
    {
     "data": {
      "text/plain": [
       "9"
      ]
     },
     "execution_count": 160,
     "metadata": {},
     "output_type": "execute_result"
    }
   ],
   "source": [
    "pop!(arr1) # delete last element"
   ]
  },
  {
   "cell_type": "code",
   "execution_count": 161,
   "id": "ffe8d6c6-ae3d-4e49-aea6-84b9d1d25f9a",
   "metadata": {},
   "outputs": [
    {
     "data": {
      "text/plain": [
       "2-element Vector{Any}:\n",
       " 1\n",
       " 8"
      ]
     },
     "execution_count": 161,
     "metadata": {},
     "output_type": "execute_result"
    }
   ],
   "source": [
    "arr1"
   ]
  },
  {
   "cell_type": "code",
   "execution_count": 162,
   "id": "e8d0ef82-2041-4f29-881b-52a99e5bb49f",
   "metadata": {},
   "outputs": [
    {
     "data": {
      "text/plain": [
       "3-element Vector{Any}:\n",
       " 2\n",
       " 1\n",
       " 8"
      ]
     },
     "execution_count": 162,
     "metadata": {},
     "output_type": "execute_result"
    }
   ],
   "source": [
    "# insert new element at given index\n",
    "insert!(arr1,1,2) # insert 2 at index 1"
   ]
  },
  {
   "cell_type": "code",
   "execution_count": 163,
   "id": "51c4f52f-0e6c-41cf-b67f-ec65b7dfee08",
   "metadata": {},
   "outputs": [
    {
     "data": {
      "text/plain": [
       "2-element Vector{SubString{String}}:\n",
       " \"Julia\"\n",
       " \" Python\""
      ]
     },
     "execution_count": 163,
     "metadata": {},
     "output_type": "execute_result"
    }
   ],
   "source": [
    "# same as str.split in python.\n",
    "str = \"Julia, Python\"\n",
    "split(str,\",\")"
   ]
  },
  {
   "cell_type": "code",
   "execution_count": 130,
   "id": "50b44d5f-a1ee-41be-9b6d-809a85736419",
   "metadata": {},
   "outputs": [],
   "source": [
    "# create same type of array"
   ]
  },
  {
   "cell_type": "code",
   "execution_count": 131,
   "id": "67b72868-4fe6-4527-a85e-5a43627af881",
   "metadata": {},
   "outputs": [
    {
     "data": {
      "text/plain": [
       "3-element Vector{Float64}:\n",
       " 2.3\n",
       " 4.5\n",
       " 6.7"
      ]
     },
     "execution_count": 131,
     "metadata": {},
     "output_type": "execute_result"
    }
   ],
   "source": [
    "arr3 = Float64[2.3,4.5,6.7]"
   ]
  },
  {
   "cell_type": "code",
   "execution_count": 132,
   "id": "474ce249-8016-4ac5-b380-aebfd11b18e1",
   "metadata": {},
   "outputs": [
    {
     "data": {
      "text/plain": [
       "3"
      ]
     },
     "execution_count": 132,
     "metadata": {},
     "output_type": "execute_result"
    }
   ],
   "source": [
    "arr3[3] = 3"
   ]
  },
  {
   "cell_type": "code",
   "execution_count": 133,
   "id": "a7092ef0-ff8a-4b32-bf46-88c2c79ae06f",
   "metadata": {},
   "outputs": [
    {
     "data": {
      "text/plain": [
       "3-element Vector{Float64}:\n",
       " 2.3\n",
       " 4.5\n",
       " 3.0"
      ]
     },
     "execution_count": 133,
     "metadata": {},
     "output_type": "execute_result"
    }
   ],
   "source": [
    "arr3 # automaticlly converted to float"
   ]
  },
  {
   "cell_type": "code",
   "execution_count": 135,
   "id": "f5502167-2a82-44bf-ae4b-5bf353779781",
   "metadata": {},
   "outputs": [
    {
     "data": {
      "text/plain": [
       "4-element Vector{Any}:\n",
       " 1\n",
       " 2\n",
       "  \"Hemanth\"\n",
       "  [2, 3, 4]"
      ]
     },
     "execution_count": 135,
     "metadata": {},
     "output_type": "execute_result"
    }
   ],
   "source": [
    "arr4 = [1,2,\"Hemanth\",[2,3,4]]"
   ]
  },
  {
   "cell_type": "code",
   "execution_count": 136,
   "id": "c2dd0521-7e2a-4507-a278-0f011b1ef720",
   "metadata": {},
   "outputs": [
    {
     "data": {
      "text/plain": [
       "3-element Vector{Int64}:\n",
       " 2\n",
       " 3\n",
       " 4"
      ]
     },
     "execution_count": 136,
     "metadata": {},
     "output_type": "execute_result"
    }
   ],
   "source": [
    "arr4[4]"
   ]
  },
  {
   "cell_type": "code",
   "execution_count": 137,
   "id": "1e3daaf7-202a-4eaa-9c80-35504892c0ed",
   "metadata": {},
   "outputs": [
    {
     "data": {
      "text/plain": [
       "2"
      ]
     },
     "execution_count": 137,
     "metadata": {},
     "output_type": "execute_result"
    }
   ],
   "source": [
    "arr4[4][1]"
   ]
  },
  {
   "cell_type": "code",
   "execution_count": 118,
   "id": "fd3ef524-fe39-48fa-a804-6cebf584c37d",
   "metadata": {},
   "outputs": [
    {
     "data": {
      "text/plain": [
       "2-element Vector{Vector{Int64}}:\n",
       " [1, 2, 3]\n",
       " [4, 5, 6]"
      ]
     },
     "execution_count": 118,
     "metadata": {},
     "output_type": "execute_result"
    }
   ],
   "source": [
    "arr2 = [[1,2,3],[4,5,6]]"
   ]
  },
  {
   "cell_type": "code",
   "execution_count": 120,
   "id": "79a24a7a-8814-4507-a288-48fa7b6d00d1",
   "metadata": {},
   "outputs": [
    {
     "data": {
      "text/plain": [
       "Vector{Int64}\u001b[90m (alias for \u001b[39m\u001b[90mArray{Int64, 1}\u001b[39m\u001b[90m)\u001b[39m"
      ]
     },
     "execution_count": 120,
     "metadata": {},
     "output_type": "execute_result"
    }
   ],
   "source": [
    "typeof(arr)"
   ]
  },
  {
   "cell_type": "code",
   "execution_count": 121,
   "id": "19c5b1ab-9a31-49fd-b4de-8b7c8f988800",
   "metadata": {},
   "outputs": [
    {
     "data": {
      "text/plain": [
       "Vector{Vector{Int64}}\u001b[90m (alias for \u001b[39m\u001b[90mArray{Array{Int64, 1}, 1}\u001b[39m\u001b[90m)\u001b[39m"
      ]
     },
     "execution_count": 121,
     "metadata": {},
     "output_type": "execute_result"
    }
   ],
   "source": [
    "typeof(arr2)"
   ]
  },
  {
   "cell_type": "code",
   "execution_count": 145,
   "id": "7582de45-7405-492a-826b-23d1768ad573",
   "metadata": {},
   "outputs": [],
   "source": [
    "# check elements in array"
   ]
  },
  {
   "cell_type": "code",
   "execution_count": 146,
   "id": "2020cfba-5c75-46a3-afba-a44c43f32ff3",
   "metadata": {},
   "outputs": [
    {
     "data": {
      "text/plain": [
       "true"
      ]
     },
     "execution_count": 146,
     "metadata": {},
     "output_type": "execute_result"
    }
   ],
   "source": [
    "4 ∈ arr1"
   ]
  },
  {
   "cell_type": "code",
   "execution_count": 147,
   "id": "b4e376b7-098e-43aa-abe5-e7a0c8a56679",
   "metadata": {},
   "outputs": [
    {
     "data": {
      "text/plain": [
       "false"
      ]
     },
     "execution_count": 147,
     "metadata": {},
     "output_type": "execute_result"
    }
   ],
   "source": [
    "issubset(arr1, arr2)"
   ]
  },
  {
   "cell_type": "code",
   "execution_count": 148,
   "id": "e3705c0a-0529-4f70-9049-e7380c180e38",
   "metadata": {},
   "outputs": [
    {
     "data": {
      "text/plain": [
       "true"
      ]
     },
     "execution_count": 148,
     "metadata": {},
     "output_type": "execute_result"
    }
   ],
   "source": [
    "issubset([4,8], arr1)"
   ]
  },
  {
   "cell_type": "code",
   "execution_count": 149,
   "id": "0bee0bd3-4c5e-41e9-a2c4-9a0a09a16186",
   "metadata": {},
   "outputs": [
    {
     "data": {
      "text/plain": [
       "true"
      ]
     },
     "execution_count": 149,
     "metadata": {},
     "output_type": "execute_result"
    }
   ],
   "source": [
    "[4,8] ⊆ arr1 # \\subseteq TAB same as above"
   ]
  },
  {
   "cell_type": "code",
   "execution_count": 150,
   "id": "8bcb0da3-9a33-412b-95b7-b51389c472a4",
   "metadata": {},
   "outputs": [
    {
     "data": {
      "text/plain": [
       "true"
      ]
     },
     "execution_count": 150,
     "metadata": {},
     "output_type": "execute_result"
    }
   ],
   "source": [
    "[4,8] ⊊ arr1 # \\subsetneq TAB "
   ]
  },
  {
   "cell_type": "code",
   "execution_count": 152,
   "id": "d48f94a0-e29d-4fa6-8677-9e7a9d326eed",
   "metadata": {},
   "outputs": [
    {
     "data": {
      "text/plain": [
       "true"
      ]
     },
     "execution_count": 152,
     "metadata": {},
     "output_type": "execute_result"
    }
   ],
   "source": [
    "arr1 ⊇ [4,8] # \\supseteq TAB superset"
   ]
  },
  {
   "cell_type": "markdown",
   "id": "60afbe05-ab16-48e6-83d2-984e344e0f67",
   "metadata": {},
   "source": [
    "# Vectors and arrays"
   ]
  },
  {
   "cell_type": "code",
   "execution_count": 1,
   "id": "3a5b38cc-df4b-44e9-a43f-c5fe98aff883",
   "metadata": {},
   "outputs": [
    {
     "data": {
      "text/plain": [
       "3-element Vector{Int64}:\n",
       " 1\n",
       " 2\n",
       " 3"
      ]
     },
     "execution_count": 1,
     "metadata": {},
     "output_type": "execute_result"
    }
   ],
   "source": [
    "[1; 2; 3]"
   ]
  },
  {
   "cell_type": "code",
   "execution_count": 3,
   "id": "08c54f6b-ef24-4263-beb7-41740213ddca",
   "metadata": {},
   "outputs": [
    {
     "data": {
      "text/plain": [
       "1×3 Matrix{Int64}:\n",
       " 1  2  3"
      ]
     },
     "execution_count": 3,
     "metadata": {},
     "output_type": "execute_result"
    }
   ],
   "source": [
    "[1 2 3]"
   ]
  },
  {
   "cell_type": "code",
   "execution_count": 2,
   "id": "7f2046e4-31fb-4eba-a80d-91066be0d5fe",
   "metadata": {},
   "outputs": [
    {
     "data": {
      "text/plain": [
       "3×3 Matrix{Int64}:\n",
       " 1  2  3\n",
       " 4  5  6\n",
       " 7  8  9"
      ]
     },
     "execution_count": 2,
     "metadata": {},
     "output_type": "execute_result"
    }
   ],
   "source": [
    "[1 2 3; 4 5 6; 7 8 9]"
   ]
  },
  {
   "cell_type": "code",
   "execution_count": 4,
   "id": "9ff16159-0564-463d-b28e-b3941dda6e8f",
   "metadata": {},
   "outputs": [
    {
     "data": {
      "text/plain": [
       "3×3 Matrix{Int64}:\n",
       " 1  2  3\n",
       " 4  5  6\n",
       " 7  8  9"
      ]
     },
     "execution_count": 4,
     "metadata": {},
     "output_type": "execute_result"
    }
   ],
   "source": [
    "[1 2 3\n",
    "4 5 6\n",
    "7 8 9]"
   ]
  },
  {
   "cell_type": "code",
   "execution_count": 5,
   "id": "b6409123-3020-4a65-9388-7ff020a14ee6",
   "metadata": {},
   "outputs": [
    {
     "data": {
      "text/plain": [
       "3×3 Matrix{Int64}:\n",
       " 1  2  3\n",
       " 4  5  6\n",
       " 7  8  9"
      ]
     },
     "execution_count": 5,
     "metadata": {},
     "output_type": "execute_result"
    }
   ],
   "source": [
    "mtr = [1 2 3; 4 5 6; 7 8 9]"
   ]
  },
  {
   "cell_type": "code",
   "execution_count": 6,
   "id": "2cf25181-345b-4b00-8bb1-0d5532cf6ca4",
   "metadata": {},
   "outputs": [
    {
     "data": {
      "text/plain": [
       "2"
      ]
     },
     "execution_count": 6,
     "metadata": {},
     "output_type": "execute_result"
    }
   ],
   "source": [
    "ndims(mtr)"
   ]
  },
  {
   "cell_type": "code",
   "execution_count": 7,
   "id": "87258fa1-7376-4185-bd37-c860c17ea4d4",
   "metadata": {},
   "outputs": [
    {
     "data": {
      "text/plain": [
       "(3, 3)"
      ]
     },
     "execution_count": 7,
     "metadata": {},
     "output_type": "execute_result"
    }
   ],
   "source": [
    "size(mtr)"
   ]
  },
  {
   "cell_type": "code",
   "execution_count": 8,
   "id": "49d304e2-832e-4864-bb5c-c7e86c2259e9",
   "metadata": {},
   "outputs": [
    {
     "data": {
      "text/plain": [
       "3"
      ]
     },
     "execution_count": 8,
     "metadata": {},
     "output_type": "execute_result"
    }
   ],
   "source": [
    "size(mtr,1)"
   ]
  },
  {
   "cell_type": "code",
   "execution_count": 9,
   "id": "8a022479-455c-4c0d-8047-c4fcb1bd00cd",
   "metadata": {},
   "outputs": [
    {
     "data": {
      "text/plain": [
       "3"
      ]
     },
     "execution_count": 9,
     "metadata": {},
     "output_type": "execute_result"
    }
   ],
   "source": [
    "size(mtr,2)"
   ]
  },
  {
   "cell_type": "code",
   "execution_count": 10,
   "id": "74170676-7691-4319-961c-97a7f411f258",
   "metadata": {},
   "outputs": [
    {
     "data": {
      "text/plain": [
       "9"
      ]
     },
     "execution_count": 10,
     "metadata": {},
     "output_type": "execute_result"
    }
   ],
   "source": [
    "length(mtr)"
   ]
  },
  {
   "cell_type": "markdown",
   "id": "541e670e-0c75-4286-b0f8-b4fc5f1a16c9",
   "metadata": {},
   "source": [
    "### indexing and slicing"
   ]
  },
  {
   "cell_type": "code",
   "execution_count": 13,
   "id": "a5e85661-d0bb-4cab-abe0-5fdd8afaa5e9",
   "metadata": {},
   "outputs": [
    {
     "data": {
      "text/plain": [
       "3×3 Matrix{Int64}:\n",
       " 1  2  3\n",
       " 4  5  6\n",
       " 7  8  9"
      ]
     },
     "execution_count": 13,
     "metadata": {},
     "output_type": "execute_result"
    }
   ],
   "source": [
    "mtr"
   ]
  },
  {
   "cell_type": "code",
   "execution_count": 11,
   "id": "3f007efc-7eaa-4000-8988-e9fca7da4245",
   "metadata": {},
   "outputs": [
    {
     "data": {
      "text/plain": [
       "1"
      ]
     },
     "execution_count": 11,
     "metadata": {},
     "output_type": "execute_result"
    }
   ],
   "source": [
    "mtr[1]"
   ]
  },
  {
   "cell_type": "code",
   "execution_count": 12,
   "id": "5d8f3102-3d7a-4c4b-bb78-22e1bd63dda0",
   "metadata": {},
   "outputs": [
    {
     "data": {
      "text/plain": [
       "4"
      ]
     },
     "execution_count": 12,
     "metadata": {},
     "output_type": "execute_result"
    }
   ],
   "source": [
    "mtr[2]"
   ]
  },
  {
   "cell_type": "code",
   "execution_count": 14,
   "id": "6cc216ce-2a7a-4b36-8086-cd16e64eb32b",
   "metadata": {},
   "outputs": [
    {
     "data": {
      "text/plain": [
       "1"
      ]
     },
     "execution_count": 14,
     "metadata": {},
     "output_type": "execute_result"
    }
   ],
   "source": [
    "mtr[1,1]"
   ]
  },
  {
   "cell_type": "code",
   "execution_count": 15,
   "id": "36808359-6ebe-41fc-81c6-f9c17f7bc3e8",
   "metadata": {},
   "outputs": [
    {
     "data": {
      "text/plain": [
       "2"
      ]
     },
     "execution_count": 15,
     "metadata": {},
     "output_type": "execute_result"
    }
   ],
   "source": [
    "mtr[1,2]"
   ]
  },
  {
   "cell_type": "code",
   "execution_count": 16,
   "id": "96261939-6bd7-4ed5-8960-7fe5f9164453",
   "metadata": {},
   "outputs": [
    {
     "data": {
      "text/plain": [
       "3"
      ]
     },
     "execution_count": 16,
     "metadata": {},
     "output_type": "execute_result"
    }
   ],
   "source": [
    "mtr[1,3]"
   ]
  },
  {
   "cell_type": "code",
   "execution_count": 17,
   "id": "b07ebe4f-46d4-4a43-9479-6f0196ccebe8",
   "metadata": {},
   "outputs": [
    {
     "data": {
      "text/plain": [
       "4"
      ]
     },
     "execution_count": 17,
     "metadata": {},
     "output_type": "execute_result"
    }
   ],
   "source": [
    "row = 2\n",
    "col = 1\n",
    "mtr[row, col]"
   ]
  },
  {
   "cell_type": "code",
   "execution_count": 18,
   "id": "669a7566-8cae-4f33-ad57-1e26d292f970",
   "metadata": {},
   "outputs": [
    {
     "data": {
      "text/plain": [
       "2×2 Matrix{Int64}:\n",
       " 1  2\n",
       " 4  5"
      ]
     },
     "execution_count": 18,
     "metadata": {},
     "output_type": "execute_result"
    }
   ],
   "source": [
    "mtr[1:2,1:2]"
   ]
  },
  {
   "cell_type": "code",
   "execution_count": 19,
   "id": "b58cdeb0-f917-45a5-b915-97747a89e66e",
   "metadata": {},
   "outputs": [
    {
     "data": {
      "text/plain": [
       "3-element Vector{Int64}:\n",
       " 4\n",
       " 5\n",
       " 6"
      ]
     },
     "execution_count": 19,
     "metadata": {},
     "output_type": "execute_result"
    }
   ],
   "source": [
    "# get second row\n",
    "mtr[2,:]"
   ]
  },
  {
   "cell_type": "code",
   "execution_count": 20,
   "id": "c66c6331-1fc4-4b7e-982f-6be9ff8830a1",
   "metadata": {},
   "outputs": [
    {
     "data": {
      "text/plain": [
       "3-element Vector{Int64}:\n",
       " 2\n",
       " 5\n",
       " 8"
      ]
     },
     "execution_count": 20,
     "metadata": {},
     "output_type": "execute_result"
    }
   ],
   "source": [
    "# get second column\n",
    "mtr[:,2]"
   ]
  },
  {
   "cell_type": "code",
   "execution_count": 21,
   "id": "17636e3a-5f3c-4708-b6e6-aaf620210a34",
   "metadata": {},
   "outputs": [
    {
     "data": {
      "text/plain": [
       "3-element Vector{Int64}:\n",
       " 7\n",
       " 8\n",
       " 9"
      ]
     },
     "execution_count": 21,
     "metadata": {},
     "output_type": "execute_result"
    }
   ],
   "source": [
    "col1 = [1,2,3]\n",
    "col2 = [4,5,6]\n",
    "col3 = [7,8,9]"
   ]
  },
  {
   "cell_type": "code",
   "execution_count": 23,
   "id": "8d2d02a9-32fb-4739-8110-fed1dcec6bfe",
   "metadata": {},
   "outputs": [
    {
     "data": {
      "text/plain": [
       "3×3 Matrix{Int64}:\n",
       " 1  4  7\n",
       " 2  5  8\n",
       " 3  6  9"
      ]
     },
     "execution_count": 23,
     "metadata": {},
     "output_type": "execute_result"
    }
   ],
   "source": [
    "hcat(col1,col2,col3)"
   ]
  },
  {
   "cell_type": "code",
   "execution_count": 24,
   "id": "203a26a1-3940-4b4c-8aed-7cd28156f58a",
   "metadata": {},
   "outputs": [
    {
     "data": {
      "text/plain": [
       "9-element Vector{Int64}:\n",
       " 1\n",
       " 2\n",
       " 3\n",
       " 4\n",
       " 5\n",
       " 6\n",
       " 7\n",
       " 8\n",
       " 9"
      ]
     },
     "execution_count": 24,
     "metadata": {},
     "output_type": "execute_result"
    }
   ],
   "source": [
    "vcat(col1,col2,col3)"
   ]
  },
  {
   "cell_type": "code",
   "execution_count": 26,
   "id": "d5badd54-9f44-4d04-937a-d2acf9b9bffa",
   "metadata": {},
   "outputs": [
    {
     "data": {
      "text/plain": [
       "3×3 Matrix{Int64}:\n",
       " 11  12  13\n",
       " 14  15  16\n",
       " 17  18  19"
      ]
     },
     "execution_count": 26,
     "metadata": {},
     "output_type": "execute_result"
    }
   ],
   "source": [
    "mtr2 = [11 12 13; 14 15 16; 17 18 19]"
   ]
  },
  {
   "cell_type": "code",
   "execution_count": 28,
   "id": "1411305d-e22e-401b-af39-dadc13cf18df",
   "metadata": {},
   "outputs": [
    {
     "data": {
      "text/plain": [
       "3×6 Matrix{Int64}:\n",
       " 1  2  3  11  12  13\n",
       " 4  5  6  14  15  16\n",
       " 7  8  9  17  18  19"
      ]
     },
     "execution_count": 28,
     "metadata": {},
     "output_type": "execute_result"
    }
   ],
   "source": [
    "hcat(mtr, mtr2)"
   ]
  },
  {
   "cell_type": "code",
   "execution_count": 29,
   "id": "99a0f04c-3758-43e4-99e8-219a0828dd28",
   "metadata": {},
   "outputs": [
    {
     "data": {
      "text/plain": [
       "6×3 Matrix{Int64}:\n",
       "  1   2   3\n",
       "  4   5   6\n",
       "  7   8   9\n",
       " 11  12  13\n",
       " 14  15  16\n",
       " 17  18  19"
      ]
     },
     "execution_count": 29,
     "metadata": {},
     "output_type": "execute_result"
    }
   ],
   "source": [
    "vcat(mtr, mtr2)"
   ]
  },
  {
   "cell_type": "code",
   "execution_count": 30,
   "id": "dc4f06b4-54a0-4c72-9f45-8f5b38937022",
   "metadata": {},
   "outputs": [
    {
     "data": {
      "text/plain": [
       "6×3 Matrix{Int64}:\n",
       "  1   2   3\n",
       "  4   5   6\n",
       "  7   8   9\n",
       " 11  12  13\n",
       " 14  15  16\n",
       " 17  18  19"
      ]
     },
     "execution_count": 30,
     "metadata": {},
     "output_type": "execute_result"
    }
   ],
   "source": [
    "[mtr; mtr2]"
   ]
  },
  {
   "cell_type": "code",
   "execution_count": 34,
   "id": "f090cf72-1791-41bb-9d3f-eb65129d9bdd",
   "metadata": {},
   "outputs": [
    {
     "data": {
      "text/plain": [
       "6×3 Matrix{Int64}:\n",
       "  1   2   3\n",
       "  4   5   6\n",
       "  7   8   9\n",
       " 11  12  13\n",
       " 14  15  16\n",
       " 17  18  19"
      ]
     },
     "execution_count": 34,
     "metadata": {},
     "output_type": "execute_result"
    }
   ],
   "source": [
    "[mtr \n",
    "mtr2]"
   ]
  },
  {
   "cell_type": "code",
   "execution_count": 33,
   "id": "fc23c136-d790-403e-8d63-02724b471991",
   "metadata": {},
   "outputs": [
    {
     "data": {
      "text/plain": [
       "3×6 Matrix{Int64}:\n",
       " 1  2  3  11  12  13\n",
       " 4  5  6  14  15  16\n",
       " 7  8  9  17  18  19"
      ]
     },
     "execution_count": 33,
     "metadata": {},
     "output_type": "execute_result"
    }
   ],
   "source": [
    "[mtr mtr2]"
   ]
  },
  {
   "cell_type": "code",
   "execution_count": 32,
   "id": "250fc1b5-76b3-4e0e-ac0b-bd83bbd55144",
   "metadata": {},
   "outputs": [
    {
     "data": {
      "text/plain": [
       "2-element Vector{Matrix{Int64}}:\n",
       " [1 2 3; 4 5 6; 7 8 9]\n",
       " [11 12 13; 14 15 16; 17 18 19]"
      ]
     },
     "execution_count": 32,
     "metadata": {},
     "output_type": "execute_result"
    }
   ],
   "source": [
    "[mtr, mtr2]"
   ]
  },
  {
   "cell_type": "markdown",
   "id": "d3c8ac73-4a48-4de7-a796-4655c3a4392a",
   "metadata": {},
   "source": [
    "### using datatypes in matrix"
   ]
  },
  {
   "cell_type": "code",
   "execution_count": 35,
   "id": "0fbf23ef-6a58-406c-9b9b-9147f0efd960",
   "metadata": {},
   "outputs": [
    {
     "data": {
      "text/plain": [
       "2×3 Matrix{Any}:\n",
       " #undef  #undef  #undef\n",
       " #undef  #undef  #undef"
      ]
     },
     "execution_count": 35,
     "metadata": {},
     "output_type": "execute_result"
    }
   ],
   "source": [
    "# create empty matrix\n",
    "emptymat = Matrix(undef, 2, 3)"
   ]
  },
  {
   "cell_type": "code",
   "execution_count": 37,
   "id": "e5b916af-388f-4abf-9205-b5a9b632c077",
   "metadata": {},
   "outputs": [
    {
     "data": {
      "text/plain": [
       "2×3 Matrix{Any}:\n",
       " #undef  #undef  #undef\n",
       " #undef  #undef  #undef"
      ]
     },
     "execution_count": 37,
     "metadata": {},
     "output_type": "execute_result"
    }
   ],
   "source": [
    "Matrix{Any}(undef, 2, 3)"
   ]
  },
  {
   "cell_type": "code",
   "execution_count": 38,
   "id": "6bd29a81-36d6-468b-8450-819b09f94b73",
   "metadata": {},
   "outputs": [
    {
     "data": {
      "text/plain": [
       "2×3 Matrix{Float64}:\n",
       " 1.38355e-311  1.38356e-311  1.38356e-311\n",
       " 1.38355e-311  1.38356e-311  1.38356e-311"
      ]
     },
     "execution_count": 38,
     "metadata": {},
     "output_type": "execute_result"
    }
   ],
   "source": [
    "Matrix{Float64}(undef, 2, 3)"
   ]
  },
  {
   "cell_type": "code",
   "execution_count": 39,
   "id": "72f60b74-d573-419d-9ed7-032155a0b76d",
   "metadata": {},
   "outputs": [
    {
     "data": {
      "text/plain": [
       "2×3 Matrix{Int64}:\n",
       " 2800365864528  140727078084752  140727076715744\n",
       " 2800373959392  140727162278880  140727162278880"
      ]
     },
     "execution_count": 39,
     "metadata": {},
     "output_type": "execute_result"
    }
   ],
   "source": [
    "Matrix{Int64}(undef, 2, 3)"
   ]
  },
  {
   "cell_type": "code",
   "execution_count": 40,
   "id": "9de2d8a7-04a9-47a7-af23-6a13bfae08d7",
   "metadata": {},
   "outputs": [
    {
     "data": {
      "text/plain": [
       "3×4 Matrix{Union{Int64, String}}:\n",
       " #undef  #undef  #undef  #undef\n",
       " #undef  #undef  #undef  #undef\n",
       " #undef  #undef  #undef  #undef"
      ]
     },
     "execution_count": 40,
     "metadata": {},
     "output_type": "execute_result"
    }
   ],
   "source": [
    "# accept 2 datatypes\n",
    "Matrix{Union{Int64, String}}(undef, 3, 4)"
   ]
  },
  {
   "cell_type": "code",
   "execution_count": 41,
   "id": "1a2a212f-a988-49f8-bef7-351738e75539",
   "metadata": {},
   "outputs": [
    {
     "data": {
      "text/plain": [
       "3×4 Matrix{Union{Int64, String}}:\n",
       " #undef  #undef  #undef  #undef\n",
       " #undef  #undef  #undef  #undef\n",
       " #undef  #undef  #undef  #undef"
      ]
     },
     "execution_count": 41,
     "metadata": {},
     "output_type": "execute_result"
    }
   ],
   "source": [
    "# accept 2 datatypes\n",
    "mtr3 = Matrix{Union{Int64, String}}(undef, 3, 4)"
   ]
  },
  {
   "cell_type": "code",
   "execution_count": 42,
   "id": "04ed34ba-502d-46a8-92ac-137856ebc7db",
   "metadata": {},
   "outputs": [
    {
     "data": {
      "text/plain": [
       "99"
      ]
     },
     "execution_count": 42,
     "metadata": {},
     "output_type": "execute_result"
    }
   ],
   "source": [
    "mtr3[2,3] = 99"
   ]
  },
  {
   "cell_type": "code",
   "execution_count": 44,
   "id": "c297e616-8186-4b9a-9a2d-1d59deb582ea",
   "metadata": {},
   "outputs": [
    {
     "data": {
      "text/plain": [
       "3×4 Matrix{Union{Int64, String}}:\n",
       " #undef  #undef  #undef  #undef\n",
       " #undef  #undef   99     #undef\n",
       " #undef  #undef  #undef  #undef"
      ]
     },
     "execution_count": 44,
     "metadata": {},
     "output_type": "execute_result"
    }
   ],
   "source": [
    "mtr3"
   ]
  },
  {
   "cell_type": "code",
   "execution_count": 45,
   "id": "d54ebb40-ebe3-4d1e-aca2-03f3a9846bd9",
   "metadata": {},
   "outputs": [
    {
     "data": {
      "text/plain": [
       "1"
      ]
     },
     "execution_count": 45,
     "metadata": {},
     "output_type": "execute_result"
    }
   ],
   "source": [
    "# insert first element\n",
    "mtr3[1,1] = 1"
   ]
  },
  {
   "cell_type": "code",
   "execution_count": 46,
   "id": "c60fa1d2-b6ce-44e1-a0e8-bf97a80fac95",
   "metadata": {},
   "outputs": [
    {
     "data": {
      "text/plain": [
       "2"
      ]
     },
     "execution_count": 46,
     "metadata": {},
     "output_type": "execute_result"
    }
   ],
   "source": [
    "# insert second element\n",
    "mtr3[1,2]  = 2"
   ]
  },
  {
   "cell_type": "code",
   "execution_count": 47,
   "id": "a70b93c6-4dba-4bde-bbcc-7c53f522a50c",
   "metadata": {},
   "outputs": [
    {
     "data": {
      "text/plain": [
       "3×4 Matrix{Union{Int64, String}}:\n",
       "   1       2     #undef  #undef\n",
       " #undef  #undef   99     #undef\n",
       " #undef  #undef  #undef  #undef"
      ]
     },
     "execution_count": 47,
     "metadata": {},
     "output_type": "execute_result"
    }
   ],
   "source": [
    "mtr3"
   ]
  },
  {
   "cell_type": "code",
   "execution_count": 48,
   "id": "18456598-a279-48e7-89a1-0c2ffa20b2fa",
   "metadata": {},
   "outputs": [
    {
     "data": {
      "text/plain": [
       "2×2 Matrix{Int64}:\n",
       " 3  4\n",
       " 5  6"
      ]
     },
     "execution_count": 48,
     "metadata": {},
     "output_type": "execute_result"
    }
   ],
   "source": [
    "# insert multiple elements\n",
    "mtr3[2:3,1:2] = [3 4; 5 6]"
   ]
  },
  {
   "cell_type": "code",
   "execution_count": 49,
   "id": "d81fbd68-f17a-45f2-9f32-d7fe0f2f6041",
   "metadata": {},
   "outputs": [
    {
     "data": {
      "text/plain": [
       "3×4 Matrix{Union{Int64, String}}:\n",
       " 1  2  #undef  #undef\n",
       " 3  4   99     #undef\n",
       " 5  6  #undef  #undef"
      ]
     },
     "execution_count": 49,
     "metadata": {},
     "output_type": "execute_result"
    }
   ],
   "source": [
    "mtr3"
   ]
  },
  {
   "cell_type": "code",
   "execution_count": 50,
   "id": "8c201987-6d46-456d-973e-11911c766397",
   "metadata": {},
   "outputs": [
    {
     "data": {
      "text/plain": [
       "\"Hemanth\""
      ]
     },
     "execution_count": 50,
     "metadata": {},
     "output_type": "execute_result"
    }
   ],
   "source": [
    "mtr3[1,3] = \"Hemanth\""
   ]
  },
  {
   "cell_type": "code",
   "execution_count": 51,
   "id": "9e847271-4a16-42ec-8b0e-f71a3e0e2b2e",
   "metadata": {},
   "outputs": [
    {
     "data": {
      "text/plain": [
       "3×4 Matrix{Union{Int64, String}}:\n",
       " 1  2     \"Hemanth\"  #undef\n",
       " 3  4   99           #undef\n",
       " 5  6  #undef        #undef"
      ]
     },
     "execution_count": 51,
     "metadata": {},
     "output_type": "execute_result"
    }
   ],
   "source": [
    "mtr3"
   ]
  },
  {
   "cell_type": "code",
   "execution_count": 52,
   "id": "2deaa949-7cd7-42ec-b97b-8ad66525bcff",
   "metadata": {},
   "outputs": [
    {
     "ename": "LoadError",
     "evalue": "MethodError: \u001b[0mCannot `convert` an object of type \n\u001b[0m  \u001b[92mFloat64\u001b[39m\u001b[0m to an object of type \n\u001b[0m  \u001b[91mUnion{Int64, String}\u001b[39m\n\n\u001b[0mClosest candidates are:\n\u001b[0m  convert(::Type{T}, \u001b[91m::T\u001b[39m) where T\n\u001b[0m\u001b[90m   @\u001b[39m \u001b[90mBase\u001b[39m \u001b[90m\u001b[4mBase.jl:64\u001b[24m\u001b[39m\n",
     "output_type": "error",
     "traceback": [
      "MethodError: \u001b[0mCannot `convert` an object of type \n\u001b[0m  \u001b[92mFloat64\u001b[39m\u001b[0m to an object of type \n\u001b[0m  \u001b[91mUnion{Int64, String}\u001b[39m\n\n\u001b[0mClosest candidates are:\n\u001b[0m  convert(::Type{T}, \u001b[91m::T\u001b[39m) where T\n\u001b[0m\u001b[90m   @\u001b[39m \u001b[90mBase\u001b[39m \u001b[90m\u001b[4mBase.jl:64\u001b[24m\u001b[39m\n",
      "",
      "Stacktrace:",
      " [1] setindex!(::Matrix{Union{Int64, String}}, ::Float64, ::Int64, ::Int64)",
      "   @ Base .\\array.jl:971",
      " [2] top-level scope",
      "   @ In[52]:2"
     ]
    }
   ],
   "source": [
    "# you can't insert floats since it accepts only int and string\n",
    "mtr3[1,4] = 3.4"
   ]
  },
  {
   "cell_type": "code",
   "execution_count": 53,
   "id": "2f1e31fc-2c70-4878-b6b7-9b40aa302bcc",
   "metadata": {},
   "outputs": [],
   "source": [
    "# None in python is equal to nothing in Julia"
   ]
  },
  {
   "cell_type": "code",
   "execution_count": 54,
   "id": "b1009beb-34d6-4f29-96f5-674a17c7de6e",
   "metadata": {},
   "outputs": [],
   "source": [
    "nothing"
   ]
  },
  {
   "cell_type": "code",
   "execution_count": 55,
   "id": "591d265a-42d4-4f1d-be9f-bce70af85cce",
   "metadata": {},
   "outputs": [
    {
     "data": {
      "text/plain": [
       "Nothing"
      ]
     },
     "execution_count": 55,
     "metadata": {},
     "output_type": "execute_result"
    }
   ],
   "source": [
    "typeof(nothing)"
   ]
  },
  {
   "cell_type": "code",
   "execution_count": 57,
   "id": "fa6f5470-1d75-4e07-9fc7-3bcc0250eb7f",
   "metadata": {},
   "outputs": [
    {
     "data": {
      "text/plain": [
       "2×3 Matrix{Any}:\n",
       " nothing  nothing  nothing\n",
       " nothing  nothing  nothing"
      ]
     },
     "execution_count": 57,
     "metadata": {},
     "output_type": "execute_result"
    }
   ],
   "source": [
    "Matrix{Any}(nothing, 2,3)"
   ]
  },
  {
   "cell_type": "code",
   "execution_count": 58,
   "id": "0c46d440-b137-4306-b71c-09bb7abdf78c",
   "metadata": {},
   "outputs": [
    {
     "ename": "LoadError",
     "evalue": "MethodError: \u001b[0mCannot `convert` an object of type \u001b[92mNothing\u001b[39m\u001b[0m to an object of type \u001b[91mInt64\u001b[39m\n\n\u001b[0mClosest candidates are:\n\u001b[0m  convert(::Type{T}, \u001b[91m::Ptr\u001b[39m) where T<:Integer\n\u001b[0m\u001b[90m   @\u001b[39m \u001b[90mBase\u001b[39m \u001b[90m\u001b[4mpointer.jl:23\u001b[24m\u001b[39m\n\u001b[0m  convert(::Type{T}, \u001b[91m::T\u001b[39m) where T<:Number\n\u001b[0m\u001b[90m   @\u001b[39m \u001b[90mBase\u001b[39m \u001b[90m\u001b[4mnumber.jl:6\u001b[24m\u001b[39m\n\u001b[0m  convert(::Type{T}, \u001b[91m::Number\u001b[39m) where T<:Number\n\u001b[0m\u001b[90m   @\u001b[39m \u001b[90mBase\u001b[39m \u001b[90m\u001b[4mnumber.jl:7\u001b[24m\u001b[39m\n\u001b[0m  ...\n",
     "output_type": "error",
     "traceback": [
      "MethodError: \u001b[0mCannot `convert` an object of type \u001b[92mNothing\u001b[39m\u001b[0m to an object of type \u001b[91mInt64\u001b[39m\n\n\u001b[0mClosest candidates are:\n\u001b[0m  convert(::Type{T}, \u001b[91m::Ptr\u001b[39m) where T<:Integer\n\u001b[0m\u001b[90m   @\u001b[39m \u001b[90mBase\u001b[39m \u001b[90m\u001b[4mpointer.jl:23\u001b[24m\u001b[39m\n\u001b[0m  convert(::Type{T}, \u001b[91m::T\u001b[39m) where T<:Number\n\u001b[0m\u001b[90m   @\u001b[39m \u001b[90mBase\u001b[39m \u001b[90m\u001b[4mnumber.jl:6\u001b[24m\u001b[39m\n\u001b[0m  convert(::Type{T}, \u001b[91m::Number\u001b[39m) where T<:Number\n\u001b[0m\u001b[90m   @\u001b[39m \u001b[90mBase\u001b[39m \u001b[90m\u001b[4mnumber.jl:7\u001b[24m\u001b[39m\n\u001b[0m  ...\n",
      "",
      "Stacktrace:",
      " [1] fill!(dest::Matrix{Int64}, x::Nothing)",
      "   @ Base .\\array.jl:347",
      " [2] Matrix{Int64}(::Nothing, ::Int64, ::Vararg{Int64})",
      "   @ Base .\\baseext.jl:42",
      " [3] top-level scope",
      "   @ In[58]:1"
     ]
    }
   ],
   "source": [
    "Matrix{Int64}(nothing,2,3) # you can't do this"
   ]
  },
  {
   "cell_type": "code",
   "execution_count": 59,
   "id": "66f86907-9f31-42cc-9808-27b453601731",
   "metadata": {},
   "outputs": [
    {
     "data": {
      "text/plain": [
       "2×3 Matrix{Union{Nothing, Int64}}:\n",
       " nothing  nothing  nothing\n",
       " nothing  nothing  nothing"
      ]
     },
     "execution_count": 59,
     "metadata": {},
     "output_type": "execute_result"
    }
   ],
   "source": [
    "Matrix{Union{Nothing, Int64}}(nothing,2,3)"
   ]
  },
  {
   "cell_type": "code",
   "execution_count": 60,
   "id": "723aee34-4956-4d5a-95cb-4e1c3c0f852a",
   "metadata": {},
   "outputs": [
    {
     "data": {
      "text/plain": [
       "missing"
      ]
     },
     "execution_count": 60,
     "metadata": {},
     "output_type": "execute_result"
    }
   ],
   "source": [
    "# same for missing as well\n",
    "missing"
   ]
  },
  {
   "cell_type": "code",
   "execution_count": 61,
   "id": "7e3d36d5-ca8b-4efb-be62-43e42f79aed1",
   "metadata": {},
   "outputs": [
    {
     "data": {
      "text/plain": [
       "Missing"
      ]
     },
     "execution_count": 61,
     "metadata": {},
     "output_type": "execute_result"
    }
   ],
   "source": [
    "typeof(missing)"
   ]
  },
  {
   "cell_type": "code",
   "execution_count": 62,
   "id": "2820c59f-9d6c-4d50-b32e-2989996ef52f",
   "metadata": {},
   "outputs": [
    {
     "data": {
      "text/plain": [
       "2×3 Matrix{Union{Missing, Int64}}:\n",
       " missing  missing  missing\n",
       " missing  missing  missing"
      ]
     },
     "execution_count": 62,
     "metadata": {},
     "output_type": "execute_result"
    }
   ],
   "source": [
    "Matrix{Union{Missing, Int64}}(missing,2,3)"
   ]
  },
  {
   "cell_type": "code",
   "execution_count": 63,
   "id": "23812f78-6e0c-494b-919d-f65e285e72ec",
   "metadata": {},
   "outputs": [
    {
     "data": {
      "text/plain": [
       "4×3 Matrix{Union{Int64, String}}:\n",
       " 1   4           #undef\n",
       " 3   6           #undef\n",
       " 5    \"Hemanth\"  #undef\n",
       " 2  99           #undef"
      ]
     },
     "execution_count": 63,
     "metadata": {},
     "output_type": "execute_result"
    }
   ],
   "source": [
    "# you can reshape arrays\n",
    "reshape(mtr3,4,3)"
   ]
  },
  {
   "cell_type": "code",
   "execution_count": 64,
   "id": "ec5f312f-ec7c-4119-b5d7-d46ff5814f49",
   "metadata": {},
   "outputs": [
    {
     "data": {
      "text/plain": [
       "3×5 reshape(::UnitRange{Int64}, 3, 5) with eltype Int64:\n",
       " 1  4  7  10  13\n",
       " 2  5  8  11  14\n",
       " 3  6  9  12  15"
      ]
     },
     "execution_count": 64,
     "metadata": {},
     "output_type": "execute_result"
    }
   ],
   "source": [
    "reshape(1:15, 3,5)"
   ]
  },
  {
   "cell_type": "code",
   "execution_count": 65,
   "id": "289c1114-4c2d-4ad4-a2bf-3f9a92647eb3",
   "metadata": {},
   "outputs": [
    {
     "data": {
      "text/plain": [
       "2×3 Matrix{Float64}:\n",
       " 0.0  0.0  0.0\n",
       " 0.0  0.0  0.0"
      ]
     },
     "execution_count": 65,
     "metadata": {},
     "output_type": "execute_result"
    }
   ],
   "source": [
    "# create random arrays\n",
    "zeros(2,3)"
   ]
  },
  {
   "cell_type": "code",
   "execution_count": 66,
   "id": "75437ffb-0a6b-485c-8378-cc92c2a7a185",
   "metadata": {},
   "outputs": [
    {
     "data": {
      "text/plain": [
       "2×3 Matrix{Float64}:\n",
       " 0.547817  0.957431  0.350146\n",
       " 0.778465  0.848008  0.703839"
      ]
     },
     "execution_count": 66,
     "metadata": {},
     "output_type": "execute_result"
    }
   ],
   "source": [
    "rand(2,3)"
   ]
  },
  {
   "cell_type": "code",
   "execution_count": 72,
   "id": "7a3e72b6-12fe-44b0-94ae-94e5118f4309",
   "metadata": {},
   "outputs": [
    {
     "data": {
      "text/plain": [
       "2×3 Matrix{Int64}:\n",
       " 8  15  20\n",
       " 1  19   3"
      ]
     },
     "execution_count": 72,
     "metadata": {},
     "output_type": "execute_result"
    }
   ],
   "source": [
    "rand(1:20,2,3)"
   ]
  },
  {
   "cell_type": "code",
   "execution_count": 73,
   "id": "264dcdac-0df0-4dcc-a12d-7945a426cb9d",
   "metadata": {},
   "outputs": [
    {
     "data": {
      "text/plain": [
       "3×5 Matrix{Float64}:\n",
       "  2.18319    1.53247  -0.215046   0.617458  -0.786249\n",
       "  1.06881   -1.0987   -0.741907   0.655375   0.375681\n",
       " -0.868409   1.05539  -1.59242   -0.706403   1.10305"
      ]
     },
     "execution_count": 73,
     "metadata": {},
     "output_type": "execute_result"
    }
   ],
   "source": [
    "randn(3,5)"
   ]
  },
  {
   "cell_type": "code",
   "execution_count": 67,
   "id": "44330551-2de9-40f9-a03d-a9ba45890bc8",
   "metadata": {},
   "outputs": [
    {
     "data": {
      "text/plain": [
       "2×3 Matrix{Float64}:\n",
       " 1.0  1.0  1.0\n",
       " 1.0  1.0  1.0"
      ]
     },
     "execution_count": 67,
     "metadata": {},
     "output_type": "execute_result"
    }
   ],
   "source": [
    "ones(2,3)"
   ]
  },
  {
   "cell_type": "code",
   "execution_count": 68,
   "id": "bbec1d15-9740-4249-b4a4-309a767502a3",
   "metadata": {},
   "outputs": [
    {
     "data": {
      "text/plain": [
       "2×3 Matrix{Int32}:\n",
       " 1  1  1\n",
       " 1  1  1"
      ]
     },
     "execution_count": 68,
     "metadata": {},
     "output_type": "execute_result"
    }
   ],
   "source": [
    "ones(Int32,2,3)"
   ]
  },
  {
   "cell_type": "code",
   "execution_count": 69,
   "id": "76d73329-9b12-4da5-9ddb-cc47ba134fbe",
   "metadata": {},
   "outputs": [
    {
     "data": {
      "text/plain": [
       "2×2 BitMatrix:\n",
       " 1  1\n",
       " 1  1"
      ]
     },
     "execution_count": 69,
     "metadata": {},
     "output_type": "execute_result"
    }
   ],
   "source": [
    "trues(2,2)"
   ]
  },
  {
   "cell_type": "code",
   "execution_count": 70,
   "id": "3d844f4f-7a1c-46bf-9573-36aa473eac55",
   "metadata": {},
   "outputs": [
    {
     "data": {
      "text/plain": [
       "2×2 BitMatrix:\n",
       " 0  0\n",
       " 0  0"
      ]
     },
     "execution_count": 70,
     "metadata": {},
     "output_type": "execute_result"
    }
   ],
   "source": [
    "falses(2,2)"
   ]
  },
  {
   "cell_type": "code",
   "execution_count": 71,
   "id": "6db3cbe2-03b7-4cbe-9270-b2e9988c93f4",
   "metadata": {},
   "outputs": [
    {
     "data": {
      "text/plain": [
       "3×2 Matrix{Float64}:\n",
       " 3.4  3.4\n",
       " 3.4  3.4\n",
       " 3.4  3.4"
      ]
     },
     "execution_count": 71,
     "metadata": {},
     "output_type": "execute_result"
    }
   ],
   "source": [
    "fill(3.4, 3,2)"
   ]
  },
  {
   "cell_type": "code",
   "execution_count": 74,
   "id": "16360887-7cb6-4ca6-87b0-008276103d78",
   "metadata": {},
   "outputs": [
    {
     "data": {
      "text/plain": [
       "4×3 reshape(::StepRangeLen{Float64, Base.TwicePrecision{Float64}, Base.TwicePrecision{Float64}, Int64}, 4, 3) with eltype Float64:\n",
       " 12.0  16.0  20.0\n",
       " 13.0  17.0  21.0\n",
       " 14.0  18.0  22.0\n",
       " 15.0  19.0  23.0"
      ]
     },
     "execution_count": 74,
     "metadata": {},
     "output_type": "execute_result"
    }
   ],
   "source": [
    "m1 = reshape(range(12.,23.,length=12), 4,3)"
   ]
  },
  {
   "cell_type": "code",
   "execution_count": 75,
   "id": "4109c5f7-bcfb-4657-a08a-3005e6cdf6d1",
   "metadata": {},
   "outputs": [
    {
     "data": {
      "text/plain": [
       "4×3 Matrix{Float64}:\n",
       " 4.24399e-314  6.36599e-314  1.6976e-313\n",
       " 4.24399e-314  8.48798e-314  1.6976e-313\n",
       " 4.24399e-314  1.061e-313    1.9098e-313\n",
       " 4.24399e-314  1.4854e-313   1.9098e-313"
      ]
     },
     "execution_count": 75,
     "metadata": {},
     "output_type": "execute_result"
    }
   ],
   "source": [
    "m2 = similar(m1) # copy the structure of the m1"
   ]
  },
  {
   "cell_type": "markdown",
   "id": "49520e2e-b848-4762-a41e-c02c476b24f3",
   "metadata": {},
   "source": [
    "## Multi dimensional array"
   ]
  },
  {
   "cell_type": "code",
   "execution_count": 77,
   "id": "ef2bcb5a-a85a-4ef9-8328-b885214fdcf9",
   "metadata": {},
   "outputs": [
    {
     "data": {
      "text/plain": [
       "5×4×3 Array{Float64, 3}:\n",
       "[:, :, 1] =\n",
       " 5.0e-324  5.0e-324  0.0       5.0e-324\n",
       " 5.0e-324  1.0e-323  5.0e-324  5.0e-324\n",
       " 5.0e-324  5.0e-324  5.0e-324  5.0e-324\n",
       " 1.0e-323  4.4e-323  5.0e-324  5.0e-324\n",
       " 5.0e-324  5.0e-324  5.0e-324  5.0e-324\n",
       "\n",
       "[:, :, 2] =\n",
       " 5.0e-324  5.0e-324  5.0e-324  5.0e-324\n",
       " 5.0e-324  5.0e-324  1.0e-323  5.0e-324\n",
       " 5.0e-324  0.0       5.0e-324  5.0e-324\n",
       " 5.0e-324  5.0e-324  5.0e-324  5.0e-324\n",
       " 5.0e-324  5.0e-324  5.0e-324  5.0e-324\n",
       "\n",
       "[:, :, 3] =\n",
       " 5.0e-324  5.0e-324  5.0e-324  5.0e-324\n",
       " 5.0e-324  5.0e-324  5.0e-324  0.0\n",
       " 5.0e-324  5.0e-324  0.0       1.38459e-311\n",
       " 5.0e-324  5.0e-324  5.0e-324  1.38459e-311\n",
       " 5.0e-324  5.0e-324  0.0       6.95285e-310"
      ]
     },
     "execution_count": 77,
     "metadata": {},
     "output_type": "execute_result"
    }
   ],
   "source": [
    "# Array{T}\n",
    "Array{Float64, 3}(undef, 5,4,3)"
   ]
  },
  {
   "cell_type": "code",
   "execution_count": 78,
   "id": "8caaa2e6-980f-430d-bfc5-b95e3d80233c",
   "metadata": {},
   "outputs": [
    {
     "data": {
      "text/plain": [
       "2×3×2×3 Array{Union{Nothing, Int64}, 4}:\n",
       "[:, :, 1, 1] =\n",
       " nothing  nothing  nothing\n",
       " nothing  nothing  nothing\n",
       "\n",
       "[:, :, 2, 1] =\n",
       " nothing  nothing  nothing\n",
       " nothing  nothing  nothing\n",
       "\n",
       "[:, :, 1, 2] =\n",
       " nothing  nothing  nothing\n",
       " nothing  nothing  nothing\n",
       "\n",
       "[:, :, 2, 2] =\n",
       " nothing  nothing  nothing\n",
       " nothing  nothing  nothing\n",
       "\n",
       "[:, :, 1, 3] =\n",
       " nothing  nothing  nothing\n",
       " nothing  nothing  nothing\n",
       "\n",
       "[:, :, 2, 3] =\n",
       " nothing  nothing  nothing\n",
       " nothing  nothing  nothing"
      ]
     },
     "execution_count": 78,
     "metadata": {},
     "output_type": "execute_result"
    }
   ],
   "source": [
    "Array{Union{Int64, Nothing}}(nothing, 2,3,2,3)"
   ]
  },
  {
   "cell_type": "code",
   "execution_count": 79,
   "id": "44c8e737-100d-4df7-a999-108045e94b2d",
   "metadata": {},
   "outputs": [
    {
     "data": {
      "text/plain": [
       "4×3×2 Array{Union{Missing, String}, 3}:\n",
       "[:, :, 1] =\n",
       " missing  missing  missing\n",
       " missing  missing  missing\n",
       " missing  missing  missing\n",
       " missing  missing  missing\n",
       "\n",
       "[:, :, 2] =\n",
       " missing  missing  missing\n",
       " missing  missing  missing\n",
       " missing  missing  missing\n",
       " missing  missing  missing"
      ]
     },
     "execution_count": 79,
     "metadata": {},
     "output_type": "execute_result"
    }
   ],
   "source": [
    "Array{Union{String, Missing}}(missing,4,3,2)"
   ]
  },
  {
   "cell_type": "code",
   "execution_count": 80,
   "id": "18c8e476-a7f4-4dd4-a21c-f6161e7e052a",
   "metadata": {},
   "outputs": [
    {
     "data": {
      "text/plain": [
       "5×4×3 Array{Int64, 3}:\n",
       "[:, :, 1] =\n",
       " 1   6  11  16\n",
       " 2   7  12  17\n",
       " 3   8  13  18\n",
       " 4   9  14  19\n",
       " 5  10  15  20\n",
       "\n",
       "[:, :, 2] =\n",
       " 21  26  31  36\n",
       " 22  27  32  37\n",
       " 23  28  33  38\n",
       " 24  29  34  39\n",
       " 25  30  35  40\n",
       "\n",
       "[:, :, 3] =\n",
       " 41  46  51  56\n",
       " 42  47  52  57\n",
       " 43  48  53  58\n",
       " 44  49  54  59\n",
       " 45  50  55  60"
      ]
     },
     "execution_count": 80,
     "metadata": {},
     "output_type": "execute_result"
    }
   ],
   "source": [
    "v = Vector(1:60)\n",
    "arr1 = reshape(v, 5,4,3)"
   ]
  },
  {
   "cell_type": "code",
   "execution_count": 81,
   "id": "6d1e40d0-0261-4dd6-a106-59137802622c",
   "metadata": {},
   "outputs": [
    {
     "data": {
      "text/plain": [
       "5×4 Matrix{Int64}:\n",
       " 41  46  51  56\n",
       " 42  47  52  57\n",
       " 43  48  53  58\n",
       " 44  49  54  59\n",
       " 45  50  55  60"
      ]
     },
     "execution_count": 81,
     "metadata": {},
     "output_type": "execute_result"
    }
   ],
   "source": [
    "arr1[:,:,3]"
   ]
  },
  {
   "cell_type": "code",
   "execution_count": 82,
   "id": "53a29cca-c20c-449f-bc8d-ee5d56636878",
   "metadata": {},
   "outputs": [
    {
     "data": {
      "text/plain": [
       "41"
      ]
     },
     "execution_count": 82,
     "metadata": {},
     "output_type": "execute_result"
    }
   ],
   "source": [
    "arr1[1,1,3]"
   ]
  },
  {
   "cell_type": "code",
   "execution_count": 85,
   "id": "c40a58cd-a589-4be9-9e4e-f05cc0c8e5f6",
   "metadata": {},
   "outputs": [
    {
     "data": {
      "text/plain": [
       "3×4 Matrix{Int64}:\n",
       " 1  5   8  11\n",
       " 2  6   9  12\n",
       " 3  7  10  13"
      ]
     },
     "execution_count": 85,
     "metadata": {},
     "output_type": "execute_result"
    }
   ],
   "source": [
    "[1;2;3 ;; 5;6;7 ;; 8;9;10 ;; 11;12;13]"
   ]
  },
  {
   "cell_type": "code",
   "execution_count": 86,
   "id": "40bc5b1f-73ac-4b56-88cf-722355cc2276",
   "metadata": {},
   "outputs": [
    {
     "data": {
      "text/plain": [
       "3×2×2 Array{Int64, 3}:\n",
       "[:, :, 1] =\n",
       " 1  5\n",
       " 2  6\n",
       " 3  7\n",
       "\n",
       "[:, :, 2] =\n",
       "  8  11\n",
       "  9  12\n",
       " 10  13"
      ]
     },
     "execution_count": 86,
     "metadata": {},
     "output_type": "execute_result"
    }
   ],
   "source": [
    "[1;2;3 ;; 5;6;7 ;;; 8;9;10 ;; 11;12;13]"
   ]
  },
  {
   "cell_type": "markdown",
   "id": "05efb343-7cca-4679-89d6-ba189e40b999",
   "metadata": {},
   "source": [
    "# Broadcasting"
   ]
  },
  {
   "cell_type": "code",
   "execution_count": 1,
   "id": "361a0a8d-8969-41a0-a9db-eaebf90cd744",
   "metadata": {},
   "outputs": [
    {
     "data": {
      "text/plain": [
       "5-element Vector{Int64}:\n",
       " 1\n",
       " 2\n",
       " 3\n",
       " 4\n",
       " 5"
      ]
     },
     "execution_count": 1,
     "metadata": {},
     "output_type": "execute_result"
    }
   ],
   "source": [
    "v = Vector(1:5)"
   ]
  },
  {
   "cell_type": "code",
   "execution_count": 2,
   "id": "0130204e-f333-46ec-af81-6f575d4ea64f",
   "metadata": {},
   "outputs": [
    {
     "data": {
      "text/plain": [
       "7"
      ]
     },
     "execution_count": 2,
     "metadata": {},
     "output_type": "execute_result"
    }
   ],
   "source": [
    "n = 7"
   ]
  },
  {
   "cell_type": "code",
   "execution_count": 3,
   "id": "d36b5473-9d93-4c4d-8b9b-b4f16f5ce768",
   "metadata": {},
   "outputs": [
    {
     "data": {
      "text/plain": [
       "5-element Vector{Int64}:\n",
       "  7\n",
       " 14\n",
       " 21\n",
       " 28\n",
       " 35"
      ]
     },
     "execution_count": 3,
     "metadata": {},
     "output_type": "execute_result"
    }
   ],
   "source": [
    "v*7"
   ]
  },
  {
   "cell_type": "code",
   "execution_count": 4,
   "id": "52cbafc2-d892-429b-9543-cb8f577c3abc",
   "metadata": {},
   "outputs": [
    {
     "ename": "LoadError",
     "evalue": "MethodError: no method matching +(::Vector{Int64}, ::Int64)\nFor element-wise addition, use broadcasting with dot syntax: array .+ scalar\n\n\u001b[0mClosest candidates are:\n\u001b[0m  +(::Any, ::Any, \u001b[91m::Any\u001b[39m, \u001b[91m::Any...\u001b[39m)\n\u001b[0m\u001b[90m   @\u001b[39m \u001b[90mBase\u001b[39m \u001b[90m\u001b[4moperators.jl:578\u001b[24m\u001b[39m\n\u001b[0m  +(\u001b[91m::T\u001b[39m, ::T) where T<:Union{Int128, Int16, Int32, Int64, Int8, UInt128, UInt16, UInt32, UInt64, UInt8}\n\u001b[0m\u001b[90m   @\u001b[39m \u001b[90mBase\u001b[39m \u001b[90m\u001b[4mint.jl:87\u001b[24m\u001b[39m\n\u001b[0m  +(\u001b[91m::Base.TwicePrecision\u001b[39m, ::Number)\n\u001b[0m\u001b[90m   @\u001b[39m \u001b[90mBase\u001b[39m \u001b[90m\u001b[4mtwiceprecision.jl:290\u001b[24m\u001b[39m\n\u001b[0m  ...\n",
     "output_type": "error",
     "traceback": [
      "MethodError: no method matching +(::Vector{Int64}, ::Int64)\nFor element-wise addition, use broadcasting with dot syntax: array .+ scalar\n\n\u001b[0mClosest candidates are:\n\u001b[0m  +(::Any, ::Any, \u001b[91m::Any\u001b[39m, \u001b[91m::Any...\u001b[39m)\n\u001b[0m\u001b[90m   @\u001b[39m \u001b[90mBase\u001b[39m \u001b[90m\u001b[4moperators.jl:578\u001b[24m\u001b[39m\n\u001b[0m  +(\u001b[91m::T\u001b[39m, ::T) where T<:Union{Int128, Int16, Int32, Int64, Int8, UInt128, UInt16, UInt32, UInt64, UInt8}\n\u001b[0m\u001b[90m   @\u001b[39m \u001b[90mBase\u001b[39m \u001b[90m\u001b[4mint.jl:87\u001b[24m\u001b[39m\n\u001b[0m  +(\u001b[91m::Base.TwicePrecision\u001b[39m, ::Number)\n\u001b[0m\u001b[90m   @\u001b[39m \u001b[90mBase\u001b[39m \u001b[90m\u001b[4mtwiceprecision.jl:290\u001b[24m\u001b[39m\n\u001b[0m  ...\n",
      "",
      "Stacktrace:",
      " [1] top-level scope",
      "   @ In[4]:1"
     ]
    }
   ],
   "source": [
    "v+7 # is not possible"
   ]
  },
  {
   "cell_type": "code",
   "execution_count": 5,
   "id": "9ff3ef0f-035e-49dd-af3f-87a2a86974f5",
   "metadata": {},
   "outputs": [
    {
     "data": {
      "text/plain": [
       "5-element Vector{Int64}:\n",
       "  8\n",
       "  9\n",
       " 10\n",
       " 11\n",
       " 12"
      ]
     },
     "execution_count": 5,
     "metadata": {},
     "output_type": "execute_result"
    }
   ],
   "source": [
    "# instead you can do like this\n",
    "v + repeat([n], size(v,1))"
   ]
  },
  {
   "cell_type": "code",
   "execution_count": 6,
   "id": "24273fe5-f15e-4e0c-befd-d474ce391763",
   "metadata": {},
   "outputs": [
    {
     "data": {
      "text/plain": [
       "5-element Vector{Int64}:\n",
       "  8\n",
       "  9\n",
       " 10\n",
       " 11\n",
       " 12"
      ]
     },
     "execution_count": 6,
     "metadata": {},
     "output_type": "execute_result"
    }
   ],
   "source": [
    "broadcast(+,v,n) # using broadcast function easily like this"
   ]
  },
  {
   "cell_type": "code",
   "execution_count": 7,
   "id": "43050c04-e8c3-4e47-abd5-9726bac24993",
   "metadata": {},
   "outputs": [
    {
     "data": {
      "text/plain": [
       "5-element Vector{Int64}:\n",
       "  8\n",
       "  9\n",
       " 10\n",
       " 11\n",
       " 12"
      ]
     },
     "execution_count": 7,
     "metadata": {},
     "output_type": "execute_result"
    }
   ],
   "source": [
    "v .+ n # this also does the same"
   ]
  },
  {
   "cell_type": "code",
   "execution_count": 8,
   "id": "54f6a956-b97d-4937-a170-defdea30c992",
   "metadata": {},
   "outputs": [
    {
     "data": {
      "text/plain": [
       "1×6 Matrix{Int64}:\n",
       " 4  7  2  9  11  15"
      ]
     },
     "execution_count": 8,
     "metadata": {},
     "output_type": "execute_result"
    }
   ],
   "source": [
    "a = [4 7 2 9 11 15]"
   ]
  },
  {
   "cell_type": "code",
   "execution_count": 9,
   "id": "4b8e4e59-3d95-4e6d-85d6-0c19dfa9c35a",
   "metadata": {},
   "outputs": [
    {
     "data": {
      "text/plain": [
       "1×6 Matrix{Int64}:\n",
       " 3  7  3  9  12  15"
      ]
     },
     "execution_count": 9,
     "metadata": {},
     "output_type": "execute_result"
    }
   ],
   "source": [
    "b = [3 7 3 9 12 15]"
   ]
  },
  {
   "cell_type": "code",
   "execution_count": 10,
   "id": "3f564e32-0225-442d-8507-b7b8238411d9",
   "metadata": {},
   "outputs": [
    {
     "data": {
      "text/plain": [
       "false"
      ]
     },
     "execution_count": 10,
     "metadata": {},
     "output_type": "execute_result"
    }
   ],
   "source": [
    "a == b # If you compare directly"
   ]
  },
  {
   "cell_type": "code",
   "execution_count": 11,
   "id": "e2482a79-1b12-4440-a56c-12b08961395e",
   "metadata": {},
   "outputs": [
    {
     "data": {
      "text/plain": [
       "1×6 BitMatrix:\n",
       " 0  1  0  1  0  1"
      ]
     },
     "execution_count": 11,
     "metadata": {},
     "output_type": "execute_result"
    }
   ],
   "source": [
    "# compare a and b\n",
    "a .== b"
   ]
  },
  {
   "cell_type": "code",
   "execution_count": 12,
   "id": "d1d63913-9f3a-41d7-840e-e1b62f78c509",
   "metadata": {},
   "outputs": [
    {
     "data": {
      "text/plain": [
       "2×3 Matrix{Int64}:\n",
       " 1  2  3\n",
       " 4  5  6"
      ]
     },
     "execution_count": 12,
     "metadata": {},
     "output_type": "execute_result"
    }
   ],
   "source": [
    "mat = [1 2 3; 4 5 6]"
   ]
  },
  {
   "cell_type": "code",
   "execution_count": 13,
   "id": "9877c463-82d9-4b77-acb6-1ba945a7fa7c",
   "metadata": {},
   "outputs": [
    {
     "data": {
      "text/plain": [
       "7.38905609893065"
      ]
     },
     "execution_count": 13,
     "metadata": {},
     "output_type": "execute_result"
    }
   ],
   "source": [
    "ℯ^2"
   ]
  },
  {
   "cell_type": "code",
   "execution_count": 14,
   "id": "e37b0f15-03d6-421c-a376-d4887e733523",
   "metadata": {},
   "outputs": [
    {
     "data": {
      "text/plain": [
       "1×6 Matrix{Int64}:\n",
       " 16  49  4  81  121  225"
      ]
     },
     "execution_count": 14,
     "metadata": {},
     "output_type": "execute_result"
    }
   ],
   "source": [
    "a.^2 # using broadcast"
   ]
  },
  {
   "cell_type": "code",
   "execution_count": 15,
   "id": "41b45b0e-729b-42b9-ba1d-e7fb6b4097be",
   "metadata": {},
   "outputs": [
    {
     "ename": "LoadError",
     "evalue": "DimensionMismatch: matrix is not square: dimensions are (1, 6)",
     "output_type": "error",
     "traceback": [
      "DimensionMismatch: matrix is not square: dimensions are (1, 6)",
      "",
      "Stacktrace:",
      " [1] checksquare",
      "   @ C:\\Users\\karut\\AppData\\Local\\Programs\\Julia-1.9.1\\share\\julia\\stdlib\\v1.9\\LinearAlgebra\\src\\LinearAlgebra.jl:239 [inlined]",
      " [2] exp!(A::Matrix{Float64})",
      "   @ LinearAlgebra C:\\Users\\karut\\AppData\\Local\\Programs\\Julia-1.9.1\\share\\julia\\stdlib\\v1.9\\LinearAlgebra\\src\\dense.jl:650",
      " [3] exp(A::Matrix{Int64})",
      "   @ LinearAlgebra C:\\Users\\karut\\AppData\\Local\\Programs\\Julia-1.9.1\\share\\julia\\stdlib\\v1.9\\LinearAlgebra\\src\\dense.jl:594",
      " [4] top-level scope",
      "   @ In[15]:1"
     ]
    }
   ],
   "source": [
    "exp(a)"
   ]
  },
  {
   "cell_type": "code",
   "execution_count": 16,
   "id": "02d3a5b3-0473-4cc7-98da-d6d8cd9ae9df",
   "metadata": {},
   "outputs": [
    {
     "data": {
      "text/plain": [
       "1×6 Matrix{Float64}:\n",
       " 54.5982  1096.63  7.38906  8103.08  59874.1  3.26902e6"
      ]
     },
     "execution_count": 16,
     "metadata": {},
     "output_type": "execute_result"
    }
   ],
   "source": [
    "exp.(a) # use dot since it is a matrix"
   ]
  },
  {
   "cell_type": "code",
   "execution_count": 19,
   "id": "f565207c-4abf-4832-bf0e-9ebf414a1ac5",
   "metadata": {},
   "outputs": [
    {
     "data": {
      "text/plain": [
       "1×6 Matrix{Float64}:\n",
       " 2.0  2.64575  1.41421  3.0  3.31662  3.87298"
      ]
     },
     "execution_count": 19,
     "metadata": {},
     "output_type": "execute_result"
    }
   ],
   "source": [
    "sqrt.(a)"
   ]
  },
  {
   "cell_type": "code",
   "execution_count": 18,
   "id": "a1a2dd64-3fd4-43ac-8dda-e5873eb068ea",
   "metadata": {},
   "outputs": [
    {
     "data": {
      "text/plain": [
       "1×6 Matrix{Float64}:\n",
       " 2.0  2.64575  1.41421  3.0  3.31662  3.87298"
      ]
     },
     "execution_count": 18,
     "metadata": {},
     "output_type": "execute_result"
    }
   ],
   "source": [
    ".√a"
   ]
  },
  {
   "cell_type": "code",
   "execution_count": 20,
   "id": "cc567605-e46b-4349-8834-f2494f89bde1",
   "metadata": {},
   "outputs": [
    {
     "data": {
      "text/plain": [
       "1×6 Matrix{Int64}:\n",
       " 3  5  7  9  12  15"
      ]
     },
     "execution_count": 20,
     "metadata": {},
     "output_type": "execute_result"
    }
   ],
   "source": [
    "x = [3 5 7 9 12 15]"
   ]
  },
  {
   "cell_type": "code",
   "execution_count": 21,
   "id": "5cec57eb-92ad-4509-8fe8-e9497522dbb7",
   "metadata": {},
   "outputs": [
    {
     "ename": "LoadError",
     "evalue": "DimensionMismatch: matrix A has dimensions (1,6), matrix B has dimensions (1,6)",
     "output_type": "error",
     "traceback": [
      "DimensionMismatch: matrix A has dimensions (1,6), matrix B has dimensions (1,6)",
      "",
      "Stacktrace:",
      " [1] _generic_matmatmul!(C::Matrix{Int64}, tA::Char, tB::Char, A::Matrix{Int64}, B::Matrix{Int64}, _add::LinearAlgebra.MulAddMul{true, true, Bool, Bool})",
      "   @ LinearAlgebra C:\\Users\\karut\\AppData\\Local\\Programs\\Julia-1.9.1\\share\\julia\\stdlib\\v1.9\\LinearAlgebra\\src\\matmul.jl:856",
      " [2] generic_matmatmul!(C::Matrix{Int64}, tA::Char, tB::Char, A::Matrix{Int64}, B::Matrix{Int64}, _add::LinearAlgebra.MulAddMul{true, true, Bool, Bool})",
      "   @ LinearAlgebra C:\\Users\\karut\\AppData\\Local\\Programs\\Julia-1.9.1\\share\\julia\\stdlib\\v1.9\\LinearAlgebra\\src\\matmul.jl:844",
      " [3] mul!",
      "   @ C:\\Users\\karut\\AppData\\Local\\Programs\\Julia-1.9.1\\share\\julia\\stdlib\\v1.9\\LinearAlgebra\\src\\matmul.jl:303 [inlined]",
      " [4] mul!",
      "   @ C:\\Users\\karut\\AppData\\Local\\Programs\\Julia-1.9.1\\share\\julia\\stdlib\\v1.9\\LinearAlgebra\\src\\matmul.jl:276 [inlined]",
      " [5] *",
      "   @ C:\\Users\\karut\\AppData\\Local\\Programs\\Julia-1.9.1\\share\\julia\\stdlib\\v1.9\\LinearAlgebra\\src\\matmul.jl:141 [inlined]",
      " [6] power_by_squaring(x_::Matrix{Int64}, p::Int64)",
      "   @ Base .\\intfuncs.jl:269",
      " [7] ^",
      "   @ C:\\Users\\karut\\AppData\\Local\\Programs\\Julia-1.9.1\\share\\julia\\stdlib\\v1.9\\LinearAlgebra\\src\\dense.jl:484 [inlined]",
      " [8] literal_pow(f::typeof(^), x::Matrix{Int64}, #unused#::Val{2})",
      "   @ Base .\\intfuncs.jl:338",
      " [9] top-level scope",
      "   @ In[21]:1"
     ]
    }
   ],
   "source": [
    "2x^2 + 2x + 5"
   ]
  },
  {
   "cell_type": "code",
   "execution_count": 26,
   "id": "9da3f6dd-6a53-425c-be3b-e00889896370",
   "metadata": {},
   "outputs": [
    {
     "data": {
      "text/plain": [
       "1×6 Matrix{Int64}:\n",
       " 29  65  117  185  317  485"
      ]
     },
     "execution_count": 26,
     "metadata": {},
     "output_type": "execute_result"
    }
   ],
   "source": [
    "2 .* x .^ 2 .+ 2 .* x .+ 5 # using spaces between operators is important"
   ]
  },
  {
   "cell_type": "code",
   "execution_count": 27,
   "id": "50c45fbf-feec-48e5-996b-9d333403a2fa",
   "metadata": {},
   "outputs": [
    {
     "data": {
      "text/plain": [
       "1×6 Matrix{Int64}:\n",
       " 29  65  117  185  317  485"
      ]
     },
     "execution_count": 27,
     "metadata": {},
     "output_type": "execute_result"
    }
   ],
   "source": [
    "2x .^ 2 .+ 2x .+ 5 # multiplication does not require dot"
   ]
  },
  {
   "cell_type": "code",
   "execution_count": 28,
   "id": "10c4d9ed-430f-46e8-a6d1-089dac7d0514",
   "metadata": {},
   "outputs": [
    {
     "data": {
      "text/plain": [
       "1×8 Matrix{Int64}:\n",
       " 7  22  12  13  16  21  18  76"
      ]
     },
     "execution_count": 28,
     "metadata": {},
     "output_type": "execute_result"
    }
   ],
   "source": [
    "vec = [7 22 12 13 16 21 18 76]"
   ]
  },
  {
   "cell_type": "code",
   "execution_count": 31,
   "id": "74a8b048-9c36-41b6-9ed3-bce44c0a3f88",
   "metadata": {},
   "outputs": [
    {
     "data": {
      "text/plain": [
       "4-element Vector{Int64}:\n",
       "  7\n",
       " 12\n",
       " 16\n",
       " 18"
      ]
     },
     "execution_count": 31,
     "metadata": {},
     "output_type": "execute_result"
    }
   ],
   "source": [
    "vec[[true false true false true false true false]]"
   ]
  },
  {
   "cell_type": "code",
   "execution_count": 33,
   "id": "715581a3-0bd8-49c3-baed-34a90822d022",
   "metadata": {},
   "outputs": [
    {
     "data": {
      "text/plain": [
       "1×8 BitMatrix:\n",
       " 0  1  0  0  0  1  0  1"
      ]
     },
     "execution_count": 33,
     "metadata": {},
     "output_type": "execute_result"
    }
   ],
   "source": [
    "vec .> 20 # get all the elements that are greater than 20"
   ]
  },
  {
   "cell_type": "code",
   "execution_count": 34,
   "id": "251ca5b6-43f6-45b5-a35b-41c4110bc22b",
   "metadata": {},
   "outputs": [
    {
     "data": {
      "text/plain": [
       "3-element Vector{Int64}:\n",
       " 22\n",
       " 21\n",
       " 76"
      ]
     },
     "execution_count": 34,
     "metadata": {},
     "output_type": "execute_result"
    }
   ],
   "source": [
    "vec[vec .> 20] # we can do same as in python"
   ]
  },
  {
   "cell_type": "code",
   "execution_count": 35,
   "id": "72983708-52fb-4039-b22a-79252e57e460",
   "metadata": {},
   "outputs": [
    {
     "data": {
      "text/plain": [
       "1×8 Matrix{Int64}:\n",
       " 3  2  0  1  0  1  2  0"
      ]
     },
     "execution_count": 35,
     "metadata": {},
     "output_type": "execute_result"
    }
   ],
   "source": [
    "vec .% 4"
   ]
  },
  {
   "cell_type": "code",
   "execution_count": 36,
   "id": "aabdfaab-73fe-44c5-9ef5-a96d8c5e5dc0",
   "metadata": {},
   "outputs": [
    {
     "data": {
      "text/plain": [
       "1×8 BitMatrix:\n",
       " 0  0  1  0  1  0  0  1"
      ]
     },
     "execution_count": 36,
     "metadata": {},
     "output_type": "execute_result"
    }
   ],
   "source": [
    "(vec .% 4) .== 0"
   ]
  },
  {
   "cell_type": "code",
   "execution_count": 37,
   "id": "b8a312e4-d4f3-465e-bc7f-bdd815328a82",
   "metadata": {},
   "outputs": [
    {
     "data": {
      "text/plain": [
       "3-element Vector{Int64}:\n",
       " 12\n",
       " 16\n",
       " 76"
      ]
     },
     "execution_count": 37,
     "metadata": {},
     "output_type": "execute_result"
    }
   ],
   "source": [
    "vec[(vec .% 4) .== 0] # get all the numbers divisible by 4"
   ]
  },
  {
   "cell_type": "code",
   "execution_count": 38,
   "id": "f41346e1-60fe-4cdc-aa2e-c2e2bba4d712",
   "metadata": {},
   "outputs": [
    {
     "data": {
      "text/plain": [
       "200×10 Matrix{Int64}:\n",
       " 42  75  57  62  31  81  67   2    5   42\n",
       " 60  20  95  49  95  76  29  99   73    1\n",
       " 52   7  42  45  62  85  56  38   49   22\n",
       " 66  17  68  52  18  53  93  55   45   41\n",
       " 31  35  27  56  23  92  93  13   20   49\n",
       " 56  86  10  71   8  62  73  19   97   24\n",
       " 56  56  64  59  52  53  34  68   83   16\n",
       " 60  57  82  80  34  60  60  86   48   76\n",
       " 32  77  89  19  38  95  85   5   20   49\n",
       " 45  55  15  68  12  16  14  58  100   28\n",
       " 15  88   8  43  64  39  57  22   99   42\n",
       " 95  94   1  75  68   3  88  66   23   68\n",
       "  5  44  95  48  41  90  52  47   13   27\n",
       "  ⋮                   ⋮               \n",
       " 40  88  86  61   6  45   3  30   84   15\n",
       " 78  67  85  49  18  88  45  20   90   57\n",
       " 68  66  31  26  97  69  68  91   59  100\n",
       " 91  24  67  28  74  70  37  50   59   31\n",
       " 60  27  14   6  97  51  69  32   81   92\n",
       " 44  24   8  48  18  17  24  67   45    8\n",
       " 96  93  76  95  77  58  29  98   90   24\n",
       " 32   8  38  69  77  43  17  13   31  100\n",
       "  7  50  54  55  94  41  95  27   69   84\n",
       "  5  34  72  30  80   6  70  55   89   73\n",
       " 51  88  92  47  57  72  81   1   96   56\n",
       "  9  42  14  74  83  32  55  84   25   84"
      ]
     },
     "execution_count": 38,
     "metadata": {},
     "output_type": "execute_result"
    }
   ],
   "source": [
    "mat = rand(1:100, 200, 10)"
   ]
  },
  {
   "cell_type": "code",
   "execution_count": 39,
   "id": "b295fe5a-574d-4e71-88e6-c066ecde4650",
   "metadata": {},
   "outputs": [
    {
     "data": {
      "text/plain": [
       "200-element BitVector:\n",
       " 1\n",
       " 1\n",
       " 0\n",
       " 1\n",
       " 0\n",
       " 0\n",
       " 0\n",
       " 1\n",
       " 0\n",
       " 1\n",
       " 1\n",
       " 0\n",
       " 0\n",
       " ⋮\n",
       " 0\n",
       " 1\n",
       " 0\n",
       " 0\n",
       " 1\n",
       " 0\n",
       " 1\n",
       " 0\n",
       " 0\n",
       " 0\n",
       " 1\n",
       " 1"
      ]
     },
     "execution_count": 39,
     "metadata": {},
     "output_type": "execute_result"
    }
   ],
   "source": [
    "cond1 = mat[:, 1] .% 3 .== 0 # first column divisible by 3"
   ]
  },
  {
   "cell_type": "code",
   "execution_count": 40,
   "id": "bcfcbac4-b0dc-4017-95cd-8ea7ad81cdbf",
   "metadata": {},
   "outputs": [
    {
     "data": {
      "text/plain": [
       "200-element BitVector:\n",
       " 0\n",
       " 1\n",
       " 0\n",
       " 0\n",
       " 0\n",
       " 0\n",
       " 1\n",
       " 0\n",
       " 0\n",
       " 0\n",
       " 1\n",
       " 0\n",
       " 1\n",
       " ⋮\n",
       " 1\n",
       " 0\n",
       " 0\n",
       " 1\n",
       " 0\n",
       " 1\n",
       " 0\n",
       " 1\n",
       " 0\n",
       " 0\n",
       " 1\n",
       " 0"
      ]
     },
     "execution_count": 40,
     "metadata": {},
     "output_type": "execute_result"
    }
   ],
   "source": [
    "cond2 = mat[:, 2] .%4 .== 0 # second column divisible by 3"
   ]
  },
  {
   "cell_type": "code",
   "execution_count": 42,
   "id": "829c9b44-1341-4c0e-97bf-3c0cf1b36bb1",
   "metadata": {},
   "outputs": [
    {
     "data": {
      "text/plain": [
       "200-element BitVector:\n",
       " 0\n",
       " 1\n",
       " 0\n",
       " 0\n",
       " 0\n",
       " 0\n",
       " 0\n",
       " 0\n",
       " 0\n",
       " 0\n",
       " 1\n",
       " 0\n",
       " 0\n",
       " ⋮\n",
       " 0\n",
       " 0\n",
       " 0\n",
       " 0\n",
       " 0\n",
       " 0\n",
       " 0\n",
       " 0\n",
       " 0\n",
       " 0\n",
       " 1\n",
       " 0"
      ]
     },
     "execution_count": 42,
     "metadata": {},
     "output_type": "execute_result"
    }
   ],
   "source": [
    "cond1 .& cond2 # cond1 and cond2"
   ]
  },
  {
   "cell_type": "code",
   "execution_count": 44,
   "id": "22c184bd-f5ee-44ed-8eac-778f3b695e49",
   "metadata": {},
   "outputs": [
    {
     "data": {
      "text/plain": [
       "17×10 Matrix{Int64}:\n",
       " 60   20  95  49  95  76  29  99  73   1\n",
       " 15   88   8  43  64  39  57  22  99  42\n",
       " 84   84  64  41  90  46  60  34  13   1\n",
       " 36   64  29   4  83  29  73  47  63  16\n",
       " 84   92  36  55  72  26  62  25  78  30\n",
       " 45   36  36  90   1  11  72  82  89  13\n",
       " 39  100  40  98  16  18  49  51  36  77\n",
       "  9   88  98  47  64  12  79  91  31  50\n",
       " 63   84  93  40  77   2  12  24  21  28\n",
       " 42   76   8  59  93  94  83  53  53  74\n",
       " 30   44  39  13  47  61  98  14  84  97\n",
       " 39   68  38   8  91  39  27  63  67   7\n",
       " 36   80  98   3  39  42  13   2  54  68\n",
       " 48   80  74  24  91  31  29  10  34  72\n",
       " 30   48  13  75  95  33   1  46  83  25\n",
       " 33   64  53  36  94  51  23  37  41   6\n",
       " 51   88  92  47  57  72  81   1  96  56"
      ]
     },
     "execution_count": 44,
     "metadata": {},
     "output_type": "execute_result"
    }
   ],
   "source": [
    "mat[cond1 .& cond2, :]"
   ]
  },
  {
   "cell_type": "markdown",
   "id": "820dc461-c7a3-442c-888b-46a3cb4fc0dc",
   "metadata": {},
   "source": [
    "# sets"
   ]
  },
  {
   "cell_type": "code",
   "execution_count": 45,
   "id": "31ef5e86-a067-4bf4-9b53-63845f7b76b1",
   "metadata": {},
   "outputs": [],
   "source": [
    "# sets are same as in python"
   ]
  },
  {
   "cell_type": "code",
   "execution_count": 48,
   "id": "2c1c4bdc-ec8e-4792-9ab8-408a2f4adcca",
   "metadata": {},
   "outputs": [
    {
     "data": {
      "text/plain": [
       "Set{Int64} with 4 elements:\n",
       "  4\n",
       "  2\n",
       "  3\n",
       "  1"
      ]
     },
     "execution_count": 48,
     "metadata": {},
     "output_type": "execute_result"
    }
   ],
   "source": [
    "s = Set([1,2,3,4])"
   ]
  },
  {
   "cell_type": "code",
   "execution_count": 49,
   "id": "37547469-29ce-45ad-bef8-36562f506b0f",
   "metadata": {},
   "outputs": [
    {
     "data": {
      "text/plain": [
       "Set{Int64} with 4 elements:\n",
       "  4\n",
       "  2\n",
       "  3\n",
       "  1"
      ]
     },
     "execution_count": 49,
     "metadata": {},
     "output_type": "execute_result"
    }
   ],
   "source": [
    "Set([1,1,2,3,4])"
   ]
  },
  {
   "cell_type": "code",
   "execution_count": 50,
   "id": "5ce20b44-eb1c-45b5-b7b3-f7261f4a60ad",
   "metadata": {},
   "outputs": [
    {
     "data": {
      "text/plain": [
       "Set{Int64} with 4 elements:\n",
       "  4\n",
       "  2\n",
       "  3\n",
       "  1"
      ]
     },
     "execution_count": 50,
     "metadata": {},
     "output_type": "execute_result"
    }
   ],
   "source": [
    "Set((1,2,3,4))"
   ]
  },
  {
   "cell_type": "code",
   "execution_count": 51,
   "id": "0d207d30-1223-41f6-a8bc-5133114f88d0",
   "metadata": {},
   "outputs": [
    {
     "ename": "LoadError",
     "evalue": "MethodError: no method matching getindex(::Set{Int64}, ::Int64)",
     "output_type": "error",
     "traceback": [
      "MethodError: no method matching getindex(::Set{Int64}, ::Int64)",
      "",
      "Stacktrace:",
      " [1] top-level scope",
      "   @ In[51]:1"
     ]
    }
   ],
   "source": [
    "s[1] # sets does not gave index"
   ]
  },
  {
   "cell_type": "code",
   "execution_count": 52,
   "id": "d3c70f7e-5caa-4b9f-a37c-1f5e07a85a85",
   "metadata": {},
   "outputs": [
    {
     "data": {
      "text/plain": [
       "Set{Int64} with 4 elements:\n",
       "  4\n",
       "  2\n",
       "  3\n",
       "  1"
      ]
     },
     "execution_count": 52,
     "metadata": {},
     "output_type": "execute_result"
    }
   ],
   "source": [
    "Set([1 2 3 4])"
   ]
  },
  {
   "cell_type": "code",
   "execution_count": 53,
   "id": "e1f278c1-a7c3-4d4f-873b-be8c26c92a02",
   "metadata": {},
   "outputs": [
    {
     "data": {
      "text/plain": [
       "1×5 Matrix{Int64}:\n",
       " 3  5  6  6  7"
      ]
     },
     "execution_count": 53,
     "metadata": {},
     "output_type": "execute_result"
    }
   ],
   "source": [
    "x1 = [1 2 2 3 4]\n",
    "x2 = [3 5 6 6 7]"
   ]
  },
  {
   "cell_type": "code",
   "execution_count": 54,
   "id": "9e7df86b-47dc-4118-8dca-91ca5bb1dd9f",
   "metadata": {},
   "outputs": [
    {
     "data": {
      "text/plain": [
       "7-element Vector{Int64}:\n",
       " 1\n",
       " 2\n",
       " 3\n",
       " 4\n",
       " 5\n",
       " 6\n",
       " 7"
      ]
     },
     "execution_count": 54,
     "metadata": {},
     "output_type": "execute_result"
    }
   ],
   "source": [
    "union(x1, x2) # union operation"
   ]
  },
  {
   "cell_type": "code",
   "execution_count": 55,
   "id": "7677252b-7fb3-4e0b-a8c2-4060e0573e18",
   "metadata": {},
   "outputs": [
    {
     "data": {
      "text/plain": [
       "1-element Vector{Int64}:\n",
       " 3"
      ]
     },
     "execution_count": 55,
     "metadata": {},
     "output_type": "execute_result"
    }
   ],
   "source": [
    "intersect(x1, x2)"
   ]
  },
  {
   "cell_type": "code",
   "execution_count": 56,
   "id": "56f9ca3c-30a5-4a3e-94e6-eb81fc8c25b9",
   "metadata": {},
   "outputs": [
    {
     "data": {
      "text/plain": [
       "3-element Vector{Int64}:\n",
       " 1\n",
       " 2\n",
       " 4"
      ]
     },
     "execution_count": 56,
     "metadata": {},
     "output_type": "execute_result"
    }
   ],
   "source": [
    "setdiff(x1, x2)"
   ]
  },
  {
   "cell_type": "code",
   "execution_count": 58,
   "id": "8510a55e-24ec-453b-91b3-e6155d699094",
   "metadata": {},
   "outputs": [
    {
     "data": {
      "text/plain": [
       "Set{Int64} with 6 elements:\n",
       "  5\n",
       "  4\n",
       "  6\n",
       "  7\n",
       "  2\n",
       "  1"
      ]
     },
     "execution_count": 58,
     "metadata": {},
     "output_type": "execute_result"
    }
   ],
   "source": [
    "symdiff(Set(x1), Set(x2))"
   ]
  },
  {
   "cell_type": "code",
   "execution_count": 59,
   "id": "1bd71925-69bf-45c6-b857-5d6b95047201",
   "metadata": {},
   "outputs": [
    {
     "data": {
      "text/plain": [
       "false"
      ]
     },
     "execution_count": 59,
     "metadata": {},
     "output_type": "execute_result"
    }
   ],
   "source": [
    "issubset(x1, x2)"
   ]
  },
  {
   "cell_type": "code",
   "execution_count": 62,
   "id": "c8ecfb05-aedb-442d-b8b5-143c48d15bf7",
   "metadata": {},
   "outputs": [
    {
     "data": {
      "text/plain": [
       "false"
      ]
     },
     "execution_count": 62,
     "metadata": {},
     "output_type": "execute_result"
    }
   ],
   "source": [
    "x1 ⊆ x2"
   ]
  },
  {
   "cell_type": "markdown",
   "id": "d50cb236-a9cf-446c-ba1d-e9dd5d8d5871",
   "metadata": {},
   "source": [
    "# Basic Linear Algebra"
   ]
  },
  {
   "cell_type": "code",
   "execution_count": 63,
   "id": "7ee3ce3d-e857-4589-bb1c-f43ca1711d28",
   "metadata": {},
   "outputs": [],
   "source": [
    "using LinearAlgebra"
   ]
  },
  {
   "cell_type": "code",
   "execution_count": 64,
   "id": "459a960f-0a65-463d-a678-5a92b4f6b209",
   "metadata": {},
   "outputs": [
    {
     "data": {
      "text/plain": [
       "3×3 Matrix{Int64}:\n",
       " 1  4  8\n",
       " 2  5  9\n",
       " 3  6  7"
      ]
     },
     "execution_count": 64,
     "metadata": {},
     "output_type": "execute_result"
    }
   ],
   "source": [
    "mat = [1 4 8; 2 5 9; 3 6 7]"
   ]
  },
  {
   "cell_type": "code",
   "execution_count": 65,
   "id": "4d64372a-468a-42a4-b50f-bc685432a0c3",
   "metadata": {},
   "outputs": [
    {
     "data": {
      "text/plain": [
       "13"
      ]
     },
     "execution_count": 65,
     "metadata": {},
     "output_type": "execute_result"
    }
   ],
   "source": [
    "tr(mat) # trace of matrix (sum of diagonal entries)"
   ]
  },
  {
   "cell_type": "code",
   "execution_count": 66,
   "id": "1673c54f-cbfc-41cb-84c6-30edb3d50ca0",
   "metadata": {},
   "outputs": [
    {
     "data": {
      "text/plain": [
       "9.0"
      ]
     },
     "execution_count": 66,
     "metadata": {},
     "output_type": "execute_result"
    }
   ],
   "source": [
    "det(mat)"
   ]
  },
  {
   "cell_type": "code",
   "execution_count": 67,
   "id": "3044bae7-7512-4dcc-89f2-88088dd3baa7",
   "metadata": {},
   "outputs": [
    {
     "data": {
      "text/plain": [
       "3×3 transpose(::Matrix{Int64}) with eltype Int64:\n",
       " 1  2  3\n",
       " 4  5  6\n",
       " 8  9  7"
      ]
     },
     "execution_count": 67,
     "metadata": {},
     "output_type": "execute_result"
    }
   ],
   "source": [
    "# transpose of a matrix\n",
    "transpose(mat)"
   ]
  },
  {
   "cell_type": "code",
   "execution_count": 69,
   "id": "c912e0b8-cc68-4902-ad77-0e82dd4a20d1",
   "metadata": {},
   "outputs": [
    {
     "data": {
      "text/plain": [
       "3×3 adjoint(::Matrix{Int64}) with eltype Int64:\n",
       " 1  2  3\n",
       " 4  5  6\n",
       " 8  9  7"
      ]
     },
     "execution_count": 69,
     "metadata": {},
     "output_type": "execute_result"
    }
   ],
   "source": [
    "mat' # same as above"
   ]
  },
  {
   "cell_type": "code",
   "execution_count": 70,
   "id": "01c32fbc-2a2c-4b10-9090-d4fef3068301",
   "metadata": {},
   "outputs": [
    {
     "data": {
      "text/plain": [
       "3×3 Matrix{Int64}:\n",
       " 4  2  1\n",
       " 5  0  3\n",
       " 3  2  1"
      ]
     },
     "execution_count": 70,
     "metadata": {},
     "output_type": "execute_result"
    }
   ],
   "source": [
    "mat2 = [4 2 1; 5 0 3; 3 2 1]"
   ]
  },
  {
   "cell_type": "code",
   "execution_count": 71,
   "id": "f09bbee7-31c4-4772-85ad-fb05105f588e",
   "metadata": {},
   "outputs": [
    {
     "data": {
      "text/plain": [
       "3×3 Matrix{Int64}:\n",
       " 48  18  21\n",
       " 60  22  26\n",
       " 63  20  28"
      ]
     },
     "execution_count": 71,
     "metadata": {},
     "output_type": "execute_result"
    }
   ],
   "source": [
    "mat * mat2 # this is not correct"
   ]
  },
  {
   "cell_type": "code",
   "execution_count": 72,
   "id": "8f6c5ec3-78a0-4935-9141-11beb3b30362",
   "metadata": {},
   "outputs": [
    {
     "data": {
      "text/plain": [
       "3×3 Matrix{Int64}:\n",
       "  4   8   8\n",
       " 10   0  27\n",
       "  9  12   7"
      ]
     },
     "execution_count": 72,
     "metadata": {},
     "output_type": "execute_result"
    }
   ],
   "source": [
    "mat .* mat2 # this is actual "
   ]
  },
  {
   "cell_type": "code",
   "execution_count": 73,
   "id": "3a28628a-56dd-4f78-bbed-0abbdf560bc1",
   "metadata": {},
   "outputs": [
    {
     "data": {
      "text/plain": [
       "0.13157894736842105"
      ]
     },
     "execution_count": 73,
     "metadata": {},
     "output_type": "execute_result"
    }
   ],
   "source": [
    "x = 7.6;\n",
    "y = 1 / x # y is inverse if x"
   ]
  },
  {
   "cell_type": "code",
   "execution_count": 74,
   "id": "4614ed59-b004-445b-a22f-e690a2b8a169",
   "metadata": {},
   "outputs": [
    {
     "data": {
      "text/plain": [
       "3×3 Matrix{Int64}:\n",
       " 1  0  0\n",
       " 0  1  0\n",
       " 0  0  1"
      ]
     },
     "execution_count": 74,
     "metadata": {},
     "output_type": "execute_result"
    }
   ],
   "source": [
    "# identity matrix\n",
    "idt = [1 0 0; 0 1 0; 0 0 1] "
   ]
  },
  {
   "cell_type": "code",
   "execution_count": 75,
   "id": "5579da88-6ecc-4d18-ad55-5b639bc264ed",
   "metadata": {},
   "outputs": [
    {
     "data": {
      "text/plain": [
       "UniformScaling{Bool}\n",
       "true*I"
      ]
     },
     "execution_count": 75,
     "metadata": {},
     "output_type": "execute_result"
    }
   ],
   "source": [
    "I # inbuilt identity matrix"
   ]
  },
  {
   "cell_type": "code",
   "execution_count": 76,
   "id": "55908578-e674-492f-b615-6d619fefaeab",
   "metadata": {},
   "outputs": [
    {
     "data": {
      "text/plain": [
       "3×3 Diagonal{Bool, Vector{Bool}}:\n",
       " 1  ⋅  ⋅\n",
       " ⋅  1  ⋅\n",
       " ⋅  ⋅  1"
      ]
     },
     "execution_count": 76,
     "metadata": {},
     "output_type": "execute_result"
    }
   ],
   "source": [
    "I(3)"
   ]
  },
  {
   "cell_type": "code",
   "execution_count": 78,
   "id": "a69dfcfe-65f2-4cbc-8b8b-835ac6af6ffb",
   "metadata": {},
   "outputs": [
    {
     "data": {
      "text/plain": [
       "true"
      ]
     },
     "execution_count": 78,
     "metadata": {},
     "output_type": "execute_result"
    }
   ],
   "source": [
    "idt == I(3)"
   ]
  },
  {
   "cell_type": "code",
   "execution_count": 80,
   "id": "0af4be85-4bdc-42f6-8743-71873527e1e0",
   "metadata": {},
   "outputs": [
    {
     "data": {
      "text/plain": [
       "3×3 Matrix{Float64}:\n",
       " -2.11111    2.22222   -0.444444\n",
       "  1.44444   -1.88889    0.777778\n",
       " -0.333333   0.666667  -0.333333"
      ]
     },
     "execution_count": 80,
     "metadata": {},
     "output_type": "execute_result"
    }
   ],
   "source": [
    "# inverse of a matrix\n",
    "invmat = inv(mat)"
   ]
  },
  {
   "cell_type": "code",
   "execution_count": 82,
   "id": "7e5fd02d-c8d1-4b2a-b9c4-ba186458d4ec",
   "metadata": {},
   "outputs": [
    {
     "data": {
      "text/plain": [
       "3×3 Matrix{Float64}:\n",
       "  1.0          0.0          -4.44089e-16\n",
       "  0.0          1.0          -4.44089e-16\n",
       " -8.88178e-16  8.88178e-16   1.0"
      ]
     },
     "execution_count": 82,
     "metadata": {},
     "output_type": "execute_result"
    }
   ],
   "source": [
    "mat * invmat"
   ]
  },
  {
   "cell_type": "code",
   "execution_count": 83,
   "id": "9a283dc7-f3d9-4b60-a697-00a658a824e2",
   "metadata": {},
   "outputs": [
    {
     "data": {
      "text/plain": [
       "2×2 Matrix{Int64}:\n",
       " 1   2\n",
       " 2  -4"
      ]
     },
     "execution_count": 83,
     "metadata": {},
     "output_type": "execute_result"
    }
   ],
   "source": [
    "# matrix divison\n",
    "A = [1 2; 2 -4]"
   ]
  },
  {
   "cell_type": "code",
   "execution_count": 85,
   "id": "98855669-f9f6-48ac-8e0c-dcf796b7b7f6",
   "metadata": {},
   "outputs": [
    {
     "data": {
      "text/plain": [
       "2-element Vector{Int64}:\n",
       " 28\n",
       " -2"
      ]
     },
     "execution_count": 85,
     "metadata": {},
     "output_type": "execute_result"
    }
   ],
   "source": [
    "B = [28; -2]"
   ]
  },
  {
   "cell_type": "code",
   "execution_count": 87,
   "id": "d98978c0-d4b3-4382-9cfa-7f5207329663",
   "metadata": {},
   "outputs": [
    {
     "data": {
      "text/plain": [
       "2-element Vector{Float64}:\n",
       " 13.5\n",
       "  7.25"
      ]
     },
     "execution_count": 87,
     "metadata": {},
     "output_type": "execute_result"
    }
   ],
   "source": [
    "# A * X = B\n",
    "X = A\\B"
   ]
  },
  {
   "cell_type": "code",
   "execution_count": 88,
   "id": "b944b1b8-571b-4bdd-8e4b-3b29414a269f",
   "metadata": {},
   "outputs": [
    {
     "data": {
      "text/plain": [
       "true"
      ]
     },
     "execution_count": 88,
     "metadata": {},
     "output_type": "execute_result"
    }
   ],
   "source": [
    "A*X == B"
   ]
  },
  {
   "cell_type": "code",
   "execution_count": null,
   "id": "043ada3b-753c-44da-abc3-a8b3076dada1",
   "metadata": {},
   "outputs": [],
   "source": []
  }
 ],
 "metadata": {
  "kernelspec": {
   "display_name": "Julia 1.9.1",
   "language": "julia",
   "name": "julia-1.9"
  },
  "language_info": {
   "file_extension": ".jl",
   "mimetype": "application/julia",
   "name": "julia",
   "version": "1.9.1"
  }
 },
 "nbformat": 4,
 "nbformat_minor": 5
}
