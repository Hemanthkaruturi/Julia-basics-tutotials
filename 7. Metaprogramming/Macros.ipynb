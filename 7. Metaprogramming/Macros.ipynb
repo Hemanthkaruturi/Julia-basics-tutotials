{
 "cells": [
  {
   "cell_type": "code",
   "execution_count": 1,
   "id": "e5430ff1-4f19-4f11-adc9-66272ff79528",
   "metadata": {},
   "outputs": [],
   "source": [
    "# Macros take code and generate new code"
   ]
  },
  {
   "cell_type": "code",
   "execution_count": 2,
   "id": "f7f42fec-88ad-4621-86ae-c3224db64247",
   "metadata": {},
   "outputs": [
    {
     "data": {
      "text/plain": [
       "@hello (macro with 1 method)"
      ]
     },
     "execution_count": 2,
     "metadata": {},
     "output_type": "execute_result"
    }
   ],
   "source": [
    "macro hello(exp)\n",
    "    println(\"Hello \", exp)\n",
    "end"
   ]
  },
  {
   "cell_type": "code",
   "execution_count": 3,
   "id": "942fee15-9f64-47bf-96cf-3d93f592da51",
   "metadata": {},
   "outputs": [
    {
     "name": "stdout",
     "output_type": "stream",
     "text": [
      "Hello Hemanth\n"
     ]
    }
   ],
   "source": [
    "@hello(\"Hemanth\")"
   ]
  },
  {
   "cell_type": "code",
   "execution_count": 4,
   "id": "38504518-d998-4660-b73e-20f2b8ab9f87",
   "metadata": {},
   "outputs": [
    {
     "name": "stdout",
     "output_type": "stream",
     "text": [
      "Hello Hemanth\n"
     ]
    }
   ],
   "source": [
    "@hello \"Hemanth\""
   ]
  },
  {
   "cell_type": "code",
   "execution_count": 5,
   "id": "46192ad6-df72-480f-ac59-02fc08a5657c",
   "metadata": {},
   "outputs": [
    {
     "data": {
      "text/plain": [
       "@hello2 (macro with 1 method)"
      ]
     },
     "execution_count": 5,
     "metadata": {},
     "output_type": "execute_result"
    }
   ],
   "source": [
    "macro hello2(exp1, exp2)\n",
    "    println(\"Hello \", exp1, \" and \", exp2)\n",
    "end"
   ]
  },
  {
   "cell_type": "code",
   "execution_count": 6,
   "id": "b3c47153-e2e6-4544-9136-d9686b22196c",
   "metadata": {},
   "outputs": [
    {
     "name": "stdout",
     "output_type": "stream",
     "text": [
      "Hello Hemanth and Karuturi\n"
     ]
    }
   ],
   "source": [
    "@hello2(\"Hemanth\",\"Karuturi\")"
   ]
  },
  {
   "cell_type": "code",
   "execution_count": 7,
   "id": "33c9b1e9-229f-4c10-aec0-f72f8ea8ce0b",
   "metadata": {},
   "outputs": [
    {
     "name": "stdout",
     "output_type": "stream",
     "text": [
      "Hello Hemanth and Karuturi\n"
     ]
    }
   ],
   "source": [
    "@hello2 \"Hemanth\" \"Karuturi\""
   ]
  },
  {
   "cell_type": "code",
   "execution_count": 8,
   "id": "5a525546-9c30-4a56-9f0b-264d3837c706",
   "metadata": {},
   "outputs": [
    {
     "data": {
      "text/plain": [
       "func_hello2 (generic function with 1 method)"
      ]
     },
     "execution_count": 8,
     "metadata": {},
     "output_type": "execute_result"
    }
   ],
   "source": [
    "# very very similar to function\n",
    "function func_hello2(exp1, exp2)\n",
    "    println(\"Hello \", exp1, \" and \", exp2)\n",
    "end"
   ]
  },
  {
   "cell_type": "code",
   "execution_count": 9,
   "id": "94ca203a-66fb-4dbb-81ef-cc6c69b4c532",
   "metadata": {},
   "outputs": [
    {
     "name": "stdout",
     "output_type": "stream",
     "text": [
      "Hello Hemanth and ravi\n"
     ]
    }
   ],
   "source": [
    "func_hello2(\"Hemanth\",\"ravi\")"
   ]
  },
  {
   "cell_type": "code",
   "execution_count": 10,
   "id": "f0d33d30-a706-46a5-a98e-53cbb6b4c972",
   "metadata": {},
   "outputs": [
    {
     "name": "stdout",
     "output_type": "stream",
     "text": [
      "Hello Hemanth\n"
     ]
    }
   ],
   "source": [
    "@hello Hemanth"
   ]
  },
  {
   "cell_type": "code",
   "execution_count": 11,
   "id": "24bafa8c-392d-4154-a075-3edbed44f5e7",
   "metadata": {},
   "outputs": [
    {
     "name": "stdout",
     "output_type": "stream",
     "text": [
      "Hello Hemanth and Karuturi\n"
     ]
    }
   ],
   "source": [
    "@hello2 Hemanth Karuturi"
   ]
  },
  {
   "cell_type": "code",
   "execution_count": 12,
   "id": "4fbfce7d-3053-465d-8301-0c37104d3f18",
   "metadata": {},
   "outputs": [],
   "source": [
    "# above are not possible with a function"
   ]
  },
  {
   "cell_type": "code",
   "execution_count": 13,
   "id": "0fb0a3d0-07fe-4982-b853-652e109dd556",
   "metadata": {},
   "outputs": [
    {
     "data": {
      "text/plain": [
       "@hello3 (macro with 1 method)"
      ]
     },
     "execution_count": 13,
     "metadata": {},
     "output_type": "execute_result"
    }
   ],
   "source": [
    "macro hello3(exp)\n",
    "    :(\n",
    "        println(\"Hello \", $(string(exp)))\n",
    "    )\n",
    "end"
   ]
  },
  {
   "cell_type": "code",
   "execution_count": 14,
   "id": "419ee074-c42d-48ac-b2d6-f7856d4e9609",
   "metadata": {},
   "outputs": [
    {
     "name": "stdout",
     "output_type": "stream",
     "text": [
      "Hello Hemanth\n"
     ]
    }
   ],
   "source": [
    "@hello3 Hemanth"
   ]
  },
  {
   "cell_type": "code",
   "execution_count": 15,
   "id": "7101d7b5-0d93-4a8c-be21-e8ec751c20cd",
   "metadata": {},
   "outputs": [
    {
     "name": "stdout",
     "output_type": "stream",
     "text": [
      "Hello a + b\n"
     ]
    }
   ],
   "source": [
    "@hello3 a+b"
   ]
  },
  {
   "cell_type": "code",
   "execution_count": 16,
   "id": "649d78f5-17d4-4333-8157-046803e27c0e",
   "metadata": {},
   "outputs": [
    {
     "data": {
      "text/plain": [
       "@myprint (macro with 1 method)"
      ]
     },
     "execution_count": 16,
     "metadata": {},
     "output_type": "execute_result"
    }
   ],
   "source": [
    "macro myprint(exp)\n",
    "    :(\n",
    "        println($exp)\n",
    "    )\n",
    "end"
   ]
  },
  {
   "cell_type": "code",
   "execution_count": 17,
   "id": "13f53bc7-b7f0-4b78-9eaa-6f107d86aade",
   "metadata": {},
   "outputs": [
    {
     "name": "stdout",
     "output_type": "stream",
     "text": [
      "Hemanth\n"
     ]
    }
   ],
   "source": [
    "@myprint \"Hemanth\""
   ]
  },
  {
   "cell_type": "code",
   "execution_count": 18,
   "id": "eb7c30c1-c36b-4bc2-ad5e-b0f1617cff56",
   "metadata": {},
   "outputs": [
    {
     "name": "stdout",
     "output_type": "stream",
     "text": [
      "#3\n"
     ]
    }
   ],
   "source": [
    "@myprint x -> 2+3"
   ]
  },
  {
   "cell_type": "code",
   "execution_count": 19,
   "id": "192ac27e-a5e1-488e-b91b-22849df96e5e",
   "metadata": {},
   "outputs": [
    {
     "data": {
      "text/plain": [
       "_my_print (generic function with 1 method)"
      ]
     },
     "execution_count": 19,
     "metadata": {},
     "output_type": "execute_result"
    }
   ],
   "source": [
    "function _my_print(x)\n",
    "    @myprint x\n",
    "end"
   ]
  },
  {
   "cell_type": "code",
   "execution_count": 20,
   "id": "577841b7-db47-469a-924d-c85f5b92b3fd",
   "metadata": {},
   "outputs": [
    {
     "ename": "LoadError",
     "evalue": "UndefVarError: `x` not defined",
     "output_type": "error",
     "traceback": [
      "UndefVarError: `x` not defined",
      "",
      "Stacktrace:",
      " [1] _my_print(x::String)",
      "   @ Main .\\In[19]:2",
      " [2] top-level scope",
      "   @ In[20]:1"
     ]
    }
   ],
   "source": [
    "_my_print(\"Hemanth\") # this is weird"
   ]
  },
  {
   "cell_type": "code",
   "execution_count": 21,
   "id": "16159484-1f51-4f74-a053-c201665bcc98",
   "metadata": {},
   "outputs": [
    {
     "name": "stdout",
     "output_type": "stream",
     "text": [
      "Karuturi\n"
     ]
    }
   ],
   "source": [
    "x = \"Karuturi\"\n",
    "_my_print(x)"
   ]
  },
  {
   "cell_type": "code",
   "execution_count": 23,
   "id": "e192bc94-adc8-46b4-9d01-87433bc36629",
   "metadata": {},
   "outputs": [
    {
     "name": "stdout",
     "output_type": "stream",
     "text": [
      "Karuturi\n"
     ]
    }
   ],
   "source": [
    "y = \"Ram\"\n",
    "_my_print(y)"
   ]
  },
  {
   "cell_type": "code",
   "execution_count": 25,
   "id": "5dbd8f02-6583-4f91-9566-0e25bc7318a1",
   "metadata": {},
   "outputs": [
    {
     "name": "stdout",
     "output_type": "stream",
     "text": [
      "Raghu\n"
     ]
    }
   ],
   "source": [
    "x = \"Raghu\"\n",
    "_my_print(x)"
   ]
  },
  {
   "cell_type": "code",
   "execution_count": 26,
   "id": "7498ec99-9ab4-43da-8e0b-6f89fdb9cb77",
   "metadata": {},
   "outputs": [
    {
     "data": {
      "text/plain": [
       ":(Main.println(Main.x))"
      ]
     },
     "execution_count": 26,
     "metadata": {},
     "output_type": "execute_result"
    }
   ],
   "source": [
    "@macroexpand @myprint x"
   ]
  },
  {
   "cell_type": "code",
   "execution_count": 31,
   "id": "1146bac8-d0a2-40a5-89cd-b51d3f368dcf",
   "metadata": {},
   "outputs": [
    {
     "data": {
      "text/plain": [
       "@myprint2 (macro with 1 method)"
      ]
     },
     "execution_count": 31,
     "metadata": {},
     "output_type": "execute_result"
    }
   ],
   "source": [
    "# solution\n",
    "macro myprint2(ex)\n",
    "    :(\n",
    "    println($(esc(ex)))\n",
    "    )\n",
    "end"
   ]
  },
  {
   "cell_type": "code",
   "execution_count": 32,
   "id": "2d35c1f0-d7e9-41f4-a7ac-998ad810c998",
   "metadata": {},
   "outputs": [
    {
     "data": {
      "text/plain": [
       "_my_print2 (generic function with 1 method)"
      ]
     },
     "execution_count": 32,
     "metadata": {},
     "output_type": "execute_result"
    }
   ],
   "source": [
    "function _my_print2(x)\n",
    "    @myprint2 x\n",
    "end"
   ]
  },
  {
   "cell_type": "code",
   "execution_count": 33,
   "id": "8419a14f-f809-47e5-be1d-43ba9fb022b0",
   "metadata": {},
   "outputs": [
    {
     "name": "stdout",
     "output_type": "stream",
     "text": [
      "ram\n"
     ]
    }
   ],
   "source": [
    "y = \"ram\"\n",
    "_my_print2(y)"
   ]
  },
  {
   "cell_type": "code",
   "execution_count": 34,
   "id": "942babd8-59d4-46e0-bc22-57dc9f691f17",
   "metadata": {},
   "outputs": [],
   "source": [
    "# working now"
   ]
  },
  {
   "cell_type": "code",
   "execution_count": 40,
   "id": "9beffd18-115b-4ac1-b206-663d866acfbb",
   "metadata": {},
   "outputs": [
    {
     "data": {
      "text/plain": [
       "f (generic function with 1 method)"
      ]
     },
     "execution_count": 40,
     "metadata": {},
     "output_type": "execute_result"
    }
   ],
   "source": [
    "f(x) = x+8"
   ]
  },
  {
   "cell_type": "code",
   "execution_count": 41,
   "id": "5bb9feb2-a21c-419a-ad27-04a932435dd6",
   "metadata": {},
   "outputs": [
    {
     "data": {
      "text/plain": [
       "g (generic function with 1 method)"
      ]
     },
     "execution_count": 41,
     "metadata": {},
     "output_type": "execute_result"
    }
   ],
   "source": [
    "g(x) = x^3"
   ]
  },
  {
   "cell_type": "code",
   "execution_count": 42,
   "id": "beb6a380-46da-4466-91c5-b7b9b750e924",
   "metadata": {},
   "outputs": [
    {
     "data": {
      "text/plain": [
       "h (generic function with 1 method)"
      ]
     },
     "execution_count": 42,
     "metadata": {},
     "output_type": "execute_result"
    }
   ],
   "source": [
    "h(x) = x / 10"
   ]
  },
  {
   "cell_type": "code",
   "execution_count": 45,
   "id": "d624bba2-79b3-41f4-9d78-c938868a2863",
   "metadata": {},
   "outputs": [
    {
     "data": {
      "text/plain": [
       "8.027"
      ]
     },
     "execution_count": 45,
     "metadata": {},
     "output_type": "execute_result"
    }
   ],
   "source": [
    "3 |> h |> g |> f"
   ]
  },
  {
   "cell_type": "code",
   "execution_count": 46,
   "id": "125cccd7-645c-4358-b05c-abe265fbc428",
   "metadata": {},
   "outputs": [
    {
     "data": {
      "text/plain": [
       "8.027"
      ]
     },
     "execution_count": 46,
     "metadata": {},
     "output_type": "execute_result"
    }
   ],
   "source": [
    "f(g(h(3)))"
   ]
  },
  {
   "cell_type": "code",
   "execution_count": 48,
   "id": "b11ec0f7-a1e7-4299-8959-0453ed0a69f0",
   "metadata": {},
   "outputs": [
    {
     "data": {
      "text/plain": [
       "@chain (macro with 1 method)"
      ]
     },
     "execution_count": 48,
     "metadata": {},
     "output_type": "execute_result"
    }
   ],
   "source": [
    "macro chain(x, funs...)\n",
    "    ex = Expr(:call, :($(funs[1])), :($x))\n",
    "    for i in 2:length(funs)\n",
    "        ex = Expr(:call, :($(funs[i])), :($ex))\n",
    "    end\n",
    "    return :($ex)\n",
    "end"
   ]
  },
  {
   "cell_type": "code",
   "execution_count": 49,
   "id": "d47d2cbe-c69e-4f9e-a51b-0c2b0b685868",
   "metadata": {},
   "outputs": [
    {
     "data": {
      "text/plain": [
       "8.064"
      ]
     },
     "execution_count": 49,
     "metadata": {},
     "output_type": "execute_result"
    }
   ],
   "source": [
    "@chain 4 h g f"
   ]
  },
  {
   "cell_type": "code",
   "execution_count": 50,
   "id": "007d1efa-24f5-4e46-a194-e30513a2a461",
   "metadata": {},
   "outputs": [
    {
     "data": {
      "text/plain": [
       "8.027"
      ]
     },
     "execution_count": 50,
     "metadata": {},
     "output_type": "execute_result"
    }
   ],
   "source": [
    "@chain 3 h g f"
   ]
  },
  {
   "cell_type": "code",
   "execution_count": 51,
   "id": "270d54b4-1b21-4030-86eb-54e1984880c8",
   "metadata": {},
   "outputs": [
    {
     "data": {
      "text/plain": [
       "350.0"
      ]
     },
     "execution_count": 51,
     "metadata": {},
     "output_type": "execute_result"
    }
   ],
   "source": [
    "@chain 10 x ->x^2 x->x/2 x->x*7"
   ]
  },
  {
   "cell_type": "code",
   "execution_count": null,
   "id": "bcfdb7f7-6cfa-4835-9c43-321d83eb30ac",
   "metadata": {},
   "outputs": [],
   "source": []
  }
 ],
 "metadata": {
  "kernelspec": {
   "display_name": "Julia 1.9.1",
   "language": "julia",
   "name": "julia-1.9"
  },
  "language_info": {
   "file_extension": ".jl",
   "mimetype": "application/julia",
   "name": "julia",
   "version": "1.9.1"
  }
 },
 "nbformat": 4,
 "nbformat_minor": 5
}
