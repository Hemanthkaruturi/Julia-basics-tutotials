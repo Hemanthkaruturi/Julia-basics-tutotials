{
 "cells": [
  {
   "cell_type": "markdown",
   "id": "fc114e47-8cd4-4e0a-bf10-be679ce3d6e4",
   "metadata": {},
   "source": [
    "# Functions"
   ]
  },
  {
   "cell_type": "code",
   "execution_count": 2,
   "id": "b4822d6e-05b8-49b1-82d0-a9b5c9cf8813",
   "metadata": {},
   "outputs": [
    {
     "data": {
      "text/plain": [
       "sum (generic function with 1 method)"
      ]
     },
     "execution_count": 2,
     "metadata": {},
     "output_type": "execute_result"
    }
   ],
   "source": [
    "# write function with return statement similar to python\n",
    "function sum(x,y)\n",
    "    return x+y\n",
    "end"
   ]
  },
  {
   "cell_type": "code",
   "execution_count": 3,
   "id": "dbddba6d-aebe-4d70-9267-2672c7b12eba",
   "metadata": {},
   "outputs": [
    {
     "data": {
      "text/plain": [
       "7"
      ]
     },
     "execution_count": 3,
     "metadata": {},
     "output_type": "execute_result"
    }
   ],
   "source": [
    "sum(3,4)"
   ]
  },
  {
   "cell_type": "code",
   "execution_count": 4,
   "id": "ff1c6280-c83b-47d4-a4a0-e41136047b24",
   "metadata": {},
   "outputs": [
    {
     "data": {
      "text/plain": [
       "sum (generic function with 1 method)"
      ]
     },
     "execution_count": 4,
     "metadata": {},
     "output_type": "execute_result"
    }
   ],
   "source": [
    "# In Julia we can also write function without return statement\n",
    "function sum(x,y)\n",
    "    x+y\n",
    "end"
   ]
  },
  {
   "cell_type": "code",
   "execution_count": 5,
   "id": "d7c60e79-c7d6-4b27-88e9-c0505b264dc4",
   "metadata": {},
   "outputs": [
    {
     "data": {
      "text/plain": [
       "13"
      ]
     },
     "execution_count": 5,
     "metadata": {},
     "output_type": "execute_result"
    }
   ],
   "source": [
    "sum(7,6)"
   ]
  },
  {
   "cell_type": "code",
   "execution_count": 6,
   "id": "74724813-ef8d-4083-9c64-f6447df08fe3",
   "metadata": {},
   "outputs": [
    {
     "data": {
      "text/plain": [
       "sum (generic function with 1 method)"
      ]
     },
     "execution_count": 6,
     "metadata": {},
     "output_type": "execute_result"
    }
   ],
   "source": [
    "# we can also write single line functions like this\n",
    "sum(x,y) = x+y"
   ]
  },
  {
   "cell_type": "code",
   "execution_count": 7,
   "id": "d17351b4-eaeb-4268-a523-9655c6825b6b",
   "metadata": {},
   "outputs": [
    {
     "data": {
      "text/plain": [
       "9"
      ]
     },
     "execution_count": 7,
     "metadata": {},
     "output_type": "execute_result"
    }
   ],
   "source": [
    "sum(4,5)"
   ]
  },
  {
   "cell_type": "code",
   "execution_count": 9,
   "id": "de1035c8-231d-438e-8873-921cf13d1de0",
   "metadata": {},
   "outputs": [
    {
     "data": {
      "text/plain": [
       "multi_func (generic function with 1 method)"
      ]
     },
     "execution_count": 9,
     "metadata": {},
     "output_type": "execute_result"
    }
   ],
   "source": [
    "# we can return multiple values similar to python\n",
    "function multi_func(x,y)\n",
    "    return x,y\n",
    "end"
   ]
  },
  {
   "cell_type": "code",
   "execution_count": 11,
   "id": "bcaae26b-680a-443c-a6f3-1af2514c1778",
   "metadata": {},
   "outputs": [
    {
     "data": {
      "text/plain": [
       "(2, 3)"
      ]
     },
     "execution_count": 11,
     "metadata": {},
     "output_type": "execute_result"
    }
   ],
   "source": [
    "a,b = multi_func(2,3)"
   ]
  },
  {
   "cell_type": "code",
   "execution_count": 12,
   "id": "0628b175-a443-4310-b82f-e0f1996df66b",
   "metadata": {},
   "outputs": [
    {
     "data": {
      "text/plain": [
       "2"
      ]
     },
     "execution_count": 12,
     "metadata": {},
     "output_type": "execute_result"
    }
   ],
   "source": [
    "a"
   ]
  },
  {
   "cell_type": "code",
   "execution_count": 13,
   "id": "f8125405-7f86-42fd-9d3d-96586109638b",
   "metadata": {},
   "outputs": [
    {
     "data": {
      "text/plain": [
       "3"
      ]
     },
     "execution_count": 13,
     "metadata": {},
     "output_type": "execute_result"
    }
   ],
   "source": [
    "b"
   ]
  },
  {
   "cell_type": "code",
   "execution_count": 14,
   "id": "8ca58836-09d6-47b6-aba6-941ab37dd521",
   "metadata": {},
   "outputs": [
    {
     "data": {
      "text/plain": [
       "Φ (generic function with 1 method)"
      ]
     },
     "execution_count": 14,
     "metadata": {},
     "output_type": "execute_result"
    }
   ],
   "source": [
    "# using unicode characters as function names\n",
    "# \\Phi TAB\n",
    "function Φ(x,y)\n",
    "    x+y\n",
    "end"
   ]
  },
  {
   "cell_type": "code",
   "execution_count": 15,
   "id": "075967c6-a02f-47de-b26f-3e309ee36eec",
   "metadata": {},
   "outputs": [
    {
     "data": {
      "text/plain": [
       "7"
      ]
     },
     "execution_count": 15,
     "metadata": {},
     "output_type": "execute_result"
    }
   ],
   "source": [
    "Φ(3,4)"
   ]
  },
  {
   "cell_type": "code",
   "execution_count": 18,
   "id": "06bf438a-9403-400b-bd25-956241190aae",
   "metadata": {},
   "outputs": [
    {
     "data": {
      "text/plain": [
       "∑ (generic function with 1 method)"
      ]
     },
     "execution_count": 18,
     "metadata": {},
     "output_type": "execute_result"
    }
   ],
   "source": [
    "# using unicode characters as function names\n",
    "# \\sum TAB\n",
    "function ∑(x,y)\n",
    "    x+y\n",
    "end"
   ]
  },
  {
   "cell_type": "code",
   "execution_count": 20,
   "id": "6e05e0c5-49db-4430-b458-9acdde8ab5e5",
   "metadata": {},
   "outputs": [
    {
     "data": {
      "text/plain": [
       "7"
      ]
     },
     "execution_count": 20,
     "metadata": {},
     "output_type": "execute_result"
    }
   ],
   "source": [
    "∑(3,4)"
   ]
  },
  {
   "cell_type": "code",
   "execution_count": 21,
   "id": "e5673fc1-aa88-48c1-b087-16d318f0dbb8",
   "metadata": {},
   "outputs": [
    {
     "data": {
      "text/plain": [
       "fact (generic function with 1 method)"
      ]
     },
     "execution_count": 21,
     "metadata": {},
     "output_type": "execute_result"
    }
   ],
   "source": [
    "# we can also specify datatype in argument\n",
    "function fact(n::Integer)\n",
    "    f = 1\n",
    "    for i ∈ 1:n\n",
    "        f *= i\n",
    "    end\n",
    "    return f\n",
    "end"
   ]
  },
  {
   "cell_type": "code",
   "execution_count": 23,
   "id": "8bcf84a6-e8c4-499a-a8e5-13b8c0593417",
   "metadata": {},
   "outputs": [
    {
     "data": {
      "text/plain": [
       "6"
      ]
     },
     "execution_count": 23,
     "metadata": {},
     "output_type": "execute_result"
    }
   ],
   "source": [
    "fact(3)"
   ]
  },
  {
   "cell_type": "code",
   "execution_count": 24,
   "id": "70eb3f93-09a4-4d8f-8e3a-4fa2fc6c3080",
   "metadata": {},
   "outputs": [
    {
     "data": {
      "text/plain": [
       "fact (generic function with 1 method)"
      ]
     },
     "execution_count": 24,
     "metadata": {},
     "output_type": "execute_result"
    }
   ],
   "source": [
    "# we can also specify datatype in argument\n",
    "# we can also define the type of the return value\n",
    "function fact(n::Integer)::Integer\n",
    "    f = 1\n",
    "    for i ∈ 1:n\n",
    "        f *= i\n",
    "    end\n",
    "    return f\n",
    "end"
   ]
  },
  {
   "cell_type": "code",
   "execution_count": 25,
   "id": "184a6feb-90d4-47ba-b66f-198a4a434bb9",
   "metadata": {},
   "outputs": [
    {
     "data": {
      "text/plain": [
       "6"
      ]
     },
     "execution_count": 25,
     "metadata": {},
     "output_type": "execute_result"
    }
   ],
   "source": [
    "fact(3)"
   ]
  },
  {
   "cell_type": "code",
   "execution_count": 26,
   "id": "b7662bdf-56fd-4f5e-9ed1-99f2968a7ef4",
   "metadata": {},
   "outputs": [
    {
     "data": {
      "text/plain": [
       "60"
      ]
     },
     "execution_count": 26,
     "metadata": {},
     "output_type": "execute_result"
    }
   ],
   "source": [
    "# we can use operators as functions\n",
    "*(3,4,5)"
   ]
  },
  {
   "cell_type": "code",
   "execution_count": 27,
   "id": "d3be8031-6fbe-4885-b6e8-328178945ed4",
   "metadata": {},
   "outputs": [
    {
     "data": {
      "text/plain": [
       "60"
      ]
     },
     "execution_count": 27,
     "metadata": {},
     "output_type": "execute_result"
    }
   ],
   "source": [
    "m = *\n",
    "m(3,4,5)"
   ]
  },
  {
   "cell_type": "code",
   "execution_count": 29,
   "id": "7da0ae4f-53de-4486-8e91-9115cf23750d",
   "metadata": {},
   "outputs": [
    {
     "data": {
      "text/plain": [
       "findmeansd (generic function with 1 method)"
      ]
     },
     "execution_count": 29,
     "metadata": {},
     "output_type": "execute_result"
    }
   ],
   "source": [
    "function findmeansd(array)\n",
    "    total = 0\n",
    "    n = 0\n",
    "    \n",
    "    for el in array\n",
    "        total += el\n",
    "        n += 1\n",
    "    end\n",
    "    μ = total / n\n",
    "    \n",
    "    σ = 0\n",
    "    for el in array\n",
    "        σ += (el - μ)^2\n",
    "    end\n",
    "    σ = √(σ/(n-1))\n",
    "    \n",
    "    return μ, σ\n",
    "end"
   ]
  },
  {
   "cell_type": "code",
   "execution_count": 30,
   "id": "a31b1278-db1a-4784-b11b-b88b0fd58ca5",
   "metadata": {},
   "outputs": [
    {
     "data": {
      "text/plain": [
       "(3.5, 1.8708286933869707)"
      ]
     },
     "execution_count": 30,
     "metadata": {},
     "output_type": "execute_result"
    }
   ],
   "source": [
    "findmeansd([1 2 3 4 5 6])"
   ]
  },
  {
   "cell_type": "code",
   "execution_count": 31,
   "id": "79a115e4-5cb9-408c-9c74-58ce93d69dfb",
   "metadata": {},
   "outputs": [
    {
     "data": {
      "text/plain": [
       "(3.5, 1.8708286933869707)"
      ]
     },
     "execution_count": 31,
     "metadata": {},
     "output_type": "execute_result"
    }
   ],
   "source": [
    "avg, sd = findmeansd([1 2 3 4 5 6])"
   ]
  },
  {
   "cell_type": "code",
   "execution_count": 32,
   "id": "155e4b65-f783-42de-8118-db06de70ba16",
   "metadata": {},
   "outputs": [
    {
     "data": {
      "text/plain": [
       "#3 (generic function with 1 method)"
      ]
     },
     "execution_count": 32,
     "metadata": {},
     "output_type": "execute_result"
    }
   ],
   "source": [
    "# Anonymous functions\n",
    "# we can also declare functions in below way\n",
    "x -> 3x^2 + 5x - 4"
   ]
  },
  {
   "cell_type": "code",
   "execution_count": 36,
   "id": "91f1c4f4-110c-4508-b65f-b7a68997f1c8",
   "metadata": {},
   "outputs": [
    {
     "data": {
      "text/plain": [
       "#5 (generic function with 1 method)"
      ]
     },
     "execution_count": 36,
     "metadata": {},
     "output_type": "execute_result"
    }
   ],
   "source": [
    "g = x -> 3x^2 + 5x - 4"
   ]
  },
  {
   "cell_type": "code",
   "execution_count": 37,
   "id": "c0954815-21c6-48be-8e39-47cd3751b10e",
   "metadata": {},
   "outputs": [
    {
     "data": {
      "text/plain": [
       "38"
      ]
     },
     "execution_count": 37,
     "metadata": {},
     "output_type": "execute_result"
    }
   ],
   "source": [
    "g(3)"
   ]
  },
  {
   "cell_type": "code",
   "execution_count": 38,
   "id": "fefd4650-d32a-4d3e-b51e-9de037760a45",
   "metadata": {},
   "outputs": [
    {
     "data": {
      "text/plain": [
       "#7 (generic function with 1 method)"
      ]
     },
     "execution_count": 38,
     "metadata": {},
     "output_type": "execute_result"
    }
   ],
   "source": [
    "(x,y,z) -> (x^2 - y^3)/z^3"
   ]
  },
  {
   "cell_type": "code",
   "execution_count": 41,
   "id": "a7755f16-17bd-436b-abd8-da0139817c88",
   "metadata": {},
   "outputs": [
    {
     "data": {
      "text/plain": [
       "fact (generic function with 2 methods)"
      ]
     },
     "execution_count": 41,
     "metadata": {},
     "output_type": "execute_result"
    }
   ],
   "source": [
    "# recursive functions\n",
    "# factorial f an integer\n",
    "fact(n) = n == 1 ? n : n* fact(n-1)"
   ]
  },
  {
   "cell_type": "code",
   "execution_count": 42,
   "id": "faad87fe-93ba-4796-9c07-1bdfc702631b",
   "metadata": {},
   "outputs": [
    {
     "data": {
      "text/plain": [
       "6"
      ]
     },
     "execution_count": 42,
     "metadata": {},
     "output_type": "execute_result"
    }
   ],
   "source": [
    "fact(3)"
   ]
  },
  {
   "cell_type": "code",
   "execution_count": 43,
   "id": "8564cb16-6182-470c-b438-e83a904aa3c4",
   "metadata": {},
   "outputs": [
    {
     "data": {
      "text/plain": [
       "fibo (generic function with 1 method)"
      ]
     },
     "execution_count": 43,
     "metadata": {},
     "output_type": "execute_result"
    }
   ],
   "source": [
    "# recirsive functions example 2\n",
    "# fibonachi\n",
    "fibo(n) = n < 2 ? n : fibo(n-1) + fibo(n-2)"
   ]
  },
  {
   "cell_type": "code",
   "execution_count": 44,
   "id": "2cf923e0-a1ff-4628-bd37-fe7252399716",
   "metadata": {},
   "outputs": [
    {
     "data": {
      "text/plain": [
       "55"
      ]
     },
     "execution_count": 44,
     "metadata": {},
     "output_type": "execute_result"
    }
   ],
   "source": [
    "fibo(10)"
   ]
  },
  {
   "cell_type": "markdown",
   "id": "bafd5fdb-5faf-4524-ab64-f7e1444d0feb",
   "metadata": {},
   "source": [
    "# Map"
   ]
  },
  {
   "cell_type": "code",
   "execution_count": 46,
   "id": "1b84e628-c246-4d12-9a5e-4c7b9faade64",
   "metadata": {},
   "outputs": [
    {
     "name": "stdout",
     "output_type": "stream",
     "text": [
      "Any[1, 4, 9, 16, 25, 36]"
     ]
    }
   ],
   "source": [
    "# square of numbers traditional way\n",
    "arr = [1 2 3 4 5 6]\n",
    "sqrarr = []\n",
    "\n",
    "for el in arr\n",
    "    append!(sqrarr, el^2)\n",
    "end\n",
    "\n",
    "print(sqrarr)"
   ]
  },
  {
   "cell_type": "code",
   "execution_count": 49,
   "id": "9c3412bc-bb04-4604-ad3f-b7e785cabe42",
   "metadata": {},
   "outputs": [
    {
     "name": "stdout",
     "output_type": "stream",
     "text": [
      "[1 4 9 16 25 36]"
     ]
    }
   ],
   "source": [
    "# same thing we can achieve using map function\n",
    "arr = [1 2 3 4 5 6]\n",
    "sqarr = map(x -> x^2, arr)\n",
    "print(sqarr)"
   ]
  },
  {
   "cell_type": "code",
   "execution_count": 50,
   "id": "2cda7711-aa65-45f9-bd89-c929357f957a",
   "metadata": {},
   "outputs": [
    {
     "name": "stdout",
     "output_type": "stream",
     "text": [
      "[1 4 9 16 25 36]"
     ]
    }
   ],
   "source": [
    "# map is almost equal to broadcast\n",
    "arr = [1 2 3 4 5 6]\n",
    "sqarr = broadcast(x -> x^2, arr)\n",
    "print(sqarr)"
   ]
  },
  {
   "cell_type": "code",
   "execution_count": 51,
   "id": "16796725-bb67-4dc9-9819-d5956eca6a96",
   "metadata": {},
   "outputs": [
    {
     "data": {
      "text/plain": [
       "1×5 Matrix{Int64}:\n",
       " 11  22  6  44  55"
      ]
     },
     "execution_count": 51,
     "metadata": {},
     "output_type": "execute_result"
    }
   ],
   "source": [
    "rowvec = [1 2 3 4 5]\n",
    "colvec = [10 20 3 40 50]\n",
    "\n",
    "map(+, rowvec, colvec)"
   ]
  },
  {
   "cell_type": "code",
   "execution_count": 52,
   "id": "9719ad96-4eb6-4ebe-8b9a-39634f0fcd9e",
   "metadata": {},
   "outputs": [
    {
     "data": {
      "text/plain": [
       "1×5 Matrix{Int64}:\n",
       " 11  22  6  44  55"
      ]
     },
     "execution_count": 52,
     "metadata": {},
     "output_type": "execute_result"
    }
   ],
   "source": [
    "# same as above\n",
    "rowvec .+ colvec"
   ]
  },
  {
   "cell_type": "markdown",
   "id": "dac3c745-686c-4fcc-875c-a4561ebf13b0",
   "metadata": {},
   "source": [
    "# reduce"
   ]
  },
  {
   "cell_type": "code",
   "execution_count": 53,
   "id": "4674cf1d-7475-4d0d-aea2-47e84b065dcc",
   "metadata": {},
   "outputs": [
    {
     "data": {
      "text/plain": [
       "21"
      ]
     },
     "execution_count": 53,
     "metadata": {},
     "output_type": "execute_result"
    }
   ],
   "source": [
    "# sum of all the numbers\n",
    "arr = [1 2 3 4 5 6]\n",
    "reduce(+, arr)"
   ]
  },
  {
   "cell_type": "code",
   "execution_count": 54,
   "id": "d569bbf9-aa96-4387-9044-e4cd3e2275d4",
   "metadata": {},
   "outputs": [
    {
     "data": {
      "text/plain": [
       "91"
      ]
     },
     "execution_count": 54,
     "metadata": {},
     "output_type": "execute_result"
    }
   ],
   "source": [
    "# we can also do map and reduce both at once\n",
    "sqarr = map(x -> x^2, arr)\n",
    "sumsqr = reduce(+, sqarr)"
   ]
  },
  {
   "cell_type": "code",
   "execution_count": 55,
   "id": "7b6013bb-d9f1-449c-9949-53ad87f8f34f",
   "metadata": {},
   "outputs": [
    {
     "data": {
      "text/plain": [
       "91"
      ]
     },
     "execution_count": 55,
     "metadata": {},
     "output_type": "execute_result"
    }
   ],
   "source": [
    "# we can do the same using maoreduce\n",
    "mapreduce(x -> x^2, +, arr)"
   ]
  },
  {
   "cell_type": "markdown",
   "id": "d4250e41-3999-4b8b-8b5c-74f7c707a0fc",
   "metadata": {},
   "source": [
    "# filter"
   ]
  },
  {
   "cell_type": "code",
   "execution_count": 56,
   "id": "e7121fdf-be64-4a9c-9604-09aba822c4ea",
   "metadata": {},
   "outputs": [
    {
     "data": {
      "text/plain": [
       "1-element Vector{Int64}:\n",
       " 4"
      ]
     },
     "execution_count": 56,
     "metadata": {},
     "output_type": "execute_result"
    }
   ],
   "source": [
    "arr = [1 2 3 4 5 6]\n",
    "filter(x -> x%4 == 0, arr)"
   ]
  },
  {
   "cell_type": "markdown",
   "id": "d603b6a5-7238-466d-a9bd-c2b23e505a28",
   "metadata": {},
   "source": [
    "### example 1"
   ]
  },
  {
   "cell_type": "code",
   "execution_count": 58,
   "id": "de3690fc-dadb-4db8-973c-41daa415f558",
   "metadata": {},
   "outputs": [],
   "source": [
    "struct Course\n",
    "    subject::Symbol\n",
    "    field::Symbol\n",
    "    ncourses::Int\n",
    "    nstudents::Int # average number of students in a course\n",
    "end"
   ]
  },
  {
   "cell_type": "code",
   "execution_count": 59,
   "id": "f79b9598-5b66-46a3-bbaf-e83ee150a26b",
   "metadata": {},
   "outputs": [
    {
     "data": {
      "text/plain": [
       "4-element Vector{Course}:\n",
       " Course(:Julia, :Programming, 10, 25)\n",
       " Course(:Python, :Programming, 12, 30)\n",
       " Course(:Mathematics, :Science, 30, 100)\n",
       " Course(:Physics, :Science, 45, 300)"
      ]
     },
     "execution_count": 59,
     "metadata": {},
     "output_type": "execute_result"
    }
   ],
   "source": [
    "coursedata = [Course(:Julia, :Programming, 10, 25), Course(:Python, :Programming, 12, 30), Course(:Mathematics, :Science, 30, 100), Course(:Physics, :Science, 45, 300) ]"
   ]
  },
  {
   "cell_type": "code",
   "execution_count": 60,
   "id": "11f0d2a6-4af1-4cbc-9aa4-f1cfeee3f296",
   "metadata": {},
   "outputs": [
    {
     "data": {
      "text/plain": [
       "2-element Vector{Course}:\n",
       " Course(:Julia, :Programming, 10, 25)\n",
       " Course(:Python, :Programming, 12, 30)"
      ]
     },
     "execution_count": 60,
     "metadata": {},
     "output_type": "execute_result"
    }
   ],
   "source": [
    "nprogramming = filter(x -> x.field == :Programming, coursedata)"
   ]
  },
  {
   "cell_type": "code",
   "execution_count": 61,
   "id": "294fa849-9850-4d25-b3dc-1199fd4619bf",
   "metadata": {},
   "outputs": [
    {
     "data": {
      "text/plain": [
       "2-element Vector{Course}:\n",
       " Course(:Julia, :Programming, 10, 25)\n",
       " Course(:Python, :Programming, 12, 30)"
      ]
     },
     "execution_count": 61,
     "metadata": {},
     "output_type": "execute_result"
    }
   ],
   "source": [
    "nprogramming = filter(x -> x.field === :Programming, coursedata)"
   ]
  },
  {
   "cell_type": "code",
   "execution_count": 65,
   "id": "8969021a-b524-44ef-8c6d-4157e9147adb",
   "metadata": {},
   "outputs": [
    {
     "data": {
      "text/plain": [
       "2-element Vector{Int64}:\n",
       " 250\n",
       " 360"
      ]
     },
     "execution_count": 65,
     "metadata": {},
     "output_type": "execute_result"
    }
   ],
   "source": [
    "nstudents = map(x -> x.ncourses * x.nstudents, nprogramming)"
   ]
  },
  {
   "cell_type": "code",
   "execution_count": 66,
   "id": "f3ee12d2-fb25-413d-b02c-9bfe663c40ba",
   "metadata": {},
   "outputs": [
    {
     "data": {
      "text/plain": [
       "610"
      ]
     },
     "execution_count": 66,
     "metadata": {},
     "output_type": "execute_result"
    }
   ],
   "source": [
    "totalstudents = reduce(+, nstudents)"
   ]
  },
  {
   "cell_type": "code",
   "execution_count": 67,
   "id": "618b580b-e2e8-4506-9b11-04de3051c8f2",
   "metadata": {},
   "outputs": [
    {
     "data": {
      "text/plain": [
       "nfield (generic function with 1 method)"
      ]
     },
     "execution_count": 67,
     "metadata": {},
     "output_type": "execute_result"
    }
   ],
   "source": [
    "# We can so all the above operations in function\n",
    "function nfield(data, field)\n",
    "    f = filter(x -> x.field === field, data)\n",
    "    nstud = map(x -> x.ncourses * x.nstudents, f)\n",
    "    totalstudents = reduce(+, nstudents)\n",
    "    return totalstudents\n",
    "end"
   ]
  },
  {
   "cell_type": "code",
   "execution_count": 73,
   "id": "4986ece1-ff90-4665-b8f1-92dc77680fea",
   "metadata": {},
   "outputs": [
    {
     "data": {
      "text/plain": [
       "nfield (generic function with 1 method)"
      ]
     },
     "execution_count": 73,
     "metadata": {},
     "output_type": "execute_result"
    }
   ],
   "source": [
    "# We can write the same above function as below\n",
    "function nfield(data, field)\n",
    "    f = filter(x -> x.field === Symbol(field), data)\n",
    "    s = mapreduce(x -> x.ncourses * x.nstudents,+, f)\n",
    "    return s\n",
    "end"
   ]
  },
  {
   "cell_type": "code",
   "execution_count": 74,
   "id": "93570f35-7d76-4512-a135-f68f752f45c7",
   "metadata": {},
   "outputs": [
    {
     "data": {
      "text/plain": [
       "16500"
      ]
     },
     "execution_count": 74,
     "metadata": {},
     "output_type": "execute_result"
    }
   ],
   "source": [
    "nfield(coursedata, :Science)"
   ]
  },
  {
   "cell_type": "code",
   "execution_count": 75,
   "id": "33b5201d-d053-4edc-86d6-adfe082eb515",
   "metadata": {},
   "outputs": [
    {
     "data": {
      "text/plain": [
       "16500"
      ]
     },
     "execution_count": 75,
     "metadata": {},
     "output_type": "execute_result"
    }
   ],
   "source": [
    "nfield(coursedata, \"Science\")"
   ]
  },
  {
   "cell_type": "code",
   "execution_count": 91,
   "id": "956b3fdc-9f15-4b29-aeae-4da05c64f284",
   "metadata": {},
   "outputs": [
    {
     "data": {
      "text/plain": [
       "f (generic function with 1 method)"
      ]
     },
     "execution_count": 91,
     "metadata": {},
     "output_type": "execute_result"
    }
   ],
   "source": [
    "function f(x)\n",
    "    if (x % 2 == 0) # here the brackets are very important\n",
    "        return \"Div by 2\"\n",
    "    else\n",
    "        return \"Not Div by 2\"\n",
    "    end\n",
    "end"
   ]
  },
  {
   "cell_type": "code",
   "execution_count": 93,
   "id": "8190d576-fcf5-49c8-abaa-a7bf4540eb29",
   "metadata": {},
   "outputs": [
    {
     "data": {
      "text/plain": [
       "1×5 Matrix{String}:\n",
       " \"Not Div by 2\"  \"Div by 2\"  \"Not Div by 2\"  \"Div by 2\"  \"Not Div by 2\""
      ]
     },
     "execution_count": 93,
     "metadata": {},
     "output_type": "execute_result"
    }
   ],
   "source": [
    "arr = [1 2 3 4 5]\n",
    "map(f, arr)"
   ]
  },
  {
   "cell_type": "code",
   "execution_count": 94,
   "id": "70feced9-aefb-4809-a04c-0df6643f6b49",
   "metadata": {},
   "outputs": [
    {
     "data": {
      "text/plain": [
       "1×5 Matrix{String}:\n",
       " \"Not Div by 2\"  \"Div by 2\"  \"Not Div by 2\"  \"Div by 2\"  \"Not Div by 2\""
      ]
     },
     "execution_count": 94,
     "metadata": {},
     "output_type": "execute_result"
    }
   ],
   "source": [
    "# we can do the same with anonymous function, but not very good looking\n",
    "map(x -> begin\n",
    "        if (x % 2 == 0) # here the brackets are very important\n",
    "        return \"Div by 2\"\n",
    "        else\n",
    "            return \"Not Div by 2\"\n",
    "        end\n",
    "    end, arr)"
   ]
  },
  {
   "cell_type": "code",
   "execution_count": 95,
   "id": "de41347c-09f4-4f8a-a1c6-ac8936308d09",
   "metadata": {},
   "outputs": [
    {
     "data": {
      "text/plain": [
       "1×5 Matrix{String}:\n",
       " \"Not Div by 2\"  \"Div by 2\"  \"Not Div by 2\"  \"Div by 2\"  \"Not Div by 2\""
      ]
     },
     "execution_count": 95,
     "metadata": {},
     "output_type": "execute_result"
    }
   ],
   "source": [
    "# but we can achieve the same using do keyword\n",
    "map(arr) do x\n",
    "    if (x % 2 == 0) # here the brackets are very important\n",
    "        return \"Div by 2\"\n",
    "    else\n",
    "        return \"Not Div by 2\"\n",
    "    end\n",
    "end"
   ]
  },
  {
   "cell_type": "code",
   "execution_count": 96,
   "id": "d4219309-5cd1-41ef-94af-ab2591c11000",
   "metadata": {},
   "outputs": [
    {
     "data": {
      "text/plain": [
       "74"
      ]
     },
     "execution_count": 96,
     "metadata": {},
     "output_type": "execute_result"
    }
   ],
   "source": [
    "# this do is very similar to \"with\" in python\n",
    "data = \"Programming with Julia. \\n Higher order functions. \\n Map, reduce and filter\"\n",
    "\n",
    "open(\"input.txt\",\"w+\") do io\n",
    "    write(io, data)\n",
    "end"
   ]
  },
  {
   "cell_type": "markdown",
   "id": "077a7efc-14af-4e2f-8b94-eac53d6ef7fc",
   "metadata": {},
   "source": [
    "## Variable arguments"
   ]
  },
  {
   "cell_type": "code",
   "execution_count": 97,
   "id": "24a34af2-2a50-4d94-b949-e3892b71be6a",
   "metadata": {},
   "outputs": [],
   "source": [
    "# This is very similar to *args, **kwargs in python"
   ]
  },
  {
   "cell_type": "code",
   "execution_count": 98,
   "id": "2fd093f3-3f04-4332-b1ac-1cdca1836bcb",
   "metadata": {},
   "outputs": [
    {
     "data": {
      "text/plain": [
       "varfunc (generic function with 1 method)"
      ]
     },
     "execution_count": 98,
     "metadata": {},
     "output_type": "execute_result"
    }
   ],
   "source": [
    "varfunc(x...) = (x)"
   ]
  },
  {
   "cell_type": "code",
   "execution_count": 99,
   "id": "34d11a82-0fcd-4615-b49c-57578fa43df9",
   "metadata": {},
   "outputs": [
    {
     "data": {
      "text/plain": [
       "(2, 3)"
      ]
     },
     "execution_count": 99,
     "metadata": {},
     "output_type": "execute_result"
    }
   ],
   "source": [
    "varfunc(2,3)"
   ]
  },
  {
   "cell_type": "code",
   "execution_count": 100,
   "id": "b7793358-21a9-48bc-b403-d834836c0085",
   "metadata": {},
   "outputs": [
    {
     "data": {
      "text/plain": [
       "(2, 3, 4, 5)"
      ]
     },
     "execution_count": 100,
     "metadata": {},
     "output_type": "execute_result"
    }
   ],
   "source": [
    "varfunc(2,3,4,5)"
   ]
  },
  {
   "cell_type": "code",
   "execution_count": 101,
   "id": "3f965799-a960-4bc8-9db0-d223d02e0739",
   "metadata": {},
   "outputs": [
    {
     "data": {
      "text/plain": [
       "printall (generic function with 1 method)"
      ]
     },
     "execution_count": 101,
     "metadata": {},
     "output_type": "execute_result"
    }
   ],
   "source": [
    "function printall(x...)\n",
    "    println(x)\n",
    "end"
   ]
  },
  {
   "cell_type": "code",
   "execution_count": 102,
   "id": "3b95013e-f3f2-499b-9edd-a6cb3bc05dea",
   "metadata": {},
   "outputs": [
    {
     "name": "stdout",
     "output_type": "stream",
     "text": [
      "(\"Julia\",)\n"
     ]
    }
   ],
   "source": [
    "printall(\"Julia\")"
   ]
  },
  {
   "cell_type": "code",
   "execution_count": 103,
   "id": "b0de110b-f4b1-4ce7-96f7-ece3377e8a43",
   "metadata": {},
   "outputs": [
    {
     "name": "stdout",
     "output_type": "stream",
     "text": [
      "(\"Julia\", \"Python\")\n"
     ]
    }
   ],
   "source": [
    "printall(\"Julia\",\"Python\")"
   ]
  },
  {
   "cell_type": "code",
   "execution_count": 107,
   "id": "7a687156-9dde-4bac-9bef-ccecd8517a90",
   "metadata": {},
   "outputs": [
    {
     "data": {
      "text/plain": [
       "addall (generic function with 2 methods)"
      ]
     },
     "execution_count": 107,
     "metadata": {},
     "output_type": "execute_result"
    }
   ],
   "source": [
    "# sum of all arguments\n",
    "# if we send more than 2 arguments then the below function will be called\n",
    "addall(x, y...) = x + addall(y...)\n",
    "\n",
    "# if we send only 1 argument then the below function will be called\n",
    "addall(x) = x\n",
    "\n",
    "# this is not possible in python"
   ]
  },
  {
   "cell_type": "code",
   "execution_count": 105,
   "id": "6e9ead7a-992e-4e00-b0d1-3e82042da937",
   "metadata": {},
   "outputs": [
    {
     "data": {
      "text/plain": [
       "7"
      ]
     },
     "execution_count": 105,
     "metadata": {},
     "output_type": "execute_result"
    }
   ],
   "source": [
    "addall(7)"
   ]
  },
  {
   "cell_type": "code",
   "execution_count": 106,
   "id": "8223f6e1-db62-4cc1-99d9-910c04875d28",
   "metadata": {},
   "outputs": [
    {
     "data": {
      "text/plain": [
       "15"
      ]
     },
     "execution_count": 106,
     "metadata": {},
     "output_type": "execute_result"
    }
   ],
   "source": [
    "addall(7,8)"
   ]
  },
  {
   "cell_type": "code",
   "execution_count": 109,
   "id": "4e722b1f-db61-47ef-86ed-af35ad0665af",
   "metadata": {},
   "outputs": [
    {
     "data": {
      "text/plain": [
       "findmini (generic function with 1 method)"
      ]
     },
     "execution_count": 109,
     "metadata": {},
     "output_type": "execute_result"
    }
   ],
   "source": [
    "# find minimum of 2 numbers\n",
    "findmini(x,y) = x < y ? x : y"
   ]
  },
  {
   "cell_type": "code",
   "execution_count": 112,
   "id": "865cfb4a-901e-4ebb-9be5-cbecb90b1774",
   "metadata": {},
   "outputs": [
    {
     "data": {
      "text/plain": [
       "findmini (generic function with 2 methods)"
      ]
     },
     "execution_count": 112,
     "metadata": {},
     "output_type": "execute_result"
    }
   ],
   "source": [
    "# find minimum of multiple numbers\n",
    "findmini(x, y...) = findmini(x, findmini(y...))"
   ]
  },
  {
   "cell_type": "code",
   "execution_count": 113,
   "id": "4b1a3375-f00f-440c-9cd8-f008fd0bb797",
   "metadata": {},
   "outputs": [
    {
     "data": {
      "text/plain": [
       "-5"
      ]
     },
     "execution_count": 113,
     "metadata": {},
     "output_type": "execute_result"
    }
   ],
   "source": [
    "findmini(4,1,-5,17,7)"
   ]
  },
  {
   "cell_type": "code",
   "execution_count": 114,
   "id": "ba31bd89-80f5-49b8-a320-58bfe83d492d",
   "metadata": {},
   "outputs": [
    {
     "data": {
      "text/plain": [
       "6-element Vector{Int64}:\n",
       " 3\n",
       " 4\n",
       " 5\n",
       " 6\n",
       " 7\n",
       " 8"
      ]
     },
     "execution_count": 114,
     "metadata": {},
     "output_type": "execute_result"
    }
   ],
   "source": [
    "a, b, c... = [3,4,5,6,7,8]"
   ]
  },
  {
   "cell_type": "code",
   "execution_count": 115,
   "id": "ce4fffc6-a0ce-4705-a77c-300f3f0f7136",
   "metadata": {},
   "outputs": [
    {
     "data": {
      "text/plain": [
       "3"
      ]
     },
     "execution_count": 115,
     "metadata": {},
     "output_type": "execute_result"
    }
   ],
   "source": [
    "a"
   ]
  },
  {
   "cell_type": "code",
   "execution_count": 116,
   "id": "a5a2f880-1a60-45a9-937e-1b488023bd9c",
   "metadata": {},
   "outputs": [
    {
     "data": {
      "text/plain": [
       "4"
      ]
     },
     "execution_count": 116,
     "metadata": {},
     "output_type": "execute_result"
    }
   ],
   "source": [
    "b"
   ]
  },
  {
   "cell_type": "code",
   "execution_count": 117,
   "id": "80a2fede-a241-46fc-94d0-79023566c10f",
   "metadata": {},
   "outputs": [
    {
     "data": {
      "text/plain": [
       "4-element Vector{Int64}:\n",
       " 5\n",
       " 6\n",
       " 7\n",
       " 8"
      ]
     },
     "execution_count": 117,
     "metadata": {},
     "output_type": "execute_result"
    }
   ],
   "source": [
    "c"
   ]
  },
  {
   "cell_type": "code",
   "execution_count": 118,
   "id": "35d0251e-d94b-48ed-b59c-237fc00dc669",
   "metadata": {},
   "outputs": [
    {
     "data": {
      "text/plain": [
       "printtype (generic function with 1 method)"
      ]
     },
     "execution_count": 118,
     "metadata": {},
     "output_type": "execute_result"
    }
   ],
   "source": [
    "function printtype(args...)\n",
    "    for i in args\n",
    "        println(typeof(i))\n",
    "    end\n",
    "end"
   ]
  },
  {
   "cell_type": "code",
   "execution_count": 120,
   "id": "cba4a27d-f0de-4a51-a186-ec174dc2dc31",
   "metadata": {},
   "outputs": [
    {
     "name": "stdout",
     "output_type": "stream",
     "text": [
      "Int64\n",
      "String\n",
      "Symbol\n"
     ]
    }
   ],
   "source": [
    "printtype(4,\"hemanth\",:Programming)"
   ]
  },
  {
   "cell_type": "code",
   "execution_count": 121,
   "id": "7212400a-258b-4d09-af97-f8547d938697",
   "metadata": {},
   "outputs": [
    {
     "data": {
      "text/plain": [
       "(1, 2, 3, 4, 5, 6, 7, 8, 9, 10)"
      ]
     },
     "execution_count": 121,
     "metadata": {},
     "output_type": "execute_result"
    }
   ],
   "source": [
    "# splatting\n",
    "(1:10...,)"
   ]
  },
  {
   "cell_type": "code",
   "execution_count": 122,
   "id": "6bd8b84c-c71f-4cdc-b286-a198ccfb9a6e",
   "metadata": {},
   "outputs": [
    {
     "data": {
      "text/plain": [
       "printargs (generic function with 1 method)"
      ]
     },
     "execution_count": 122,
     "metadata": {},
     "output_type": "execute_result"
    }
   ],
   "source": [
    "function printargs(a,b,c)\n",
    "    println(a)\n",
    "    println(b)\n",
    "    println(c)\n",
    "end"
   ]
  },
  {
   "cell_type": "code",
   "execution_count": 123,
   "id": "f602f586-7a4b-4da9-97e5-019fefffb7e4",
   "metadata": {},
   "outputs": [
    {
     "name": "stdout",
     "output_type": "stream",
     "text": [
      "a\n",
      "b\n",
      "c\n"
     ]
    }
   ],
   "source": [
    "printargs(\"a\",\"b\",\"c\")"
   ]
  },
  {
   "cell_type": "code",
   "execution_count": 124,
   "id": "9f6820e9-6a77-4b7e-98e6-0ee7510b64b2",
   "metadata": {},
   "outputs": [
    {
     "data": {
      "text/plain": [
       "(\"a\", \"b\", \"c\")"
      ]
     },
     "execution_count": 124,
     "metadata": {},
     "output_type": "execute_result"
    }
   ],
   "source": [
    "tpl = (\"a\",\"b\",\"c\")"
   ]
  },
  {
   "cell_type": "code",
   "execution_count": 125,
   "id": "9ad4ba9f-f1c1-4913-9868-749c0c2ac678",
   "metadata": {},
   "outputs": [
    {
     "ename": "LoadError",
     "evalue": "MethodError: no method matching printargs(::Tuple{String, String, String})\n\n\u001b[0mClosest candidates are:\n\u001b[0m  printargs(::Any, \u001b[91m::Any\u001b[39m, \u001b[91m::Any\u001b[39m)\n\u001b[0m\u001b[90m   @\u001b[39m \u001b[35mMain\u001b[39m \u001b[90m\u001b[4mIn[122]:1\u001b[24m\u001b[39m\n",
     "output_type": "error",
     "traceback": [
      "MethodError: no method matching printargs(::Tuple{String, String, String})\n\n\u001b[0mClosest candidates are:\n\u001b[0m  printargs(::Any, \u001b[91m::Any\u001b[39m, \u001b[91m::Any\u001b[39m)\n\u001b[0m\u001b[90m   @\u001b[39m \u001b[35mMain\u001b[39m \u001b[90m\u001b[4mIn[122]:1\u001b[24m\u001b[39m\n",
      "",
      "Stacktrace:",
      " [1] top-level scope",
      "   @ In[125]:1"
     ]
    }
   ],
   "source": [
    "printargs(tpl)"
   ]
  },
  {
   "cell_type": "code",
   "execution_count": 126,
   "id": "2856affd-349e-40e3-b485-624764978e59",
   "metadata": {},
   "outputs": [
    {
     "name": "stdout",
     "output_type": "stream",
     "text": [
      "a\n",
      "b\n",
      "c\n"
     ]
    }
   ],
   "source": [
    "# using ... we can split arguments\n",
    "printargs(tpl...)"
   ]
  },
  {
   "cell_type": "markdown",
   "id": "4e6b3bf8-e065-4341-b1d3-fdd55c42e8e7",
   "metadata": {},
   "source": [
    "#### Optional arguments"
   ]
  },
  {
   "cell_type": "code",
   "execution_count": 128,
   "id": "c43f33a8-8882-464d-a8cc-0ed16424ba80",
   "metadata": {},
   "outputs": [
    {
     "data": {
      "text/plain": [
       "sum (generic function with 3 methods)"
      ]
     },
     "execution_count": 128,
     "metadata": {},
     "output_type": "execute_result"
    }
   ],
   "source": [
    "function sum(a=0, b=0)\n",
    "    return a+b\n",
    "end"
   ]
  },
  {
   "cell_type": "code",
   "execution_count": 129,
   "id": "4e37beaf-e44a-415c-9a58-b05812dd2852",
   "metadata": {},
   "outputs": [
    {
     "data": {
      "text/plain": [
       "0"
      ]
     },
     "execution_count": 129,
     "metadata": {},
     "output_type": "execute_result"
    }
   ],
   "source": [
    "sum()"
   ]
  },
  {
   "cell_type": "code",
   "execution_count": 130,
   "id": "dffb7c64-a971-4ad2-8c7c-dc7a3afd3c20",
   "metadata": {},
   "outputs": [
    {
     "data": {
      "text/plain": [
       "7"
      ]
     },
     "execution_count": 130,
     "metadata": {},
     "output_type": "execute_result"
    }
   ],
   "source": [
    "sum(3,4)"
   ]
  },
  {
   "cell_type": "markdown",
   "id": "65dfe38d-ac24-452b-90fb-464853bc1645",
   "metadata": {},
   "source": [
    "#### Keyword arguments"
   ]
  },
  {
   "cell_type": "code",
   "execution_count": 132,
   "id": "e6de4003-35b7-43b5-a555-f72c0a9dc58d",
   "metadata": {},
   "outputs": [
    {
     "data": {
      "text/plain": [
       "positionargs (generic function with 4 methods)"
      ]
     },
     "execution_count": 132,
     "metadata": {},
     "output_type": "execute_result"
    }
   ],
   "source": [
    "function positionargs(x, y=1, z=20, t=30)\n",
    "    println(\"x = $x\")\n",
    "    println(\"y = $y\")\n",
    "    println(\"z = $z\")\n",
    "    println(\"t = $t\")\n",
    "end"
   ]
  },
  {
   "cell_type": "code",
   "execution_count": 134,
   "id": "24572012-1013-4b7c-b60b-979b2f8e1d0a",
   "metadata": {},
   "outputs": [
    {
     "name": "stdout",
     "output_type": "stream",
     "text": [
      "x = 2\n",
      "y = 1\n",
      "z = 20\n",
      "t = 30\n"
     ]
    }
   ],
   "source": [
    "positionargs(2)"
   ]
  },
  {
   "cell_type": "code",
   "execution_count": 133,
   "id": "560a1f6c-bd03-4c0c-8290-aa141a69424d",
   "metadata": {},
   "outputs": [
    {
     "name": "stdout",
     "output_type": "stream",
     "text": [
      "x = 2\n",
      "y = 3\n",
      "z = 4\n",
      "t = 5\n"
     ]
    }
   ],
   "source": [
    "positionargs(2,3,4,5)"
   ]
  },
  {
   "cell_type": "code",
   "execution_count": 135,
   "id": "dedfc1f7-f41f-41de-8a86-7d113c0c4bc9",
   "metadata": {},
   "outputs": [
    {
     "ename": "LoadError",
     "evalue": "MethodError: no method matching positionargs(; x::Int64)\n\n\u001b[0mClosest candidates are:\n\u001b[0m  positionargs(\u001b[91m::Any\u001b[39m)\u001b[91m got unsupported keyword argument \"x\"\u001b[39m\n\u001b[0m\u001b[90m   @\u001b[39m \u001b[35mMain\u001b[39m \u001b[90m\u001b[4mIn[132]:1\u001b[24m\u001b[39m\n\u001b[0m  positionargs(\u001b[91m::Any\u001b[39m, \u001b[91m::Any\u001b[39m)\u001b[91m got unsupported keyword argument \"x\"\u001b[39m\n\u001b[0m\u001b[90m   @\u001b[39m \u001b[35mMain\u001b[39m \u001b[90m\u001b[4mIn[132]:1\u001b[24m\u001b[39m\n\u001b[0m  positionargs(\u001b[91m::Any\u001b[39m, \u001b[91m::Any\u001b[39m, \u001b[91m::Any\u001b[39m)\u001b[91m got unsupported keyword argument \"x\"\u001b[39m\n\u001b[0m\u001b[90m   @\u001b[39m \u001b[35mMain\u001b[39m \u001b[90m\u001b[4mIn[132]:1\u001b[24m\u001b[39m\n\u001b[0m  ...\n",
     "output_type": "error",
     "traceback": [
      "MethodError: no method matching positionargs(; x::Int64)\n\n\u001b[0mClosest candidates are:\n\u001b[0m  positionargs(\u001b[91m::Any\u001b[39m)\u001b[91m got unsupported keyword argument \"x\"\u001b[39m\n\u001b[0m\u001b[90m   @\u001b[39m \u001b[35mMain\u001b[39m \u001b[90m\u001b[4mIn[132]:1\u001b[24m\u001b[39m\n\u001b[0m  positionargs(\u001b[91m::Any\u001b[39m, \u001b[91m::Any\u001b[39m)\u001b[91m got unsupported keyword argument \"x\"\u001b[39m\n\u001b[0m\u001b[90m   @\u001b[39m \u001b[35mMain\u001b[39m \u001b[90m\u001b[4mIn[132]:1\u001b[24m\u001b[39m\n\u001b[0m  positionargs(\u001b[91m::Any\u001b[39m, \u001b[91m::Any\u001b[39m, \u001b[91m::Any\u001b[39m)\u001b[91m got unsupported keyword argument \"x\"\u001b[39m\n\u001b[0m\u001b[90m   @\u001b[39m \u001b[35mMain\u001b[39m \u001b[90m\u001b[4mIn[132]:1\u001b[24m\u001b[39m\n\u001b[0m  ...\n",
      "",
      "Stacktrace:",
      " [1] top-level scope",
      "   @ In[135]:1"
     ]
    }
   ],
   "source": [
    "positionargs(x=2) # this should not give error in python"
   ]
  },
  {
   "cell_type": "code",
   "execution_count": 136,
   "id": "302fa5b1-7287-4451-aac3-5819ae7739eb",
   "metadata": {},
   "outputs": [
    {
     "data": {
      "text/plain": [
       "keywordargs (generic function with 1 method)"
      ]
     },
     "execution_count": 136,
     "metadata": {},
     "output_type": "execute_result"
    }
   ],
   "source": [
    "# keywordargs\n",
    "function keywordargs(x; y=1, z=20, t=30)\n",
    "    println(\"x = $x\")\n",
    "    println(\"y = $y\")\n",
    "    println(\"z = $z\")\n",
    "    println(\"t = $t\")\n",
    "end"
   ]
  },
  {
   "cell_type": "code",
   "execution_count": 137,
   "id": "f75b5224-0447-40ea-b4f2-da835212172e",
   "metadata": {},
   "outputs": [
    {
     "name": "stdout",
     "output_type": "stream",
     "text": [
      "x = 2\n",
      "y = 1\n",
      "z = 20\n",
      "t = 30\n"
     ]
    }
   ],
   "source": [
    "keywordargs(2)"
   ]
  },
  {
   "cell_type": "code",
   "execution_count": 140,
   "id": "b58bc675-cee1-488f-8422-acc223a4da4b",
   "metadata": {},
   "outputs": [
    {
     "name": "stdout",
     "output_type": "stream",
     "text": [
      "x = 2\n",
      "y = 1\n",
      "z = 11\n",
      "t = 30\n"
     ]
    }
   ],
   "source": [
    "keywordargs(2, z=11)"
   ]
  },
  {
   "cell_type": "code",
   "execution_count": 141,
   "id": "cfb68a50-df79-4536-b91a-6adbdf4223bd",
   "metadata": {},
   "outputs": [
    {
     "name": "stdout",
     "output_type": "stream",
     "text": [
      "x = 2\n",
      "y = 1\n",
      "z = 20\n",
      "t = 12\n"
     ]
    }
   ],
   "source": [
    "keywordargs(2, t=12)"
   ]
  },
  {
   "cell_type": "code",
   "execution_count": 142,
   "id": "b5a39c84-318d-4553-b453-3bdfb3900498",
   "metadata": {},
   "outputs": [
    {
     "name": "stdout",
     "output_type": "stream",
     "text": [
      "x = 2\n",
      "y = 1\n",
      "z = 20\n",
      "t = 12\n"
     ]
    }
   ],
   "source": [
    "keywordargs(2; t=12)"
   ]
  },
  {
   "cell_type": "markdown",
   "id": "79463697-8c7a-4a40-8c5e-58e6baeb324c",
   "metadata": {},
   "source": [
    "# Composite functions"
   ]
  },
  {
   "cell_type": "code",
   "execution_count": 175,
   "id": "d5839903-b99c-402f-ba2f-a2e2c45e149e",
   "metadata": {},
   "outputs": [
    {
     "data": {
      "text/plain": [
       "mysum (generic function with 1 method)"
      ]
     },
     "execution_count": 175,
     "metadata": {},
     "output_type": "execute_result"
    }
   ],
   "source": [
    "x = rand(-10:10,20);\n",
    "squar(x) = x.^2;\n",
    "function mysum(arr)\n",
    "    s = 0\n",
    "    for i ∈ arr\n",
    "        s += i\n",
    "    end\n",
    "    return s\n",
    "end"
   ]
  },
  {
   "cell_type": "code",
   "execution_count": 176,
   "id": "65c7f512-5bbe-47be-b76f-2a51681a7fab",
   "metadata": {},
   "outputs": [
    {
     "data": {
      "text/plain": [
       "879"
      ]
     },
     "execution_count": 176,
     "metadata": {},
     "output_type": "execute_result"
    }
   ],
   "source": [
    "(mysum ∘ squar)(x)"
   ]
  },
  {
   "cell_type": "code",
   "execution_count": 177,
   "id": "7f845d58-db64-4e25-ac27-aac9552867a8",
   "metadata": {},
   "outputs": [
    {
     "data": {
      "text/plain": [
       "879"
      ]
     },
     "execution_count": 177,
     "metadata": {},
     "output_type": "execute_result"
    }
   ],
   "source": [
    "# you can write the same as below\n",
    "mysum(squar(x))"
   ]
  },
  {
   "cell_type": "code",
   "execution_count": 178,
   "id": "9c98c7e5-4d94-4323-a013-3def334edd42",
   "metadata": {},
   "outputs": [
    {
     "data": {
      "text/plain": [
       "879"
      ]
     },
     "execution_count": 178,
     "metadata": {},
     "output_type": "execute_result"
    }
   ],
   "source": [
    "# you can write the same using | operator\n",
    "x |> squar |> mysum"
   ]
  },
  {
   "cell_type": "code",
   "execution_count": 179,
   "id": "6346ddef-78bd-4d1a-8121-b027edb80c84",
   "metadata": {},
   "outputs": [
    {
     "data": {
      "text/plain": [
       "7"
      ]
     },
     "execution_count": 179,
     "metadata": {},
     "output_type": "execute_result"
    }
   ],
   "source": [
    "# find number of words in a string\n",
    "str = \"Writing functions in Julia Proframming is fun\"\n",
    "str |> split |> length"
   ]
  },
  {
   "cell_type": "code",
   "execution_count": 180,
   "id": "bccf6bbe-251d-4108-a471-2b345bab85fd",
   "metadata": {},
   "outputs": [
    {
     "data": {
      "text/plain": [
       "7-element Vector{Int64}:\n",
       "  7\n",
       "  9\n",
       "  2\n",
       "  5\n",
       " 11\n",
       "  2\n",
       "  3"
      ]
     },
     "execution_count": 180,
     "metadata": {},
     "output_type": "execute_result"
    }
   ],
   "source": [
    "# find number of letters in each word in a string\n",
    "str = \"Writing functions in Julia Proframming is fun\"\n",
    "str |> split .|> length"
   ]
  },
  {
   "cell_type": "code",
   "execution_count": 4,
   "id": "c562b125-07b0-476c-add6-e0581382c6d2",
   "metadata": {},
   "outputs": [
    {
     "data": {
      "text/plain": [
       "1×5 Matrix{Int64}:\n",
       " 23  26  23  24  22"
      ]
     },
     "execution_count": 4,
     "metadata": {},
     "output_type": "execute_result"
    }
   ],
   "source": [
    "# root mean square error\n",
    "actual = [23 28 26 24 22]\n",
    "predicted = [23 26 23 24 22]"
   ]
  },
  {
   "cell_type": "code",
   "execution_count": 6,
   "id": "a5a816b9-75a5-4268-bad1-f702966cb9c6",
   "metadata": {},
   "outputs": [
    {
     "data": {
      "text/plain": [
       "0.52"
      ]
     },
     "execution_count": 6,
     "metadata": {},
     "output_type": "execute_result"
    }
   ],
   "source": [
    "sum(((actual - predicted) ./ length(actual)) .^2)"
   ]
  },
  {
   "cell_type": "code",
   "execution_count": 1,
   "id": "e8664b31-d8e5-4896-9d98-428f2aa87b0e",
   "metadata": {},
   "outputs": [
    {
     "name": "stdout",
     "output_type": "stream",
     "text": [
      "Sum of the array: 15\n"
     ]
    }
   ],
   "source": [
    "# Define your array\n",
    "my_array = [1, 2, 3, 4, 5]\n",
    "\n",
    "# Calculate the sum of all elements in the array\n",
    "array_sum = sum(my_array)\n",
    "\n",
    "# Display the result\n",
    "println(\"Sum of the array: \", array_sum)\n"
   ]
  },
  {
   "cell_type": "markdown",
   "id": "e1b01688-9172-429b-9044-4bcfd0dd716e",
   "metadata": {},
   "source": [
    "# Mutating function"
   ]
  },
  {
   "cell_type": "code",
   "execution_count": 11,
   "id": "af82063a-2ca8-4e66-b7b0-68a2da102abe",
   "metadata": {},
   "outputs": [
    {
     "data": {
      "text/plain": [
       "8-element Vector{Int64}:\n",
       "  35\n",
       "  76\n",
       " -43\n",
       " -36\n",
       "  12\n",
       "   3\n",
       "  24\n",
       " -45"
      ]
     },
     "execution_count": 11,
     "metadata": {},
     "output_type": "execute_result"
    }
   ],
   "source": [
    "x = [35, 76, -43, -36, 12, 3, 24, -45]"
   ]
  },
  {
   "cell_type": "code",
   "execution_count": 12,
   "id": "8c0b496d-f84c-47b7-9b3f-9c85ecf7528e",
   "metadata": {},
   "outputs": [
    {
     "data": {
      "text/plain": [
       "8-element Vector{Int64}:\n",
       " -45\n",
       " -43\n",
       " -36\n",
       "   3\n",
       "  12\n",
       "  24\n",
       "  35\n",
       "  76"
      ]
     },
     "execution_count": 12,
     "metadata": {},
     "output_type": "execute_result"
    }
   ],
   "source": [
    "sort(x)"
   ]
  },
  {
   "cell_type": "code",
   "execution_count": 13,
   "id": "18da4fee-4ec6-4ae8-b013-9e8b52d4f6f9",
   "metadata": {},
   "outputs": [
    {
     "data": {
      "text/plain": [
       "8-element Vector{Int64}:\n",
       "  35\n",
       "  76\n",
       " -43\n",
       " -36\n",
       "  12\n",
       "   3\n",
       "  24\n",
       " -45"
      ]
     },
     "execution_count": 13,
     "metadata": {},
     "output_type": "execute_result"
    }
   ],
   "source": [
    "# x is not changed\n",
    "x"
   ]
  },
  {
   "cell_type": "code",
   "execution_count": 14,
   "id": "7d850031-98a0-47c4-bb10-e4a6ddf12195",
   "metadata": {},
   "outputs": [
    {
     "data": {
      "text/plain": [
       "8-element Vector{Int64}:\n",
       " -45\n",
       " -43\n",
       " -36\n",
       "   3\n",
       "  12\n",
       "  24\n",
       "  35\n",
       "  76"
      ]
     },
     "execution_count": 14,
     "metadata": {},
     "output_type": "execute_result"
    }
   ],
   "source": [
    "# mutating function will change the x\n",
    "sort!(x)"
   ]
  },
  {
   "cell_type": "code",
   "execution_count": 15,
   "id": "0d58387c-8566-4f2f-87a9-a82457d45d10",
   "metadata": {},
   "outputs": [
    {
     "data": {
      "text/plain": [
       "8-element Vector{Int64}:\n",
       " -45\n",
       " -43\n",
       " -36\n",
       "   3\n",
       "  12\n",
       "  24\n",
       "  35\n",
       "  76"
      ]
     },
     "execution_count": 15,
     "metadata": {},
     "output_type": "execute_result"
    }
   ],
   "source": [
    "# x is changed\n",
    "x"
   ]
  },
  {
   "cell_type": "code",
   "execution_count": 16,
   "id": "95120191-9c5f-45ee-bca9-9d198f0e7de4",
   "metadata": {},
   "outputs": [
    {
     "data": {
      "text/plain": [
       "padwithzeros (generic function with 1 method)"
      ]
     },
     "execution_count": 16,
     "metadata": {},
     "output_type": "execute_result"
    }
   ],
   "source": [
    "function padwithzeros(vector, n)\n",
    "    x = [zeros(n); vector; zeros(n)]\n",
    "    return x\n",
    "end"
   ]
  },
  {
   "cell_type": "code",
   "execution_count": 17,
   "id": "05f7b6f1-20fa-47ef-a811-d4b7dba3e6e7",
   "metadata": {},
   "outputs": [
    {
     "data": {
      "text/plain": [
       "14-element Vector{Float64}:\n",
       "   0.0\n",
       "   0.0\n",
       "   0.0\n",
       "  35.0\n",
       "  76.0\n",
       " -43.0\n",
       " -36.0\n",
       "  12.0\n",
       "   3.0\n",
       "  24.0\n",
       " -45.0\n",
       "   0.0\n",
       "   0.0\n",
       "   0.0"
      ]
     },
     "execution_count": 17,
     "metadata": {},
     "output_type": "execute_result"
    }
   ],
   "source": [
    "x = [35, 76, -43, -36, 12, 3, 24, -45]\n",
    "padwithzeros(x, 3)"
   ]
  },
  {
   "cell_type": "code",
   "execution_count": 18,
   "id": "e126ca20-d6f7-48e6-8ef8-5b2f1001d2d2",
   "metadata": {},
   "outputs": [
    {
     "data": {
      "text/plain": [
       "8-element Vector{Int64}:\n",
       "  35\n",
       "  76\n",
       " -43\n",
       " -36\n",
       "  12\n",
       "   3\n",
       "  24\n",
       " -45"
      ]
     },
     "execution_count": 18,
     "metadata": {},
     "output_type": "execute_result"
    }
   ],
   "source": [
    "# x is still same\n",
    "x"
   ]
  },
  {
   "cell_type": "code",
   "execution_count": 21,
   "id": "dbf7e1a1-8468-4ee1-b1bb-e4d2c0717eb4",
   "metadata": {},
   "outputs": [
    {
     "data": {
      "text/plain": [
       "padwithzeros! (generic function with 1 method)"
      ]
     },
     "execution_count": 21,
     "metadata": {},
     "output_type": "execute_result"
    }
   ],
   "source": [
    "function padwithzeros!(vector, n)\n",
    "    for i in 1:n\n",
    "        insert!(vector,1,0)\n",
    "    end\n",
    "    \n",
    "    for i in 1:n\n",
    "        append!(vector, 0)\n",
    "    end\n",
    "end"
   ]
  },
  {
   "cell_type": "code",
   "execution_count": 22,
   "id": "cfa39c6d-a0d8-4e55-b508-f5cd4065c0bc",
   "metadata": {},
   "outputs": [],
   "source": [
    "padwithzeros!(x, 3)"
   ]
  },
  {
   "cell_type": "code",
   "execution_count": 23,
   "id": "26328293-feaa-4222-9a27-bbd81759aada",
   "metadata": {},
   "outputs": [
    {
     "data": {
      "text/plain": [
       "14-element Vector{Int64}:\n",
       "   0\n",
       "   0\n",
       "   0\n",
       "  35\n",
       "  76\n",
       " -43\n",
       " -36\n",
       "  12\n",
       "   3\n",
       "  24\n",
       " -45\n",
       "   0\n",
       "   0\n",
       "   0"
      ]
     },
     "execution_count": 23,
     "metadata": {},
     "output_type": "execute_result"
    }
   ],
   "source": [
    "# x has changed\n",
    "x"
   ]
  },
  {
   "cell_type": "code",
   "execution_count": null,
   "id": "120fb9eb-9b6a-48e6-9bcb-c1f215f32f50",
   "metadata": {},
   "outputs": [],
   "source": []
  }
 ],
 "metadata": {
  "kernelspec": {
   "display_name": "Julia 1.9.1",
   "language": "julia",
   "name": "julia-1.9"
  },
  "language_info": {
   "file_extension": ".jl",
   "mimetype": "application/julia",
   "name": "julia",
   "version": "1.9.1"
  }
 },
 "nbformat": 4,
 "nbformat_minor": 5
}
